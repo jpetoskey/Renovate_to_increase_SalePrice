{
 "cells": [
  {
   "cell_type": "markdown",
   "metadata": {},
   "source": [
    "## Final Project Submission\n",
    "\n",
    "* Student name: Jim Petoskey\n",
    "* Student pace: Self-paced\n",
    "* Scheduled project review date/time: Friday Feb 25, 2022 at 10:30 am \n",
    "* Instructor name: Abhineet Kulkarni\n",
    "* Blog post URL: \n",
    "https://dev.to/jpetoskey/reap-return-on-home-remodel-35cm-temp-slug-7110869?preview=cfd57ff75f52f8f97d40012dae0383603926d95f772a119bd16af2d7e9d72c0486b48924df00a9b5660517361d1743d09317533548b17445419b7136\n"
   ]
  },
  {
   "cell_type": "markdown",
   "metadata": {},
   "source": [
    "# Return on Renovation\n",
    "* For homeowners looking to invest in their property, what renovations offer the best return?\n",
    "    * This project explores a variety of home price predictors to recommend which renovations are likely to increase sale price."
   ]
  },
  {
   "cell_type": "markdown",
   "metadata": {},
   "source": [
    "# Exploring Data"
   ]
  },
  {
   "cell_type": "code",
   "execution_count": 77,
   "metadata": {
    "ExecuteTime": {
     "end_time": "2022-02-24T15:28:26.012996Z",
     "start_time": "2022-02-24T15:28:25.996805Z"
    }
   },
   "outputs": [],
   "source": [
    "# Import standard packages\n",
    "import pandas as pd\n",
    "import numpy as np\n",
    "import matplotlib.pyplot as plt\n",
    "import seaborn as sns\n",
    "import statsmodels.api as sm\n",
    "from statsmodels.stats.outliers_influence import variance_inflation_factor\n",
    "from sklearn.linear_model import LinearRegression\n",
    "from sklearn.feature_selection import RFE\n",
    "from sklearn.preprocessing import PolynomialFeatures, StandardScaler\n",
    "from sklearn.preprocessing import LabelEncoder\n",
    "from sklearn.impute import MissingIndicator\n",
    "from sklearn.impute import SimpleImputer\n",
    "from sklearn.preprocessing import OneHotEncoder\n",
    "from sklearn.preprocessing import OrdinalEncoder\n",
    "from sklearn.model_selection import cross_validate, ShuffleSplit\n",
    "from sklearn.model_selection import train_test_split\n",
    "from sklearn.metrics import mean_squared_error\n",
    "from scipy.stats import zscore\n",
    "import random\n",
    "\n",
    "%matplotlib inline"
   ]
  },
  {
   "cell_type": "code",
   "execution_count": 78,
   "metadata": {
    "ExecuteTime": {
     "end_time": "2022-02-24T15:28:26.542179Z",
     "start_time": "2022-02-24T15:28:26.428332Z"
    }
   },
   "outputs": [],
   "source": [
    "house_df = pd.read_csv('data/kc_house_data.csv')\n",
    "#column_names = pd.read_csv('data/column_names.md')"
   ]
  },
  {
   "cell_type": "markdown",
   "metadata": {},
   "source": [
    "## What's in kc_house_data?"
   ]
  },
  {
   "cell_type": "code",
   "execution_count": 79,
   "metadata": {
    "ExecuteTime": {
     "end_time": "2022-02-24T15:28:27.463801Z",
     "start_time": "2022-02-24T15:28:27.431423Z"
    }
   },
   "outputs": [
    {
     "name": "stdout",
     "output_type": "stream",
     "text": [
      "<class 'pandas.core.frame.DataFrame'>\n",
      "RangeIndex: 21597 entries, 0 to 21596\n",
      "Data columns (total 21 columns):\n",
      " #   Column         Non-Null Count  Dtype  \n",
      "---  ------         --------------  -----  \n",
      " 0   id             21597 non-null  int64  \n",
      " 1   date           21597 non-null  object \n",
      " 2   price          21597 non-null  float64\n",
      " 3   bedrooms       21597 non-null  int64  \n",
      " 4   bathrooms      21597 non-null  float64\n",
      " 5   sqft_living    21597 non-null  int64  \n",
      " 6   sqft_lot       21597 non-null  int64  \n",
      " 7   floors         21597 non-null  float64\n",
      " 8   waterfront     19221 non-null  object \n",
      " 9   view           21534 non-null  object \n",
      " 10  condition      21597 non-null  object \n",
      " 11  grade          21597 non-null  object \n",
      " 12  sqft_above     21597 non-null  int64  \n",
      " 13  sqft_basement  21597 non-null  object \n",
      " 14  yr_built       21597 non-null  int64  \n",
      " 15  yr_renovated   17755 non-null  float64\n",
      " 16  zipcode        21597 non-null  int64  \n",
      " 17  lat            21597 non-null  float64\n",
      " 18  long           21597 non-null  float64\n",
      " 19  sqft_living15  21597 non-null  int64  \n",
      " 20  sqft_lot15     21597 non-null  int64  \n",
      "dtypes: float64(6), int64(9), object(6)\n",
      "memory usage: 3.5+ MB\n"
     ]
    }
   ],
   "source": [
    "house_df.info()"
   ]
  },
  {
   "cell_type": "code",
   "execution_count": 80,
   "metadata": {
    "ExecuteTime": {
     "end_time": "2022-02-24T15:28:28.087142Z",
     "start_time": "2022-02-24T15:28:28.018843Z"
    }
   },
   "outputs": [
    {
     "data": {
      "text/html": [
       "<div>\n",
       "<style scoped>\n",
       "    .dataframe tbody tr th:only-of-type {\n",
       "        vertical-align: middle;\n",
       "    }\n",
       "\n",
       "    .dataframe tbody tr th {\n",
       "        vertical-align: top;\n",
       "    }\n",
       "\n",
       "    .dataframe thead th {\n",
       "        text-align: right;\n",
       "    }\n",
       "</style>\n",
       "<table border=\"1\" class=\"dataframe\">\n",
       "  <thead>\n",
       "    <tr style=\"text-align: right;\">\n",
       "      <th></th>\n",
       "      <th>id</th>\n",
       "      <th>date</th>\n",
       "      <th>price</th>\n",
       "      <th>bedrooms</th>\n",
       "      <th>bathrooms</th>\n",
       "      <th>sqft_living</th>\n",
       "      <th>sqft_lot</th>\n",
       "      <th>floors</th>\n",
       "      <th>waterfront</th>\n",
       "      <th>view</th>\n",
       "      <th>...</th>\n",
       "      <th>grade</th>\n",
       "      <th>sqft_above</th>\n",
       "      <th>sqft_basement</th>\n",
       "      <th>yr_built</th>\n",
       "      <th>yr_renovated</th>\n",
       "      <th>zipcode</th>\n",
       "      <th>lat</th>\n",
       "      <th>long</th>\n",
       "      <th>sqft_living15</th>\n",
       "      <th>sqft_lot15</th>\n",
       "    </tr>\n",
       "  </thead>\n",
       "  <tbody>\n",
       "    <tr>\n",
       "      <th>0</th>\n",
       "      <td>7129300520</td>\n",
       "      <td>10/13/2014</td>\n",
       "      <td>221900.0</td>\n",
       "      <td>3</td>\n",
       "      <td>1.00</td>\n",
       "      <td>1180</td>\n",
       "      <td>5650</td>\n",
       "      <td>1.0</td>\n",
       "      <td>NaN</td>\n",
       "      <td>NONE</td>\n",
       "      <td>...</td>\n",
       "      <td>7 Average</td>\n",
       "      <td>1180</td>\n",
       "      <td>0.0</td>\n",
       "      <td>1955</td>\n",
       "      <td>0.0</td>\n",
       "      <td>98178</td>\n",
       "      <td>47.5112</td>\n",
       "      <td>-122.257</td>\n",
       "      <td>1340</td>\n",
       "      <td>5650</td>\n",
       "    </tr>\n",
       "    <tr>\n",
       "      <th>1</th>\n",
       "      <td>6414100192</td>\n",
       "      <td>12/9/2014</td>\n",
       "      <td>538000.0</td>\n",
       "      <td>3</td>\n",
       "      <td>2.25</td>\n",
       "      <td>2570</td>\n",
       "      <td>7242</td>\n",
       "      <td>2.0</td>\n",
       "      <td>NO</td>\n",
       "      <td>NONE</td>\n",
       "      <td>...</td>\n",
       "      <td>7 Average</td>\n",
       "      <td>2170</td>\n",
       "      <td>400.0</td>\n",
       "      <td>1951</td>\n",
       "      <td>1991.0</td>\n",
       "      <td>98125</td>\n",
       "      <td>47.7210</td>\n",
       "      <td>-122.319</td>\n",
       "      <td>1690</td>\n",
       "      <td>7639</td>\n",
       "    </tr>\n",
       "    <tr>\n",
       "      <th>2</th>\n",
       "      <td>5631500400</td>\n",
       "      <td>2/25/2015</td>\n",
       "      <td>180000.0</td>\n",
       "      <td>2</td>\n",
       "      <td>1.00</td>\n",
       "      <td>770</td>\n",
       "      <td>10000</td>\n",
       "      <td>1.0</td>\n",
       "      <td>NO</td>\n",
       "      <td>NONE</td>\n",
       "      <td>...</td>\n",
       "      <td>6 Low Average</td>\n",
       "      <td>770</td>\n",
       "      <td>0.0</td>\n",
       "      <td>1933</td>\n",
       "      <td>NaN</td>\n",
       "      <td>98028</td>\n",
       "      <td>47.7379</td>\n",
       "      <td>-122.233</td>\n",
       "      <td>2720</td>\n",
       "      <td>8062</td>\n",
       "    </tr>\n",
       "    <tr>\n",
       "      <th>3</th>\n",
       "      <td>2487200875</td>\n",
       "      <td>12/9/2014</td>\n",
       "      <td>604000.0</td>\n",
       "      <td>4</td>\n",
       "      <td>3.00</td>\n",
       "      <td>1960</td>\n",
       "      <td>5000</td>\n",
       "      <td>1.0</td>\n",
       "      <td>NO</td>\n",
       "      <td>NONE</td>\n",
       "      <td>...</td>\n",
       "      <td>7 Average</td>\n",
       "      <td>1050</td>\n",
       "      <td>910.0</td>\n",
       "      <td>1965</td>\n",
       "      <td>0.0</td>\n",
       "      <td>98136</td>\n",
       "      <td>47.5208</td>\n",
       "      <td>-122.393</td>\n",
       "      <td>1360</td>\n",
       "      <td>5000</td>\n",
       "    </tr>\n",
       "    <tr>\n",
       "      <th>4</th>\n",
       "      <td>1954400510</td>\n",
       "      <td>2/18/2015</td>\n",
       "      <td>510000.0</td>\n",
       "      <td>3</td>\n",
       "      <td>2.00</td>\n",
       "      <td>1680</td>\n",
       "      <td>8080</td>\n",
       "      <td>1.0</td>\n",
       "      <td>NO</td>\n",
       "      <td>NONE</td>\n",
       "      <td>...</td>\n",
       "      <td>8 Good</td>\n",
       "      <td>1680</td>\n",
       "      <td>0.0</td>\n",
       "      <td>1987</td>\n",
       "      <td>0.0</td>\n",
       "      <td>98074</td>\n",
       "      <td>47.6168</td>\n",
       "      <td>-122.045</td>\n",
       "      <td>1800</td>\n",
       "      <td>7503</td>\n",
       "    </tr>\n",
       "    <tr>\n",
       "      <th>...</th>\n",
       "      <td>...</td>\n",
       "      <td>...</td>\n",
       "      <td>...</td>\n",
       "      <td>...</td>\n",
       "      <td>...</td>\n",
       "      <td>...</td>\n",
       "      <td>...</td>\n",
       "      <td>...</td>\n",
       "      <td>...</td>\n",
       "      <td>...</td>\n",
       "      <td>...</td>\n",
       "      <td>...</td>\n",
       "      <td>...</td>\n",
       "      <td>...</td>\n",
       "      <td>...</td>\n",
       "      <td>...</td>\n",
       "      <td>...</td>\n",
       "      <td>...</td>\n",
       "      <td>...</td>\n",
       "      <td>...</td>\n",
       "      <td>...</td>\n",
       "    </tr>\n",
       "    <tr>\n",
       "      <th>21592</th>\n",
       "      <td>263000018</td>\n",
       "      <td>5/21/2014</td>\n",
       "      <td>360000.0</td>\n",
       "      <td>3</td>\n",
       "      <td>2.50</td>\n",
       "      <td>1530</td>\n",
       "      <td>1131</td>\n",
       "      <td>3.0</td>\n",
       "      <td>NO</td>\n",
       "      <td>NONE</td>\n",
       "      <td>...</td>\n",
       "      <td>8 Good</td>\n",
       "      <td>1530</td>\n",
       "      <td>0.0</td>\n",
       "      <td>2009</td>\n",
       "      <td>0.0</td>\n",
       "      <td>98103</td>\n",
       "      <td>47.6993</td>\n",
       "      <td>-122.346</td>\n",
       "      <td>1530</td>\n",
       "      <td>1509</td>\n",
       "    </tr>\n",
       "    <tr>\n",
       "      <th>21593</th>\n",
       "      <td>6600060120</td>\n",
       "      <td>2/23/2015</td>\n",
       "      <td>400000.0</td>\n",
       "      <td>4</td>\n",
       "      <td>2.50</td>\n",
       "      <td>2310</td>\n",
       "      <td>5813</td>\n",
       "      <td>2.0</td>\n",
       "      <td>NO</td>\n",
       "      <td>NONE</td>\n",
       "      <td>...</td>\n",
       "      <td>8 Good</td>\n",
       "      <td>2310</td>\n",
       "      <td>0.0</td>\n",
       "      <td>2014</td>\n",
       "      <td>0.0</td>\n",
       "      <td>98146</td>\n",
       "      <td>47.5107</td>\n",
       "      <td>-122.362</td>\n",
       "      <td>1830</td>\n",
       "      <td>7200</td>\n",
       "    </tr>\n",
       "    <tr>\n",
       "      <th>21594</th>\n",
       "      <td>1523300141</td>\n",
       "      <td>6/23/2014</td>\n",
       "      <td>402101.0</td>\n",
       "      <td>2</td>\n",
       "      <td>0.75</td>\n",
       "      <td>1020</td>\n",
       "      <td>1350</td>\n",
       "      <td>2.0</td>\n",
       "      <td>NO</td>\n",
       "      <td>NONE</td>\n",
       "      <td>...</td>\n",
       "      <td>7 Average</td>\n",
       "      <td>1020</td>\n",
       "      <td>0.0</td>\n",
       "      <td>2009</td>\n",
       "      <td>0.0</td>\n",
       "      <td>98144</td>\n",
       "      <td>47.5944</td>\n",
       "      <td>-122.299</td>\n",
       "      <td>1020</td>\n",
       "      <td>2007</td>\n",
       "    </tr>\n",
       "    <tr>\n",
       "      <th>21595</th>\n",
       "      <td>291310100</td>\n",
       "      <td>1/16/2015</td>\n",
       "      <td>400000.0</td>\n",
       "      <td>3</td>\n",
       "      <td>2.50</td>\n",
       "      <td>1600</td>\n",
       "      <td>2388</td>\n",
       "      <td>2.0</td>\n",
       "      <td>NaN</td>\n",
       "      <td>NONE</td>\n",
       "      <td>...</td>\n",
       "      <td>8 Good</td>\n",
       "      <td>1600</td>\n",
       "      <td>0.0</td>\n",
       "      <td>2004</td>\n",
       "      <td>0.0</td>\n",
       "      <td>98027</td>\n",
       "      <td>47.5345</td>\n",
       "      <td>-122.069</td>\n",
       "      <td>1410</td>\n",
       "      <td>1287</td>\n",
       "    </tr>\n",
       "    <tr>\n",
       "      <th>21596</th>\n",
       "      <td>1523300157</td>\n",
       "      <td>10/15/2014</td>\n",
       "      <td>325000.0</td>\n",
       "      <td>2</td>\n",
       "      <td>0.75</td>\n",
       "      <td>1020</td>\n",
       "      <td>1076</td>\n",
       "      <td>2.0</td>\n",
       "      <td>NO</td>\n",
       "      <td>NONE</td>\n",
       "      <td>...</td>\n",
       "      <td>7 Average</td>\n",
       "      <td>1020</td>\n",
       "      <td>0.0</td>\n",
       "      <td>2008</td>\n",
       "      <td>0.0</td>\n",
       "      <td>98144</td>\n",
       "      <td>47.5941</td>\n",
       "      <td>-122.299</td>\n",
       "      <td>1020</td>\n",
       "      <td>1357</td>\n",
       "    </tr>\n",
       "  </tbody>\n",
       "</table>\n",
       "<p>21597 rows × 21 columns</p>\n",
       "</div>"
      ],
      "text/plain": [
       "               id        date     price  bedrooms  bathrooms  sqft_living  \\\n",
       "0      7129300520  10/13/2014  221900.0         3       1.00         1180   \n",
       "1      6414100192   12/9/2014  538000.0         3       2.25         2570   \n",
       "2      5631500400   2/25/2015  180000.0         2       1.00          770   \n",
       "3      2487200875   12/9/2014  604000.0         4       3.00         1960   \n",
       "4      1954400510   2/18/2015  510000.0         3       2.00         1680   \n",
       "...           ...         ...       ...       ...        ...          ...   \n",
       "21592   263000018   5/21/2014  360000.0         3       2.50         1530   \n",
       "21593  6600060120   2/23/2015  400000.0         4       2.50         2310   \n",
       "21594  1523300141   6/23/2014  402101.0         2       0.75         1020   \n",
       "21595   291310100   1/16/2015  400000.0         3       2.50         1600   \n",
       "21596  1523300157  10/15/2014  325000.0         2       0.75         1020   \n",
       "\n",
       "       sqft_lot  floors waterfront  view  ...          grade sqft_above  \\\n",
       "0          5650     1.0        NaN  NONE  ...      7 Average       1180   \n",
       "1          7242     2.0         NO  NONE  ...      7 Average       2170   \n",
       "2         10000     1.0         NO  NONE  ...  6 Low Average        770   \n",
       "3          5000     1.0         NO  NONE  ...      7 Average       1050   \n",
       "4          8080     1.0         NO  NONE  ...         8 Good       1680   \n",
       "...         ...     ...        ...   ...  ...            ...        ...   \n",
       "21592      1131     3.0         NO  NONE  ...         8 Good       1530   \n",
       "21593      5813     2.0         NO  NONE  ...         8 Good       2310   \n",
       "21594      1350     2.0         NO  NONE  ...      7 Average       1020   \n",
       "21595      2388     2.0        NaN  NONE  ...         8 Good       1600   \n",
       "21596      1076     2.0         NO  NONE  ...      7 Average       1020   \n",
       "\n",
       "       sqft_basement yr_built  yr_renovated  zipcode      lat     long  \\\n",
       "0                0.0     1955           0.0    98178  47.5112 -122.257   \n",
       "1              400.0     1951        1991.0    98125  47.7210 -122.319   \n",
       "2                0.0     1933           NaN    98028  47.7379 -122.233   \n",
       "3              910.0     1965           0.0    98136  47.5208 -122.393   \n",
       "4                0.0     1987           0.0    98074  47.6168 -122.045   \n",
       "...              ...      ...           ...      ...      ...      ...   \n",
       "21592            0.0     2009           0.0    98103  47.6993 -122.346   \n",
       "21593            0.0     2014           0.0    98146  47.5107 -122.362   \n",
       "21594            0.0     2009           0.0    98144  47.5944 -122.299   \n",
       "21595            0.0     2004           0.0    98027  47.5345 -122.069   \n",
       "21596            0.0     2008           0.0    98144  47.5941 -122.299   \n",
       "\n",
       "       sqft_living15  sqft_lot15  \n",
       "0               1340        5650  \n",
       "1               1690        7639  \n",
       "2               2720        8062  \n",
       "3               1360        5000  \n",
       "4               1800        7503  \n",
       "...              ...         ...  \n",
       "21592           1530        1509  \n",
       "21593           1830        7200  \n",
       "21594           1020        2007  \n",
       "21595           1410        1287  \n",
       "21596           1020        1357  \n",
       "\n",
       "[21597 rows x 21 columns]"
      ]
     },
     "execution_count": 80,
     "metadata": {},
     "output_type": "execute_result"
    }
   ],
   "source": [
    "house_df"
   ]
  },
  {
   "cell_type": "markdown",
   "metadata": {},
   "source": [
    "# First Model - Baseline"
   ]
  },
  {
   "cell_type": "markdown",
   "metadata": {},
   "source": [
    "## Use 3-4 predictors from numerical data in the King County Housing data set to create baseline model."
   ]
  },
  {
   "cell_type": "code",
   "execution_count": 81,
   "metadata": {
    "ExecuteTime": {
     "end_time": "2022-02-24T15:28:29.430104Z",
     "start_time": "2022-02-24T15:28:29.408863Z"
    }
   },
   "outputs": [
    {
     "data": {
      "text/html": [
       "<div>\n",
       "<style scoped>\n",
       "    .dataframe tbody tr th:only-of-type {\n",
       "        vertical-align: middle;\n",
       "    }\n",
       "\n",
       "    .dataframe tbody tr th {\n",
       "        vertical-align: top;\n",
       "    }\n",
       "\n",
       "    .dataframe thead th {\n",
       "        text-align: right;\n",
       "    }\n",
       "</style>\n",
       "<table border=\"1\" class=\"dataframe\">\n",
       "  <thead>\n",
       "    <tr style=\"text-align: right;\">\n",
       "      <th></th>\n",
       "      <th>bedrooms</th>\n",
       "      <th>bathrooms</th>\n",
       "      <th>sqft_living</th>\n",
       "      <th>sqft_lot</th>\n",
       "      <th>floors</th>\n",
       "      <th>sqft_above</th>\n",
       "      <th>yr_built</th>\n",
       "      <th>yr_renovated</th>\n",
       "      <th>zipcode</th>\n",
       "      <th>sqft_living15</th>\n",
       "      <th>sqft_lot15</th>\n",
       "    </tr>\n",
       "  </thead>\n",
       "  <tbody>\n",
       "    <tr>\n",
       "      <th>0</th>\n",
       "      <td>3</td>\n",
       "      <td>1.00</td>\n",
       "      <td>1180</td>\n",
       "      <td>5650</td>\n",
       "      <td>1.0</td>\n",
       "      <td>1180</td>\n",
       "      <td>1955</td>\n",
       "      <td>0.0</td>\n",
       "      <td>98178</td>\n",
       "      <td>1340</td>\n",
       "      <td>5650</td>\n",
       "    </tr>\n",
       "    <tr>\n",
       "      <th>1</th>\n",
       "      <td>3</td>\n",
       "      <td>2.25</td>\n",
       "      <td>2570</td>\n",
       "      <td>7242</td>\n",
       "      <td>2.0</td>\n",
       "      <td>2170</td>\n",
       "      <td>1951</td>\n",
       "      <td>1991.0</td>\n",
       "      <td>98125</td>\n",
       "      <td>1690</td>\n",
       "      <td>7639</td>\n",
       "    </tr>\n",
       "    <tr>\n",
       "      <th>2</th>\n",
       "      <td>2</td>\n",
       "      <td>1.00</td>\n",
       "      <td>770</td>\n",
       "      <td>10000</td>\n",
       "      <td>1.0</td>\n",
       "      <td>770</td>\n",
       "      <td>1933</td>\n",
       "      <td>NaN</td>\n",
       "      <td>98028</td>\n",
       "      <td>2720</td>\n",
       "      <td>8062</td>\n",
       "    </tr>\n",
       "    <tr>\n",
       "      <th>3</th>\n",
       "      <td>4</td>\n",
       "      <td>3.00</td>\n",
       "      <td>1960</td>\n",
       "      <td>5000</td>\n",
       "      <td>1.0</td>\n",
       "      <td>1050</td>\n",
       "      <td>1965</td>\n",
       "      <td>0.0</td>\n",
       "      <td>98136</td>\n",
       "      <td>1360</td>\n",
       "      <td>5000</td>\n",
       "    </tr>\n",
       "    <tr>\n",
       "      <th>4</th>\n",
       "      <td>3</td>\n",
       "      <td>2.00</td>\n",
       "      <td>1680</td>\n",
       "      <td>8080</td>\n",
       "      <td>1.0</td>\n",
       "      <td>1680</td>\n",
       "      <td>1987</td>\n",
       "      <td>0.0</td>\n",
       "      <td>98074</td>\n",
       "      <td>1800</td>\n",
       "      <td>7503</td>\n",
       "    </tr>\n",
       "  </tbody>\n",
       "</table>\n",
       "</div>"
      ],
      "text/plain": [
       "   bedrooms  bathrooms  sqft_living  sqft_lot  floors  sqft_above  yr_built  \\\n",
       "0         3       1.00         1180      5650     1.0        1180      1955   \n",
       "1         3       2.25         2570      7242     2.0        2170      1951   \n",
       "2         2       1.00          770     10000     1.0         770      1933   \n",
       "3         4       3.00         1960      5000     1.0        1050      1965   \n",
       "4         3       2.00         1680      8080     1.0        1680      1987   \n",
       "\n",
       "   yr_renovated  zipcode  sqft_living15  sqft_lot15  \n",
       "0           0.0    98178           1340        5650  \n",
       "1        1991.0    98125           1690        7639  \n",
       "2           NaN    98028           2720        8062  \n",
       "3           0.0    98136           1360        5000  \n",
       "4           0.0    98074           1800        7503  "
      ]
     },
     "execution_count": 81,
     "metadata": {},
     "output_type": "execute_result"
    }
   ],
   "source": [
    "# set numerical data in new data frame\n",
    "numericals = house_df[['bedrooms', \n",
    "                       'bathrooms', \n",
    "                       'sqft_living', \n",
    "                       'sqft_lot', \n",
    "                       'floors',\n",
    "                       'sqft_above',\n",
    "                       'yr_built',\n",
    "                       'yr_renovated',\n",
    "                       'zipcode', \n",
    "                       'sqft_living15', \n",
    "                       'sqft_lot15']]\n",
    "\n",
    "# set target column\n",
    "y = house_df['price']\n",
    "\n",
    "numericals.head()"
   ]
  },
  {
   "cell_type": "code",
   "execution_count": 82,
   "metadata": {
    "ExecuteTime": {
     "end_time": "2022-02-24T15:28:31.217536Z",
     "start_time": "2022-02-24T15:28:30.094291Z"
    }
   },
   "outputs": [
    {
     "data": {
      "image/png": "[encoded data removed]",
      "text/plain": [
       "<Figure size 360x576 with 2 Axes>"
      ]
     },
     "metadata": {
      "needs_background": "light"
     },
     "output_type": "display_data"
    }
   ],
   "source": [
    "# Create a df with the target as the first column,\n",
    "# then compute the correlation matrix\n",
    "heatmap_data = pd.concat([numericals, y], axis=1)\n",
    "corr = heatmap_data.corr()\n",
    "\n",
    "# Set up figure and axes\n",
    "fig, ax = plt.subplots(figsize=(5, 8))\n",
    "\n",
    "# Plot a heatmap of the correlation matrix, with both\n",
    "# numbers and colors indicating the correlations\n",
    "sns.heatmap(\n",
    "    # Specifies the data to be plotted\n",
    "    data=corr,\n",
    "    # The mask means we only show half the values,\n",
    "    # instead of showing duplicates. It's optional.\n",
    "    mask=np.triu(np.ones_like(corr, dtype=bool)),\n",
    "    # Specifies that we should use the existing axes\n",
    "    ax=ax,\n",
    "    # Specifies that we want labels, not just colors\n",
    "    annot=True,\n",
    "    # Customizes colorbar appearance\n",
    "    cbar_kws={\"label\": \"Correlation\", \"orientation\": \"horizontal\", \"pad\": .2, \"extend\": \"both\"}\n",
    ")\n",
    "\n",
    "# Customize the plot appearance\n",
    "ax.set_title(\"Heatmap of Correlation Between Attributes (Including Target)\");"
   ]
  },
  {
   "cell_type": "markdown",
   "metadata": {},
   "source": [
    "### Build a model with the top three numerical values, then I will examine and likely add-in categoricals after one-hot-encoding the non-numericals.\n",
    "\n",
    "* The top three predictors are: sqft_living, (dropping sqft_above and sqft_living15 - see explanation below), bathrooms, and bedrooms.\n",
    "\n",
    "* I will drop two of the three sqft_living, sqft_living15, and sqft_above because they  exhibit strong correlation to each other and likely strong multicollinearity.  Considering sqft_living has a stronger correlation to price, which is our target, I will drop sqft_living15 and sqft_above."
   ]
  },
  {
   "cell_type": "code",
   "execution_count": 345,
   "metadata": {
    "ExecuteTime": {
     "end_time": "2022-02-24T16:00:58.624406Z",
     "start_time": "2022-02-24T16:00:55.446143Z"
    }
   },
   "outputs": [
    {
     "data": {
      "image/png": "[encoded data removed]",
      "text/plain": [
       "<Figure size 576x576 with 4 Axes>"
      ]
     },
     "metadata": {
      "needs_background": "light"
     },
     "output_type": "display_data"
    }
   ],
   "source": [
    "# Set top three numerical values\n",
    "t3_numericals = house_df[['sqft_living', 'bathrooms', 'bedrooms', 'price']]\n",
    "\n",
    "# Look at histograms for patterns\n",
    "t3_numericals.hist(figsize = [8, 8], bins='auto');"
   ]
  },
  {
   "cell_type": "markdown",
   "metadata": {},
   "source": [
    "### Log Tranformations\n",
    "* Remove outliers later - especially in the bedrooms and sqft_living categories."
   ]
  },
  {
   "cell_type": "code",
   "execution_count": 346,
   "metadata": {
    "ExecuteTime": {
     "end_time": "2022-02-24T16:01:00.561558Z",
     "start_time": "2022-02-24T16:00:58.632769Z"
    }
   },
   "outputs": [
    {
     "data": {
      "image/png": "[encoded data removed]",
      "text/plain": [
       "<Figure size 720x720 with 4 Axes>"
      ]
     },
     "metadata": {
      "needs_background": "light"
     },
     "output_type": "display_data"
    }
   ],
   "source": [
    "# Perform log transformations for t3_numericals \n",
    "\n",
    "log_names = [f'{column}_log' for column in t3_numericals.columns]\n",
    "\n",
    "house_log = np.log(t3_numericals)\n",
    "house_log.columns = log_names\n",
    "house_log.hist(figsize=(10, 10), bins='auto')\n",
    "fig.tight_layout();"
   ]
  },
  {
   "cell_type": "markdown",
   "metadata": {},
   "source": [
    "### Normalization\n",
    "* Skewness from outliers reduced with the log function performed."
   ]
  },
  {
   "cell_type": "code",
   "execution_count": 347,
   "metadata": {
    "ExecuteTime": {
     "end_time": "2022-02-24T16:01:01.329592Z",
     "start_time": "2022-02-24T16:01:00.567448Z"
    }
   },
   "outputs": [
    {
     "data": {
      "image/png": "[encoded data removed]",
      "text/plain": [
       "<Figure size 576x576 with 4 Axes>"
      ]
     },
     "metadata": {
      "needs_background": "light"
     },
     "output_type": "display_data"
    }
   ],
   "source": [
    "# Standardize the log features\n",
    "\n",
    "def normalize(feature):\n",
    "    return (feature - feature.mean()) / feature.std()\n",
    "\n",
    "features_final = house_log.apply(normalize)\n",
    "\n",
    "features_final.hist(figsize  = [8, 8]);"
   ]
  },
  {
   "cell_type": "code",
   "execution_count": 86,
   "metadata": {
    "ExecuteTime": {
     "end_time": "2022-02-24T15:28:37.119980Z",
     "start_time": "2022-02-24T15:28:37.093071Z"
    }
   },
   "outputs": [
    {
     "data": {
      "text/html": [
       "<div>\n",
       "<style scoped>\n",
       "    .dataframe tbody tr th:only-of-type {\n",
       "        vertical-align: middle;\n",
       "    }\n",
       "\n",
       "    .dataframe tbody tr th {\n",
       "        vertical-align: top;\n",
       "    }\n",
       "\n",
       "    .dataframe thead th {\n",
       "        text-align: right;\n",
       "    }\n",
       "</style>\n",
       "<table border=\"1\" class=\"dataframe\">\n",
       "  <thead>\n",
       "    <tr style=\"text-align: right;\">\n",
       "      <th></th>\n",
       "      <th>sqft_living_log</th>\n",
       "      <th>bathrooms_log</th>\n",
       "      <th>bedrooms_log</th>\n",
       "      <th>price_log</th>\n",
       "    </tr>\n",
       "  </thead>\n",
       "  <tbody>\n",
       "    <tr>\n",
       "      <th>0</th>\n",
       "      <td>-1.125556</td>\n",
       "      <td>-1.726509</td>\n",
       "      <td>-0.279718</td>\n",
       "      <td>-1.401998</td>\n",
       "    </tr>\n",
       "    <tr>\n",
       "      <th>1</th>\n",
       "      <td>0.709446</td>\n",
       "      <td>0.339653</td>\n",
       "      <td>-0.279718</td>\n",
       "      <td>0.279938</td>\n",
       "    </tr>\n",
       "    <tr>\n",
       "      <th>2</th>\n",
       "      <td>-2.131893</td>\n",
       "      <td>-1.726509</td>\n",
       "      <td>-1.711611</td>\n",
       "      <td>-1.799430</td>\n",
       "    </tr>\n",
       "    <tr>\n",
       "      <th>3</th>\n",
       "      <td>0.070674</td>\n",
       "      <td>1.072635</td>\n",
       "      <td>0.736226</td>\n",
       "      <td>0.499698</td>\n",
       "    </tr>\n",
       "    <tr>\n",
       "      <th>4</th>\n",
       "      <td>-0.292725</td>\n",
       "      <td>0.039555</td>\n",
       "      <td>-0.279718</td>\n",
       "      <td>0.178434</td>\n",
       "    </tr>\n",
       "  </tbody>\n",
       "</table>\n",
       "</div>"
      ],
      "text/plain": [
       "   sqft_living_log  bathrooms_log  bedrooms_log  price_log\n",
       "0        -1.125556      -1.726509     -0.279718  -1.401998\n",
       "1         0.709446       0.339653     -0.279718   0.279938\n",
       "2        -2.131893      -1.726509     -1.711611  -1.799430\n",
       "3         0.070674       1.072635      0.736226   0.499698\n",
       "4        -0.292725       0.039555     -0.279718   0.178434"
      ]
     },
     "execution_count": 86,
     "metadata": {},
     "output_type": "execute_result"
    }
   ],
   "source": [
    "features_final.head()"
   ]
  },
  {
   "cell_type": "code",
   "execution_count": 87,
   "metadata": {
    "ExecuteTime": {
     "end_time": "2022-02-24T15:28:37.194316Z",
     "start_time": "2022-02-24T15:28:37.122910Z"
    }
   },
   "outputs": [
    {
     "data": {
      "text/html": [
       "<table class=\"simpletable\">\n",
       "<caption>OLS Regression Results</caption>\n",
       "<tr>\n",
       "  <th>Dep. Variable:</th>        <td>price_log</td>    <th>  R-squared:         </th> <td>   0.471</td> \n",
       "</tr>\n",
       "<tr>\n",
       "  <th>Model:</th>                   <td>OLS</td>       <th>  Adj. R-squared:    </th> <td>   0.471</td> \n",
       "</tr>\n",
       "<tr>\n",
       "  <th>Method:</th>             <td>Least Squares</td>  <th>  F-statistic:       </th> <td>   6414.</td> \n",
       "</tr>\n",
       "<tr>\n",
       "  <th>Date:</th>             <td>Thu, 24 Feb 2022</td> <th>  Prob (F-statistic):</th>  <td>  0.00</td>  \n",
       "</tr>\n",
       "<tr>\n",
       "  <th>Time:</th>                 <td>08:28:37</td>     <th>  Log-Likelihood:    </th> <td> -23764.</td> \n",
       "</tr>\n",
       "<tr>\n",
       "  <th>No. Observations:</th>      <td> 21597</td>      <th>  AIC:               </th> <td>4.754e+04</td>\n",
       "</tr>\n",
       "<tr>\n",
       "  <th>Df Residuals:</th>          <td> 21593</td>      <th>  BIC:               </th> <td>4.757e+04</td>\n",
       "</tr>\n",
       "<tr>\n",
       "  <th>Df Model:</th>              <td>     3</td>      <th>                     </th>     <td> </td>    \n",
       "</tr>\n",
       "<tr>\n",
       "  <th>Covariance Type:</th>      <td>nonrobust</td>    <th>                     </th>     <td> </td>    \n",
       "</tr>\n",
       "</table>\n",
       "<table class=\"simpletable\">\n",
       "<tr>\n",
       "         <td></td>            <th>coef</th>     <th>std err</th>      <th>t</th>      <th>P>|t|</th>  <th>[0.025</th>    <th>0.975]</th>  \n",
       "</tr>\n",
       "<tr>\n",
       "  <th>const</th>           <td> 1.343e-15</td> <td>    0.005</td> <td> 2.71e-13</td> <td> 1.000</td> <td>   -0.010</td> <td>    0.010</td>\n",
       "</tr>\n",
       "<tr>\n",
       "  <th>sqft_living_log</th> <td>    0.7572</td> <td>    0.008</td> <td>   89.141</td> <td> 0.000</td> <td>    0.741</td> <td>    0.774</td>\n",
       "</tr>\n",
       "<tr>\n",
       "  <th>bathrooms_log</th>   <td>    0.0325</td> <td>    0.008</td> <td>    4.244</td> <td> 0.000</td> <td>    0.017</td> <td>    0.047</td>\n",
       "</tr>\n",
       "<tr>\n",
       "  <th>bedrooms_log</th>    <td>   -0.1652</td> <td>    0.007</td> <td>  -25.342</td> <td> 0.000</td> <td>   -0.178</td> <td>   -0.152</td>\n",
       "</tr>\n",
       "</table>\n",
       "<table class=\"simpletable\">\n",
       "<tr>\n",
       "  <th>Omnibus:</th>       <td>104.465</td> <th>  Durbin-Watson:     </th> <td>   1.980</td>\n",
       "</tr>\n",
       "<tr>\n",
       "  <th>Prob(Omnibus):</th> <td> 0.000</td>  <th>  Jarque-Bera (JB):  </th> <td>  99.162</td>\n",
       "</tr>\n",
       "<tr>\n",
       "  <th>Skew:</th>          <td> 0.139</td>  <th>  Prob(JB):          </th> <td>2.93e-22</td>\n",
       "</tr>\n",
       "<tr>\n",
       "  <th>Kurtosis:</th>      <td> 2.820</td>  <th>  Cond. No.          </th> <td>    3.24</td>\n",
       "</tr>\n",
       "</table><br/><br/>Notes:<br/>[1] Standard Errors assume that the covariance matrix of the errors is correctly specified."
      ],
      "text/plain": [
       "<class 'statsmodels.iolib.summary.Summary'>\n",
       "\"\"\"\n",
       "                            OLS Regression Results                            \n",
       "==============================================================================\n",
       "Dep. Variable:              price_log   R-squared:                       0.471\n",
       "Model:                            OLS   Adj. R-squared:                  0.471\n",
       "Method:                 Least Squares   F-statistic:                     6414.\n",
       "Date:                Thu, 24 Feb 2022   Prob (F-statistic):               0.00\n",
       "Time:                        08:28:37   Log-Likelihood:                -23764.\n",
       "No. Observations:               21597   AIC:                         4.754e+04\n",
       "Df Residuals:                   21593   BIC:                         4.757e+04\n",
       "Df Model:                           3                                         \n",
       "Covariance Type:            nonrobust                                         \n",
       "===================================================================================\n",
       "                      coef    std err          t      P>|t|      [0.025      0.975]\n",
       "-----------------------------------------------------------------------------------\n",
       "const            1.343e-15      0.005   2.71e-13      1.000      -0.010       0.010\n",
       "sqft_living_log     0.7572      0.008     89.141      0.000       0.741       0.774\n",
       "bathrooms_log       0.0325      0.008      4.244      0.000       0.017       0.047\n",
       "bedrooms_log       -0.1652      0.007    -25.342      0.000      -0.178      -0.152\n",
       "==============================================================================\n",
       "Omnibus:                      104.465   Durbin-Watson:                   1.980\n",
       "Prob(Omnibus):                  0.000   Jarque-Bera (JB):               99.162\n",
       "Skew:                           0.139   Prob(JB):                     2.93e-22\n",
       "Kurtosis:                       2.820   Cond. No.                         3.24\n",
       "==============================================================================\n",
       "\n",
       "Notes:\n",
       "[1] Standard Errors assume that the covariance matrix of the errors is correctly specified.\n",
       "\"\"\""
      ]
     },
     "execution_count": 87,
     "metadata": {},
     "output_type": "execute_result"
    }
   ],
   "source": [
    "# Model Summary\n",
    "X = features_final.drop(['price_log'], axis=1)\n",
    "y = features_final['price_log']\n",
    "\n",
    "X_int = sm.add_constant(X)\n",
    "model = sm.OLS(y,X_int).fit()\n",
    "model.summary()"
   ]
  },
  {
   "cell_type": "code",
   "execution_count": 532,
   "metadata": {
    "ExecuteTime": {
     "end_time": "2022-02-24T21:04:38.636030Z",
     "start_time": "2022-02-24T21:04:38.630107Z"
    }
   },
   "outputs": [],
   "source": [
    "first_model = features_final"
   ]
  },
  {
   "cell_type": "markdown",
   "metadata": {},
   "source": [
    "## Baseline Model - moderate R-squared value, good p-values, condition number, and identical Adjusted R-squared value.\n",
    "\n",
    "* The R-squared value is not very high, but hopefully it will increase after I modify some of the data and include categorical variables.  This seems like a solid baseline model to work from as the p-values for the predictors fall far below the threshold of 5%, the condition number is low, indicating low multicollinearity, the standard errors are all far lower than the values of the coefficients, and the adjusted R-squared value is identical to the R-squared value, indicating we have a very low bias.\n",
    "\n",
    "* As I alter the model, likely increasing complexity in order to increase the predictive capacity of the model, the adjusted R-squared value will probably not maintain equality or near-equality with the R-squared value."
   ]
  },
  {
   "cell_type": "markdown",
   "metadata": {},
   "source": [
    "## Train, Test, Split - First Model"
   ]
  },
  {
   "cell_type": "code",
   "execution_count": 533,
   "metadata": {
    "ExecuteTime": {
     "end_time": "2022-02-24T21:04:40.069847Z",
     "start_time": "2022-02-24T21:04:40.062720Z"
    }
   },
   "outputs": [],
   "source": [
    "X = first_model.drop('price_log', axis=1)\n",
    "y = first_model['price_log']"
   ]
  },
  {
   "cell_type": "code",
   "execution_count": 555,
   "metadata": {
    "ExecuteTime": {
     "end_time": "2022-02-24T21:05:46.822185Z",
     "start_time": "2022-02-24T21:05:46.810956Z"
    }
   },
   "outputs": [
    {
     "name": "stdout",
     "output_type": "stream",
     "text": [
      "12958 8639 12958 8639\n"
     ]
    }
   ],
   "source": [
    "# Split the data into training and test sets. Changed split size based on \n",
    "# the evaluation of train-test-split size below.  40% test size had a lower\n",
    "# average variance than 25% or 30%.\n",
    "\n",
    "X_train, X_test, y_train, y_test = train_test_split(X,y, test_size=0.4)\n",
    "\n",
    "# A brief preview of tts\n",
    "print(len(X_train), len(X_test), len(y_train), len(y_test))"
   ]
  },
  {
   "cell_type": "code",
   "execution_count": 556,
   "metadata": {
    "ExecuteTime": {
     "end_time": "2022-02-24T21:05:47.379514Z",
     "start_time": "2022-02-24T21:05:47.375689Z"
    }
   },
   "outputs": [],
   "source": [
    "linreg = LinearRegression()"
   ]
  },
  {
   "cell_type": "code",
   "execution_count": 557,
   "metadata": {
    "ExecuteTime": {
     "end_time": "2022-02-24T21:05:47.762551Z",
     "start_time": "2022-02-24T21:05:47.748591Z"
    }
   },
   "outputs": [
    {
     "data": {
      "text/plain": [
       "LinearRegression()"
      ]
     },
     "execution_count": 557,
     "metadata": {},
     "output_type": "execute_result"
    }
   ],
   "source": [
    "# Fit the model to train data\n",
    "linreg.fit(X_train, y_train)\n",
    "\n",
    "LinearRegression(copy_X=True, fit_intercept=True, n_jobs=None, normalize=False)"
   ]
  },
  {
   "cell_type": "code",
   "execution_count": 558,
   "metadata": {
    "ExecuteTime": {
     "end_time": "2022-02-24T21:05:48.201998Z",
     "start_time": "2022-02-24T21:05:48.191374Z"
    }
   },
   "outputs": [],
   "source": [
    "# Calculate predictions on training and test sets\n",
    "y_hat_train = linreg.predict(X_train)\n",
    "y_hat_test = linreg.predict(X_test)"
   ]
  },
  {
   "cell_type": "code",
   "execution_count": 559,
   "metadata": {
    "ExecuteTime": {
     "end_time": "2022-02-24T21:05:48.760745Z",
     "start_time": "2022-02-24T21:05:48.754007Z"
    }
   },
   "outputs": [],
   "source": [
    "# Calculate residuals\n",
    "train_residuals = y_hat_train - y_train\n",
    "test_residuals = y_hat_test - y_test"
   ]
  },
  {
   "cell_type": "code",
   "execution_count": 560,
   "metadata": {
    "ExecuteTime": {
     "end_time": "2022-02-24T21:05:49.210832Z",
     "start_time": "2022-02-24T21:05:49.200728Z"
    }
   },
   "outputs": [
    {
     "name": "stdout",
     "output_type": "stream",
     "text": [
      "Train Mean Squared Error: 0.5326927967530528\n",
      "Test Mean Squared Error: 0.5231689876637725\n"
     ]
    }
   ],
   "source": [
    "# Calculate training and test MSE\n",
    "train_mse = mean_squared_error(y_train, y_hat_train)\n",
    "test_mse = mean_squared_error(y_test, y_hat_test)\n",
    "print('Train Mean Squared Error:', train_mse)\n",
    "print('Test Mean Squared Error:', test_mse)"
   ]
  },
  {
   "cell_type": "markdown",
   "metadata": {},
   "source": [
    "## Evaluate the effect of train-test split size."
   ]
  },
  {
   "cell_type": "code",
   "execution_count": 561,
   "metadata": {
    "ExecuteTime": {
     "end_time": "2022-02-24T21:05:54.091181Z",
     "start_time": "2022-02-24T21:05:51.099458Z"
    },
    "scrolled": false
   },
   "outputs": [
    {
     "data": {
      "text/plain": [
       "<matplotlib.legend.Legend at 0x153545c40>"
      ]
     },
     "execution_count": 561,
     "metadata": {},
     "output_type": "execute_result"
    },
    {
     "data": {
      "image/png": "[encoded data removed]",
      "text/plain": [
       "<Figure size 432x288 with 1 Axes>"
      ]
     },
     "metadata": {
      "needs_background": "light"
     },
     "output_type": "display_data"
    }
   ],
   "source": [
    "random.seed(900)\n",
    "\n",
    "train_err = []\n",
    "test_err = []\n",
    "t_sizes = range(5,100,5)\n",
    "for t_size in t_sizes:\n",
    "    temp_train_err = []\n",
    "    temp_test_err = []\n",
    "    for i in range(10):\n",
    "        X_train, X_test, y_train, y_test = train_test_split(X, y, test_size=t_size/100)\n",
    "        linreg.fit(X_train, y_train)\n",
    "        y_hat_train = linreg.predict(X_train)\n",
    "        y_hat_test = linreg.predict(X_test)\n",
    "        temp_train_err.append(mean_squared_error(y_train, y_hat_train))\n",
    "        temp_test_err.append(mean_squared_error(y_test, y_hat_test))\n",
    "    train_err.append(np.mean(temp_train_err))\n",
    "    test_err.append(np.mean(temp_test_err))\n",
    "plt.scatter(t_sizes, train_err, label='Training Error')\n",
    "plt.scatter(t_sizes, test_err, label='Testing Error')\n",
    "plt.legend()"
   ]
  },
  {
   "cell_type": "markdown",
   "metadata": {},
   "source": [
    "# Preprocess Categorical Variables"
   ]
  },
  {
   "cell_type": "markdown",
   "metadata": {},
   "source": [
    "Variable Descriptions for Categorical Variables."
   ]
  },
  {
   "cell_type": "code",
   "execution_count": 232,
   "metadata": {
    "ExecuteTime": {
     "end_time": "2022-02-24T15:36:27.655877Z",
     "start_time": "2022-02-24T15:36:27.648329Z"
    }
   },
   "outputs": [],
   "source": [
    "# create categorical variable data set\n",
    "categoricals = house_df[['waterfront', \n",
    "                         'view', \n",
    "                         'condition', \n",
    "                         'grade'\n",
    "]]\n",
    "\n",
    "preprocessed = categoricals"
   ]
  },
  {
   "cell_type": "markdown",
   "metadata": {},
   "source": [
    "## Dropped columns - id, date, sqft_basement.\n",
    "* I dropped these columns because sqft_living is already incorporated into the model and other sqft categories had strong correlation with each other and would likely cause issues due to multicollinarity."
   ]
  },
  {
   "cell_type": "code",
   "execution_count": 233,
   "metadata": {
    "ExecuteTime": {
     "end_time": "2022-02-24T15:36:28.435459Z",
     "start_time": "2022-02-24T15:36:28.425472Z"
    }
   },
   "outputs": [
    {
     "data": {
      "text/plain": [
       "<bound method NDFrame.describe of       waterfront  view  condition          grade\n",
       "0            NaN  NONE    Average      7 Average\n",
       "1             NO  NONE    Average      7 Average\n",
       "2             NO  NONE    Average  6 Low Average\n",
       "3             NO  NONE  Very Good      7 Average\n",
       "4             NO  NONE    Average         8 Good\n",
       "...          ...   ...        ...            ...\n",
       "21592         NO  NONE    Average         8 Good\n",
       "21593         NO  NONE    Average         8 Good\n",
       "21594         NO  NONE    Average      7 Average\n",
       "21595        NaN  NONE    Average         8 Good\n",
       "21596         NO  NONE    Average      7 Average\n",
       "\n",
       "[21597 rows x 4 columns]>"
      ]
     },
     "execution_count": 233,
     "metadata": {},
     "output_type": "execute_result"
    }
   ],
   "source": [
    "categoricals.describe"
   ]
  },
  {
   "cell_type": "markdown",
   "metadata": {},
   "source": [
    "## Plot categoricals to look for correlation to price."
   ]
  },
  {
   "cell_type": "code",
   "execution_count": 234,
   "metadata": {
    "ExecuteTime": {
     "end_time": "2022-02-24T15:36:30.052384Z",
     "start_time": "2022-02-24T15:36:28.928947Z"
    }
   },
   "outputs": [
    {
     "data": {
      "image/png": "[encoded data removed]",
      "text/plain": [
       "<Figure size 1152x720 with 4 Axes>"
      ]
     },
     "metadata": {
      "needs_background": "light"
     },
     "output_type": "display_data"
    }
   ],
   "source": [
    "fig, axes = plt.subplots(nrows=2, ncols=2, figsize=(16,10), sharey=True)\n",
    "\n",
    "for col, ax in zip(categoricals, axes.flatten()):\n",
    "    (house_df.groupby(col)               # group values together by column of interest\n",
    "         .mean()['price']        # take the mean of the saleprice for each group\n",
    "         .sort_values()              # sort the groups in ascending order\n",
    "         .plot\n",
    "         .bar(ax=ax))                # create a bar graph on the ax\n",
    "    \n",
    "    ax.set_title(col)                # Make the title the name of the column\n",
    "    \n",
    "fig.tight_layout()"
   ]
  },
  {
   "cell_type": "markdown",
   "metadata": {},
   "source": [
    "### Promising Predictors - seem to correlate well with price from a visual inspection."
   ]
  },
  {
   "cell_type": "markdown",
   "metadata": {},
   "source": [
    "## Investigate nan values"
   ]
  },
  {
   "cell_type": "code",
   "execution_count": 235,
   "metadata": {
    "ExecuteTime": {
     "end_time": "2022-02-24T15:36:30.069437Z",
     "start_time": "2022-02-24T15:36:30.055362Z"
    }
   },
   "outputs": [
    {
     "data": {
      "text/plain": [
       "waterfront    2376\n",
       "view            63\n",
       "condition        0\n",
       "grade            0\n",
       "dtype: int64"
      ]
     },
     "execution_count": 235,
     "metadata": {},
     "output_type": "execute_result"
    }
   ],
   "source": [
    "categoricals.isnull().sum()"
   ]
  },
  {
   "cell_type": "code",
   "execution_count": 236,
   "metadata": {
    "ExecuteTime": {
     "end_time": "2022-02-24T15:36:30.088704Z",
     "start_time": "2022-02-24T15:36:30.073419Z"
    },
    "scrolled": true
   },
   "outputs": [
    {
     "data": {
      "text/plain": [
       "NONE         19422\n",
       "AVERAGE        957\n",
       "GOOD           508\n",
       "FAIR           330\n",
       "EXCELLENT      317\n",
       "NaN             63\n",
       "Name: view, dtype: int64"
      ]
     },
     "execution_count": 236,
     "metadata": {},
     "output_type": "execute_result"
    }
   ],
   "source": [
    "# checking for nan values from categoricals['view']\n",
    "categoricals['view'].value_counts(dropna=False)"
   ]
  },
  {
   "cell_type": "code",
   "execution_count": 237,
   "metadata": {
    "ExecuteTime": {
     "end_time": "2022-02-24T15:36:30.143783Z",
     "start_time": "2022-02-24T15:36:30.134997Z"
    }
   },
   "outputs": [],
   "source": [
    "# drops the whole row - removing some important data from other categories\n",
    "# categoricals.dropna(subset=['waterfront'], inplace=True)"
   ]
  },
  {
   "cell_type": "code",
   "execution_count": 238,
   "metadata": {
    "ExecuteTime": {
     "end_time": "2022-02-24T15:36:30.356570Z",
     "start_time": "2022-02-24T15:36:30.339800Z"
    }
   },
   "outputs": [
    {
     "data": {
      "text/plain": [
       "waterfront    2376\n",
       "view            63\n",
       "condition        0\n",
       "grade            0\n",
       "dtype: int64"
      ]
     },
     "execution_count": 238,
     "metadata": {},
     "output_type": "execute_result"
    }
   ],
   "source": [
    "categoricals.isnull().sum()"
   ]
  },
  {
   "cell_type": "markdown",
   "metadata": {},
   "source": [
    "### Investigate nan values - waterfront"
   ]
  },
  {
   "cell_type": "code",
   "execution_count": 239,
   "metadata": {
    "ExecuteTime": {
     "end_time": "2022-02-24T15:36:30.831347Z",
     "start_time": "2022-02-24T15:36:30.815141Z"
    }
   },
   "outputs": [
    {
     "data": {
      "text/plain": [
       "NO     19075\n",
       "NaN     2376\n",
       "YES      146\n",
       "Name: waterfront, dtype: int64"
      ]
     },
     "execution_count": 239,
     "metadata": {},
     "output_type": "execute_result"
    }
   ],
   "source": [
    "categoricals['waterfront'].value_counts(dropna=False)"
   ]
  },
  {
   "cell_type": "markdown",
   "metadata": {},
   "source": [
    "#### Create Missing Values Column - waterfront\n",
    "* Saves nan information in the case that it is valuable later."
   ]
  },
  {
   "cell_type": "code",
   "execution_count": 240,
   "metadata": {
    "ExecuteTime": {
     "end_time": "2022-02-24T15:36:31.292858Z",
     "start_time": "2022-02-24T15:36:31.272949Z"
    }
   },
   "outputs": [
    {
     "data": {
      "text/plain": [
       "array([[ True],\n",
       "       [False],\n",
       "       [False],\n",
       "       ...,\n",
       "       [False],\n",
       "       [ True],\n",
       "       [False]])"
      ]
     },
     "execution_count": 240,
     "metadata": {},
     "output_type": "execute_result"
    }
   ],
   "source": [
    "# (1) Identify data to be transformed\n",
    "# We only want missing indicators for LotFrontage\n",
    "waterfront_train = categoricals[[\"waterfront\"]]\n",
    "\n",
    "# (2) Instantiate the transformer object\n",
    "missing_indicator = MissingIndicator()\n",
    "\n",
    "# (3) Fit the transformer object on waterfront_train\n",
    "missing_indicator.fit(waterfront_train)\n",
    "\n",
    "# (4) Transform waterfront_train and assign the result\n",
    "# to waterfront_missing_train\n",
    "waterfront_missing_train = missing_indicator.transform(waterfront_train)\n",
    "\n",
    "# Visually inspect waterfront_missing_train\n",
    "waterfront_missing_train"
   ]
  },
  {
   "cell_type": "markdown",
   "metadata": {},
   "source": [
    "##### Ensure waterfront_train is array of arrays containing True/False."
   ]
  },
  {
   "cell_type": "code",
   "execution_count": 241,
   "metadata": {
    "ExecuteTime": {
     "end_time": "2022-02-24T15:36:32.048392Z",
     "start_time": "2022-02-24T15:36:32.037691Z"
    }
   },
   "outputs": [],
   "source": [
    "# waterfront_missing_train should be a NumPy array\n",
    "assert type(waterfront_missing_train) == np.ndarray\n",
    "\n",
    "# We should have the same number of rows as the full X_train\n",
    "assert waterfront_missing_train.shape[0] == categoricals.shape[0]\n",
    "\n",
    "# But we should only have 1 column\n",
    "assert waterfront_missing_train.shape[1] == 1"
   ]
  },
  {
   "cell_type": "code",
   "execution_count": 242,
   "metadata": {
    "ExecuteTime": {
     "end_time": "2022-02-24T15:36:32.337098Z",
     "start_time": "2022-02-24T15:36:32.305398Z"
    }
   },
   "outputs": [
    {
     "name": "stderr",
     "output_type": "stream",
     "text": [
      "<ipython-input-242-088c5258e668>:2: SettingWithCopyWarning: \n",
      "A value is trying to be set on a copy of a slice from a DataFrame.\n",
      "Try using .loc[row_indexer,col_indexer] = value instead\n",
      "\n",
      "See the caveats in the documentation: https://pandas.pydata.org/pandas-docs/stable/user_guide/indexing.html#returning-a-view-versus-a-copy\n",
      "  categoricals[\"waterfront_missing\"] = waterfront_missing_train\n"
     ]
    },
    {
     "data": {
      "text/html": [
       "<div>\n",
       "<style scoped>\n",
       "    .dataframe tbody tr th:only-of-type {\n",
       "        vertical-align: middle;\n",
       "    }\n",
       "\n",
       "    .dataframe tbody tr th {\n",
       "        vertical-align: top;\n",
       "    }\n",
       "\n",
       "    .dataframe thead th {\n",
       "        text-align: right;\n",
       "    }\n",
       "</style>\n",
       "<table border=\"1\" class=\"dataframe\">\n",
       "  <thead>\n",
       "    <tr style=\"text-align: right;\">\n",
       "      <th></th>\n",
       "      <th>waterfront</th>\n",
       "      <th>view</th>\n",
       "      <th>condition</th>\n",
       "      <th>grade</th>\n",
       "      <th>waterfront_missing</th>\n",
       "    </tr>\n",
       "  </thead>\n",
       "  <tbody>\n",
       "    <tr>\n",
       "      <th>0</th>\n",
       "      <td>NaN</td>\n",
       "      <td>NONE</td>\n",
       "      <td>Average</td>\n",
       "      <td>7 Average</td>\n",
       "      <td>True</td>\n",
       "    </tr>\n",
       "    <tr>\n",
       "      <th>1</th>\n",
       "      <td>NO</td>\n",
       "      <td>NONE</td>\n",
       "      <td>Average</td>\n",
       "      <td>7 Average</td>\n",
       "      <td>False</td>\n",
       "    </tr>\n",
       "    <tr>\n",
       "      <th>2</th>\n",
       "      <td>NO</td>\n",
       "      <td>NONE</td>\n",
       "      <td>Average</td>\n",
       "      <td>6 Low Average</td>\n",
       "      <td>False</td>\n",
       "    </tr>\n",
       "    <tr>\n",
       "      <th>3</th>\n",
       "      <td>NO</td>\n",
       "      <td>NONE</td>\n",
       "      <td>Very Good</td>\n",
       "      <td>7 Average</td>\n",
       "      <td>False</td>\n",
       "    </tr>\n",
       "    <tr>\n",
       "      <th>4</th>\n",
       "      <td>NO</td>\n",
       "      <td>NONE</td>\n",
       "      <td>Average</td>\n",
       "      <td>8 Good</td>\n",
       "      <td>False</td>\n",
       "    </tr>\n",
       "    <tr>\n",
       "      <th>...</th>\n",
       "      <td>...</td>\n",
       "      <td>...</td>\n",
       "      <td>...</td>\n",
       "      <td>...</td>\n",
       "      <td>...</td>\n",
       "    </tr>\n",
       "    <tr>\n",
       "      <th>21592</th>\n",
       "      <td>NO</td>\n",
       "      <td>NONE</td>\n",
       "      <td>Average</td>\n",
       "      <td>8 Good</td>\n",
       "      <td>False</td>\n",
       "    </tr>\n",
       "    <tr>\n",
       "      <th>21593</th>\n",
       "      <td>NO</td>\n",
       "      <td>NONE</td>\n",
       "      <td>Average</td>\n",
       "      <td>8 Good</td>\n",
       "      <td>False</td>\n",
       "    </tr>\n",
       "    <tr>\n",
       "      <th>21594</th>\n",
       "      <td>NO</td>\n",
       "      <td>NONE</td>\n",
       "      <td>Average</td>\n",
       "      <td>7 Average</td>\n",
       "      <td>False</td>\n",
       "    </tr>\n",
       "    <tr>\n",
       "      <th>21595</th>\n",
       "      <td>NaN</td>\n",
       "      <td>NONE</td>\n",
       "      <td>Average</td>\n",
       "      <td>8 Good</td>\n",
       "      <td>True</td>\n",
       "    </tr>\n",
       "    <tr>\n",
       "      <th>21596</th>\n",
       "      <td>NO</td>\n",
       "      <td>NONE</td>\n",
       "      <td>Average</td>\n",
       "      <td>7 Average</td>\n",
       "      <td>False</td>\n",
       "    </tr>\n",
       "  </tbody>\n",
       "</table>\n",
       "<p>21597 rows × 5 columns</p>\n",
       "</div>"
      ],
      "text/plain": [
       "      waterfront  view  condition          grade  waterfront_missing\n",
       "0            NaN  NONE    Average      7 Average                True\n",
       "1             NO  NONE    Average      7 Average               False\n",
       "2             NO  NONE    Average  6 Low Average               False\n",
       "3             NO  NONE  Very Good      7 Average               False\n",
       "4             NO  NONE    Average         8 Good               False\n",
       "...          ...   ...        ...            ...                 ...\n",
       "21592         NO  NONE    Average         8 Good               False\n",
       "21593         NO  NONE    Average         8 Good               False\n",
       "21594         NO  NONE    Average      7 Average               False\n",
       "21595        NaN  NONE    Average         8 Good                True\n",
       "21596         NO  NONE    Average      7 Average               False\n",
       "\n",
       "[21597 rows x 5 columns]"
      ]
     },
     "execution_count": 242,
     "metadata": {},
     "output_type": "execute_result"
    }
   ],
   "source": [
    "# add the transformed data to the categorical data\n",
    "categoricals[\"waterfront_missing\"] = waterfront_missing_train\n",
    "categoricals"
   ]
  },
  {
   "cell_type": "markdown",
   "metadata": {},
   "source": [
    "### Impute missing values for waterfront"
   ]
  },
  {
   "cell_type": "code",
   "execution_count": 243,
   "metadata": {
    "ExecuteTime": {
     "end_time": "2022-02-24T15:36:32.995967Z",
     "start_time": "2022-02-24T15:36:32.938599Z"
    }
   },
   "outputs": [
    {
     "data": {
      "text/plain": [
       "array([['NO'],\n",
       "       ['NO'],\n",
       "       ['NO'],\n",
       "       ...,\n",
       "       ['NO'],\n",
       "       ['NO'],\n",
       "       ['NO']], dtype=object)"
      ]
     },
     "execution_count": 243,
     "metadata": {},
     "output_type": "execute_result"
    }
   ],
   "source": [
    "# (1) waterfront_train was created previously, so we don't\n",
    "# need to extract the relevant data again\n",
    "\n",
    "# (2) Instantiate a SimpleImputer with strategy=\"most_frequent\"\n",
    "# use most_frequent due to non-numerical data\n",
    "imputer = SimpleImputer(strategy=\"most_frequent\")\n",
    "\n",
    "# (3) Fit the imputer on waterfront_train\n",
    "imputer.fit(waterfront_train)\n",
    "\n",
    "# (4) Transform frontage_train using the imputer and\n",
    "# assign the result to waterfront_imputed_train\n",
    "waterfront_imputed_train = imputer.transform(waterfront_train)\n",
    "\n",
    "# Visually inspect frontage_imputed_train\n",
    "waterfront_imputed_train"
   ]
  },
  {
   "cell_type": "markdown",
   "metadata": {},
   "source": [
    "#### Replace original value of waterfront in categoricals with new values in waterfront_imputed_train."
   ]
  },
  {
   "cell_type": "code",
   "execution_count": 244,
   "metadata": {
    "ExecuteTime": {
     "end_time": "2022-02-24T15:36:33.545429Z",
     "start_time": "2022-02-24T15:36:33.525768Z"
    }
   },
   "outputs": [
    {
     "name": "stderr",
     "output_type": "stream",
     "text": [
      "<ipython-input-244-76fe86732dd5>:2: SettingWithCopyWarning: \n",
      "A value is trying to be set on a copy of a slice from a DataFrame.\n",
      "Try using .loc[row_indexer,col_indexer] = value instead\n",
      "\n",
      "See the caveats in the documentation: https://pandas.pydata.org/pandas-docs/stable/user_guide/indexing.html#returning-a-view-versus-a-copy\n",
      "  categoricals[\"waterfront\"] = waterfront_imputed_train\n"
     ]
    },
    {
     "data": {
      "text/html": [
       "<div>\n",
       "<style scoped>\n",
       "    .dataframe tbody tr th:only-of-type {\n",
       "        vertical-align: middle;\n",
       "    }\n",
       "\n",
       "    .dataframe tbody tr th {\n",
       "        vertical-align: top;\n",
       "    }\n",
       "\n",
       "    .dataframe thead th {\n",
       "        text-align: right;\n",
       "    }\n",
       "</style>\n",
       "<table border=\"1\" class=\"dataframe\">\n",
       "  <thead>\n",
       "    <tr style=\"text-align: right;\">\n",
       "      <th></th>\n",
       "      <th>waterfront</th>\n",
       "      <th>view</th>\n",
       "      <th>condition</th>\n",
       "      <th>grade</th>\n",
       "      <th>waterfront_missing</th>\n",
       "    </tr>\n",
       "  </thead>\n",
       "  <tbody>\n",
       "    <tr>\n",
       "      <th>0</th>\n",
       "      <td>NO</td>\n",
       "      <td>NONE</td>\n",
       "      <td>Average</td>\n",
       "      <td>7 Average</td>\n",
       "      <td>True</td>\n",
       "    </tr>\n",
       "    <tr>\n",
       "      <th>1</th>\n",
       "      <td>NO</td>\n",
       "      <td>NONE</td>\n",
       "      <td>Average</td>\n",
       "      <td>7 Average</td>\n",
       "      <td>False</td>\n",
       "    </tr>\n",
       "    <tr>\n",
       "      <th>2</th>\n",
       "      <td>NO</td>\n",
       "      <td>NONE</td>\n",
       "      <td>Average</td>\n",
       "      <td>6 Low Average</td>\n",
       "      <td>False</td>\n",
       "    </tr>\n",
       "    <tr>\n",
       "      <th>3</th>\n",
       "      <td>NO</td>\n",
       "      <td>NONE</td>\n",
       "      <td>Very Good</td>\n",
       "      <td>7 Average</td>\n",
       "      <td>False</td>\n",
       "    </tr>\n",
       "    <tr>\n",
       "      <th>4</th>\n",
       "      <td>NO</td>\n",
       "      <td>NONE</td>\n",
       "      <td>Average</td>\n",
       "      <td>8 Good</td>\n",
       "      <td>False</td>\n",
       "    </tr>\n",
       "    <tr>\n",
       "      <th>...</th>\n",
       "      <td>...</td>\n",
       "      <td>...</td>\n",
       "      <td>...</td>\n",
       "      <td>...</td>\n",
       "      <td>...</td>\n",
       "    </tr>\n",
       "    <tr>\n",
       "      <th>21592</th>\n",
       "      <td>NO</td>\n",
       "      <td>NONE</td>\n",
       "      <td>Average</td>\n",
       "      <td>8 Good</td>\n",
       "      <td>False</td>\n",
       "    </tr>\n",
       "    <tr>\n",
       "      <th>21593</th>\n",
       "      <td>NO</td>\n",
       "      <td>NONE</td>\n",
       "      <td>Average</td>\n",
       "      <td>8 Good</td>\n",
       "      <td>False</td>\n",
       "    </tr>\n",
       "    <tr>\n",
       "      <th>21594</th>\n",
       "      <td>NO</td>\n",
       "      <td>NONE</td>\n",
       "      <td>Average</td>\n",
       "      <td>7 Average</td>\n",
       "      <td>False</td>\n",
       "    </tr>\n",
       "    <tr>\n",
       "      <th>21595</th>\n",
       "      <td>NO</td>\n",
       "      <td>NONE</td>\n",
       "      <td>Average</td>\n",
       "      <td>8 Good</td>\n",
       "      <td>True</td>\n",
       "    </tr>\n",
       "    <tr>\n",
       "      <th>21596</th>\n",
       "      <td>NO</td>\n",
       "      <td>NONE</td>\n",
       "      <td>Average</td>\n",
       "      <td>7 Average</td>\n",
       "      <td>False</td>\n",
       "    </tr>\n",
       "  </tbody>\n",
       "</table>\n",
       "<p>21597 rows × 5 columns</p>\n",
       "</div>"
      ],
      "text/plain": [
       "      waterfront  view  condition          grade  waterfront_missing\n",
       "0             NO  NONE    Average      7 Average                True\n",
       "1             NO  NONE    Average      7 Average               False\n",
       "2             NO  NONE    Average  6 Low Average               False\n",
       "3             NO  NONE  Very Good      7 Average               False\n",
       "4             NO  NONE    Average         8 Good               False\n",
       "...          ...   ...        ...            ...                 ...\n",
       "21592         NO  NONE    Average         8 Good               False\n",
       "21593         NO  NONE    Average         8 Good               False\n",
       "21594         NO  NONE    Average      7 Average               False\n",
       "21595         NO  NONE    Average         8 Good                True\n",
       "21596         NO  NONE    Average      7 Average               False\n",
       "\n",
       "[21597 rows x 5 columns]"
      ]
     },
     "execution_count": 244,
     "metadata": {},
     "output_type": "execute_result"
    }
   ],
   "source": [
    "# (5) Replace value of LotFrontage\n",
    "categoricals[\"waterfront\"] = waterfront_imputed_train\n",
    "\n",
    "# Visually inspect X_train\n",
    "categoricals"
   ]
  },
  {
   "cell_type": "markdown",
   "metadata": {},
   "source": [
    "#### Check nan values for waterfront replaced."
   ]
  },
  {
   "cell_type": "code",
   "execution_count": 245,
   "metadata": {
    "ExecuteTime": {
     "end_time": "2022-02-24T15:36:34.124302Z",
     "start_time": "2022-02-24T15:36:34.110488Z"
    }
   },
   "outputs": [
    {
     "data": {
      "text/plain": [
       "waterfront             0\n",
       "view                  63\n",
       "condition              0\n",
       "grade                  0\n",
       "waterfront_missing     0\n",
       "dtype: int64"
      ]
     },
     "execution_count": 245,
     "metadata": {},
     "output_type": "execute_result"
    }
   ],
   "source": [
    "categoricals.isnull().sum()"
   ]
  },
  {
   "cell_type": "markdown",
   "metadata": {},
   "source": [
    "### Impute missing values for view"
   ]
  },
  {
   "cell_type": "code",
   "execution_count": 246,
   "metadata": {
    "ExecuteTime": {
     "end_time": "2022-02-24T15:36:35.110351Z",
     "start_time": "2022-02-24T15:36:34.989102Z"
    }
   },
   "outputs": [
    {
     "data": {
      "text/plain": [
       "array([['NONE'],\n",
       "       ['NONE'],\n",
       "       ['NONE'],\n",
       "       ...,\n",
       "       ['NONE'],\n",
       "       ['NONE'],\n",
       "       ['NONE']], dtype=object)"
      ]
     },
     "execution_count": 246,
     "metadata": {},
     "output_type": "execute_result"
    }
   ],
   "source": [
    "# (1) create view_train\n",
    "view_train = categoricals[['view']]\n",
    "\n",
    "# (2) Instantiate a SimpleImputer with strategy=\"most_frequent\"\n",
    "# use most_frequent due to non-numerical data\n",
    "imputer = SimpleImputer(strategy=\"most_frequent\")\n",
    "\n",
    "# (3) Fit the imputer on waterfront_train\n",
    "imputer.fit(view_train)\n",
    "\n",
    "# (4) Transform frontage_train using the imputer and\n",
    "# assign the result to waterfront_imputed_train\n",
    "view_imputed_train = imputer.transform(view_train)\n",
    "\n",
    "# Visually inspect frontage_imputed_train\n",
    "view_imputed_train"
   ]
  },
  {
   "cell_type": "code",
   "execution_count": 247,
   "metadata": {
    "ExecuteTime": {
     "end_time": "2022-02-24T15:36:38.703868Z",
     "start_time": "2022-02-24T15:36:38.681958Z"
    }
   },
   "outputs": [
    {
     "name": "stderr",
     "output_type": "stream",
     "text": [
      "<ipython-input-247-7ff8ed9cd7c7>:2: SettingWithCopyWarning: \n",
      "A value is trying to be set on a copy of a slice from a DataFrame.\n",
      "Try using .loc[row_indexer,col_indexer] = value instead\n",
      "\n",
      "See the caveats in the documentation: https://pandas.pydata.org/pandas-docs/stable/user_guide/indexing.html#returning-a-view-versus-a-copy\n",
      "  categoricals[\"view\"] = view_imputed_train\n"
     ]
    },
    {
     "data": {
      "text/html": [
       "<div>\n",
       "<style scoped>\n",
       "    .dataframe tbody tr th:only-of-type {\n",
       "        vertical-align: middle;\n",
       "    }\n",
       "\n",
       "    .dataframe tbody tr th {\n",
       "        vertical-align: top;\n",
       "    }\n",
       "\n",
       "    .dataframe thead th {\n",
       "        text-align: right;\n",
       "    }\n",
       "</style>\n",
       "<table border=\"1\" class=\"dataframe\">\n",
       "  <thead>\n",
       "    <tr style=\"text-align: right;\">\n",
       "      <th></th>\n",
       "      <th>waterfront</th>\n",
       "      <th>view</th>\n",
       "      <th>condition</th>\n",
       "      <th>grade</th>\n",
       "      <th>waterfront_missing</th>\n",
       "    </tr>\n",
       "  </thead>\n",
       "  <tbody>\n",
       "    <tr>\n",
       "      <th>0</th>\n",
       "      <td>NO</td>\n",
       "      <td>NONE</td>\n",
       "      <td>Average</td>\n",
       "      <td>7 Average</td>\n",
       "      <td>True</td>\n",
       "    </tr>\n",
       "    <tr>\n",
       "      <th>1</th>\n",
       "      <td>NO</td>\n",
       "      <td>NONE</td>\n",
       "      <td>Average</td>\n",
       "      <td>7 Average</td>\n",
       "      <td>False</td>\n",
       "    </tr>\n",
       "    <tr>\n",
       "      <th>2</th>\n",
       "      <td>NO</td>\n",
       "      <td>NONE</td>\n",
       "      <td>Average</td>\n",
       "      <td>6 Low Average</td>\n",
       "      <td>False</td>\n",
       "    </tr>\n",
       "    <tr>\n",
       "      <th>3</th>\n",
       "      <td>NO</td>\n",
       "      <td>NONE</td>\n",
       "      <td>Very Good</td>\n",
       "      <td>7 Average</td>\n",
       "      <td>False</td>\n",
       "    </tr>\n",
       "    <tr>\n",
       "      <th>4</th>\n",
       "      <td>NO</td>\n",
       "      <td>NONE</td>\n",
       "      <td>Average</td>\n",
       "      <td>8 Good</td>\n",
       "      <td>False</td>\n",
       "    </tr>\n",
       "    <tr>\n",
       "      <th>...</th>\n",
       "      <td>...</td>\n",
       "      <td>...</td>\n",
       "      <td>...</td>\n",
       "      <td>...</td>\n",
       "      <td>...</td>\n",
       "    </tr>\n",
       "    <tr>\n",
       "      <th>21592</th>\n",
       "      <td>NO</td>\n",
       "      <td>NONE</td>\n",
       "      <td>Average</td>\n",
       "      <td>8 Good</td>\n",
       "      <td>False</td>\n",
       "    </tr>\n",
       "    <tr>\n",
       "      <th>21593</th>\n",
       "      <td>NO</td>\n",
       "      <td>NONE</td>\n",
       "      <td>Average</td>\n",
       "      <td>8 Good</td>\n",
       "      <td>False</td>\n",
       "    </tr>\n",
       "    <tr>\n",
       "      <th>21594</th>\n",
       "      <td>NO</td>\n",
       "      <td>NONE</td>\n",
       "      <td>Average</td>\n",
       "      <td>7 Average</td>\n",
       "      <td>False</td>\n",
       "    </tr>\n",
       "    <tr>\n",
       "      <th>21595</th>\n",
       "      <td>NO</td>\n",
       "      <td>NONE</td>\n",
       "      <td>Average</td>\n",
       "      <td>8 Good</td>\n",
       "      <td>True</td>\n",
       "    </tr>\n",
       "    <tr>\n",
       "      <th>21596</th>\n",
       "      <td>NO</td>\n",
       "      <td>NONE</td>\n",
       "      <td>Average</td>\n",
       "      <td>7 Average</td>\n",
       "      <td>False</td>\n",
       "    </tr>\n",
       "  </tbody>\n",
       "</table>\n",
       "<p>21597 rows × 5 columns</p>\n",
       "</div>"
      ],
      "text/plain": [
       "      waterfront  view  condition          grade  waterfront_missing\n",
       "0             NO  NONE    Average      7 Average                True\n",
       "1             NO  NONE    Average      7 Average               False\n",
       "2             NO  NONE    Average  6 Low Average               False\n",
       "3             NO  NONE  Very Good      7 Average               False\n",
       "4             NO  NONE    Average         8 Good               False\n",
       "...          ...   ...        ...            ...                 ...\n",
       "21592         NO  NONE    Average         8 Good               False\n",
       "21593         NO  NONE    Average         8 Good               False\n",
       "21594         NO  NONE    Average      7 Average               False\n",
       "21595         NO  NONE    Average         8 Good                True\n",
       "21596         NO  NONE    Average      7 Average               False\n",
       "\n",
       "[21597 rows x 5 columns]"
      ]
     },
     "execution_count": 247,
     "metadata": {},
     "output_type": "execute_result"
    }
   ],
   "source": [
    "# (5) Replace value of view\n",
    "categoricals[\"view\"] = view_imputed_train\n",
    "\n",
    "# Visually inspect X_train\n",
    "categoricals"
   ]
  },
  {
   "cell_type": "code",
   "execution_count": 248,
   "metadata": {
    "ExecuteTime": {
     "end_time": "2022-02-24T15:36:39.272454Z",
     "start_time": "2022-02-24T15:36:39.256795Z"
    }
   },
   "outputs": [
    {
     "data": {
      "text/plain": [
       "waterfront            0\n",
       "view                  0\n",
       "condition             0\n",
       "grade                 0\n",
       "waterfront_missing    0\n",
       "dtype: int64"
      ]
     },
     "execution_count": 248,
     "metadata": {},
     "output_type": "execute_result"
    }
   ],
   "source": [
    "# nan values replaced with 'NONE'?\n",
    "categoricals.isnull().sum()"
   ]
  },
  {
   "cell_type": "markdown",
   "metadata": {},
   "source": [
    "## (skip) One-hot-encode Categoricals\n",
    "* waterfront, view, condition, grade"
   ]
  },
  {
   "cell_type": "markdown",
   "metadata": {},
   "source": [
    "### ohe waterfront"
   ]
  },
  {
   "cell_type": "code",
   "execution_count": 206,
   "metadata": {
    "ExecuteTime": {
     "end_time": "2022-02-24T15:30:40.667379Z",
     "start_time": "2022-02-24T15:30:40.656600Z"
    }
   },
   "outputs": [
    {
     "data": {
      "text/plain": [
       "array(['NO', 'YES'], dtype=object)"
      ]
     },
     "execution_count": 206,
     "metadata": {},
     "output_type": "execute_result"
    }
   ],
   "source": [
    "# (1) Create a variable street_train that contains the\n",
    "# relevant column from X_train\n",
    "# (Use double brackets [[]] to get the appropriate shape)\n",
    "waterfront_train = categoricals[[\"waterfront\"]]\n",
    "\n",
    "# (2) Instantiate an OrdinalEncoder\n",
    "encoder_waterfront = OrdinalEncoder()\n",
    "\n",
    "# (3) Fit the encoder on street_train\n",
    "encoder_waterfront.fit(waterfront_train)\n",
    "\n",
    "# Inspect the categories of the fitted encoder\n",
    "encoder_waterfront.categories_[0]"
   ]
  },
  {
   "cell_type": "code",
   "execution_count": 207,
   "metadata": {
    "ExecuteTime": {
     "end_time": "2022-02-24T15:30:41.071760Z",
     "start_time": "2022-02-24T15:30:41.022847Z"
    }
   },
   "outputs": [
    {
     "data": {
      "text/html": [
       "<div>\n",
       "<style scoped>\n",
       "    .dataframe tbody tr th:only-of-type {\n",
       "        vertical-align: middle;\n",
       "    }\n",
       "\n",
       "    .dataframe tbody tr th {\n",
       "        vertical-align: top;\n",
       "    }\n",
       "\n",
       "    .dataframe thead th {\n",
       "        text-align: right;\n",
       "    }\n",
       "</style>\n",
       "<table border=\"1\" class=\"dataframe\">\n",
       "  <thead>\n",
       "    <tr style=\"text-align: right;\">\n",
       "      <th></th>\n",
       "      <th>waterfront</th>\n",
       "      <th>grade</th>\n",
       "      <th>waterfront_missing</th>\n",
       "      <th>AVERAGE</th>\n",
       "      <th>View_Excellent</th>\n",
       "      <th>View_Fair</th>\n",
       "      <th>View_Good</th>\n",
       "      <th>No View</th>\n",
       "      <th>Condition_Average</th>\n",
       "      <th>Condition_Fair</th>\n",
       "      <th>Condition_Good</th>\n",
       "      <th>Condition_Poor</th>\n",
       "      <th>Condition_Very Good</th>\n",
       "      <th>view</th>\n",
       "    </tr>\n",
       "  </thead>\n",
       "  <tbody>\n",
       "    <tr>\n",
       "      <th>0</th>\n",
       "      <td>0.0</td>\n",
       "      <td>7 Average</td>\n",
       "      <td>True</td>\n",
       "      <td>0.0</td>\n",
       "      <td>0.0</td>\n",
       "      <td>0.0</td>\n",
       "      <td>0.0</td>\n",
       "      <td>1.0</td>\n",
       "      <td>1.0</td>\n",
       "      <td>0.0</td>\n",
       "      <td>0.0</td>\n",
       "      <td>0.0</td>\n",
       "      <td>0.0</td>\n",
       "      <td>NONE</td>\n",
       "    </tr>\n",
       "    <tr>\n",
       "      <th>1</th>\n",
       "      <td>0.0</td>\n",
       "      <td>7 Average</td>\n",
       "      <td>False</td>\n",
       "      <td>0.0</td>\n",
       "      <td>0.0</td>\n",
       "      <td>0.0</td>\n",
       "      <td>0.0</td>\n",
       "      <td>1.0</td>\n",
       "      <td>1.0</td>\n",
       "      <td>0.0</td>\n",
       "      <td>0.0</td>\n",
       "      <td>0.0</td>\n",
       "      <td>0.0</td>\n",
       "      <td>NONE</td>\n",
       "    </tr>\n",
       "    <tr>\n",
       "      <th>2</th>\n",
       "      <td>0.0</td>\n",
       "      <td>6 Low Average</td>\n",
       "      <td>False</td>\n",
       "      <td>0.0</td>\n",
       "      <td>0.0</td>\n",
       "      <td>0.0</td>\n",
       "      <td>0.0</td>\n",
       "      <td>1.0</td>\n",
       "      <td>1.0</td>\n",
       "      <td>0.0</td>\n",
       "      <td>0.0</td>\n",
       "      <td>0.0</td>\n",
       "      <td>0.0</td>\n",
       "      <td>NONE</td>\n",
       "    </tr>\n",
       "    <tr>\n",
       "      <th>3</th>\n",
       "      <td>0.0</td>\n",
       "      <td>7 Average</td>\n",
       "      <td>False</td>\n",
       "      <td>0.0</td>\n",
       "      <td>0.0</td>\n",
       "      <td>0.0</td>\n",
       "      <td>0.0</td>\n",
       "      <td>1.0</td>\n",
       "      <td>0.0</td>\n",
       "      <td>0.0</td>\n",
       "      <td>0.0</td>\n",
       "      <td>0.0</td>\n",
       "      <td>1.0</td>\n",
       "      <td>NONE</td>\n",
       "    </tr>\n",
       "    <tr>\n",
       "      <th>4</th>\n",
       "      <td>0.0</td>\n",
       "      <td>8 Good</td>\n",
       "      <td>False</td>\n",
       "      <td>0.0</td>\n",
       "      <td>0.0</td>\n",
       "      <td>0.0</td>\n",
       "      <td>0.0</td>\n",
       "      <td>1.0</td>\n",
       "      <td>1.0</td>\n",
       "      <td>0.0</td>\n",
       "      <td>0.0</td>\n",
       "      <td>0.0</td>\n",
       "      <td>0.0</td>\n",
       "      <td>NONE</td>\n",
       "    </tr>\n",
       "    <tr>\n",
       "      <th>...</th>\n",
       "      <td>...</td>\n",
       "      <td>...</td>\n",
       "      <td>...</td>\n",
       "      <td>...</td>\n",
       "      <td>...</td>\n",
       "      <td>...</td>\n",
       "      <td>...</td>\n",
       "      <td>...</td>\n",
       "      <td>...</td>\n",
       "      <td>...</td>\n",
       "      <td>...</td>\n",
       "      <td>...</td>\n",
       "      <td>...</td>\n",
       "      <td>...</td>\n",
       "    </tr>\n",
       "    <tr>\n",
       "      <th>21592</th>\n",
       "      <td>0.0</td>\n",
       "      <td>8 Good</td>\n",
       "      <td>False</td>\n",
       "      <td>0.0</td>\n",
       "      <td>0.0</td>\n",
       "      <td>0.0</td>\n",
       "      <td>0.0</td>\n",
       "      <td>1.0</td>\n",
       "      <td>1.0</td>\n",
       "      <td>0.0</td>\n",
       "      <td>0.0</td>\n",
       "      <td>0.0</td>\n",
       "      <td>0.0</td>\n",
       "      <td>NONE</td>\n",
       "    </tr>\n",
       "    <tr>\n",
       "      <th>21593</th>\n",
       "      <td>0.0</td>\n",
       "      <td>8 Good</td>\n",
       "      <td>False</td>\n",
       "      <td>0.0</td>\n",
       "      <td>0.0</td>\n",
       "      <td>0.0</td>\n",
       "      <td>0.0</td>\n",
       "      <td>1.0</td>\n",
       "      <td>1.0</td>\n",
       "      <td>0.0</td>\n",
       "      <td>0.0</td>\n",
       "      <td>0.0</td>\n",
       "      <td>0.0</td>\n",
       "      <td>NONE</td>\n",
       "    </tr>\n",
       "    <tr>\n",
       "      <th>21594</th>\n",
       "      <td>0.0</td>\n",
       "      <td>7 Average</td>\n",
       "      <td>False</td>\n",
       "      <td>0.0</td>\n",
       "      <td>0.0</td>\n",
       "      <td>0.0</td>\n",
       "      <td>0.0</td>\n",
       "      <td>1.0</td>\n",
       "      <td>1.0</td>\n",
       "      <td>0.0</td>\n",
       "      <td>0.0</td>\n",
       "      <td>0.0</td>\n",
       "      <td>0.0</td>\n",
       "      <td>NONE</td>\n",
       "    </tr>\n",
       "    <tr>\n",
       "      <th>21595</th>\n",
       "      <td>0.0</td>\n",
       "      <td>8 Good</td>\n",
       "      <td>True</td>\n",
       "      <td>0.0</td>\n",
       "      <td>0.0</td>\n",
       "      <td>0.0</td>\n",
       "      <td>0.0</td>\n",
       "      <td>1.0</td>\n",
       "      <td>1.0</td>\n",
       "      <td>0.0</td>\n",
       "      <td>0.0</td>\n",
       "      <td>0.0</td>\n",
       "      <td>0.0</td>\n",
       "      <td>NONE</td>\n",
       "    </tr>\n",
       "    <tr>\n",
       "      <th>21596</th>\n",
       "      <td>0.0</td>\n",
       "      <td>7 Average</td>\n",
       "      <td>False</td>\n",
       "      <td>0.0</td>\n",
       "      <td>0.0</td>\n",
       "      <td>0.0</td>\n",
       "      <td>0.0</td>\n",
       "      <td>1.0</td>\n",
       "      <td>1.0</td>\n",
       "      <td>0.0</td>\n",
       "      <td>0.0</td>\n",
       "      <td>0.0</td>\n",
       "      <td>0.0</td>\n",
       "      <td>NONE</td>\n",
       "    </tr>\n",
       "  </tbody>\n",
       "</table>\n",
       "<p>21597 rows × 14 columns</p>\n",
       "</div>"
      ],
      "text/plain": [
       "       waterfront          grade  waterfront_missing  AVERAGE  View_Excellent  \\\n",
       "0             0.0      7 Average                True      0.0             0.0   \n",
       "1             0.0      7 Average               False      0.0             0.0   \n",
       "2             0.0  6 Low Average               False      0.0             0.0   \n",
       "3             0.0      7 Average               False      0.0             0.0   \n",
       "4             0.0         8 Good               False      0.0             0.0   \n",
       "...           ...            ...                 ...      ...             ...   \n",
       "21592         0.0         8 Good               False      0.0             0.0   \n",
       "21593         0.0         8 Good               False      0.0             0.0   \n",
       "21594         0.0      7 Average               False      0.0             0.0   \n",
       "21595         0.0         8 Good                True      0.0             0.0   \n",
       "21596         0.0      7 Average               False      0.0             0.0   \n",
       "\n",
       "       View_Fair  View_Good  No View  Condition_Average  Condition_Fair  \\\n",
       "0            0.0        0.0      1.0                1.0             0.0   \n",
       "1            0.0        0.0      1.0                1.0             0.0   \n",
       "2            0.0        0.0      1.0                1.0             0.0   \n",
       "3            0.0        0.0      1.0                0.0             0.0   \n",
       "4            0.0        0.0      1.0                1.0             0.0   \n",
       "...          ...        ...      ...                ...             ...   \n",
       "21592        0.0        0.0      1.0                1.0             0.0   \n",
       "21593        0.0        0.0      1.0                1.0             0.0   \n",
       "21594        0.0        0.0      1.0                1.0             0.0   \n",
       "21595        0.0        0.0      1.0                1.0             0.0   \n",
       "21596        0.0        0.0      1.0                1.0             0.0   \n",
       "\n",
       "       Condition_Good  Condition_Poor  Condition_Very Good  view  \n",
       "0                 0.0             0.0                  0.0  NONE  \n",
       "1                 0.0             0.0                  0.0  NONE  \n",
       "2                 0.0             0.0                  0.0  NONE  \n",
       "3                 0.0             0.0                  1.0  NONE  \n",
       "4                 0.0             0.0                  0.0  NONE  \n",
       "...               ...             ...                  ...   ...  \n",
       "21592             0.0             0.0                  0.0  NONE  \n",
       "21593             0.0             0.0                  0.0  NONE  \n",
       "21594             0.0             0.0                  0.0  NONE  \n",
       "21595             0.0             0.0                  0.0  NONE  \n",
       "21596             0.0             0.0                  0.0  NONE  \n",
       "\n",
       "[21597 rows x 14 columns]"
      ]
     },
     "execution_count": 207,
     "metadata": {},
     "output_type": "execute_result"
    }
   ],
   "source": [
    "# Encode waterfront type\n",
    "waterfront_test = categoricals[[\"waterfront\"]]\n",
    "waterfront_encoded_test = encoder_waterfront.transform(waterfront_test).flatten()\n",
    "categoricals[\"waterfront\"] = waterfront_encoded_test\n",
    "\n",
    "# Visually inspect categoricals\n",
    "categoricals"
   ]
  },
  {
   "cell_type": "code",
   "execution_count": 208,
   "metadata": {
    "ExecuteTime": {
     "end_time": "2022-02-24T15:30:41.665205Z",
     "start_time": "2022-02-24T15:30:41.640712Z"
    }
   },
   "outputs": [
    {
     "name": "stdout",
     "output_type": "stream",
     "text": [
      "<class 'pandas.core.frame.DataFrame'>\n",
      "RangeIndex: 21597 entries, 0 to 21596\n",
      "Data columns (total 14 columns):\n",
      " #   Column               Non-Null Count  Dtype  \n",
      "---  ------               --------------  -----  \n",
      " 0   waterfront           21597 non-null  float64\n",
      " 1   grade                21597 non-null  object \n",
      " 2   waterfront_missing   21597 non-null  bool   \n",
      " 3   AVERAGE              21597 non-null  float64\n",
      " 4   View_Excellent       21597 non-null  float64\n",
      " 5   View_Fair            21597 non-null  float64\n",
      " 6   View_Good            21597 non-null  float64\n",
      " 7   No View              21597 non-null  float64\n",
      " 8   Condition_Average    21597 non-null  float64\n",
      " 9   Condition_Fair       21597 non-null  float64\n",
      " 10  Condition_Good       21597 non-null  float64\n",
      " 11  Condition_Poor       21597 non-null  float64\n",
      " 12  Condition_Very Good  21597 non-null  float64\n",
      " 13  view                 21597 non-null  object \n",
      "dtypes: bool(1), float64(11), object(2)\n",
      "memory usage: 2.2+ MB\n"
     ]
    }
   ],
   "source": [
    "# visually inspect waterfront is a float64 data type\n",
    "categoricals.info()"
   ]
  },
  {
   "cell_type": "markdown",
   "metadata": {},
   "source": [
    "### ohe view"
   ]
  },
  {
   "cell_type": "code",
   "execution_count": 209,
   "metadata": {
    "ExecuteTime": {
     "end_time": "2022-02-24T15:30:42.398756Z",
     "start_time": "2022-02-24T15:30:42.387243Z"
    }
   },
   "outputs": [
    {
     "data": {
      "text/plain": [
       "[array(['AVERAGE', 'EXCELLENT', 'FAIR', 'GOOD', 'NONE'], dtype=object)]"
      ]
     },
     "execution_count": 209,
     "metadata": {},
     "output_type": "execute_result"
    }
   ],
   "source": [
    "# (1) Create a variable view_train\n",
    "# extracted from categoricals\n",
    "# (double brackets due to shape expected by OHE)\n",
    "view_train = categoricals[[\"view\"]]\n",
    "\n",
    "# (2) Instantiate a OneHotEncoder with categories=\"auto\",\n",
    "# sparse=False, and handle_unknown=\"ignore\"\n",
    "ohe = OneHotEncoder(categories=\"auto\", sparse=False, handle_unknown=\"ignore\")\n",
    "\n",
    "# (3) Fit the encoder on fireplace_qu_train\n",
    "ohe.fit(view_train)\n",
    "\n",
    "# Inspect the categories of the fitted encoder\n",
    "ohe.categories_"
   ]
  },
  {
   "cell_type": "code",
   "execution_count": 210,
   "metadata": {
    "ExecuteTime": {
     "end_time": "2022-02-24T15:30:42.722128Z",
     "start_time": "2022-02-24T15:30:42.703620Z"
    }
   },
   "outputs": [
    {
     "data": {
      "text/plain": [
       "array([[0., 0., 0., 0., 1.],\n",
       "       [0., 0., 0., 0., 1.],\n",
       "       [0., 0., 0., 0., 1.],\n",
       "       ...,\n",
       "       [0., 0., 0., 0., 1.],\n",
       "       [0., 0., 0., 0., 1.],\n",
       "       [0., 0., 0., 0., 1.]])"
      ]
     },
     "execution_count": 210,
     "metadata": {},
     "output_type": "execute_result"
    }
   ],
   "source": [
    "# (4) Transform view_train using the encoder and\n",
    "# assign the result to view_encoded_train\n",
    "view_encoded_train = ohe.transform(view_train)\n",
    "\n",
    "# Visually inspect view_encoded_train\n",
    "view_encoded_train"
   ]
  },
  {
   "cell_type": "code",
   "execution_count": 211,
   "metadata": {
    "ExecuteTime": {
     "end_time": "2022-02-24T15:30:43.088715Z",
     "start_time": "2022-02-24T15:30:43.065824Z"
    }
   },
   "outputs": [
    {
     "data": {
      "text/html": [
       "<div>\n",
       "<style scoped>\n",
       "    .dataframe tbody tr th:only-of-type {\n",
       "        vertical-align: middle;\n",
       "    }\n",
       "\n",
       "    .dataframe tbody tr th {\n",
       "        vertical-align: top;\n",
       "    }\n",
       "\n",
       "    .dataframe thead th {\n",
       "        text-align: right;\n",
       "    }\n",
       "</style>\n",
       "<table border=\"1\" class=\"dataframe\">\n",
       "  <thead>\n",
       "    <tr style=\"text-align: right;\">\n",
       "      <th></th>\n",
       "      <th>AVERAGE</th>\n",
       "      <th>EXCELLENT</th>\n",
       "      <th>FAIR</th>\n",
       "      <th>GOOD</th>\n",
       "      <th>NONE</th>\n",
       "    </tr>\n",
       "  </thead>\n",
       "  <tbody>\n",
       "    <tr>\n",
       "      <th>0</th>\n",
       "      <td>0.0</td>\n",
       "      <td>0.0</td>\n",
       "      <td>0.0</td>\n",
       "      <td>0.0</td>\n",
       "      <td>1.0</td>\n",
       "    </tr>\n",
       "    <tr>\n",
       "      <th>1</th>\n",
       "      <td>0.0</td>\n",
       "      <td>0.0</td>\n",
       "      <td>0.0</td>\n",
       "      <td>0.0</td>\n",
       "      <td>1.0</td>\n",
       "    </tr>\n",
       "    <tr>\n",
       "      <th>2</th>\n",
       "      <td>0.0</td>\n",
       "      <td>0.0</td>\n",
       "      <td>0.0</td>\n",
       "      <td>0.0</td>\n",
       "      <td>1.0</td>\n",
       "    </tr>\n",
       "    <tr>\n",
       "      <th>3</th>\n",
       "      <td>0.0</td>\n",
       "      <td>0.0</td>\n",
       "      <td>0.0</td>\n",
       "      <td>0.0</td>\n",
       "      <td>1.0</td>\n",
       "    </tr>\n",
       "    <tr>\n",
       "      <th>4</th>\n",
       "      <td>0.0</td>\n",
       "      <td>0.0</td>\n",
       "      <td>0.0</td>\n",
       "      <td>0.0</td>\n",
       "      <td>1.0</td>\n",
       "    </tr>\n",
       "    <tr>\n",
       "      <th>...</th>\n",
       "      <td>...</td>\n",
       "      <td>...</td>\n",
       "      <td>...</td>\n",
       "      <td>...</td>\n",
       "      <td>...</td>\n",
       "    </tr>\n",
       "    <tr>\n",
       "      <th>21592</th>\n",
       "      <td>0.0</td>\n",
       "      <td>0.0</td>\n",
       "      <td>0.0</td>\n",
       "      <td>0.0</td>\n",
       "      <td>1.0</td>\n",
       "    </tr>\n",
       "    <tr>\n",
       "      <th>21593</th>\n",
       "      <td>0.0</td>\n",
       "      <td>0.0</td>\n",
       "      <td>0.0</td>\n",
       "      <td>0.0</td>\n",
       "      <td>1.0</td>\n",
       "    </tr>\n",
       "    <tr>\n",
       "      <th>21594</th>\n",
       "      <td>0.0</td>\n",
       "      <td>0.0</td>\n",
       "      <td>0.0</td>\n",
       "      <td>0.0</td>\n",
       "      <td>1.0</td>\n",
       "    </tr>\n",
       "    <tr>\n",
       "      <th>21595</th>\n",
       "      <td>0.0</td>\n",
       "      <td>0.0</td>\n",
       "      <td>0.0</td>\n",
       "      <td>0.0</td>\n",
       "      <td>1.0</td>\n",
       "    </tr>\n",
       "    <tr>\n",
       "      <th>21596</th>\n",
       "      <td>0.0</td>\n",
       "      <td>0.0</td>\n",
       "      <td>0.0</td>\n",
       "      <td>0.0</td>\n",
       "      <td>1.0</td>\n",
       "    </tr>\n",
       "  </tbody>\n",
       "</table>\n",
       "<p>21597 rows × 5 columns</p>\n",
       "</div>"
      ],
      "text/plain": [
       "       AVERAGE  EXCELLENT  FAIR  GOOD  NONE\n",
       "0          0.0        0.0   0.0   0.0   1.0\n",
       "1          0.0        0.0   0.0   0.0   1.0\n",
       "2          0.0        0.0   0.0   0.0   1.0\n",
       "3          0.0        0.0   0.0   0.0   1.0\n",
       "4          0.0        0.0   0.0   0.0   1.0\n",
       "...        ...        ...   ...   ...   ...\n",
       "21592      0.0        0.0   0.0   0.0   1.0\n",
       "21593      0.0        0.0   0.0   0.0   1.0\n",
       "21594      0.0        0.0   0.0   0.0   1.0\n",
       "21595      0.0        0.0   0.0   0.0   1.0\n",
       "21596      0.0        0.0   0.0   0.0   1.0\n",
       "\n",
       "[21597 rows x 5 columns]"
      ]
     },
     "execution_count": 211,
     "metadata": {},
     "output_type": "execute_result"
    }
   ],
   "source": [
    "# (5a) Make the transformed data into a dataframe\n",
    "view_encoded_train = pd.DataFrame(\n",
    "    # Pass in NumPy array\n",
    "    view_encoded_train,\n",
    "    # Set the column names to the categories found by OHE\n",
    "    columns=ohe.categories_[0],\n",
    "    # Set the index to match X_train's index\n",
    "    index=categoricals.index\n",
    ")\n",
    "\n",
    "# Visually inspect new dataframe\n",
    "view_encoded_train"
   ]
  },
  {
   "cell_type": "code",
   "execution_count": 212,
   "metadata": {
    "ExecuteTime": {
     "end_time": "2022-02-24T15:30:43.439264Z",
     "start_time": "2022-02-24T15:30:43.415353Z"
    }
   },
   "outputs": [
    {
     "data": {
      "text/html": [
       "<div>\n",
       "<style scoped>\n",
       "    .dataframe tbody tr th:only-of-type {\n",
       "        vertical-align: middle;\n",
       "    }\n",
       "\n",
       "    .dataframe tbody tr th {\n",
       "        vertical-align: top;\n",
       "    }\n",
       "\n",
       "    .dataframe thead th {\n",
       "        text-align: right;\n",
       "    }\n",
       "</style>\n",
       "<table border=\"1\" class=\"dataframe\">\n",
       "  <thead>\n",
       "    <tr style=\"text-align: right;\">\n",
       "      <th></th>\n",
       "      <th>AVERAGE</th>\n",
       "      <th>View_Excellent</th>\n",
       "      <th>View_Fair</th>\n",
       "      <th>View_Good</th>\n",
       "      <th>No View</th>\n",
       "    </tr>\n",
       "  </thead>\n",
       "  <tbody>\n",
       "    <tr>\n",
       "      <th>0</th>\n",
       "      <td>0.0</td>\n",
       "      <td>0.0</td>\n",
       "      <td>0.0</td>\n",
       "      <td>0.0</td>\n",
       "      <td>1.0</td>\n",
       "    </tr>\n",
       "    <tr>\n",
       "      <th>1</th>\n",
       "      <td>0.0</td>\n",
       "      <td>0.0</td>\n",
       "      <td>0.0</td>\n",
       "      <td>0.0</td>\n",
       "      <td>1.0</td>\n",
       "    </tr>\n",
       "    <tr>\n",
       "      <th>2</th>\n",
       "      <td>0.0</td>\n",
       "      <td>0.0</td>\n",
       "      <td>0.0</td>\n",
       "      <td>0.0</td>\n",
       "      <td>1.0</td>\n",
       "    </tr>\n",
       "    <tr>\n",
       "      <th>3</th>\n",
       "      <td>0.0</td>\n",
       "      <td>0.0</td>\n",
       "      <td>0.0</td>\n",
       "      <td>0.0</td>\n",
       "      <td>1.0</td>\n",
       "    </tr>\n",
       "    <tr>\n",
       "      <th>4</th>\n",
       "      <td>0.0</td>\n",
       "      <td>0.0</td>\n",
       "      <td>0.0</td>\n",
       "      <td>0.0</td>\n",
       "      <td>1.0</td>\n",
       "    </tr>\n",
       "    <tr>\n",
       "      <th>...</th>\n",
       "      <td>...</td>\n",
       "      <td>...</td>\n",
       "      <td>...</td>\n",
       "      <td>...</td>\n",
       "      <td>...</td>\n",
       "    </tr>\n",
       "    <tr>\n",
       "      <th>21592</th>\n",
       "      <td>0.0</td>\n",
       "      <td>0.0</td>\n",
       "      <td>0.0</td>\n",
       "      <td>0.0</td>\n",
       "      <td>1.0</td>\n",
       "    </tr>\n",
       "    <tr>\n",
       "      <th>21593</th>\n",
       "      <td>0.0</td>\n",
       "      <td>0.0</td>\n",
       "      <td>0.0</td>\n",
       "      <td>0.0</td>\n",
       "      <td>1.0</td>\n",
       "    </tr>\n",
       "    <tr>\n",
       "      <th>21594</th>\n",
       "      <td>0.0</td>\n",
       "      <td>0.0</td>\n",
       "      <td>0.0</td>\n",
       "      <td>0.0</td>\n",
       "      <td>1.0</td>\n",
       "    </tr>\n",
       "    <tr>\n",
       "      <th>21595</th>\n",
       "      <td>0.0</td>\n",
       "      <td>0.0</td>\n",
       "      <td>0.0</td>\n",
       "      <td>0.0</td>\n",
       "      <td>1.0</td>\n",
       "    </tr>\n",
       "    <tr>\n",
       "      <th>21596</th>\n",
       "      <td>0.0</td>\n",
       "      <td>0.0</td>\n",
       "      <td>0.0</td>\n",
       "      <td>0.0</td>\n",
       "      <td>1.0</td>\n",
       "    </tr>\n",
       "  </tbody>\n",
       "</table>\n",
       "<p>21597 rows × 5 columns</p>\n",
       "</div>"
      ],
      "text/plain": [
       "       AVERAGE  View_Excellent  View_Fair  View_Good  No View\n",
       "0          0.0             0.0        0.0        0.0      1.0\n",
       "1          0.0             0.0        0.0        0.0      1.0\n",
       "2          0.0             0.0        0.0        0.0      1.0\n",
       "3          0.0             0.0        0.0        0.0      1.0\n",
       "4          0.0             0.0        0.0        0.0      1.0\n",
       "...        ...             ...        ...        ...      ...\n",
       "21592      0.0             0.0        0.0        0.0      1.0\n",
       "21593      0.0             0.0        0.0        0.0      1.0\n",
       "21594      0.0             0.0        0.0        0.0      1.0\n",
       "21595      0.0             0.0        0.0        0.0      1.0\n",
       "21596      0.0             0.0        0.0        0.0      1.0\n",
       "\n",
       "[21597 rows x 5 columns]"
      ]
     },
     "execution_count": 212,
     "metadata": {},
     "output_type": "execute_result"
    }
   ],
   "source": [
    "view_encoded_train = view_encoded_train.rename(columns={'Average':'View_Average',\n",
    "                                        'EXCELLENT':'View_Excellent',\n",
    "                                        'FAIR':'View_Fair',\n",
    "                                        'GOOD':'View_Good',\n",
    "                                        'NONE':'No View'})\n",
    "view_encoded_train"
   ]
  },
  {
   "cell_type": "code",
   "execution_count": 213,
   "metadata": {
    "ExecuteTime": {
     "end_time": "2022-02-24T15:30:43.831544Z",
     "start_time": "2022-02-24T15:30:43.781720Z"
    }
   },
   "outputs": [
    {
     "data": {
      "text/html": [
       "<div>\n",
       "<style scoped>\n",
       "    .dataframe tbody tr th:only-of-type {\n",
       "        vertical-align: middle;\n",
       "    }\n",
       "\n",
       "    .dataframe tbody tr th {\n",
       "        vertical-align: top;\n",
       "    }\n",
       "\n",
       "    .dataframe thead th {\n",
       "        text-align: right;\n",
       "    }\n",
       "</style>\n",
       "<table border=\"1\" class=\"dataframe\">\n",
       "  <thead>\n",
       "    <tr style=\"text-align: right;\">\n",
       "      <th></th>\n",
       "      <th>waterfront</th>\n",
       "      <th>grade</th>\n",
       "      <th>waterfront_missing</th>\n",
       "      <th>AVERAGE</th>\n",
       "      <th>View_Excellent</th>\n",
       "      <th>View_Fair</th>\n",
       "      <th>View_Good</th>\n",
       "      <th>No View</th>\n",
       "      <th>Condition_Average</th>\n",
       "      <th>Condition_Fair</th>\n",
       "      <th>Condition_Good</th>\n",
       "      <th>Condition_Poor</th>\n",
       "      <th>Condition_Very Good</th>\n",
       "      <th>view</th>\n",
       "      <th>AVERAGE</th>\n",
       "      <th>View_Excellent</th>\n",
       "      <th>View_Fair</th>\n",
       "      <th>View_Good</th>\n",
       "      <th>No View</th>\n",
       "    </tr>\n",
       "  </thead>\n",
       "  <tbody>\n",
       "    <tr>\n",
       "      <th>0</th>\n",
       "      <td>0.0</td>\n",
       "      <td>7 Average</td>\n",
       "      <td>True</td>\n",
       "      <td>0.0</td>\n",
       "      <td>0.0</td>\n",
       "      <td>0.0</td>\n",
       "      <td>0.0</td>\n",
       "      <td>1.0</td>\n",
       "      <td>1.0</td>\n",
       "      <td>0.0</td>\n",
       "      <td>0.0</td>\n",
       "      <td>0.0</td>\n",
       "      <td>0.0</td>\n",
       "      <td>NONE</td>\n",
       "      <td>0.0</td>\n",
       "      <td>0.0</td>\n",
       "      <td>0.0</td>\n",
       "      <td>0.0</td>\n",
       "      <td>1.0</td>\n",
       "    </tr>\n",
       "    <tr>\n",
       "      <th>1</th>\n",
       "      <td>0.0</td>\n",
       "      <td>7 Average</td>\n",
       "      <td>False</td>\n",
       "      <td>0.0</td>\n",
       "      <td>0.0</td>\n",
       "      <td>0.0</td>\n",
       "      <td>0.0</td>\n",
       "      <td>1.0</td>\n",
       "      <td>1.0</td>\n",
       "      <td>0.0</td>\n",
       "      <td>0.0</td>\n",
       "      <td>0.0</td>\n",
       "      <td>0.0</td>\n",
       "      <td>NONE</td>\n",
       "      <td>0.0</td>\n",
       "      <td>0.0</td>\n",
       "      <td>0.0</td>\n",
       "      <td>0.0</td>\n",
       "      <td>1.0</td>\n",
       "    </tr>\n",
       "    <tr>\n",
       "      <th>2</th>\n",
       "      <td>0.0</td>\n",
       "      <td>6 Low Average</td>\n",
       "      <td>False</td>\n",
       "      <td>0.0</td>\n",
       "      <td>0.0</td>\n",
       "      <td>0.0</td>\n",
       "      <td>0.0</td>\n",
       "      <td>1.0</td>\n",
       "      <td>1.0</td>\n",
       "      <td>0.0</td>\n",
       "      <td>0.0</td>\n",
       "      <td>0.0</td>\n",
       "      <td>0.0</td>\n",
       "      <td>NONE</td>\n",
       "      <td>0.0</td>\n",
       "      <td>0.0</td>\n",
       "      <td>0.0</td>\n",
       "      <td>0.0</td>\n",
       "      <td>1.0</td>\n",
       "    </tr>\n",
       "    <tr>\n",
       "      <th>3</th>\n",
       "      <td>0.0</td>\n",
       "      <td>7 Average</td>\n",
       "      <td>False</td>\n",
       "      <td>0.0</td>\n",
       "      <td>0.0</td>\n",
       "      <td>0.0</td>\n",
       "      <td>0.0</td>\n",
       "      <td>1.0</td>\n",
       "      <td>0.0</td>\n",
       "      <td>0.0</td>\n",
       "      <td>0.0</td>\n",
       "      <td>0.0</td>\n",
       "      <td>1.0</td>\n",
       "      <td>NONE</td>\n",
       "      <td>0.0</td>\n",
       "      <td>0.0</td>\n",
       "      <td>0.0</td>\n",
       "      <td>0.0</td>\n",
       "      <td>1.0</td>\n",
       "    </tr>\n",
       "    <tr>\n",
       "      <th>4</th>\n",
       "      <td>0.0</td>\n",
       "      <td>8 Good</td>\n",
       "      <td>False</td>\n",
       "      <td>0.0</td>\n",
       "      <td>0.0</td>\n",
       "      <td>0.0</td>\n",
       "      <td>0.0</td>\n",
       "      <td>1.0</td>\n",
       "      <td>1.0</td>\n",
       "      <td>0.0</td>\n",
       "      <td>0.0</td>\n",
       "      <td>0.0</td>\n",
       "      <td>0.0</td>\n",
       "      <td>NONE</td>\n",
       "      <td>0.0</td>\n",
       "      <td>0.0</td>\n",
       "      <td>0.0</td>\n",
       "      <td>0.0</td>\n",
       "      <td>1.0</td>\n",
       "    </tr>\n",
       "    <tr>\n",
       "      <th>...</th>\n",
       "      <td>...</td>\n",
       "      <td>...</td>\n",
       "      <td>...</td>\n",
       "      <td>...</td>\n",
       "      <td>...</td>\n",
       "      <td>...</td>\n",
       "      <td>...</td>\n",
       "      <td>...</td>\n",
       "      <td>...</td>\n",
       "      <td>...</td>\n",
       "      <td>...</td>\n",
       "      <td>...</td>\n",
       "      <td>...</td>\n",
       "      <td>...</td>\n",
       "      <td>...</td>\n",
       "      <td>...</td>\n",
       "      <td>...</td>\n",
       "      <td>...</td>\n",
       "      <td>...</td>\n",
       "    </tr>\n",
       "    <tr>\n",
       "      <th>21592</th>\n",
       "      <td>0.0</td>\n",
       "      <td>8 Good</td>\n",
       "      <td>False</td>\n",
       "      <td>0.0</td>\n",
       "      <td>0.0</td>\n",
       "      <td>0.0</td>\n",
       "      <td>0.0</td>\n",
       "      <td>1.0</td>\n",
       "      <td>1.0</td>\n",
       "      <td>0.0</td>\n",
       "      <td>0.0</td>\n",
       "      <td>0.0</td>\n",
       "      <td>0.0</td>\n",
       "      <td>NONE</td>\n",
       "      <td>0.0</td>\n",
       "      <td>0.0</td>\n",
       "      <td>0.0</td>\n",
       "      <td>0.0</td>\n",
       "      <td>1.0</td>\n",
       "    </tr>\n",
       "    <tr>\n",
       "      <th>21593</th>\n",
       "      <td>0.0</td>\n",
       "      <td>8 Good</td>\n",
       "      <td>False</td>\n",
       "      <td>0.0</td>\n",
       "      <td>0.0</td>\n",
       "      <td>0.0</td>\n",
       "      <td>0.0</td>\n",
       "      <td>1.0</td>\n",
       "      <td>1.0</td>\n",
       "      <td>0.0</td>\n",
       "      <td>0.0</td>\n",
       "      <td>0.0</td>\n",
       "      <td>0.0</td>\n",
       "      <td>NONE</td>\n",
       "      <td>0.0</td>\n",
       "      <td>0.0</td>\n",
       "      <td>0.0</td>\n",
       "      <td>0.0</td>\n",
       "      <td>1.0</td>\n",
       "    </tr>\n",
       "    <tr>\n",
       "      <th>21594</th>\n",
       "      <td>0.0</td>\n",
       "      <td>7 Average</td>\n",
       "      <td>False</td>\n",
       "      <td>0.0</td>\n",
       "      <td>0.0</td>\n",
       "      <td>0.0</td>\n",
       "      <td>0.0</td>\n",
       "      <td>1.0</td>\n",
       "      <td>1.0</td>\n",
       "      <td>0.0</td>\n",
       "      <td>0.0</td>\n",
       "      <td>0.0</td>\n",
       "      <td>0.0</td>\n",
       "      <td>NONE</td>\n",
       "      <td>0.0</td>\n",
       "      <td>0.0</td>\n",
       "      <td>0.0</td>\n",
       "      <td>0.0</td>\n",
       "      <td>1.0</td>\n",
       "    </tr>\n",
       "    <tr>\n",
       "      <th>21595</th>\n",
       "      <td>0.0</td>\n",
       "      <td>8 Good</td>\n",
       "      <td>True</td>\n",
       "      <td>0.0</td>\n",
       "      <td>0.0</td>\n",
       "      <td>0.0</td>\n",
       "      <td>0.0</td>\n",
       "      <td>1.0</td>\n",
       "      <td>1.0</td>\n",
       "      <td>0.0</td>\n",
       "      <td>0.0</td>\n",
       "      <td>0.0</td>\n",
       "      <td>0.0</td>\n",
       "      <td>NONE</td>\n",
       "      <td>0.0</td>\n",
       "      <td>0.0</td>\n",
       "      <td>0.0</td>\n",
       "      <td>0.0</td>\n",
       "      <td>1.0</td>\n",
       "    </tr>\n",
       "    <tr>\n",
       "      <th>21596</th>\n",
       "      <td>0.0</td>\n",
       "      <td>7 Average</td>\n",
       "      <td>False</td>\n",
       "      <td>0.0</td>\n",
       "      <td>0.0</td>\n",
       "      <td>0.0</td>\n",
       "      <td>0.0</td>\n",
       "      <td>1.0</td>\n",
       "      <td>1.0</td>\n",
       "      <td>0.0</td>\n",
       "      <td>0.0</td>\n",
       "      <td>0.0</td>\n",
       "      <td>0.0</td>\n",
       "      <td>NONE</td>\n",
       "      <td>0.0</td>\n",
       "      <td>0.0</td>\n",
       "      <td>0.0</td>\n",
       "      <td>0.0</td>\n",
       "      <td>1.0</td>\n",
       "    </tr>\n",
       "  </tbody>\n",
       "</table>\n",
       "<p>21597 rows × 19 columns</p>\n",
       "</div>"
      ],
      "text/plain": [
       "       waterfront          grade  waterfront_missing  AVERAGE  View_Excellent  \\\n",
       "0             0.0      7 Average                True      0.0             0.0   \n",
       "1             0.0      7 Average               False      0.0             0.0   \n",
       "2             0.0  6 Low Average               False      0.0             0.0   \n",
       "3             0.0      7 Average               False      0.0             0.0   \n",
       "4             0.0         8 Good               False      0.0             0.0   \n",
       "...           ...            ...                 ...      ...             ...   \n",
       "21592         0.0         8 Good               False      0.0             0.0   \n",
       "21593         0.0         8 Good               False      0.0             0.0   \n",
       "21594         0.0      7 Average               False      0.0             0.0   \n",
       "21595         0.0         8 Good                True      0.0             0.0   \n",
       "21596         0.0      7 Average               False      0.0             0.0   \n",
       "\n",
       "       View_Fair  View_Good  No View  Condition_Average  Condition_Fair  \\\n",
       "0            0.0        0.0      1.0                1.0             0.0   \n",
       "1            0.0        0.0      1.0                1.0             0.0   \n",
       "2            0.0        0.0      1.0                1.0             0.0   \n",
       "3            0.0        0.0      1.0                0.0             0.0   \n",
       "4            0.0        0.0      1.0                1.0             0.0   \n",
       "...          ...        ...      ...                ...             ...   \n",
       "21592        0.0        0.0      1.0                1.0             0.0   \n",
       "21593        0.0        0.0      1.0                1.0             0.0   \n",
       "21594        0.0        0.0      1.0                1.0             0.0   \n",
       "21595        0.0        0.0      1.0                1.0             0.0   \n",
       "21596        0.0        0.0      1.0                1.0             0.0   \n",
       "\n",
       "       Condition_Good  Condition_Poor  Condition_Very Good  view  AVERAGE  \\\n",
       "0                 0.0             0.0                  0.0  NONE      0.0   \n",
       "1                 0.0             0.0                  0.0  NONE      0.0   \n",
       "2                 0.0             0.0                  0.0  NONE      0.0   \n",
       "3                 0.0             0.0                  1.0  NONE      0.0   \n",
       "4                 0.0             0.0                  0.0  NONE      0.0   \n",
       "...               ...             ...                  ...   ...      ...   \n",
       "21592             0.0             0.0                  0.0  NONE      0.0   \n",
       "21593             0.0             0.0                  0.0  NONE      0.0   \n",
       "21594             0.0             0.0                  0.0  NONE      0.0   \n",
       "21595             0.0             0.0                  0.0  NONE      0.0   \n",
       "21596             0.0             0.0                  0.0  NONE      0.0   \n",
       "\n",
       "       View_Excellent  View_Fair  View_Good  No View  \n",
       "0                 0.0        0.0        0.0      1.0  \n",
       "1                 0.0        0.0        0.0      1.0  \n",
       "2                 0.0        0.0        0.0      1.0  \n",
       "3                 0.0        0.0        0.0      1.0  \n",
       "4                 0.0        0.0        0.0      1.0  \n",
       "...               ...        ...        ...      ...  \n",
       "21592             0.0        0.0        0.0      1.0  \n",
       "21593             0.0        0.0        0.0      1.0  \n",
       "21594             0.0        0.0        0.0      1.0  \n",
       "21595             0.0        0.0        0.0      1.0  \n",
       "21596             0.0        0.0        0.0      1.0  \n",
       "\n",
       "[21597 rows x 19 columns]"
      ]
     },
     "execution_count": 213,
     "metadata": {},
     "output_type": "execute_result"
    }
   ],
   "source": [
    "# (5b) Concatenate the new dataframe with current categoricals\n",
    "categoricals = pd.concat([categoricals, view_encoded_train], axis=1)\n",
    "\n",
    "# Visually inspect categoricals\n",
    "categoricals"
   ]
  },
  {
   "cell_type": "code",
   "execution_count": 214,
   "metadata": {
    "ExecuteTime": {
     "end_time": "2022-02-24T15:30:44.113864Z",
     "start_time": "2022-02-24T15:30:44.058184Z"
    }
   },
   "outputs": [
    {
     "data": {
      "text/html": [
       "<div>\n",
       "<style scoped>\n",
       "    .dataframe tbody tr th:only-of-type {\n",
       "        vertical-align: middle;\n",
       "    }\n",
       "\n",
       "    .dataframe tbody tr th {\n",
       "        vertical-align: top;\n",
       "    }\n",
       "\n",
       "    .dataframe thead th {\n",
       "        text-align: right;\n",
       "    }\n",
       "</style>\n",
       "<table border=\"1\" class=\"dataframe\">\n",
       "  <thead>\n",
       "    <tr style=\"text-align: right;\">\n",
       "      <th></th>\n",
       "      <th>waterfront</th>\n",
       "      <th>grade</th>\n",
       "      <th>waterfront_missing</th>\n",
       "      <th>AVERAGE</th>\n",
       "      <th>View_Excellent</th>\n",
       "      <th>View_Fair</th>\n",
       "      <th>View_Good</th>\n",
       "      <th>No View</th>\n",
       "      <th>Condition_Average</th>\n",
       "      <th>Condition_Fair</th>\n",
       "      <th>Condition_Good</th>\n",
       "      <th>Condition_Poor</th>\n",
       "      <th>Condition_Very Good</th>\n",
       "      <th>AVERAGE</th>\n",
       "      <th>View_Excellent</th>\n",
       "      <th>View_Fair</th>\n",
       "      <th>View_Good</th>\n",
       "      <th>No View</th>\n",
       "    </tr>\n",
       "  </thead>\n",
       "  <tbody>\n",
       "    <tr>\n",
       "      <th>0</th>\n",
       "      <td>0.0</td>\n",
       "      <td>7 Average</td>\n",
       "      <td>True</td>\n",
       "      <td>0.0</td>\n",
       "      <td>0.0</td>\n",
       "      <td>0.0</td>\n",
       "      <td>0.0</td>\n",
       "      <td>1.0</td>\n",
       "      <td>1.0</td>\n",
       "      <td>0.0</td>\n",
       "      <td>0.0</td>\n",
       "      <td>0.0</td>\n",
       "      <td>0.0</td>\n",
       "      <td>0.0</td>\n",
       "      <td>0.0</td>\n",
       "      <td>0.0</td>\n",
       "      <td>0.0</td>\n",
       "      <td>1.0</td>\n",
       "    </tr>\n",
       "    <tr>\n",
       "      <th>1</th>\n",
       "      <td>0.0</td>\n",
       "      <td>7 Average</td>\n",
       "      <td>False</td>\n",
       "      <td>0.0</td>\n",
       "      <td>0.0</td>\n",
       "      <td>0.0</td>\n",
       "      <td>0.0</td>\n",
       "      <td>1.0</td>\n",
       "      <td>1.0</td>\n",
       "      <td>0.0</td>\n",
       "      <td>0.0</td>\n",
       "      <td>0.0</td>\n",
       "      <td>0.0</td>\n",
       "      <td>0.0</td>\n",
       "      <td>0.0</td>\n",
       "      <td>0.0</td>\n",
       "      <td>0.0</td>\n",
       "      <td>1.0</td>\n",
       "    </tr>\n",
       "    <tr>\n",
       "      <th>2</th>\n",
       "      <td>0.0</td>\n",
       "      <td>6 Low Average</td>\n",
       "      <td>False</td>\n",
       "      <td>0.0</td>\n",
       "      <td>0.0</td>\n",
       "      <td>0.0</td>\n",
       "      <td>0.0</td>\n",
       "      <td>1.0</td>\n",
       "      <td>1.0</td>\n",
       "      <td>0.0</td>\n",
       "      <td>0.0</td>\n",
       "      <td>0.0</td>\n",
       "      <td>0.0</td>\n",
       "      <td>0.0</td>\n",
       "      <td>0.0</td>\n",
       "      <td>0.0</td>\n",
       "      <td>0.0</td>\n",
       "      <td>1.0</td>\n",
       "    </tr>\n",
       "    <tr>\n",
       "      <th>3</th>\n",
       "      <td>0.0</td>\n",
       "      <td>7 Average</td>\n",
       "      <td>False</td>\n",
       "      <td>0.0</td>\n",
       "      <td>0.0</td>\n",
       "      <td>0.0</td>\n",
       "      <td>0.0</td>\n",
       "      <td>1.0</td>\n",
       "      <td>0.0</td>\n",
       "      <td>0.0</td>\n",
       "      <td>0.0</td>\n",
       "      <td>0.0</td>\n",
       "      <td>1.0</td>\n",
       "      <td>0.0</td>\n",
       "      <td>0.0</td>\n",
       "      <td>0.0</td>\n",
       "      <td>0.0</td>\n",
       "      <td>1.0</td>\n",
       "    </tr>\n",
       "    <tr>\n",
       "      <th>4</th>\n",
       "      <td>0.0</td>\n",
       "      <td>8 Good</td>\n",
       "      <td>False</td>\n",
       "      <td>0.0</td>\n",
       "      <td>0.0</td>\n",
       "      <td>0.0</td>\n",
       "      <td>0.0</td>\n",
       "      <td>1.0</td>\n",
       "      <td>1.0</td>\n",
       "      <td>0.0</td>\n",
       "      <td>0.0</td>\n",
       "      <td>0.0</td>\n",
       "      <td>0.0</td>\n",
       "      <td>0.0</td>\n",
       "      <td>0.0</td>\n",
       "      <td>0.0</td>\n",
       "      <td>0.0</td>\n",
       "      <td>1.0</td>\n",
       "    </tr>\n",
       "    <tr>\n",
       "      <th>...</th>\n",
       "      <td>...</td>\n",
       "      <td>...</td>\n",
       "      <td>...</td>\n",
       "      <td>...</td>\n",
       "      <td>...</td>\n",
       "      <td>...</td>\n",
       "      <td>...</td>\n",
       "      <td>...</td>\n",
       "      <td>...</td>\n",
       "      <td>...</td>\n",
       "      <td>...</td>\n",
       "      <td>...</td>\n",
       "      <td>...</td>\n",
       "      <td>...</td>\n",
       "      <td>...</td>\n",
       "      <td>...</td>\n",
       "      <td>...</td>\n",
       "      <td>...</td>\n",
       "    </tr>\n",
       "    <tr>\n",
       "      <th>21592</th>\n",
       "      <td>0.0</td>\n",
       "      <td>8 Good</td>\n",
       "      <td>False</td>\n",
       "      <td>0.0</td>\n",
       "      <td>0.0</td>\n",
       "      <td>0.0</td>\n",
       "      <td>0.0</td>\n",
       "      <td>1.0</td>\n",
       "      <td>1.0</td>\n",
       "      <td>0.0</td>\n",
       "      <td>0.0</td>\n",
       "      <td>0.0</td>\n",
       "      <td>0.0</td>\n",
       "      <td>0.0</td>\n",
       "      <td>0.0</td>\n",
       "      <td>0.0</td>\n",
       "      <td>0.0</td>\n",
       "      <td>1.0</td>\n",
       "    </tr>\n",
       "    <tr>\n",
       "      <th>21593</th>\n",
       "      <td>0.0</td>\n",
       "      <td>8 Good</td>\n",
       "      <td>False</td>\n",
       "      <td>0.0</td>\n",
       "      <td>0.0</td>\n",
       "      <td>0.0</td>\n",
       "      <td>0.0</td>\n",
       "      <td>1.0</td>\n",
       "      <td>1.0</td>\n",
       "      <td>0.0</td>\n",
       "      <td>0.0</td>\n",
       "      <td>0.0</td>\n",
       "      <td>0.0</td>\n",
       "      <td>0.0</td>\n",
       "      <td>0.0</td>\n",
       "      <td>0.0</td>\n",
       "      <td>0.0</td>\n",
       "      <td>1.0</td>\n",
       "    </tr>\n",
       "    <tr>\n",
       "      <th>21594</th>\n",
       "      <td>0.0</td>\n",
       "      <td>7 Average</td>\n",
       "      <td>False</td>\n",
       "      <td>0.0</td>\n",
       "      <td>0.0</td>\n",
       "      <td>0.0</td>\n",
       "      <td>0.0</td>\n",
       "      <td>1.0</td>\n",
       "      <td>1.0</td>\n",
       "      <td>0.0</td>\n",
       "      <td>0.0</td>\n",
       "      <td>0.0</td>\n",
       "      <td>0.0</td>\n",
       "      <td>0.0</td>\n",
       "      <td>0.0</td>\n",
       "      <td>0.0</td>\n",
       "      <td>0.0</td>\n",
       "      <td>1.0</td>\n",
       "    </tr>\n",
       "    <tr>\n",
       "      <th>21595</th>\n",
       "      <td>0.0</td>\n",
       "      <td>8 Good</td>\n",
       "      <td>True</td>\n",
       "      <td>0.0</td>\n",
       "      <td>0.0</td>\n",
       "      <td>0.0</td>\n",
       "      <td>0.0</td>\n",
       "      <td>1.0</td>\n",
       "      <td>1.0</td>\n",
       "      <td>0.0</td>\n",
       "      <td>0.0</td>\n",
       "      <td>0.0</td>\n",
       "      <td>0.0</td>\n",
       "      <td>0.0</td>\n",
       "      <td>0.0</td>\n",
       "      <td>0.0</td>\n",
       "      <td>0.0</td>\n",
       "      <td>1.0</td>\n",
       "    </tr>\n",
       "    <tr>\n",
       "      <th>21596</th>\n",
       "      <td>0.0</td>\n",
       "      <td>7 Average</td>\n",
       "      <td>False</td>\n",
       "      <td>0.0</td>\n",
       "      <td>0.0</td>\n",
       "      <td>0.0</td>\n",
       "      <td>0.0</td>\n",
       "      <td>1.0</td>\n",
       "      <td>1.0</td>\n",
       "      <td>0.0</td>\n",
       "      <td>0.0</td>\n",
       "      <td>0.0</td>\n",
       "      <td>0.0</td>\n",
       "      <td>0.0</td>\n",
       "      <td>0.0</td>\n",
       "      <td>0.0</td>\n",
       "      <td>0.0</td>\n",
       "      <td>1.0</td>\n",
       "    </tr>\n",
       "  </tbody>\n",
       "</table>\n",
       "<p>21597 rows × 18 columns</p>\n",
       "</div>"
      ],
      "text/plain": [
       "       waterfront          grade  waterfront_missing  AVERAGE  View_Excellent  \\\n",
       "0             0.0      7 Average                True      0.0             0.0   \n",
       "1             0.0      7 Average               False      0.0             0.0   \n",
       "2             0.0  6 Low Average               False      0.0             0.0   \n",
       "3             0.0      7 Average               False      0.0             0.0   \n",
       "4             0.0         8 Good               False      0.0             0.0   \n",
       "...           ...            ...                 ...      ...             ...   \n",
       "21592         0.0         8 Good               False      0.0             0.0   \n",
       "21593         0.0         8 Good               False      0.0             0.0   \n",
       "21594         0.0      7 Average               False      0.0             0.0   \n",
       "21595         0.0         8 Good                True      0.0             0.0   \n",
       "21596         0.0      7 Average               False      0.0             0.0   \n",
       "\n",
       "       View_Fair  View_Good  No View  Condition_Average  Condition_Fair  \\\n",
       "0            0.0        0.0      1.0                1.0             0.0   \n",
       "1            0.0        0.0      1.0                1.0             0.0   \n",
       "2            0.0        0.0      1.0                1.0             0.0   \n",
       "3            0.0        0.0      1.0                0.0             0.0   \n",
       "4            0.0        0.0      1.0                1.0             0.0   \n",
       "...          ...        ...      ...                ...             ...   \n",
       "21592        0.0        0.0      1.0                1.0             0.0   \n",
       "21593        0.0        0.0      1.0                1.0             0.0   \n",
       "21594        0.0        0.0      1.0                1.0             0.0   \n",
       "21595        0.0        0.0      1.0                1.0             0.0   \n",
       "21596        0.0        0.0      1.0                1.0             0.0   \n",
       "\n",
       "       Condition_Good  Condition_Poor  Condition_Very Good  AVERAGE  \\\n",
       "0                 0.0             0.0                  0.0      0.0   \n",
       "1                 0.0             0.0                  0.0      0.0   \n",
       "2                 0.0             0.0                  0.0      0.0   \n",
       "3                 0.0             0.0                  1.0      0.0   \n",
       "4                 0.0             0.0                  0.0      0.0   \n",
       "...               ...             ...                  ...      ...   \n",
       "21592             0.0             0.0                  0.0      0.0   \n",
       "21593             0.0             0.0                  0.0      0.0   \n",
       "21594             0.0             0.0                  0.0      0.0   \n",
       "21595             0.0             0.0                  0.0      0.0   \n",
       "21596             0.0             0.0                  0.0      0.0   \n",
       "\n",
       "       View_Excellent  View_Fair  View_Good  No View  \n",
       "0                 0.0        0.0        0.0      1.0  \n",
       "1                 0.0        0.0        0.0      1.0  \n",
       "2                 0.0        0.0        0.0      1.0  \n",
       "3                 0.0        0.0        0.0      1.0  \n",
       "4                 0.0        0.0        0.0      1.0  \n",
       "...               ...        ...        ...      ...  \n",
       "21592             0.0        0.0        0.0      1.0  \n",
       "21593             0.0        0.0        0.0      1.0  \n",
       "21594             0.0        0.0        0.0      1.0  \n",
       "21595             0.0        0.0        0.0      1.0  \n",
       "21596             0.0        0.0        0.0      1.0  \n",
       "\n",
       "[21597 rows x 18 columns]"
      ]
     },
     "execution_count": 214,
     "metadata": {},
     "output_type": "execute_result"
    }
   ],
   "source": [
    "# (5c) Drop original view column\n",
    "categoricals.drop(\"view\", axis=1, inplace=True)\n",
    "\n",
    "# Visually inspect X_train\n",
    "categoricals"
   ]
  },
  {
   "cell_type": "markdown",
   "metadata": {},
   "source": [
    "### ohe condition"
   ]
  },
  {
   "cell_type": "code",
   "execution_count": 215,
   "metadata": {
    "ExecuteTime": {
     "end_time": "2022-02-24T15:30:44.850863Z",
     "start_time": "2022-02-24T15:30:44.787159Z"
    }
   },
   "outputs": [
    {
     "ename": "KeyError",
     "evalue": "'condition'",
     "output_type": "error",
     "traceback": [
      "\u001b[0;31m---------------------------------------------------------------------------\u001b[0m",
      "\u001b[0;31mKeyError\u001b[0m                                  Traceback (most recent call last)",
      "\u001b[0;32m~/opt/anaconda3/envs/learn-env/lib/python3.8/site-packages/pandas/core/indexes/base.py\u001b[0m in \u001b[0;36mget_loc\u001b[0;34m(self, key, method, tolerance)\u001b[0m\n\u001b[1;32m   2894\u001b[0m             \u001b[0;32mtry\u001b[0m\u001b[0;34m:\u001b[0m\u001b[0;34m\u001b[0m\u001b[0;34m\u001b[0m\u001b[0m\n\u001b[0;32m-> 2895\u001b[0;31m                 \u001b[0;32mreturn\u001b[0m \u001b[0mself\u001b[0m\u001b[0;34m.\u001b[0m\u001b[0m_engine\u001b[0m\u001b[0;34m.\u001b[0m\u001b[0mget_loc\u001b[0m\u001b[0;34m(\u001b[0m\u001b[0mcasted_key\u001b[0m\u001b[0;34m)\u001b[0m\u001b[0;34m\u001b[0m\u001b[0;34m\u001b[0m\u001b[0m\n\u001b[0m\u001b[1;32m   2896\u001b[0m             \u001b[0;32mexcept\u001b[0m \u001b[0mKeyError\u001b[0m \u001b[0;32mas\u001b[0m \u001b[0merr\u001b[0m\u001b[0;34m:\u001b[0m\u001b[0;34m\u001b[0m\u001b[0;34m\u001b[0m\u001b[0m\n",
      "\u001b[0;32mpandas/_libs/index.pyx\u001b[0m in \u001b[0;36mpandas._libs.index.IndexEngine.get_loc\u001b[0;34m()\u001b[0m\n",
      "\u001b[0;32mpandas/_libs/index.pyx\u001b[0m in \u001b[0;36mpandas._libs.index.IndexEngine.get_loc\u001b[0;34m()\u001b[0m\n",
      "\u001b[0;32mpandas/_libs/index.pyx\u001b[0m in \u001b[0;36mpandas._libs.index.IndexEngine._get_loc_duplicates\u001b[0;34m()\u001b[0m\n",
      "\u001b[0;32mpandas/_libs/index.pyx\u001b[0m in \u001b[0;36mpandas._libs.index.IndexEngine._maybe_get_bool_indexer\u001b[0;34m()\u001b[0m\n",
      "\u001b[0;32mpandas/_libs/index.pyx\u001b[0m in \u001b[0;36mpandas._libs.index.IndexEngine._unpack_bool_indexer\u001b[0;34m()\u001b[0m\n",
      "\u001b[0;31mKeyError\u001b[0m: 'condition'",
      "\nThe above exception was the direct cause of the following exception:\n",
      "\u001b[0;31mKeyError\u001b[0m                                  Traceback (most recent call last)",
      "\u001b[0;32m<ipython-input-215-8bb3408b7425>\u001b[0m in \u001b[0;36m<module>\u001b[0;34m\u001b[0m\n\u001b[0;32m----> 1\u001b[0;31m \u001b[0mcategoricals\u001b[0m\u001b[0;34m[\u001b[0m\u001b[0;34m'condition'\u001b[0m\u001b[0;34m]\u001b[0m\u001b[0;34m.\u001b[0m\u001b[0mvalue_counts\u001b[0m\u001b[0;34m(\u001b[0m\u001b[0;34m)\u001b[0m\u001b[0;34m\u001b[0m\u001b[0;34m\u001b[0m\u001b[0m\n\u001b[0m",
      "\u001b[0;32m~/opt/anaconda3/envs/learn-env/lib/python3.8/site-packages/pandas/core/frame.py\u001b[0m in \u001b[0;36m__getitem__\u001b[0;34m(self, key)\u001b[0m\n\u001b[1;32m   2900\u001b[0m             \u001b[0;32mif\u001b[0m \u001b[0mself\u001b[0m\u001b[0;34m.\u001b[0m\u001b[0mcolumns\u001b[0m\u001b[0;34m.\u001b[0m\u001b[0mnlevels\u001b[0m \u001b[0;34m>\u001b[0m \u001b[0;36m1\u001b[0m\u001b[0;34m:\u001b[0m\u001b[0;34m\u001b[0m\u001b[0;34m\u001b[0m\u001b[0m\n\u001b[1;32m   2901\u001b[0m                 \u001b[0;32mreturn\u001b[0m \u001b[0mself\u001b[0m\u001b[0;34m.\u001b[0m\u001b[0m_getitem_multilevel\u001b[0m\u001b[0;34m(\u001b[0m\u001b[0mkey\u001b[0m\u001b[0;34m)\u001b[0m\u001b[0;34m\u001b[0m\u001b[0;34m\u001b[0m\u001b[0m\n\u001b[0;32m-> 2902\u001b[0;31m             \u001b[0mindexer\u001b[0m \u001b[0;34m=\u001b[0m \u001b[0mself\u001b[0m\u001b[0;34m.\u001b[0m\u001b[0mcolumns\u001b[0m\u001b[0;34m.\u001b[0m\u001b[0mget_loc\u001b[0m\u001b[0;34m(\u001b[0m\u001b[0mkey\u001b[0m\u001b[0;34m)\u001b[0m\u001b[0;34m\u001b[0m\u001b[0;34m\u001b[0m\u001b[0m\n\u001b[0m\u001b[1;32m   2903\u001b[0m             \u001b[0;32mif\u001b[0m \u001b[0mis_integer\u001b[0m\u001b[0;34m(\u001b[0m\u001b[0mindexer\u001b[0m\u001b[0;34m)\u001b[0m\u001b[0;34m:\u001b[0m\u001b[0;34m\u001b[0m\u001b[0;34m\u001b[0m\u001b[0m\n\u001b[1;32m   2904\u001b[0m                 \u001b[0mindexer\u001b[0m \u001b[0;34m=\u001b[0m \u001b[0;34m[\u001b[0m\u001b[0mindexer\u001b[0m\u001b[0;34m]\u001b[0m\u001b[0;34m\u001b[0m\u001b[0;34m\u001b[0m\u001b[0m\n",
      "\u001b[0;32m~/opt/anaconda3/envs/learn-env/lib/python3.8/site-packages/pandas/core/indexes/base.py\u001b[0m in \u001b[0;36mget_loc\u001b[0;34m(self, key, method, tolerance)\u001b[0m\n\u001b[1;32m   2895\u001b[0m                 \u001b[0;32mreturn\u001b[0m \u001b[0mself\u001b[0m\u001b[0;34m.\u001b[0m\u001b[0m_engine\u001b[0m\u001b[0;34m.\u001b[0m\u001b[0mget_loc\u001b[0m\u001b[0;34m(\u001b[0m\u001b[0mcasted_key\u001b[0m\u001b[0;34m)\u001b[0m\u001b[0;34m\u001b[0m\u001b[0;34m\u001b[0m\u001b[0m\n\u001b[1;32m   2896\u001b[0m             \u001b[0;32mexcept\u001b[0m \u001b[0mKeyError\u001b[0m \u001b[0;32mas\u001b[0m \u001b[0merr\u001b[0m\u001b[0;34m:\u001b[0m\u001b[0;34m\u001b[0m\u001b[0;34m\u001b[0m\u001b[0m\n\u001b[0;32m-> 2897\u001b[0;31m                 \u001b[0;32mraise\u001b[0m \u001b[0mKeyError\u001b[0m\u001b[0;34m(\u001b[0m\u001b[0mkey\u001b[0m\u001b[0;34m)\u001b[0m \u001b[0;32mfrom\u001b[0m \u001b[0merr\u001b[0m\u001b[0;34m\u001b[0m\u001b[0;34m\u001b[0m\u001b[0m\n\u001b[0m\u001b[1;32m   2898\u001b[0m \u001b[0;34m\u001b[0m\u001b[0m\n\u001b[1;32m   2899\u001b[0m         \u001b[0;32mif\u001b[0m \u001b[0mtolerance\u001b[0m \u001b[0;32mis\u001b[0m \u001b[0;32mnot\u001b[0m \u001b[0;32mNone\u001b[0m\u001b[0;34m:\u001b[0m\u001b[0;34m\u001b[0m\u001b[0;34m\u001b[0m\u001b[0m\n",
      "\u001b[0;31mKeyError\u001b[0m: 'condition'"
     ]
    }
   ],
   "source": [
    "categoricals['condition'].value_counts()"
   ]
  },
  {
   "cell_type": "code",
   "execution_count": 216,
   "metadata": {
    "ExecuteTime": {
     "end_time": "2022-02-24T15:30:45.173081Z",
     "start_time": "2022-02-24T15:30:45.151214Z"
    }
   },
   "outputs": [
    {
     "ename": "KeyError",
     "evalue": "\"None of [Index(['condition'], dtype='object')] are in the [columns]\"",
     "output_type": "error",
     "traceback": [
      "\u001b[0;31m---------------------------------------------------------------------------\u001b[0m",
      "\u001b[0;31mKeyError\u001b[0m                                  Traceback (most recent call last)",
      "\u001b[0;32m<ipython-input-216-6d8e11945800>\u001b[0m in \u001b[0;36m<module>\u001b[0;34m\u001b[0m\n\u001b[1;32m      2\u001b[0m \u001b[0;31m# extracted from categoricals\u001b[0m\u001b[0;34m\u001b[0m\u001b[0;34m\u001b[0m\u001b[0;34m\u001b[0m\u001b[0m\n\u001b[1;32m      3\u001b[0m \u001b[0;31m# (double brackets due to shape expected by OHE)\u001b[0m\u001b[0;34m\u001b[0m\u001b[0;34m\u001b[0m\u001b[0;34m\u001b[0m\u001b[0m\n\u001b[0;32m----> 4\u001b[0;31m \u001b[0mcondition_train\u001b[0m \u001b[0;34m=\u001b[0m \u001b[0mcategoricals\u001b[0m\u001b[0;34m[\u001b[0m\u001b[0;34m[\u001b[0m\u001b[0;34m\"condition\"\u001b[0m\u001b[0;34m]\u001b[0m\u001b[0;34m]\u001b[0m\u001b[0;34m\u001b[0m\u001b[0;34m\u001b[0m\u001b[0m\n\u001b[0m\u001b[1;32m      5\u001b[0m \u001b[0;34m\u001b[0m\u001b[0m\n\u001b[1;32m      6\u001b[0m \u001b[0;31m# (2) Fit the encoder on fireplace_qu_train\u001b[0m\u001b[0;34m\u001b[0m\u001b[0;34m\u001b[0m\u001b[0;34m\u001b[0m\u001b[0m\n",
      "\u001b[0;32m~/opt/anaconda3/envs/learn-env/lib/python3.8/site-packages/pandas/core/frame.py\u001b[0m in \u001b[0;36m__getitem__\u001b[0;34m(self, key)\u001b[0m\n\u001b[1;32m   2906\u001b[0m             \u001b[0;32mif\u001b[0m \u001b[0mis_iterator\u001b[0m\u001b[0;34m(\u001b[0m\u001b[0mkey\u001b[0m\u001b[0;34m)\u001b[0m\u001b[0;34m:\u001b[0m\u001b[0;34m\u001b[0m\u001b[0;34m\u001b[0m\u001b[0m\n\u001b[1;32m   2907\u001b[0m                 \u001b[0mkey\u001b[0m \u001b[0;34m=\u001b[0m \u001b[0mlist\u001b[0m\u001b[0;34m(\u001b[0m\u001b[0mkey\u001b[0m\u001b[0;34m)\u001b[0m\u001b[0;34m\u001b[0m\u001b[0;34m\u001b[0m\u001b[0m\n\u001b[0;32m-> 2908\u001b[0;31m             \u001b[0mindexer\u001b[0m \u001b[0;34m=\u001b[0m \u001b[0mself\u001b[0m\u001b[0;34m.\u001b[0m\u001b[0mloc\u001b[0m\u001b[0;34m.\u001b[0m\u001b[0m_get_listlike_indexer\u001b[0m\u001b[0;34m(\u001b[0m\u001b[0mkey\u001b[0m\u001b[0;34m,\u001b[0m \u001b[0maxis\u001b[0m\u001b[0;34m=\u001b[0m\u001b[0;36m1\u001b[0m\u001b[0;34m,\u001b[0m \u001b[0mraise_missing\u001b[0m\u001b[0;34m=\u001b[0m\u001b[0;32mTrue\u001b[0m\u001b[0;34m)\u001b[0m\u001b[0;34m[\u001b[0m\u001b[0;36m1\u001b[0m\u001b[0;34m]\u001b[0m\u001b[0;34m\u001b[0m\u001b[0;34m\u001b[0m\u001b[0m\n\u001b[0m\u001b[1;32m   2909\u001b[0m \u001b[0;34m\u001b[0m\u001b[0m\n\u001b[1;32m   2910\u001b[0m         \u001b[0;31m# take() does not accept boolean indexers\u001b[0m\u001b[0;34m\u001b[0m\u001b[0;34m\u001b[0m\u001b[0;34m\u001b[0m\u001b[0m\n",
      "\u001b[0;32m~/opt/anaconda3/envs/learn-env/lib/python3.8/site-packages/pandas/core/indexing.py\u001b[0m in \u001b[0;36m_get_listlike_indexer\u001b[0;34m(self, key, axis, raise_missing)\u001b[0m\n\u001b[1;32m   1252\u001b[0m             \u001b[0mkeyarr\u001b[0m\u001b[0;34m,\u001b[0m \u001b[0mindexer\u001b[0m\u001b[0;34m,\u001b[0m \u001b[0mnew_indexer\u001b[0m \u001b[0;34m=\u001b[0m \u001b[0max\u001b[0m\u001b[0;34m.\u001b[0m\u001b[0m_reindex_non_unique\u001b[0m\u001b[0;34m(\u001b[0m\u001b[0mkeyarr\u001b[0m\u001b[0;34m)\u001b[0m\u001b[0;34m\u001b[0m\u001b[0;34m\u001b[0m\u001b[0m\n\u001b[1;32m   1253\u001b[0m \u001b[0;34m\u001b[0m\u001b[0m\n\u001b[0;32m-> 1254\u001b[0;31m         \u001b[0mself\u001b[0m\u001b[0;34m.\u001b[0m\u001b[0m_validate_read_indexer\u001b[0m\u001b[0;34m(\u001b[0m\u001b[0mkeyarr\u001b[0m\u001b[0;34m,\u001b[0m \u001b[0mindexer\u001b[0m\u001b[0;34m,\u001b[0m \u001b[0maxis\u001b[0m\u001b[0;34m,\u001b[0m \u001b[0mraise_missing\u001b[0m\u001b[0;34m=\u001b[0m\u001b[0mraise_missing\u001b[0m\u001b[0;34m)\u001b[0m\u001b[0;34m\u001b[0m\u001b[0;34m\u001b[0m\u001b[0m\n\u001b[0m\u001b[1;32m   1255\u001b[0m         \u001b[0;32mreturn\u001b[0m \u001b[0mkeyarr\u001b[0m\u001b[0;34m,\u001b[0m \u001b[0mindexer\u001b[0m\u001b[0;34m\u001b[0m\u001b[0;34m\u001b[0m\u001b[0m\n\u001b[1;32m   1256\u001b[0m \u001b[0;34m\u001b[0m\u001b[0m\n",
      "\u001b[0;32m~/opt/anaconda3/envs/learn-env/lib/python3.8/site-packages/pandas/core/indexing.py\u001b[0m in \u001b[0;36m_validate_read_indexer\u001b[0;34m(self, key, indexer, axis, raise_missing)\u001b[0m\n\u001b[1;32m   1296\u001b[0m             \u001b[0;32mif\u001b[0m \u001b[0mmissing\u001b[0m \u001b[0;34m==\u001b[0m \u001b[0mlen\u001b[0m\u001b[0;34m(\u001b[0m\u001b[0mindexer\u001b[0m\u001b[0;34m)\u001b[0m\u001b[0;34m:\u001b[0m\u001b[0;34m\u001b[0m\u001b[0;34m\u001b[0m\u001b[0m\n\u001b[1;32m   1297\u001b[0m                 \u001b[0maxis_name\u001b[0m \u001b[0;34m=\u001b[0m \u001b[0mself\u001b[0m\u001b[0;34m.\u001b[0m\u001b[0mobj\u001b[0m\u001b[0;34m.\u001b[0m\u001b[0m_get_axis_name\u001b[0m\u001b[0;34m(\u001b[0m\u001b[0maxis\u001b[0m\u001b[0;34m)\u001b[0m\u001b[0;34m\u001b[0m\u001b[0;34m\u001b[0m\u001b[0m\n\u001b[0;32m-> 1298\u001b[0;31m                 \u001b[0;32mraise\u001b[0m \u001b[0mKeyError\u001b[0m\u001b[0;34m(\u001b[0m\u001b[0;34mf\"None of [{key}] are in the [{axis_name}]\"\u001b[0m\u001b[0;34m)\u001b[0m\u001b[0;34m\u001b[0m\u001b[0;34m\u001b[0m\u001b[0m\n\u001b[0m\u001b[1;32m   1299\u001b[0m \u001b[0;34m\u001b[0m\u001b[0m\n\u001b[1;32m   1300\u001b[0m             \u001b[0;31m# We (temporarily) allow for some missing keys with .loc, except in\u001b[0m\u001b[0;34m\u001b[0m\u001b[0;34m\u001b[0m\u001b[0;34m\u001b[0m\u001b[0m\n",
      "\u001b[0;31mKeyError\u001b[0m: \"None of [Index(['condition'], dtype='object')] are in the [columns]\""
     ]
    }
   ],
   "source": [
    "# (1) Create a variable condition_train\n",
    "# extracted from categoricals\n",
    "# (double brackets due to shape expected by OHE)\n",
    "condition_train = categoricals[[\"condition\"]]\n",
    "\n",
    "# (2) Fit the encoder on fireplace_qu_train\n",
    "ohe.fit(condition_train)\n",
    "\n",
    "# Inspect the categories of the fitted encoder\n",
    "ohe.categories_"
   ]
  },
  {
   "cell_type": "code",
   "execution_count": 217,
   "metadata": {
    "ExecuteTime": {
     "end_time": "2022-02-24T15:30:45.521817Z",
     "start_time": "2022-02-24T15:30:45.496504Z"
    }
   },
   "outputs": [
    {
     "data": {
      "text/plain": [
       "array([[0., 0., 0., 0., 0.],\n",
       "       [0., 0., 0., 0., 0.],\n",
       "       [0., 0., 0., 0., 0.],\n",
       "       ...,\n",
       "       [0., 0., 0., 0., 0.],\n",
       "       [0., 0., 0., 0., 0.],\n",
       "       [0., 0., 0., 0., 0.]])"
      ]
     },
     "execution_count": 217,
     "metadata": {},
     "output_type": "execute_result"
    }
   ],
   "source": [
    "# (3) Transform condition_train using the encoder and\n",
    "# assign the result to condition_encoded_train\n",
    "condition_encoded_train = ohe.transform(condition_train)\n",
    "\n",
    "# Visually inspect condition_encoded_train\n",
    "condition_encoded_train"
   ]
  },
  {
   "cell_type": "code",
   "execution_count": 218,
   "metadata": {
    "ExecuteTime": {
     "end_time": "2022-02-24T15:30:45.900977Z",
     "start_time": "2022-02-24T15:30:45.866811Z"
    }
   },
   "outputs": [
    {
     "data": {
      "text/html": [
       "<div>\n",
       "<style scoped>\n",
       "    .dataframe tbody tr th:only-of-type {\n",
       "        vertical-align: middle;\n",
       "    }\n",
       "\n",
       "    .dataframe tbody tr th {\n",
       "        vertical-align: top;\n",
       "    }\n",
       "\n",
       "    .dataframe thead th {\n",
       "        text-align: right;\n",
       "    }\n",
       "</style>\n",
       "<table border=\"1\" class=\"dataframe\">\n",
       "  <thead>\n",
       "    <tr style=\"text-align: right;\">\n",
       "      <th></th>\n",
       "      <th>AVERAGE</th>\n",
       "      <th>EXCELLENT</th>\n",
       "      <th>FAIR</th>\n",
       "      <th>GOOD</th>\n",
       "      <th>NONE</th>\n",
       "    </tr>\n",
       "  </thead>\n",
       "  <tbody>\n",
       "    <tr>\n",
       "      <th>0</th>\n",
       "      <td>0.0</td>\n",
       "      <td>0.0</td>\n",
       "      <td>0.0</td>\n",
       "      <td>0.0</td>\n",
       "      <td>0.0</td>\n",
       "    </tr>\n",
       "    <tr>\n",
       "      <th>1</th>\n",
       "      <td>0.0</td>\n",
       "      <td>0.0</td>\n",
       "      <td>0.0</td>\n",
       "      <td>0.0</td>\n",
       "      <td>0.0</td>\n",
       "    </tr>\n",
       "    <tr>\n",
       "      <th>2</th>\n",
       "      <td>0.0</td>\n",
       "      <td>0.0</td>\n",
       "      <td>0.0</td>\n",
       "      <td>0.0</td>\n",
       "      <td>0.0</td>\n",
       "    </tr>\n",
       "    <tr>\n",
       "      <th>3</th>\n",
       "      <td>0.0</td>\n",
       "      <td>0.0</td>\n",
       "      <td>0.0</td>\n",
       "      <td>0.0</td>\n",
       "      <td>0.0</td>\n",
       "    </tr>\n",
       "    <tr>\n",
       "      <th>4</th>\n",
       "      <td>0.0</td>\n",
       "      <td>0.0</td>\n",
       "      <td>0.0</td>\n",
       "      <td>0.0</td>\n",
       "      <td>0.0</td>\n",
       "    </tr>\n",
       "    <tr>\n",
       "      <th>...</th>\n",
       "      <td>...</td>\n",
       "      <td>...</td>\n",
       "      <td>...</td>\n",
       "      <td>...</td>\n",
       "      <td>...</td>\n",
       "    </tr>\n",
       "    <tr>\n",
       "      <th>21592</th>\n",
       "      <td>0.0</td>\n",
       "      <td>0.0</td>\n",
       "      <td>0.0</td>\n",
       "      <td>0.0</td>\n",
       "      <td>0.0</td>\n",
       "    </tr>\n",
       "    <tr>\n",
       "      <th>21593</th>\n",
       "      <td>0.0</td>\n",
       "      <td>0.0</td>\n",
       "      <td>0.0</td>\n",
       "      <td>0.0</td>\n",
       "      <td>0.0</td>\n",
       "    </tr>\n",
       "    <tr>\n",
       "      <th>21594</th>\n",
       "      <td>0.0</td>\n",
       "      <td>0.0</td>\n",
       "      <td>0.0</td>\n",
       "      <td>0.0</td>\n",
       "      <td>0.0</td>\n",
       "    </tr>\n",
       "    <tr>\n",
       "      <th>21595</th>\n",
       "      <td>0.0</td>\n",
       "      <td>0.0</td>\n",
       "      <td>0.0</td>\n",
       "      <td>0.0</td>\n",
       "      <td>0.0</td>\n",
       "    </tr>\n",
       "    <tr>\n",
       "      <th>21596</th>\n",
       "      <td>0.0</td>\n",
       "      <td>0.0</td>\n",
       "      <td>0.0</td>\n",
       "      <td>0.0</td>\n",
       "      <td>0.0</td>\n",
       "    </tr>\n",
       "  </tbody>\n",
       "</table>\n",
       "<p>21597 rows × 5 columns</p>\n",
       "</div>"
      ],
      "text/plain": [
       "       AVERAGE  EXCELLENT  FAIR  GOOD  NONE\n",
       "0          0.0        0.0   0.0   0.0   0.0\n",
       "1          0.0        0.0   0.0   0.0   0.0\n",
       "2          0.0        0.0   0.0   0.0   0.0\n",
       "3          0.0        0.0   0.0   0.0   0.0\n",
       "4          0.0        0.0   0.0   0.0   0.0\n",
       "...        ...        ...   ...   ...   ...\n",
       "21592      0.0        0.0   0.0   0.0   0.0\n",
       "21593      0.0        0.0   0.0   0.0   0.0\n",
       "21594      0.0        0.0   0.0   0.0   0.0\n",
       "21595      0.0        0.0   0.0   0.0   0.0\n",
       "21596      0.0        0.0   0.0   0.0   0.0\n",
       "\n",
       "[21597 rows x 5 columns]"
      ]
     },
     "execution_count": 218,
     "metadata": {},
     "output_type": "execute_result"
    }
   ],
   "source": [
    "# (4a) Make the transformed data into a dataframe\n",
    "condition_encoded_train = pd.DataFrame(\n",
    "    # Pass in NumPy array\n",
    "    condition_encoded_train,\n",
    "    # Set the column names to the categories found by OHE\n",
    "    columns=ohe.categories_[0],\n",
    "    # Set the index to match X_train's index\n",
    "    index=categoricals.index\n",
    ")\n",
    "\n",
    "# Visually inspect new dataframe\n",
    "condition_encoded_train"
   ]
  },
  {
   "cell_type": "code",
   "execution_count": 219,
   "metadata": {
    "ExecuteTime": {
     "end_time": "2022-02-24T15:30:50.898878Z",
     "start_time": "2022-02-24T15:30:50.872237Z"
    }
   },
   "outputs": [
    {
     "data": {
      "text/html": [
       "<div>\n",
       "<style scoped>\n",
       "    .dataframe tbody tr th:only-of-type {\n",
       "        vertical-align: middle;\n",
       "    }\n",
       "\n",
       "    .dataframe tbody tr th {\n",
       "        vertical-align: top;\n",
       "    }\n",
       "\n",
       "    .dataframe thead th {\n",
       "        text-align: right;\n",
       "    }\n",
       "</style>\n",
       "<table border=\"1\" class=\"dataframe\">\n",
       "  <thead>\n",
       "    <tr style=\"text-align: right;\">\n",
       "      <th></th>\n",
       "      <th>AVERAGE</th>\n",
       "      <th>EXCELLENT</th>\n",
       "      <th>FAIR</th>\n",
       "      <th>GOOD</th>\n",
       "      <th>NONE</th>\n",
       "    </tr>\n",
       "  </thead>\n",
       "  <tbody>\n",
       "    <tr>\n",
       "      <th>0</th>\n",
       "      <td>0.0</td>\n",
       "      <td>0.0</td>\n",
       "      <td>0.0</td>\n",
       "      <td>0.0</td>\n",
       "      <td>0.0</td>\n",
       "    </tr>\n",
       "    <tr>\n",
       "      <th>1</th>\n",
       "      <td>0.0</td>\n",
       "      <td>0.0</td>\n",
       "      <td>0.0</td>\n",
       "      <td>0.0</td>\n",
       "      <td>0.0</td>\n",
       "    </tr>\n",
       "    <tr>\n",
       "      <th>2</th>\n",
       "      <td>0.0</td>\n",
       "      <td>0.0</td>\n",
       "      <td>0.0</td>\n",
       "      <td>0.0</td>\n",
       "      <td>0.0</td>\n",
       "    </tr>\n",
       "    <tr>\n",
       "      <th>3</th>\n",
       "      <td>0.0</td>\n",
       "      <td>0.0</td>\n",
       "      <td>0.0</td>\n",
       "      <td>0.0</td>\n",
       "      <td>0.0</td>\n",
       "    </tr>\n",
       "    <tr>\n",
       "      <th>4</th>\n",
       "      <td>0.0</td>\n",
       "      <td>0.0</td>\n",
       "      <td>0.0</td>\n",
       "      <td>0.0</td>\n",
       "      <td>0.0</td>\n",
       "    </tr>\n",
       "    <tr>\n",
       "      <th>...</th>\n",
       "      <td>...</td>\n",
       "      <td>...</td>\n",
       "      <td>...</td>\n",
       "      <td>...</td>\n",
       "      <td>...</td>\n",
       "    </tr>\n",
       "    <tr>\n",
       "      <th>21592</th>\n",
       "      <td>0.0</td>\n",
       "      <td>0.0</td>\n",
       "      <td>0.0</td>\n",
       "      <td>0.0</td>\n",
       "      <td>0.0</td>\n",
       "    </tr>\n",
       "    <tr>\n",
       "      <th>21593</th>\n",
       "      <td>0.0</td>\n",
       "      <td>0.0</td>\n",
       "      <td>0.0</td>\n",
       "      <td>0.0</td>\n",
       "      <td>0.0</td>\n",
       "    </tr>\n",
       "    <tr>\n",
       "      <th>21594</th>\n",
       "      <td>0.0</td>\n",
       "      <td>0.0</td>\n",
       "      <td>0.0</td>\n",
       "      <td>0.0</td>\n",
       "      <td>0.0</td>\n",
       "    </tr>\n",
       "    <tr>\n",
       "      <th>21595</th>\n",
       "      <td>0.0</td>\n",
       "      <td>0.0</td>\n",
       "      <td>0.0</td>\n",
       "      <td>0.0</td>\n",
       "      <td>0.0</td>\n",
       "    </tr>\n",
       "    <tr>\n",
       "      <th>21596</th>\n",
       "      <td>0.0</td>\n",
       "      <td>0.0</td>\n",
       "      <td>0.0</td>\n",
       "      <td>0.0</td>\n",
       "      <td>0.0</td>\n",
       "    </tr>\n",
       "  </tbody>\n",
       "</table>\n",
       "<p>21597 rows × 5 columns</p>\n",
       "</div>"
      ],
      "text/plain": [
       "       AVERAGE  EXCELLENT  FAIR  GOOD  NONE\n",
       "0          0.0        0.0   0.0   0.0   0.0\n",
       "1          0.0        0.0   0.0   0.0   0.0\n",
       "2          0.0        0.0   0.0   0.0   0.0\n",
       "3          0.0        0.0   0.0   0.0   0.0\n",
       "4          0.0        0.0   0.0   0.0   0.0\n",
       "...        ...        ...   ...   ...   ...\n",
       "21592      0.0        0.0   0.0   0.0   0.0\n",
       "21593      0.0        0.0   0.0   0.0   0.0\n",
       "21594      0.0        0.0   0.0   0.0   0.0\n",
       "21595      0.0        0.0   0.0   0.0   0.0\n",
       "21596      0.0        0.0   0.0   0.0   0.0\n",
       "\n",
       "[21597 rows x 5 columns]"
      ]
     },
     "execution_count": 219,
     "metadata": {},
     "output_type": "execute_result"
    }
   ],
   "source": [
    "condition_encoded_train = condition_encoded_train.rename(columns={'Average':'Condition_Average',\n",
    "                                        'Fair':'Condition_Fair',\n",
    "                                        'Good':'Condition_Good',\n",
    "                                        'Poor':'Condition_Poor',\n",
    "                                        'Very Good':'Condition_Very Good'})\n",
    "condition_encoded_train"
   ]
  },
  {
   "cell_type": "code",
   "execution_count": 220,
   "metadata": {
    "ExecuteTime": {
     "end_time": "2022-02-24T15:30:51.380242Z",
     "start_time": "2022-02-24T15:30:51.295230Z"
    }
   },
   "outputs": [
    {
     "data": {
      "text/html": [
       "<div>\n",
       "<style scoped>\n",
       "    .dataframe tbody tr th:only-of-type {\n",
       "        vertical-align: middle;\n",
       "    }\n",
       "\n",
       "    .dataframe tbody tr th {\n",
       "        vertical-align: top;\n",
       "    }\n",
       "\n",
       "    .dataframe thead th {\n",
       "        text-align: right;\n",
       "    }\n",
       "</style>\n",
       "<table border=\"1\" class=\"dataframe\">\n",
       "  <thead>\n",
       "    <tr style=\"text-align: right;\">\n",
       "      <th></th>\n",
       "      <th>waterfront</th>\n",
       "      <th>grade</th>\n",
       "      <th>waterfront_missing</th>\n",
       "      <th>AVERAGE</th>\n",
       "      <th>View_Excellent</th>\n",
       "      <th>View_Fair</th>\n",
       "      <th>View_Good</th>\n",
       "      <th>No View</th>\n",
       "      <th>Condition_Average</th>\n",
       "      <th>Condition_Fair</th>\n",
       "      <th>...</th>\n",
       "      <th>AVERAGE</th>\n",
       "      <th>View_Excellent</th>\n",
       "      <th>View_Fair</th>\n",
       "      <th>View_Good</th>\n",
       "      <th>No View</th>\n",
       "      <th>AVERAGE</th>\n",
       "      <th>EXCELLENT</th>\n",
       "      <th>FAIR</th>\n",
       "      <th>GOOD</th>\n",
       "      <th>NONE</th>\n",
       "    </tr>\n",
       "  </thead>\n",
       "  <tbody>\n",
       "    <tr>\n",
       "      <th>0</th>\n",
       "      <td>0.0</td>\n",
       "      <td>7 Average</td>\n",
       "      <td>True</td>\n",
       "      <td>0.0</td>\n",
       "      <td>0.0</td>\n",
       "      <td>0.0</td>\n",
       "      <td>0.0</td>\n",
       "      <td>1.0</td>\n",
       "      <td>1.0</td>\n",
       "      <td>0.0</td>\n",
       "      <td>...</td>\n",
       "      <td>0.0</td>\n",
       "      <td>0.0</td>\n",
       "      <td>0.0</td>\n",
       "      <td>0.0</td>\n",
       "      <td>1.0</td>\n",
       "      <td>0.0</td>\n",
       "      <td>0.0</td>\n",
       "      <td>0.0</td>\n",
       "      <td>0.0</td>\n",
       "      <td>0.0</td>\n",
       "    </tr>\n",
       "    <tr>\n",
       "      <th>1</th>\n",
       "      <td>0.0</td>\n",
       "      <td>7 Average</td>\n",
       "      <td>False</td>\n",
       "      <td>0.0</td>\n",
       "      <td>0.0</td>\n",
       "      <td>0.0</td>\n",
       "      <td>0.0</td>\n",
       "      <td>1.0</td>\n",
       "      <td>1.0</td>\n",
       "      <td>0.0</td>\n",
       "      <td>...</td>\n",
       "      <td>0.0</td>\n",
       "      <td>0.0</td>\n",
       "      <td>0.0</td>\n",
       "      <td>0.0</td>\n",
       "      <td>1.0</td>\n",
       "      <td>0.0</td>\n",
       "      <td>0.0</td>\n",
       "      <td>0.0</td>\n",
       "      <td>0.0</td>\n",
       "      <td>0.0</td>\n",
       "    </tr>\n",
       "    <tr>\n",
       "      <th>2</th>\n",
       "      <td>0.0</td>\n",
       "      <td>6 Low Average</td>\n",
       "      <td>False</td>\n",
       "      <td>0.0</td>\n",
       "      <td>0.0</td>\n",
       "      <td>0.0</td>\n",
       "      <td>0.0</td>\n",
       "      <td>1.0</td>\n",
       "      <td>1.0</td>\n",
       "      <td>0.0</td>\n",
       "      <td>...</td>\n",
       "      <td>0.0</td>\n",
       "      <td>0.0</td>\n",
       "      <td>0.0</td>\n",
       "      <td>0.0</td>\n",
       "      <td>1.0</td>\n",
       "      <td>0.0</td>\n",
       "      <td>0.0</td>\n",
       "      <td>0.0</td>\n",
       "      <td>0.0</td>\n",
       "      <td>0.0</td>\n",
       "    </tr>\n",
       "    <tr>\n",
       "      <th>3</th>\n",
       "      <td>0.0</td>\n",
       "      <td>7 Average</td>\n",
       "      <td>False</td>\n",
       "      <td>0.0</td>\n",
       "      <td>0.0</td>\n",
       "      <td>0.0</td>\n",
       "      <td>0.0</td>\n",
       "      <td>1.0</td>\n",
       "      <td>0.0</td>\n",
       "      <td>0.0</td>\n",
       "      <td>...</td>\n",
       "      <td>0.0</td>\n",
       "      <td>0.0</td>\n",
       "      <td>0.0</td>\n",
       "      <td>0.0</td>\n",
       "      <td>1.0</td>\n",
       "      <td>0.0</td>\n",
       "      <td>0.0</td>\n",
       "      <td>0.0</td>\n",
       "      <td>0.0</td>\n",
       "      <td>0.0</td>\n",
       "    </tr>\n",
       "    <tr>\n",
       "      <th>4</th>\n",
       "      <td>0.0</td>\n",
       "      <td>8 Good</td>\n",
       "      <td>False</td>\n",
       "      <td>0.0</td>\n",
       "      <td>0.0</td>\n",
       "      <td>0.0</td>\n",
       "      <td>0.0</td>\n",
       "      <td>1.0</td>\n",
       "      <td>1.0</td>\n",
       "      <td>0.0</td>\n",
       "      <td>...</td>\n",
       "      <td>0.0</td>\n",
       "      <td>0.0</td>\n",
       "      <td>0.0</td>\n",
       "      <td>0.0</td>\n",
       "      <td>1.0</td>\n",
       "      <td>0.0</td>\n",
       "      <td>0.0</td>\n",
       "      <td>0.0</td>\n",
       "      <td>0.0</td>\n",
       "      <td>0.0</td>\n",
       "    </tr>\n",
       "    <tr>\n",
       "      <th>...</th>\n",
       "      <td>...</td>\n",
       "      <td>...</td>\n",
       "      <td>...</td>\n",
       "      <td>...</td>\n",
       "      <td>...</td>\n",
       "      <td>...</td>\n",
       "      <td>...</td>\n",
       "      <td>...</td>\n",
       "      <td>...</td>\n",
       "      <td>...</td>\n",
       "      <td>...</td>\n",
       "      <td>...</td>\n",
       "      <td>...</td>\n",
       "      <td>...</td>\n",
       "      <td>...</td>\n",
       "      <td>...</td>\n",
       "      <td>...</td>\n",
       "      <td>...</td>\n",
       "      <td>...</td>\n",
       "      <td>...</td>\n",
       "      <td>...</td>\n",
       "    </tr>\n",
       "    <tr>\n",
       "      <th>21592</th>\n",
       "      <td>0.0</td>\n",
       "      <td>8 Good</td>\n",
       "      <td>False</td>\n",
       "      <td>0.0</td>\n",
       "      <td>0.0</td>\n",
       "      <td>0.0</td>\n",
       "      <td>0.0</td>\n",
       "      <td>1.0</td>\n",
       "      <td>1.0</td>\n",
       "      <td>0.0</td>\n",
       "      <td>...</td>\n",
       "      <td>0.0</td>\n",
       "      <td>0.0</td>\n",
       "      <td>0.0</td>\n",
       "      <td>0.0</td>\n",
       "      <td>1.0</td>\n",
       "      <td>0.0</td>\n",
       "      <td>0.0</td>\n",
       "      <td>0.0</td>\n",
       "      <td>0.0</td>\n",
       "      <td>0.0</td>\n",
       "    </tr>\n",
       "    <tr>\n",
       "      <th>21593</th>\n",
       "      <td>0.0</td>\n",
       "      <td>8 Good</td>\n",
       "      <td>False</td>\n",
       "      <td>0.0</td>\n",
       "      <td>0.0</td>\n",
       "      <td>0.0</td>\n",
       "      <td>0.0</td>\n",
       "      <td>1.0</td>\n",
       "      <td>1.0</td>\n",
       "      <td>0.0</td>\n",
       "      <td>...</td>\n",
       "      <td>0.0</td>\n",
       "      <td>0.0</td>\n",
       "      <td>0.0</td>\n",
       "      <td>0.0</td>\n",
       "      <td>1.0</td>\n",
       "      <td>0.0</td>\n",
       "      <td>0.0</td>\n",
       "      <td>0.0</td>\n",
       "      <td>0.0</td>\n",
       "      <td>0.0</td>\n",
       "    </tr>\n",
       "    <tr>\n",
       "      <th>21594</th>\n",
       "      <td>0.0</td>\n",
       "      <td>7 Average</td>\n",
       "      <td>False</td>\n",
       "      <td>0.0</td>\n",
       "      <td>0.0</td>\n",
       "      <td>0.0</td>\n",
       "      <td>0.0</td>\n",
       "      <td>1.0</td>\n",
       "      <td>1.0</td>\n",
       "      <td>0.0</td>\n",
       "      <td>...</td>\n",
       "      <td>0.0</td>\n",
       "      <td>0.0</td>\n",
       "      <td>0.0</td>\n",
       "      <td>0.0</td>\n",
       "      <td>1.0</td>\n",
       "      <td>0.0</td>\n",
       "      <td>0.0</td>\n",
       "      <td>0.0</td>\n",
       "      <td>0.0</td>\n",
       "      <td>0.0</td>\n",
       "    </tr>\n",
       "    <tr>\n",
       "      <th>21595</th>\n",
       "      <td>0.0</td>\n",
       "      <td>8 Good</td>\n",
       "      <td>True</td>\n",
       "      <td>0.0</td>\n",
       "      <td>0.0</td>\n",
       "      <td>0.0</td>\n",
       "      <td>0.0</td>\n",
       "      <td>1.0</td>\n",
       "      <td>1.0</td>\n",
       "      <td>0.0</td>\n",
       "      <td>...</td>\n",
       "      <td>0.0</td>\n",
       "      <td>0.0</td>\n",
       "      <td>0.0</td>\n",
       "      <td>0.0</td>\n",
       "      <td>1.0</td>\n",
       "      <td>0.0</td>\n",
       "      <td>0.0</td>\n",
       "      <td>0.0</td>\n",
       "      <td>0.0</td>\n",
       "      <td>0.0</td>\n",
       "    </tr>\n",
       "    <tr>\n",
       "      <th>21596</th>\n",
       "      <td>0.0</td>\n",
       "      <td>7 Average</td>\n",
       "      <td>False</td>\n",
       "      <td>0.0</td>\n",
       "      <td>0.0</td>\n",
       "      <td>0.0</td>\n",
       "      <td>0.0</td>\n",
       "      <td>1.0</td>\n",
       "      <td>1.0</td>\n",
       "      <td>0.0</td>\n",
       "      <td>...</td>\n",
       "      <td>0.0</td>\n",
       "      <td>0.0</td>\n",
       "      <td>0.0</td>\n",
       "      <td>0.0</td>\n",
       "      <td>1.0</td>\n",
       "      <td>0.0</td>\n",
       "      <td>0.0</td>\n",
       "      <td>0.0</td>\n",
       "      <td>0.0</td>\n",
       "      <td>0.0</td>\n",
       "    </tr>\n",
       "  </tbody>\n",
       "</table>\n",
       "<p>21597 rows × 23 columns</p>\n",
       "</div>"
      ],
      "text/plain": [
       "       waterfront          grade  waterfront_missing  AVERAGE  View_Excellent  \\\n",
       "0             0.0      7 Average                True      0.0             0.0   \n",
       "1             0.0      7 Average               False      0.0             0.0   \n",
       "2             0.0  6 Low Average               False      0.0             0.0   \n",
       "3             0.0      7 Average               False      0.0             0.0   \n",
       "4             0.0         8 Good               False      0.0             0.0   \n",
       "...           ...            ...                 ...      ...             ...   \n",
       "21592         0.0         8 Good               False      0.0             0.0   \n",
       "21593         0.0         8 Good               False      0.0             0.0   \n",
       "21594         0.0      7 Average               False      0.0             0.0   \n",
       "21595         0.0         8 Good                True      0.0             0.0   \n",
       "21596         0.0      7 Average               False      0.0             0.0   \n",
       "\n",
       "       View_Fair  View_Good  No View  Condition_Average  Condition_Fair  ...  \\\n",
       "0            0.0        0.0      1.0                1.0             0.0  ...   \n",
       "1            0.0        0.0      1.0                1.0             0.0  ...   \n",
       "2            0.0        0.0      1.0                1.0             0.0  ...   \n",
       "3            0.0        0.0      1.0                0.0             0.0  ...   \n",
       "4            0.0        0.0      1.0                1.0             0.0  ...   \n",
       "...          ...        ...      ...                ...             ...  ...   \n",
       "21592        0.0        0.0      1.0                1.0             0.0  ...   \n",
       "21593        0.0        0.0      1.0                1.0             0.0  ...   \n",
       "21594        0.0        0.0      1.0                1.0             0.0  ...   \n",
       "21595        0.0        0.0      1.0                1.0             0.0  ...   \n",
       "21596        0.0        0.0      1.0                1.0             0.0  ...   \n",
       "\n",
       "       AVERAGE  View_Excellent  View_Fair  View_Good  No View  AVERAGE  \\\n",
       "0          0.0             0.0        0.0        0.0      1.0      0.0   \n",
       "1          0.0             0.0        0.0        0.0      1.0      0.0   \n",
       "2          0.0             0.0        0.0        0.0      1.0      0.0   \n",
       "3          0.0             0.0        0.0        0.0      1.0      0.0   \n",
       "4          0.0             0.0        0.0        0.0      1.0      0.0   \n",
       "...        ...             ...        ...        ...      ...      ...   \n",
       "21592      0.0             0.0        0.0        0.0      1.0      0.0   \n",
       "21593      0.0             0.0        0.0        0.0      1.0      0.0   \n",
       "21594      0.0             0.0        0.0        0.0      1.0      0.0   \n",
       "21595      0.0             0.0        0.0        0.0      1.0      0.0   \n",
       "21596      0.0             0.0        0.0        0.0      1.0      0.0   \n",
       "\n",
       "       EXCELLENT  FAIR  GOOD  NONE  \n",
       "0            0.0   0.0   0.0   0.0  \n",
       "1            0.0   0.0   0.0   0.0  \n",
       "2            0.0   0.0   0.0   0.0  \n",
       "3            0.0   0.0   0.0   0.0  \n",
       "4            0.0   0.0   0.0   0.0  \n",
       "...          ...   ...   ...   ...  \n",
       "21592        0.0   0.0   0.0   0.0  \n",
       "21593        0.0   0.0   0.0   0.0  \n",
       "21594        0.0   0.0   0.0   0.0  \n",
       "21595        0.0   0.0   0.0   0.0  \n",
       "21596        0.0   0.0   0.0   0.0  \n",
       "\n",
       "[21597 rows x 23 columns]"
      ]
     },
     "execution_count": 220,
     "metadata": {},
     "output_type": "execute_result"
    }
   ],
   "source": [
    "# (4b) Concatenate the new dataframe with current categoricals\n",
    "categoricals = pd.concat([categoricals, condition_encoded_train], axis=1)\n",
    "\n",
    "# Visually inspect categoricals\n",
    "categoricals"
   ]
  },
  {
   "cell_type": "code",
   "execution_count": 221,
   "metadata": {
    "ExecuteTime": {
     "end_time": "2022-02-24T15:30:51.859523Z",
     "start_time": "2022-02-24T15:30:51.838493Z"
    }
   },
   "outputs": [
    {
     "ename": "KeyError",
     "evalue": "\"['condition'] not found in axis\"",
     "output_type": "error",
     "traceback": [
      "\u001b[0;31m---------------------------------------------------------------------------\u001b[0m",
      "\u001b[0;31mKeyError\u001b[0m                                  Traceback (most recent call last)",
      "\u001b[0;32m<ipython-input-221-12a046224aa8>\u001b[0m in \u001b[0;36m<module>\u001b[0;34m\u001b[0m\n\u001b[1;32m      1\u001b[0m \u001b[0;31m# (4c) Drop original condition column\u001b[0m\u001b[0;34m\u001b[0m\u001b[0;34m\u001b[0m\u001b[0;34m\u001b[0m\u001b[0m\n\u001b[0;32m----> 2\u001b[0;31m \u001b[0mcategoricals\u001b[0m\u001b[0;34m.\u001b[0m\u001b[0mdrop\u001b[0m\u001b[0;34m(\u001b[0m\u001b[0;34m\"condition\"\u001b[0m\u001b[0;34m,\u001b[0m \u001b[0maxis\u001b[0m\u001b[0;34m=\u001b[0m\u001b[0;36m1\u001b[0m\u001b[0;34m,\u001b[0m \u001b[0minplace\u001b[0m\u001b[0;34m=\u001b[0m\u001b[0;32mTrue\u001b[0m\u001b[0;34m)\u001b[0m\u001b[0;34m\u001b[0m\u001b[0;34m\u001b[0m\u001b[0m\n\u001b[0m\u001b[1;32m      3\u001b[0m \u001b[0;34m\u001b[0m\u001b[0m\n\u001b[1;32m      4\u001b[0m \u001b[0;31m# Visually inspect X_train\u001b[0m\u001b[0;34m\u001b[0m\u001b[0;34m\u001b[0m\u001b[0;34m\u001b[0m\u001b[0m\n\u001b[1;32m      5\u001b[0m \u001b[0mcategoricals\u001b[0m\u001b[0;34m\u001b[0m\u001b[0;34m\u001b[0m\u001b[0m\n",
      "\u001b[0;32m~/opt/anaconda3/envs/learn-env/lib/python3.8/site-packages/pandas/core/frame.py\u001b[0m in \u001b[0;36mdrop\u001b[0;34m(self, labels, axis, index, columns, level, inplace, errors)\u001b[0m\n\u001b[1;32m   4161\u001b[0m                 \u001b[0mweight\u001b[0m  \u001b[0;36m1.0\u001b[0m     \u001b[0;36m0.8\u001b[0m\u001b[0;34m\u001b[0m\u001b[0;34m\u001b[0m\u001b[0m\n\u001b[1;32m   4162\u001b[0m         \"\"\"\n\u001b[0;32m-> 4163\u001b[0;31m         return super().drop(\n\u001b[0m\u001b[1;32m   4164\u001b[0m             \u001b[0mlabels\u001b[0m\u001b[0;34m=\u001b[0m\u001b[0mlabels\u001b[0m\u001b[0;34m,\u001b[0m\u001b[0;34m\u001b[0m\u001b[0;34m\u001b[0m\u001b[0m\n\u001b[1;32m   4165\u001b[0m             \u001b[0maxis\u001b[0m\u001b[0;34m=\u001b[0m\u001b[0maxis\u001b[0m\u001b[0;34m,\u001b[0m\u001b[0;34m\u001b[0m\u001b[0;34m\u001b[0m\u001b[0m\n",
      "\u001b[0;32m~/opt/anaconda3/envs/learn-env/lib/python3.8/site-packages/pandas/core/generic.py\u001b[0m in \u001b[0;36mdrop\u001b[0;34m(self, labels, axis, index, columns, level, inplace, errors)\u001b[0m\n\u001b[1;32m   3885\u001b[0m         \u001b[0;32mfor\u001b[0m \u001b[0maxis\u001b[0m\u001b[0;34m,\u001b[0m \u001b[0mlabels\u001b[0m \u001b[0;32min\u001b[0m \u001b[0maxes\u001b[0m\u001b[0;34m.\u001b[0m\u001b[0mitems\u001b[0m\u001b[0;34m(\u001b[0m\u001b[0;34m)\u001b[0m\u001b[0;34m:\u001b[0m\u001b[0;34m\u001b[0m\u001b[0;34m\u001b[0m\u001b[0m\n\u001b[1;32m   3886\u001b[0m             \u001b[0;32mif\u001b[0m \u001b[0mlabels\u001b[0m \u001b[0;32mis\u001b[0m \u001b[0;32mnot\u001b[0m \u001b[0;32mNone\u001b[0m\u001b[0;34m:\u001b[0m\u001b[0;34m\u001b[0m\u001b[0;34m\u001b[0m\u001b[0m\n\u001b[0;32m-> 3887\u001b[0;31m                 \u001b[0mobj\u001b[0m \u001b[0;34m=\u001b[0m \u001b[0mobj\u001b[0m\u001b[0;34m.\u001b[0m\u001b[0m_drop_axis\u001b[0m\u001b[0;34m(\u001b[0m\u001b[0mlabels\u001b[0m\u001b[0;34m,\u001b[0m \u001b[0maxis\u001b[0m\u001b[0;34m,\u001b[0m \u001b[0mlevel\u001b[0m\u001b[0;34m=\u001b[0m\u001b[0mlevel\u001b[0m\u001b[0;34m,\u001b[0m \u001b[0merrors\u001b[0m\u001b[0;34m=\u001b[0m\u001b[0merrors\u001b[0m\u001b[0;34m)\u001b[0m\u001b[0;34m\u001b[0m\u001b[0;34m\u001b[0m\u001b[0m\n\u001b[0m\u001b[1;32m   3888\u001b[0m \u001b[0;34m\u001b[0m\u001b[0m\n\u001b[1;32m   3889\u001b[0m         \u001b[0;32mif\u001b[0m \u001b[0minplace\u001b[0m\u001b[0;34m:\u001b[0m\u001b[0;34m\u001b[0m\u001b[0;34m\u001b[0m\u001b[0m\n",
      "\u001b[0;32m~/opt/anaconda3/envs/learn-env/lib/python3.8/site-packages/pandas/core/generic.py\u001b[0m in \u001b[0;36m_drop_axis\u001b[0;34m(self, labels, axis, level, errors)\u001b[0m\n\u001b[1;32m   3938\u001b[0m                 \u001b[0mlabels_missing\u001b[0m \u001b[0;34m=\u001b[0m \u001b[0;34m(\u001b[0m\u001b[0maxis\u001b[0m\u001b[0;34m.\u001b[0m\u001b[0mget_indexer_for\u001b[0m\u001b[0;34m(\u001b[0m\u001b[0mlabels\u001b[0m\u001b[0;34m)\u001b[0m \u001b[0;34m==\u001b[0m \u001b[0;34m-\u001b[0m\u001b[0;36m1\u001b[0m\u001b[0;34m)\u001b[0m\u001b[0;34m.\u001b[0m\u001b[0many\u001b[0m\u001b[0;34m(\u001b[0m\u001b[0;34m)\u001b[0m\u001b[0;34m\u001b[0m\u001b[0;34m\u001b[0m\u001b[0m\n\u001b[1;32m   3939\u001b[0m                 \u001b[0;32mif\u001b[0m \u001b[0merrors\u001b[0m \u001b[0;34m==\u001b[0m \u001b[0;34m\"raise\"\u001b[0m \u001b[0;32mand\u001b[0m \u001b[0mlabels_missing\u001b[0m\u001b[0;34m:\u001b[0m\u001b[0;34m\u001b[0m\u001b[0;34m\u001b[0m\u001b[0m\n\u001b[0;32m-> 3940\u001b[0;31m                     \u001b[0;32mraise\u001b[0m \u001b[0mKeyError\u001b[0m\u001b[0;34m(\u001b[0m\u001b[0;34mf\"{labels} not found in axis\"\u001b[0m\u001b[0;34m)\u001b[0m\u001b[0;34m\u001b[0m\u001b[0;34m\u001b[0m\u001b[0m\n\u001b[0m\u001b[1;32m   3941\u001b[0m \u001b[0;34m\u001b[0m\u001b[0m\n\u001b[1;32m   3942\u001b[0m             \u001b[0mslicer\u001b[0m \u001b[0;34m=\u001b[0m \u001b[0;34m[\u001b[0m\u001b[0mslice\u001b[0m\u001b[0;34m(\u001b[0m\u001b[0;32mNone\u001b[0m\u001b[0;34m)\u001b[0m\u001b[0;34m]\u001b[0m \u001b[0;34m*\u001b[0m \u001b[0mself\u001b[0m\u001b[0;34m.\u001b[0m\u001b[0mndim\u001b[0m\u001b[0;34m\u001b[0m\u001b[0;34m\u001b[0m\u001b[0m\n",
      "\u001b[0;31mKeyError\u001b[0m: \"['condition'] not found in axis\""
     ]
    }
   ],
   "source": [
    "# (4c) Drop original condition column\n",
    "categoricals.drop(\"condition\", axis=1, inplace=True)\n",
    "\n",
    "# Visually inspect X_train\n",
    "categoricals"
   ]
  },
  {
   "cell_type": "markdown",
   "metadata": {},
   "source": [
    "### ohe grade"
   ]
  },
  {
   "cell_type": "code",
   "execution_count": 222,
   "metadata": {
    "ExecuteTime": {
     "end_time": "2022-02-24T15:31:06.717138Z",
     "start_time": "2022-02-24T15:31:06.697723Z"
    }
   },
   "outputs": [
    {
     "data": {
      "text/plain": [
       "7 Average        8974\n",
       "8 Good           6065\n",
       "9 Better         2615\n",
       "6 Low Average    2038\n",
       "10 Very Good     1134\n",
       "11 Excellent      399\n",
       "5 Fair            242\n",
       "12 Luxury          89\n",
       "4 Low              27\n",
       "13 Mansion         13\n",
       "3 Poor              1\n",
       "Name: grade, dtype: int64"
      ]
     },
     "execution_count": 222,
     "metadata": {},
     "output_type": "execute_result"
    }
   ],
   "source": [
    "categoricals['grade'].value_counts(dropna=False)"
   ]
  },
  {
   "cell_type": "markdown",
   "metadata": {},
   "source": [
    "### Try ohe an easier way."
   ]
  },
  {
   "cell_type": "markdown",
   "metadata": {},
   "source": [
    "## One-Hot-Encode Simplified\n",
    "* For waterfront, view, condition, and grade."
   ]
  },
  {
   "cell_type": "code",
   "execution_count": 249,
   "metadata": {
    "ExecuteTime": {
     "end_time": "2022-02-24T15:37:01.314864Z",
     "start_time": "2022-02-24T15:37:01.301964Z"
    }
   },
   "outputs": [
    {
     "data": {
      "text/plain": [
       "waterfront            0\n",
       "view                  0\n",
       "condition             0\n",
       "grade                 0\n",
       "waterfront_missing    0\n",
       "dtype: int64"
      ]
     },
     "execution_count": 249,
     "metadata": {},
     "output_type": "execute_result"
    }
   ],
   "source": [
    "# use preprocessed categoricals data frame\n",
    "cats = preprocessed\n",
    "\n",
    "cats.isnull().sum()"
   ]
  },
  {
   "cell_type": "code",
   "execution_count": 250,
   "metadata": {
    "ExecuteTime": {
     "end_time": "2022-02-24T15:37:04.007236Z",
     "start_time": "2022-02-24T15:37:03.986553Z"
    }
   },
   "outputs": [],
   "source": [
    "water_dummies = pd.get_dummies(cats['waterfront'], prefix='water', drop_first=True)\n",
    "view_dummies = pd.get_dummies(cats['view'], prefix='view', drop_first=True)\n",
    "condition_dummies = pd.get_dummies(cats['condition'], prefix='condition', drop_first=True)\n",
    "grade_dummies = pd.get_dummies(cats['grade'], prefix='grade', drop_first=True)"
   ]
  },
  {
   "cell_type": "code",
   "execution_count": 251,
   "metadata": {
    "ExecuteTime": {
     "end_time": "2022-02-24T15:37:04.941627Z",
     "start_time": "2022-02-24T15:37:04.934636Z"
    }
   },
   "outputs": [],
   "source": [
    "cats = cats.drop(['waterfront','view','condition','grade'], axis=1)"
   ]
  },
  {
   "cell_type": "code",
   "execution_count": 252,
   "metadata": {
    "ExecuteTime": {
     "end_time": "2022-02-24T15:37:06.395425Z",
     "start_time": "2022-02-24T15:37:06.367239Z"
    }
   },
   "outputs": [
    {
     "data": {
      "text/html": [
       "<div>\n",
       "<style scoped>\n",
       "    .dataframe tbody tr th:only-of-type {\n",
       "        vertical-align: middle;\n",
       "    }\n",
       "\n",
       "    .dataframe tbody tr th {\n",
       "        vertical-align: top;\n",
       "    }\n",
       "\n",
       "    .dataframe thead th {\n",
       "        text-align: right;\n",
       "    }\n",
       "</style>\n",
       "<table border=\"1\" class=\"dataframe\">\n",
       "  <thead>\n",
       "    <tr style=\"text-align: right;\">\n",
       "      <th></th>\n",
       "      <th>sqft_living_log</th>\n",
       "      <th>bathrooms_log</th>\n",
       "      <th>bedrooms_log</th>\n",
       "      <th>price_log</th>\n",
       "      <th>bd*ba</th>\n",
       "      <th>water_YES</th>\n",
       "      <th>view_EXCELLENT</th>\n",
       "      <th>view_FAIR</th>\n",
       "      <th>view_GOOD</th>\n",
       "      <th>view_NONE</th>\n",
       "      <th>...</th>\n",
       "      <th>grade_11 Excellent</th>\n",
       "      <th>grade_12 Luxury</th>\n",
       "      <th>grade_13 Mansion</th>\n",
       "      <th>grade_3 Poor</th>\n",
       "      <th>grade_4 Low</th>\n",
       "      <th>grade_5 Fair</th>\n",
       "      <th>grade_6 Low Average</th>\n",
       "      <th>grade_7 Average</th>\n",
       "      <th>grade_8 Good</th>\n",
       "      <th>grade_9 Better</th>\n",
       "    </tr>\n",
       "  </thead>\n",
       "  <tbody>\n",
       "    <tr>\n",
       "      <th>0</th>\n",
       "      <td>-1.125556</td>\n",
       "      <td>-1.726509</td>\n",
       "      <td>-0.279718</td>\n",
       "      <td>-1.401998</td>\n",
       "      <td>0.482936</td>\n",
       "      <td>0</td>\n",
       "      <td>0</td>\n",
       "      <td>0</td>\n",
       "      <td>0</td>\n",
       "      <td>1</td>\n",
       "      <td>...</td>\n",
       "      <td>0</td>\n",
       "      <td>0</td>\n",
       "      <td>0</td>\n",
       "      <td>0</td>\n",
       "      <td>0</td>\n",
       "      <td>0</td>\n",
       "      <td>0</td>\n",
       "      <td>1</td>\n",
       "      <td>0</td>\n",
       "      <td>0</td>\n",
       "    </tr>\n",
       "    <tr>\n",
       "      <th>1</th>\n",
       "      <td>0.709446</td>\n",
       "      <td>0.339653</td>\n",
       "      <td>-0.279718</td>\n",
       "      <td>0.279938</td>\n",
       "      <td>-0.095007</td>\n",
       "      <td>0</td>\n",
       "      <td>0</td>\n",
       "      <td>0</td>\n",
       "      <td>0</td>\n",
       "      <td>1</td>\n",
       "      <td>...</td>\n",
       "      <td>0</td>\n",
       "      <td>0</td>\n",
       "      <td>0</td>\n",
       "      <td>0</td>\n",
       "      <td>0</td>\n",
       "      <td>0</td>\n",
       "      <td>0</td>\n",
       "      <td>1</td>\n",
       "      <td>0</td>\n",
       "      <td>0</td>\n",
       "    </tr>\n",
       "    <tr>\n",
       "      <th>2</th>\n",
       "      <td>-2.131893</td>\n",
       "      <td>-1.726509</td>\n",
       "      <td>-1.711611</td>\n",
       "      <td>-1.799430</td>\n",
       "      <td>2.955111</td>\n",
       "      <td>0</td>\n",
       "      <td>0</td>\n",
       "      <td>0</td>\n",
       "      <td>0</td>\n",
       "      <td>1</td>\n",
       "      <td>...</td>\n",
       "      <td>0</td>\n",
       "      <td>0</td>\n",
       "      <td>0</td>\n",
       "      <td>0</td>\n",
       "      <td>0</td>\n",
       "      <td>0</td>\n",
       "      <td>1</td>\n",
       "      <td>0</td>\n",
       "      <td>0</td>\n",
       "      <td>0</td>\n",
       "    </tr>\n",
       "    <tr>\n",
       "      <th>3</th>\n",
       "      <td>0.070674</td>\n",
       "      <td>1.072635</td>\n",
       "      <td>0.736226</td>\n",
       "      <td>0.499698</td>\n",
       "      <td>0.789702</td>\n",
       "      <td>0</td>\n",
       "      <td>0</td>\n",
       "      <td>0</td>\n",
       "      <td>0</td>\n",
       "      <td>1</td>\n",
       "      <td>...</td>\n",
       "      <td>0</td>\n",
       "      <td>0</td>\n",
       "      <td>0</td>\n",
       "      <td>0</td>\n",
       "      <td>0</td>\n",
       "      <td>0</td>\n",
       "      <td>0</td>\n",
       "      <td>1</td>\n",
       "      <td>0</td>\n",
       "      <td>0</td>\n",
       "    </tr>\n",
       "    <tr>\n",
       "      <th>4</th>\n",
       "      <td>-0.292725</td>\n",
       "      <td>0.039555</td>\n",
       "      <td>-0.279718</td>\n",
       "      <td>0.178434</td>\n",
       "      <td>-0.011064</td>\n",
       "      <td>0</td>\n",
       "      <td>0</td>\n",
       "      <td>0</td>\n",
       "      <td>0</td>\n",
       "      <td>1</td>\n",
       "      <td>...</td>\n",
       "      <td>0</td>\n",
       "      <td>0</td>\n",
       "      <td>0</td>\n",
       "      <td>0</td>\n",
       "      <td>0</td>\n",
       "      <td>0</td>\n",
       "      <td>0</td>\n",
       "      <td>0</td>\n",
       "      <td>1</td>\n",
       "      <td>0</td>\n",
       "    </tr>\n",
       "  </tbody>\n",
       "</table>\n",
       "<p>5 rows × 24 columns</p>\n",
       "</div>"
      ],
      "text/plain": [
       "   sqft_living_log  bathrooms_log  bedrooms_log  price_log     bd*ba  \\\n",
       "0        -1.125556      -1.726509     -0.279718  -1.401998  0.482936   \n",
       "1         0.709446       0.339653     -0.279718   0.279938 -0.095007   \n",
       "2        -2.131893      -1.726509     -1.711611  -1.799430  2.955111   \n",
       "3         0.070674       1.072635      0.736226   0.499698  0.789702   \n",
       "4        -0.292725       0.039555     -0.279718   0.178434 -0.011064   \n",
       "\n",
       "   water_YES  view_EXCELLENT  view_FAIR  view_GOOD  view_NONE  ...  \\\n",
       "0          0               0          0          0          1  ...   \n",
       "1          0               0          0          0          1  ...   \n",
       "2          0               0          0          0          1  ...   \n",
       "3          0               0          0          0          1  ...   \n",
       "4          0               0          0          0          1  ...   \n",
       "\n",
       "   grade_11 Excellent  grade_12 Luxury  grade_13 Mansion  grade_3 Poor  \\\n",
       "0                   0                0                 0             0   \n",
       "1                   0                0                 0             0   \n",
       "2                   0                0                 0             0   \n",
       "3                   0                0                 0             0   \n",
       "4                   0                0                 0             0   \n",
       "\n",
       "   grade_4 Low  grade_5 Fair  grade_6 Low Average  grade_7 Average  \\\n",
       "0            0             0                    0                1   \n",
       "1            0             0                    0                1   \n",
       "2            0             0                    1                0   \n",
       "3            0             0                    0                1   \n",
       "4            0             0                    0                0   \n",
       "\n",
       "   grade_8 Good  grade_9 Better  \n",
       "0             0               0  \n",
       "1             0               0  \n",
       "2             0               0  \n",
       "3             0               0  \n",
       "4             1               0  \n",
       "\n",
       "[5 rows x 24 columns]"
      ]
     },
     "execution_count": 252,
     "metadata": {},
     "output_type": "execute_result"
    }
   ],
   "source": [
    "cats_added = pd.concat([features_final, \n",
    "                  water_dummies, \n",
    "                  view_dummies, \n",
    "                  condition_dummies,\n",
    "                  grade_dummies], axis=1)\n",
    "cats_added.head()"
   ]
  },
  {
   "cell_type": "code",
   "execution_count": 253,
   "metadata": {
    "ExecuteTime": {
     "end_time": "2022-02-24T15:37:07.968655Z",
     "start_time": "2022-02-24T15:37:07.950074Z"
    }
   },
   "outputs": [
    {
     "name": "stdout",
     "output_type": "stream",
     "text": [
      "<class 'pandas.core.frame.DataFrame'>\n",
      "RangeIndex: 21597 entries, 0 to 21596\n",
      "Data columns (total 24 columns):\n",
      " #   Column               Non-Null Count  Dtype  \n",
      "---  ------               --------------  -----  \n",
      " 0   sqft_living_log      21597 non-null  float64\n",
      " 1   bathrooms_log        21597 non-null  float64\n",
      " 2   bedrooms_log         21597 non-null  float64\n",
      " 3   price_log            21597 non-null  float64\n",
      " 4   bd*ba                21597 non-null  float64\n",
      " 5   water_YES            21597 non-null  uint8  \n",
      " 6   view_EXCELLENT       21597 non-null  uint8  \n",
      " 7   view_FAIR            21597 non-null  uint8  \n",
      " 8   view_GOOD            21597 non-null  uint8  \n",
      " 9   view_NONE            21597 non-null  uint8  \n",
      " 10  condition_Fair       21597 non-null  uint8  \n",
      " 11  condition_Good       21597 non-null  uint8  \n",
      " 12  condition_Poor       21597 non-null  uint8  \n",
      " 13  condition_Very Good  21597 non-null  uint8  \n",
      " 14  grade_11 Excellent   21597 non-null  uint8  \n",
      " 15  grade_12 Luxury      21597 non-null  uint8  \n",
      " 16  grade_13 Mansion     21597 non-null  uint8  \n",
      " 17  grade_3 Poor         21597 non-null  uint8  \n",
      " 18  grade_4 Low          21597 non-null  uint8  \n",
      " 19  grade_5 Fair         21597 non-null  uint8  \n",
      " 20  grade_6 Low Average  21597 non-null  uint8  \n",
      " 21  grade_7 Average      21597 non-null  uint8  \n",
      " 22  grade_8 Good         21597 non-null  uint8  \n",
      " 23  grade_9 Better       21597 non-null  uint8  \n",
      "dtypes: float64(5), uint8(19)\n",
      "memory usage: 1.2 MB\n"
     ]
    }
   ],
   "source": [
    "cats_added.info()"
   ]
  },
  {
   "cell_type": "markdown",
   "metadata": {},
   "source": [
    "# Second Model - Add Preprocessed Categoricals"
   ]
  },
  {
   "cell_type": "code",
   "execution_count": 254,
   "metadata": {
    "ExecuteTime": {
     "end_time": "2022-02-24T15:37:13.504414Z",
     "start_time": "2022-02-24T15:37:13.360693Z"
    }
   },
   "outputs": [
    {
     "data": {
      "text/html": [
       "<table class=\"simpletable\">\n",
       "<caption>OLS Regression Results</caption>\n",
       "<tr>\n",
       "  <th>Dep. Variable:</th>        <td>price_log</td>    <th>  R-squared:         </th> <td>   0.596</td> \n",
       "</tr>\n",
       "<tr>\n",
       "  <th>Model:</th>                   <td>OLS</td>       <th>  Adj. R-squared:    </th> <td>   0.596</td> \n",
       "</tr>\n",
       "<tr>\n",
       "  <th>Method:</th>             <td>Least Squares</td>  <th>  F-statistic:       </th> <td>   1385.</td> \n",
       "</tr>\n",
       "<tr>\n",
       "  <th>Date:</th>             <td>Thu, 24 Feb 2022</td> <th>  Prob (F-statistic):</th>  <td>  0.00</td>  \n",
       "</tr>\n",
       "<tr>\n",
       "  <th>Time:</th>                 <td>08:37:13</td>     <th>  Log-Likelihood:    </th> <td> -20850.</td> \n",
       "</tr>\n",
       "<tr>\n",
       "  <th>No. Observations:</th>      <td> 21597</td>      <th>  AIC:               </th> <td>4.175e+04</td>\n",
       "</tr>\n",
       "<tr>\n",
       "  <th>Df Residuals:</th>          <td> 21573</td>      <th>  BIC:               </th> <td>4.194e+04</td>\n",
       "</tr>\n",
       "<tr>\n",
       "  <th>Df Model:</th>              <td>    23</td>      <th>                     </th>     <td> </td>    \n",
       "</tr>\n",
       "<tr>\n",
       "  <th>Covariance Type:</th>      <td>nonrobust</td>    <th>                     </th>     <td> </td>    \n",
       "</tr>\n",
       "</table>\n",
       "<table class=\"simpletable\">\n",
       "<tr>\n",
       "           <td></td>              <th>coef</th>     <th>std err</th>      <th>t</th>      <th>P>|t|</th>  <th>[0.025</th>    <th>0.975]</th>  \n",
       "</tr>\n",
       "<tr>\n",
       "  <th>const</th>               <td>    1.0727</td> <td>    0.029</td> <td>   36.374</td> <td> 0.000</td> <td>    1.015</td> <td>    1.130</td>\n",
       "</tr>\n",
       "<tr>\n",
       "  <th>sqft_living_log</th>     <td>    0.3690</td> <td>    0.009</td> <td>   41.004</td> <td> 0.000</td> <td>    0.351</td> <td>    0.387</td>\n",
       "</tr>\n",
       "<tr>\n",
       "  <th>bathrooms_log</th>       <td>   -0.0189</td> <td>    0.007</td> <td>   -2.663</td> <td> 0.008</td> <td>   -0.033</td> <td>   -0.005</td>\n",
       "</tr>\n",
       "<tr>\n",
       "  <th>bedrooms_log</th>        <td>   -0.0474</td> <td>    0.006</td> <td>   -7.836</td> <td> 0.000</td> <td>   -0.059</td> <td>   -0.036</td>\n",
       "</tr>\n",
       "<tr>\n",
       "  <th>bd*ba</th>               <td>    0.0543</td> <td>    0.004</td> <td>   13.446</td> <td> 0.000</td> <td>    0.046</td> <td>    0.062</td>\n",
       "</tr>\n",
       "<tr>\n",
       "  <th>water_YES</th>           <td>    0.6742</td> <td>    0.064</td> <td>   10.467</td> <td> 0.000</td> <td>    0.548</td> <td>    0.800</td>\n",
       "</tr>\n",
       "<tr>\n",
       "  <th>view_EXCELLENT</th>      <td>    0.3364</td> <td>    0.048</td> <td>    6.983</td> <td> 0.000</td> <td>    0.242</td> <td>    0.431</td>\n",
       "</tr>\n",
       "<tr>\n",
       "  <th>view_FAIR</th>           <td>    0.1389</td> <td>    0.041</td> <td>    3.420</td> <td> 0.001</td> <td>    0.059</td> <td>    0.218</td>\n",
       "</tr>\n",
       "<tr>\n",
       "  <th>view_GOOD</th>           <td>    0.0920</td> <td>    0.035</td> <td>    2.629</td> <td> 0.009</td> <td>    0.023</td> <td>    0.161</td>\n",
       "</tr>\n",
       "<tr>\n",
       "  <th>view_NONE</th>           <td>   -0.3077</td> <td>    0.021</td> <td>  -14.399</td> <td> 0.000</td> <td>   -0.350</td> <td>   -0.266</td>\n",
       "</tr>\n",
       "<tr>\n",
       "  <th>condition_Fair</th>      <td>   -0.2151</td> <td>    0.050</td> <td>   -4.343</td> <td> 0.000</td> <td>   -0.312</td> <td>   -0.118</td>\n",
       "</tr>\n",
       "<tr>\n",
       "  <th>condition_Good</th>      <td>    0.1417</td> <td>    0.010</td> <td>   13.755</td> <td> 0.000</td> <td>    0.122</td> <td>    0.162</td>\n",
       "</tr>\n",
       "<tr>\n",
       "  <th>condition_Poor</th>      <td>   -0.0982</td> <td>    0.119</td> <td>   -0.824</td> <td> 0.410</td> <td>   -0.332</td> <td>    0.135</td>\n",
       "</tr>\n",
       "<tr>\n",
       "  <th>condition_Very Good</th> <td>    0.4093</td> <td>    0.017</td> <td>   24.722</td> <td> 0.000</td> <td>    0.377</td> <td>    0.442</td>\n",
       "</tr>\n",
       "<tr>\n",
       "  <th>grade_11 Excellent</th>  <td>    0.3506</td> <td>    0.037</td> <td>    9.397</td> <td> 0.000</td> <td>    0.278</td> <td>    0.424</td>\n",
       "</tr>\n",
       "<tr>\n",
       "  <th>grade_12 Luxury</th>     <td>    0.7411</td> <td>    0.071</td> <td>   10.467</td> <td> 0.000</td> <td>    0.602</td> <td>    0.880</td>\n",
       "</tr>\n",
       "<tr>\n",
       "  <th>grade_13 Mansion</th>    <td>    1.4509</td> <td>    0.178</td> <td>    8.135</td> <td> 0.000</td> <td>    1.101</td> <td>    1.801</td>\n",
       "</tr>\n",
       "<tr>\n",
       "  <th>grade_3 Poor</th>        <td>   -1.9317</td> <td>    0.638</td> <td>   -3.029</td> <td> 0.002</td> <td>   -3.182</td> <td>   -0.682</td>\n",
       "</tr>\n",
       "<tr>\n",
       "  <th>grade_4 Low</th>         <td>   -2.0461</td> <td>    0.128</td> <td>  -16.017</td> <td> 0.000</td> <td>   -2.297</td> <td>   -1.796</td>\n",
       "</tr>\n",
       "<tr>\n",
       "  <th>grade_5 Fair</th>        <td>   -1.8718</td> <td>    0.050</td> <td>  -37.139</td> <td> 0.000</td> <td>   -1.971</td> <td>   -1.773</td>\n",
       "</tr>\n",
       "<tr>\n",
       "  <th>grade_6 Low Average</th> <td>   -1.5247</td> <td>    0.030</td> <td>  -50.648</td> <td> 0.000</td> <td>   -1.584</td> <td>   -1.466</td>\n",
       "</tr>\n",
       "<tr>\n",
       "  <th>grade_7 Average</th>     <td>   -1.1592</td> <td>    0.024</td> <td>  -48.353</td> <td> 0.000</td> <td>   -1.206</td> <td>   -1.112</td>\n",
       "</tr>\n",
       "<tr>\n",
       "  <th>grade_8 Good</th>        <td>   -0.7887</td> <td>    0.022</td> <td>  -35.322</td> <td> 0.000</td> <td>   -0.832</td> <td>   -0.745</td>\n",
       "</tr>\n",
       "<tr>\n",
       "  <th>grade_9 Better</th>      <td>   -0.3735</td> <td>    0.023</td> <td>  -16.274</td> <td> 0.000</td> <td>   -0.418</td> <td>   -0.329</td>\n",
       "</tr>\n",
       "</table>\n",
       "<table class=\"simpletable\">\n",
       "<tr>\n",
       "  <th>Omnibus:</th>       <td> 9.751</td> <th>  Durbin-Watson:     </th> <td>   1.974</td>\n",
       "</tr>\n",
       "<tr>\n",
       "  <th>Prob(Omnibus):</th> <td> 0.008</td> <th>  Jarque-Bera (JB):  </th> <td>   9.535</td>\n",
       "</tr>\n",
       "<tr>\n",
       "  <th>Skew:</th>          <td> 0.038</td> <th>  Prob(JB):          </th> <td> 0.00850</td>\n",
       "</tr>\n",
       "<tr>\n",
       "  <th>Kurtosis:</th>      <td> 2.931</td> <th>  Cond. No.          </th> <td>    254.</td>\n",
       "</tr>\n",
       "</table><br/><br/>Notes:<br/>[1] Standard Errors assume that the covariance matrix of the errors is correctly specified."
      ],
      "text/plain": [
       "<class 'statsmodels.iolib.summary.Summary'>\n",
       "\"\"\"\n",
       "                            OLS Regression Results                            \n",
       "==============================================================================\n",
       "Dep. Variable:              price_log   R-squared:                       0.596\n",
       "Model:                            OLS   Adj. R-squared:                  0.596\n",
       "Method:                 Least Squares   F-statistic:                     1385.\n",
       "Date:                Thu, 24 Feb 2022   Prob (F-statistic):               0.00\n",
       "Time:                        08:37:13   Log-Likelihood:                -20850.\n",
       "No. Observations:               21597   AIC:                         4.175e+04\n",
       "Df Residuals:                   21573   BIC:                         4.194e+04\n",
       "Df Model:                          23                                         \n",
       "Covariance Type:            nonrobust                                         \n",
       "=======================================================================================\n",
       "                          coef    std err          t      P>|t|      [0.025      0.975]\n",
       "---------------------------------------------------------------------------------------\n",
       "const                   1.0727      0.029     36.374      0.000       1.015       1.130\n",
       "sqft_living_log         0.3690      0.009     41.004      0.000       0.351       0.387\n",
       "bathrooms_log          -0.0189      0.007     -2.663      0.008      -0.033      -0.005\n",
       "bedrooms_log           -0.0474      0.006     -7.836      0.000      -0.059      -0.036\n",
       "bd*ba                   0.0543      0.004     13.446      0.000       0.046       0.062\n",
       "water_YES               0.6742      0.064     10.467      0.000       0.548       0.800\n",
       "view_EXCELLENT          0.3364      0.048      6.983      0.000       0.242       0.431\n",
       "view_FAIR               0.1389      0.041      3.420      0.001       0.059       0.218\n",
       "view_GOOD               0.0920      0.035      2.629      0.009       0.023       0.161\n",
       "view_NONE              -0.3077      0.021    -14.399      0.000      -0.350      -0.266\n",
       "condition_Fair         -0.2151      0.050     -4.343      0.000      -0.312      -0.118\n",
       "condition_Good          0.1417      0.010     13.755      0.000       0.122       0.162\n",
       "condition_Poor         -0.0982      0.119     -0.824      0.410      -0.332       0.135\n",
       "condition_Very Good     0.4093      0.017     24.722      0.000       0.377       0.442\n",
       "grade_11 Excellent      0.3506      0.037      9.397      0.000       0.278       0.424\n",
       "grade_12 Luxury         0.7411      0.071     10.467      0.000       0.602       0.880\n",
       "grade_13 Mansion        1.4509      0.178      8.135      0.000       1.101       1.801\n",
       "grade_3 Poor           -1.9317      0.638     -3.029      0.002      -3.182      -0.682\n",
       "grade_4 Low            -2.0461      0.128    -16.017      0.000      -2.297      -1.796\n",
       "grade_5 Fair           -1.8718      0.050    -37.139      0.000      -1.971      -1.773\n",
       "grade_6 Low Average    -1.5247      0.030    -50.648      0.000      -1.584      -1.466\n",
       "grade_7 Average        -1.1592      0.024    -48.353      0.000      -1.206      -1.112\n",
       "grade_8 Good           -0.7887      0.022    -35.322      0.000      -0.832      -0.745\n",
       "grade_9 Better         -0.3735      0.023    -16.274      0.000      -0.418      -0.329\n",
       "==============================================================================\n",
       "Omnibus:                        9.751   Durbin-Watson:                   1.974\n",
       "Prob(Omnibus):                  0.008   Jarque-Bera (JB):                9.535\n",
       "Skew:                           0.038   Prob(JB):                      0.00850\n",
       "Kurtosis:                       2.931   Cond. No.                         254.\n",
       "==============================================================================\n",
       "\n",
       "Notes:\n",
       "[1] Standard Errors assume that the covariance matrix of the errors is correctly specified.\n",
       "\"\"\""
      ]
     },
     "execution_count": 254,
     "metadata": {},
     "output_type": "execute_result"
    }
   ],
   "source": [
    "# Model Summary\n",
    "X = cats_added.drop(['price_log'], axis=1)\n",
    "y = cats_added['price_log']\n",
    "\n",
    "X_int = sm.add_constant(X)\n",
    "model = sm.OLS(y,X_int).fit()\n",
    "model.summary()"
   ]
  },
  {
   "cell_type": "markdown",
   "metadata": {},
   "source": [
    "## Results of adding Categoricals\n",
    "* Improved R-squared with only slightly lower Adjusted R-squared.\n",
    "* Need to drop condition_poor due to high p-value.  This is probably a result of only having one data point for condition_poor.\n",
    "* Can drop grade_3 Poor due to p-value over 1% to check if it improves the model's accuracy."
   ]
  },
  {
   "cell_type": "code",
   "execution_count": 255,
   "metadata": {
    "ExecuteTime": {
     "end_time": "2022-02-24T15:37:14.837173Z",
     "start_time": "2022-02-24T15:37:14.718058Z"
    }
   },
   "outputs": [
    {
     "data": {
      "text/html": [
       "<table class=\"simpletable\">\n",
       "<caption>OLS Regression Results</caption>\n",
       "<tr>\n",
       "  <th>Dep. Variable:</th>        <td>price_log</td>    <th>  R-squared:         </th> <td>   0.596</td> \n",
       "</tr>\n",
       "<tr>\n",
       "  <th>Model:</th>                   <td>OLS</td>       <th>  Adj. R-squared:    </th> <td>   0.596</td> \n",
       "</tr>\n",
       "<tr>\n",
       "  <th>Method:</th>             <td>Least Squares</td>  <th>  F-statistic:       </th> <td>   1385.</td> \n",
       "</tr>\n",
       "<tr>\n",
       "  <th>Date:</th>             <td>Thu, 24 Feb 2022</td> <th>  Prob (F-statistic):</th>  <td>  0.00</td>  \n",
       "</tr>\n",
       "<tr>\n",
       "  <th>Time:</th>                 <td>08:37:14</td>     <th>  Log-Likelihood:    </th> <td> -20850.</td> \n",
       "</tr>\n",
       "<tr>\n",
       "  <th>No. Observations:</th>      <td> 21597</td>      <th>  AIC:               </th> <td>4.175e+04</td>\n",
       "</tr>\n",
       "<tr>\n",
       "  <th>Df Residuals:</th>          <td> 21573</td>      <th>  BIC:               </th> <td>4.194e+04</td>\n",
       "</tr>\n",
       "<tr>\n",
       "  <th>Df Model:</th>              <td>    23</td>      <th>                     </th>     <td> </td>    \n",
       "</tr>\n",
       "<tr>\n",
       "  <th>Covariance Type:</th>      <td>nonrobust</td>    <th>                     </th>     <td> </td>    \n",
       "</tr>\n",
       "</table>\n",
       "<table class=\"simpletable\">\n",
       "<tr>\n",
       "           <td></td>              <th>coef</th>     <th>std err</th>      <th>t</th>      <th>P>|t|</th>  <th>[0.025</th>    <th>0.975]</th>  \n",
       "</tr>\n",
       "<tr>\n",
       "  <th>const</th>               <td>    1.0727</td> <td>    0.029</td> <td>   36.374</td> <td> 0.000</td> <td>    1.015</td> <td>    1.130</td>\n",
       "</tr>\n",
       "<tr>\n",
       "  <th>sqft_living_log</th>     <td>    0.3690</td> <td>    0.009</td> <td>   41.004</td> <td> 0.000</td> <td>    0.351</td> <td>    0.387</td>\n",
       "</tr>\n",
       "<tr>\n",
       "  <th>bathrooms_log</th>       <td>   -0.0189</td> <td>    0.007</td> <td>   -2.663</td> <td> 0.008</td> <td>   -0.033</td> <td>   -0.005</td>\n",
       "</tr>\n",
       "<tr>\n",
       "  <th>bedrooms_log</th>        <td>   -0.0474</td> <td>    0.006</td> <td>   -7.836</td> <td> 0.000</td> <td>   -0.059</td> <td>   -0.036</td>\n",
       "</tr>\n",
       "<tr>\n",
       "  <th>bd*ba</th>               <td>    0.0543</td> <td>    0.004</td> <td>   13.446</td> <td> 0.000</td> <td>    0.046</td> <td>    0.062</td>\n",
       "</tr>\n",
       "<tr>\n",
       "  <th>water_YES</th>           <td>    0.6742</td> <td>    0.064</td> <td>   10.467</td> <td> 0.000</td> <td>    0.548</td> <td>    0.800</td>\n",
       "</tr>\n",
       "<tr>\n",
       "  <th>view_EXCELLENT</th>      <td>    0.3364</td> <td>    0.048</td> <td>    6.983</td> <td> 0.000</td> <td>    0.242</td> <td>    0.431</td>\n",
       "</tr>\n",
       "<tr>\n",
       "  <th>view_FAIR</th>           <td>    0.1389</td> <td>    0.041</td> <td>    3.420</td> <td> 0.001</td> <td>    0.059</td> <td>    0.218</td>\n",
       "</tr>\n",
       "<tr>\n",
       "  <th>view_GOOD</th>           <td>    0.0920</td> <td>    0.035</td> <td>    2.629</td> <td> 0.009</td> <td>    0.023</td> <td>    0.161</td>\n",
       "</tr>\n",
       "<tr>\n",
       "  <th>view_NONE</th>           <td>   -0.3077</td> <td>    0.021</td> <td>  -14.399</td> <td> 0.000</td> <td>   -0.350</td> <td>   -0.266</td>\n",
       "</tr>\n",
       "<tr>\n",
       "  <th>condition_Fair</th>      <td>   -0.2151</td> <td>    0.050</td> <td>   -4.343</td> <td> 0.000</td> <td>   -0.312</td> <td>   -0.118</td>\n",
       "</tr>\n",
       "<tr>\n",
       "  <th>condition_Good</th>      <td>    0.1417</td> <td>    0.010</td> <td>   13.755</td> <td> 0.000</td> <td>    0.122</td> <td>    0.162</td>\n",
       "</tr>\n",
       "<tr>\n",
       "  <th>condition_Poor</th>      <td>   -0.0982</td> <td>    0.119</td> <td>   -0.824</td> <td> 0.410</td> <td>   -0.332</td> <td>    0.135</td>\n",
       "</tr>\n",
       "<tr>\n",
       "  <th>condition_Very Good</th> <td>    0.4093</td> <td>    0.017</td> <td>   24.722</td> <td> 0.000</td> <td>    0.377</td> <td>    0.442</td>\n",
       "</tr>\n",
       "<tr>\n",
       "  <th>grade_11 Excellent</th>  <td>    0.3506</td> <td>    0.037</td> <td>    9.397</td> <td> 0.000</td> <td>    0.278</td> <td>    0.424</td>\n",
       "</tr>\n",
       "<tr>\n",
       "  <th>grade_12 Luxury</th>     <td>    0.7411</td> <td>    0.071</td> <td>   10.467</td> <td> 0.000</td> <td>    0.602</td> <td>    0.880</td>\n",
       "</tr>\n",
       "<tr>\n",
       "  <th>grade_13 Mansion</th>    <td>    1.4509</td> <td>    0.178</td> <td>    8.135</td> <td> 0.000</td> <td>    1.101</td> <td>    1.801</td>\n",
       "</tr>\n",
       "<tr>\n",
       "  <th>grade_3 Poor</th>        <td>   -1.9317</td> <td>    0.638</td> <td>   -3.029</td> <td> 0.002</td> <td>   -3.182</td> <td>   -0.682</td>\n",
       "</tr>\n",
       "<tr>\n",
       "  <th>grade_4 Low</th>         <td>   -2.0461</td> <td>    0.128</td> <td>  -16.017</td> <td> 0.000</td> <td>   -2.297</td> <td>   -1.796</td>\n",
       "</tr>\n",
       "<tr>\n",
       "  <th>grade_5 Fair</th>        <td>   -1.8718</td> <td>    0.050</td> <td>  -37.139</td> <td> 0.000</td> <td>   -1.971</td> <td>   -1.773</td>\n",
       "</tr>\n",
       "<tr>\n",
       "  <th>grade_6 Low Average</th> <td>   -1.5247</td> <td>    0.030</td> <td>  -50.648</td> <td> 0.000</td> <td>   -1.584</td> <td>   -1.466</td>\n",
       "</tr>\n",
       "<tr>\n",
       "  <th>grade_7 Average</th>     <td>   -1.1592</td> <td>    0.024</td> <td>  -48.353</td> <td> 0.000</td> <td>   -1.206</td> <td>   -1.112</td>\n",
       "</tr>\n",
       "<tr>\n",
       "  <th>grade_8 Good</th>        <td>   -0.7887</td> <td>    0.022</td> <td>  -35.322</td> <td> 0.000</td> <td>   -0.832</td> <td>   -0.745</td>\n",
       "</tr>\n",
       "<tr>\n",
       "  <th>grade_9 Better</th>      <td>   -0.3735</td> <td>    0.023</td> <td>  -16.274</td> <td> 0.000</td> <td>   -0.418</td> <td>   -0.329</td>\n",
       "</tr>\n",
       "</table>\n",
       "<table class=\"simpletable\">\n",
       "<tr>\n",
       "  <th>Omnibus:</th>       <td> 9.751</td> <th>  Durbin-Watson:     </th> <td>   1.974</td>\n",
       "</tr>\n",
       "<tr>\n",
       "  <th>Prob(Omnibus):</th> <td> 0.008</td> <th>  Jarque-Bera (JB):  </th> <td>   9.535</td>\n",
       "</tr>\n",
       "<tr>\n",
       "  <th>Skew:</th>          <td> 0.038</td> <th>  Prob(JB):          </th> <td> 0.00850</td>\n",
       "</tr>\n",
       "<tr>\n",
       "  <th>Kurtosis:</th>      <td> 2.931</td> <th>  Cond. No.          </th> <td>    254.</td>\n",
       "</tr>\n",
       "</table><br/><br/>Notes:<br/>[1] Standard Errors assume that the covariance matrix of the errors is correctly specified."
      ],
      "text/plain": [
       "<class 'statsmodels.iolib.summary.Summary'>\n",
       "\"\"\"\n",
       "                            OLS Regression Results                            \n",
       "==============================================================================\n",
       "Dep. Variable:              price_log   R-squared:                       0.596\n",
       "Model:                            OLS   Adj. R-squared:                  0.596\n",
       "Method:                 Least Squares   F-statistic:                     1385.\n",
       "Date:                Thu, 24 Feb 2022   Prob (F-statistic):               0.00\n",
       "Time:                        08:37:14   Log-Likelihood:                -20850.\n",
       "No. Observations:               21597   AIC:                         4.175e+04\n",
       "Df Residuals:                   21573   BIC:                         4.194e+04\n",
       "Df Model:                          23                                         \n",
       "Covariance Type:            nonrobust                                         \n",
       "=======================================================================================\n",
       "                          coef    std err          t      P>|t|      [0.025      0.975]\n",
       "---------------------------------------------------------------------------------------\n",
       "const                   1.0727      0.029     36.374      0.000       1.015       1.130\n",
       "sqft_living_log         0.3690      0.009     41.004      0.000       0.351       0.387\n",
       "bathrooms_log          -0.0189      0.007     -2.663      0.008      -0.033      -0.005\n",
       "bedrooms_log           -0.0474      0.006     -7.836      0.000      -0.059      -0.036\n",
       "bd*ba                   0.0543      0.004     13.446      0.000       0.046       0.062\n",
       "water_YES               0.6742      0.064     10.467      0.000       0.548       0.800\n",
       "view_EXCELLENT          0.3364      0.048      6.983      0.000       0.242       0.431\n",
       "view_FAIR               0.1389      0.041      3.420      0.001       0.059       0.218\n",
       "view_GOOD               0.0920      0.035      2.629      0.009       0.023       0.161\n",
       "view_NONE              -0.3077      0.021    -14.399      0.000      -0.350      -0.266\n",
       "condition_Fair         -0.2151      0.050     -4.343      0.000      -0.312      -0.118\n",
       "condition_Good          0.1417      0.010     13.755      0.000       0.122       0.162\n",
       "condition_Poor         -0.0982      0.119     -0.824      0.410      -0.332       0.135\n",
       "condition_Very Good     0.4093      0.017     24.722      0.000       0.377       0.442\n",
       "grade_11 Excellent      0.3506      0.037      9.397      0.000       0.278       0.424\n",
       "grade_12 Luxury         0.7411      0.071     10.467      0.000       0.602       0.880\n",
       "grade_13 Mansion        1.4509      0.178      8.135      0.000       1.101       1.801\n",
       "grade_3 Poor           -1.9317      0.638     -3.029      0.002      -3.182      -0.682\n",
       "grade_4 Low            -2.0461      0.128    -16.017      0.000      -2.297      -1.796\n",
       "grade_5 Fair           -1.8718      0.050    -37.139      0.000      -1.971      -1.773\n",
       "grade_6 Low Average    -1.5247      0.030    -50.648      0.000      -1.584      -1.466\n",
       "grade_7 Average        -1.1592      0.024    -48.353      0.000      -1.206      -1.112\n",
       "grade_8 Good           -0.7887      0.022    -35.322      0.000      -0.832      -0.745\n",
       "grade_9 Better         -0.3735      0.023    -16.274      0.000      -0.418      -0.329\n",
       "==============================================================================\n",
       "Omnibus:                        9.751   Durbin-Watson:                   1.974\n",
       "Prob(Omnibus):                  0.008   Jarque-Bera (JB):                9.535\n",
       "Skew:                           0.038   Prob(JB):                      0.00850\n",
       "Kurtosis:                       2.931   Cond. No.                         254.\n",
       "==============================================================================\n",
       "\n",
       "Notes:\n",
       "[1] Standard Errors assume that the covariance matrix of the errors is correctly specified.\n",
       "\"\"\""
      ]
     },
     "execution_count": 255,
     "metadata": {},
     "output_type": "execute_result"
    }
   ],
   "source": [
    "# Run model summary again without condition_Poor\n",
    "second_model = cats_added.drop(['condition_Poor', 'grade_3 Poor'], axis=1)\n",
    "\n",
    "# Model Summary\n",
    "X = cats_added.drop(['price_log'], axis=1)\n",
    "y = cats_added['price_log']\n",
    "\n",
    "X_int = sm.add_constant(X)\n",
    "model = sm.OLS(y,X_int).fit()\n",
    "model.summary()"
   ]
  },
  {
   "cell_type": "markdown",
   "metadata": {},
   "source": [
    "### Dropping condition_Poor and grade_3 Poor did not change the R-squared value.  \n",
    "* This is likely because both categories represented a very small portion of the data."
   ]
  },
  {
   "cell_type": "markdown",
   "metadata": {},
   "source": [
    "### How does this compare with using sqft_living_log as the only predictor?"
   ]
  },
  {
   "cell_type": "code",
   "execution_count": 256,
   "metadata": {
    "ExecuteTime": {
     "end_time": "2022-02-24T15:37:16.253011Z",
     "start_time": "2022-02-24T15:37:16.212912Z"
    }
   },
   "outputs": [
    {
     "data": {
      "text/html": [
       "<table class=\"simpletable\">\n",
       "<caption>OLS Regression Results</caption>\n",
       "<tr>\n",
       "  <th>Dep. Variable:</th>        <td>price_log</td>    <th>  R-squared:         </th> <td>   0.455</td> \n",
       "</tr>\n",
       "<tr>\n",
       "  <th>Model:</th>                   <td>OLS</td>       <th>  Adj. R-squared:    </th> <td>   0.455</td> \n",
       "</tr>\n",
       "<tr>\n",
       "  <th>Method:</th>             <td>Least Squares</td>  <th>  F-statistic:       </th> <td>1.805e+04</td>\n",
       "</tr>\n",
       "<tr>\n",
       "  <th>Date:</th>             <td>Thu, 24 Feb 2022</td> <th>  Prob (F-statistic):</th>  <td>  0.00</td>  \n",
       "</tr>\n",
       "<tr>\n",
       "  <th>Time:</th>                 <td>08:37:16</td>     <th>  Log-Likelihood:    </th> <td> -24083.</td> \n",
       "</tr>\n",
       "<tr>\n",
       "  <th>No. Observations:</th>      <td> 21597</td>      <th>  AIC:               </th> <td>4.817e+04</td>\n",
       "</tr>\n",
       "<tr>\n",
       "  <th>Df Residuals:</th>          <td> 21595</td>      <th>  BIC:               </th> <td>4.819e+04</td>\n",
       "</tr>\n",
       "<tr>\n",
       "  <th>Df Model:</th>              <td>     1</td>      <th>                     </th>     <td> </td>    \n",
       "</tr>\n",
       "<tr>\n",
       "  <th>Covariance Type:</th>      <td>nonrobust</td>    <th>                     </th>     <td> </td>    \n",
       "</tr>\n",
       "</table>\n",
       "<table class=\"simpletable\">\n",
       "<tr>\n",
       "         <td></td>            <th>coef</th>     <th>std err</th>      <th>t</th>      <th>P>|t|</th>  <th>[0.025</th>    <th>0.975]</th>  \n",
       "</tr>\n",
       "<tr>\n",
       "  <th>const</th>           <td> 1.327e-15</td> <td>    0.005</td> <td> 2.64e-13</td> <td> 1.000</td> <td>   -0.010</td> <td>    0.010</td>\n",
       "</tr>\n",
       "<tr>\n",
       "  <th>sqft_living_log</th> <td>    0.6748</td> <td>    0.005</td> <td>  134.368</td> <td> 0.000</td> <td>    0.665</td> <td>    0.685</td>\n",
       "</tr>\n",
       "</table>\n",
       "<table class=\"simpletable\">\n",
       "<tr>\n",
       "  <th>Omnibus:</th>       <td>123.577</td> <th>  Durbin-Watson:     </th> <td>   1.977</td>\n",
       "</tr>\n",
       "<tr>\n",
       "  <th>Prob(Omnibus):</th> <td> 0.000</td>  <th>  Jarque-Bera (JB):  </th> <td> 114.096</td>\n",
       "</tr>\n",
       "<tr>\n",
       "  <th>Skew:</th>          <td> 0.143</td>  <th>  Prob(JB):          </th> <td>1.68e-25</td>\n",
       "</tr>\n",
       "<tr>\n",
       "  <th>Kurtosis:</th>      <td> 2.787</td>  <th>  Cond. No.          </th> <td>    1.00</td>\n",
       "</tr>\n",
       "</table><br/><br/>Notes:<br/>[1] Standard Errors assume that the covariance matrix of the errors is correctly specified."
      ],
      "text/plain": [
       "<class 'statsmodels.iolib.summary.Summary'>\n",
       "\"\"\"\n",
       "                            OLS Regression Results                            \n",
       "==============================================================================\n",
       "Dep. Variable:              price_log   R-squared:                       0.455\n",
       "Model:                            OLS   Adj. R-squared:                  0.455\n",
       "Method:                 Least Squares   F-statistic:                 1.805e+04\n",
       "Date:                Thu, 24 Feb 2022   Prob (F-statistic):               0.00\n",
       "Time:                        08:37:16   Log-Likelihood:                -24083.\n",
       "No. Observations:               21597   AIC:                         4.817e+04\n",
       "Df Residuals:                   21595   BIC:                         4.819e+04\n",
       "Df Model:                           1                                         \n",
       "Covariance Type:            nonrobust                                         \n",
       "===================================================================================\n",
       "                      coef    std err          t      P>|t|      [0.025      0.975]\n",
       "-----------------------------------------------------------------------------------\n",
       "const            1.327e-15      0.005   2.64e-13      1.000      -0.010       0.010\n",
       "sqft_living_log     0.6748      0.005    134.368      0.000       0.665       0.685\n",
       "==============================================================================\n",
       "Omnibus:                      123.577   Durbin-Watson:                   1.977\n",
       "Prob(Omnibus):                  0.000   Jarque-Bera (JB):              114.096\n",
       "Skew:                           0.143   Prob(JB):                     1.68e-25\n",
       "Kurtosis:                       2.787   Cond. No.                         1.00\n",
       "==============================================================================\n",
       "\n",
       "Notes:\n",
       "[1] Standard Errors assume that the covariance matrix of the errors is correctly specified.\n",
       "\"\"\""
      ]
     },
     "execution_count": 256,
     "metadata": {},
     "output_type": "execute_result"
    }
   ],
   "source": [
    "# Run model summary with only sqft_living_log\n",
    "\n",
    "# Model Summary\n",
    "X = cats_added['sqft_living_log']\n",
    "y = cats_added['price_log']\n",
    "\n",
    "X_int = sm.add_constant(X)\n",
    "model = sm.OLS(y,X_int).fit()\n",
    "model.summary()"
   ]
  },
  {
   "cell_type": "markdown",
   "metadata": {},
   "source": [
    "#### The model with bedrooms and bathrooms as numerical predictors and waterfront, view, condition, and grade as categorical predictors produces more accurate predictions than sqft_living alone."
   ]
  },
  {
   "cell_type": "markdown",
   "metadata": {},
   "source": [
    "## Second Model - Train, Test, Split"
   ]
  },
  {
   "cell_type": "code",
   "execution_count": 516,
   "metadata": {
    "ExecuteTime": {
     "end_time": "2022-02-24T21:00:26.107352Z",
     "start_time": "2022-02-24T21:00:26.072002Z"
    }
   },
   "outputs": [],
   "source": [
    "X2 = second_model.drop('price_log', axis=1)\n",
    "y2 = second_model['price_log']"
   ]
  },
  {
   "cell_type": "code",
   "execution_count": 517,
   "metadata": {
    "ExecuteTime": {
     "end_time": "2022-02-24T21:00:26.922823Z",
     "start_time": "2022-02-24T21:00:26.889567Z"
    }
   },
   "outputs": [
    {
     "name": "stdout",
     "output_type": "stream",
     "text": [
      "12958 8639 12958 8639\n"
     ]
    }
   ],
   "source": [
    "# Split the data into training and test sets. Use the default split size\n",
    "\n",
    "X_train, X_test, y_train, y_test = train_test_split(X2,y2, test_size=.4)\n",
    "\n",
    "# A brief preview of tts\n",
    "print(len(X_train), len(X_test), len(y_train), len(y_test))"
   ]
  },
  {
   "cell_type": "code",
   "execution_count": 518,
   "metadata": {
    "ExecuteTime": {
     "end_time": "2022-02-24T21:00:27.884175Z",
     "start_time": "2022-02-24T21:00:27.815177Z"
    }
   },
   "outputs": [
    {
     "data": {
      "text/plain": [
       "LinearRegression()"
      ]
     },
     "execution_count": 518,
     "metadata": {},
     "output_type": "execute_result"
    }
   ],
   "source": [
    "# Fit the model to train data\n",
    "linreg.fit(X_train, y_train)\n",
    "\n",
    "LinearRegression(copy_X=True, fit_intercept=True, n_jobs=None, normalize=False)"
   ]
  },
  {
   "cell_type": "code",
   "execution_count": 519,
   "metadata": {
    "ExecuteTime": {
     "end_time": "2022-02-24T21:00:28.425421Z",
     "start_time": "2022-02-24T21:00:28.408191Z"
    }
   },
   "outputs": [],
   "source": [
    "# Calculate predictions on training and test sets\n",
    "y_hat_train = linreg.predict(X_train)\n",
    "y_hat_test = linreg.predict(X_test)"
   ]
  },
  {
   "cell_type": "code",
   "execution_count": 520,
   "metadata": {
    "ExecuteTime": {
     "end_time": "2022-02-24T21:00:28.835893Z",
     "start_time": "2022-02-24T21:00:28.828679Z"
    }
   },
   "outputs": [],
   "source": [
    "# Calculate residuals\n",
    "train_residuals = y_hat_train - y_train\n",
    "test_residuals = y_hat_test - y_test"
   ]
  },
  {
   "cell_type": "code",
   "execution_count": 521,
   "metadata": {
    "ExecuteTime": {
     "end_time": "2022-02-24T21:00:29.255782Z",
     "start_time": "2022-02-24T21:00:29.245681Z"
    }
   },
   "outputs": [
    {
     "name": "stdout",
     "output_type": "stream",
     "text": [
      "Train Mean Squared Error: 0.40320590313379223\n",
      "Test Mean Squared Error: 0.4059765554222239\n"
     ]
    }
   ],
   "source": [
    "# Calculate training and test MSE\n",
    "train_mse = mean_squared_error(y_train, y_hat_train)\n",
    "test_mse = mean_squared_error(y_test, y_hat_test)\n",
    "print('Train Mean Squared Error:', train_mse)\n",
    "print('Test Mean Squared Error:', test_mse)"
   ]
  },
  {
   "cell_type": "markdown",
   "metadata": {},
   "source": [
    "### Instantiate a Linear Regression model called final_model, then fit it to training data and score it on test data."
   ]
  },
  {
   "cell_type": "code",
   "execution_count": 522,
   "metadata": {
    "ExecuteTime": {
     "end_time": "2022-02-24T21:00:32.862651Z",
     "start_time": "2022-02-24T21:00:32.826206Z"
    }
   },
   "outputs": [
    {
     "data": {
      "text/plain": [
       "0.5947549336402727"
      ]
     },
     "execution_count": 522,
     "metadata": {},
     "output_type": "execute_result"
    }
   ],
   "source": [
    "final_model = LinearRegression()\n",
    "\n",
    "# Fit the model on X_train_final and y_train\n",
    "final_model.fit(X_train, y_train)\n",
    "\n",
    "# Score the model on X_test_final and y_test\n",
    "# (use the built-in .score method)\n",
    "final_model.score(X_test, y_test)"
   ]
  },
  {
   "cell_type": "markdown",
   "metadata": {},
   "source": [
    "### Model improvements from first to second models.\n",
    "* Lower variance and lower bias present in second_model compared to first_model\n",
    "    * Adjusted R-squared improved from 0.471 to 0.595\n",
    "    * Mean Squared Error improved from 0.507/0.516 (train/test) to 0.404/0.413 (train/test).\n",
    "***\n",
    "* Mean squared error similar in train and test splits for both first and second models.\n",
    "    * first_model: train = 0.507, test = 0.516\n",
    "    * second_model: train = 0.404, test = 0.413"
   ]
  },
  {
   "cell_type": "markdown",
   "metadata": {},
   "source": [
    "# Third Model - add more numerical values\n",
    "* Which numerical values to add?\n",
    "* Adds complexity and might hurt bias while improving variance."
   ]
  },
  {
   "cell_type": "code",
   "execution_count": 278,
   "metadata": {
    "ExecuteTime": {
     "end_time": "2022-02-24T15:37:33.922815Z",
     "start_time": "2022-02-24T15:37:33.912006Z"
    },
    "scrolled": true
   },
   "outputs": [
    {
     "data": {
      "text/plain": [
       "1.0    10673\n",
       "2.0     8235\n",
       "1.5     1910\n",
       "3.0      611\n",
       "2.5      161\n",
       "3.5        7\n",
       "Name: floors, dtype: int64"
      ]
     },
     "execution_count": 278,
     "metadata": {},
     "output_type": "execute_result"
    }
   ],
   "source": [
    "# look at values for floors -- looks easy to implement\n",
    "house_df['floors'].value_counts(dropna=False)"
   ]
  },
  {
   "cell_type": "code",
   "execution_count": 279,
   "metadata": {
    "ExecuteTime": {
     "end_time": "2022-02-24T15:37:34.529027Z",
     "start_time": "2022-02-24T15:37:34.519785Z"
    },
    "scrolled": true
   },
   "outputs": [
    {
     "data": {
      "text/plain": [
       "0.0       17011\n",
       "NaN        3842\n",
       "2014.0       73\n",
       "2003.0       31\n",
       "2013.0       31\n",
       "          ...  \n",
       "1944.0        1\n",
       "1948.0        1\n",
       "1976.0        1\n",
       "1934.0        1\n",
       "1953.0        1\n",
       "Name: yr_renovated, Length: 71, dtype: int64"
      ]
     },
     "execution_count": 279,
     "metadata": {},
     "output_type": "execute_result"
    }
   ],
   "source": [
    "# too many issues with this column - could probably one hot encode\n",
    "# all of the years, but that would create too many predictors.\n",
    "house_df['yr_renovated'].value_counts(dropna=False)"
   ]
  },
  {
   "cell_type": "code",
   "execution_count": 280,
   "metadata": {
    "ExecuteTime": {
     "end_time": "2022-02-24T15:37:34.929253Z",
     "start_time": "2022-02-24T15:37:34.920489Z"
    },
    "scrolled": true
   },
   "outputs": [
    {
     "data": {
      "text/plain": [
       "2014    559\n",
       "2006    453\n",
       "2005    450\n",
       "2004    433\n",
       "2003    420\n",
       "       ... \n",
       "1933     30\n",
       "1901     29\n",
       "1902     27\n",
       "1935     24\n",
       "1934     21\n",
       "Name: yr_built, Length: 116, dtype: int64"
      ]
     },
     "execution_count": 280,
     "metadata": {},
     "output_type": "execute_result"
    }
   ],
   "source": [
    "# look at yr_built value_counts - easy to include this predictor\n",
    "house_df['yr_built'].value_counts(dropna=False)"
   ]
  },
  {
   "cell_type": "code",
   "execution_count": 281,
   "metadata": {
    "ExecuteTime": {
     "end_time": "2022-02-24T15:37:35.276281Z",
     "start_time": "2022-02-24T15:37:35.266975Z"
    }
   },
   "outputs": [],
   "source": [
    "add_numericals = house_df[['yr_built', 'floors']]"
   ]
  },
  {
   "cell_type": "code",
   "execution_count": 282,
   "metadata": {
    "ExecuteTime": {
     "end_time": "2022-02-24T15:37:36.149611Z",
     "start_time": "2022-02-24T15:37:35.547756Z"
    },
    "scrolled": true
   },
   "outputs": [
    {
     "data": {
      "image/png": "[encoded data removed]",
      "text/plain": [
       "<Figure size 576x576 with 2 Axes>"
      ]
     },
     "metadata": {
      "needs_background": "light"
     },
     "output_type": "display_data"
    }
   ],
   "source": [
    "add_numericals.hist(figsize = [8,8], bins='auto');"
   ]
  },
  {
   "cell_type": "code",
   "execution_count": 343,
   "metadata": {
    "ExecuteTime": {
     "end_time": "2022-02-24T16:00:35.742757Z",
     "start_time": "2022-02-24T16:00:34.986640Z"
    },
    "scrolled": true
   },
   "outputs": [
    {
     "data": {
      "image/png": "[encoded data removed]",
      "text/plain": [
       "<Figure size 720x720 with 2 Axes>"
      ]
     },
     "metadata": {
      "needs_background": "light"
     },
     "output_type": "display_data"
    }
   ],
   "source": [
    "# Perform log transformations for add_numericals \n",
    "\n",
    "log_names = [f'{column}_log' for column in add_numericals.columns]\n",
    "\n",
    "house_log2 = np.log(add_numericals)\n",
    "house_log2.columns = log_names\n",
    "house_log.hist(figsize=(10, 10), bins='auto')\n",
    "fig.tight_layout();"
   ]
  },
  {
   "cell_type": "code",
   "execution_count": 344,
   "metadata": {
    "ExecuteTime": {
     "end_time": "2022-02-24T16:00:42.793357Z",
     "start_time": "2022-02-24T16:00:42.426820Z"
    },
    "scrolled": true
   },
   "outputs": [
    {
     "data": {
      "image/png": "[encoded data removed]",
      "text/plain": [
       "<Figure size 576x576 with 2 Axes>"
      ]
     },
     "metadata": {
      "needs_background": "light"
     },
     "output_type": "display_data"
    }
   ],
   "source": [
    "# Standardize the log features\n",
    "\n",
    "def normalize(feature):\n",
    "    return (feature - feature.mean()) / feature.std()\n",
    "\n",
    "features_add = house_log2.apply(normalize)\n",
    "\n",
    "features_add.hist(figsize  = [8, 8]);"
   ]
  },
  {
   "cell_type": "markdown",
   "metadata": {},
   "source": [
    "### Additional features not normally distributed.\n",
    "* Likely to cause skewness."
   ]
  },
  {
   "cell_type": "code",
   "execution_count": 477,
   "metadata": {
    "ExecuteTime": {
     "end_time": "2022-02-24T20:40:32.057195Z",
     "start_time": "2022-02-24T20:40:32.018560Z"
    }
   },
   "outputs": [
    {
     "data": {
      "text/html": [
       "<div>\n",
       "<style scoped>\n",
       "    .dataframe tbody tr th:only-of-type {\n",
       "        vertical-align: middle;\n",
       "    }\n",
       "\n",
       "    .dataframe tbody tr th {\n",
       "        vertical-align: top;\n",
       "    }\n",
       "\n",
       "    .dataframe thead th {\n",
       "        text-align: right;\n",
       "    }\n",
       "</style>\n",
       "<table border=\"1\" class=\"dataframe\">\n",
       "  <thead>\n",
       "    <tr style=\"text-align: right;\">\n",
       "      <th></th>\n",
       "      <th>yr_built_log</th>\n",
       "      <th>floors_log</th>\n",
       "    </tr>\n",
       "  </thead>\n",
       "  <tbody>\n",
       "    <tr>\n",
       "      <th>count</th>\n",
       "      <td>2.159700e+04</td>\n",
       "      <td>2.159700e+04</td>\n",
       "    </tr>\n",
       "    <tr>\n",
       "      <th>mean</th>\n",
       "      <td>-2.568837e-15</td>\n",
       "      <td>2.105604e-17</td>\n",
       "    </tr>\n",
       "    <tr>\n",
       "      <th>std</th>\n",
       "      <td>1.000000e+00</td>\n",
       "      <td>1.000000e+00</td>\n",
       "    </tr>\n",
       "    <tr>\n",
       "      <th>min</th>\n",
       "      <td>-2.445050e+00</td>\n",
       "      <td>-9.608519e-01</td>\n",
       "    </tr>\n",
       "    <tr>\n",
       "      <th>25%</th>\n",
       "      <td>-6.743255e-01</td>\n",
       "      <td>-9.608519e-01</td>\n",
       "    </tr>\n",
       "    <tr>\n",
       "      <th>50%</th>\n",
       "      <td>1.430005e-01</td>\n",
       "      <td>1.901686e-01</td>\n",
       "    </tr>\n",
       "    <tr>\n",
       "      <th>75%</th>\n",
       "      <td>8.835377e-01</td>\n",
       "      <td>1.006831e+00</td>\n",
       "    </tr>\n",
       "    <tr>\n",
       "      <th>max</th>\n",
       "      <td>1.483389e+00</td>\n",
       "      <td>2.595449e+00</td>\n",
       "    </tr>\n",
       "  </tbody>\n",
       "</table>\n",
       "</div>"
      ],
      "text/plain": [
       "       yr_built_log    floors_log\n",
       "count  2.159700e+04  2.159700e+04\n",
       "mean  -2.568837e-15  2.105604e-17\n",
       "std    1.000000e+00  1.000000e+00\n",
       "min   -2.445050e+00 -9.608519e-01\n",
       "25%   -6.743255e-01 -9.608519e-01\n",
       "50%    1.430005e-01  1.901686e-01\n",
       "75%    8.835377e-01  1.006831e+00\n",
       "max    1.483389e+00  2.595449e+00"
      ]
     },
     "execution_count": 477,
     "metadata": {},
     "output_type": "execute_result"
    }
   ],
   "source": [
    "features_add.describe()"
   ]
  },
  {
   "cell_type": "code",
   "execution_count": 285,
   "metadata": {
    "ExecuteTime": {
     "end_time": "2022-02-24T15:37:37.832033Z",
     "start_time": "2022-02-24T15:37:37.804475Z"
    },
    "scrolled": true
   },
   "outputs": [
    {
     "data": {
      "text/html": [
       "<div>\n",
       "<style scoped>\n",
       "    .dataframe tbody tr th:only-of-type {\n",
       "        vertical-align: middle;\n",
       "    }\n",
       "\n",
       "    .dataframe tbody tr th {\n",
       "        vertical-align: top;\n",
       "    }\n",
       "\n",
       "    .dataframe thead th {\n",
       "        text-align: right;\n",
       "    }\n",
       "</style>\n",
       "<table border=\"1\" class=\"dataframe\">\n",
       "  <thead>\n",
       "    <tr style=\"text-align: right;\">\n",
       "      <th></th>\n",
       "      <th>sqft_living_log</th>\n",
       "      <th>bathrooms_log</th>\n",
       "      <th>bedrooms_log</th>\n",
       "      <th>price_log</th>\n",
       "      <th>bd*ba</th>\n",
       "      <th>water_YES</th>\n",
       "      <th>view_EXCELLENT</th>\n",
       "      <th>view_FAIR</th>\n",
       "      <th>view_GOOD</th>\n",
       "      <th>view_NONE</th>\n",
       "      <th>...</th>\n",
       "      <th>grade_12 Luxury</th>\n",
       "      <th>grade_13 Mansion</th>\n",
       "      <th>grade_4 Low</th>\n",
       "      <th>grade_5 Fair</th>\n",
       "      <th>grade_6 Low Average</th>\n",
       "      <th>grade_7 Average</th>\n",
       "      <th>grade_8 Good</th>\n",
       "      <th>grade_9 Better</th>\n",
       "      <th>yr_built_log</th>\n",
       "      <th>floors_log</th>\n",
       "    </tr>\n",
       "  </thead>\n",
       "  <tbody>\n",
       "    <tr>\n",
       "      <th>0</th>\n",
       "      <td>-1.125556</td>\n",
       "      <td>-1.726509</td>\n",
       "      <td>-0.279718</td>\n",
       "      <td>-1.401998</td>\n",
       "      <td>0.482936</td>\n",
       "      <td>0</td>\n",
       "      <td>0</td>\n",
       "      <td>0</td>\n",
       "      <td>0</td>\n",
       "      <td>1</td>\n",
       "      <td>...</td>\n",
       "      <td>0</td>\n",
       "      <td>0</td>\n",
       "      <td>0</td>\n",
       "      <td>0</td>\n",
       "      <td>0</td>\n",
       "      <td>1</td>\n",
       "      <td>0</td>\n",
       "      <td>0</td>\n",
       "      <td>-0.537409</td>\n",
       "      <td>-0.960852</td>\n",
       "    </tr>\n",
       "    <tr>\n",
       "      <th>1</th>\n",
       "      <td>0.709446</td>\n",
       "      <td>0.339653</td>\n",
       "      <td>-0.279718</td>\n",
       "      <td>0.279938</td>\n",
       "      <td>-0.095007</td>\n",
       "      <td>0</td>\n",
       "      <td>0</td>\n",
       "      <td>0</td>\n",
       "      <td>0</td>\n",
       "      <td>1</td>\n",
       "      <td>...</td>\n",
       "      <td>0</td>\n",
       "      <td>0</td>\n",
       "      <td>0</td>\n",
       "      <td>0</td>\n",
       "      <td>0</td>\n",
       "      <td>1</td>\n",
       "      <td>0</td>\n",
       "      <td>0</td>\n",
       "      <td>-0.674325</td>\n",
       "      <td>1.006831</td>\n",
       "    </tr>\n",
       "    <tr>\n",
       "      <th>2</th>\n",
       "      <td>-2.131893</td>\n",
       "      <td>-1.726509</td>\n",
       "      <td>-1.711611</td>\n",
       "      <td>-1.799430</td>\n",
       "      <td>2.955111</td>\n",
       "      <td>0</td>\n",
       "      <td>0</td>\n",
       "      <td>0</td>\n",
       "      <td>0</td>\n",
       "      <td>1</td>\n",
       "      <td>...</td>\n",
       "      <td>0</td>\n",
       "      <td>0</td>\n",
       "      <td>0</td>\n",
       "      <td>0</td>\n",
       "      <td>1</td>\n",
       "      <td>0</td>\n",
       "      <td>0</td>\n",
       "      <td>0</td>\n",
       "      <td>-1.293945</td>\n",
       "      <td>-0.960852</td>\n",
       "    </tr>\n",
       "    <tr>\n",
       "      <th>3</th>\n",
       "      <td>0.070674</td>\n",
       "      <td>1.072635</td>\n",
       "      <td>0.736226</td>\n",
       "      <td>0.499698</td>\n",
       "      <td>0.789702</td>\n",
       "      <td>0</td>\n",
       "      <td>0</td>\n",
       "      <td>0</td>\n",
       "      <td>0</td>\n",
       "      <td>1</td>\n",
       "      <td>...</td>\n",
       "      <td>0</td>\n",
       "      <td>0</td>\n",
       "      <td>0</td>\n",
       "      <td>0</td>\n",
       "      <td>0</td>\n",
       "      <td>1</td>\n",
       "      <td>0</td>\n",
       "      <td>0</td>\n",
       "      <td>-0.196338</td>\n",
       "      <td>-0.960852</td>\n",
       "    </tr>\n",
       "    <tr>\n",
       "      <th>4</th>\n",
       "      <td>-0.292725</td>\n",
       "      <td>0.039555</td>\n",
       "      <td>-0.279718</td>\n",
       "      <td>0.178434</td>\n",
       "      <td>-0.011064</td>\n",
       "      <td>0</td>\n",
       "      <td>0</td>\n",
       "      <td>0</td>\n",
       "      <td>0</td>\n",
       "      <td>1</td>\n",
       "      <td>...</td>\n",
       "      <td>0</td>\n",
       "      <td>0</td>\n",
       "      <td>0</td>\n",
       "      <td>0</td>\n",
       "      <td>0</td>\n",
       "      <td>0</td>\n",
       "      <td>1</td>\n",
       "      <td>0</td>\n",
       "      <td>0.547946</td>\n",
       "      <td>-0.960852</td>\n",
       "    </tr>\n",
       "  </tbody>\n",
       "</table>\n",
       "<p>5 rows × 24 columns</p>\n",
       "</div>"
      ],
      "text/plain": [
       "   sqft_living_log  bathrooms_log  bedrooms_log  price_log     bd*ba  \\\n",
       "0        -1.125556      -1.726509     -0.279718  -1.401998  0.482936   \n",
       "1         0.709446       0.339653     -0.279718   0.279938 -0.095007   \n",
       "2        -2.131893      -1.726509     -1.711611  -1.799430  2.955111   \n",
       "3         0.070674       1.072635      0.736226   0.499698  0.789702   \n",
       "4        -0.292725       0.039555     -0.279718   0.178434 -0.011064   \n",
       "\n",
       "   water_YES  view_EXCELLENT  view_FAIR  view_GOOD  view_NONE  ...  \\\n",
       "0          0               0          0          0          1  ...   \n",
       "1          0               0          0          0          1  ...   \n",
       "2          0               0          0          0          1  ...   \n",
       "3          0               0          0          0          1  ...   \n",
       "4          0               0          0          0          1  ...   \n",
       "\n",
       "   grade_12 Luxury  grade_13 Mansion  grade_4 Low  grade_5 Fair  \\\n",
       "0                0                 0            0             0   \n",
       "1                0                 0            0             0   \n",
       "2                0                 0            0             0   \n",
       "3                0                 0            0             0   \n",
       "4                0                 0            0             0   \n",
       "\n",
       "   grade_6 Low Average  grade_7 Average  grade_8 Good  grade_9 Better  \\\n",
       "0                    0                1             0               0   \n",
       "1                    0                1             0               0   \n",
       "2                    1                0             0               0   \n",
       "3                    0                1             0               0   \n",
       "4                    0                0             1               0   \n",
       "\n",
       "   yr_built_log  floors_log  \n",
       "0     -0.537409   -0.960852  \n",
       "1     -0.674325    1.006831  \n",
       "2     -1.293945   -0.960852  \n",
       "3     -0.196338   -0.960852  \n",
       "4      0.547946   -0.960852  \n",
       "\n",
       "[5 rows x 24 columns]"
      ]
     },
     "execution_count": 285,
     "metadata": {},
     "output_type": "execute_result"
    }
   ],
   "source": [
    "third_model = pd.concat([second_model, features_add], axis=1)\n",
    "third_model.head()"
   ]
  },
  {
   "cell_type": "code",
   "execution_count": 286,
   "metadata": {
    "ExecuteTime": {
     "end_time": "2022-02-24T15:37:38.507512Z",
     "start_time": "2022-02-24T15:37:38.370098Z"
    },
    "scrolled": true
   },
   "outputs": [
    {
     "data": {
      "text/html": [
       "<table class=\"simpletable\">\n",
       "<caption>OLS Regression Results</caption>\n",
       "<tr>\n",
       "  <th>Dep. Variable:</th>        <td>price_log</td>    <th>  R-squared:         </th> <td>   0.650</td> \n",
       "</tr>\n",
       "<tr>\n",
       "  <th>Model:</th>                   <td>OLS</td>       <th>  Adj. R-squared:    </th> <td>   0.650</td> \n",
       "</tr>\n",
       "<tr>\n",
       "  <th>Method:</th>             <td>Least Squares</td>  <th>  F-statistic:       </th> <td>   1743.</td> \n",
       "</tr>\n",
       "<tr>\n",
       "  <th>Date:</th>             <td>Thu, 24 Feb 2022</td> <th>  Prob (F-statistic):</th>  <td>  0.00</td>  \n",
       "</tr>\n",
       "<tr>\n",
       "  <th>Time:</th>                 <td>08:37:38</td>     <th>  Log-Likelihood:    </th> <td> -19302.</td> \n",
       "</tr>\n",
       "<tr>\n",
       "  <th>No. Observations:</th>      <td> 21597</td>      <th>  AIC:               </th> <td>3.865e+04</td>\n",
       "</tr>\n",
       "<tr>\n",
       "  <th>Df Residuals:</th>          <td> 21573</td>      <th>  BIC:               </th> <td>3.884e+04</td>\n",
       "</tr>\n",
       "<tr>\n",
       "  <th>Df Model:</th>              <td>    23</td>      <th>                     </th>     <td> </td>    \n",
       "</tr>\n",
       "<tr>\n",
       "  <th>Covariance Type:</th>      <td>nonrobust</td>    <th>                     </th>     <td> </td>    \n",
       "</tr>\n",
       "</table>\n",
       "<table class=\"simpletable\">\n",
       "<tr>\n",
       "           <td></td>              <th>coef</th>     <th>std err</th>      <th>t</th>      <th>P>|t|</th>  <th>[0.025</th>    <th>0.975]</th>  \n",
       "</tr>\n",
       "<tr>\n",
       "  <th>const</th>               <td>    1.1244</td> <td>    0.028</td> <td>   40.779</td> <td> 0.000</td> <td>    1.070</td> <td>    1.178</td>\n",
       "</tr>\n",
       "<tr>\n",
       "  <th>sqft_living_log</th>     <td>    0.3159</td> <td>    0.008</td> <td>   37.430</td> <td> 0.000</td> <td>    0.299</td> <td>    0.332</td>\n",
       "</tr>\n",
       "<tr>\n",
       "  <th>bathrooms_log</th>       <td>    0.1060</td> <td>    0.007</td> <td>   14.539</td> <td> 0.000</td> <td>    0.092</td> <td>    0.120</td>\n",
       "</tr>\n",
       "<tr>\n",
       "  <th>bedrooms_log</th>        <td>   -0.0645</td> <td>    0.006</td> <td>  -11.426</td> <td> 0.000</td> <td>   -0.076</td> <td>   -0.053</td>\n",
       "</tr>\n",
       "<tr>\n",
       "  <th>bd*ba</th>               <td>    0.0358</td> <td>    0.004</td> <td>    9.493</td> <td> 0.000</td> <td>    0.028</td> <td>    0.043</td>\n",
       "</tr>\n",
       "<tr>\n",
       "  <th>water_YES</th>           <td>    0.6241</td> <td>    0.060</td> <td>   10.406</td> <td> 0.000</td> <td>    0.507</td> <td>    0.742</td>\n",
       "</tr>\n",
       "<tr>\n",
       "  <th>view_EXCELLENT</th>      <td>    0.3296</td> <td>    0.045</td> <td>    7.351</td> <td> 0.000</td> <td>    0.242</td> <td>    0.418</td>\n",
       "</tr>\n",
       "<tr>\n",
       "  <th>view_FAIR</th>           <td>    0.1531</td> <td>    0.038</td> <td>    4.049</td> <td> 0.000</td> <td>    0.079</td> <td>    0.227</td>\n",
       "</tr>\n",
       "<tr>\n",
       "  <th>view_GOOD</th>           <td>    0.0792</td> <td>    0.033</td> <td>    2.431</td> <td> 0.015</td> <td>    0.015</td> <td>    0.143</td>\n",
       "</tr>\n",
       "<tr>\n",
       "  <th>view_NONE</th>           <td>   -0.1931</td> <td>    0.020</td> <td>   -9.640</td> <td> 0.000</td> <td>   -0.232</td> <td>   -0.154</td>\n",
       "</tr>\n",
       "<tr>\n",
       "  <th>condition_Fair</th>      <td>   -0.3113</td> <td>    0.046</td> <td>   -6.746</td> <td> 0.000</td> <td>   -0.402</td> <td>   -0.221</td>\n",
       "</tr>\n",
       "<tr>\n",
       "  <th>condition_Good</th>      <td>    0.0328</td> <td>    0.010</td> <td>    3.265</td> <td> 0.001</td> <td>    0.013</td> <td>    0.052</td>\n",
       "</tr>\n",
       "<tr>\n",
       "  <th>condition_Very Good</th> <td>    0.1619</td> <td>    0.016</td> <td>   10.000</td> <td> 0.000</td> <td>    0.130</td> <td>    0.194</td>\n",
       "</tr>\n",
       "<tr>\n",
       "  <th>grade_11 Excellent</th>  <td>    0.3798</td> <td>    0.035</td> <td>   10.933</td> <td> 0.000</td> <td>    0.312</td> <td>    0.448</td>\n",
       "</tr>\n",
       "<tr>\n",
       "  <th>grade_12 Luxury</th>     <td>    0.7925</td> <td>    0.066</td> <td>   12.023</td> <td> 0.000</td> <td>    0.663</td> <td>    0.922</td>\n",
       "</tr>\n",
       "<tr>\n",
       "  <th>grade_13 Mansion</th>    <td>    1.3386</td> <td>    0.166</td> <td>    8.063</td> <td> 0.000</td> <td>    1.013</td> <td>    1.664</td>\n",
       "</tr>\n",
       "<tr>\n",
       "  <th>grade_4 Low</th>         <td>   -2.2844</td> <td>    0.119</td> <td>  -19.203</td> <td> 0.000</td> <td>   -2.518</td> <td>   -2.051</td>\n",
       "</tr>\n",
       "<tr>\n",
       "  <th>grade_5 Fair</th>        <td>   -2.1558</td> <td>    0.047</td> <td>  -45.720</td> <td> 0.000</td> <td>   -2.248</td> <td>   -2.063</td>\n",
       "</tr>\n",
       "<tr>\n",
       "  <th>grade_6 Low Average</th> <td>   -1.7611</td> <td>    0.029</td> <td>  -61.493</td> <td> 0.000</td> <td>   -1.817</td> <td>   -1.705</td>\n",
       "</tr>\n",
       "<tr>\n",
       "  <th>grade_7 Average</th>     <td>   -1.2857</td> <td>    0.023</td> <td>  -56.422</td> <td> 0.000</td> <td>   -1.330</td> <td>   -1.241</td>\n",
       "</tr>\n",
       "<tr>\n",
       "  <th>grade_8 Good</th>        <td>   -0.8515</td> <td>    0.021</td> <td>  -40.772</td> <td> 0.000</td> <td>   -0.892</td> <td>   -0.811</td>\n",
       "</tr>\n",
       "<tr>\n",
       "  <th>grade_9 Better</th>      <td>   -0.3801</td> <td>    0.021</td> <td>  -17.798</td> <td> 0.000</td> <td>   -0.422</td> <td>   -0.338</td>\n",
       "</tr>\n",
       "<tr>\n",
       "  <th>yr_built_log</th>        <td>   -0.3152</td> <td>    0.005</td> <td>  -57.421</td> <td> 0.000</td> <td>   -0.326</td> <td>   -0.304</td>\n",
       "</tr>\n",
       "<tr>\n",
       "  <th>floors_log</th>          <td>    0.0745</td> <td>    0.005</td> <td>   14.580</td> <td> 0.000</td> <td>    0.065</td> <td>    0.085</td>\n",
       "</tr>\n",
       "</table>\n",
       "<table class=\"simpletable\">\n",
       "<tr>\n",
       "  <th>Omnibus:</th>       <td>66.699</td> <th>  Durbin-Watson:     </th> <td>   1.956</td>\n",
       "</tr>\n",
       "<tr>\n",
       "  <th>Prob(Omnibus):</th> <td> 0.000</td> <th>  Jarque-Bera (JB):  </th> <td>  77.328</td>\n",
       "</tr>\n",
       "<tr>\n",
       "  <th>Skew:</th>          <td>-0.081</td> <th>  Prob(JB):          </th> <td>1.62e-17</td>\n",
       "</tr>\n",
       "<tr>\n",
       "  <th>Kurtosis:</th>      <td> 3.245</td> <th>  Cond. No.          </th> <td>    74.9</td>\n",
       "</tr>\n",
       "</table><br/><br/>Notes:<br/>[1] Standard Errors assume that the covariance matrix of the errors is correctly specified."
      ],
      "text/plain": [
       "<class 'statsmodels.iolib.summary.Summary'>\n",
       "\"\"\"\n",
       "                            OLS Regression Results                            \n",
       "==============================================================================\n",
       "Dep. Variable:              price_log   R-squared:                       0.650\n",
       "Model:                            OLS   Adj. R-squared:                  0.650\n",
       "Method:                 Least Squares   F-statistic:                     1743.\n",
       "Date:                Thu, 24 Feb 2022   Prob (F-statistic):               0.00\n",
       "Time:                        08:37:38   Log-Likelihood:                -19302.\n",
       "No. Observations:               21597   AIC:                         3.865e+04\n",
       "Df Residuals:                   21573   BIC:                         3.884e+04\n",
       "Df Model:                          23                                         \n",
       "Covariance Type:            nonrobust                                         \n",
       "=======================================================================================\n",
       "                          coef    std err          t      P>|t|      [0.025      0.975]\n",
       "---------------------------------------------------------------------------------------\n",
       "const                   1.1244      0.028     40.779      0.000       1.070       1.178\n",
       "sqft_living_log         0.3159      0.008     37.430      0.000       0.299       0.332\n",
       "bathrooms_log           0.1060      0.007     14.539      0.000       0.092       0.120\n",
       "bedrooms_log           -0.0645      0.006    -11.426      0.000      -0.076      -0.053\n",
       "bd*ba                   0.0358      0.004      9.493      0.000       0.028       0.043\n",
       "water_YES               0.6241      0.060     10.406      0.000       0.507       0.742\n",
       "view_EXCELLENT          0.3296      0.045      7.351      0.000       0.242       0.418\n",
       "view_FAIR               0.1531      0.038      4.049      0.000       0.079       0.227\n",
       "view_GOOD               0.0792      0.033      2.431      0.015       0.015       0.143\n",
       "view_NONE              -0.1931      0.020     -9.640      0.000      -0.232      -0.154\n",
       "condition_Fair         -0.3113      0.046     -6.746      0.000      -0.402      -0.221\n",
       "condition_Good          0.0328      0.010      3.265      0.001       0.013       0.052\n",
       "condition_Very Good     0.1619      0.016     10.000      0.000       0.130       0.194\n",
       "grade_11 Excellent      0.3798      0.035     10.933      0.000       0.312       0.448\n",
       "grade_12 Luxury         0.7925      0.066     12.023      0.000       0.663       0.922\n",
       "grade_13 Mansion        1.3386      0.166      8.063      0.000       1.013       1.664\n",
       "grade_4 Low            -2.2844      0.119    -19.203      0.000      -2.518      -2.051\n",
       "grade_5 Fair           -2.1558      0.047    -45.720      0.000      -2.248      -2.063\n",
       "grade_6 Low Average    -1.7611      0.029    -61.493      0.000      -1.817      -1.705\n",
       "grade_7 Average        -1.2857      0.023    -56.422      0.000      -1.330      -1.241\n",
       "grade_8 Good           -0.8515      0.021    -40.772      0.000      -0.892      -0.811\n",
       "grade_9 Better         -0.3801      0.021    -17.798      0.000      -0.422      -0.338\n",
       "yr_built_log           -0.3152      0.005    -57.421      0.000      -0.326      -0.304\n",
       "floors_log              0.0745      0.005     14.580      0.000       0.065       0.085\n",
       "==============================================================================\n",
       "Omnibus:                       66.699   Durbin-Watson:                   1.956\n",
       "Prob(Omnibus):                  0.000   Jarque-Bera (JB):               77.328\n",
       "Skew:                          -0.081   Prob(JB):                     1.62e-17\n",
       "Kurtosis:                       3.245   Cond. No.                         74.9\n",
       "==============================================================================\n",
       "\n",
       "Notes:\n",
       "[1] Standard Errors assume that the covariance matrix of the errors is correctly specified.\n",
       "\"\"\""
      ]
     },
     "execution_count": 286,
     "metadata": {},
     "output_type": "execute_result"
    }
   ],
   "source": [
    "# Model Summary\n",
    "X = third_model.drop(['price_log'], axis=1)\n",
    "y = third_model['price_log']\n",
    "\n",
    "X_int = sm.add_constant(X)\n",
    "model = sm.OLS(y,X_int).fit()\n",
    "model.summary()"
   ]
  },
  {
   "cell_type": "code",
   "execution_count": 312,
   "metadata": {
    "ExecuteTime": {
     "end_time": "2022-02-24T15:39:39.559250Z",
     "start_time": "2022-02-24T15:39:39.551004Z"
    }
   },
   "outputs": [],
   "source": [
    "X3 = third_model.drop('price_log', axis=1)\n",
    "y3 = third_model['price_log']"
   ]
  },
  {
   "cell_type": "code",
   "execution_count": 313,
   "metadata": {
    "ExecuteTime": {
     "end_time": "2022-02-24T15:39:40.089218Z",
     "start_time": "2022-02-24T15:39:40.072485Z"
    }
   },
   "outputs": [
    {
     "name": "stdout",
     "output_type": "stream",
     "text": [
      "12958 8639 12958 8639\n"
     ]
    }
   ],
   "source": [
    "# Split the data into training and test sets. Use the default split size\n",
    "\n",
    "X_train, X_test, y_train, y_test = train_test_split(X3,y3, test_size=.4)\n",
    "\n",
    "# A brief preview of tts\n",
    "print(len(X_train), len(X_test), len(y_train), len(y_test))"
   ]
  },
  {
   "cell_type": "code",
   "execution_count": 314,
   "metadata": {
    "ExecuteTime": {
     "end_time": "2022-02-24T15:39:40.669999Z",
     "start_time": "2022-02-24T15:39:40.622763Z"
    }
   },
   "outputs": [
    {
     "data": {
      "text/plain": [
       "LinearRegression()"
      ]
     },
     "execution_count": 314,
     "metadata": {},
     "output_type": "execute_result"
    }
   ],
   "source": [
    "linreg = LinearRegression()\n",
    "\n",
    "# Fit the model to train data\n",
    "linreg.fit(X_train, y_train)\n",
    "\n",
    "LinearRegression(copy_X=True, fit_intercept=True, n_jobs=None, normalize=False)"
   ]
  },
  {
   "cell_type": "code",
   "execution_count": 315,
   "metadata": {
    "ExecuteTime": {
     "end_time": "2022-02-24T15:39:41.213597Z",
     "start_time": "2022-02-24T15:39:41.181662Z"
    }
   },
   "outputs": [],
   "source": [
    "# Calculate predictions on training and test sets\n",
    "y_hat_train = linreg.predict(X_train)\n",
    "y_hat_test = linreg.predict(X_test)"
   ]
  },
  {
   "cell_type": "code",
   "execution_count": 316,
   "metadata": {
    "ExecuteTime": {
     "end_time": "2022-02-24T15:39:41.797108Z",
     "start_time": "2022-02-24T15:39:41.786979Z"
    }
   },
   "outputs": [],
   "source": [
    "# Calculate residuals\n",
    "train_residuals = y_hat_train - y_train\n",
    "test_residuals = y_hat_test - y_test"
   ]
  },
  {
   "cell_type": "code",
   "execution_count": 317,
   "metadata": {
    "ExecuteTime": {
     "end_time": "2022-02-24T15:39:42.383729Z",
     "start_time": "2022-02-24T15:39:42.374898Z"
    }
   },
   "outputs": [
    {
     "name": "stdout",
     "output_type": "stream",
     "text": [
      "Train Mean Squared Error: 0.3507954634960665\n",
      "Test Mean Squared Error: 0.3492153432973715\n"
     ]
    }
   ],
   "source": [
    "# Calculate training and test MSE\n",
    "train_mse = mean_squared_error(y_train, y_hat_train)\n",
    "test_mse = mean_squared_error(y_test, y_hat_test)\n",
    "print('Train Mean Squared Error:', train_mse)\n",
    "print('Test Mean Squared Error:', test_mse)"
   ]
  },
  {
   "cell_type": "markdown",
   "metadata": {},
   "source": [
    "### Instantiate a Linear Regression model called final_model, then fit it to training data and score it on test data."
   ]
  },
  {
   "cell_type": "code",
   "execution_count": 318,
   "metadata": {
    "ExecuteTime": {
     "end_time": "2022-02-24T15:39:43.444189Z",
     "start_time": "2022-02-24T15:39:43.412717Z"
    }
   },
   "outputs": [
    {
     "data": {
      "text/plain": [
       "0.6518125761137188"
      ]
     },
     "execution_count": 318,
     "metadata": {},
     "output_type": "execute_result"
    }
   ],
   "source": [
    "final_model = LinearRegression()\n",
    "\n",
    "# Fit the model on X_train_final and y_train\n",
    "final_model.fit(X_train, y_train)\n",
    "\n",
    "# Score the model on X_test_final and y_test\n",
    "# (use the built-in .score method)\n",
    "final_model.score(X_test, y_test)"
   ]
  },
  {
   "cell_type": "markdown",
   "metadata": {},
   "source": [
    "### Third model lowers Variance and Bias\n",
    "* Adjusted R-squared value increased from 0.587 to .642\n",
    "* Root Mean Squared Error (RMSE) decreased from 0.404/0.413 (train/test) to 0.351/0.353 (train/test)"
   ]
  },
  {
   "cell_type": "markdown",
   "metadata": {},
   "source": [
    "# Fourth Model\n",
    "* Drop predictors with high VIF scores\n",
    "    * view_NONE\n",
    "    * grade_7 Average"
   ]
  },
  {
   "cell_type": "code",
   "execution_count": 319,
   "metadata": {
    "ExecuteTime": {
     "end_time": "2022-02-24T15:39:45.069065Z",
     "start_time": "2022-02-24T15:39:45.031670Z"
    }
   },
   "outputs": [
    {
     "data": {
      "text/html": [
       "<div>\n",
       "<style scoped>\n",
       "    .dataframe tbody tr th:only-of-type {\n",
       "        vertical-align: middle;\n",
       "    }\n",
       "\n",
       "    .dataframe tbody tr th {\n",
       "        vertical-align: top;\n",
       "    }\n",
       "\n",
       "    .dataframe thead th {\n",
       "        text-align: right;\n",
       "    }\n",
       "</style>\n",
       "<table border=\"1\" class=\"dataframe\">\n",
       "  <thead>\n",
       "    <tr style=\"text-align: right;\">\n",
       "      <th></th>\n",
       "      <th>sqft_living_log</th>\n",
       "      <th>bathrooms_log</th>\n",
       "      <th>bedrooms_log</th>\n",
       "      <th>price_log</th>\n",
       "      <th>bd*ba</th>\n",
       "      <th>water_YES</th>\n",
       "      <th>view_EXCELLENT</th>\n",
       "      <th>view_FAIR</th>\n",
       "      <th>view_GOOD</th>\n",
       "      <th>condition_Fair</th>\n",
       "      <th>...</th>\n",
       "      <th>grade_11 Excellent</th>\n",
       "      <th>grade_12 Luxury</th>\n",
       "      <th>grade_13 Mansion</th>\n",
       "      <th>grade_4 Low</th>\n",
       "      <th>grade_5 Fair</th>\n",
       "      <th>grade_6 Low Average</th>\n",
       "      <th>grade_8 Good</th>\n",
       "      <th>grade_9 Better</th>\n",
       "      <th>yr_built_log</th>\n",
       "      <th>floors_log</th>\n",
       "    </tr>\n",
       "  </thead>\n",
       "  <tbody>\n",
       "    <tr>\n",
       "      <th>0</th>\n",
       "      <td>-1.125556</td>\n",
       "      <td>-1.726509</td>\n",
       "      <td>-0.279718</td>\n",
       "      <td>-1.401998</td>\n",
       "      <td>0.482936</td>\n",
       "      <td>0</td>\n",
       "      <td>0</td>\n",
       "      <td>0</td>\n",
       "      <td>0</td>\n",
       "      <td>0</td>\n",
       "      <td>...</td>\n",
       "      <td>0</td>\n",
       "      <td>0</td>\n",
       "      <td>0</td>\n",
       "      <td>0</td>\n",
       "      <td>0</td>\n",
       "      <td>0</td>\n",
       "      <td>0</td>\n",
       "      <td>0</td>\n",
       "      <td>-0.537409</td>\n",
       "      <td>-0.960852</td>\n",
       "    </tr>\n",
       "    <tr>\n",
       "      <th>1</th>\n",
       "      <td>0.709446</td>\n",
       "      <td>0.339653</td>\n",
       "      <td>-0.279718</td>\n",
       "      <td>0.279938</td>\n",
       "      <td>-0.095007</td>\n",
       "      <td>0</td>\n",
       "      <td>0</td>\n",
       "      <td>0</td>\n",
       "      <td>0</td>\n",
       "      <td>0</td>\n",
       "      <td>...</td>\n",
       "      <td>0</td>\n",
       "      <td>0</td>\n",
       "      <td>0</td>\n",
       "      <td>0</td>\n",
       "      <td>0</td>\n",
       "      <td>0</td>\n",
       "      <td>0</td>\n",
       "      <td>0</td>\n",
       "      <td>-0.674325</td>\n",
       "      <td>1.006831</td>\n",
       "    </tr>\n",
       "    <tr>\n",
       "      <th>2</th>\n",
       "      <td>-2.131893</td>\n",
       "      <td>-1.726509</td>\n",
       "      <td>-1.711611</td>\n",
       "      <td>-1.799430</td>\n",
       "      <td>2.955111</td>\n",
       "      <td>0</td>\n",
       "      <td>0</td>\n",
       "      <td>0</td>\n",
       "      <td>0</td>\n",
       "      <td>0</td>\n",
       "      <td>...</td>\n",
       "      <td>0</td>\n",
       "      <td>0</td>\n",
       "      <td>0</td>\n",
       "      <td>0</td>\n",
       "      <td>0</td>\n",
       "      <td>1</td>\n",
       "      <td>0</td>\n",
       "      <td>0</td>\n",
       "      <td>-1.293945</td>\n",
       "      <td>-0.960852</td>\n",
       "    </tr>\n",
       "    <tr>\n",
       "      <th>3</th>\n",
       "      <td>0.070674</td>\n",
       "      <td>1.072635</td>\n",
       "      <td>0.736226</td>\n",
       "      <td>0.499698</td>\n",
       "      <td>0.789702</td>\n",
       "      <td>0</td>\n",
       "      <td>0</td>\n",
       "      <td>0</td>\n",
       "      <td>0</td>\n",
       "      <td>0</td>\n",
       "      <td>...</td>\n",
       "      <td>0</td>\n",
       "      <td>0</td>\n",
       "      <td>0</td>\n",
       "      <td>0</td>\n",
       "      <td>0</td>\n",
       "      <td>0</td>\n",
       "      <td>0</td>\n",
       "      <td>0</td>\n",
       "      <td>-0.196338</td>\n",
       "      <td>-0.960852</td>\n",
       "    </tr>\n",
       "    <tr>\n",
       "      <th>4</th>\n",
       "      <td>-0.292725</td>\n",
       "      <td>0.039555</td>\n",
       "      <td>-0.279718</td>\n",
       "      <td>0.178434</td>\n",
       "      <td>-0.011064</td>\n",
       "      <td>0</td>\n",
       "      <td>0</td>\n",
       "      <td>0</td>\n",
       "      <td>0</td>\n",
       "      <td>0</td>\n",
       "      <td>...</td>\n",
       "      <td>0</td>\n",
       "      <td>0</td>\n",
       "      <td>0</td>\n",
       "      <td>0</td>\n",
       "      <td>0</td>\n",
       "      <td>0</td>\n",
       "      <td>1</td>\n",
       "      <td>0</td>\n",
       "      <td>0.547946</td>\n",
       "      <td>-0.960852</td>\n",
       "    </tr>\n",
       "  </tbody>\n",
       "</table>\n",
       "<p>5 rows × 22 columns</p>\n",
       "</div>"
      ],
      "text/plain": [
       "   sqft_living_log  bathrooms_log  bedrooms_log  price_log     bd*ba  \\\n",
       "0        -1.125556      -1.726509     -0.279718  -1.401998  0.482936   \n",
       "1         0.709446       0.339653     -0.279718   0.279938 -0.095007   \n",
       "2        -2.131893      -1.726509     -1.711611  -1.799430  2.955111   \n",
       "3         0.070674       1.072635      0.736226   0.499698  0.789702   \n",
       "4        -0.292725       0.039555     -0.279718   0.178434 -0.011064   \n",
       "\n",
       "   water_YES  view_EXCELLENT  view_FAIR  view_GOOD  condition_Fair  ...  \\\n",
       "0          0               0          0          0               0  ...   \n",
       "1          0               0          0          0               0  ...   \n",
       "2          0               0          0          0               0  ...   \n",
       "3          0               0          0          0               0  ...   \n",
       "4          0               0          0          0               0  ...   \n",
       "\n",
       "   grade_11 Excellent  grade_12 Luxury  grade_13 Mansion  grade_4 Low  \\\n",
       "0                   0                0                 0            0   \n",
       "1                   0                0                 0            0   \n",
       "2                   0                0                 0            0   \n",
       "3                   0                0                 0            0   \n",
       "4                   0                0                 0            0   \n",
       "\n",
       "   grade_5 Fair  grade_6 Low Average  grade_8 Good  grade_9 Better  \\\n",
       "0             0                    0             0               0   \n",
       "1             0                    0             0               0   \n",
       "2             0                    1             0               0   \n",
       "3             0                    0             0               0   \n",
       "4             0                    0             1               0   \n",
       "\n",
       "   yr_built_log  floors_log  \n",
       "0     -0.537409   -0.960852  \n",
       "1     -0.674325    1.006831  \n",
       "2     -1.293945   -0.960852  \n",
       "3     -0.196338   -0.960852  \n",
       "4      0.547946   -0.960852  \n",
       "\n",
       "[5 rows x 22 columns]"
      ]
     },
     "execution_count": 319,
     "metadata": {},
     "output_type": "execute_result"
    }
   ],
   "source": [
    "fourth_model = third_model.drop(['view_NONE', 'grade_7 Average'], axis=1)\n",
    "\n",
    "fourth_model.head()"
   ]
  },
  {
   "cell_type": "code",
   "execution_count": 352,
   "metadata": {
    "ExecuteTime": {
     "end_time": "2022-02-24T16:06:17.066840Z",
     "start_time": "2022-02-24T16:06:16.937591Z"
    }
   },
   "outputs": [
    {
     "data": {
      "text/html": [
       "<table class=\"simpletable\">\n",
       "<caption>OLS Regression Results</caption>\n",
       "<tr>\n",
       "  <th>Dep. Variable:</th>        <td>price_log</td>    <th>  R-squared:         </th> <td>   0.596</td> \n",
       "</tr>\n",
       "<tr>\n",
       "  <th>Model:</th>                   <td>OLS</td>       <th>  Adj. R-squared:    </th> <td>   0.596</td> \n",
       "</tr>\n",
       "<tr>\n",
       "  <th>Method:</th>             <td>Least Squares</td>  <th>  F-statistic:       </th> <td>   1515.</td> \n",
       "</tr>\n",
       "<tr>\n",
       "  <th>Date:</th>             <td>Thu, 24 Feb 2022</td> <th>  Prob (F-statistic):</th>  <td>  0.00</td>  \n",
       "</tr>\n",
       "<tr>\n",
       "  <th>Time:</th>                 <td>09:06:17</td>     <th>  Log-Likelihood:    </th> <td> -20860.</td> \n",
       "</tr>\n",
       "<tr>\n",
       "  <th>No. Observations:</th>      <td> 21597</td>      <th>  AIC:               </th> <td>4.176e+04</td>\n",
       "</tr>\n",
       "<tr>\n",
       "  <th>Df Residuals:</th>          <td> 21575</td>      <th>  BIC:               </th> <td>4.194e+04</td>\n",
       "</tr>\n",
       "<tr>\n",
       "  <th>Df Model:</th>              <td>    21</td>      <th>                     </th>     <td> </td>    \n",
       "</tr>\n",
       "<tr>\n",
       "  <th>Covariance Type:</th>      <td>nonrobust</td>    <th>                     </th>     <td> </td>    \n",
       "</tr>\n",
       "</table>\n",
       "<table class=\"simpletable\">\n",
       "<tr>\n",
       "           <td></td>              <th>coef</th>     <th>std err</th>      <th>t</th>      <th>P>|t|</th>  <th>[0.025</th>    <th>0.975]</th>  \n",
       "</tr>\n",
       "<tr>\n",
       "  <th>const</th>               <td>   -0.1596</td> <td>    0.008</td> <td>  -20.705</td> <td> 0.000</td> <td>   -0.175</td> <td>   -0.144</td>\n",
       "</tr>\n",
       "<tr>\n",
       "  <th>sqft_living_log</th>     <td>    0.5188</td> <td>    0.008</td> <td>   62.879</td> <td> 0.000</td> <td>    0.503</td> <td>    0.535</td>\n",
       "</tr>\n",
       "<tr>\n",
       "  <th>bathrooms_log</th>       <td>    0.1080</td> <td>    0.008</td> <td>   13.796</td> <td> 0.000</td> <td>    0.093</td> <td>    0.123</td>\n",
       "</tr>\n",
       "<tr>\n",
       "  <th>bedrooms_log</th>        <td>   -0.1130</td> <td>    0.006</td> <td>  -18.832</td> <td> 0.000</td> <td>   -0.125</td> <td>   -0.101</td>\n",
       "</tr>\n",
       "<tr>\n",
       "  <th>bd*ba</th>               <td>    0.0585</td> <td>    0.004</td> <td>   14.504</td> <td> 0.000</td> <td>    0.051</td> <td>    0.066</td>\n",
       "</tr>\n",
       "<tr>\n",
       "  <th>water_YES</th>           <td>    0.6040</td> <td>    0.064</td> <td>    9.373</td> <td> 0.000</td> <td>    0.478</td> <td>    0.730</td>\n",
       "</tr>\n",
       "<tr>\n",
       "  <th>view_EXCELLENT</th>      <td>    0.6426</td> <td>    0.044</td> <td>   14.458</td> <td> 0.000</td> <td>    0.556</td> <td>    0.730</td>\n",
       "</tr>\n",
       "<tr>\n",
       "  <th>view_FAIR</th>           <td>    0.3566</td> <td>    0.036</td> <td>   10.033</td> <td> 0.000</td> <td>    0.287</td> <td>    0.426</td>\n",
       "</tr>\n",
       "<tr>\n",
       "  <th>view_GOOD</th>           <td>    0.3538</td> <td>    0.029</td> <td>   12.133</td> <td> 0.000</td> <td>    0.297</td> <td>    0.411</td>\n",
       "</tr>\n",
       "<tr>\n",
       "  <th>condition_Fair</th>      <td>   -0.3228</td> <td>    0.050</td> <td>   -6.509</td> <td> 0.000</td> <td>   -0.420</td> <td>   -0.226</td>\n",
       "</tr>\n",
       "<tr>\n",
       "  <th>condition_Good</th>      <td>    0.0170</td> <td>    0.011</td> <td>    1.580</td> <td> 0.114</td> <td>   -0.004</td> <td>    0.038</td>\n",
       "</tr>\n",
       "<tr>\n",
       "  <th>condition_Very Good</th> <td>    0.1442</td> <td>    0.017</td> <td>    8.289</td> <td> 0.000</td> <td>    0.110</td> <td>    0.178</td>\n",
       "</tr>\n",
       "<tr>\n",
       "  <th>grade_11 Excellent</th>  <td>    1.0419</td> <td>    0.035</td> <td>   29.568</td> <td> 0.000</td> <td>    0.973</td> <td>    1.111</td>\n",
       "</tr>\n",
       "<tr>\n",
       "  <th>grade_12 Luxury</th>     <td>    1.3297</td> <td>    0.070</td> <td>   18.961</td> <td> 0.000</td> <td>    1.192</td> <td>    1.467</td>\n",
       "</tr>\n",
       "<tr>\n",
       "  <th>grade_13 Mansion</th>    <td>    1.7393</td> <td>    0.178</td> <td>    9.756</td> <td> 0.000</td> <td>    1.390</td> <td>    2.089</td>\n",
       "</tr>\n",
       "<tr>\n",
       "  <th>grade_4 Low</th>         <td>   -0.8485</td> <td>    0.125</td> <td>   -6.793</td> <td> 0.000</td> <td>   -1.093</td> <td>   -0.604</td>\n",
       "</tr>\n",
       "<tr>\n",
       "  <th>grade_5 Fair</th>        <td>   -0.7629</td> <td>    0.043</td> <td>  -17.669</td> <td> 0.000</td> <td>   -0.848</td> <td>   -0.678</td>\n",
       "</tr>\n",
       "<tr>\n",
       "  <th>grade_6 Low Average</th> <td>   -0.4242</td> <td>    0.017</td> <td>  -24.602</td> <td> 0.000</td> <td>   -0.458</td> <td>   -0.390</td>\n",
       "</tr>\n",
       "<tr>\n",
       "  <th>grade_8 Good</th>        <td>    0.1812</td> <td>    0.011</td> <td>   16.465</td> <td> 0.000</td> <td>    0.160</td> <td>    0.203</td>\n",
       "</tr>\n",
       "<tr>\n",
       "  <th>grade_9 Better</th>      <td>    0.5018</td> <td>    0.016</td> <td>   31.766</td> <td> 0.000</td> <td>    0.471</td> <td>    0.533</td>\n",
       "</tr>\n",
       "<tr>\n",
       "  <th>yr_built_log</th>        <td>   -0.2858</td> <td>    0.006</td> <td>  -49.030</td> <td> 0.000</td> <td>   -0.297</td> <td>   -0.274</td>\n",
       "</tr>\n",
       "<tr>\n",
       "  <th>floors_log</th>          <td>    0.1162</td> <td>    0.005</td> <td>   21.397</td> <td> 0.000</td> <td>    0.106</td> <td>    0.127</td>\n",
       "</tr>\n",
       "</table>\n",
       "<table class=\"simpletable\">\n",
       "<tr>\n",
       "  <th>Omnibus:</th>       <td>33.358</td> <th>  Durbin-Watson:     </th> <td>   1.961</td>\n",
       "</tr>\n",
       "<tr>\n",
       "  <th>Prob(Omnibus):</th> <td> 0.000</td> <th>  Jarque-Bera (JB):  </th> <td>  38.998</td>\n",
       "</tr>\n",
       "<tr>\n",
       "  <th>Skew:</th>          <td> 0.033</td> <th>  Prob(JB):          </th> <td>3.40e-09</td>\n",
       "</tr>\n",
       "<tr>\n",
       "  <th>Kurtosis:</th>      <td> 3.198</td> <th>  Cond. No.          </th> <td>    73.1</td>\n",
       "</tr>\n",
       "</table><br/><br/>Notes:<br/>[1] Standard Errors assume that the covariance matrix of the errors is correctly specified."
      ],
      "text/plain": [
       "<class 'statsmodels.iolib.summary.Summary'>\n",
       "\"\"\"\n",
       "                            OLS Regression Results                            \n",
       "==============================================================================\n",
       "Dep. Variable:              price_log   R-squared:                       0.596\n",
       "Model:                            OLS   Adj. R-squared:                  0.596\n",
       "Method:                 Least Squares   F-statistic:                     1515.\n",
       "Date:                Thu, 24 Feb 2022   Prob (F-statistic):               0.00\n",
       "Time:                        09:06:17   Log-Likelihood:                -20860.\n",
       "No. Observations:               21597   AIC:                         4.176e+04\n",
       "Df Residuals:                   21575   BIC:                         4.194e+04\n",
       "Df Model:                          21                                         \n",
       "Covariance Type:            nonrobust                                         \n",
       "=======================================================================================\n",
       "                          coef    std err          t      P>|t|      [0.025      0.975]\n",
       "---------------------------------------------------------------------------------------\n",
       "const                  -0.1596      0.008    -20.705      0.000      -0.175      -0.144\n",
       "sqft_living_log         0.5188      0.008     62.879      0.000       0.503       0.535\n",
       "bathrooms_log           0.1080      0.008     13.796      0.000       0.093       0.123\n",
       "bedrooms_log           -0.1130      0.006    -18.832      0.000      -0.125      -0.101\n",
       "bd*ba                   0.0585      0.004     14.504      0.000       0.051       0.066\n",
       "water_YES               0.6040      0.064      9.373      0.000       0.478       0.730\n",
       "view_EXCELLENT          0.6426      0.044     14.458      0.000       0.556       0.730\n",
       "view_FAIR               0.3566      0.036     10.033      0.000       0.287       0.426\n",
       "view_GOOD               0.3538      0.029     12.133      0.000       0.297       0.411\n",
       "condition_Fair         -0.3228      0.050     -6.509      0.000      -0.420      -0.226\n",
       "condition_Good          0.0170      0.011      1.580      0.114      -0.004       0.038\n",
       "condition_Very Good     0.1442      0.017      8.289      0.000       0.110       0.178\n",
       "grade_11 Excellent      1.0419      0.035     29.568      0.000       0.973       1.111\n",
       "grade_12 Luxury         1.3297      0.070     18.961      0.000       1.192       1.467\n",
       "grade_13 Mansion        1.7393      0.178      9.756      0.000       1.390       2.089\n",
       "grade_4 Low            -0.8485      0.125     -6.793      0.000      -1.093      -0.604\n",
       "grade_5 Fair           -0.7629      0.043    -17.669      0.000      -0.848      -0.678\n",
       "grade_6 Low Average    -0.4242      0.017    -24.602      0.000      -0.458      -0.390\n",
       "grade_8 Good            0.1812      0.011     16.465      0.000       0.160       0.203\n",
       "grade_9 Better          0.5018      0.016     31.766      0.000       0.471       0.533\n",
       "yr_built_log           -0.2858      0.006    -49.030      0.000      -0.297      -0.274\n",
       "floors_log              0.1162      0.005     21.397      0.000       0.106       0.127\n",
       "==============================================================================\n",
       "Omnibus:                       33.358   Durbin-Watson:                   1.961\n",
       "Prob(Omnibus):                  0.000   Jarque-Bera (JB):               38.998\n",
       "Skew:                           0.033   Prob(JB):                     3.40e-09\n",
       "Kurtosis:                       3.198   Cond. No.                         73.1\n",
       "==============================================================================\n",
       "\n",
       "Notes:\n",
       "[1] Standard Errors assume that the covariance matrix of the errors is correctly specified.\n",
       "\"\"\""
      ]
     },
     "execution_count": 352,
     "metadata": {},
     "output_type": "execute_result"
    }
   ],
   "source": [
    "# Fourth Model Summary\n",
    "X4 = fourth_model.drop(['price_log'], axis=1)\n",
    "y4 = fourth_model['price_log']\n",
    "\n",
    "X_int = sm.add_constant(X4)\n",
    "model = sm.OLS(y4,X_int).fit()\n",
    "model.summary()"
   ]
  },
  {
   "cell_type": "markdown",
   "metadata": {},
   "source": [
    "## Train, Test, Split 4th Model"
   ]
  },
  {
   "cell_type": "code",
   "execution_count": 320,
   "metadata": {
    "ExecuteTime": {
     "end_time": "2022-02-24T15:39:45.754278Z",
     "start_time": "2022-02-24T15:39:45.747698Z"
    }
   },
   "outputs": [],
   "source": [
    "X4 = fourth_model.drop('price_log', axis=1)\n",
    "y4 = fourth_model['price_log']"
   ]
  },
  {
   "cell_type": "code",
   "execution_count": 321,
   "metadata": {
    "ExecuteTime": {
     "end_time": "2022-02-24T15:39:46.382335Z",
     "start_time": "2022-02-24T15:39:46.366506Z"
    }
   },
   "outputs": [
    {
     "name": "stdout",
     "output_type": "stream",
     "text": [
      "12958 8639 12958 8639\n"
     ]
    }
   ],
   "source": [
    "# Split the data into training and test sets. Use the default split size\n",
    "\n",
    "X_train, X_test, y_train, y_test = train_test_split(X4,y4, test_size=.4)\n",
    "\n",
    "# A brief preview of tts\n",
    "print(len(X_train), len(X_test), len(y_train), len(y_test))"
   ]
  },
  {
   "cell_type": "code",
   "execution_count": 322,
   "metadata": {
    "ExecuteTime": {
     "end_time": "2022-02-24T15:39:47.107034Z",
     "start_time": "2022-02-24T15:39:47.071019Z"
    }
   },
   "outputs": [
    {
     "data": {
      "text/plain": [
       "LinearRegression()"
      ]
     },
     "execution_count": 322,
     "metadata": {},
     "output_type": "execute_result"
    }
   ],
   "source": [
    "linreg = LinearRegression()\n",
    "\n",
    "# Fit the model to train data\n",
    "linreg.fit(X_train, y_train)\n",
    "\n",
    "LinearRegression(copy_X=True, fit_intercept=True, n_jobs=None, normalize=False)"
   ]
  },
  {
   "cell_type": "code",
   "execution_count": 323,
   "metadata": {
    "ExecuteTime": {
     "end_time": "2022-02-24T15:39:47.731824Z",
     "start_time": "2022-02-24T15:39:47.719464Z"
    }
   },
   "outputs": [],
   "source": [
    "# Calculate predictions on training and test sets\n",
    "y_hat_train = linreg.predict(X_train)\n",
    "y_hat_test = linreg.predict(X_test)"
   ]
  },
  {
   "cell_type": "code",
   "execution_count": 324,
   "metadata": {
    "ExecuteTime": {
     "end_time": "2022-02-24T15:39:48.352748Z",
     "start_time": "2022-02-24T15:39:48.347290Z"
    }
   },
   "outputs": [],
   "source": [
    "# Calculate residuals\n",
    "train_residuals = y_hat_train - y_train\n",
    "test_residuals = y_hat_test - y_test"
   ]
  },
  {
   "cell_type": "code",
   "execution_count": 325,
   "metadata": {
    "ExecuteTime": {
     "end_time": "2022-02-24T15:39:48.860387Z",
     "start_time": "2022-02-24T15:39:48.850523Z"
    },
    "scrolled": true
   },
   "outputs": [
    {
     "name": "stdout",
     "output_type": "stream",
     "text": [
      "Train Mean Squared Error: 0.40588535154701244\n",
      "Test Mean Squared Error: 0.40235216313939637\n"
     ]
    }
   ],
   "source": [
    "# Calculate training and test MSE\n",
    "train_mse = mean_squared_error(y_train, y_hat_train)\n",
    "test_mse = mean_squared_error(y_test, y_hat_test)\n",
    "print('Train Mean Squared Error:', train_mse)\n",
    "print('Test Mean Squared Error:', test_mse)"
   ]
  },
  {
   "cell_type": "markdown",
   "metadata": {},
   "source": [
    "### Instantiate a Linear Regression model called final_model, then fit it to training data and score it on test data."
   ]
  },
  {
   "cell_type": "code",
   "execution_count": 326,
   "metadata": {
    "ExecuteTime": {
     "end_time": "2022-02-24T15:39:50.290511Z",
     "start_time": "2022-02-24T15:39:50.244394Z"
    }
   },
   "outputs": [
    {
     "data": {
      "text/plain": [
       "0.5968430109489297"
      ]
     },
     "execution_count": 326,
     "metadata": {},
     "output_type": "execute_result"
    }
   ],
   "source": [
    "final_model = LinearRegression()\n",
    "\n",
    "# Fit the model on X_train_final and y_train\n",
    "final_model.fit(X_train, y_train)\n",
    "\n",
    "# Score the model on X_test_final and y_test\n",
    "# (use the built-in .score method)\n",
    "final_model.score(X_test, y_test)"
   ]
  },
  {
   "cell_type": "markdown",
   "metadata": {},
   "source": [
    "### Fourth Model reduces fit and increases RMSE.\n",
    "* The fourth model is not as accurate of a predictor as it decreased the R-squared value and increased the RMSE, or total error, but it reduces multicollinearity and therefore produces  predictions that fit the assumptions of linearity."
   ]
  },
  {
   "cell_type": "markdown",
   "metadata": {},
   "source": [
    "# Fifth Model\n",
    "* Purpose: to provide accurate rather than inferential price change values for predictors.\n",
    "* Use original numericals with one hot encoded predictors that fit assumptions of linearity.\n",
    "* Test whether this model fits the assumptions of linearity."
   ]
  },
  {
   "cell_type": "code",
   "execution_count": 511,
   "metadata": {
    "ExecuteTime": {
     "end_time": "2022-02-24T20:51:38.553146Z",
     "start_time": "2022-02-24T20:51:38.479133Z"
    },
    "scrolled": true
   },
   "outputs": [
    {
     "name": "stdout",
     "output_type": "stream",
     "text": [
      "<class 'pandas.core.frame.DataFrame'>\n",
      "RangeIndex: 21597 entries, 0 to 21596\n",
      "Data columns (total 21 columns):\n",
      " #   Column               Non-Null Count  Dtype  \n",
      "---  ------               --------------  -----  \n",
      " 0   price                21597 non-null  float64\n",
      " 1   sqft_living          21597 non-null  int64  \n",
      " 2   bathrooms            21597 non-null  float64\n",
      " 3   bedrooms             21597 non-null  int64  \n",
      " 4   yr_built             21597 non-null  int64  \n",
      " 5   floors               21597 non-null  float64\n",
      " 6   water_YES            21597 non-null  uint8  \n",
      " 7   view_EXCELLENT       21597 non-null  uint8  \n",
      " 8   view_FAIR            21597 non-null  uint8  \n",
      " 9   view_GOOD            21597 non-null  uint8  \n",
      " 10  condition_Fair       21597 non-null  uint8  \n",
      " 11  condition_Good       21597 non-null  uint8  \n",
      " 12  condition_Very Good  21597 non-null  uint8  \n",
      " 13  grade_11 Excellent   21597 non-null  uint8  \n",
      " 14  grade_12 Luxury      21597 non-null  uint8  \n",
      " 15  grade_13 Mansion     21597 non-null  uint8  \n",
      " 16  grade_4 Low          21597 non-null  uint8  \n",
      " 17  grade_5 Fair         21597 non-null  uint8  \n",
      " 18  grade_6 Low Average  21597 non-null  uint8  \n",
      " 19  grade_8 Good         21597 non-null  uint8  \n",
      " 20  grade_9 Better       21597 non-null  uint8  \n",
      "dtypes: float64(3), int64(3), uint8(15)\n",
      "memory usage: 1.3 MB\n"
     ]
    }
   ],
   "source": [
    "interpret_1 = house_df[['price', \n",
    "                     'sqft_living', \n",
    "                     'bathrooms',\n",
    "                     'bedrooms',\n",
    "                     'yr_built',\n",
    "                     'floors']]\n",
    "\n",
    "interpret_2 = pd.concat([interpret_1, \n",
    "                         water_dummies, \n",
    "                         view_dummies, \n",
    "                         condition_dummies,\n",
    "                         grade_dummies], axis=1)\n",
    "\n",
    "fifth_model = interpret_2.drop(['view_NONE',\n",
    "                                'grade_3 Poor',\n",
    "                                'grade_7 Average',\n",
    "                                'condition_Poor'], axis=1)\n",
    "\n",
    "fifth_model.info()"
   ]
  },
  {
   "cell_type": "code",
   "execution_count": 512,
   "metadata": {
    "ExecuteTime": {
     "end_time": "2022-02-24T20:51:57.883999Z",
     "start_time": "2022-02-24T20:51:57.725994Z"
    }
   },
   "outputs": [
    {
     "data": {
      "text/html": [
       "<table class=\"simpletable\">\n",
       "<caption>OLS Regression Results</caption>\n",
       "<tr>\n",
       "  <th>Dep. Variable:</th>          <td>price</td>      <th>  R-squared:         </th>  <td>   0.642</td>  \n",
       "</tr>\n",
       "<tr>\n",
       "  <th>Model:</th>                   <td>OLS</td>       <th>  Adj. R-squared:    </th>  <td>   0.642</td>  \n",
       "</tr>\n",
       "<tr>\n",
       "  <th>Method:</th>             <td>Least Squares</td>  <th>  F-statistic:       </th>  <td>   1935.</td>  \n",
       "</tr>\n",
       "<tr>\n",
       "  <th>Date:</th>             <td>Thu, 24 Feb 2022</td> <th>  Prob (F-statistic):</th>   <td>  0.00</td>   \n",
       "</tr>\n",
       "<tr>\n",
       "  <th>Time:</th>                 <td>13:51:57</td>     <th>  Log-Likelihood:    </th> <td>-2.9630e+05</td>\n",
       "</tr>\n",
       "<tr>\n",
       "  <th>No. Observations:</th>      <td> 21597</td>      <th>  AIC:               </th>  <td>5.926e+05</td> \n",
       "</tr>\n",
       "<tr>\n",
       "  <th>Df Residuals:</th>          <td> 21576</td>      <th>  BIC:               </th>  <td>5.928e+05</td> \n",
       "</tr>\n",
       "<tr>\n",
       "  <th>Df Model:</th>              <td>    20</td>      <th>                     </th>      <td> </td>     \n",
       "</tr>\n",
       "<tr>\n",
       "  <th>Covariance Type:</th>      <td>nonrobust</td>    <th>                     </th>      <td> </td>     \n",
       "</tr>\n",
       "</table>\n",
       "<table class=\"simpletable\">\n",
       "<tr>\n",
       "           <td></td>              <th>coef</th>     <th>std err</th>      <th>t</th>      <th>P>|t|</th>  <th>[0.025</th>    <th>0.975]</th>  \n",
       "</tr>\n",
       "<tr>\n",
       "  <th>const</th>               <td>  6.09e+06</td> <td> 1.33e+05</td> <td>   45.817</td> <td> 0.000</td> <td> 5.83e+06</td> <td> 6.35e+06</td>\n",
       "</tr>\n",
       "<tr>\n",
       "  <th>sqft_living</th>         <td>  211.4594</td> <td>    3.018</td> <td>   70.066</td> <td> 0.000</td> <td>  205.544</td> <td>  217.375</td>\n",
       "</tr>\n",
       "<tr>\n",
       "  <th>bathrooms</th>           <td> 5.557e+04</td> <td> 3512.546</td> <td>   15.821</td> <td> 0.000</td> <td> 4.87e+04</td> <td> 6.25e+04</td>\n",
       "</tr>\n",
       "<tr>\n",
       "  <th>bedrooms</th>            <td> -4.22e+04</td> <td> 2071.209</td> <td>  -20.374</td> <td> 0.000</td> <td>-4.63e+04</td> <td>-3.81e+04</td>\n",
       "</tr>\n",
       "<tr>\n",
       "  <th>yr_built</th>            <td>-3088.8167</td> <td>   68.299</td> <td>  -45.225</td> <td> 0.000</td> <td>-3222.687</td> <td>-2954.946</td>\n",
       "</tr>\n",
       "<tr>\n",
       "  <th>floors</th>              <td> 5.644e+04</td> <td> 3495.164</td> <td>   16.148</td> <td> 0.000</td> <td> 4.96e+04</td> <td> 6.33e+04</td>\n",
       "</tr>\n",
       "<tr>\n",
       "  <th>water_YES</th>           <td>  5.14e+05</td> <td> 2.23e+04</td> <td>   23.072</td> <td> 0.000</td> <td>  4.7e+05</td> <td> 5.58e+05</td>\n",
       "</tr>\n",
       "<tr>\n",
       "  <th>view_EXCELLENT</th>      <td> 2.892e+05</td> <td> 1.54e+04</td> <td>   18.801</td> <td> 0.000</td> <td> 2.59e+05</td> <td> 3.19e+05</td>\n",
       "</tr>\n",
       "<tr>\n",
       "  <th>view_FAIR</th>           <td> 1.261e+05</td> <td> 1.23e+04</td> <td>   10.265</td> <td> 0.000</td> <td> 1.02e+05</td> <td>  1.5e+05</td>\n",
       "</tr>\n",
       "<tr>\n",
       "  <th>view_GOOD</th>           <td> 1.308e+05</td> <td> 1.01e+04</td> <td>   12.947</td> <td> 0.000</td> <td> 1.11e+05</td> <td> 1.51e+05</td>\n",
       "</tr>\n",
       "<tr>\n",
       "  <th>condition_Fair</th>      <td>-3.817e+04</td> <td> 1.71e+04</td> <td>   -2.226</td> <td> 0.026</td> <td>-7.18e+04</td> <td>-4561.612</td>\n",
       "</tr>\n",
       "<tr>\n",
       "  <th>condition_Good</th>      <td> 1.042e+04</td> <td> 3714.662</td> <td>    2.804</td> <td> 0.005</td> <td> 3135.982</td> <td> 1.77e+04</td>\n",
       "</tr>\n",
       "<tr>\n",
       "  <th>condition_Very Good</th> <td> 4.836e+04</td> <td> 5991.101</td> <td>    8.073</td> <td> 0.000</td> <td> 3.66e+04</td> <td> 6.01e+04</td>\n",
       "</tr>\n",
       "<tr>\n",
       "  <th>grade_11 Excellent</th>  <td> 4.297e+05</td> <td> 1.26e+04</td> <td>   34.137</td> <td> 0.000</td> <td> 4.05e+05</td> <td> 4.54e+05</td>\n",
       "</tr>\n",
       "<tr>\n",
       "  <th>grade_12 Luxury</th>     <td> 8.079e+05</td> <td> 2.49e+04</td> <td>   32.485</td> <td> 0.000</td> <td> 7.59e+05</td> <td> 8.57e+05</td>\n",
       "</tr>\n",
       "<tr>\n",
       "  <th>grade_13 Mansion</th>    <td> 1.866e+06</td> <td> 6.24e+04</td> <td>   29.895</td> <td> 0.000</td> <td> 1.74e+06</td> <td> 1.99e+06</td>\n",
       "</tr>\n",
       "<tr>\n",
       "  <th>grade_4 Low</th>         <td>-9.048e+04</td> <td> 4.26e+04</td> <td>   -2.124</td> <td> 0.034</td> <td>-1.74e+05</td> <td>-6982.078</td>\n",
       "</tr>\n",
       "<tr>\n",
       "  <th>grade_5 Fair</th>        <td>-1.165e+05</td> <td> 1.46e+04</td> <td>   -7.992</td> <td> 0.000</td> <td>-1.45e+05</td> <td>-8.79e+04</td>\n",
       "</tr>\n",
       "<tr>\n",
       "  <th>grade_6 Low Average</th> <td>-7.276e+04</td> <td> 5728.203</td> <td>  -12.702</td> <td> 0.000</td> <td> -8.4e+04</td> <td>-6.15e+04</td>\n",
       "</tr>\n",
       "<tr>\n",
       "  <th>grade_8 Good</th>        <td> 1.326e+04</td> <td> 3765.672</td> <td>    3.521</td> <td> 0.000</td> <td> 5879.082</td> <td> 2.06e+04</td>\n",
       "</tr>\n",
       "<tr>\n",
       "  <th>grade_9 Better</th>      <td>     1e+05</td> <td> 5428.994</td> <td>   18.422</td> <td> 0.000</td> <td> 8.94e+04</td> <td> 1.11e+05</td>\n",
       "</tr>\n",
       "</table>\n",
       "<table class=\"simpletable\">\n",
       "<tr>\n",
       "  <th>Omnibus:</th>       <td>10877.567</td> <th>  Durbin-Watson:     </th>  <td>   1.976</td> \n",
       "</tr>\n",
       "<tr>\n",
       "  <th>Prob(Omnibus):</th>  <td> 0.000</td>   <th>  Jarque-Bera (JB):  </th> <td>254020.268</td>\n",
       "</tr>\n",
       "<tr>\n",
       "  <th>Skew:</th>           <td> 1.914</td>   <th>  Prob(JB):          </th>  <td>    0.00</td> \n",
       "</tr>\n",
       "<tr>\n",
       "  <th>Kurtosis:</th>       <td>19.359</td>   <th>  Cond. No.          </th>  <td>2.62e+05</td> \n",
       "</tr>\n",
       "</table><br/><br/>Notes:<br/>[1] Standard Errors assume that the covariance matrix of the errors is correctly specified.<br/>[2] The condition number is large, 2.62e+05. This might indicate that there are<br/>strong multicollinearity or other numerical problems."
      ],
      "text/plain": [
       "<class 'statsmodels.iolib.summary.Summary'>\n",
       "\"\"\"\n",
       "                            OLS Regression Results                            \n",
       "==============================================================================\n",
       "Dep. Variable:                  price   R-squared:                       0.642\n",
       "Model:                            OLS   Adj. R-squared:                  0.642\n",
       "Method:                 Least Squares   F-statistic:                     1935.\n",
       "Date:                Thu, 24 Feb 2022   Prob (F-statistic):               0.00\n",
       "Time:                        13:51:57   Log-Likelihood:            -2.9630e+05\n",
       "No. Observations:               21597   AIC:                         5.926e+05\n",
       "Df Residuals:                   21576   BIC:                         5.928e+05\n",
       "Df Model:                          20                                         \n",
       "Covariance Type:            nonrobust                                         \n",
       "=======================================================================================\n",
       "                          coef    std err          t      P>|t|      [0.025      0.975]\n",
       "---------------------------------------------------------------------------------------\n",
       "const                 6.09e+06   1.33e+05     45.817      0.000    5.83e+06    6.35e+06\n",
       "sqft_living           211.4594      3.018     70.066      0.000     205.544     217.375\n",
       "bathrooms            5.557e+04   3512.546     15.821      0.000    4.87e+04    6.25e+04\n",
       "bedrooms             -4.22e+04   2071.209    -20.374      0.000   -4.63e+04   -3.81e+04\n",
       "yr_built            -3088.8167     68.299    -45.225      0.000   -3222.687   -2954.946\n",
       "floors               5.644e+04   3495.164     16.148      0.000    4.96e+04    6.33e+04\n",
       "water_YES             5.14e+05   2.23e+04     23.072      0.000     4.7e+05    5.58e+05\n",
       "view_EXCELLENT       2.892e+05   1.54e+04     18.801      0.000    2.59e+05    3.19e+05\n",
       "view_FAIR            1.261e+05   1.23e+04     10.265      0.000    1.02e+05     1.5e+05\n",
       "view_GOOD            1.308e+05   1.01e+04     12.947      0.000    1.11e+05    1.51e+05\n",
       "condition_Fair      -3.817e+04   1.71e+04     -2.226      0.026   -7.18e+04   -4561.612\n",
       "condition_Good       1.042e+04   3714.662      2.804      0.005    3135.982    1.77e+04\n",
       "condition_Very Good  4.836e+04   5991.101      8.073      0.000    3.66e+04    6.01e+04\n",
       "grade_11 Excellent   4.297e+05   1.26e+04     34.137      0.000    4.05e+05    4.54e+05\n",
       "grade_12 Luxury      8.079e+05   2.49e+04     32.485      0.000    7.59e+05    8.57e+05\n",
       "grade_13 Mansion     1.866e+06   6.24e+04     29.895      0.000    1.74e+06    1.99e+06\n",
       "grade_4 Low         -9.048e+04   4.26e+04     -2.124      0.034   -1.74e+05   -6982.078\n",
       "grade_5 Fair        -1.165e+05   1.46e+04     -7.992      0.000   -1.45e+05   -8.79e+04\n",
       "grade_6 Low Average -7.276e+04   5728.203    -12.702      0.000    -8.4e+04   -6.15e+04\n",
       "grade_8 Good         1.326e+04   3765.672      3.521      0.000    5879.082    2.06e+04\n",
       "grade_9 Better           1e+05   5428.994     18.422      0.000    8.94e+04    1.11e+05\n",
       "==============================================================================\n",
       "Omnibus:                    10877.567   Durbin-Watson:                   1.976\n",
       "Prob(Omnibus):                  0.000   Jarque-Bera (JB):           254020.268\n",
       "Skew:                           1.914   Prob(JB):                         0.00\n",
       "Kurtosis:                      19.359   Cond. No.                     2.62e+05\n",
       "==============================================================================\n",
       "\n",
       "Notes:\n",
       "[1] Standard Errors assume that the covariance matrix of the errors is correctly specified.\n",
       "[2] The condition number is large, 2.62e+05. This might indicate that there are\n",
       "strong multicollinearity or other numerical problems.\n",
       "\"\"\""
      ]
     },
     "execution_count": 512,
     "metadata": {},
     "output_type": "execute_result"
    }
   ],
   "source": [
    "# Model without log or normalization\n",
    "X5 = fifth_model.drop(['price'], axis=1)\n",
    "y5 = fifth_model['price']\n",
    "\n",
    "X_int = sm.add_constant(X5)\n",
    "model = sm.OLS(y5,X_int).fit()\n",
    "model.summary()"
   ]
  },
  {
   "cell_type": "markdown",
   "metadata": {},
   "source": [
    "## Train, Test, Split 5th Model"
   ]
  },
  {
   "cell_type": "code",
   "execution_count": 431,
   "metadata": {
    "ExecuteTime": {
     "end_time": "2022-02-24T20:20:43.928470Z",
     "start_time": "2022-02-24T20:20:43.909006Z"
    }
   },
   "outputs": [
    {
     "name": "stdout",
     "output_type": "stream",
     "text": [
      "12958 8639 12958 8639\n"
     ]
    }
   ],
   "source": [
    "# Split the data into training and test sets. Use the default split size\n",
    "\n",
    "X_train, X_test, y_train, y_test = train_test_split(X5,y5, test_size=.4)\n",
    "\n",
    "# A brief preview of tts\n",
    "print(len(X_train), len(X_test), len(y_train), len(y_test))"
   ]
  },
  {
   "cell_type": "code",
   "execution_count": 432,
   "metadata": {
    "ExecuteTime": {
     "end_time": "2022-02-24T20:20:44.691837Z",
     "start_time": "2022-02-24T20:20:44.662646Z"
    }
   },
   "outputs": [
    {
     "data": {
      "text/plain": [
       "LinearRegression()"
      ]
     },
     "execution_count": 432,
     "metadata": {},
     "output_type": "execute_result"
    }
   ],
   "source": [
    "linreg = LinearRegression()\n",
    "\n",
    "# Fit the model to train data\n",
    "linreg.fit(X_train, y_train)\n",
    "\n",
    "LinearRegression(copy_X=True, fit_intercept=True, n_jobs=None, normalize=False)"
   ]
  },
  {
   "cell_type": "code",
   "execution_count": 433,
   "metadata": {
    "ExecuteTime": {
     "end_time": "2022-02-24T20:20:45.278811Z",
     "start_time": "2022-02-24T20:20:45.263671Z"
    }
   },
   "outputs": [],
   "source": [
    "# Calculate predictions on training and test sets\n",
    "y_hat_train = linreg.predict(X_train)\n",
    "y_hat_test = linreg.predict(X_test)"
   ]
  },
  {
   "cell_type": "code",
   "execution_count": 434,
   "metadata": {
    "ExecuteTime": {
     "end_time": "2022-02-24T20:20:45.925842Z",
     "start_time": "2022-02-24T20:20:45.919576Z"
    }
   },
   "outputs": [],
   "source": [
    "# Calculate residuals\n",
    "train_residuals = y_hat_train - y_train\n",
    "test_residuals = y_hat_test - y_test"
   ]
  },
  {
   "cell_type": "code",
   "execution_count": 435,
   "metadata": {
    "ExecuteTime": {
     "end_time": "2022-02-24T20:20:46.541990Z",
     "start_time": "2022-02-24T20:20:46.532130Z"
    },
    "scrolled": true
   },
   "outputs": [
    {
     "name": "stdout",
     "output_type": "stream",
     "text": [
      "Train Mean Squared Error: 47525346238.90533\n",
      "Test Mean Squared Error: 49838466732.175545\n"
     ]
    }
   ],
   "source": [
    "# Calculate training and test MSE\n",
    "train_mse = mean_squared_error(y_train, y_hat_train)\n",
    "test_mse = mean_squared_error(y_test, y_hat_test)\n",
    "print('Train Mean Squared Error:', train_mse)\n",
    "print('Test Mean Squared Error:', test_mse)"
   ]
  },
  {
   "cell_type": "markdown",
   "metadata": {},
   "source": [
    "### Instantiate a Linear Regression model called final_model, then fit it to training data and score it on test data."
   ]
  },
  {
   "cell_type": "code",
   "execution_count": 436,
   "metadata": {
    "ExecuteTime": {
     "end_time": "2022-02-24T20:20:48.124171Z",
     "start_time": "2022-02-24T20:20:48.094457Z"
    }
   },
   "outputs": [
    {
     "data": {
      "text/plain": [
       "0.6279092830594378"
      ]
     },
     "execution_count": 436,
     "metadata": {},
     "output_type": "execute_result"
    }
   ],
   "source": [
    "final_model = LinearRegression()\n",
    "\n",
    "# Fit the model on X_train_final and y_train\n",
    "final_model.fit(X_train, y_train)\n",
    "\n",
    "# Score the model on X_test_final and y_test\n",
    "# (use the built-in .score method)\n",
    "final_model.score(X_test, y_test)"
   ]
  },
  {
   "cell_type": "markdown",
   "metadata": {},
   "source": [
    "### Fifth Model ...\n",
    "* When continued below "
   ]
  },
  {
   "cell_type": "markdown",
   "metadata": {},
   "source": [
    "## Investigating Normality"
   ]
  },
  {
   "cell_type": "code",
   "execution_count": 437,
   "metadata": {
    "ExecuteTime": {
     "end_time": "2022-02-24T20:20:52.872231Z",
     "start_time": "2022-02-24T20:20:52.580647Z"
    },
    "scrolled": true
   },
   "outputs": [
    {
     "data": {
      "image/png": "[encoded data removed]",
      "text/plain": [
       "<Figure size 432x288 with 1 Axes>"
      ]
     },
     "metadata": {
      "needs_background": "light"
     },
     "output_type": "display_data"
    }
   ],
   "source": [
    "import scipy.stats as stats\n",
    "\n",
    "preds = final_model.predict(X_test)\n",
    "\n",
    "residuals = (y_test - preds)\n",
    "sm.graphics.qqplot(residuals, dist=stats.norm, line='45', fit=True);"
   ]
  },
  {
   "cell_type": "markdown",
   "metadata": {},
   "source": [
    "### Normality Assumption Met\n",
    "* Removing the outlier values did not improve the predictive capacity of this model."
   ]
  },
  {
   "cell_type": "markdown",
   "metadata": {},
   "source": [
    "## Investigating Multicollinearity (independence assumption)"
   ]
  },
  {
   "cell_type": "code",
   "execution_count": 438,
   "metadata": {
    "ExecuteTime": {
     "end_time": "2022-02-24T20:20:56.637646Z",
     "start_time": "2022-02-24T20:20:56.085481Z"
    },
    "scrolled": true
   },
   "outputs": [
    {
     "data": {
      "text/plain": [
       "sqft_living            21.272705\n",
       "bathrooms              25.562027\n",
       "bedrooms               25.166416\n",
       "yr_built               27.490527\n",
       "floors                 13.325009\n",
       "water_YES               1.498875\n",
       "view_EXCELLENT          1.545662\n",
       "view_FAIR               1.026269\n",
       "view_GOOD               1.063163\n",
       "condition_Fair          1.028945\n",
       "condition_Good          1.544861\n",
       "condition_Very Good     1.159714\n",
       "grade_11 Excellent      1.314678\n",
       "grade_12 Luxury         1.148649\n",
       "grade_13 Mansion        1.044442\n",
       "grade_4 Low             1.009486\n",
       "grade_5 Fair            1.047717\n",
       "grade_6 Low Average     1.343112\n",
       "grade_8 Good            1.777579\n",
       "grade_9 Better          1.566431\n",
       "Name: Variance Inflation Factor, dtype: float64"
      ]
     },
     "execution_count": 438,
     "metadata": {},
     "output_type": "execute_result"
    }
   ],
   "source": [
    "# estimate multicollinarity with Variance Inflation Factor (VIF)\n",
    "vif = [variance_inflation_factor(X_train.values, i) for i in range(X_train.shape[1])]\n",
    "pd.Series(vif, index=X_train.columns, name=\"Variance Inflation Factor\")"
   ]
  },
  {
   "cell_type": "markdown",
   "metadata": {},
   "source": [
    "## Investigating Homoscedasticity"
   ]
  },
  {
   "cell_type": "code",
   "execution_count": 439,
   "metadata": {
    "ExecuteTime": {
     "end_time": "2022-02-24T20:20:57.727145Z",
     "start_time": "2022-02-24T20:20:57.477480Z"
    },
    "scrolled": true
   },
   "outputs": [
    {
     "data": {
      "image/png": "[encoded data removed]",
      "text/plain": [
       "<Figure size 432x288 with 1 Axes>"
      ]
     },
     "metadata": {
      "needs_background": "light"
     },
     "output_type": "display_data"
    }
   ],
   "source": [
    "fig, ax = plt.subplots()\n",
    "\n",
    "ax.scatter(preds, residuals, alpha=0.5)\n",
    "ax.plot(preds, [0 for i in range(len(X_test))])\n",
    "ax.set_xlabel(\"Predicted Value\")\n",
    "ax.set_ylabel(\"Actual - Predicted Value\");"
   ]
  },
  {
   "cell_type": "markdown",
   "metadata": {},
   "source": [
    "### Homoscedasticity assumption is met\n",
    "* Removing a few outliers could improve the distribution."
   ]
  },
  {
   "cell_type": "markdown",
   "metadata": {},
   "source": [
    "## Linear Regression Assumptions Fifth Model\n",
    "* Linear Regression Assumptions not met on any category"
   ]
  },
  {
   "cell_type": "markdown",
   "metadata": {},
   "source": [
    "# Feature Engineering \n",
    "* Improve predictive capacity of the model by removing outliers from numerical data.\n",
    "* Test correlation of Products of Features"
   ]
  },
  {
   "cell_type": "markdown",
   "metadata": {},
   "source": [
    "## Remove Outliers"
   ]
  },
  {
   "cell_type": "code",
   "execution_count": 484,
   "metadata": {
    "ExecuteTime": {
     "end_time": "2022-02-24T20:42:14.947740Z",
     "start_time": "2022-02-24T20:42:14.808583Z"
    }
   },
   "outputs": [
    {
     "data": {
      "text/html": [
       "<div>\n",
       "<style scoped>\n",
       "    .dataframe tbody tr th:only-of-type {\n",
       "        vertical-align: middle;\n",
       "    }\n",
       "\n",
       "    .dataframe tbody tr th {\n",
       "        vertical-align: top;\n",
       "    }\n",
       "\n",
       "    .dataframe thead th {\n",
       "        text-align: right;\n",
       "    }\n",
       "</style>\n",
       "<table border=\"1\" class=\"dataframe\">\n",
       "  <thead>\n",
       "    <tr style=\"text-align: right;\">\n",
       "      <th></th>\n",
       "      <th>sqft_living_log</th>\n",
       "      <th>bathrooms_log</th>\n",
       "      <th>bedrooms_log</th>\n",
       "      <th>price_log</th>\n",
       "      <th>bd*ba</th>\n",
       "      <th>water_YES</th>\n",
       "      <th>view_EXCELLENT</th>\n",
       "      <th>view_FAIR</th>\n",
       "      <th>view_GOOD</th>\n",
       "      <th>condition_Fair</th>\n",
       "      <th>...</th>\n",
       "      <th>grade_11 Excellent</th>\n",
       "      <th>grade_12 Luxury</th>\n",
       "      <th>grade_13 Mansion</th>\n",
       "      <th>grade_4 Low</th>\n",
       "      <th>grade_5 Fair</th>\n",
       "      <th>grade_6 Low Average</th>\n",
       "      <th>grade_8 Good</th>\n",
       "      <th>grade_9 Better</th>\n",
       "      <th>yr_built_log</th>\n",
       "      <th>floors_log</th>\n",
       "    </tr>\n",
       "  </thead>\n",
       "  <tbody>\n",
       "    <tr>\n",
       "      <th>count</th>\n",
       "      <td>2.159700e+04</td>\n",
       "      <td>2.159700e+04</td>\n",
       "      <td>2.159700e+04</td>\n",
       "      <td>2.159700e+04</td>\n",
       "      <td>21597.000000</td>\n",
       "      <td>21597.000000</td>\n",
       "      <td>21597.000000</td>\n",
       "      <td>21597.000000</td>\n",
       "      <td>21597.000000</td>\n",
       "      <td>21597.000000</td>\n",
       "      <td>...</td>\n",
       "      <td>21597.000000</td>\n",
       "      <td>21597.000000</td>\n",
       "      <td>21597.000000</td>\n",
       "      <td>21597.000000</td>\n",
       "      <td>21597.000000</td>\n",
       "      <td>21597.000000</td>\n",
       "      <td>21597.000000</td>\n",
       "      <td>21597.000000</td>\n",
       "      <td>2.159700e+04</td>\n",
       "      <td>2.159700e+04</td>\n",
       "    </tr>\n",
       "    <tr>\n",
       "      <th>mean</th>\n",
       "      <td>-1.518667e-15</td>\n",
       "      <td>-9.475219e-17</td>\n",
       "      <td>-1.026482e-16</td>\n",
       "      <td>1.342323e-15</td>\n",
       "      <td>0.533983</td>\n",
       "      <td>0.006760</td>\n",
       "      <td>0.014678</td>\n",
       "      <td>0.015280</td>\n",
       "      <td>0.023522</td>\n",
       "      <td>0.007871</td>\n",
       "      <td>...</td>\n",
       "      <td>0.018475</td>\n",
       "      <td>0.004121</td>\n",
       "      <td>0.000602</td>\n",
       "      <td>0.001250</td>\n",
       "      <td>0.011205</td>\n",
       "      <td>0.094365</td>\n",
       "      <td>0.280826</td>\n",
       "      <td>0.121082</td>\n",
       "      <td>-2.568837e-15</td>\n",
       "      <td>2.105604e-17</td>\n",
       "    </tr>\n",
       "    <tr>\n",
       "      <th>std</th>\n",
       "      <td>1.000000e+00</td>\n",
       "      <td>1.000000e+00</td>\n",
       "      <td>1.000000e+00</td>\n",
       "      <td>1.000000e+00</td>\n",
       "      <td>1.198765</td>\n",
       "      <td>0.081944</td>\n",
       "      <td>0.120263</td>\n",
       "      <td>0.122667</td>\n",
       "      <td>0.151557</td>\n",
       "      <td>0.088373</td>\n",
       "      <td>...</td>\n",
       "      <td>0.134664</td>\n",
       "      <td>0.064064</td>\n",
       "      <td>0.024528</td>\n",
       "      <td>0.035337</td>\n",
       "      <td>0.105263</td>\n",
       "      <td>0.292343</td>\n",
       "      <td>0.449413</td>\n",
       "      <td>0.326230</td>\n",
       "      <td>1.000000e+00</td>\n",
       "      <td>1.000000e+00</td>\n",
       "    </tr>\n",
       "    <tr>\n",
       "      <th>min</th>\n",
       "      <td>-3.859623e+00</td>\n",
       "      <td>-3.492572e+00</td>\n",
       "      <td>-4.159448e+00</td>\n",
       "      <td>-3.387580e+00</td>\n",
       "      <td>-4.683154</td>\n",
       "      <td>0.000000</td>\n",
       "      <td>0.000000</td>\n",
       "      <td>0.000000</td>\n",
       "      <td>0.000000</td>\n",
       "      <td>0.000000</td>\n",
       "      <td>...</td>\n",
       "      <td>0.000000</td>\n",
       "      <td>0.000000</td>\n",
       "      <td>0.000000</td>\n",
       "      <td>0.000000</td>\n",
       "      <td>0.000000</td>\n",
       "      <td>0.000000</td>\n",
       "      <td>0.000000</td>\n",
       "      <td>0.000000</td>\n",
       "      <td>-2.445050e+00</td>\n",
       "      <td>-9.608519e-01</td>\n",
       "    </tr>\n",
       "    <tr>\n",
       "      <th>25%</th>\n",
       "      <td>-6.725525e-01</td>\n",
       "      <td>-3.006689e-01</td>\n",
       "      <td>-2.797180e-01</td>\n",
       "      <td>-6.949022e-01</td>\n",
       "      <td>-0.095007</td>\n",
       "      <td>0.000000</td>\n",
       "      <td>0.000000</td>\n",
       "      <td>0.000000</td>\n",
       "      <td>0.000000</td>\n",
       "      <td>0.000000</td>\n",
       "      <td>...</td>\n",
       "      <td>0.000000</td>\n",
       "      <td>0.000000</td>\n",
       "      <td>0.000000</td>\n",
       "      <td>0.000000</td>\n",
       "      <td>0.000000</td>\n",
       "      <td>0.000000</td>\n",
       "      <td>0.000000</td>\n",
       "      <td>0.000000</td>\n",
       "      <td>-6.743255e-01</td>\n",
       "      <td>-9.608519e-01</td>\n",
       "    </tr>\n",
       "    <tr>\n",
       "      <th>50%</th>\n",
       "      <td>9.755245e-03</td>\n",
       "      <td>3.396529e-01</td>\n",
       "      <td>-2.797180e-01</td>\n",
       "      <td>-5.926843e-02</td>\n",
       "      <td>0.193964</td>\n",
       "      <td>0.000000</td>\n",
       "      <td>0.000000</td>\n",
       "      <td>0.000000</td>\n",
       "      <td>0.000000</td>\n",
       "      <td>0.000000</td>\n",
       "      <td>...</td>\n",
       "      <td>0.000000</td>\n",
       "      <td>0.000000</td>\n",
       "      <td>0.000000</td>\n",
       "      <td>0.000000</td>\n",
       "      <td>0.000000</td>\n",
       "      <td>0.000000</td>\n",
       "      <td>0.000000</td>\n",
       "      <td>0.000000</td>\n",
       "      <td>1.430005e-01</td>\n",
       "      <td>1.901686e-01</td>\n",
       "    </tr>\n",
       "    <tr>\n",
       "      <th>75%</th>\n",
       "      <td>6.910288e-01</td>\n",
       "      <td>6.081000e-01</td>\n",
       "      <td>7.362261e-01</td>\n",
       "      <td>6.244262e-01</td>\n",
       "      <td>0.517717</td>\n",
       "      <td>0.000000</td>\n",
       "      <td>0.000000</td>\n",
       "      <td>0.000000</td>\n",
       "      <td>0.000000</td>\n",
       "      <td>0.000000</td>\n",
       "      <td>...</td>\n",
       "      <td>0.000000</td>\n",
       "      <td>0.000000</td>\n",
       "      <td>0.000000</td>\n",
       "      <td>0.000000</td>\n",
       "      <td>0.000000</td>\n",
       "      <td>0.000000</td>\n",
       "      <td>1.000000</td>\n",
       "      <td>0.000000</td>\n",
       "      <td>8.835377e-01</td>\n",
       "      <td>1.006831e+00</td>\n",
       "    </tr>\n",
       "    <tr>\n",
       "      <th>max</th>\n",
       "      <td>4.626885e+00</td>\n",
       "      <td>3.571681e+00</td>\n",
       "      <td>8.188407e+00</td>\n",
       "      <td>5.333765e+00</td>\n",
       "      <td>14.527172</td>\n",
       "      <td>1.000000</td>\n",
       "      <td>1.000000</td>\n",
       "      <td>1.000000</td>\n",
       "      <td>1.000000</td>\n",
       "      <td>1.000000</td>\n",
       "      <td>...</td>\n",
       "      <td>1.000000</td>\n",
       "      <td>1.000000</td>\n",
       "      <td>1.000000</td>\n",
       "      <td>1.000000</td>\n",
       "      <td>1.000000</td>\n",
       "      <td>1.000000</td>\n",
       "      <td>1.000000</td>\n",
       "      <td>1.000000</td>\n",
       "      <td>1.483389e+00</td>\n",
       "      <td>2.595449e+00</td>\n",
       "    </tr>\n",
       "  </tbody>\n",
       "</table>\n",
       "<p>8 rows × 22 columns</p>\n",
       "</div>"
      ],
      "text/plain": [
       "       sqft_living_log  bathrooms_log  bedrooms_log     price_log  \\\n",
       "count     2.159700e+04   2.159700e+04  2.159700e+04  2.159700e+04   \n",
       "mean     -1.518667e-15  -9.475219e-17 -1.026482e-16  1.342323e-15   \n",
       "std       1.000000e+00   1.000000e+00  1.000000e+00  1.000000e+00   \n",
       "min      -3.859623e+00  -3.492572e+00 -4.159448e+00 -3.387580e+00   \n",
       "25%      -6.725525e-01  -3.006689e-01 -2.797180e-01 -6.949022e-01   \n",
       "50%       9.755245e-03   3.396529e-01 -2.797180e-01 -5.926843e-02   \n",
       "75%       6.910288e-01   6.081000e-01  7.362261e-01  6.244262e-01   \n",
       "max       4.626885e+00   3.571681e+00  8.188407e+00  5.333765e+00   \n",
       "\n",
       "              bd*ba     water_YES  view_EXCELLENT     view_FAIR     view_GOOD  \\\n",
       "count  21597.000000  21597.000000    21597.000000  21597.000000  21597.000000   \n",
       "mean       0.533983      0.006760        0.014678      0.015280      0.023522   \n",
       "std        1.198765      0.081944        0.120263      0.122667      0.151557   \n",
       "min       -4.683154      0.000000        0.000000      0.000000      0.000000   \n",
       "25%       -0.095007      0.000000        0.000000      0.000000      0.000000   \n",
       "50%        0.193964      0.000000        0.000000      0.000000      0.000000   \n",
       "75%        0.517717      0.000000        0.000000      0.000000      0.000000   \n",
       "max       14.527172      1.000000        1.000000      1.000000      1.000000   \n",
       "\n",
       "       condition_Fair  ...  grade_11 Excellent  grade_12 Luxury  \\\n",
       "count    21597.000000  ...        21597.000000     21597.000000   \n",
       "mean         0.007871  ...            0.018475         0.004121   \n",
       "std          0.088373  ...            0.134664         0.064064   \n",
       "min          0.000000  ...            0.000000         0.000000   \n",
       "25%          0.000000  ...            0.000000         0.000000   \n",
       "50%          0.000000  ...            0.000000         0.000000   \n",
       "75%          0.000000  ...            0.000000         0.000000   \n",
       "max          1.000000  ...            1.000000         1.000000   \n",
       "\n",
       "       grade_13 Mansion   grade_4 Low  grade_5 Fair  grade_6 Low Average  \\\n",
       "count      21597.000000  21597.000000  21597.000000         21597.000000   \n",
       "mean           0.000602      0.001250      0.011205             0.094365   \n",
       "std            0.024528      0.035337      0.105263             0.292343   \n",
       "min            0.000000      0.000000      0.000000             0.000000   \n",
       "25%            0.000000      0.000000      0.000000             0.000000   \n",
       "50%            0.000000      0.000000      0.000000             0.000000   \n",
       "75%            0.000000      0.000000      0.000000             0.000000   \n",
       "max            1.000000      1.000000      1.000000             1.000000   \n",
       "\n",
       "       grade_8 Good  grade_9 Better  yr_built_log    floors_log  \n",
       "count  21597.000000    21597.000000  2.159700e+04  2.159700e+04  \n",
       "mean       0.280826        0.121082 -2.568837e-15  2.105604e-17  \n",
       "std        0.449413        0.326230  1.000000e+00  1.000000e+00  \n",
       "min        0.000000        0.000000 -2.445050e+00 -9.608519e-01  \n",
       "25%        0.000000        0.000000 -6.743255e-01 -9.608519e-01  \n",
       "50%        0.000000        0.000000  1.430005e-01  1.901686e-01  \n",
       "75%        1.000000        0.000000  8.835377e-01  1.006831e+00  \n",
       "max        1.000000        1.000000  1.483389e+00  2.595449e+00  \n",
       "\n",
       "[8 rows x 22 columns]"
      ]
     },
     "execution_count": 484,
     "metadata": {},
     "output_type": "execute_result"
    }
   ],
   "source": [
    "remove_outliers = fourth_model\n",
    "\n",
    "remove_outliers.describe()"
   ]
  },
  {
   "cell_type": "code",
   "execution_count": 485,
   "metadata": {
    "ExecuteTime": {
     "end_time": "2022-02-24T20:42:23.778660Z",
     "start_time": "2022-02-24T20:42:23.761480Z"
    },
    "scrolled": true
   },
   "outputs": [
    {
     "name": "stdout",
     "output_type": "stream",
     "text": [
      "<class 'pandas.core.frame.DataFrame'>\n",
      "RangeIndex: 21597 entries, 0 to 21596\n",
      "Data columns (total 22 columns):\n",
      " #   Column               Non-Null Count  Dtype  \n",
      "---  ------               --------------  -----  \n",
      " 0   sqft_living_log      21597 non-null  float64\n",
      " 1   bathrooms_log        21597 non-null  float64\n",
      " 2   bedrooms_log         21597 non-null  float64\n",
      " 3   price_log            21597 non-null  float64\n",
      " 4   bd*ba                21597 non-null  float64\n",
      " 5   water_YES            21597 non-null  uint8  \n",
      " 6   view_EXCELLENT       21597 non-null  uint8  \n",
      " 7   view_FAIR            21597 non-null  uint8  \n",
      " 8   view_GOOD            21597 non-null  uint8  \n",
      " 9   condition_Fair       21597 non-null  uint8  \n",
      " 10  condition_Good       21597 non-null  uint8  \n",
      " 11  condition_Very Good  21597 non-null  uint8  \n",
      " 12  grade_11 Excellent   21597 non-null  uint8  \n",
      " 13  grade_12 Luxury      21597 non-null  uint8  \n",
      " 14  grade_13 Mansion     21597 non-null  uint8  \n",
      " 15  grade_4 Low          21597 non-null  uint8  \n",
      " 16  grade_5 Fair         21597 non-null  uint8  \n",
      " 17  grade_6 Low Average  21597 non-null  uint8  \n",
      " 18  grade_8 Good         21597 non-null  uint8  \n",
      " 19  grade_9 Better       21597 non-null  uint8  \n",
      " 20  yr_built_log         21597 non-null  float64\n",
      " 21  floors_log           21597 non-null  float64\n",
      "dtypes: float64(7), uint8(15)\n",
      "memory usage: 1.5 MB\n"
     ]
    }
   ],
   "source": [
    "remove_outliers.info()"
   ]
  },
  {
   "cell_type": "code",
   "execution_count": 486,
   "metadata": {
    "ExecuteTime": {
     "end_time": "2022-02-24T20:42:25.121747Z",
     "start_time": "2022-02-24T20:42:24.866408Z"
    },
    "scrolled": true
   },
   "outputs": [
    {
     "data": {
      "text/plain": [
       "<AxesSubplot:>"
      ]
     },
     "execution_count": 486,
     "metadata": {},
     "output_type": "execute_result"
    },
    {
     "data": {
      "image/png": "[encoded data removed]",
      "text/plain": [
       "<Figure size 432x288 with 1 Axes>"
      ]
     },
     "metadata": {
      "needs_background": "light"
     },
     "output_type": "display_data"
    }
   ],
   "source": [
    "remove_outliers['sqft_living_log'].hist(bins=25)"
   ]
  },
  {
   "cell_type": "code",
   "execution_count": 487,
   "metadata": {
    "ExecuteTime": {
     "end_time": "2022-02-24T20:42:25.988059Z",
     "start_time": "2022-02-24T20:42:25.969919Z"
    },
    "scrolled": true
   },
   "outputs": [
    {
     "data": {
      "text/plain": [
       "sqft_living_log        3.025420\n",
       "bathrooms_log          2.498475\n",
       "bedrooms_log           2.712499\n",
       "price_log              3.666191\n",
       "bd*ba                  8.210544\n",
       "water_YES              1.000000\n",
       "view_EXCELLENT         1.000000\n",
       "view_FAIR              1.000000\n",
       "view_GOOD              1.000000\n",
       "condition_Fair         1.000000\n",
       "condition_Good         1.000000\n",
       "condition_Very Good    1.000000\n",
       "grade_11 Excellent     1.000000\n",
       "grade_12 Luxury        1.000000\n",
       "grade_13 Mansion       0.000000\n",
       "grade_4 Low            0.000000\n",
       "grade_5 Fair           1.000000\n",
       "grade_6 Low Average    1.000000\n",
       "grade_8 Good           1.000000\n",
       "grade_9 Better         1.000000\n",
       "yr_built_log           1.483389\n",
       "floors_log             2.157851\n",
       "Name: 0.9985, dtype: float64"
      ]
     },
     "execution_count": 487,
     "metadata": {},
     "output_type": "execute_result"
    }
   ],
   "source": [
    "# find cut-off for data outside 3 standard deviations (99.7% of data)\n",
    "remove_outliers.quantile(q=.9985)"
   ]
  },
  {
   "cell_type": "code",
   "execution_count": 488,
   "metadata": {
    "ExecuteTime": {
     "end_time": "2022-02-24T20:42:30.988181Z",
     "start_time": "2022-02-24T20:42:30.971689Z"
    },
    "scrolled": true
   },
   "outputs": [
    {
     "data": {
      "text/plain": [
       "sqft_living_log       -2.882625\n",
       "bathrooms_log         -2.459491\n",
       "bedrooms_log          -4.159448\n",
       "price_log             -2.823059\n",
       "bd*ba                 -2.631637\n",
       "water_YES              0.000000\n",
       "view_EXCELLENT         0.000000\n",
       "view_FAIR              0.000000\n",
       "view_GOOD              0.000000\n",
       "condition_Fair         0.000000\n",
       "condition_Good         0.000000\n",
       "condition_Very Good    0.000000\n",
       "grade_11 Excellent     0.000000\n",
       "grade_12 Luxury        0.000000\n",
       "grade_13 Mansion       0.000000\n",
       "grade_4 Low            0.000000\n",
       "grade_5 Fair           0.000000\n",
       "grade_6 Low Average    0.000000\n",
       "grade_8 Good           0.000000\n",
       "grade_9 Better         0.000000\n",
       "yr_built_log          -2.445050\n",
       "floors_log            -0.960852\n",
       "Name: 0.0015, dtype: float64"
      ]
     },
     "execution_count": 488,
     "metadata": {},
     "output_type": "execute_result"
    }
   ],
   "source": [
    "# find cut-off for data outside 3 standard deviations (99.7% of data)\n",
    "remove_outliers.quantile(q=.0015)"
   ]
  },
  {
   "cell_type": "code",
   "execution_count": 489,
   "metadata": {
    "ExecuteTime": {
     "end_time": "2022-02-24T20:42:35.097692Z",
     "start_time": "2022-02-24T20:42:34.843243Z"
    },
    "scrolled": true
   },
   "outputs": [
    {
     "data": {
      "text/plain": [
       "<AxesSubplot:>"
      ]
     },
     "execution_count": 489,
     "metadata": {},
     "output_type": "execute_result"
    },
    {
     "data": {
      "image/png": "[encoded data removed]",
      "text/plain": [
       "<Figure size 432x288 with 1 Axes>"
      ]
     },
     "metadata": {
      "needs_background": "light"
     },
     "output_type": "display_data"
    }
   ],
   "source": [
    "remove_outliers['price_log'].hist(bins=25)"
   ]
  },
  {
   "cell_type": "code",
   "execution_count": 490,
   "metadata": {
    "ExecuteTime": {
     "end_time": "2022-02-24T20:42:36.276216Z",
     "start_time": "2022-02-24T20:42:36.179984Z"
    }
   },
   "outputs": [
    {
     "data": {
      "text/plain": [
       "0.674801656673277"
      ]
     },
     "execution_count": 490,
     "metadata": {},
     "output_type": "execute_result"
    }
   ],
   "source": [
    "# correlation before removing outliers\n",
    "remove_outliers.corr()['price_log']['sqft_living_log']"
   ]
  },
  {
   "cell_type": "code",
   "execution_count": 491,
   "metadata": {
    "ExecuteTime": {
     "end_time": "2022-02-24T20:42:41.932490Z",
     "start_time": "2022-02-24T20:42:41.911976Z"
    }
   },
   "outputs": [],
   "source": [
    "remove_outliers = remove_outliers[(remove_outliers['price_log'] > -2.823) & (remove_outliers['price_log'] < 3.666)]"
   ]
  },
  {
   "cell_type": "code",
   "execution_count": 492,
   "metadata": {
    "ExecuteTime": {
     "end_time": "2022-02-24T20:42:43.783522Z",
     "start_time": "2022-02-24T20:42:43.747918Z"
    }
   },
   "outputs": [
    {
     "data": {
      "text/plain": [
       "0.666363382048225"
      ]
     },
     "execution_count": 492,
     "metadata": {},
     "output_type": "execute_result"
    }
   ],
   "source": [
    "# correlation before removing outliers\n",
    "remove_outliers.corr()['price_log']['sqft_living_log']"
   ]
  },
  {
   "cell_type": "code",
   "execution_count": 493,
   "metadata": {
    "ExecuteTime": {
     "end_time": "2022-02-24T20:42:45.259246Z",
     "start_time": "2022-02-24T20:42:45.243319Z"
    },
    "scrolled": true
   },
   "outputs": [
    {
     "name": "stdout",
     "output_type": "stream",
     "text": [
      "<class 'pandas.core.frame.DataFrame'>\n",
      "Int64Index: 21526 entries, 0 to 21596\n",
      "Data columns (total 22 columns):\n",
      " #   Column               Non-Null Count  Dtype  \n",
      "---  ------               --------------  -----  \n",
      " 0   sqft_living_log      21526 non-null  float64\n",
      " 1   bathrooms_log        21526 non-null  float64\n",
      " 2   bedrooms_log         21526 non-null  float64\n",
      " 3   price_log            21526 non-null  float64\n",
      " 4   bd*ba                21526 non-null  float64\n",
      " 5   water_YES            21526 non-null  uint8  \n",
      " 6   view_EXCELLENT       21526 non-null  uint8  \n",
      " 7   view_FAIR            21526 non-null  uint8  \n",
      " 8   view_GOOD            21526 non-null  uint8  \n",
      " 9   condition_Fair       21526 non-null  uint8  \n",
      " 10  condition_Good       21526 non-null  uint8  \n",
      " 11  condition_Very Good  21526 non-null  uint8  \n",
      " 12  grade_11 Excellent   21526 non-null  uint8  \n",
      " 13  grade_12 Luxury      21526 non-null  uint8  \n",
      " 14  grade_13 Mansion     21526 non-null  uint8  \n",
      " 15  grade_4 Low          21526 non-null  uint8  \n",
      " 16  grade_5 Fair         21526 non-null  uint8  \n",
      " 17  grade_6 Low Average  21526 non-null  uint8  \n",
      " 18  grade_8 Good         21526 non-null  uint8  \n",
      " 19  grade_9 Better       21526 non-null  uint8  \n",
      " 20  yr_built_log         21526 non-null  float64\n",
      " 21  floors_log           21526 non-null  float64\n",
      "dtypes: float64(7), uint8(15)\n",
      "memory usage: 1.6 MB\n"
     ]
    }
   ],
   "source": [
    "remove_outliers.info()"
   ]
  },
  {
   "cell_type": "code",
   "execution_count": 494,
   "metadata": {
    "ExecuteTime": {
     "end_time": "2022-02-24T20:42:48.039248Z",
     "start_time": "2022-02-24T20:42:47.908592Z"
    }
   },
   "outputs": [
    {
     "data": {
      "text/html": [
       "<table class=\"simpletable\">\n",
       "<caption>OLS Regression Results</caption>\n",
       "<tr>\n",
       "  <th>Dep. Variable:</th>        <td>price_log</td>    <th>  R-squared:         </th> <td>   0.584</td> \n",
       "</tr>\n",
       "<tr>\n",
       "  <th>Model:</th>                   <td>OLS</td>       <th>  Adj. R-squared:    </th> <td>   0.583</td> \n",
       "</tr>\n",
       "<tr>\n",
       "  <th>Method:</th>             <td>Least Squares</td>  <th>  F-statistic:       </th> <td>   1436.</td> \n",
       "</tr>\n",
       "<tr>\n",
       "  <th>Date:</th>             <td>Thu, 24 Feb 2022</td> <th>  Prob (F-statistic):</th>  <td>  0.00</td>  \n",
       "</tr>\n",
       "<tr>\n",
       "  <th>Time:</th>                 <td>13:42:47</td>     <th>  Log-Likelihood:    </th> <td> -20665.</td> \n",
       "</tr>\n",
       "<tr>\n",
       "  <th>No. Observations:</th>      <td> 21526</td>      <th>  AIC:               </th> <td>4.137e+04</td>\n",
       "</tr>\n",
       "<tr>\n",
       "  <th>Df Residuals:</th>          <td> 21504</td>      <th>  BIC:               </th> <td>4.155e+04</td>\n",
       "</tr>\n",
       "<tr>\n",
       "  <th>Df Model:</th>              <td>    21</td>      <th>                     </th>     <td> </td>    \n",
       "</tr>\n",
       "<tr>\n",
       "  <th>Covariance Type:</th>      <td>nonrobust</td>    <th>                     </th>     <td> </td>    \n",
       "</tr>\n",
       "</table>\n",
       "<table class=\"simpletable\">\n",
       "<tr>\n",
       "           <td></td>              <th>coef</th>     <th>std err</th>      <th>t</th>      <th>P>|t|</th>  <th>[0.025</th>    <th>0.975]</th>  \n",
       "</tr>\n",
       "<tr>\n",
       "  <th>const</th>               <td>   -0.1600</td> <td>    0.008</td> <td>  -20.857</td> <td> 0.000</td> <td>   -0.175</td> <td>   -0.145</td>\n",
       "</tr>\n",
       "<tr>\n",
       "  <th>sqft_living_log</th>     <td>    0.5155</td> <td>    0.008</td> <td>   62.719</td> <td> 0.000</td> <td>    0.499</td> <td>    0.532</td>\n",
       "</tr>\n",
       "<tr>\n",
       "  <th>bathrooms_log</th>       <td>    0.1068</td> <td>    0.008</td> <td>   13.698</td> <td> 0.000</td> <td>    0.092</td> <td>    0.122</td>\n",
       "</tr>\n",
       "<tr>\n",
       "  <th>bedrooms_log</th>        <td>   -0.1130</td> <td>    0.006</td> <td>  -18.893</td> <td> 0.000</td> <td>   -0.125</td> <td>   -0.101</td>\n",
       "</tr>\n",
       "<tr>\n",
       "  <th>bd*ba</th>               <td>    0.0598</td> <td>    0.004</td> <td>   14.806</td> <td> 0.000</td> <td>    0.052</td> <td>    0.068</td>\n",
       "</tr>\n",
       "<tr>\n",
       "  <th>water_YES</th>           <td>    0.5458</td> <td>    0.067</td> <td>    8.170</td> <td> 0.000</td> <td>    0.415</td> <td>    0.677</td>\n",
       "</tr>\n",
       "<tr>\n",
       "  <th>view_EXCELLENT</th>      <td>    0.6420</td> <td>    0.045</td> <td>   14.344</td> <td> 0.000</td> <td>    0.554</td> <td>    0.730</td>\n",
       "</tr>\n",
       "<tr>\n",
       "  <th>view_FAIR</th>           <td>    0.3480</td> <td>    0.035</td> <td>    9.820</td> <td> 0.000</td> <td>    0.279</td> <td>    0.417</td>\n",
       "</tr>\n",
       "<tr>\n",
       "  <th>view_GOOD</th>           <td>    0.3595</td> <td>    0.029</td> <td>   12.374</td> <td> 0.000</td> <td>    0.303</td> <td>    0.416</td>\n",
       "</tr>\n",
       "<tr>\n",
       "  <th>condition_Fair</th>      <td>   -0.2884</td> <td>    0.050</td> <td>   -5.753</td> <td> 0.000</td> <td>   -0.387</td> <td>   -0.190</td>\n",
       "</tr>\n",
       "<tr>\n",
       "  <th>condition_Good</th>      <td>    0.0147</td> <td>    0.011</td> <td>    1.370</td> <td> 0.171</td> <td>   -0.006</td> <td>    0.036</td>\n",
       "</tr>\n",
       "<tr>\n",
       "  <th>condition_Very Good</th> <td>    0.1418</td> <td>    0.017</td> <td>    8.193</td> <td> 0.000</td> <td>    0.108</td> <td>    0.176</td>\n",
       "</tr>\n",
       "<tr>\n",
       "  <th>grade_11 Excellent</th>  <td>    1.0246</td> <td>    0.035</td> <td>   28.867</td> <td> 0.000</td> <td>    0.955</td> <td>    1.094</td>\n",
       "</tr>\n",
       "<tr>\n",
       "  <th>grade_12 Luxury</th>     <td>    1.2145</td> <td>    0.075</td> <td>   16.231</td> <td> 0.000</td> <td>    1.068</td> <td>    1.361</td>\n",
       "</tr>\n",
       "<tr>\n",
       "  <th>grade_13 Mansion</th>    <td>    1.4801</td> <td>    0.240</td> <td>    6.168</td> <td> 0.000</td> <td>    1.010</td> <td>    1.950</td>\n",
       "</tr>\n",
       "<tr>\n",
       "  <th>grade_4 Low</th>         <td>   -0.6113</td> <td>    0.134</td> <td>   -4.559</td> <td> 0.000</td> <td>   -0.874</td> <td>   -0.348</td>\n",
       "</tr>\n",
       "<tr>\n",
       "  <th>grade_5 Fair</th>        <td>   -0.6906</td> <td>    0.044</td> <td>  -15.743</td> <td> 0.000</td> <td>   -0.777</td> <td>   -0.605</td>\n",
       "</tr>\n",
       "<tr>\n",
       "  <th>grade_6 Low Average</th> <td>   -0.4193</td> <td>    0.017</td> <td>  -24.401</td> <td> 0.000</td> <td>   -0.453</td> <td>   -0.386</td>\n",
       "</tr>\n",
       "<tr>\n",
       "  <th>grade_8 Good</th>        <td>    0.1834</td> <td>    0.011</td> <td>   16.763</td> <td> 0.000</td> <td>    0.162</td> <td>    0.205</td>\n",
       "</tr>\n",
       "<tr>\n",
       "  <th>grade_9 Better</th>      <td>    0.5063</td> <td>    0.016</td> <td>   32.220</td> <td> 0.000</td> <td>    0.476</td> <td>    0.537</td>\n",
       "</tr>\n",
       "<tr>\n",
       "  <th>yr_built_log</th>        <td>   -0.2859</td> <td>    0.006</td> <td>  -49.242</td> <td> 0.000</td> <td>   -0.297</td> <td>   -0.275</td>\n",
       "</tr>\n",
       "<tr>\n",
       "  <th>floors_log</th>          <td>    0.1165</td> <td>    0.005</td> <td>   21.554</td> <td> 0.000</td> <td>    0.106</td> <td>    0.127</td>\n",
       "</tr>\n",
       "</table>\n",
       "<table class=\"simpletable\">\n",
       "<tr>\n",
       "  <th>Omnibus:</th>       <td>32.242</td> <th>  Durbin-Watson:     </th> <td>   1.961</td>\n",
       "</tr>\n",
       "<tr>\n",
       "  <th>Prob(Omnibus):</th> <td> 0.000</td> <th>  Jarque-Bera (JB):  </th> <td>  36.535</td>\n",
       "</tr>\n",
       "<tr>\n",
       "  <th>Skew:</th>          <td> 0.045</td> <th>  Prob(JB):          </th> <td>1.17e-08</td>\n",
       "</tr>\n",
       "<tr>\n",
       "  <th>Kurtosis:</th>      <td> 3.180</td> <th>  Cond. No.          </th> <td>    98.2</td>\n",
       "</tr>\n",
       "</table><br/><br/>Notes:<br/>[1] Standard Errors assume that the covariance matrix of the errors is correctly specified."
      ],
      "text/plain": [
       "<class 'statsmodels.iolib.summary.Summary'>\n",
       "\"\"\"\n",
       "                            OLS Regression Results                            \n",
       "==============================================================================\n",
       "Dep. Variable:              price_log   R-squared:                       0.584\n",
       "Model:                            OLS   Adj. R-squared:                  0.583\n",
       "Method:                 Least Squares   F-statistic:                     1436.\n",
       "Date:                Thu, 24 Feb 2022   Prob (F-statistic):               0.00\n",
       "Time:                        13:42:47   Log-Likelihood:                -20665.\n",
       "No. Observations:               21526   AIC:                         4.137e+04\n",
       "Df Residuals:                   21504   BIC:                         4.155e+04\n",
       "Df Model:                          21                                         \n",
       "Covariance Type:            nonrobust                                         \n",
       "=======================================================================================\n",
       "                          coef    std err          t      P>|t|      [0.025      0.975]\n",
       "---------------------------------------------------------------------------------------\n",
       "const                  -0.1600      0.008    -20.857      0.000      -0.175      -0.145\n",
       "sqft_living_log         0.5155      0.008     62.719      0.000       0.499       0.532\n",
       "bathrooms_log           0.1068      0.008     13.698      0.000       0.092       0.122\n",
       "bedrooms_log           -0.1130      0.006    -18.893      0.000      -0.125      -0.101\n",
       "bd*ba                   0.0598      0.004     14.806      0.000       0.052       0.068\n",
       "water_YES               0.5458      0.067      8.170      0.000       0.415       0.677\n",
       "view_EXCELLENT          0.6420      0.045     14.344      0.000       0.554       0.730\n",
       "view_FAIR               0.3480      0.035      9.820      0.000       0.279       0.417\n",
       "view_GOOD               0.3595      0.029     12.374      0.000       0.303       0.416\n",
       "condition_Fair         -0.2884      0.050     -5.753      0.000      -0.387      -0.190\n",
       "condition_Good          0.0147      0.011      1.370      0.171      -0.006       0.036\n",
       "condition_Very Good     0.1418      0.017      8.193      0.000       0.108       0.176\n",
       "grade_11 Excellent      1.0246      0.035     28.867      0.000       0.955       1.094\n",
       "grade_12 Luxury         1.2145      0.075     16.231      0.000       1.068       1.361\n",
       "grade_13 Mansion        1.4801      0.240      6.168      0.000       1.010       1.950\n",
       "grade_4 Low            -0.6113      0.134     -4.559      0.000      -0.874      -0.348\n",
       "grade_5 Fair           -0.6906      0.044    -15.743      0.000      -0.777      -0.605\n",
       "grade_6 Low Average    -0.4193      0.017    -24.401      0.000      -0.453      -0.386\n",
       "grade_8 Good            0.1834      0.011     16.763      0.000       0.162       0.205\n",
       "grade_9 Better          0.5063      0.016     32.220      0.000       0.476       0.537\n",
       "yr_built_log           -0.2859      0.006    -49.242      0.000      -0.297      -0.275\n",
       "floors_log              0.1165      0.005     21.554      0.000       0.106       0.127\n",
       "==============================================================================\n",
       "Omnibus:                       32.242   Durbin-Watson:                   1.961\n",
       "Prob(Omnibus):                  0.000   Jarque-Bera (JB):               36.535\n",
       "Skew:                           0.045   Prob(JB):                     1.17e-08\n",
       "Kurtosis:                       3.180   Cond. No.                         98.2\n",
       "==============================================================================\n",
       "\n",
       "Notes:\n",
       "[1] Standard Errors assume that the covariance matrix of the errors is correctly specified.\n",
       "\"\"\""
      ]
     },
     "execution_count": 494,
     "metadata": {},
     "output_type": "execute_result"
    }
   ],
   "source": [
    "# Run model summary with only sqft_living_log\n",
    "\n",
    "# Model Summary\n",
    "X_ro = remove_outliers.drop(['price_log'], axis=1)\n",
    "y_ro = remove_outliers['price_log']\n",
    "\n",
    "X_int = sm.add_constant(X_ro)\n",
    "model = sm.OLS(y_ro,X_int).fit()\n",
    "model.summary()"
   ]
  },
  {
   "cell_type": "markdown",
   "metadata": {},
   "source": [
    "## (skip) Remove all rows containing value outside 3 standard deviations\n",
    "* Chose not to use this method because it dropped ~5% of data\n",
    "    * This dropped values outside 3 std. dev. in every column."
   ]
  },
  {
   "cell_type": "code",
   "execution_count": 495,
   "metadata": {
    "ExecuteTime": {
     "end_time": "2022-02-24T20:44:06.060118Z",
     "start_time": "2022-02-24T20:44:06.025907Z"
    }
   },
   "outputs": [
    {
     "data": {
      "text/plain": [
       "(16283, 22)"
      ]
     },
     "execution_count": 495,
     "metadata": {},
     "output_type": "execute_result"
    }
   ],
   "source": [
    "# remove rows with values in any column outside\n",
    "# 3 standard deviations.\n",
    "remove_all_out = fourth_model\n",
    "\n",
    "z_scores = stats.zscore(remove_all_out)\n",
    "\n",
    "abs_z_scores = np.abs(z_scores)\n",
    "filtered_entries = (abs_z_scores < 3).all(axis=1, keepdims=True)\n",
    "new_df = remove_all_out[filtered_entries]\n",
    "\n",
    "new_df.shape"
   ]
  },
  {
   "cell_type": "markdown",
   "metadata": {},
   "source": [
    "### Considering this removes data, I will use it on the final model to check if it is worth performing to reduce heteroscedasticity and increase normality.\n",
    "* I may not remove outliers, because it is reducing the predictive capacity of the model."
   ]
  },
  {
   "cell_type": "code",
   "execution_count": 496,
   "metadata": {
    "ExecuteTime": {
     "end_time": "2022-02-24T20:44:07.969134Z",
     "start_time": "2022-02-24T20:44:07.946591Z"
    }
   },
   "outputs": [
    {
     "name": "stdout",
     "output_type": "stream",
     "text": [
      "Old df: sqft_living_log        2.472881\n",
      "bathrooms_log          2.105716\n",
      "bedrooms_log           2.168119\n",
      "price_log              3.017212\n",
      "bd*ba                  7.181324\n",
      "water_YES              1.000000\n",
      "view_EXCELLENT         1.000000\n",
      "view_FAIR              1.000000\n",
      "view_GOOD              1.000000\n",
      "condition_Fair         1.000000\n",
      "condition_Good         1.000000\n",
      "condition_Very Good    1.000000\n",
      "grade_11 Excellent     1.000000\n",
      "grade_12 Luxury        0.000000\n",
      "grade_13 Mansion       0.000000\n",
      "grade_4 Low            0.000000\n",
      "grade_5 Fair           1.000000\n",
      "grade_6 Low Average    1.000000\n",
      "grade_8 Good           1.000000\n",
      "grade_9 Better         1.000000\n",
      "yr_built_log           1.450205\n",
      "floors_log             2.157851\n",
      "Name: 0.995, dtype: float64\n",
      "\n",
      "New df: sqft_living_log        2.030011\n",
      "bathrooms_log          1.805618\n",
      "bedrooms_log           2.168119\n",
      "price_log              2.368580\n",
      "bd*ba                  2.955111\n",
      "water_YES              0.000000\n",
      "view_EXCELLENT         0.000000\n",
      "view_FAIR              0.000000\n",
      "view_GOOD              0.000000\n",
      "condition_Fair         0.000000\n",
      "condition_Good         1.000000\n",
      "condition_Very Good    0.000000\n",
      "grade_11 Excellent     0.000000\n",
      "grade_12 Luxury        0.000000\n",
      "grade_13 Mansion       0.000000\n",
      "grade_4 Low            0.000000\n",
      "grade_5 Fair           0.000000\n",
      "grade_6 Low Average    0.000000\n",
      "grade_8 Good           1.000000\n",
      "grade_9 Better         1.000000\n",
      "yr_built_log           1.450205\n",
      "floors_log             2.157851\n",
      "Name: 0.995, dtype: float64\n"
     ]
    }
   ],
   "source": [
    "# did the quantiles change? -Yes\n",
    "print('Old df:', remove_outliers.quantile(q=.995))\n",
    "print()\n",
    "print('New df:', new_df.quantile(q=.995))"
   ]
  },
  {
   "cell_type": "code",
   "execution_count": 497,
   "metadata": {
    "ExecuteTime": {
     "end_time": "2022-02-24T20:44:09.005743Z",
     "start_time": "2022-02-24T20:44:08.831060Z"
    }
   },
   "outputs": [
    {
     "name": "stdout",
     "output_type": "stream",
     "text": [
      "Sqft to Price - R^2 before removing outliers: 0.666363382048225\n",
      "Sqft to Price - R^2 after removing outliers: 0.5746431726012301\n",
      "\n",
      "Sqft to Bathrooms - R^2 before removing outliers: 0.5113794696381216\n",
      "Sqft to Bathrooms - R^2 after removing outliers: 0.3800244427698267\n",
      "\n",
      "Sqft to Bedrooms - R^2 before removing outliers: 0.3353511256201753\n",
      "Sqft to Bedrooms - R^2 after removing outliers: 0.25259771293911637\n"
     ]
    }
   ],
   "source": [
    "# correlation after removing outliers.  Correlation decreased.\n",
    "print('Sqft to Price - R^2 before removing outliers:',remove_outliers.corr()['price_log']['sqft_living_log'])\n",
    "print('Sqft to Price - R^2 after removing outliers:',new_df.corr()['price_log']['sqft_living_log'])\n",
    "print()\n",
    "print('Sqft to Bathrooms - R^2 before removing outliers:',remove_outliers.corr()['price_log']['bathrooms_log'])\n",
    "print('Sqft to Bathrooms - R^2 after removing outliers:',new_df.corr()['price_log']['bathrooms_log'])\n",
    "print()\n",
    "print('Sqft to Bedrooms - R^2 before removing outliers:',remove_outliers.corr()['price_log']['bedrooms_log'])\n",
    "print('Sqft to Bedrooms - R^2 after removing outliers:',new_df.corr()['price_log']['bedrooms_log'])"
   ]
  },
  {
   "cell_type": "markdown",
   "metadata": {},
   "source": [
    "### Dropping Outliers reduces correlation values.\n",
    "* How does it impact normality and heteroscedasticity?"
   ]
  },
  {
   "cell_type": "markdown",
   "metadata": {},
   "source": [
    "## (skip) Replace Outliers\n",
    "* Chose to remove rather than replace outliers"
   ]
  },
  {
   "cell_type": "code",
   "execution_count": 267,
   "metadata": {
    "ExecuteTime": {
     "end_time": "2022-02-24T15:37:26.356011Z",
     "start_time": "2022-02-24T15:37:26.332715Z"
    }
   },
   "outputs": [
    {
     "data": {
      "text/html": [
       "<div>\n",
       "<style scoped>\n",
       "    .dataframe tbody tr th:only-of-type {\n",
       "        vertical-align: middle;\n",
       "    }\n",
       "\n",
       "    .dataframe tbody tr th {\n",
       "        vertical-align: top;\n",
       "    }\n",
       "\n",
       "    .dataframe thead th {\n",
       "        text-align: right;\n",
       "    }\n",
       "</style>\n",
       "<table border=\"1\" class=\"dataframe\">\n",
       "  <thead>\n",
       "    <tr style=\"text-align: right;\">\n",
       "      <th></th>\n",
       "      <th>sqft_living_log</th>\n",
       "      <th>bathrooms_log</th>\n",
       "      <th>bedrooms_log</th>\n",
       "      <th>price_log</th>\n",
       "      <th>bd*ba</th>\n",
       "      <th>yr_built_log</th>\n",
       "      <th>floors_log</th>\n",
       "    </tr>\n",
       "  </thead>\n",
       "  <tbody>\n",
       "    <tr>\n",
       "      <th>0</th>\n",
       "      <td>-1.125556</td>\n",
       "      <td>-1.726509</td>\n",
       "      <td>-0.279718</td>\n",
       "      <td>-1.401998</td>\n",
       "      <td>0.482936</td>\n",
       "      <td>-0.537409</td>\n",
       "      <td>-0.960852</td>\n",
       "    </tr>\n",
       "    <tr>\n",
       "      <th>1</th>\n",
       "      <td>0.709446</td>\n",
       "      <td>0.339653</td>\n",
       "      <td>-0.279718</td>\n",
       "      <td>0.279938</td>\n",
       "      <td>-0.095007</td>\n",
       "      <td>-0.674325</td>\n",
       "      <td>1.006831</td>\n",
       "    </tr>\n",
       "    <tr>\n",
       "      <th>2</th>\n",
       "      <td>-2.131893</td>\n",
       "      <td>-1.726509</td>\n",
       "      <td>-1.711611</td>\n",
       "      <td>-1.799430</td>\n",
       "      <td>2.955111</td>\n",
       "      <td>-1.293945</td>\n",
       "      <td>-0.960852</td>\n",
       "    </tr>\n",
       "    <tr>\n",
       "      <th>3</th>\n",
       "      <td>0.070674</td>\n",
       "      <td>1.072635</td>\n",
       "      <td>0.736226</td>\n",
       "      <td>0.499698</td>\n",
       "      <td>0.789702</td>\n",
       "      <td>-0.196338</td>\n",
       "      <td>-0.960852</td>\n",
       "    </tr>\n",
       "    <tr>\n",
       "      <th>4</th>\n",
       "      <td>-0.292725</td>\n",
       "      <td>0.039555</td>\n",
       "      <td>-0.279718</td>\n",
       "      <td>0.178434</td>\n",
       "      <td>-0.011064</td>\n",
       "      <td>0.547946</td>\n",
       "      <td>-0.960852</td>\n",
       "    </tr>\n",
       "  </tbody>\n",
       "</table>\n",
       "</div>"
      ],
      "text/plain": [
       "   sqft_living_log  bathrooms_log  bedrooms_log  price_log     bd*ba  \\\n",
       "0        -1.125556      -1.726509     -0.279718  -1.401998  0.482936   \n",
       "1         0.709446       0.339653     -0.279718   0.279938 -0.095007   \n",
       "2        -2.131893      -1.726509     -1.711611  -1.799430  2.955111   \n",
       "3         0.070674       1.072635      0.736226   0.499698  0.789702   \n",
       "4        -0.292725       0.039555     -0.279718   0.178434 -0.011064   \n",
       "\n",
       "   yr_built_log  floors_log  \n",
       "0     -0.537409   -0.960852  \n",
       "1     -0.674325    1.006831  \n",
       "2     -1.293945   -0.960852  \n",
       "3     -0.196338   -0.960852  \n",
       "4      0.547946   -0.960852  "
      ]
     },
     "execution_count": 267,
     "metadata": {},
     "output_type": "execute_result"
    }
   ],
   "source": [
    "replace_out = pd.concat([first_model, features_add], axis=1)\n",
    "\n",
    "replace_out.head()"
   ]
  },
  {
   "cell_type": "code",
   "execution_count": 268,
   "metadata": {
    "ExecuteTime": {
     "end_time": "2022-02-24T15:37:27.169779Z",
     "start_time": "2022-02-24T15:37:27.150966Z"
    }
   },
   "outputs": [
    {
     "name": "stdout",
     "output_type": "stream",
     "text": [
      "lower quantile: sqft_living_log   -2.882625\n",
      "bathrooms_log     -2.459491\n",
      "bedrooms_log      -4.159448\n",
      "price_log         -2.823059\n",
      "bd*ba             -2.631637\n",
      "yr_built_log      -2.445050\n",
      "floors_log        -0.960852\n",
      "Name: 0.0015, dtype: float64\n",
      "\n",
      "upper quantile: sqft_living_log    3.025420\n",
      "bathrooms_log      2.498475\n",
      "bedrooms_log       2.712499\n",
      "price_log          3.666191\n",
      "bd*ba              8.210544\n",
      "yr_built_log       1.483389\n",
      "floors_log         2.157851\n",
      "Name: 0.9985, dtype: float64\n"
     ]
    }
   ],
   "source": [
    "# find cut-off for data outside 3 standard deviations (99.7% of data)\n",
    "print('lower quantile:',replace_out.quantile(q=.0015))\n",
    "print()\n",
    "print('upper quantile:',replace_out.quantile(q=.9985))\n"
   ]
  },
  {
   "cell_type": "code",
   "execution_count": 269,
   "metadata": {
    "ExecuteTime": {
     "end_time": "2022-02-24T15:37:27.544322Z",
     "start_time": "2022-02-24T15:37:27.533967Z"
    }
   },
   "outputs": [],
   "source": [
    "# https://stackoverflow.com/questions/45386955/python-replacing-outliers-values-with-median-values\n",
    "# http://localhost:8888/notebooks/t20/ds-feature_selection_and_feature_engineering-nbz32/feature_selection_and_feature_engineering.ipynb\n",
    "\n",
    "median = replace_out['sqft_living_log'].median()\n",
    "\n",
    "# replace lower threshold of sqft_living_log\n",
    "replace_out[\"sqft_living_log\"] = np.where(\n",
    "    replace_out[\"sqft_living_log\"] > -2.883, median,replace_out['sqft_living_log'])\n",
    "\n",
    "# replace upper threshold of sqft_living_log\n",
    "replace_out[\"sqft_living_log\"] = np.where(\n",
    "    replace_out[\"sqft_living_log\"] < 3.025, median,replace_out['sqft_living_log'])\n"
   ]
  },
  {
   "cell_type": "code",
   "execution_count": 270,
   "metadata": {
    "ExecuteTime": {
     "end_time": "2022-02-24T15:37:27.886603Z",
     "start_time": "2022-02-24T15:37:27.869515Z"
    }
   },
   "outputs": [
    {
     "name": "stdout",
     "output_type": "stream",
     "text": [
      "lower quantile: sqft_living_log    0.009755\n",
      "bathrooms_log     -2.459491\n",
      "bedrooms_log      -4.159448\n",
      "price_log         -2.823059\n",
      "bd*ba             -2.631637\n",
      "yr_built_log      -2.445050\n",
      "floors_log        -0.960852\n",
      "Name: 0.0015, dtype: float64\n",
      "\n",
      "upper quantile: sqft_living_log    0.009755\n",
      "bathrooms_log      2.498475\n",
      "bedrooms_log       2.712499\n",
      "price_log          3.666191\n",
      "bd*ba              8.210544\n",
      "yr_built_log       1.483389\n",
      "floors_log         2.157851\n",
      "Name: 0.9985, dtype: float64\n"
     ]
    }
   ],
   "source": [
    "# find cut-off for data outside 3 standard deviations (99.7% of data)\n",
    "\n",
    "print('lower quantile:',replace_out.quantile(q=.0015))\n",
    "print()\n",
    "print('upper quantile:',replace_out.quantile(q=.9985))\n"
   ]
  },
  {
   "cell_type": "code",
   "execution_count": 271,
   "metadata": {
    "ExecuteTime": {
     "end_time": "2022-02-24T15:37:28.581531Z",
     "start_time": "2022-02-24T15:37:28.562113Z"
    }
   },
   "outputs": [
    {
     "data": {
      "text/plain": [
       "-8.096569752015661e-17"
      ]
     },
     "execution_count": 271,
     "metadata": {},
     "output_type": "execute_result"
    }
   ],
   "source": [
    "# correlation after replacing outliers with mean\n",
    "replace_out.corr()['price_log']['sqft_living_log']"
   ]
  },
  {
   "cell_type": "markdown",
   "metadata": {},
   "source": [
    "## Product features\n",
    "* Experimenting with \n",
    "* What would correlation be for product of bedrooms and bathrooms with price?"
   ]
  },
  {
   "cell_type": "code",
   "execution_count": 472,
   "metadata": {
    "ExecuteTime": {
     "end_time": "2022-02-24T20:37:14.017353Z",
     "start_time": "2022-02-24T20:37:14.001991Z"
    }
   },
   "outputs": [
    {
     "name": "stderr",
     "output_type": "stream",
     "text": [
      "<ipython-input-472-9237b1b96362>:4: SettingWithCopyWarning: \n",
      "A value is trying to be set on a copy of a slice from a DataFrame.\n",
      "Try using .loc[row_indexer,col_indexer] = value instead\n",
      "\n",
      "See the caveats in the documentation: https://pandas.pydata.org/pandas-docs/stable/user_guide/indexing.html#returning-a-view-versus-a-copy\n",
      "  product_features['bd*ba'\n"
     ]
    }
   ],
   "source": [
    "# product of bedrooms and bathrooms\n",
    "product_features = remove_outliers\n",
    "\n",
    "product_features['bd*ba'\n",
    "                ] = remove_outliers['bedrooms_log'\n",
    "                ] * remove_outliers['bathrooms_log']\n"
   ]
  },
  {
   "cell_type": "code",
   "execution_count": 473,
   "metadata": {
    "ExecuteTime": {
     "end_time": "2022-02-24T20:37:16.341511Z",
     "start_time": "2022-02-24T20:37:16.327494Z"
    }
   },
   "outputs": [
    {
     "data": {
      "text/plain": [
       "-0.009202932148371685"
      ]
     },
     "execution_count": 473,
     "metadata": {},
     "output_type": "execute_result"
    }
   ],
   "source": [
    "# R-squared for product of bedrooms and bathrooms with price\n",
    "product_featuers.corr()['price_log']['bd*ba']"
   ]
  },
  {
   "cell_type": "code",
   "execution_count": 474,
   "metadata": {
    "ExecuteTime": {
     "end_time": "2022-02-24T20:37:17.448822Z",
     "start_time": "2022-02-24T20:37:17.435418Z"
    }
   },
   "outputs": [
    {
     "data": {
      "text/plain": [
       "0.3353511256201753"
      ]
     },
     "execution_count": 474,
     "metadata": {},
     "output_type": "execute_result"
    }
   ],
   "source": [
    "# R-squared for bedrooms and price\n",
    "product_featuers.corr()['price_log']['bedrooms_log']"
   ]
  },
  {
   "cell_type": "code",
   "execution_count": 475,
   "metadata": {
    "ExecuteTime": {
     "end_time": "2022-02-24T20:37:18.515159Z",
     "start_time": "2022-02-24T20:37:18.495242Z"
    }
   },
   "outputs": [
    {
     "data": {
      "text/plain": [
       "0.5113794696381216"
      ]
     },
     "execution_count": 475,
     "metadata": {},
     "output_type": "execute_result"
    }
   ],
   "source": [
    "# R-squared for bathrooms and price\n",
    "product_featuers.corr()['price_log']['bathrooms_log']"
   ]
  },
  {
   "cell_type": "markdown",
   "metadata": {},
   "source": [
    "### Product of bedrooms and bathrooms reduces correlation.\n",
    "* Correlation between bedrooms and bathrooms reduced when using product of bed*bath."
   ]
  },
  {
   "cell_type": "markdown",
   "metadata": {},
   "source": [
    "# Interpret the Final Model\n",
    "* The Fourth Model after price outliers were dropped is the final model as it met the assumptions for linearity and it provides relevant inferential information, if not an actual change in price."
   ]
  },
  {
   "cell_type": "code",
   "execution_count": 498,
   "metadata": {
    "ExecuteTime": {
     "end_time": "2022-02-24T20:45:12.176057Z",
     "start_time": "2022-02-24T20:45:12.168526Z"
    }
   },
   "outputs": [],
   "source": [
    "X_r = remove_outliers.drop('price_log', axis=1)\n",
    "y_r = remove_outliers['price_log']"
   ]
  },
  {
   "cell_type": "code",
   "execution_count": 499,
   "metadata": {
    "ExecuteTime": {
     "end_time": "2022-02-24T20:45:20.471033Z",
     "start_time": "2022-02-24T20:45:20.452716Z"
    }
   },
   "outputs": [
    {
     "name": "stdout",
     "output_type": "stream",
     "text": [
      "12915 8611 12915 8611\n"
     ]
    }
   ],
   "source": [
    "# Split the data into training and test sets. Use the default split size\n",
    "\n",
    "X_train, X_test, y_train, y_test = train_test_split(X_r,y_r, test_size=.4)\n",
    "\n",
    "# A brief preview of tts\n",
    "print(len(X_train), len(X_test), len(y_train), len(y_test))"
   ]
  },
  {
   "cell_type": "code",
   "execution_count": 500,
   "metadata": {
    "ExecuteTime": {
     "end_time": "2022-02-24T20:45:21.573565Z",
     "start_time": "2022-02-24T20:45:21.529766Z"
    }
   },
   "outputs": [
    {
     "data": {
      "text/plain": [
       "LinearRegression()"
      ]
     },
     "execution_count": 500,
     "metadata": {},
     "output_type": "execute_result"
    }
   ],
   "source": [
    "linreg = LinearRegression()\n",
    "\n",
    "# Fit the model to train data\n",
    "linreg.fit(X_train, y_train)\n",
    "\n",
    "LinearRegression(copy_X=True, fit_intercept=True, n_jobs=None, normalize=False)"
   ]
  },
  {
   "cell_type": "code",
   "execution_count": 501,
   "metadata": {
    "ExecuteTime": {
     "end_time": "2022-02-24T20:45:22.641218Z",
     "start_time": "2022-02-24T20:45:22.628443Z"
    }
   },
   "outputs": [],
   "source": [
    "# Calculate predictions on training and test sets\n",
    "y_hat_train = linreg.predict(X_train)\n",
    "y_hat_test = linreg.predict(X_test)"
   ]
  },
  {
   "cell_type": "code",
   "execution_count": 502,
   "metadata": {
    "ExecuteTime": {
     "end_time": "2022-02-24T20:45:23.436855Z",
     "start_time": "2022-02-24T20:45:23.429044Z"
    }
   },
   "outputs": [],
   "source": [
    "# Calculate residuals\n",
    "train_residuals = y_hat_train - y_train\n",
    "test_residuals = y_hat_test - y_test"
   ]
  },
  {
   "cell_type": "code",
   "execution_count": 503,
   "metadata": {
    "ExecuteTime": {
     "end_time": "2022-02-24T20:45:24.119185Z",
     "start_time": "2022-02-24T20:45:24.107278Z"
    },
    "scrolled": true
   },
   "outputs": [
    {
     "name": "stdout",
     "output_type": "stream",
     "text": [
      "Train Mean Squared Error: 0.3998334472036865\n",
      "Test Mean Squared Error: 0.39958032599230514\n"
     ]
    }
   ],
   "source": [
    "# Calculate training and test MSE\n",
    "train_mse = mean_squared_error(y_train, y_hat_train)\n",
    "test_mse = mean_squared_error(y_test, y_hat_test)\n",
    "print('Train Mean Squared Error:', train_mse)\n",
    "print('Test Mean Squared Error:', test_mse)"
   ]
  },
  {
   "cell_type": "markdown",
   "metadata": {},
   "source": [
    "### Instantiate a Linear Regression model called final_model, then fit it to training data and score it on test data."
   ]
  },
  {
   "cell_type": "code",
   "execution_count": 504,
   "metadata": {
    "ExecuteTime": {
     "end_time": "2022-02-24T20:45:27.275159Z",
     "start_time": "2022-02-24T20:45:27.240961Z"
    }
   },
   "outputs": [
    {
     "data": {
      "text/plain": [
       "0.5887382431879064"
      ]
     },
     "execution_count": 504,
     "metadata": {},
     "output_type": "execute_result"
    }
   ],
   "source": [
    "final_model = LinearRegression()\n",
    "\n",
    "# Fit the model on X_train_final and y_train\n",
    "final_model.fit(X_train, y_train)\n",
    "\n",
    "# Score the model on X_test_final and y_test\n",
    "# (use the built-in .score method)\n",
    "final_model.score(X_test, y_test)"
   ]
  },
  {
   "cell_type": "markdown",
   "metadata": {},
   "source": [
    "## Investigating Normality"
   ]
  },
  {
   "cell_type": "code",
   "execution_count": 505,
   "metadata": {
    "ExecuteTime": {
     "end_time": "2022-02-24T20:45:30.326033Z",
     "start_time": "2022-02-24T20:45:30.037293Z"
    },
    "scrolled": true
   },
   "outputs": [
    {
     "data": {
      "image/png": "[encoded data removed]",
      "text/plain": [
       "<Figure size 432x288 with 1 Axes>"
      ]
     },
     "metadata": {
      "needs_background": "light"
     },
     "output_type": "display_data"
    }
   ],
   "source": [
    "import scipy.stats as stats\n",
    "\n",
    "preds = final_model.predict(X_test)\n",
    "\n",
    "residuals = (y_test - preds)\n",
    "sm.graphics.qqplot(residuals, dist=stats.norm, line='45', fit=True);"
   ]
  },
  {
   "cell_type": "markdown",
   "metadata": {},
   "source": [
    "### Normality Assumption Met\n",
    "* Removing the outlier values did not greatly improve the normality of this model."
   ]
  },
  {
   "cell_type": "markdown",
   "metadata": {},
   "source": [
    "## Investigating Multicollinearity (independence assumption)"
   ]
  },
  {
   "cell_type": "code",
   "execution_count": 506,
   "metadata": {
    "ExecuteTime": {
     "end_time": "2022-02-24T20:46:21.140604Z",
     "start_time": "2022-02-24T20:46:20.494632Z"
    },
    "scrolled": true
   },
   "outputs": [
    {
     "data": {
      "text/plain": [
       "sqft_living_log        3.458024\n",
       "bathrooms_log          3.187775\n",
       "bedrooms_log           1.886579\n",
       "bd*ba                  1.391270\n",
       "water_YES              1.418365\n",
       "view_EXCELLENT         1.456809\n",
       "view_FAIR              1.030192\n",
       "view_GOOD              1.066507\n",
       "condition_Fair         1.025096\n",
       "condition_Good         1.325383\n",
       "condition_Very Good    1.167699\n",
       "grade_11 Excellent     1.159871\n",
       "grade_12 Luxury        1.062463\n",
       "grade_13 Mansion       1.009978\n",
       "grade_4 Low            1.029557\n",
       "grade_5 Fair           1.114107\n",
       "grade_6 Low Average    1.419088\n",
       "grade_8 Good           1.288857\n",
       "grade_9 Better         1.333960\n",
       "yr_built_log           1.760603\n",
       "floors_log             1.563500\n",
       "Name: Variance Inflation Factor, dtype: float64"
      ]
     },
     "execution_count": 506,
     "metadata": {},
     "output_type": "execute_result"
    }
   ],
   "source": [
    "# estimate multicollinarity with Variance Inflation Factor (VIF)\n",
    "vif = [variance_inflation_factor(X_train.values, i) for i in range(X_train.shape[1])]\n",
    "pd.Series(vif, index=X_train.columns, name=\"Variance Inflation Factor\")"
   ]
  },
  {
   "cell_type": "markdown",
   "metadata": {},
   "source": [
    "### Removed predictors with score greater than 5\n",
    "* view_NONE (12.4)\n",
    "* grade_7 Average (7.42)"
   ]
  },
  {
   "cell_type": "markdown",
   "metadata": {},
   "source": [
    "## Investigating Homoscedasticity"
   ]
  },
  {
   "cell_type": "code",
   "execution_count": 507,
   "metadata": {
    "ExecuteTime": {
     "end_time": "2022-02-24T20:46:26.652754Z",
     "start_time": "2022-02-24T20:46:26.404117Z"
    },
    "scrolled": true
   },
   "outputs": [
    {
     "data": {
      "image/png": "[encoded data removed]",
      "text/plain": [
       "<Figure size 432x288 with 1 Axes>"
      ]
     },
     "metadata": {
      "needs_background": "light"
     },
     "output_type": "display_data"
    }
   ],
   "source": [
    "fig, ax = plt.subplots()\n",
    "\n",
    "ax.scatter(preds, residuals, alpha=0.5)\n",
    "ax.plot(preds, [0 for i in range(len(X_test))])\n",
    "ax.set_xlabel(\"Predicted Value\")\n",
    "ax.set_ylabel(\"Actual - Predicted Value\");"
   ]
  },
  {
   "cell_type": "markdown",
   "metadata": {},
   "source": [
    "### Homoscedasticity assumption is met\n",
    "* Removing a few outliers did slightly improve the distribution.\n",
    "    * Improvement in terms of trimming the predicted values to be in a similar range about 0.\n",
    "   "
   ]
  },
  {
   "cell_type": "markdown",
   "metadata": {},
   "source": [
    "# Interpretting Coefficients\n"
   ]
  },
  {
   "cell_type": "markdown",
   "metadata": {
    "ExecuteTime": {
     "end_time": "2022-02-24T20:48:32.158604Z",
     "start_time": "2022-02-24T20:48:32.150950Z"
    }
   },
   "source": [
    "## Fourth and Final Model"
   ]
  },
  {
   "cell_type": "code",
   "execution_count": 353,
   "metadata": {
    "ExecuteTime": {
     "end_time": "2022-02-24T16:06:45.543881Z",
     "start_time": "2022-02-24T16:06:45.428376Z"
    }
   },
   "outputs": [
    {
     "data": {
      "text/html": [
       "<table class=\"simpletable\">\n",
       "<caption>OLS Regression Results</caption>\n",
       "<tr>\n",
       "  <th>Dep. Variable:</th>        <td>price_log</td>    <th>  R-squared:         </th> <td>   0.596</td> \n",
       "</tr>\n",
       "<tr>\n",
       "  <th>Model:</th>                   <td>OLS</td>       <th>  Adj. R-squared:    </th> <td>   0.596</td> \n",
       "</tr>\n",
       "<tr>\n",
       "  <th>Method:</th>             <td>Least Squares</td>  <th>  F-statistic:       </th> <td>   1515.</td> \n",
       "</tr>\n",
       "<tr>\n",
       "  <th>Date:</th>             <td>Thu, 24 Feb 2022</td> <th>  Prob (F-statistic):</th>  <td>  0.00</td>  \n",
       "</tr>\n",
       "<tr>\n",
       "  <th>Time:</th>                 <td>09:06:45</td>     <th>  Log-Likelihood:    </th> <td> -20860.</td> \n",
       "</tr>\n",
       "<tr>\n",
       "  <th>No. Observations:</th>      <td> 21597</td>      <th>  AIC:               </th> <td>4.176e+04</td>\n",
       "</tr>\n",
       "<tr>\n",
       "  <th>Df Residuals:</th>          <td> 21575</td>      <th>  BIC:               </th> <td>4.194e+04</td>\n",
       "</tr>\n",
       "<tr>\n",
       "  <th>Df Model:</th>              <td>    21</td>      <th>                     </th>     <td> </td>    \n",
       "</tr>\n",
       "<tr>\n",
       "  <th>Covariance Type:</th>      <td>nonrobust</td>    <th>                     </th>     <td> </td>    \n",
       "</tr>\n",
       "</table>\n",
       "<table class=\"simpletable\">\n",
       "<tr>\n",
       "           <td></td>              <th>coef</th>     <th>std err</th>      <th>t</th>      <th>P>|t|</th>  <th>[0.025</th>    <th>0.975]</th>  \n",
       "</tr>\n",
       "<tr>\n",
       "  <th>const</th>               <td>   -0.1596</td> <td>    0.008</td> <td>  -20.705</td> <td> 0.000</td> <td>   -0.175</td> <td>   -0.144</td>\n",
       "</tr>\n",
       "<tr>\n",
       "  <th>sqft_living_log</th>     <td>    0.5188</td> <td>    0.008</td> <td>   62.879</td> <td> 0.000</td> <td>    0.503</td> <td>    0.535</td>\n",
       "</tr>\n",
       "<tr>\n",
       "  <th>bathrooms_log</th>       <td>    0.1080</td> <td>    0.008</td> <td>   13.796</td> <td> 0.000</td> <td>    0.093</td> <td>    0.123</td>\n",
       "</tr>\n",
       "<tr>\n",
       "  <th>bedrooms_log</th>        <td>   -0.1130</td> <td>    0.006</td> <td>  -18.832</td> <td> 0.000</td> <td>   -0.125</td> <td>   -0.101</td>\n",
       "</tr>\n",
       "<tr>\n",
       "  <th>bd*ba</th>               <td>    0.0585</td> <td>    0.004</td> <td>   14.504</td> <td> 0.000</td> <td>    0.051</td> <td>    0.066</td>\n",
       "</tr>\n",
       "<tr>\n",
       "  <th>water_YES</th>           <td>    0.6040</td> <td>    0.064</td> <td>    9.373</td> <td> 0.000</td> <td>    0.478</td> <td>    0.730</td>\n",
       "</tr>\n",
       "<tr>\n",
       "  <th>view_EXCELLENT</th>      <td>    0.6426</td> <td>    0.044</td> <td>   14.458</td> <td> 0.000</td> <td>    0.556</td> <td>    0.730</td>\n",
       "</tr>\n",
       "<tr>\n",
       "  <th>view_FAIR</th>           <td>    0.3566</td> <td>    0.036</td> <td>   10.033</td> <td> 0.000</td> <td>    0.287</td> <td>    0.426</td>\n",
       "</tr>\n",
       "<tr>\n",
       "  <th>view_GOOD</th>           <td>    0.3538</td> <td>    0.029</td> <td>   12.133</td> <td> 0.000</td> <td>    0.297</td> <td>    0.411</td>\n",
       "</tr>\n",
       "<tr>\n",
       "  <th>condition_Fair</th>      <td>   -0.3228</td> <td>    0.050</td> <td>   -6.509</td> <td> 0.000</td> <td>   -0.420</td> <td>   -0.226</td>\n",
       "</tr>\n",
       "<tr>\n",
       "  <th>condition_Good</th>      <td>    0.0170</td> <td>    0.011</td> <td>    1.580</td> <td> 0.114</td> <td>   -0.004</td> <td>    0.038</td>\n",
       "</tr>\n",
       "<tr>\n",
       "  <th>condition_Very Good</th> <td>    0.1442</td> <td>    0.017</td> <td>    8.289</td> <td> 0.000</td> <td>    0.110</td> <td>    0.178</td>\n",
       "</tr>\n",
       "<tr>\n",
       "  <th>grade_11 Excellent</th>  <td>    1.0419</td> <td>    0.035</td> <td>   29.568</td> <td> 0.000</td> <td>    0.973</td> <td>    1.111</td>\n",
       "</tr>\n",
       "<tr>\n",
       "  <th>grade_12 Luxury</th>     <td>    1.3297</td> <td>    0.070</td> <td>   18.961</td> <td> 0.000</td> <td>    1.192</td> <td>    1.467</td>\n",
       "</tr>\n",
       "<tr>\n",
       "  <th>grade_13 Mansion</th>    <td>    1.7393</td> <td>    0.178</td> <td>    9.756</td> <td> 0.000</td> <td>    1.390</td> <td>    2.089</td>\n",
       "</tr>\n",
       "<tr>\n",
       "  <th>grade_4 Low</th>         <td>   -0.8485</td> <td>    0.125</td> <td>   -6.793</td> <td> 0.000</td> <td>   -1.093</td> <td>   -0.604</td>\n",
       "</tr>\n",
       "<tr>\n",
       "  <th>grade_5 Fair</th>        <td>   -0.7629</td> <td>    0.043</td> <td>  -17.669</td> <td> 0.000</td> <td>   -0.848</td> <td>   -0.678</td>\n",
       "</tr>\n",
       "<tr>\n",
       "  <th>grade_6 Low Average</th> <td>   -0.4242</td> <td>    0.017</td> <td>  -24.602</td> <td> 0.000</td> <td>   -0.458</td> <td>   -0.390</td>\n",
       "</tr>\n",
       "<tr>\n",
       "  <th>grade_8 Good</th>        <td>    0.1812</td> <td>    0.011</td> <td>   16.465</td> <td> 0.000</td> <td>    0.160</td> <td>    0.203</td>\n",
       "</tr>\n",
       "<tr>\n",
       "  <th>grade_9 Better</th>      <td>    0.5018</td> <td>    0.016</td> <td>   31.766</td> <td> 0.000</td> <td>    0.471</td> <td>    0.533</td>\n",
       "</tr>\n",
       "<tr>\n",
       "  <th>yr_built_log</th>        <td>   -0.2858</td> <td>    0.006</td> <td>  -49.030</td> <td> 0.000</td> <td>   -0.297</td> <td>   -0.274</td>\n",
       "</tr>\n",
       "<tr>\n",
       "  <th>floors_log</th>          <td>    0.1162</td> <td>    0.005</td> <td>   21.397</td> <td> 0.000</td> <td>    0.106</td> <td>    0.127</td>\n",
       "</tr>\n",
       "</table>\n",
       "<table class=\"simpletable\">\n",
       "<tr>\n",
       "  <th>Omnibus:</th>       <td>33.358</td> <th>  Durbin-Watson:     </th> <td>   1.961</td>\n",
       "</tr>\n",
       "<tr>\n",
       "  <th>Prob(Omnibus):</th> <td> 0.000</td> <th>  Jarque-Bera (JB):  </th> <td>  38.998</td>\n",
       "</tr>\n",
       "<tr>\n",
       "  <th>Skew:</th>          <td> 0.033</td> <th>  Prob(JB):          </th> <td>3.40e-09</td>\n",
       "</tr>\n",
       "<tr>\n",
       "  <th>Kurtosis:</th>      <td> 3.198</td> <th>  Cond. No.          </th> <td>    73.1</td>\n",
       "</tr>\n",
       "</table><br/><br/>Notes:<br/>[1] Standard Errors assume that the covariance matrix of the errors is correctly specified."
      ],
      "text/plain": [
       "<class 'statsmodels.iolib.summary.Summary'>\n",
       "\"\"\"\n",
       "                            OLS Regression Results                            \n",
       "==============================================================================\n",
       "Dep. Variable:              price_log   R-squared:                       0.596\n",
       "Model:                            OLS   Adj. R-squared:                  0.596\n",
       "Method:                 Least Squares   F-statistic:                     1515.\n",
       "Date:                Thu, 24 Feb 2022   Prob (F-statistic):               0.00\n",
       "Time:                        09:06:45   Log-Likelihood:                -20860.\n",
       "No. Observations:               21597   AIC:                         4.176e+04\n",
       "Df Residuals:                   21575   BIC:                         4.194e+04\n",
       "Df Model:                          21                                         \n",
       "Covariance Type:            nonrobust                                         \n",
       "=======================================================================================\n",
       "                          coef    std err          t      P>|t|      [0.025      0.975]\n",
       "---------------------------------------------------------------------------------------\n",
       "const                  -0.1596      0.008    -20.705      0.000      -0.175      -0.144\n",
       "sqft_living_log         0.5188      0.008     62.879      0.000       0.503       0.535\n",
       "bathrooms_log           0.1080      0.008     13.796      0.000       0.093       0.123\n",
       "bedrooms_log           -0.1130      0.006    -18.832      0.000      -0.125      -0.101\n",
       "bd*ba                   0.0585      0.004     14.504      0.000       0.051       0.066\n",
       "water_YES               0.6040      0.064      9.373      0.000       0.478       0.730\n",
       "view_EXCELLENT          0.6426      0.044     14.458      0.000       0.556       0.730\n",
       "view_FAIR               0.3566      0.036     10.033      0.000       0.287       0.426\n",
       "view_GOOD               0.3538      0.029     12.133      0.000       0.297       0.411\n",
       "condition_Fair         -0.3228      0.050     -6.509      0.000      -0.420      -0.226\n",
       "condition_Good          0.0170      0.011      1.580      0.114      -0.004       0.038\n",
       "condition_Very Good     0.1442      0.017      8.289      0.000       0.110       0.178\n",
       "grade_11 Excellent      1.0419      0.035     29.568      0.000       0.973       1.111\n",
       "grade_12 Luxury         1.3297      0.070     18.961      0.000       1.192       1.467\n",
       "grade_13 Mansion        1.7393      0.178      9.756      0.000       1.390       2.089\n",
       "grade_4 Low            -0.8485      0.125     -6.793      0.000      -1.093      -0.604\n",
       "grade_5 Fair           -0.7629      0.043    -17.669      0.000      -0.848      -0.678\n",
       "grade_6 Low Average    -0.4242      0.017    -24.602      0.000      -0.458      -0.390\n",
       "grade_8 Good            0.1812      0.011     16.465      0.000       0.160       0.203\n",
       "grade_9 Better          0.5018      0.016     31.766      0.000       0.471       0.533\n",
       "yr_built_log           -0.2858      0.006    -49.030      0.000      -0.297      -0.274\n",
       "floors_log              0.1162      0.005     21.397      0.000       0.106       0.127\n",
       "==============================================================================\n",
       "Omnibus:                       33.358   Durbin-Watson:                   1.961\n",
       "Prob(Omnibus):                  0.000   Jarque-Bera (JB):               38.998\n",
       "Skew:                           0.033   Prob(JB):                     3.40e-09\n",
       "Kurtosis:                       3.198   Cond. No.                         73.1\n",
       "==============================================================================\n",
       "\n",
       "Notes:\n",
       "[1] Standard Errors assume that the covariance matrix of the errors is correctly specified.\n",
       "\"\"\""
      ]
     },
     "execution_count": 353,
     "metadata": {},
     "output_type": "execute_result"
    }
   ],
   "source": [
    "# Comparing to Fourth Model Summary\n",
    "X4 = fourth_model.drop(['price_log'], axis=1)\n",
    "y4 = fourth_model['price_log']\n",
    "\n",
    "X_int = sm.add_constant(X4)\n",
    "model = sm.OLS(y4,X_int).fit()\n",
    "model.summary()"
   ]
  },
  {
   "cell_type": "markdown",
   "metadata": {
    "ExecuteTime": {
     "end_time": "2022-02-24T20:49:01.922604Z",
     "start_time": "2022-02-24T20:49:01.918955Z"
    }
   },
   "source": [
    "## Fifth and non-normal NOT final Model\n",
    "* Provides values that can be used to predict price, but not compared well to one another."
   ]
  },
  {
   "cell_type": "code",
   "execution_count": 515,
   "metadata": {
    "ExecuteTime": {
     "end_time": "2022-02-24T20:52:57.052711Z",
     "start_time": "2022-02-24T20:52:56.935023Z"
    }
   },
   "outputs": [
    {
     "data": {
      "text/html": [
       "<table class=\"simpletable\">\n",
       "<caption>OLS Regression Results</caption>\n",
       "<tr>\n",
       "  <th>Dep. Variable:</th>          <td>price</td>      <th>  R-squared:         </th>  <td>   0.642</td>  \n",
       "</tr>\n",
       "<tr>\n",
       "  <th>Model:</th>                   <td>OLS</td>       <th>  Adj. R-squared:    </th>  <td>   0.642</td>  \n",
       "</tr>\n",
       "<tr>\n",
       "  <th>Method:</th>             <td>Least Squares</td>  <th>  F-statistic:       </th>  <td>   1935.</td>  \n",
       "</tr>\n",
       "<tr>\n",
       "  <th>Date:</th>             <td>Thu, 24 Feb 2022</td> <th>  Prob (F-statistic):</th>   <td>  0.00</td>   \n",
       "</tr>\n",
       "<tr>\n",
       "  <th>Time:</th>                 <td>13:52:57</td>     <th>  Log-Likelihood:    </th> <td>-2.9630e+05</td>\n",
       "</tr>\n",
       "<tr>\n",
       "  <th>No. Observations:</th>      <td> 21597</td>      <th>  AIC:               </th>  <td>5.926e+05</td> \n",
       "</tr>\n",
       "<tr>\n",
       "  <th>Df Residuals:</th>          <td> 21576</td>      <th>  BIC:               </th>  <td>5.928e+05</td> \n",
       "</tr>\n",
       "<tr>\n",
       "  <th>Df Model:</th>              <td>    20</td>      <th>                     </th>      <td> </td>     \n",
       "</tr>\n",
       "<tr>\n",
       "  <th>Covariance Type:</th>      <td>nonrobust</td>    <th>                     </th>      <td> </td>     \n",
       "</tr>\n",
       "</table>\n",
       "<table class=\"simpletable\">\n",
       "<tr>\n",
       "           <td></td>              <th>coef</th>     <th>std err</th>      <th>t</th>      <th>P>|t|</th>  <th>[0.025</th>    <th>0.975]</th>  \n",
       "</tr>\n",
       "<tr>\n",
       "  <th>const</th>               <td>  6.09e+06</td> <td> 1.33e+05</td> <td>   45.817</td> <td> 0.000</td> <td> 5.83e+06</td> <td> 6.35e+06</td>\n",
       "</tr>\n",
       "<tr>\n",
       "  <th>sqft_living</th>         <td>  211.4594</td> <td>    3.018</td> <td>   70.066</td> <td> 0.000</td> <td>  205.544</td> <td>  217.375</td>\n",
       "</tr>\n",
       "<tr>\n",
       "  <th>bathrooms</th>           <td> 5.557e+04</td> <td> 3512.546</td> <td>   15.821</td> <td> 0.000</td> <td> 4.87e+04</td> <td> 6.25e+04</td>\n",
       "</tr>\n",
       "<tr>\n",
       "  <th>bedrooms</th>            <td> -4.22e+04</td> <td> 2071.209</td> <td>  -20.374</td> <td> 0.000</td> <td>-4.63e+04</td> <td>-3.81e+04</td>\n",
       "</tr>\n",
       "<tr>\n",
       "  <th>yr_built</th>            <td>-3088.8167</td> <td>   68.299</td> <td>  -45.225</td> <td> 0.000</td> <td>-3222.687</td> <td>-2954.946</td>\n",
       "</tr>\n",
       "<tr>\n",
       "  <th>floors</th>              <td> 5.644e+04</td> <td> 3495.164</td> <td>   16.148</td> <td> 0.000</td> <td> 4.96e+04</td> <td> 6.33e+04</td>\n",
       "</tr>\n",
       "<tr>\n",
       "  <th>water_YES</th>           <td>  5.14e+05</td> <td> 2.23e+04</td> <td>   23.072</td> <td> 0.000</td> <td>  4.7e+05</td> <td> 5.58e+05</td>\n",
       "</tr>\n",
       "<tr>\n",
       "  <th>view_EXCELLENT</th>      <td> 2.892e+05</td> <td> 1.54e+04</td> <td>   18.801</td> <td> 0.000</td> <td> 2.59e+05</td> <td> 3.19e+05</td>\n",
       "</tr>\n",
       "<tr>\n",
       "  <th>view_FAIR</th>           <td> 1.261e+05</td> <td> 1.23e+04</td> <td>   10.265</td> <td> 0.000</td> <td> 1.02e+05</td> <td>  1.5e+05</td>\n",
       "</tr>\n",
       "<tr>\n",
       "  <th>view_GOOD</th>           <td> 1.308e+05</td> <td> 1.01e+04</td> <td>   12.947</td> <td> 0.000</td> <td> 1.11e+05</td> <td> 1.51e+05</td>\n",
       "</tr>\n",
       "<tr>\n",
       "  <th>condition_Fair</th>      <td>-3.817e+04</td> <td> 1.71e+04</td> <td>   -2.226</td> <td> 0.026</td> <td>-7.18e+04</td> <td>-4561.612</td>\n",
       "</tr>\n",
       "<tr>\n",
       "  <th>condition_Good</th>      <td> 1.042e+04</td> <td> 3714.662</td> <td>    2.804</td> <td> 0.005</td> <td> 3135.982</td> <td> 1.77e+04</td>\n",
       "</tr>\n",
       "<tr>\n",
       "  <th>condition_Very Good</th> <td> 4.836e+04</td> <td> 5991.101</td> <td>    8.073</td> <td> 0.000</td> <td> 3.66e+04</td> <td> 6.01e+04</td>\n",
       "</tr>\n",
       "<tr>\n",
       "  <th>grade_11 Excellent</th>  <td> 4.297e+05</td> <td> 1.26e+04</td> <td>   34.137</td> <td> 0.000</td> <td> 4.05e+05</td> <td> 4.54e+05</td>\n",
       "</tr>\n",
       "<tr>\n",
       "  <th>grade_12 Luxury</th>     <td> 8.079e+05</td> <td> 2.49e+04</td> <td>   32.485</td> <td> 0.000</td> <td> 7.59e+05</td> <td> 8.57e+05</td>\n",
       "</tr>\n",
       "<tr>\n",
       "  <th>grade_13 Mansion</th>    <td> 1.866e+06</td> <td> 6.24e+04</td> <td>   29.895</td> <td> 0.000</td> <td> 1.74e+06</td> <td> 1.99e+06</td>\n",
       "</tr>\n",
       "<tr>\n",
       "  <th>grade_4 Low</th>         <td>-9.048e+04</td> <td> 4.26e+04</td> <td>   -2.124</td> <td> 0.034</td> <td>-1.74e+05</td> <td>-6982.078</td>\n",
       "</tr>\n",
       "<tr>\n",
       "  <th>grade_5 Fair</th>        <td>-1.165e+05</td> <td> 1.46e+04</td> <td>   -7.992</td> <td> 0.000</td> <td>-1.45e+05</td> <td>-8.79e+04</td>\n",
       "</tr>\n",
       "<tr>\n",
       "  <th>grade_6 Low Average</th> <td>-7.276e+04</td> <td> 5728.203</td> <td>  -12.702</td> <td> 0.000</td> <td> -8.4e+04</td> <td>-6.15e+04</td>\n",
       "</tr>\n",
       "<tr>\n",
       "  <th>grade_8 Good</th>        <td> 1.326e+04</td> <td> 3765.672</td> <td>    3.521</td> <td> 0.000</td> <td> 5879.082</td> <td> 2.06e+04</td>\n",
       "</tr>\n",
       "<tr>\n",
       "  <th>grade_9 Better</th>      <td>     1e+05</td> <td> 5428.994</td> <td>   18.422</td> <td> 0.000</td> <td> 8.94e+04</td> <td> 1.11e+05</td>\n",
       "</tr>\n",
       "</table>\n",
       "<table class=\"simpletable\">\n",
       "<tr>\n",
       "  <th>Omnibus:</th>       <td>10877.567</td> <th>  Durbin-Watson:     </th>  <td>   1.976</td> \n",
       "</tr>\n",
       "<tr>\n",
       "  <th>Prob(Omnibus):</th>  <td> 0.000</td>   <th>  Jarque-Bera (JB):  </th> <td>254020.268</td>\n",
       "</tr>\n",
       "<tr>\n",
       "  <th>Skew:</th>           <td> 1.914</td>   <th>  Prob(JB):          </th>  <td>    0.00</td> \n",
       "</tr>\n",
       "<tr>\n",
       "  <th>Kurtosis:</th>       <td>19.359</td>   <th>  Cond. No.          </th>  <td>2.62e+05</td> \n",
       "</tr>\n",
       "</table><br/><br/>Notes:<br/>[1] Standard Errors assume that the covariance matrix of the errors is correctly specified.<br/>[2] The condition number is large, 2.62e+05. This might indicate that there are<br/>strong multicollinearity or other numerical problems."
      ],
      "text/plain": [
       "<class 'statsmodels.iolib.summary.Summary'>\n",
       "\"\"\"\n",
       "                            OLS Regression Results                            \n",
       "==============================================================================\n",
       "Dep. Variable:                  price   R-squared:                       0.642\n",
       "Model:                            OLS   Adj. R-squared:                  0.642\n",
       "Method:                 Least Squares   F-statistic:                     1935.\n",
       "Date:                Thu, 24 Feb 2022   Prob (F-statistic):               0.00\n",
       "Time:                        13:52:57   Log-Likelihood:            -2.9630e+05\n",
       "No. Observations:               21597   AIC:                         5.926e+05\n",
       "Df Residuals:                   21576   BIC:                         5.928e+05\n",
       "Df Model:                          20                                         \n",
       "Covariance Type:            nonrobust                                         \n",
       "=======================================================================================\n",
       "                          coef    std err          t      P>|t|      [0.025      0.975]\n",
       "---------------------------------------------------------------------------------------\n",
       "const                 6.09e+06   1.33e+05     45.817      0.000    5.83e+06    6.35e+06\n",
       "sqft_living           211.4594      3.018     70.066      0.000     205.544     217.375\n",
       "bathrooms            5.557e+04   3512.546     15.821      0.000    4.87e+04    6.25e+04\n",
       "bedrooms             -4.22e+04   2071.209    -20.374      0.000   -4.63e+04   -3.81e+04\n",
       "yr_built            -3088.8167     68.299    -45.225      0.000   -3222.687   -2954.946\n",
       "floors               5.644e+04   3495.164     16.148      0.000    4.96e+04    6.33e+04\n",
       "water_YES             5.14e+05   2.23e+04     23.072      0.000     4.7e+05    5.58e+05\n",
       "view_EXCELLENT       2.892e+05   1.54e+04     18.801      0.000    2.59e+05    3.19e+05\n",
       "view_FAIR            1.261e+05   1.23e+04     10.265      0.000    1.02e+05     1.5e+05\n",
       "view_GOOD            1.308e+05   1.01e+04     12.947      0.000    1.11e+05    1.51e+05\n",
       "condition_Fair      -3.817e+04   1.71e+04     -2.226      0.026   -7.18e+04   -4561.612\n",
       "condition_Good       1.042e+04   3714.662      2.804      0.005    3135.982    1.77e+04\n",
       "condition_Very Good  4.836e+04   5991.101      8.073      0.000    3.66e+04    6.01e+04\n",
       "grade_11 Excellent   4.297e+05   1.26e+04     34.137      0.000    4.05e+05    4.54e+05\n",
       "grade_12 Luxury      8.079e+05   2.49e+04     32.485      0.000    7.59e+05    8.57e+05\n",
       "grade_13 Mansion     1.866e+06   6.24e+04     29.895      0.000    1.74e+06    1.99e+06\n",
       "grade_4 Low         -9.048e+04   4.26e+04     -2.124      0.034   -1.74e+05   -6982.078\n",
       "grade_5 Fair        -1.165e+05   1.46e+04     -7.992      0.000   -1.45e+05   -8.79e+04\n",
       "grade_6 Low Average -7.276e+04   5728.203    -12.702      0.000    -8.4e+04   -6.15e+04\n",
       "grade_8 Good         1.326e+04   3765.672      3.521      0.000    5879.082    2.06e+04\n",
       "grade_9 Better           1e+05   5428.994     18.422      0.000    8.94e+04    1.11e+05\n",
       "==============================================================================\n",
       "Omnibus:                    10877.567   Durbin-Watson:                   1.976\n",
       "Prob(Omnibus):                  0.000   Jarque-Bera (JB):           254020.268\n",
       "Skew:                           1.914   Prob(JB):                         0.00\n",
       "Kurtosis:                      19.359   Cond. No.                     2.62e+05\n",
       "==============================================================================\n",
       "\n",
       "Notes:\n",
       "[1] Standard Errors assume that the covariance matrix of the errors is correctly specified.\n",
       "[2] The condition number is large, 2.62e+05. This might indicate that there are\n",
       "strong multicollinearity or other numerical problems.\n",
       "\"\"\""
      ]
     },
     "execution_count": 515,
     "metadata": {},
     "output_type": "execute_result"
    }
   ],
   "source": [
    "# Comparing to Fourth Model Summary\n",
    "X5 = fifth_model.drop(['price'], axis=1)\n",
    "y5 = fifth_model['price']\n",
    "\n",
    "X_int = sm.add_constant(X5)\n",
    "model = sm.OLS(y5,X_int).fit()\n",
    "model.summary()"
   ]
  },
  {
   "cell_type": "markdown",
   "metadata": {},
   "source": [
    "### Dollar value changes for predictors in Fifth model.\n",
    "* For every increase in 1 square foot, the price increases by 211.46 dollars\n",
    "    * This is an increase of 105,730.00 dollars for every 500 square feet.\n",
    "* For every additional bedroom, the price decreases by 42,200 dollars.\n",
    "    * This is an issue in our model because homes with fewer bedrooms are likely to cost more than homes with more bedrooms - likely conflated by other variables such as location.\n",
    "* For each additional bathroom, the price of a home increses by 55,570 dollars.\n",
    "* For every year a house becomes older, it decreases in value by 3,088.82 dollars.\n",
    "* Each additional floor increases the value of a home by 56,440.00\n",
    "* Improving the view from Fair to Excellent will increase the value of a home by 163,100 dollars.\n",
    "    * Improving view from Fair to Good will increase the value of a home by only 4700 dollars.\n",
    "* Improving the grade of a house from Fair to Excellent, which would require significant renovations and additions, improves the value of a house by 546,200 dollars.\n",
    "    * Improving the grade of a house from Low to Fair will only increase the value by 26,020 dollars."
   ]
  },
  {
   "cell_type": "markdown",
   "metadata": {},
   "source": [
    "## Un-Normalize Coefficients"
   ]
  },
  {
   "cell_type": "code",
   "execution_count": 381,
   "metadata": {
    "ExecuteTime": {
     "end_time": "2022-02-24T19:10:10.733427Z",
     "start_time": "2022-02-24T19:10:10.631470Z"
    }
   },
   "outputs": [
    {
     "data": {
      "text/html": [
       "<div>\n",
       "<style scoped>\n",
       "    .dataframe tbody tr th:only-of-type {\n",
       "        vertical-align: middle;\n",
       "    }\n",
       "\n",
       "    .dataframe tbody tr th {\n",
       "        vertical-align: top;\n",
       "    }\n",
       "\n",
       "    .dataframe thead th {\n",
       "        text-align: right;\n",
       "    }\n",
       "</style>\n",
       "<table border=\"1\" class=\"dataframe\">\n",
       "  <thead>\n",
       "    <tr style=\"text-align: right;\">\n",
       "      <th></th>\n",
       "      <th>feature</th>\n",
       "      <th>orig_coef</th>\n",
       "    </tr>\n",
       "  </thead>\n",
       "  <tbody>\n",
       "    <tr>\n",
       "      <th>0</th>\n",
       "      <td>sqft_living_log</td>\n",
       "      <td>0.518826</td>\n",
       "    </tr>\n",
       "    <tr>\n",
       "      <th>1</th>\n",
       "      <td>bathrooms_log</td>\n",
       "      <td>0.108043</td>\n",
       "    </tr>\n",
       "    <tr>\n",
       "      <th>2</th>\n",
       "      <td>bedrooms_log</td>\n",
       "      <td>-0.112985</td>\n",
       "    </tr>\n",
       "    <tr>\n",
       "      <th>3</th>\n",
       "      <td>bd*ba</td>\n",
       "      <td>0.058490</td>\n",
       "    </tr>\n",
       "    <tr>\n",
       "      <th>4</th>\n",
       "      <td>water_YES</td>\n",
       "      <td>0.603956</td>\n",
       "    </tr>\n",
       "    <tr>\n",
       "      <th>5</th>\n",
       "      <td>view_EXCELLENT</td>\n",
       "      <td>0.642621</td>\n",
       "    </tr>\n",
       "    <tr>\n",
       "      <th>6</th>\n",
       "      <td>view_FAIR</td>\n",
       "      <td>0.356569</td>\n",
       "    </tr>\n",
       "    <tr>\n",
       "      <th>7</th>\n",
       "      <td>view_GOOD</td>\n",
       "      <td>0.353794</td>\n",
       "    </tr>\n",
       "    <tr>\n",
       "      <th>8</th>\n",
       "      <td>condition_Fair</td>\n",
       "      <td>-0.322837</td>\n",
       "    </tr>\n",
       "    <tr>\n",
       "      <th>9</th>\n",
       "      <td>condition_Good</td>\n",
       "      <td>0.017032</td>\n",
       "    </tr>\n",
       "    <tr>\n",
       "      <th>10</th>\n",
       "      <td>condition_Very Good</td>\n",
       "      <td>0.144151</td>\n",
       "    </tr>\n",
       "    <tr>\n",
       "      <th>11</th>\n",
       "      <td>grade_11 Excellent</td>\n",
       "      <td>1.041913</td>\n",
       "    </tr>\n",
       "    <tr>\n",
       "      <th>12</th>\n",
       "      <td>grade_12 Luxury</td>\n",
       "      <td>1.329690</td>\n",
       "    </tr>\n",
       "    <tr>\n",
       "      <th>13</th>\n",
       "      <td>grade_13 Mansion</td>\n",
       "      <td>1.739344</td>\n",
       "    </tr>\n",
       "    <tr>\n",
       "      <th>14</th>\n",
       "      <td>grade_4 Low</td>\n",
       "      <td>-0.848540</td>\n",
       "    </tr>\n",
       "    <tr>\n",
       "      <th>15</th>\n",
       "      <td>grade_5 Fair</td>\n",
       "      <td>-0.762913</td>\n",
       "    </tr>\n",
       "    <tr>\n",
       "      <th>16</th>\n",
       "      <td>grade_6 Low Average</td>\n",
       "      <td>-0.424193</td>\n",
       "    </tr>\n",
       "    <tr>\n",
       "      <th>17</th>\n",
       "      <td>grade_8 Good</td>\n",
       "      <td>0.181168</td>\n",
       "    </tr>\n",
       "    <tr>\n",
       "      <th>18</th>\n",
       "      <td>grade_9 Better</td>\n",
       "      <td>0.501844</td>\n",
       "    </tr>\n",
       "    <tr>\n",
       "      <th>19</th>\n",
       "      <td>yr_built_log</td>\n",
       "      <td>-0.285834</td>\n",
       "    </tr>\n",
       "    <tr>\n",
       "      <th>20</th>\n",
       "      <td>floors_log</td>\n",
       "      <td>0.116152</td>\n",
       "    </tr>\n",
       "  </tbody>\n",
       "</table>\n",
       "</div>"
      ],
      "text/plain": [
       "                feature  orig_coef\n",
       "0       sqft_living_log   0.518826\n",
       "1         bathrooms_log   0.108043\n",
       "2          bedrooms_log  -0.112985\n",
       "3                 bd*ba   0.058490\n",
       "4             water_YES   0.603956\n",
       "5        view_EXCELLENT   0.642621\n",
       "6             view_FAIR   0.356569\n",
       "7             view_GOOD   0.353794\n",
       "8        condition_Fair  -0.322837\n",
       "9        condition_Good   0.017032\n",
       "10  condition_Very Good   0.144151\n",
       "11   grade_11 Excellent   1.041913\n",
       "12      grade_12 Luxury   1.329690\n",
       "13     grade_13 Mansion   1.739344\n",
       "14          grade_4 Low  -0.848540\n",
       "15         grade_5 Fair  -0.762913\n",
       "16  grade_6 Low Average  -0.424193\n",
       "17         grade_8 Good   0.181168\n",
       "18       grade_9 Better   0.501844\n",
       "19         yr_built_log  -0.285834\n",
       "20           floors_log   0.116152"
      ]
     },
     "execution_count": 381,
     "metadata": {},
     "output_type": "execute_result"
    }
   ],
   "source": [
    "# form data frame with coefficients\n",
    "\n",
    "lr = LinearRegression()\n",
    "lr.fit(X4,y4)\n",
    "\n",
    "orig_coefs = lr.coef_\n",
    "\n",
    "coefs1 = pd.DataFrame(\n",
    "    data={\n",
    "        'feature': fourth_model.drop(['price_log'], axis=1).columns, \n",
    "        'orig_coef' : orig_coefs, \n",
    "    }\n",
    ")\n",
    "coefs1"
   ]
  },
  {
   "cell_type": "code",
   "execution_count": 388,
   "metadata": {
    "ExecuteTime": {
     "end_time": "2022-02-24T19:25:07.861316Z",
     "start_time": "2022-02-24T19:25:07.832404Z"
    }
   },
   "outputs": [
    {
     "data": {
      "text/plain": [
       "0.518825567109816"
      ]
     },
     "execution_count": 388,
     "metadata": {},
     "output_type": "execute_result"
    }
   ],
   "source": [
    "# finding coefficient in this data frame\n",
    "coefs1.iloc[0]['orig_coef']"
   ]
  },
  {
   "cell_type": "code",
   "execution_count": 387,
   "metadata": {
    "ExecuteTime": {
     "end_time": "2022-02-24T19:18:05.703159Z",
     "start_time": "2022-02-24T19:18:05.669475Z"
    }
   },
   "outputs": [
    {
     "name": "stdout",
     "output_type": "stream",
     "text": [
      "<class 'pandas.core.frame.DataFrame'>\n",
      "RangeIndex: 21597 entries, 0 to 21596\n",
      "Data columns (total 4 columns):\n",
      " #   Column           Non-Null Count  Dtype  \n",
      "---  ------           --------------  -----  \n",
      " 0   sqft_living_log  21597 non-null  float64\n",
      " 1   bathrooms_log    21597 non-null  float64\n",
      " 2   bedrooms_log     21597 non-null  float64\n",
      " 3   price_log        21597 non-null  float64\n",
      "dtypes: float64(4)\n",
      "memory usage: 675.0 KB\n",
      "None\n",
      "<class 'pandas.core.frame.DataFrame'>\n",
      "RangeIndex: 21597 entries, 0 to 21596\n",
      "Data columns (total 2 columns):\n",
      " #   Column        Non-Null Count  Dtype  \n",
      "---  ------        --------------  -----  \n",
      " 0   yr_built_log  21597 non-null  float64\n",
      " 1   floors_log    21597 non-null  float64\n",
      "dtypes: float64(2)\n",
      "memory usage: 337.6 KB\n",
      "None\n",
      "<class 'pandas.core.frame.DataFrame'>\n",
      "RangeIndex: 21597 entries, 0 to 21596\n",
      "Data columns (total 6 columns):\n",
      " #   Column           Non-Null Count  Dtype  \n",
      "---  ------           --------------  -----  \n",
      " 0   sqft_living_log  21597 non-null  float64\n",
      " 1   bathrooms_log    21597 non-null  float64\n",
      " 2   bedrooms_log     21597 non-null  float64\n",
      " 3   price_log        21597 non-null  float64\n",
      " 4   yr_built_log     21597 non-null  float64\n",
      " 5   floors_log       21597 non-null  float64\n",
      "dtypes: float64(6)\n",
      "memory usage: 1012.5 KB\n",
      "None\n"
     ]
    }
   ],
   "source": [
    "# find and re-name logged data frames\n",
    "\n",
    "print(house_log.info())\n",
    "print(house_log2.info())\n",
    "\n",
    "house_log3 = pd.concat([house_log, house_log2], axis=1)\n",
    "print(house_log3.info())"
   ]
  },
  {
   "cell_type": "markdown",
   "metadata": {},
   "source": [
    "### Comparing coefficients in house_log3 to calculated values\n",
    "* They do not compare well - I am not sure why the values are so different"
   ]
  },
  {
   "cell_type": "code",
   "execution_count": 395,
   "metadata": {
    "ExecuteTime": {
     "end_time": "2022-02-24T19:38:01.055211Z",
     "start_time": "2022-02-24T19:38:00.979003Z"
    }
   },
   "outputs": [
    {
     "data": {
      "text/html": [
       "<table class=\"simpletable\">\n",
       "<caption>OLS Regression Results</caption>\n",
       "<tr>\n",
       "  <th>Dep. Variable:</th>        <td>price_log</td>    <th>  R-squared:         </th> <td>   0.525</td> \n",
       "</tr>\n",
       "<tr>\n",
       "  <th>Model:</th>                   <td>OLS</td>       <th>  Adj. R-squared:    </th> <td>   0.525</td> \n",
       "</tr>\n",
       "<tr>\n",
       "  <th>Method:</th>             <td>Least Squares</td>  <th>  F-statistic:       </th> <td>   4766.</td> \n",
       "</tr>\n",
       "<tr>\n",
       "  <th>Date:</th>             <td>Thu, 24 Feb 2022</td> <th>  Prob (F-statistic):</th>  <td>  0.00</td>  \n",
       "</tr>\n",
       "<tr>\n",
       "  <th>Time:</th>                 <td>12:38:01</td>     <th>  Log-Likelihood:    </th> <td> -8761.6</td> \n",
       "</tr>\n",
       "<tr>\n",
       "  <th>No. Observations:</th>      <td> 21597</td>      <th>  AIC:               </th> <td>1.754e+04</td>\n",
       "</tr>\n",
       "<tr>\n",
       "  <th>Df Residuals:</th>          <td> 21591</td>      <th>  BIC:               </th> <td>1.758e+04</td>\n",
       "</tr>\n",
       "<tr>\n",
       "  <th>Df Model:</th>              <td>     5</td>      <th>                     </th>     <td> </td>    \n",
       "</tr>\n",
       "<tr>\n",
       "  <th>Covariance Type:</th>      <td>nonrobust</td>    <th>                     </th>     <td> </td>    \n",
       "</tr>\n",
       "</table>\n",
       "<table class=\"simpletable\">\n",
       "<tr>\n",
       "         <td></td>            <th>coef</th>     <th>std err</th>      <th>t</th>      <th>P>|t|</th>  <th>[0.025</th>    <th>0.975]</th>  \n",
       "</tr>\n",
       "<tr>\n",
       "  <th>const</th>           <td>   81.0346</td> <td>    1.557</td> <td>   52.059</td> <td> 0.000</td> <td>   77.984</td> <td>   84.086</td>\n",
       "</tr>\n",
       "<tr>\n",
       "  <th>sqft_living_log</th> <td>    0.9011</td> <td>    0.010</td> <td>   89.795</td> <td> 0.000</td> <td>    0.881</td> <td>    0.921</td>\n",
       "</tr>\n",
       "<tr>\n",
       "  <th>bathrooms_log</th>   <td>    0.1935</td> <td>    0.011</td> <td>   17.325</td> <td> 0.000</td> <td>    0.172</td> <td>    0.215</td>\n",
       "</tr>\n",
       "<tr>\n",
       "  <th>bedrooms_log</th>    <td>   -0.3324</td> <td>    0.012</td> <td>  -28.712</td> <td> 0.000</td> <td>   -0.355</td> <td>   -0.310</td>\n",
       "</tr>\n",
       "<tr>\n",
       "  <th>yr_built_log</th>    <td>   -9.8333</td> <td>    0.205</td> <td>  -48.050</td> <td> 0.000</td> <td>  -10.234</td> <td>   -9.432</td>\n",
       "</tr>\n",
       "<tr>\n",
       "  <th>floors_log</th>      <td>    0.1996</td> <td>    0.009</td> <td>   23.444</td> <td> 0.000</td> <td>    0.183</td> <td>    0.216</td>\n",
       "</tr>\n",
       "</table>\n",
       "<table class=\"simpletable\">\n",
       "<tr>\n",
       "  <th>Omnibus:</th>       <td> 8.847</td> <th>  Durbin-Watson:     </th> <td>   1.971</td>\n",
       "</tr>\n",
       "<tr>\n",
       "  <th>Prob(Omnibus):</th> <td> 0.012</td> <th>  Jarque-Bera (JB):  </th> <td>   9.325</td>\n",
       "</tr>\n",
       "<tr>\n",
       "  <th>Skew:</th>          <td> 0.023</td> <th>  Prob(JB):          </th> <td> 0.00944</td>\n",
       "</tr>\n",
       "<tr>\n",
       "  <th>Kurtosis:</th>      <td> 3.090</td> <th>  Cond. No.          </th> <td>6.89e+03</td>\n",
       "</tr>\n",
       "</table><br/><br/>Notes:<br/>[1] Standard Errors assume that the covariance matrix of the errors is correctly specified.<br/>[2] The condition number is large, 6.89e+03. This might indicate that there are<br/>strong multicollinearity or other numerical problems."
      ],
      "text/plain": [
       "<class 'statsmodels.iolib.summary.Summary'>\n",
       "\"\"\"\n",
       "                            OLS Regression Results                            \n",
       "==============================================================================\n",
       "Dep. Variable:              price_log   R-squared:                       0.525\n",
       "Model:                            OLS   Adj. R-squared:                  0.525\n",
       "Method:                 Least Squares   F-statistic:                     4766.\n",
       "Date:                Thu, 24 Feb 2022   Prob (F-statistic):               0.00\n",
       "Time:                        12:38:01   Log-Likelihood:                -8761.6\n",
       "No. Observations:               21597   AIC:                         1.754e+04\n",
       "Df Residuals:                   21591   BIC:                         1.758e+04\n",
       "Df Model:                           5                                         \n",
       "Covariance Type:            nonrobust                                         \n",
       "===================================================================================\n",
       "                      coef    std err          t      P>|t|      [0.025      0.975]\n",
       "-----------------------------------------------------------------------------------\n",
       "const              81.0346      1.557     52.059      0.000      77.984      84.086\n",
       "sqft_living_log     0.9011      0.010     89.795      0.000       0.881       0.921\n",
       "bathrooms_log       0.1935      0.011     17.325      0.000       0.172       0.215\n",
       "bedrooms_log       -0.3324      0.012    -28.712      0.000      -0.355      -0.310\n",
       "yr_built_log       -9.8333      0.205    -48.050      0.000     -10.234      -9.432\n",
       "floors_log          0.1996      0.009     23.444      0.000       0.183       0.216\n",
       "==============================================================================\n",
       "Omnibus:                        8.847   Durbin-Watson:                   1.971\n",
       "Prob(Omnibus):                  0.012   Jarque-Bera (JB):                9.325\n",
       "Skew:                           0.023   Prob(JB):                      0.00944\n",
       "Kurtosis:                       3.090   Cond. No.                     6.89e+03\n",
       "==============================================================================\n",
       "\n",
       "Notes:\n",
       "[1] Standard Errors assume that the covariance matrix of the errors is correctly specified.\n",
       "[2] The condition number is large, 6.89e+03. This might indicate that there are\n",
       "strong multicollinearity or other numerical problems.\n",
       "\"\"\""
      ]
     },
     "execution_count": 395,
     "metadata": {},
     "output_type": "execute_result"
    }
   ],
   "source": [
    "# Model summary of house_log3\n",
    "X_log = house_log3.drop(['price_log'], axis=1)\n",
    "y_log = house_log3['price_log']\n",
    "\n",
    "X_int = sm.add_constant(X_log)\n",
    "model = sm.OLS(y_log,X_int).fit()\n",
    "model.summary()"
   ]
  },
  {
   "cell_type": "markdown",
   "metadata": {},
   "source": [
    "### Set up equation "
   ]
  },
  {
   "cell_type": "code",
   "execution_count": 405,
   "metadata": {
    "ExecuteTime": {
     "end_time": "2022-02-24T20:00:46.370519Z",
     "start_time": "2022-02-24T20:00:46.360933Z"
    }
   },
   "outputs": [
    {
     "name": "stdout",
     "output_type": "stream",
     "text": [
      "Un-normalized coefficient of sqft_living: 7.770801574952525\n",
      "\n",
      "Calculated, un-normalized, log inverted, coeff of sqft_living: 2370.370556717152\n"
     ]
    }
   ],
   "source": [
    "# convert normalized value to logged value for logged and normalized \n",
    "# coefficient of sqft_living\n",
    "\n",
    "un_normalized_sqft_living_coeff = (((coefs1.iloc[0]['orig_coef']) \n",
    "                        * house_log3['sqft_living_log'].std())\n",
    "                        + house_log3['sqft_living_log'].mean())\n",
    "\n",
    "# print result\n",
    "print(\"Un-normalized coefficient of sqft_living:\", \n",
    "      un_normalized_sqft_living_coeff)\n",
    "print()\n",
    "\n",
    "# invert natural log\n",
    "orig_coeff_sqft_living = np.exp(log_sqft_living_coeff)\n",
    "\n",
    "# print result\n",
    "print(\"Calculated, un-normalized, log inverted, coeff of sqft_living:\", \n",
    "      orig_coeff_sqft_living)"
   ]
  },
  {
   "cell_type": "markdown",
   "metadata": {},
   "source": [
    "### Calculated Value of Un-normalized, Log-inverted, Coefficient of sqft_living\n",
    "* The calculated value of 2370.37 does not seem realistic to me.\n",
    "    * An increase of that magnitude would mean houses rise in value by 1,185,000.00 dollars for every additional 500 square feet."
   ]
  },
  {
   "cell_type": "code",
   "execution_count": 399,
   "metadata": {
    "ExecuteTime": {
     "end_time": "2022-02-24T19:49:23.194835Z",
     "start_time": "2022-02-24T19:49:23.186664Z"
    }
   },
   "outputs": [
    {
     "name": "stdout",
     "output_type": "stream",
     "text": [
      "0.42419100991702274\n",
      "7.55072043366944\n"
     ]
    }
   ],
   "source": [
    "# double-check values of sqft_living_log in house_log3\n",
    "print(house_log3['sqft_living_log'].std())\n",
    "print(house_log3['sqft_living_log'].mean())"
   ]
  },
  {
   "cell_type": "code",
   "execution_count": 400,
   "metadata": {
    "ExecuteTime": {
     "end_time": "2022-02-24T19:51:04.496466Z",
     "start_time": "2022-02-24T19:51:04.120413Z"
    }
   },
   "outputs": [
    {
     "data": {
      "text/plain": [
       "<AxesSubplot:>"
      ]
     },
     "execution_count": 400,
     "metadata": {},
     "output_type": "execute_result"
    },
    {
     "data": {
      "image/png": "[encoded data removed]",
      "text/plain": [
       "<Figure size 432x288 with 1 Axes>"
      ]
     },
     "metadata": {
      "needs_background": "light"
     },
     "output_type": "display_data"
    }
   ],
   "source": [
    "house_df['sqft_living'].hist(bins=20)"
   ]
  },
  {
   "cell_type": "markdown",
   "metadata": {},
   "source": [
    "### Converting logged and normalized coefficients to original value, does not provide a coefficient for the original data set.\n",
    "* They provide a value that is near the mean of the data, not a coefficient.\n",
    "    * The value is near the mean because the conversion from the normalized value to the logged value results in a value near the mean, as the normalized values center upon the mean.\n",
    "* We would need to convert all of the values in the normalized data frame to logged, then find the inverse of the log, then run a summary.\n",
    "    * At this point, we would be running a summary of the original data."
   ]
  },
  {
   "cell_type": "markdown",
   "metadata": {},
   "source": [
    "# Recommendations"
   ]
  },
  {
   "cell_type": "markdown",
   "metadata": {},
   "source": [
    "## Renovate Interior\n",
    "* Grade and Condition score increases were correlated to large price increases.\n",
    "* Spending on an interior renovation, especially in regards to the whole house being considered very good to luxury is likely to increase sale price."
   ]
  },
  {
   "cell_type": "markdown",
   "metadata": {},
   "source": [
    "## Create a View\n",
    "* Add larger windows that face pleasant scenery.\n",
    "* Add a deck or rooftop deck to enhance access to outdoor views.\n",
    "* Landscape and design views from windows to include desirable plants and scenery."
   ]
  },
  {
   "cell_type": "markdown",
   "metadata": {},
   "source": [
    "## Add Square Footage\n",
    "* Add liveable space in your home.\n",
    "* Not necessarily bedrooms or bathrooms, though it is better to add bathrooms, in terms of sale price.\n",
    "* Renovate Garage to be fully insulated livable space.\n",
    "* Add a guest cottage with full pluming, electrical, and HVAC.\n"
   ]
  },
  {
   "cell_type": "markdown",
   "metadata": {},
   "source": [
    "# Future Work"
   ]
  },
  {
   "cell_type": "markdown",
   "metadata": {},
   "source": [
    "## Examine other housing data sets to determine if they contain similar trends to predictors in the King County Data Set."
   ]
  },
  {
   "cell_type": "markdown",
   "metadata": {},
   "source": [
    "## Find additional predictors to better estimate how much certain home changes alter sale price. \n",
    "* Type of remodel or home additions.\n",
    "    * Ex. Kitchen, Garage, Patio, additional Bedrooms/Bathrooms."
   ]
  },
  {
   "cell_type": "markdown",
   "metadata": {},
   "source": [
    "## Estimate return on investment for renovations.\n",
    "* How do certain projects increase sale price?\n",
    "    * Example: Is it better to convert a garage to livable space or update a bathroom?\n",
    "* Is it better to spend more to make more, or is there a certain level of spending that reaps a higher gain?"
   ]
  },
  {
   "cell_type": "code",
   "execution_count": null,
   "metadata": {},
   "outputs": [],
   "source": []
  },
  {
   "cell_type": "code",
   "execution_count": null,
   "metadata": {},
   "outputs": [],
   "source": []
  },
  {
   "cell_type": "code",
   "execution_count": 337,
   "metadata": {
    "ExecuteTime": {
     "end_time": "2022-02-22T20:47:12.479247Z",
     "start_time": "2022-02-22T20:47:12.432650Z"
    }
   },
   "outputs": [
    {
     "data": {
      "text/plain": [
       "'\\nI am very curious about making the label encoder \\nwork with numbers that I determine.\\n\\nI wonder if the label encoder will produce different results\\nthan the one hot encoder in terms of the R-squared\\nand variance.\\n'"
      ]
     },
     "execution_count": 337,
     "metadata": {},
     "output_type": "execute_result"
    }
   ],
   "source": [
    "\"\"\"\n",
    "I am very curious about making the label encoder \n",
    "work with numbers that I determine.\n",
    "\n",
    "I wonder if the label encoder will produce different results\n",
    "than the one hot encoder in terms of the R-squared\n",
    "and variance?\n",
    "\"\"\""
   ]
  },
  {
   "cell_type": "code",
   "execution_count": null,
   "metadata": {},
   "outputs": [],
   "source": [
    "# This is where I left off 2/21 - need to do ohe for grade\n",
    "# need to remove 1 column for each ohe variable due to \n",
    "# multicollinearity\n",
    "# next add these to baseline model\n",
    "# move into train, test, split for model to check how well\n",
    "# it performs.\n",
    "\n",
    "# not too many other categories to add, but could do some\n",
    "# engineering/modification of numerical columns to adjust\n",
    "# for outliers\n",
    "\n",
    "# then establish recommendations for renovations."
   ]
  },
  {
   "cell_type": "code",
   "execution_count": 106,
   "metadata": {
    "ExecuteTime": {
     "end_time": "2022-02-22T16:19:12.191983Z",
     "start_time": "2022-02-22T16:19:11.547681Z"
    },
    "scrolled": false
   },
   "outputs": [
    {
     "ename": "NameError",
     "evalue": "name 'view_df' is not defined",
     "output_type": "error",
     "traceback": [
      "\u001b[0;31m---------------------------------------------------------------------------\u001b[0m",
      "\u001b[0;31mNameError\u001b[0m                                 Traceback (most recent call last)",
      "\u001b[0;32m<ipython-input-106-fab0e745304b>\u001b[0m in \u001b[0;36m<module>\u001b[0;34m\u001b[0m\n\u001b[0;32m----> 1\u001b[0;31m \u001b[0mview_df\u001b[0m\u001b[0;34m.\u001b[0m\u001b[0mvalue_counts\u001b[0m\u001b[0;34m(\u001b[0m\u001b[0mdropna\u001b[0m\u001b[0;34m=\u001b[0m\u001b[0;32mFalse\u001b[0m\u001b[0;34m)\u001b[0m\u001b[0;34m\u001b[0m\u001b[0;34m\u001b[0m\u001b[0m\n\u001b[0m",
      "\u001b[0;31mNameError\u001b[0m: name 'view_df' is not defined"
     ]
    }
   ],
   "source": [
    "view_df.value_counts(dropna=False)"
   ]
  },
  {
   "cell_type": "code",
   "execution_count": null,
   "metadata": {
    "ExecuteTime": {
     "end_time": "2022-02-22T16:19:12.197483Z",
     "start_time": "2022-02-22T16:19:01.305Z"
    }
   },
   "outputs": [],
   "source": [
    "# failing to drop nan values from categoricals['view']\n",
    "# categoricals.dropna(subset=['view'], inplace=True)"
   ]
  },
  {
   "cell_type": "code",
   "execution_count": null,
   "metadata": {
    "ExecuteTime": {
     "end_time": "2022-02-22T16:19:12.200874Z",
     "start_time": "2022-02-22T16:19:01.309Z"
    }
   },
   "outputs": [],
   "source": [
    "# Trying to use default dict to replace values \n",
    "\n",
    "# import collections\n",
    "# d = collections.defaultdict(lambda:0)\n",
    "# d[\"NONE\"] = 0\n",
    "# d[\"AVERAGE\"] = 1\n",
    "# d[\"GOOD\"] = 2\n",
    "# d[\"FAIR\"] = 3\n",
    "# d[\"EXCELLENT\"] = 4\n",
    "\n",
    "# print(d[\"NONE\"])"
   ]
  },
  {
   "cell_type": "code",
   "execution_count": null,
   "metadata": {
    "ExecuteTime": {
     "end_time": "2022-02-22T16:19:12.202731Z",
     "start_time": "2022-02-22T16:19:01.315Z"
    }
   },
   "outputs": [],
   "source": [
    "view_df.replace(to_replace =\"NONE\", \n",
    "\n",
    "view_df.replace(to_replace =[\"NONE\"], value =\"0\")"
   ]
  },
  {
   "cell_type": "code",
   "execution_count": null,
   "metadata": {
    "ExecuteTime": {
     "end_time": "2022-02-22T16:19:12.205941Z",
     "start_time": "2022-02-22T16:19:01.321Z"
    }
   },
   "outputs": [],
   "source": [
    "view_df = categoricals['view'].astype('str')\n",
    "\n",
    "view_df.replace({\"NONE\": \"0\", \n",
    "                            \"AVERAGE\": 1,\n",
    "                            \"GOOD\": 2, \n",
    "                            \"FAIR\": 3, \n",
    "                            \"EXCELLENT\": 4})\n",
    "\n",
    "view_df.value_counts(dropna=False)"
   ]
  },
  {
   "cell_type": "code",
   "execution_count": null,
   "metadata": {
    "ExecuteTime": {
     "end_time": "2022-02-22T16:19:12.209762Z",
     "start_time": "2022-02-22T16:19:01.328Z"
    }
   },
   "outputs": [],
   "source": [
    "cat_new.head()"
   ]
  },
  {
   "cell_type": "code",
   "execution_count": null,
   "metadata": {
    "ExecuteTime": {
     "end_time": "2022-02-22T16:19:12.211862Z",
     "start_time": "2022-02-22T16:19:01.334Z"
    }
   },
   "outputs": [],
   "source": [
    "cat_new.to_frame()"
   ]
  },
  {
   "cell_type": "code",
   "execution_count": null,
   "metadata": {
    "ExecuteTime": {
     "end_time": "2022-02-22T16:19:12.214823Z",
     "start_time": "2022-02-22T16:19:01.339Z"
    }
   },
   "outputs": [],
   "source": [
    "categoricals.info()"
   ]
  },
  {
   "cell_type": "code",
   "execution_count": null,
   "metadata": {
    "ExecuteTime": {
     "end_time": "2022-02-22T16:19:12.217310Z",
     "start_time": "2022-02-22T16:19:01.344Z"
    }
   },
   "outputs": [],
   "source": [
    "d_frames = [cat_new, categoricals]\n",
    "\n",
    "# all_cats = pd.concat(d_frames, axis=0, join='outer')\n",
    "categoricals.join(cat_new, lsuffix='grade', rsuffix='view')\n",
    "\n",
    "all_cats.head()"
   ]
  },
  {
   "cell_type": "code",
   "execution_count": null,
   "metadata": {
    "ExecuteTime": {
     "end_time": "2022-02-22T16:19:12.219400Z",
     "start_time": "2022-02-22T16:19:01.348Z"
    }
   },
   "outputs": [],
   "source": [
    "all_cats.shape"
   ]
  },
  {
   "cell_type": "code",
   "execution_count": null,
   "metadata": {
    "ExecuteTime": {
     "end_time": "2022-02-22T16:19:12.221292Z",
     "start_time": "2022-02-22T16:19:01.354Z"
    }
   },
   "outputs": [],
   "source": [
    "categoricals.head()"
   ]
  },
  {
   "cell_type": "code",
   "execution_count": null,
   "metadata": {
    "ExecuteTime": {
     "end_time": "2022-02-22T16:19:12.223686Z",
     "start_time": "2022-02-22T16:19:01.359Z"
    }
   },
   "outputs": [],
   "source": [
    "le = LabelEncoder()\n",
    "\n",
    "cat_view = categoricals['view'].astype('str')\n",
    "\n",
    "le.fit(cat_view)\n",
    "le.transform(cat_view)\n"
   ]
  },
  {
   "cell_type": "code",
   "execution_count": null,
   "metadata": {
    "ExecuteTime": {
     "end_time": "2022-02-22T16:19:12.225582Z",
     "start_time": "2022-02-22T16:19:01.367Z"
    }
   },
   "outputs": [],
   "source": [
    "# Remove nan values from cat_view\n",
    "cat_view.dropna()\n",
    "cat_view.value_counts()"
   ]
  },
  {
   "cell_type": "code",
   "execution_count": null,
   "metadata": {
    "ExecuteTime": {
     "end_time": "2022-02-22T16:19:12.227627Z",
     "start_time": "2022-02-22T16:19:01.373Z"
    }
   },
   "outputs": [],
   "source": [
    "# Encode view categories to numericals\n",
    "view_encoded = lb_make.fit_transform(cat_view)\n",
    "\n",
    "view_encoded"
   ]
  },
  {
   "cell_type": "code",
   "execution_count": null,
   "metadata": {
    "ExecuteTime": {
     "end_time": "2022-02-22T16:19:12.229957Z",
     "start_time": "2022-02-22T16:19:01.378Z"
    }
   },
   "outputs": [],
   "source": [
    "cat_view.value_counts()"
   ]
  },
  {
   "cell_type": "code",
   "execution_count": null,
   "metadata": {
    "ExecuteTime": {
     "end_time": "2022-02-22T16:19:12.232092Z",
     "start_time": "2022-02-22T16:19:01.384Z"
    }
   },
   "outputs": [],
   "source": [
    "view_df = pd.DataFrame(view_encoded)\n",
    "view_df.value_counts()"
   ]
  },
  {
   "cell_type": "code",
   "execution_count": null,
   "metadata": {},
   "outputs": [],
   "source": []
  }
 ],
 "metadata": {
  "kernelspec": {
   "display_name": "Python 3",
   "language": "python",
   "name": "python3"
  },
  "language_info": {
   "codemirror_mode": {
    "name": "ipython",
    "version": 3
   },
   "file_extension": ".py",
   "mimetype": "text/x-python",
   "name": "python",
   "nbconvert_exporter": "python",
   "pygments_lexer": "ipython3",
   "version": "3.8.5"
  },
  "toc": {
   "base_numbering": 1,
   "nav_menu": {},
   "number_sections": true,
   "sideBar": true,
   "skip_h1_title": false,
   "title_cell": "Table of Contents",
   "title_sidebar": "Contents",
   "toc_cell": false,
   "toc_position": {
    "height": "447.273px",
    "left": "771.077px",
    "top": "471.051px",
    "width": "250px"
   },
   "toc_section_display": true,
   "toc_window_display": true
  }
 },
 "nbformat": 4,
 "nbformat_minor": 2
}
