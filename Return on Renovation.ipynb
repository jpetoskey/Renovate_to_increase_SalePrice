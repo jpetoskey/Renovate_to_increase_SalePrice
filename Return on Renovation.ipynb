{
 "cells": [
  {
   "cell_type": "markdown",
   "metadata": {},
   "source": [
    "## Final Project Submission\n",
    "\n",
    "* Student name: Jim Petoskey\n",
    "* Student pace: Self-paced\n",
    "* Scheduled project review date/time: Friday Feb 25, 2022 at 10:30 am \n",
    "* Instructor name: Abhineet Kulkarni\n",
    "* Blog post URL: \n",
    "https://dev.to/jpetoskey/reap-return-on-home-remodel-35cm-temp-slug-7110869?preview=cfd57ff75f52f8f97d40012dae0383603926d95f772a119bd16af2d7e9d72c0486b48924df00a9b5660517361d1743d09317533548b17445419b7136\n"
   ]
  },
  {
   "cell_type": "markdown",
   "metadata": {},
   "source": [
    "# Return on Renovation\n",
    "* For homeowners looking to invest in their property, what renovations offer the best return?\n",
    "    * This project explores a variety of home price predictors to recommend which renovations are likely to increase sale price."
   ]
  },
  {
   "cell_type": "markdown",
   "metadata": {},
   "source": [
    "# Exploring Data"
   ]
  },
  {
   "cell_type": "code",
   "execution_count": 1,
   "metadata": {
    "ExecuteTime": {
     "end_time": "2022-02-25T15:18:52.129238Z",
     "start_time": "2022-02-25T15:18:46.969839Z"
    }
   },
   "outputs": [],
   "source": [
    "# Import standard packages\n",
    "import pandas as pd\n",
    "import numpy as np\n",
    "import matplotlib.pyplot as plt\n",
    "import seaborn as sns\n",
    "import statsmodels.api as sm\n",
    "from statsmodels.stats.outliers_influence import variance_inflation_factor\n",
    "from sklearn.linear_model import LinearRegression\n",
    "from sklearn.feature_selection import RFE\n",
    "from sklearn.preprocessing import PolynomialFeatures, StandardScaler\n",
    "from sklearn.preprocessing import LabelEncoder\n",
    "from sklearn.impute import MissingIndicator\n",
    "from sklearn.impute import SimpleImputer\n",
    "from sklearn.preprocessing import OneHotEncoder\n",
    "from sklearn.preprocessing import OrdinalEncoder\n",
    "from sklearn.model_selection import cross_validate, ShuffleSplit\n",
    "from sklearn.model_selection import train_test_split\n",
    "from sklearn.metrics import mean_squared_error\n",
    "from scipy.stats import zscore\n",
    "import random\n",
    "\n",
    "%matplotlib inline"
   ]
  },
  {
   "cell_type": "code",
   "execution_count": 2,
   "metadata": {
    "ExecuteTime": {
     "end_time": "2022-02-25T15:18:52.289910Z",
     "start_time": "2022-02-25T15:18:52.133084Z"
    }
   },
   "outputs": [],
   "source": [
    "house_df = pd.read_csv('data/kc_house_data.csv')\n",
    "#column_names = pd.read_csv('data/column_names.md')"
   ]
  },
  {
   "cell_type": "markdown",
   "metadata": {},
   "source": [
    "## What's in kc_house_data?"
   ]
  },
  {
   "cell_type": "code",
   "execution_count": 3,
   "metadata": {
    "ExecuteTime": {
     "end_time": "2022-02-25T15:18:52.341192Z",
     "start_time": "2022-02-25T15:18:52.293166Z"
    }
   },
   "outputs": [
    {
     "name": "stdout",
     "output_type": "stream",
     "text": [
      "<class 'pandas.core.frame.DataFrame'>\n",
      "RangeIndex: 21597 entries, 0 to 21596\n",
      "Data columns (total 21 columns):\n",
      " #   Column         Non-Null Count  Dtype  \n",
      "---  ------         --------------  -----  \n",
      " 0   id             21597 non-null  int64  \n",
      " 1   date           21597 non-null  object \n",
      " 2   price          21597 non-null  float64\n",
      " 3   bedrooms       21597 non-null  int64  \n",
      " 4   bathrooms      21597 non-null  float64\n",
      " 5   sqft_living    21597 non-null  int64  \n",
      " 6   sqft_lot       21597 non-null  int64  \n",
      " 7   floors         21597 non-null  float64\n",
      " 8   waterfront     19221 non-null  object \n",
      " 9   view           21534 non-null  object \n",
      " 10  condition      21597 non-null  object \n",
      " 11  grade          21597 non-null  object \n",
      " 12  sqft_above     21597 non-null  int64  \n",
      " 13  sqft_basement  21597 non-null  object \n",
      " 14  yr_built       21597 non-null  int64  \n",
      " 15  yr_renovated   17755 non-null  float64\n",
      " 16  zipcode        21597 non-null  int64  \n",
      " 17  lat            21597 non-null  float64\n",
      " 18  long           21597 non-null  float64\n",
      " 19  sqft_living15  21597 non-null  int64  \n",
      " 20  sqft_lot15     21597 non-null  int64  \n",
      "dtypes: float64(6), int64(9), object(6)\n",
      "memory usage: 3.5+ MB\n"
     ]
    }
   ],
   "source": [
    "house_df.info()"
   ]
  },
  {
   "cell_type": "code",
   "execution_count": 4,
   "metadata": {
    "ExecuteTime": {
     "end_time": "2022-02-25T15:18:52.925139Z",
     "start_time": "2022-02-25T15:18:52.842291Z"
    }
   },
   "outputs": [
    {
     "data": {
      "text/html": [
       "<div>\n",
       "<style scoped>\n",
       "    .dataframe tbody tr th:only-of-type {\n",
       "        vertical-align: middle;\n",
       "    }\n",
       "\n",
       "    .dataframe tbody tr th {\n",
       "        vertical-align: top;\n",
       "    }\n",
       "\n",
       "    .dataframe thead th {\n",
       "        text-align: right;\n",
       "    }\n",
       "</style>\n",
       "<table border=\"1\" class=\"dataframe\">\n",
       "  <thead>\n",
       "    <tr style=\"text-align: right;\">\n",
       "      <th></th>\n",
       "      <th>id</th>\n",
       "      <th>date</th>\n",
       "      <th>price</th>\n",
       "      <th>bedrooms</th>\n",
       "      <th>bathrooms</th>\n",
       "      <th>sqft_living</th>\n",
       "      <th>sqft_lot</th>\n",
       "      <th>floors</th>\n",
       "      <th>waterfront</th>\n",
       "      <th>view</th>\n",
       "      <th>...</th>\n",
       "      <th>grade</th>\n",
       "      <th>sqft_above</th>\n",
       "      <th>sqft_basement</th>\n",
       "      <th>yr_built</th>\n",
       "      <th>yr_renovated</th>\n",
       "      <th>zipcode</th>\n",
       "      <th>lat</th>\n",
       "      <th>long</th>\n",
       "      <th>sqft_living15</th>\n",
       "      <th>sqft_lot15</th>\n",
       "    </tr>\n",
       "  </thead>\n",
       "  <tbody>\n",
       "    <tr>\n",
       "      <th>0</th>\n",
       "      <td>7129300520</td>\n",
       "      <td>10/13/2014</td>\n",
       "      <td>221900.0</td>\n",
       "      <td>3</td>\n",
       "      <td>1.00</td>\n",
       "      <td>1180</td>\n",
       "      <td>5650</td>\n",
       "      <td>1.0</td>\n",
       "      <td>NaN</td>\n",
       "      <td>NONE</td>\n",
       "      <td>...</td>\n",
       "      <td>7 Average</td>\n",
       "      <td>1180</td>\n",
       "      <td>0.0</td>\n",
       "      <td>1955</td>\n",
       "      <td>0.0</td>\n",
       "      <td>98178</td>\n",
       "      <td>47.5112</td>\n",
       "      <td>-122.257</td>\n",
       "      <td>1340</td>\n",
       "      <td>5650</td>\n",
       "    </tr>\n",
       "    <tr>\n",
       "      <th>1</th>\n",
       "      <td>6414100192</td>\n",
       "      <td>12/9/2014</td>\n",
       "      <td>538000.0</td>\n",
       "      <td>3</td>\n",
       "      <td>2.25</td>\n",
       "      <td>2570</td>\n",
       "      <td>7242</td>\n",
       "      <td>2.0</td>\n",
       "      <td>NO</td>\n",
       "      <td>NONE</td>\n",
       "      <td>...</td>\n",
       "      <td>7 Average</td>\n",
       "      <td>2170</td>\n",
       "      <td>400.0</td>\n",
       "      <td>1951</td>\n",
       "      <td>1991.0</td>\n",
       "      <td>98125</td>\n",
       "      <td>47.7210</td>\n",
       "      <td>-122.319</td>\n",
       "      <td>1690</td>\n",
       "      <td>7639</td>\n",
       "    </tr>\n",
       "    <tr>\n",
       "      <th>2</th>\n",
       "      <td>5631500400</td>\n",
       "      <td>2/25/2015</td>\n",
       "      <td>180000.0</td>\n",
       "      <td>2</td>\n",
       "      <td>1.00</td>\n",
       "      <td>770</td>\n",
       "      <td>10000</td>\n",
       "      <td>1.0</td>\n",
       "      <td>NO</td>\n",
       "      <td>NONE</td>\n",
       "      <td>...</td>\n",
       "      <td>6 Low Average</td>\n",
       "      <td>770</td>\n",
       "      <td>0.0</td>\n",
       "      <td>1933</td>\n",
       "      <td>NaN</td>\n",
       "      <td>98028</td>\n",
       "      <td>47.7379</td>\n",
       "      <td>-122.233</td>\n",
       "      <td>2720</td>\n",
       "      <td>8062</td>\n",
       "    </tr>\n",
       "    <tr>\n",
       "      <th>3</th>\n",
       "      <td>2487200875</td>\n",
       "      <td>12/9/2014</td>\n",
       "      <td>604000.0</td>\n",
       "      <td>4</td>\n",
       "      <td>3.00</td>\n",
       "      <td>1960</td>\n",
       "      <td>5000</td>\n",
       "      <td>1.0</td>\n",
       "      <td>NO</td>\n",
       "      <td>NONE</td>\n",
       "      <td>...</td>\n",
       "      <td>7 Average</td>\n",
       "      <td>1050</td>\n",
       "      <td>910.0</td>\n",
       "      <td>1965</td>\n",
       "      <td>0.0</td>\n",
       "      <td>98136</td>\n",
       "      <td>47.5208</td>\n",
       "      <td>-122.393</td>\n",
       "      <td>1360</td>\n",
       "      <td>5000</td>\n",
       "    </tr>\n",
       "    <tr>\n",
       "      <th>4</th>\n",
       "      <td>1954400510</td>\n",
       "      <td>2/18/2015</td>\n",
       "      <td>510000.0</td>\n",
       "      <td>3</td>\n",
       "      <td>2.00</td>\n",
       "      <td>1680</td>\n",
       "      <td>8080</td>\n",
       "      <td>1.0</td>\n",
       "      <td>NO</td>\n",
       "      <td>NONE</td>\n",
       "      <td>...</td>\n",
       "      <td>8 Good</td>\n",
       "      <td>1680</td>\n",
       "      <td>0.0</td>\n",
       "      <td>1987</td>\n",
       "      <td>0.0</td>\n",
       "      <td>98074</td>\n",
       "      <td>47.6168</td>\n",
       "      <td>-122.045</td>\n",
       "      <td>1800</td>\n",
       "      <td>7503</td>\n",
       "    </tr>\n",
       "    <tr>\n",
       "      <th>...</th>\n",
       "      <td>...</td>\n",
       "      <td>...</td>\n",
       "      <td>...</td>\n",
       "      <td>...</td>\n",
       "      <td>...</td>\n",
       "      <td>...</td>\n",
       "      <td>...</td>\n",
       "      <td>...</td>\n",
       "      <td>...</td>\n",
       "      <td>...</td>\n",
       "      <td>...</td>\n",
       "      <td>...</td>\n",
       "      <td>...</td>\n",
       "      <td>...</td>\n",
       "      <td>...</td>\n",
       "      <td>...</td>\n",
       "      <td>...</td>\n",
       "      <td>...</td>\n",
       "      <td>...</td>\n",
       "      <td>...</td>\n",
       "      <td>...</td>\n",
       "    </tr>\n",
       "    <tr>\n",
       "      <th>21592</th>\n",
       "      <td>263000018</td>\n",
       "      <td>5/21/2014</td>\n",
       "      <td>360000.0</td>\n",
       "      <td>3</td>\n",
       "      <td>2.50</td>\n",
       "      <td>1530</td>\n",
       "      <td>1131</td>\n",
       "      <td>3.0</td>\n",
       "      <td>NO</td>\n",
       "      <td>NONE</td>\n",
       "      <td>...</td>\n",
       "      <td>8 Good</td>\n",
       "      <td>1530</td>\n",
       "      <td>0.0</td>\n",
       "      <td>2009</td>\n",
       "      <td>0.0</td>\n",
       "      <td>98103</td>\n",
       "      <td>47.6993</td>\n",
       "      <td>-122.346</td>\n",
       "      <td>1530</td>\n",
       "      <td>1509</td>\n",
       "    </tr>\n",
       "    <tr>\n",
       "      <th>21593</th>\n",
       "      <td>6600060120</td>\n",
       "      <td>2/23/2015</td>\n",
       "      <td>400000.0</td>\n",
       "      <td>4</td>\n",
       "      <td>2.50</td>\n",
       "      <td>2310</td>\n",
       "      <td>5813</td>\n",
       "      <td>2.0</td>\n",
       "      <td>NO</td>\n",
       "      <td>NONE</td>\n",
       "      <td>...</td>\n",
       "      <td>8 Good</td>\n",
       "      <td>2310</td>\n",
       "      <td>0.0</td>\n",
       "      <td>2014</td>\n",
       "      <td>0.0</td>\n",
       "      <td>98146</td>\n",
       "      <td>47.5107</td>\n",
       "      <td>-122.362</td>\n",
       "      <td>1830</td>\n",
       "      <td>7200</td>\n",
       "    </tr>\n",
       "    <tr>\n",
       "      <th>21594</th>\n",
       "      <td>1523300141</td>\n",
       "      <td>6/23/2014</td>\n",
       "      <td>402101.0</td>\n",
       "      <td>2</td>\n",
       "      <td>0.75</td>\n",
       "      <td>1020</td>\n",
       "      <td>1350</td>\n",
       "      <td>2.0</td>\n",
       "      <td>NO</td>\n",
       "      <td>NONE</td>\n",
       "      <td>...</td>\n",
       "      <td>7 Average</td>\n",
       "      <td>1020</td>\n",
       "      <td>0.0</td>\n",
       "      <td>2009</td>\n",
       "      <td>0.0</td>\n",
       "      <td>98144</td>\n",
       "      <td>47.5944</td>\n",
       "      <td>-122.299</td>\n",
       "      <td>1020</td>\n",
       "      <td>2007</td>\n",
       "    </tr>\n",
       "    <tr>\n",
       "      <th>21595</th>\n",
       "      <td>291310100</td>\n",
       "      <td>1/16/2015</td>\n",
       "      <td>400000.0</td>\n",
       "      <td>3</td>\n",
       "      <td>2.50</td>\n",
       "      <td>1600</td>\n",
       "      <td>2388</td>\n",
       "      <td>2.0</td>\n",
       "      <td>NaN</td>\n",
       "      <td>NONE</td>\n",
       "      <td>...</td>\n",
       "      <td>8 Good</td>\n",
       "      <td>1600</td>\n",
       "      <td>0.0</td>\n",
       "      <td>2004</td>\n",
       "      <td>0.0</td>\n",
       "      <td>98027</td>\n",
       "      <td>47.5345</td>\n",
       "      <td>-122.069</td>\n",
       "      <td>1410</td>\n",
       "      <td>1287</td>\n",
       "    </tr>\n",
       "    <tr>\n",
       "      <th>21596</th>\n",
       "      <td>1523300157</td>\n",
       "      <td>10/15/2014</td>\n",
       "      <td>325000.0</td>\n",
       "      <td>2</td>\n",
       "      <td>0.75</td>\n",
       "      <td>1020</td>\n",
       "      <td>1076</td>\n",
       "      <td>2.0</td>\n",
       "      <td>NO</td>\n",
       "      <td>NONE</td>\n",
       "      <td>...</td>\n",
       "      <td>7 Average</td>\n",
       "      <td>1020</td>\n",
       "      <td>0.0</td>\n",
       "      <td>2008</td>\n",
       "      <td>0.0</td>\n",
       "      <td>98144</td>\n",
       "      <td>47.5941</td>\n",
       "      <td>-122.299</td>\n",
       "      <td>1020</td>\n",
       "      <td>1357</td>\n",
       "    </tr>\n",
       "  </tbody>\n",
       "</table>\n",
       "<p>21597 rows × 21 columns</p>\n",
       "</div>"
      ],
      "text/plain": [
       "               id        date     price  bedrooms  bathrooms  sqft_living  \\\n",
       "0      7129300520  10/13/2014  221900.0         3       1.00         1180   \n",
       "1      6414100192   12/9/2014  538000.0         3       2.25         2570   \n",
       "2      5631500400   2/25/2015  180000.0         2       1.00          770   \n",
       "3      2487200875   12/9/2014  604000.0         4       3.00         1960   \n",
       "4      1954400510   2/18/2015  510000.0         3       2.00         1680   \n",
       "...           ...         ...       ...       ...        ...          ...   \n",
       "21592   263000018   5/21/2014  360000.0         3       2.50         1530   \n",
       "21593  6600060120   2/23/2015  400000.0         4       2.50         2310   \n",
       "21594  1523300141   6/23/2014  402101.0         2       0.75         1020   \n",
       "21595   291310100   1/16/2015  400000.0         3       2.50         1600   \n",
       "21596  1523300157  10/15/2014  325000.0         2       0.75         1020   \n",
       "\n",
       "       sqft_lot  floors waterfront  view  ...          grade sqft_above  \\\n",
       "0          5650     1.0        NaN  NONE  ...      7 Average       1180   \n",
       "1          7242     2.0         NO  NONE  ...      7 Average       2170   \n",
       "2         10000     1.0         NO  NONE  ...  6 Low Average        770   \n",
       "3          5000     1.0         NO  NONE  ...      7 Average       1050   \n",
       "4          8080     1.0         NO  NONE  ...         8 Good       1680   \n",
       "...         ...     ...        ...   ...  ...            ...        ...   \n",
       "21592      1131     3.0         NO  NONE  ...         8 Good       1530   \n",
       "21593      5813     2.0         NO  NONE  ...         8 Good       2310   \n",
       "21594      1350     2.0         NO  NONE  ...      7 Average       1020   \n",
       "21595      2388     2.0        NaN  NONE  ...         8 Good       1600   \n",
       "21596      1076     2.0         NO  NONE  ...      7 Average       1020   \n",
       "\n",
       "       sqft_basement yr_built  yr_renovated  zipcode      lat     long  \\\n",
       "0                0.0     1955           0.0    98178  47.5112 -122.257   \n",
       "1              400.0     1951        1991.0    98125  47.7210 -122.319   \n",
       "2                0.0     1933           NaN    98028  47.7379 -122.233   \n",
       "3              910.0     1965           0.0    98136  47.5208 -122.393   \n",
       "4                0.0     1987           0.0    98074  47.6168 -122.045   \n",
       "...              ...      ...           ...      ...      ...      ...   \n",
       "21592            0.0     2009           0.0    98103  47.6993 -122.346   \n",
       "21593            0.0     2014           0.0    98146  47.5107 -122.362   \n",
       "21594            0.0     2009           0.0    98144  47.5944 -122.299   \n",
       "21595            0.0     2004           0.0    98027  47.5345 -122.069   \n",
       "21596            0.0     2008           0.0    98144  47.5941 -122.299   \n",
       "\n",
       "       sqft_living15  sqft_lot15  \n",
       "0               1340        5650  \n",
       "1               1690        7639  \n",
       "2               2720        8062  \n",
       "3               1360        5000  \n",
       "4               1800        7503  \n",
       "...              ...         ...  \n",
       "21592           1530        1509  \n",
       "21593           1830        7200  \n",
       "21594           1020        2007  \n",
       "21595           1410        1287  \n",
       "21596           1020        1357  \n",
       "\n",
       "[21597 rows x 21 columns]"
      ]
     },
     "execution_count": 4,
     "metadata": {},
     "output_type": "execute_result"
    }
   ],
   "source": [
    "house_df"
   ]
  },
  {
   "cell_type": "markdown",
   "metadata": {},
   "source": [
    "# First Model - Baseline"
   ]
  },
  {
   "cell_type": "markdown",
   "metadata": {},
   "source": [
    "## Use 3-4 predictors from numerical data in the King County Housing data set to create baseline model."
   ]
  },
  {
   "cell_type": "code",
   "execution_count": 5,
   "metadata": {
    "ExecuteTime": {
     "end_time": "2022-02-25T15:18:54.906539Z",
     "start_time": "2022-02-25T15:18:54.875930Z"
    }
   },
   "outputs": [
    {
     "data": {
      "text/html": [
       "<div>\n",
       "<style scoped>\n",
       "    .dataframe tbody tr th:only-of-type {\n",
       "        vertical-align: middle;\n",
       "    }\n",
       "\n",
       "    .dataframe tbody tr th {\n",
       "        vertical-align: top;\n",
       "    }\n",
       "\n",
       "    .dataframe thead th {\n",
       "        text-align: right;\n",
       "    }\n",
       "</style>\n",
       "<table border=\"1\" class=\"dataframe\">\n",
       "  <thead>\n",
       "    <tr style=\"text-align: right;\">\n",
       "      <th></th>\n",
       "      <th>bedrooms</th>\n",
       "      <th>bathrooms</th>\n",
       "      <th>sqft_living</th>\n",
       "      <th>sqft_lot</th>\n",
       "      <th>floors</th>\n",
       "      <th>sqft_above</th>\n",
       "      <th>yr_built</th>\n",
       "      <th>yr_renovated</th>\n",
       "      <th>zipcode</th>\n",
       "      <th>sqft_living15</th>\n",
       "      <th>sqft_lot15</th>\n",
       "    </tr>\n",
       "  </thead>\n",
       "  <tbody>\n",
       "    <tr>\n",
       "      <th>0</th>\n",
       "      <td>3</td>\n",
       "      <td>1.00</td>\n",
       "      <td>1180</td>\n",
       "      <td>5650</td>\n",
       "      <td>1.0</td>\n",
       "      <td>1180</td>\n",
       "      <td>1955</td>\n",
       "      <td>0.0</td>\n",
       "      <td>98178</td>\n",
       "      <td>1340</td>\n",
       "      <td>5650</td>\n",
       "    </tr>\n",
       "    <tr>\n",
       "      <th>1</th>\n",
       "      <td>3</td>\n",
       "      <td>2.25</td>\n",
       "      <td>2570</td>\n",
       "      <td>7242</td>\n",
       "      <td>2.0</td>\n",
       "      <td>2170</td>\n",
       "      <td>1951</td>\n",
       "      <td>1991.0</td>\n",
       "      <td>98125</td>\n",
       "      <td>1690</td>\n",
       "      <td>7639</td>\n",
       "    </tr>\n",
       "    <tr>\n",
       "      <th>2</th>\n",
       "      <td>2</td>\n",
       "      <td>1.00</td>\n",
       "      <td>770</td>\n",
       "      <td>10000</td>\n",
       "      <td>1.0</td>\n",
       "      <td>770</td>\n",
       "      <td>1933</td>\n",
       "      <td>NaN</td>\n",
       "      <td>98028</td>\n",
       "      <td>2720</td>\n",
       "      <td>8062</td>\n",
       "    </tr>\n",
       "    <tr>\n",
       "      <th>3</th>\n",
       "      <td>4</td>\n",
       "      <td>3.00</td>\n",
       "      <td>1960</td>\n",
       "      <td>5000</td>\n",
       "      <td>1.0</td>\n",
       "      <td>1050</td>\n",
       "      <td>1965</td>\n",
       "      <td>0.0</td>\n",
       "      <td>98136</td>\n",
       "      <td>1360</td>\n",
       "      <td>5000</td>\n",
       "    </tr>\n",
       "    <tr>\n",
       "      <th>4</th>\n",
       "      <td>3</td>\n",
       "      <td>2.00</td>\n",
       "      <td>1680</td>\n",
       "      <td>8080</td>\n",
       "      <td>1.0</td>\n",
       "      <td>1680</td>\n",
       "      <td>1987</td>\n",
       "      <td>0.0</td>\n",
       "      <td>98074</td>\n",
       "      <td>1800</td>\n",
       "      <td>7503</td>\n",
       "    </tr>\n",
       "  </tbody>\n",
       "</table>\n",
       "</div>"
      ],
      "text/plain": [
       "   bedrooms  bathrooms  sqft_living  sqft_lot  floors  sqft_above  yr_built  \\\n",
       "0         3       1.00         1180      5650     1.0        1180      1955   \n",
       "1         3       2.25         2570      7242     2.0        2170      1951   \n",
       "2         2       1.00          770     10000     1.0         770      1933   \n",
       "3         4       3.00         1960      5000     1.0        1050      1965   \n",
       "4         3       2.00         1680      8080     1.0        1680      1987   \n",
       "\n",
       "   yr_renovated  zipcode  sqft_living15  sqft_lot15  \n",
       "0           0.0    98178           1340        5650  \n",
       "1        1991.0    98125           1690        7639  \n",
       "2           NaN    98028           2720        8062  \n",
       "3           0.0    98136           1360        5000  \n",
       "4           0.0    98074           1800        7503  "
      ]
     },
     "execution_count": 5,
     "metadata": {},
     "output_type": "execute_result"
    }
   ],
   "source": [
    "# set numerical data in new data frame\n",
    "numericals = house_df[['bedrooms', \n",
    "                       'bathrooms', \n",
    "                       'sqft_living', \n",
    "                       'sqft_lot', \n",
    "                       'floors',\n",
    "                       'sqft_above',\n",
    "                       'yr_built',\n",
    "                       'yr_renovated',\n",
    "                       'zipcode', \n",
    "                       'sqft_living15', \n",
    "                       'sqft_lot15']]\n",
    "\n",
    "# set target column\n",
    "y = house_df['price']\n",
    "\n",
    "numericals.head()"
   ]
  },
  {
   "cell_type": "code",
   "execution_count": 6,
   "metadata": {
    "ExecuteTime": {
     "end_time": "2022-02-25T15:18:57.343138Z",
     "start_time": "2022-02-25T15:18:56.269297Z"
    }
   },
   "outputs": [
    {
     "data": {
      "image/png": "[encoded data removed]",
      "text/plain": [
       "<Figure size 360x576 with 2 Axes>"
      ]
     },
     "metadata": {
      "needs_background": "light"
     },
     "output_type": "display_data"
    }
   ],
   "source": [
    "# Create a df with the target as the first column,\n",
    "# then compute the correlation matrix\n",
    "heatmap_data = pd.concat([numericals, y], axis=1)\n",
    "corr = heatmap_data.corr()\n",
    "\n",
    "# Set up figure and axes\n",
    "fig, ax = plt.subplots(figsize=(5, 8))\n",
    "\n",
    "# Plot a heatmap of the correlation matrix, with both\n",
    "# numbers and colors indicating the correlations\n",
    "sns.heatmap(\n",
    "    # Specifies the data to be plotted\n",
    "    data=corr,\n",
    "    # The mask means we only show half the values,\n",
    "    # instead of showing duplicates. It's optional.\n",
    "    mask=np.triu(np.ones_like(corr, dtype=bool)),\n",
    "    # Specifies that we should use the existing axes\n",
    "    ax=ax,\n",
    "    # Specifies that we want labels, not just colors\n",
    "    annot=True,\n",
    "    # Customizes colorbar appearance\n",
    "    cbar_kws={\"label\": \"Correlation\", \"orientation\": \"horizontal\", \"pad\": .2, \"extend\": \"both\"}\n",
    ")\n",
    "\n",
    "# Customize the plot appearance\n",
    "ax.set_title(\"Heatmap of Correlation Between Attributes (Including Target)\");"
   ]
  },
  {
   "cell_type": "markdown",
   "metadata": {},
   "source": [
    "### Build a model with the top three numerical values, then I will examine and likely add-in categoricals after one-hot-encoding the non-numericals.\n",
    "\n",
    "* The top three predictors are: sqft_living, (dropping sqft_above and sqft_living15 - see explanation below), bathrooms, and bedrooms.\n",
    "\n",
    "* I will drop two of the three sqft_living, sqft_living15, and sqft_above because they  exhibit strong correlation to each other and likely strong multicollinearity.  Considering sqft_living has a stronger correlation to price, which is our target, I will drop sqft_living15 and sqft_above."
   ]
  },
  {
   "cell_type": "code",
   "execution_count": 7,
   "metadata": {
    "ExecuteTime": {
     "end_time": "2022-02-25T15:19:01.400520Z",
     "start_time": "2022-02-25T15:18:58.512150Z"
    }
   },
   "outputs": [
    {
     "data": {
      "image/png": "[encoded data removed]",
      "text/plain": [
       "<Figure size 576x576 with 4 Axes>"
      ]
     },
     "metadata": {
      "needs_background": "light"
     },
     "output_type": "display_data"
    }
   ],
   "source": [
    "# Set top three numerical values\n",
    "t3_numericals = house_df[['sqft_living', 'bathrooms', 'bedrooms', 'price']]\n",
    "\n",
    "# Look at histograms for patterns\n",
    "t3_numericals.hist(figsize = [8, 8], bins='auto');"
   ]
  },
  {
   "cell_type": "markdown",
   "metadata": {},
   "source": [
    "### Log Tranformations\n",
    "* Remove outliers later - especially in the bedrooms and sqft_living categories."
   ]
  },
  {
   "cell_type": "code",
   "execution_count": 8,
   "metadata": {
    "ExecuteTime": {
     "end_time": "2022-02-25T15:19:03.138293Z",
     "start_time": "2022-02-25T15:19:01.406995Z"
    }
   },
   "outputs": [
    {
     "data": {
      "image/png": "[encoded data removed]",
      "text/plain": [
       "<Figure size 720x720 with 4 Axes>"
      ]
     },
     "metadata": {
      "needs_background": "light"
     },
     "output_type": "display_data"
    }
   ],
   "source": [
    "# Perform log transformations for t3_numericals \n",
    "\n",
    "log_names = [f'{column}_log' for column in t3_numericals.columns]\n",
    "\n",
    "house_log = np.log(t3_numericals)\n",
    "house_log.columns = log_names\n",
    "house_log.hist(figsize=(10, 10), bins='auto')\n",
    "fig.tight_layout();"
   ]
  },
  {
   "cell_type": "markdown",
   "metadata": {},
   "source": [
    "### Normalization\n",
    "* Skewness from outliers reduced with the log function performed."
   ]
  },
  {
   "cell_type": "code",
   "execution_count": 9,
   "metadata": {
    "ExecuteTime": {
     "end_time": "2022-02-25T15:19:05.301551Z",
     "start_time": "2022-02-25T15:19:04.569706Z"
    }
   },
   "outputs": [
    {
     "data": {
      "image/png": "[encoded data removed]",
      "text/plain": [
       "<Figure size 576x576 with 4 Axes>"
      ]
     },
     "metadata": {
      "needs_background": "light"
     },
     "output_type": "display_data"
    }
   ],
   "source": [
    "# Standardize the log features\n",
    "\n",
    "def normalize(feature):\n",
    "    return (feature - feature.mean()) / feature.std()\n",
    "\n",
    "features_final = house_log.apply(normalize)\n",
    "\n",
    "features_final.hist(figsize  = [8, 8]);"
   ]
  },
  {
   "cell_type": "code",
   "execution_count": 10,
   "metadata": {
    "ExecuteTime": {
     "end_time": "2022-02-25T15:19:06.038787Z",
     "start_time": "2022-02-25T15:19:06.024882Z"
    }
   },
   "outputs": [
    {
     "data": {
      "text/html": [
       "<div>\n",
       "<style scoped>\n",
       "    .dataframe tbody tr th:only-of-type {\n",
       "        vertical-align: middle;\n",
       "    }\n",
       "\n",
       "    .dataframe tbody tr th {\n",
       "        vertical-align: top;\n",
       "    }\n",
       "\n",
       "    .dataframe thead th {\n",
       "        text-align: right;\n",
       "    }\n",
       "</style>\n",
       "<table border=\"1\" class=\"dataframe\">\n",
       "  <thead>\n",
       "    <tr style=\"text-align: right;\">\n",
       "      <th></th>\n",
       "      <th>sqft_living_log</th>\n",
       "      <th>bathrooms_log</th>\n",
       "      <th>bedrooms_log</th>\n",
       "      <th>price_log</th>\n",
       "    </tr>\n",
       "  </thead>\n",
       "  <tbody>\n",
       "    <tr>\n",
       "      <th>0</th>\n",
       "      <td>-1.125556</td>\n",
       "      <td>-1.726509</td>\n",
       "      <td>-0.279718</td>\n",
       "      <td>-1.401998</td>\n",
       "    </tr>\n",
       "    <tr>\n",
       "      <th>1</th>\n",
       "      <td>0.709446</td>\n",
       "      <td>0.339653</td>\n",
       "      <td>-0.279718</td>\n",
       "      <td>0.279938</td>\n",
       "    </tr>\n",
       "    <tr>\n",
       "      <th>2</th>\n",
       "      <td>-2.131893</td>\n",
       "      <td>-1.726509</td>\n",
       "      <td>-1.711611</td>\n",
       "      <td>-1.799430</td>\n",
       "    </tr>\n",
       "    <tr>\n",
       "      <th>3</th>\n",
       "      <td>0.070674</td>\n",
       "      <td>1.072635</td>\n",
       "      <td>0.736226</td>\n",
       "      <td>0.499698</td>\n",
       "    </tr>\n",
       "    <tr>\n",
       "      <th>4</th>\n",
       "      <td>-0.292725</td>\n",
       "      <td>0.039555</td>\n",
       "      <td>-0.279718</td>\n",
       "      <td>0.178434</td>\n",
       "    </tr>\n",
       "  </tbody>\n",
       "</table>\n",
       "</div>"
      ],
      "text/plain": [
       "   sqft_living_log  bathrooms_log  bedrooms_log  price_log\n",
       "0        -1.125556      -1.726509     -0.279718  -1.401998\n",
       "1         0.709446       0.339653     -0.279718   0.279938\n",
       "2        -2.131893      -1.726509     -1.711611  -1.799430\n",
       "3         0.070674       1.072635      0.736226   0.499698\n",
       "4        -0.292725       0.039555     -0.279718   0.178434"
      ]
     },
     "execution_count": 10,
     "metadata": {},
     "output_type": "execute_result"
    }
   ],
   "source": [
    "features_final.head()"
   ]
  },
  {
   "cell_type": "code",
   "execution_count": 11,
   "metadata": {
    "ExecuteTime": {
     "end_time": "2022-02-25T15:19:06.817523Z",
     "start_time": "2022-02-25T15:19:06.483899Z"
    }
   },
   "outputs": [
    {
     "data": {
      "text/html": [
       "<table class=\"simpletable\">\n",
       "<caption>OLS Regression Results</caption>\n",
       "<tr>\n",
       "  <th>Dep. Variable:</th>        <td>price_log</td>    <th>  R-squared:         </th> <td>   0.471</td> \n",
       "</tr>\n",
       "<tr>\n",
       "  <th>Model:</th>                   <td>OLS</td>       <th>  Adj. R-squared:    </th> <td>   0.471</td> \n",
       "</tr>\n",
       "<tr>\n",
       "  <th>Method:</th>             <td>Least Squares</td>  <th>  F-statistic:       </th> <td>   6414.</td> \n",
       "</tr>\n",
       "<tr>\n",
       "  <th>Date:</th>             <td>Fri, 25 Feb 2022</td> <th>  Prob (F-statistic):</th>  <td>  0.00</td>  \n",
       "</tr>\n",
       "<tr>\n",
       "  <th>Time:</th>                 <td>08:19:06</td>     <th>  Log-Likelihood:    </th> <td> -23764.</td> \n",
       "</tr>\n",
       "<tr>\n",
       "  <th>No. Observations:</th>      <td> 21597</td>      <th>  AIC:               </th> <td>4.754e+04</td>\n",
       "</tr>\n",
       "<tr>\n",
       "  <th>Df Residuals:</th>          <td> 21593</td>      <th>  BIC:               </th> <td>4.757e+04</td>\n",
       "</tr>\n",
       "<tr>\n",
       "  <th>Df Model:</th>              <td>     3</td>      <th>                     </th>     <td> </td>    \n",
       "</tr>\n",
       "<tr>\n",
       "  <th>Covariance Type:</th>      <td>nonrobust</td>    <th>                     </th>     <td> </td>    \n",
       "</tr>\n",
       "</table>\n",
       "<table class=\"simpletable\">\n",
       "<tr>\n",
       "         <td></td>            <th>coef</th>     <th>std err</th>      <th>t</th>      <th>P>|t|</th>  <th>[0.025</th>    <th>0.975]</th>  \n",
       "</tr>\n",
       "<tr>\n",
       "  <th>const</th>           <td> 1.343e-15</td> <td>    0.005</td> <td> 2.71e-13</td> <td> 1.000</td> <td>   -0.010</td> <td>    0.010</td>\n",
       "</tr>\n",
       "<tr>\n",
       "  <th>sqft_living_log</th> <td>    0.7572</td> <td>    0.008</td> <td>   89.141</td> <td> 0.000</td> <td>    0.741</td> <td>    0.774</td>\n",
       "</tr>\n",
       "<tr>\n",
       "  <th>bathrooms_log</th>   <td>    0.0325</td> <td>    0.008</td> <td>    4.244</td> <td> 0.000</td> <td>    0.017</td> <td>    0.047</td>\n",
       "</tr>\n",
       "<tr>\n",
       "  <th>bedrooms_log</th>    <td>   -0.1652</td> <td>    0.007</td> <td>  -25.342</td> <td> 0.000</td> <td>   -0.178</td> <td>   -0.152</td>\n",
       "</tr>\n",
       "</table>\n",
       "<table class=\"simpletable\">\n",
       "<tr>\n",
       "  <th>Omnibus:</th>       <td>104.465</td> <th>  Durbin-Watson:     </th> <td>   1.980</td>\n",
       "</tr>\n",
       "<tr>\n",
       "  <th>Prob(Omnibus):</th> <td> 0.000</td>  <th>  Jarque-Bera (JB):  </th> <td>  99.162</td>\n",
       "</tr>\n",
       "<tr>\n",
       "  <th>Skew:</th>          <td> 0.139</td>  <th>  Prob(JB):          </th> <td>2.93e-22</td>\n",
       "</tr>\n",
       "<tr>\n",
       "  <th>Kurtosis:</th>      <td> 2.820</td>  <th>  Cond. No.          </th> <td>    3.24</td>\n",
       "</tr>\n",
       "</table><br/><br/>Notes:<br/>[1] Standard Errors assume that the covariance matrix of the errors is correctly specified."
      ],
      "text/plain": [
       "<class 'statsmodels.iolib.summary.Summary'>\n",
       "\"\"\"\n",
       "                            OLS Regression Results                            \n",
       "==============================================================================\n",
       "Dep. Variable:              price_log   R-squared:                       0.471\n",
       "Model:                            OLS   Adj. R-squared:                  0.471\n",
       "Method:                 Least Squares   F-statistic:                     6414.\n",
       "Date:                Fri, 25 Feb 2022   Prob (F-statistic):               0.00\n",
       "Time:                        08:19:06   Log-Likelihood:                -23764.\n",
       "No. Observations:               21597   AIC:                         4.754e+04\n",
       "Df Residuals:                   21593   BIC:                         4.757e+04\n",
       "Df Model:                           3                                         \n",
       "Covariance Type:            nonrobust                                         \n",
       "===================================================================================\n",
       "                      coef    std err          t      P>|t|      [0.025      0.975]\n",
       "-----------------------------------------------------------------------------------\n",
       "const            1.343e-15      0.005   2.71e-13      1.000      -0.010       0.010\n",
       "sqft_living_log     0.7572      0.008     89.141      0.000       0.741       0.774\n",
       "bathrooms_log       0.0325      0.008      4.244      0.000       0.017       0.047\n",
       "bedrooms_log       -0.1652      0.007    -25.342      0.000      -0.178      -0.152\n",
       "==============================================================================\n",
       "Omnibus:                      104.465   Durbin-Watson:                   1.980\n",
       "Prob(Omnibus):                  0.000   Jarque-Bera (JB):               99.162\n",
       "Skew:                           0.139   Prob(JB):                     2.93e-22\n",
       "Kurtosis:                       2.820   Cond. No.                         3.24\n",
       "==============================================================================\n",
       "\n",
       "Notes:\n",
       "[1] Standard Errors assume that the covariance matrix of the errors is correctly specified.\n",
       "\"\"\""
      ]
     },
     "execution_count": 11,
     "metadata": {},
     "output_type": "execute_result"
    }
   ],
   "source": [
    "# Model Summary\n",
    "X = features_final.drop(['price_log'], axis=1)\n",
    "y = features_final['price_log']\n",
    "\n",
    "X_int = sm.add_constant(X)\n",
    "model = sm.OLS(y,X_int).fit()\n",
    "model.summary()"
   ]
  },
  {
   "cell_type": "code",
   "execution_count": 12,
   "metadata": {
    "ExecuteTime": {
     "end_time": "2022-02-25T15:19:07.510465Z",
     "start_time": "2022-02-25T15:19:07.502216Z"
    }
   },
   "outputs": [],
   "source": [
    "first_model = features_final"
   ]
  },
  {
   "cell_type": "markdown",
   "metadata": {},
   "source": [
    "## Baseline Model - moderate R-squared value, good p-values, condition number, and identical Adjusted R-squared value.\n",
    "\n",
    "* The R-squared value is not very high, but hopefully it will increase after I modify some of the data and include categorical variables.  This seems like a solid baseline model to work from as the p-values for the predictors fall far below the threshold of 5%, the condition number is low, indicating low multicollinearity, the standard errors are all far lower than the values of the coefficients, and the adjusted R-squared value is identical to the R-squared value, indicating we have a very low bias.\n",
    "\n",
    "* As I alter the model, likely increasing complexity in order to increase the predictive capacity of the model, the adjusted R-squared value will probably not maintain equality or near-equality with the R-squared value."
   ]
  },
  {
   "cell_type": "markdown",
   "metadata": {},
   "source": [
    "## Train, Test, Split - First Model"
   ]
  },
  {
   "cell_type": "code",
   "execution_count": 13,
   "metadata": {
    "ExecuteTime": {
     "end_time": "2022-02-25T15:19:09.249280Z",
     "start_time": "2022-02-25T15:19:09.241149Z"
    }
   },
   "outputs": [],
   "source": [
    "X = first_model.drop('price_log', axis=1)\n",
    "y = first_model['price_log']"
   ]
  },
  {
   "cell_type": "code",
   "execution_count": 14,
   "metadata": {
    "ExecuteTime": {
     "end_time": "2022-02-25T15:19:10.001348Z",
     "start_time": "2022-02-25T15:19:09.988700Z"
    }
   },
   "outputs": [
    {
     "name": "stdout",
     "output_type": "stream",
     "text": [
      "12958 8639 12958 8639\n"
     ]
    }
   ],
   "source": [
    "# Split the data into training and test sets. Changed split size based on \n",
    "# the evaluation of train-test-split size below.  40% test size had a lower\n",
    "# average variance than 25% or 30%.\n",
    "\n",
    "X_train, X_test, y_train, y_test = train_test_split(X,y, test_size=0.4)\n",
    "\n",
    "# A brief preview of tts\n",
    "print(len(X_train), len(X_test), len(y_train), len(y_test))"
   ]
  },
  {
   "cell_type": "code",
   "execution_count": 15,
   "metadata": {
    "ExecuteTime": {
     "end_time": "2022-02-25T15:19:10.682915Z",
     "start_time": "2022-02-25T15:19:10.675626Z"
    }
   },
   "outputs": [],
   "source": [
    "linreg = LinearRegression()"
   ]
  },
  {
   "cell_type": "code",
   "execution_count": 16,
   "metadata": {
    "ExecuteTime": {
     "end_time": "2022-02-25T15:19:11.452340Z",
     "start_time": "2022-02-25T15:19:11.386971Z"
    }
   },
   "outputs": [
    {
     "data": {
      "text/plain": [
       "LinearRegression()"
      ]
     },
     "execution_count": 16,
     "metadata": {},
     "output_type": "execute_result"
    }
   ],
   "source": [
    "# Fit the model to train data\n",
    "linreg.fit(X_train, y_train)\n",
    "\n",
    "LinearRegression(copy_X=True, fit_intercept=True, n_jobs=None, normalize=False)"
   ]
  },
  {
   "cell_type": "code",
   "execution_count": 17,
   "metadata": {
    "ExecuteTime": {
     "end_time": "2022-02-25T15:19:11.968503Z",
     "start_time": "2022-02-25T15:19:11.956579Z"
    }
   },
   "outputs": [],
   "source": [
    "# Calculate predictions on training and test sets\n",
    "y_hat_train = linreg.predict(X_train)\n",
    "y_hat_test = linreg.predict(X_test)"
   ]
  },
  {
   "cell_type": "code",
   "execution_count": 18,
   "metadata": {
    "ExecuteTime": {
     "end_time": "2022-02-25T15:19:12.542630Z",
     "start_time": "2022-02-25T15:19:12.507440Z"
    }
   },
   "outputs": [],
   "source": [
    "# Calculate residuals\n",
    "train_residuals = y_hat_train - y_train\n",
    "test_residuals = y_hat_test - y_test"
   ]
  },
  {
   "cell_type": "code",
   "execution_count": 19,
   "metadata": {
    "ExecuteTime": {
     "end_time": "2022-02-25T15:19:13.077121Z",
     "start_time": "2022-02-25T15:19:13.053778Z"
    }
   },
   "outputs": [
    {
     "name": "stdout",
     "output_type": "stream",
     "text": [
      "Train Mean Squared Error: 0.5350611532465904\n",
      "Test Mean Squared Error: 0.5194420585134035\n"
     ]
    }
   ],
   "source": [
    "# Calculate training and test MSE\n",
    "train_mse = mean_squared_error(y_train, y_hat_train)\n",
    "test_mse = mean_squared_error(y_test, y_hat_test)\n",
    "print('Train Mean Squared Error:', train_mse)\n",
    "print('Test Mean Squared Error:', test_mse)"
   ]
  },
  {
   "cell_type": "markdown",
   "metadata": {},
   "source": [
    "## Evaluate the effect of train-test split size."
   ]
  },
  {
   "cell_type": "code",
   "execution_count": 20,
   "metadata": {
    "ExecuteTime": {
     "end_time": "2022-02-25T15:19:18.250230Z",
     "start_time": "2022-02-25T15:19:15.241506Z"
    },
    "scrolled": false
   },
   "outputs": [
    {
     "data": {
      "text/plain": [
       "<matplotlib.legend.Legend at 0x12bb841c0>"
      ]
     },
     "execution_count": 20,
     "metadata": {},
     "output_type": "execute_result"
    },
    {
     "data": {
      "image/png": "[encoded data removed]",
      "text/plain": [
       "<Figure size 432x288 with 1 Axes>"
      ]
     },
     "metadata": {
      "needs_background": "light"
     },
     "output_type": "display_data"
    }
   ],
   "source": [
    "random.seed(900)\n",
    "\n",
    "train_err = []\n",
    "test_err = []\n",
    "t_sizes = range(5,100,5)\n",
    "for t_size in t_sizes:\n",
    "    temp_train_err = []\n",
    "    temp_test_err = []\n",
    "    for i in range(10):\n",
    "        X_train, X_test, y_train, y_test = train_test_split(X, y, test_size=t_size/100)\n",
    "        linreg.fit(X_train, y_train)\n",
    "        y_hat_train = linreg.predict(X_train)\n",
    "        y_hat_test = linreg.predict(X_test)\n",
    "        temp_train_err.append(mean_squared_error(y_train, y_hat_train))\n",
    "        temp_test_err.append(mean_squared_error(y_test, y_hat_test))\n",
    "    train_err.append(np.mean(temp_train_err))\n",
    "    test_err.append(np.mean(temp_test_err))\n",
    "plt.scatter(t_sizes, train_err, label='Training Error')\n",
    "plt.scatter(t_sizes, test_err, label='Testing Error')\n",
    "plt.legend()"
   ]
  },
  {
   "cell_type": "markdown",
   "metadata": {},
   "source": [
    "# Preprocess Categorical Variables"
   ]
  },
  {
   "cell_type": "markdown",
   "metadata": {},
   "source": [
    "Variable Descriptions for Categorical Variables."
   ]
  },
  {
   "cell_type": "code",
   "execution_count": 21,
   "metadata": {
    "ExecuteTime": {
     "end_time": "2022-02-25T15:19:29.208217Z",
     "start_time": "2022-02-25T15:19:29.200526Z"
    }
   },
   "outputs": [],
   "source": [
    "# create categorical variable data set\n",
    "categoricals = house_df[['waterfront', \n",
    "                         'view', \n",
    "                         'condition', \n",
    "                         'grade'\n",
    "]]\n",
    "\n",
    "preprocessed = categoricals"
   ]
  },
  {
   "cell_type": "markdown",
   "metadata": {},
   "source": [
    "## Dropped columns - id, date, sqft_basement.\n",
    "* I dropped these columns because sqft_living is already incorporated into the model and other sqft categories had strong correlation with each other and would likely cause issues due to multicollinarity."
   ]
  },
  {
   "cell_type": "code",
   "execution_count": 22,
   "metadata": {
    "ExecuteTime": {
     "end_time": "2022-02-25T15:19:30.478646Z",
     "start_time": "2022-02-25T15:19:30.466939Z"
    }
   },
   "outputs": [
    {
     "data": {
      "text/plain": [
       "<bound method NDFrame.describe of       waterfront  view  condition          grade\n",
       "0            NaN  NONE    Average      7 Average\n",
       "1             NO  NONE    Average      7 Average\n",
       "2             NO  NONE    Average  6 Low Average\n",
       "3             NO  NONE  Very Good      7 Average\n",
       "4             NO  NONE    Average         8 Good\n",
       "...          ...   ...        ...            ...\n",
       "21592         NO  NONE    Average         8 Good\n",
       "21593         NO  NONE    Average         8 Good\n",
       "21594         NO  NONE    Average      7 Average\n",
       "21595        NaN  NONE    Average         8 Good\n",
       "21596         NO  NONE    Average      7 Average\n",
       "\n",
       "[21597 rows x 4 columns]>"
      ]
     },
     "execution_count": 22,
     "metadata": {},
     "output_type": "execute_result"
    }
   ],
   "source": [
    "categoricals.describe"
   ]
  },
  {
   "cell_type": "markdown",
   "metadata": {},
   "source": [
    "## Plot categoricals to look for correlation to price."
   ]
  },
  {
   "cell_type": "code",
   "execution_count": 23,
   "metadata": {
    "ExecuteTime": {
     "end_time": "2022-02-25T15:19:32.529038Z",
     "start_time": "2022-02-25T15:19:31.711294Z"
    }
   },
   "outputs": [
    {
     "data": {
      "image/png": "[encoded data removed]",
      "text/plain": [
       "<Figure size 1152x720 with 4 Axes>"
      ]
     },
     "metadata": {
      "needs_background": "light"
     },
     "output_type": "display_data"
    }
   ],
   "source": [
    "fig, axes = plt.subplots(nrows=2, ncols=2, figsize=(16,10), sharey=True)\n",
    "\n",
    "for col, ax in zip(categoricals, axes.flatten()):\n",
    "    (house_df.groupby(col)               # group values together by column of interest\n",
    "         .mean()['price']        # take the mean of the saleprice for each group\n",
    "         .sort_values()              # sort the groups in ascending order\n",
    "         .plot\n",
    "         .bar(ax=ax))                # create a bar graph on the ax\n",
    "    \n",
    "    ax.set_title(col)                # Make the title the name of the column\n",
    "    \n",
    "fig.tight_layout()"
   ]
  },
  {
   "cell_type": "markdown",
   "metadata": {},
   "source": [
    "### Promising Predictors - seem to correlate well with price from a visual inspection."
   ]
  },
  {
   "cell_type": "markdown",
   "metadata": {},
   "source": [
    "## Investigate nan values"
   ]
  },
  {
   "cell_type": "code",
   "execution_count": 24,
   "metadata": {
    "ExecuteTime": {
     "end_time": "2022-02-25T15:19:34.069840Z",
     "start_time": "2022-02-25T15:19:34.058764Z"
    }
   },
   "outputs": [
    {
     "data": {
      "text/plain": [
       "waterfront    2376\n",
       "view            63\n",
       "condition        0\n",
       "grade            0\n",
       "dtype: int64"
      ]
     },
     "execution_count": 24,
     "metadata": {},
     "output_type": "execute_result"
    }
   ],
   "source": [
    "categoricals.isnull().sum()"
   ]
  },
  {
   "cell_type": "code",
   "execution_count": 25,
   "metadata": {
    "ExecuteTime": {
     "end_time": "2022-02-25T15:19:34.777701Z",
     "start_time": "2022-02-25T15:19:34.755570Z"
    },
    "scrolled": true
   },
   "outputs": [
    {
     "data": {
      "text/plain": [
       "NONE         19422\n",
       "AVERAGE        957\n",
       "GOOD           508\n",
       "FAIR           330\n",
       "EXCELLENT      317\n",
       "NaN             63\n",
       "Name: view, dtype: int64"
      ]
     },
     "execution_count": 25,
     "metadata": {},
     "output_type": "execute_result"
    }
   ],
   "source": [
    "# checking for nan values from categoricals['view']\n",
    "categoricals['view'].value_counts(dropna=False)"
   ]
  },
  {
   "cell_type": "code",
   "execution_count": 26,
   "metadata": {
    "ExecuteTime": {
     "end_time": "2022-02-25T15:19:35.363666Z",
     "start_time": "2022-02-25T15:19:35.357742Z"
    }
   },
   "outputs": [],
   "source": [
    "# drops the whole row - removing some important data from other categories\n",
    "# categoricals.dropna(subset=['waterfront'], inplace=True)"
   ]
  },
  {
   "cell_type": "code",
   "execution_count": 27,
   "metadata": {
    "ExecuteTime": {
     "end_time": "2022-02-25T15:19:36.163598Z",
     "start_time": "2022-02-25T15:19:36.145490Z"
    }
   },
   "outputs": [
    {
     "data": {
      "text/plain": [
       "waterfront    2376\n",
       "view            63\n",
       "condition        0\n",
       "grade            0\n",
       "dtype: int64"
      ]
     },
     "execution_count": 27,
     "metadata": {},
     "output_type": "execute_result"
    }
   ],
   "source": [
    "categoricals.isnull().sum()"
   ]
  },
  {
   "cell_type": "markdown",
   "metadata": {},
   "source": [
    "### Investigate nan values - waterfront"
   ]
  },
  {
   "cell_type": "code",
   "execution_count": 28,
   "metadata": {
    "ExecuteTime": {
     "end_time": "2022-02-25T15:19:37.388097Z",
     "start_time": "2022-02-25T15:19:37.373470Z"
    }
   },
   "outputs": [
    {
     "data": {
      "text/plain": [
       "NO     19075\n",
       "NaN     2376\n",
       "YES      146\n",
       "Name: waterfront, dtype: int64"
      ]
     },
     "execution_count": 28,
     "metadata": {},
     "output_type": "execute_result"
    }
   ],
   "source": [
    "categoricals['waterfront'].value_counts(dropna=False)"
   ]
  },
  {
   "cell_type": "markdown",
   "metadata": {},
   "source": [
    "#### Create Missing Values Column - waterfront\n",
    "* Saves nan information in the case that it is valuable later."
   ]
  },
  {
   "cell_type": "code",
   "execution_count": 29,
   "metadata": {
    "ExecuteTime": {
     "end_time": "2022-02-25T15:19:38.765479Z",
     "start_time": "2022-02-25T15:19:38.745910Z"
    }
   },
   "outputs": [
    {
     "data": {
      "text/plain": [
       "array([[ True],\n",
       "       [False],\n",
       "       [False],\n",
       "       ...,\n",
       "       [False],\n",
       "       [ True],\n",
       "       [False]])"
      ]
     },
     "execution_count": 29,
     "metadata": {},
     "output_type": "execute_result"
    }
   ],
   "source": [
    "# (1) Identify data to be transformed\n",
    "# We only want missing indicators for LotFrontage\n",
    "waterfront_train = categoricals[[\"waterfront\"]]\n",
    "\n",
    "# (2) Instantiate the transformer object\n",
    "missing_indicator = MissingIndicator()\n",
    "\n",
    "# (3) Fit the transformer object on waterfront_train\n",
    "missing_indicator.fit(waterfront_train)\n",
    "\n",
    "# (4) Transform waterfront_train and assign the result\n",
    "# to waterfront_missing_train\n",
    "waterfront_missing_train = missing_indicator.transform(waterfront_train)\n",
    "\n",
    "# Visually inspect waterfront_missing_train\n",
    "waterfront_missing_train"
   ]
  },
  {
   "cell_type": "markdown",
   "metadata": {},
   "source": [
    "##### Ensure waterfront_train is array of arrays containing True/False."
   ]
  },
  {
   "cell_type": "code",
   "execution_count": 30,
   "metadata": {
    "ExecuteTime": {
     "end_time": "2022-02-25T15:19:40.093407Z",
     "start_time": "2022-02-25T15:19:40.087847Z"
    }
   },
   "outputs": [],
   "source": [
    "# waterfront_missing_train should be a NumPy array\n",
    "assert type(waterfront_missing_train) == np.ndarray\n",
    "\n",
    "# We should have the same number of rows as the full X_train\n",
    "assert waterfront_missing_train.shape[0] == categoricals.shape[0]\n",
    "\n",
    "# But we should only have 1 column\n",
    "assert waterfront_missing_train.shape[1] == 1"
   ]
  },
  {
   "cell_type": "code",
   "execution_count": 31,
   "metadata": {
    "ExecuteTime": {
     "end_time": "2022-02-25T15:19:41.073437Z",
     "start_time": "2022-02-25T15:19:41.048598Z"
    }
   },
   "outputs": [
    {
     "name": "stderr",
     "output_type": "stream",
     "text": [
      "<ipython-input-31-088c5258e668>:2: SettingWithCopyWarning: \n",
      "A value is trying to be set on a copy of a slice from a DataFrame.\n",
      "Try using .loc[row_indexer,col_indexer] = value instead\n",
      "\n",
      "See the caveats in the documentation: https://pandas.pydata.org/pandas-docs/stable/user_guide/indexing.html#returning-a-view-versus-a-copy\n",
      "  categoricals[\"waterfront_missing\"] = waterfront_missing_train\n"
     ]
    },
    {
     "data": {
      "text/html": [
       "<div>\n",
       "<style scoped>\n",
       "    .dataframe tbody tr th:only-of-type {\n",
       "        vertical-align: middle;\n",
       "    }\n",
       "\n",
       "    .dataframe tbody tr th {\n",
       "        vertical-align: top;\n",
       "    }\n",
       "\n",
       "    .dataframe thead th {\n",
       "        text-align: right;\n",
       "    }\n",
       "</style>\n",
       "<table border=\"1\" class=\"dataframe\">\n",
       "  <thead>\n",
       "    <tr style=\"text-align: right;\">\n",
       "      <th></th>\n",
       "      <th>waterfront</th>\n",
       "      <th>view</th>\n",
       "      <th>condition</th>\n",
       "      <th>grade</th>\n",
       "      <th>waterfront_missing</th>\n",
       "    </tr>\n",
       "  </thead>\n",
       "  <tbody>\n",
       "    <tr>\n",
       "      <th>0</th>\n",
       "      <td>NaN</td>\n",
       "      <td>NONE</td>\n",
       "      <td>Average</td>\n",
       "      <td>7 Average</td>\n",
       "      <td>True</td>\n",
       "    </tr>\n",
       "    <tr>\n",
       "      <th>1</th>\n",
       "      <td>NO</td>\n",
       "      <td>NONE</td>\n",
       "      <td>Average</td>\n",
       "      <td>7 Average</td>\n",
       "      <td>False</td>\n",
       "    </tr>\n",
       "    <tr>\n",
       "      <th>2</th>\n",
       "      <td>NO</td>\n",
       "      <td>NONE</td>\n",
       "      <td>Average</td>\n",
       "      <td>6 Low Average</td>\n",
       "      <td>False</td>\n",
       "    </tr>\n",
       "    <tr>\n",
       "      <th>3</th>\n",
       "      <td>NO</td>\n",
       "      <td>NONE</td>\n",
       "      <td>Very Good</td>\n",
       "      <td>7 Average</td>\n",
       "      <td>False</td>\n",
       "    </tr>\n",
       "    <tr>\n",
       "      <th>4</th>\n",
       "      <td>NO</td>\n",
       "      <td>NONE</td>\n",
       "      <td>Average</td>\n",
       "      <td>8 Good</td>\n",
       "      <td>False</td>\n",
       "    </tr>\n",
       "    <tr>\n",
       "      <th>...</th>\n",
       "      <td>...</td>\n",
       "      <td>...</td>\n",
       "      <td>...</td>\n",
       "      <td>...</td>\n",
       "      <td>...</td>\n",
       "    </tr>\n",
       "    <tr>\n",
       "      <th>21592</th>\n",
       "      <td>NO</td>\n",
       "      <td>NONE</td>\n",
       "      <td>Average</td>\n",
       "      <td>8 Good</td>\n",
       "      <td>False</td>\n",
       "    </tr>\n",
       "    <tr>\n",
       "      <th>21593</th>\n",
       "      <td>NO</td>\n",
       "      <td>NONE</td>\n",
       "      <td>Average</td>\n",
       "      <td>8 Good</td>\n",
       "      <td>False</td>\n",
       "    </tr>\n",
       "    <tr>\n",
       "      <th>21594</th>\n",
       "      <td>NO</td>\n",
       "      <td>NONE</td>\n",
       "      <td>Average</td>\n",
       "      <td>7 Average</td>\n",
       "      <td>False</td>\n",
       "    </tr>\n",
       "    <tr>\n",
       "      <th>21595</th>\n",
       "      <td>NaN</td>\n",
       "      <td>NONE</td>\n",
       "      <td>Average</td>\n",
       "      <td>8 Good</td>\n",
       "      <td>True</td>\n",
       "    </tr>\n",
       "    <tr>\n",
       "      <th>21596</th>\n",
       "      <td>NO</td>\n",
       "      <td>NONE</td>\n",
       "      <td>Average</td>\n",
       "      <td>7 Average</td>\n",
       "      <td>False</td>\n",
       "    </tr>\n",
       "  </tbody>\n",
       "</table>\n",
       "<p>21597 rows × 5 columns</p>\n",
       "</div>"
      ],
      "text/plain": [
       "      waterfront  view  condition          grade  waterfront_missing\n",
       "0            NaN  NONE    Average      7 Average                True\n",
       "1             NO  NONE    Average      7 Average               False\n",
       "2             NO  NONE    Average  6 Low Average               False\n",
       "3             NO  NONE  Very Good      7 Average               False\n",
       "4             NO  NONE    Average         8 Good               False\n",
       "...          ...   ...        ...            ...                 ...\n",
       "21592         NO  NONE    Average         8 Good               False\n",
       "21593         NO  NONE    Average         8 Good               False\n",
       "21594         NO  NONE    Average      7 Average               False\n",
       "21595        NaN  NONE    Average         8 Good                True\n",
       "21596         NO  NONE    Average      7 Average               False\n",
       "\n",
       "[21597 rows x 5 columns]"
      ]
     },
     "execution_count": 31,
     "metadata": {},
     "output_type": "execute_result"
    }
   ],
   "source": [
    "# add the transformed data to the categorical data\n",
    "categoricals[\"waterfront_missing\"] = waterfront_missing_train\n",
    "categoricals"
   ]
  },
  {
   "cell_type": "markdown",
   "metadata": {},
   "source": [
    "### Impute missing values for waterfront"
   ]
  },
  {
   "cell_type": "code",
   "execution_count": 32,
   "metadata": {
    "ExecuteTime": {
     "end_time": "2022-02-25T15:19:44.852908Z",
     "start_time": "2022-02-25T15:19:44.780018Z"
    }
   },
   "outputs": [
    {
     "data": {
      "text/plain": [
       "array([['NO'],\n",
       "       ['NO'],\n",
       "       ['NO'],\n",
       "       ...,\n",
       "       ['NO'],\n",
       "       ['NO'],\n",
       "       ['NO']], dtype=object)"
      ]
     },
     "execution_count": 32,
     "metadata": {},
     "output_type": "execute_result"
    }
   ],
   "source": [
    "# (1) waterfront_train was created previously, so we don't\n",
    "# need to extract the relevant data again\n",
    "\n",
    "# (2) Instantiate a SimpleImputer with strategy=\"most_frequent\"\n",
    "# use most_frequent due to non-numerical data\n",
    "imputer = SimpleImputer(strategy=\"most_frequent\")\n",
    "\n",
    "# (3) Fit the imputer on waterfront_train\n",
    "imputer.fit(waterfront_train)\n",
    "\n",
    "# (4) Transform frontage_train using the imputer and\n",
    "# assign the result to waterfront_imputed_train\n",
    "waterfront_imputed_train = imputer.transform(waterfront_train)\n",
    "\n",
    "# Visually inspect frontage_imputed_train\n",
    "waterfront_imputed_train"
   ]
  },
  {
   "cell_type": "markdown",
   "metadata": {},
   "source": [
    "#### Replace original value of waterfront in categoricals with new values in waterfront_imputed_train."
   ]
  },
  {
   "cell_type": "code",
   "execution_count": 33,
   "metadata": {
    "ExecuteTime": {
     "end_time": "2022-02-25T15:19:45.943688Z",
     "start_time": "2022-02-25T15:19:45.918965Z"
    }
   },
   "outputs": [
    {
     "name": "stderr",
     "output_type": "stream",
     "text": [
      "<ipython-input-33-76fe86732dd5>:2: SettingWithCopyWarning: \n",
      "A value is trying to be set on a copy of a slice from a DataFrame.\n",
      "Try using .loc[row_indexer,col_indexer] = value instead\n",
      "\n",
      "See the caveats in the documentation: https://pandas.pydata.org/pandas-docs/stable/user_guide/indexing.html#returning-a-view-versus-a-copy\n",
      "  categoricals[\"waterfront\"] = waterfront_imputed_train\n"
     ]
    },
    {
     "data": {
      "text/html": [
       "<div>\n",
       "<style scoped>\n",
       "    .dataframe tbody tr th:only-of-type {\n",
       "        vertical-align: middle;\n",
       "    }\n",
       "\n",
       "    .dataframe tbody tr th {\n",
       "        vertical-align: top;\n",
       "    }\n",
       "\n",
       "    .dataframe thead th {\n",
       "        text-align: right;\n",
       "    }\n",
       "</style>\n",
       "<table border=\"1\" class=\"dataframe\">\n",
       "  <thead>\n",
       "    <tr style=\"text-align: right;\">\n",
       "      <th></th>\n",
       "      <th>waterfront</th>\n",
       "      <th>view</th>\n",
       "      <th>condition</th>\n",
       "      <th>grade</th>\n",
       "      <th>waterfront_missing</th>\n",
       "    </tr>\n",
       "  </thead>\n",
       "  <tbody>\n",
       "    <tr>\n",
       "      <th>0</th>\n",
       "      <td>NO</td>\n",
       "      <td>NONE</td>\n",
       "      <td>Average</td>\n",
       "      <td>7 Average</td>\n",
       "      <td>True</td>\n",
       "    </tr>\n",
       "    <tr>\n",
       "      <th>1</th>\n",
       "      <td>NO</td>\n",
       "      <td>NONE</td>\n",
       "      <td>Average</td>\n",
       "      <td>7 Average</td>\n",
       "      <td>False</td>\n",
       "    </tr>\n",
       "    <tr>\n",
       "      <th>2</th>\n",
       "      <td>NO</td>\n",
       "      <td>NONE</td>\n",
       "      <td>Average</td>\n",
       "      <td>6 Low Average</td>\n",
       "      <td>False</td>\n",
       "    </tr>\n",
       "    <tr>\n",
       "      <th>3</th>\n",
       "      <td>NO</td>\n",
       "      <td>NONE</td>\n",
       "      <td>Very Good</td>\n",
       "      <td>7 Average</td>\n",
       "      <td>False</td>\n",
       "    </tr>\n",
       "    <tr>\n",
       "      <th>4</th>\n",
       "      <td>NO</td>\n",
       "      <td>NONE</td>\n",
       "      <td>Average</td>\n",
       "      <td>8 Good</td>\n",
       "      <td>False</td>\n",
       "    </tr>\n",
       "    <tr>\n",
       "      <th>...</th>\n",
       "      <td>...</td>\n",
       "      <td>...</td>\n",
       "      <td>...</td>\n",
       "      <td>...</td>\n",
       "      <td>...</td>\n",
       "    </tr>\n",
       "    <tr>\n",
       "      <th>21592</th>\n",
       "      <td>NO</td>\n",
       "      <td>NONE</td>\n",
       "      <td>Average</td>\n",
       "      <td>8 Good</td>\n",
       "      <td>False</td>\n",
       "    </tr>\n",
       "    <tr>\n",
       "      <th>21593</th>\n",
       "      <td>NO</td>\n",
       "      <td>NONE</td>\n",
       "      <td>Average</td>\n",
       "      <td>8 Good</td>\n",
       "      <td>False</td>\n",
       "    </tr>\n",
       "    <tr>\n",
       "      <th>21594</th>\n",
       "      <td>NO</td>\n",
       "      <td>NONE</td>\n",
       "      <td>Average</td>\n",
       "      <td>7 Average</td>\n",
       "      <td>False</td>\n",
       "    </tr>\n",
       "    <tr>\n",
       "      <th>21595</th>\n",
       "      <td>NO</td>\n",
       "      <td>NONE</td>\n",
       "      <td>Average</td>\n",
       "      <td>8 Good</td>\n",
       "      <td>True</td>\n",
       "    </tr>\n",
       "    <tr>\n",
       "      <th>21596</th>\n",
       "      <td>NO</td>\n",
       "      <td>NONE</td>\n",
       "      <td>Average</td>\n",
       "      <td>7 Average</td>\n",
       "      <td>False</td>\n",
       "    </tr>\n",
       "  </tbody>\n",
       "</table>\n",
       "<p>21597 rows × 5 columns</p>\n",
       "</div>"
      ],
      "text/plain": [
       "      waterfront  view  condition          grade  waterfront_missing\n",
       "0             NO  NONE    Average      7 Average                True\n",
       "1             NO  NONE    Average      7 Average               False\n",
       "2             NO  NONE    Average  6 Low Average               False\n",
       "3             NO  NONE  Very Good      7 Average               False\n",
       "4             NO  NONE    Average         8 Good               False\n",
       "...          ...   ...        ...            ...                 ...\n",
       "21592         NO  NONE    Average         8 Good               False\n",
       "21593         NO  NONE    Average         8 Good               False\n",
       "21594         NO  NONE    Average      7 Average               False\n",
       "21595         NO  NONE    Average         8 Good                True\n",
       "21596         NO  NONE    Average      7 Average               False\n",
       "\n",
       "[21597 rows x 5 columns]"
      ]
     },
     "execution_count": 33,
     "metadata": {},
     "output_type": "execute_result"
    }
   ],
   "source": [
    "# (5) Replace value of LotFrontage\n",
    "categoricals[\"waterfront\"] = waterfront_imputed_train\n",
    "\n",
    "# Visually inspect X_train\n",
    "categoricals"
   ]
  },
  {
   "cell_type": "markdown",
   "metadata": {},
   "source": [
    "#### Check nan values for waterfront replaced."
   ]
  },
  {
   "cell_type": "code",
   "execution_count": 34,
   "metadata": {
    "ExecuteTime": {
     "end_time": "2022-02-25T15:19:47.210922Z",
     "start_time": "2022-02-25T15:19:47.193530Z"
    }
   },
   "outputs": [
    {
     "data": {
      "text/plain": [
       "waterfront             0\n",
       "view                  63\n",
       "condition              0\n",
       "grade                  0\n",
       "waterfront_missing     0\n",
       "dtype: int64"
      ]
     },
     "execution_count": 34,
     "metadata": {},
     "output_type": "execute_result"
    }
   ],
   "source": [
    "categoricals.isnull().sum()"
   ]
  },
  {
   "cell_type": "markdown",
   "metadata": {},
   "source": [
    "### Impute missing values for view"
   ]
  },
  {
   "cell_type": "code",
   "execution_count": 35,
   "metadata": {
    "ExecuteTime": {
     "end_time": "2022-02-25T15:19:48.752561Z",
     "start_time": "2022-02-25T15:19:48.613628Z"
    }
   },
   "outputs": [
    {
     "data": {
      "text/plain": [
       "array([['NONE'],\n",
       "       ['NONE'],\n",
       "       ['NONE'],\n",
       "       ...,\n",
       "       ['NONE'],\n",
       "       ['NONE'],\n",
       "       ['NONE']], dtype=object)"
      ]
     },
     "execution_count": 35,
     "metadata": {},
     "output_type": "execute_result"
    }
   ],
   "source": [
    "# (1) create view_train\n",
    "view_train = categoricals[['view']]\n",
    "\n",
    "# (2) Instantiate a SimpleImputer with strategy=\"most_frequent\"\n",
    "# use most_frequent due to non-numerical data\n",
    "imputer = SimpleImputer(strategy=\"most_frequent\")\n",
    "\n",
    "# (3) Fit the imputer on waterfront_train\n",
    "imputer.fit(view_train)\n",
    "\n",
    "# (4) Transform frontage_train using the imputer and\n",
    "# assign the result to waterfront_imputed_train\n",
    "view_imputed_train = imputer.transform(view_train)\n",
    "\n",
    "# Visually inspect frontage_imputed_train\n",
    "view_imputed_train"
   ]
  },
  {
   "cell_type": "code",
   "execution_count": 36,
   "metadata": {
    "ExecuteTime": {
     "end_time": "2022-02-25T15:19:49.768439Z",
     "start_time": "2022-02-25T15:19:49.721136Z"
    }
   },
   "outputs": [
    {
     "name": "stderr",
     "output_type": "stream",
     "text": [
      "<ipython-input-36-7ff8ed9cd7c7>:2: SettingWithCopyWarning: \n",
      "A value is trying to be set on a copy of a slice from a DataFrame.\n",
      "Try using .loc[row_indexer,col_indexer] = value instead\n",
      "\n",
      "See the caveats in the documentation: https://pandas.pydata.org/pandas-docs/stable/user_guide/indexing.html#returning-a-view-versus-a-copy\n",
      "  categoricals[\"view\"] = view_imputed_train\n"
     ]
    },
    {
     "data": {
      "text/html": [
       "<div>\n",
       "<style scoped>\n",
       "    .dataframe tbody tr th:only-of-type {\n",
       "        vertical-align: middle;\n",
       "    }\n",
       "\n",
       "    .dataframe tbody tr th {\n",
       "        vertical-align: top;\n",
       "    }\n",
       "\n",
       "    .dataframe thead th {\n",
       "        text-align: right;\n",
       "    }\n",
       "</style>\n",
       "<table border=\"1\" class=\"dataframe\">\n",
       "  <thead>\n",
       "    <tr style=\"text-align: right;\">\n",
       "      <th></th>\n",
       "      <th>waterfront</th>\n",
       "      <th>view</th>\n",
       "      <th>condition</th>\n",
       "      <th>grade</th>\n",
       "      <th>waterfront_missing</th>\n",
       "    </tr>\n",
       "  </thead>\n",
       "  <tbody>\n",
       "    <tr>\n",
       "      <th>0</th>\n",
       "      <td>NO</td>\n",
       "      <td>NONE</td>\n",
       "      <td>Average</td>\n",
       "      <td>7 Average</td>\n",
       "      <td>True</td>\n",
       "    </tr>\n",
       "    <tr>\n",
       "      <th>1</th>\n",
       "      <td>NO</td>\n",
       "      <td>NONE</td>\n",
       "      <td>Average</td>\n",
       "      <td>7 Average</td>\n",
       "      <td>False</td>\n",
       "    </tr>\n",
       "    <tr>\n",
       "      <th>2</th>\n",
       "      <td>NO</td>\n",
       "      <td>NONE</td>\n",
       "      <td>Average</td>\n",
       "      <td>6 Low Average</td>\n",
       "      <td>False</td>\n",
       "    </tr>\n",
       "    <tr>\n",
       "      <th>3</th>\n",
       "      <td>NO</td>\n",
       "      <td>NONE</td>\n",
       "      <td>Very Good</td>\n",
       "      <td>7 Average</td>\n",
       "      <td>False</td>\n",
       "    </tr>\n",
       "    <tr>\n",
       "      <th>4</th>\n",
       "      <td>NO</td>\n",
       "      <td>NONE</td>\n",
       "      <td>Average</td>\n",
       "      <td>8 Good</td>\n",
       "      <td>False</td>\n",
       "    </tr>\n",
       "    <tr>\n",
       "      <th>...</th>\n",
       "      <td>...</td>\n",
       "      <td>...</td>\n",
       "      <td>...</td>\n",
       "      <td>...</td>\n",
       "      <td>...</td>\n",
       "    </tr>\n",
       "    <tr>\n",
       "      <th>21592</th>\n",
       "      <td>NO</td>\n",
       "      <td>NONE</td>\n",
       "      <td>Average</td>\n",
       "      <td>8 Good</td>\n",
       "      <td>False</td>\n",
       "    </tr>\n",
       "    <tr>\n",
       "      <th>21593</th>\n",
       "      <td>NO</td>\n",
       "      <td>NONE</td>\n",
       "      <td>Average</td>\n",
       "      <td>8 Good</td>\n",
       "      <td>False</td>\n",
       "    </tr>\n",
       "    <tr>\n",
       "      <th>21594</th>\n",
       "      <td>NO</td>\n",
       "      <td>NONE</td>\n",
       "      <td>Average</td>\n",
       "      <td>7 Average</td>\n",
       "      <td>False</td>\n",
       "    </tr>\n",
       "    <tr>\n",
       "      <th>21595</th>\n",
       "      <td>NO</td>\n",
       "      <td>NONE</td>\n",
       "      <td>Average</td>\n",
       "      <td>8 Good</td>\n",
       "      <td>True</td>\n",
       "    </tr>\n",
       "    <tr>\n",
       "      <th>21596</th>\n",
       "      <td>NO</td>\n",
       "      <td>NONE</td>\n",
       "      <td>Average</td>\n",
       "      <td>7 Average</td>\n",
       "      <td>False</td>\n",
       "    </tr>\n",
       "  </tbody>\n",
       "</table>\n",
       "<p>21597 rows × 5 columns</p>\n",
       "</div>"
      ],
      "text/plain": [
       "      waterfront  view  condition          grade  waterfront_missing\n",
       "0             NO  NONE    Average      7 Average                True\n",
       "1             NO  NONE    Average      7 Average               False\n",
       "2             NO  NONE    Average  6 Low Average               False\n",
       "3             NO  NONE  Very Good      7 Average               False\n",
       "4             NO  NONE    Average         8 Good               False\n",
       "...          ...   ...        ...            ...                 ...\n",
       "21592         NO  NONE    Average         8 Good               False\n",
       "21593         NO  NONE    Average         8 Good               False\n",
       "21594         NO  NONE    Average      7 Average               False\n",
       "21595         NO  NONE    Average         8 Good                True\n",
       "21596         NO  NONE    Average      7 Average               False\n",
       "\n",
       "[21597 rows x 5 columns]"
      ]
     },
     "execution_count": 36,
     "metadata": {},
     "output_type": "execute_result"
    }
   ],
   "source": [
    "# (5) Replace value of view\n",
    "categoricals[\"view\"] = view_imputed_train\n",
    "\n",
    "# Visually inspect X_train\n",
    "categoricals"
   ]
  },
  {
   "cell_type": "code",
   "execution_count": 37,
   "metadata": {
    "ExecuteTime": {
     "end_time": "2022-02-25T15:19:50.730254Z",
     "start_time": "2022-02-25T15:19:50.715402Z"
    }
   },
   "outputs": [
    {
     "data": {
      "text/plain": [
       "waterfront            0\n",
       "view                  0\n",
       "condition             0\n",
       "grade                 0\n",
       "waterfront_missing    0\n",
       "dtype: int64"
      ]
     },
     "execution_count": 37,
     "metadata": {},
     "output_type": "execute_result"
    }
   ],
   "source": [
    "# nan values replaced with 'NONE'?\n",
    "categoricals.isnull().sum()"
   ]
  },
  {
   "cell_type": "markdown",
   "metadata": {},
   "source": [
    "## (skip) One-hot-encode Categoricals\n",
    "* waterfront, view, condition, grade"
   ]
  },
  {
   "cell_type": "markdown",
   "metadata": {},
   "source": [
    "### ohe waterfront"
   ]
  },
  {
   "cell_type": "code",
   "execution_count": 38,
   "metadata": {
    "ExecuteTime": {
     "end_time": "2022-02-25T15:19:52.613663Z",
     "start_time": "2022-02-25T15:19:52.601073Z"
    }
   },
   "outputs": [
    {
     "data": {
      "text/plain": [
       "array(['NO', 'YES'], dtype=object)"
      ]
     },
     "execution_count": 38,
     "metadata": {},
     "output_type": "execute_result"
    }
   ],
   "source": [
    "# (1) Create a variable street_train that contains the\n",
    "# relevant column from X_train\n",
    "# (Use double brackets [[]] to get the appropriate shape)\n",
    "waterfront_train = categoricals[[\"waterfront\"]]\n",
    "\n",
    "# (2) Instantiate an OrdinalEncoder\n",
    "encoder_waterfront = OrdinalEncoder()\n",
    "\n",
    "# (3) Fit the encoder on street_train\n",
    "encoder_waterfront.fit(waterfront_train)\n",
    "\n",
    "# Inspect the categories of the fitted encoder\n",
    "encoder_waterfront.categories_[0]"
   ]
  },
  {
   "cell_type": "code",
   "execution_count": 39,
   "metadata": {
    "ExecuteTime": {
     "end_time": "2022-02-25T15:19:53.579602Z",
     "start_time": "2022-02-25T15:19:53.528909Z"
    }
   },
   "outputs": [
    {
     "name": "stderr",
     "output_type": "stream",
     "text": [
      "<ipython-input-39-f7275cd5cd86>:4: SettingWithCopyWarning: \n",
      "A value is trying to be set on a copy of a slice from a DataFrame.\n",
      "Try using .loc[row_indexer,col_indexer] = value instead\n",
      "\n",
      "See the caveats in the documentation: https://pandas.pydata.org/pandas-docs/stable/user_guide/indexing.html#returning-a-view-versus-a-copy\n",
      "  categoricals[\"waterfront\"] = waterfront_encoded_test\n"
     ]
    },
    {
     "data": {
      "text/html": [
       "<div>\n",
       "<style scoped>\n",
       "    .dataframe tbody tr th:only-of-type {\n",
       "        vertical-align: middle;\n",
       "    }\n",
       "\n",
       "    .dataframe tbody tr th {\n",
       "        vertical-align: top;\n",
       "    }\n",
       "\n",
       "    .dataframe thead th {\n",
       "        text-align: right;\n",
       "    }\n",
       "</style>\n",
       "<table border=\"1\" class=\"dataframe\">\n",
       "  <thead>\n",
       "    <tr style=\"text-align: right;\">\n",
       "      <th></th>\n",
       "      <th>waterfront</th>\n",
       "      <th>view</th>\n",
       "      <th>condition</th>\n",
       "      <th>grade</th>\n",
       "      <th>waterfront_missing</th>\n",
       "    </tr>\n",
       "  </thead>\n",
       "  <tbody>\n",
       "    <tr>\n",
       "      <th>0</th>\n",
       "      <td>0.0</td>\n",
       "      <td>NONE</td>\n",
       "      <td>Average</td>\n",
       "      <td>7 Average</td>\n",
       "      <td>True</td>\n",
       "    </tr>\n",
       "    <tr>\n",
       "      <th>1</th>\n",
       "      <td>0.0</td>\n",
       "      <td>NONE</td>\n",
       "      <td>Average</td>\n",
       "      <td>7 Average</td>\n",
       "      <td>False</td>\n",
       "    </tr>\n",
       "    <tr>\n",
       "      <th>2</th>\n",
       "      <td>0.0</td>\n",
       "      <td>NONE</td>\n",
       "      <td>Average</td>\n",
       "      <td>6 Low Average</td>\n",
       "      <td>False</td>\n",
       "    </tr>\n",
       "    <tr>\n",
       "      <th>3</th>\n",
       "      <td>0.0</td>\n",
       "      <td>NONE</td>\n",
       "      <td>Very Good</td>\n",
       "      <td>7 Average</td>\n",
       "      <td>False</td>\n",
       "    </tr>\n",
       "    <tr>\n",
       "      <th>4</th>\n",
       "      <td>0.0</td>\n",
       "      <td>NONE</td>\n",
       "      <td>Average</td>\n",
       "      <td>8 Good</td>\n",
       "      <td>False</td>\n",
       "    </tr>\n",
       "    <tr>\n",
       "      <th>...</th>\n",
       "      <td>...</td>\n",
       "      <td>...</td>\n",
       "      <td>...</td>\n",
       "      <td>...</td>\n",
       "      <td>...</td>\n",
       "    </tr>\n",
       "    <tr>\n",
       "      <th>21592</th>\n",
       "      <td>0.0</td>\n",
       "      <td>NONE</td>\n",
       "      <td>Average</td>\n",
       "      <td>8 Good</td>\n",
       "      <td>False</td>\n",
       "    </tr>\n",
       "    <tr>\n",
       "      <th>21593</th>\n",
       "      <td>0.0</td>\n",
       "      <td>NONE</td>\n",
       "      <td>Average</td>\n",
       "      <td>8 Good</td>\n",
       "      <td>False</td>\n",
       "    </tr>\n",
       "    <tr>\n",
       "      <th>21594</th>\n",
       "      <td>0.0</td>\n",
       "      <td>NONE</td>\n",
       "      <td>Average</td>\n",
       "      <td>7 Average</td>\n",
       "      <td>False</td>\n",
       "    </tr>\n",
       "    <tr>\n",
       "      <th>21595</th>\n",
       "      <td>0.0</td>\n",
       "      <td>NONE</td>\n",
       "      <td>Average</td>\n",
       "      <td>8 Good</td>\n",
       "      <td>True</td>\n",
       "    </tr>\n",
       "    <tr>\n",
       "      <th>21596</th>\n",
       "      <td>0.0</td>\n",
       "      <td>NONE</td>\n",
       "      <td>Average</td>\n",
       "      <td>7 Average</td>\n",
       "      <td>False</td>\n",
       "    </tr>\n",
       "  </tbody>\n",
       "</table>\n",
       "<p>21597 rows × 5 columns</p>\n",
       "</div>"
      ],
      "text/plain": [
       "       waterfront  view  condition          grade  waterfront_missing\n",
       "0             0.0  NONE    Average      7 Average                True\n",
       "1             0.0  NONE    Average      7 Average               False\n",
       "2             0.0  NONE    Average  6 Low Average               False\n",
       "3             0.0  NONE  Very Good      7 Average               False\n",
       "4             0.0  NONE    Average         8 Good               False\n",
       "...           ...   ...        ...            ...                 ...\n",
       "21592         0.0  NONE    Average         8 Good               False\n",
       "21593         0.0  NONE    Average         8 Good               False\n",
       "21594         0.0  NONE    Average      7 Average               False\n",
       "21595         0.0  NONE    Average         8 Good                True\n",
       "21596         0.0  NONE    Average      7 Average               False\n",
       "\n",
       "[21597 rows x 5 columns]"
      ]
     },
     "execution_count": 39,
     "metadata": {},
     "output_type": "execute_result"
    }
   ],
   "source": [
    "# Encode waterfront type\n",
    "waterfront_test = categoricals[[\"waterfront\"]]\n",
    "waterfront_encoded_test = encoder_waterfront.transform(waterfront_test).flatten()\n",
    "categoricals[\"waterfront\"] = waterfront_encoded_test\n",
    "\n",
    "# Visually inspect categoricals\n",
    "categoricals"
   ]
  },
  {
   "cell_type": "code",
   "execution_count": 40,
   "metadata": {
    "ExecuteTime": {
     "end_time": "2022-02-25T15:19:54.476615Z",
     "start_time": "2022-02-25T15:19:54.455882Z"
    }
   },
   "outputs": [
    {
     "name": "stdout",
     "output_type": "stream",
     "text": [
      "<class 'pandas.core.frame.DataFrame'>\n",
      "RangeIndex: 21597 entries, 0 to 21596\n",
      "Data columns (total 5 columns):\n",
      " #   Column              Non-Null Count  Dtype  \n",
      "---  ------              --------------  -----  \n",
      " 0   waterfront          21597 non-null  float64\n",
      " 1   view                21597 non-null  object \n",
      " 2   condition           21597 non-null  object \n",
      " 3   grade               21597 non-null  object \n",
      " 4   waterfront_missing  21597 non-null  bool   \n",
      "dtypes: bool(1), float64(1), object(3)\n",
      "memory usage: 696.1+ KB\n"
     ]
    }
   ],
   "source": [
    "# visually inspect waterfront is a float64 data type\n",
    "categoricals.info()"
   ]
  },
  {
   "cell_type": "markdown",
   "metadata": {},
   "source": [
    "### ohe view"
   ]
  },
  {
   "cell_type": "code",
   "execution_count": 41,
   "metadata": {
    "ExecuteTime": {
     "end_time": "2022-02-25T15:19:55.801757Z",
     "start_time": "2022-02-25T15:19:55.789649Z"
    }
   },
   "outputs": [
    {
     "data": {
      "text/plain": [
       "[array(['AVERAGE', 'EXCELLENT', 'FAIR', 'GOOD', 'NONE'], dtype=object)]"
      ]
     },
     "execution_count": 41,
     "metadata": {},
     "output_type": "execute_result"
    }
   ],
   "source": [
    "# (1) Create a variable view_train\n",
    "# extracted from categoricals\n",
    "# (double brackets due to shape expected by OHE)\n",
    "view_train = categoricals[[\"view\"]]\n",
    "\n",
    "# (2) Instantiate a OneHotEncoder with categories=\"auto\",\n",
    "# sparse=False, and handle_unknown=\"ignore\"\n",
    "ohe = OneHotEncoder(categories=\"auto\", sparse=False, handle_unknown=\"ignore\")\n",
    "\n",
    "# (3) Fit the encoder on fireplace_qu_train\n",
    "ohe.fit(view_train)\n",
    "\n",
    "# Inspect the categories of the fitted encoder\n",
    "ohe.categories_"
   ]
  },
  {
   "cell_type": "code",
   "execution_count": 42,
   "metadata": {
    "ExecuteTime": {
     "end_time": "2022-02-25T15:19:56.679157Z",
     "start_time": "2022-02-25T15:19:56.660907Z"
    }
   },
   "outputs": [
    {
     "data": {
      "text/plain": [
       "array([[0., 0., 0., 0., 1.],\n",
       "       [0., 0., 0., 0., 1.],\n",
       "       [0., 0., 0., 0., 1.],\n",
       "       ...,\n",
       "       [0., 0., 0., 0., 1.],\n",
       "       [0., 0., 0., 0., 1.],\n",
       "       [0., 0., 0., 0., 1.]])"
      ]
     },
     "execution_count": 42,
     "metadata": {},
     "output_type": "execute_result"
    }
   ],
   "source": [
    "# (4) Transform view_train using the encoder and\n",
    "# assign the result to view_encoded_train\n",
    "view_encoded_train = ohe.transform(view_train)\n",
    "\n",
    "# Visually inspect view_encoded_train\n",
    "view_encoded_train"
   ]
  },
  {
   "cell_type": "code",
   "execution_count": 43,
   "metadata": {
    "ExecuteTime": {
     "end_time": "2022-02-25T15:19:57.096819Z",
     "start_time": "2022-02-25T15:19:57.052059Z"
    }
   },
   "outputs": [
    {
     "data": {
      "text/html": [
       "<div>\n",
       "<style scoped>\n",
       "    .dataframe tbody tr th:only-of-type {\n",
       "        vertical-align: middle;\n",
       "    }\n",
       "\n",
       "    .dataframe tbody tr th {\n",
       "        vertical-align: top;\n",
       "    }\n",
       "\n",
       "    .dataframe thead th {\n",
       "        text-align: right;\n",
       "    }\n",
       "</style>\n",
       "<table border=\"1\" class=\"dataframe\">\n",
       "  <thead>\n",
       "    <tr style=\"text-align: right;\">\n",
       "      <th></th>\n",
       "      <th>AVERAGE</th>\n",
       "      <th>EXCELLENT</th>\n",
       "      <th>FAIR</th>\n",
       "      <th>GOOD</th>\n",
       "      <th>NONE</th>\n",
       "    </tr>\n",
       "  </thead>\n",
       "  <tbody>\n",
       "    <tr>\n",
       "      <th>0</th>\n",
       "      <td>0.0</td>\n",
       "      <td>0.0</td>\n",
       "      <td>0.0</td>\n",
       "      <td>0.0</td>\n",
       "      <td>1.0</td>\n",
       "    </tr>\n",
       "    <tr>\n",
       "      <th>1</th>\n",
       "      <td>0.0</td>\n",
       "      <td>0.0</td>\n",
       "      <td>0.0</td>\n",
       "      <td>0.0</td>\n",
       "      <td>1.0</td>\n",
       "    </tr>\n",
       "    <tr>\n",
       "      <th>2</th>\n",
       "      <td>0.0</td>\n",
       "      <td>0.0</td>\n",
       "      <td>0.0</td>\n",
       "      <td>0.0</td>\n",
       "      <td>1.0</td>\n",
       "    </tr>\n",
       "    <tr>\n",
       "      <th>3</th>\n",
       "      <td>0.0</td>\n",
       "      <td>0.0</td>\n",
       "      <td>0.0</td>\n",
       "      <td>0.0</td>\n",
       "      <td>1.0</td>\n",
       "    </tr>\n",
       "    <tr>\n",
       "      <th>4</th>\n",
       "      <td>0.0</td>\n",
       "      <td>0.0</td>\n",
       "      <td>0.0</td>\n",
       "      <td>0.0</td>\n",
       "      <td>1.0</td>\n",
       "    </tr>\n",
       "    <tr>\n",
       "      <th>...</th>\n",
       "      <td>...</td>\n",
       "      <td>...</td>\n",
       "      <td>...</td>\n",
       "      <td>...</td>\n",
       "      <td>...</td>\n",
       "    </tr>\n",
       "    <tr>\n",
       "      <th>21592</th>\n",
       "      <td>0.0</td>\n",
       "      <td>0.0</td>\n",
       "      <td>0.0</td>\n",
       "      <td>0.0</td>\n",
       "      <td>1.0</td>\n",
       "    </tr>\n",
       "    <tr>\n",
       "      <th>21593</th>\n",
       "      <td>0.0</td>\n",
       "      <td>0.0</td>\n",
       "      <td>0.0</td>\n",
       "      <td>0.0</td>\n",
       "      <td>1.0</td>\n",
       "    </tr>\n",
       "    <tr>\n",
       "      <th>21594</th>\n",
       "      <td>0.0</td>\n",
       "      <td>0.0</td>\n",
       "      <td>0.0</td>\n",
       "      <td>0.0</td>\n",
       "      <td>1.0</td>\n",
       "    </tr>\n",
       "    <tr>\n",
       "      <th>21595</th>\n",
       "      <td>0.0</td>\n",
       "      <td>0.0</td>\n",
       "      <td>0.0</td>\n",
       "      <td>0.0</td>\n",
       "      <td>1.0</td>\n",
       "    </tr>\n",
       "    <tr>\n",
       "      <th>21596</th>\n",
       "      <td>0.0</td>\n",
       "      <td>0.0</td>\n",
       "      <td>0.0</td>\n",
       "      <td>0.0</td>\n",
       "      <td>1.0</td>\n",
       "    </tr>\n",
       "  </tbody>\n",
       "</table>\n",
       "<p>21597 rows × 5 columns</p>\n",
       "</div>"
      ],
      "text/plain": [
       "       AVERAGE  EXCELLENT  FAIR  GOOD  NONE\n",
       "0          0.0        0.0   0.0   0.0   1.0\n",
       "1          0.0        0.0   0.0   0.0   1.0\n",
       "2          0.0        0.0   0.0   0.0   1.0\n",
       "3          0.0        0.0   0.0   0.0   1.0\n",
       "4          0.0        0.0   0.0   0.0   1.0\n",
       "...        ...        ...   ...   ...   ...\n",
       "21592      0.0        0.0   0.0   0.0   1.0\n",
       "21593      0.0        0.0   0.0   0.0   1.0\n",
       "21594      0.0        0.0   0.0   0.0   1.0\n",
       "21595      0.0        0.0   0.0   0.0   1.0\n",
       "21596      0.0        0.0   0.0   0.0   1.0\n",
       "\n",
       "[21597 rows x 5 columns]"
      ]
     },
     "execution_count": 43,
     "metadata": {},
     "output_type": "execute_result"
    }
   ],
   "source": [
    "# (5a) Make the transformed data into a dataframe\n",
    "view_encoded_train = pd.DataFrame(\n",
    "    # Pass in NumPy array\n",
    "    view_encoded_train,\n",
    "    # Set the column names to the categories found by OHE\n",
    "    columns=ohe.categories_[0],\n",
    "    # Set the index to match X_train's index\n",
    "    index=categoricals.index\n",
    ")\n",
    "\n",
    "# Visually inspect new dataframe\n",
    "view_encoded_train"
   ]
  },
  {
   "cell_type": "code",
   "execution_count": 44,
   "metadata": {
    "ExecuteTime": {
     "end_time": "2022-02-25T15:19:57.806724Z",
     "start_time": "2022-02-25T15:19:57.776820Z"
    }
   },
   "outputs": [
    {
     "data": {
      "text/html": [
       "<div>\n",
       "<style scoped>\n",
       "    .dataframe tbody tr th:only-of-type {\n",
       "        vertical-align: middle;\n",
       "    }\n",
       "\n",
       "    .dataframe tbody tr th {\n",
       "        vertical-align: top;\n",
       "    }\n",
       "\n",
       "    .dataframe thead th {\n",
       "        text-align: right;\n",
       "    }\n",
       "</style>\n",
       "<table border=\"1\" class=\"dataframe\">\n",
       "  <thead>\n",
       "    <tr style=\"text-align: right;\">\n",
       "      <th></th>\n",
       "      <th>AVERAGE</th>\n",
       "      <th>View_Excellent</th>\n",
       "      <th>View_Fair</th>\n",
       "      <th>View_Good</th>\n",
       "      <th>No View</th>\n",
       "    </tr>\n",
       "  </thead>\n",
       "  <tbody>\n",
       "    <tr>\n",
       "      <th>0</th>\n",
       "      <td>0.0</td>\n",
       "      <td>0.0</td>\n",
       "      <td>0.0</td>\n",
       "      <td>0.0</td>\n",
       "      <td>1.0</td>\n",
       "    </tr>\n",
       "    <tr>\n",
       "      <th>1</th>\n",
       "      <td>0.0</td>\n",
       "      <td>0.0</td>\n",
       "      <td>0.0</td>\n",
       "      <td>0.0</td>\n",
       "      <td>1.0</td>\n",
       "    </tr>\n",
       "    <tr>\n",
       "      <th>2</th>\n",
       "      <td>0.0</td>\n",
       "      <td>0.0</td>\n",
       "      <td>0.0</td>\n",
       "      <td>0.0</td>\n",
       "      <td>1.0</td>\n",
       "    </tr>\n",
       "    <tr>\n",
       "      <th>3</th>\n",
       "      <td>0.0</td>\n",
       "      <td>0.0</td>\n",
       "      <td>0.0</td>\n",
       "      <td>0.0</td>\n",
       "      <td>1.0</td>\n",
       "    </tr>\n",
       "    <tr>\n",
       "      <th>4</th>\n",
       "      <td>0.0</td>\n",
       "      <td>0.0</td>\n",
       "      <td>0.0</td>\n",
       "      <td>0.0</td>\n",
       "      <td>1.0</td>\n",
       "    </tr>\n",
       "    <tr>\n",
       "      <th>...</th>\n",
       "      <td>...</td>\n",
       "      <td>...</td>\n",
       "      <td>...</td>\n",
       "      <td>...</td>\n",
       "      <td>...</td>\n",
       "    </tr>\n",
       "    <tr>\n",
       "      <th>21592</th>\n",
       "      <td>0.0</td>\n",
       "      <td>0.0</td>\n",
       "      <td>0.0</td>\n",
       "      <td>0.0</td>\n",
       "      <td>1.0</td>\n",
       "    </tr>\n",
       "    <tr>\n",
       "      <th>21593</th>\n",
       "      <td>0.0</td>\n",
       "      <td>0.0</td>\n",
       "      <td>0.0</td>\n",
       "      <td>0.0</td>\n",
       "      <td>1.0</td>\n",
       "    </tr>\n",
       "    <tr>\n",
       "      <th>21594</th>\n",
       "      <td>0.0</td>\n",
       "      <td>0.0</td>\n",
       "      <td>0.0</td>\n",
       "      <td>0.0</td>\n",
       "      <td>1.0</td>\n",
       "    </tr>\n",
       "    <tr>\n",
       "      <th>21595</th>\n",
       "      <td>0.0</td>\n",
       "      <td>0.0</td>\n",
       "      <td>0.0</td>\n",
       "      <td>0.0</td>\n",
       "      <td>1.0</td>\n",
       "    </tr>\n",
       "    <tr>\n",
       "      <th>21596</th>\n",
       "      <td>0.0</td>\n",
       "      <td>0.0</td>\n",
       "      <td>0.0</td>\n",
       "      <td>0.0</td>\n",
       "      <td>1.0</td>\n",
       "    </tr>\n",
       "  </tbody>\n",
       "</table>\n",
       "<p>21597 rows × 5 columns</p>\n",
       "</div>"
      ],
      "text/plain": [
       "       AVERAGE  View_Excellent  View_Fair  View_Good  No View\n",
       "0          0.0             0.0        0.0        0.0      1.0\n",
       "1          0.0             0.0        0.0        0.0      1.0\n",
       "2          0.0             0.0        0.0        0.0      1.0\n",
       "3          0.0             0.0        0.0        0.0      1.0\n",
       "4          0.0             0.0        0.0        0.0      1.0\n",
       "...        ...             ...        ...        ...      ...\n",
       "21592      0.0             0.0        0.0        0.0      1.0\n",
       "21593      0.0             0.0        0.0        0.0      1.0\n",
       "21594      0.0             0.0        0.0        0.0      1.0\n",
       "21595      0.0             0.0        0.0        0.0      1.0\n",
       "21596      0.0             0.0        0.0        0.0      1.0\n",
       "\n",
       "[21597 rows x 5 columns]"
      ]
     },
     "execution_count": 44,
     "metadata": {},
     "output_type": "execute_result"
    }
   ],
   "source": [
    "view_encoded_train = view_encoded_train.rename(columns={'Average':'View_Average',\n",
    "                                        'EXCELLENT':'View_Excellent',\n",
    "                                        'FAIR':'View_Fair',\n",
    "                                        'GOOD':'View_Good',\n",
    "                                        'NONE':'No View'})\n",
    "view_encoded_train"
   ]
  },
  {
   "cell_type": "code",
   "execution_count": 45,
   "metadata": {
    "ExecuteTime": {
     "end_time": "2022-02-25T15:19:58.408437Z",
     "start_time": "2022-02-25T15:19:58.367163Z"
    }
   },
   "outputs": [
    {
     "data": {
      "text/html": [
       "<div>\n",
       "<style scoped>\n",
       "    .dataframe tbody tr th:only-of-type {\n",
       "        vertical-align: middle;\n",
       "    }\n",
       "\n",
       "    .dataframe tbody tr th {\n",
       "        vertical-align: top;\n",
       "    }\n",
       "\n",
       "    .dataframe thead th {\n",
       "        text-align: right;\n",
       "    }\n",
       "</style>\n",
       "<table border=\"1\" class=\"dataframe\">\n",
       "  <thead>\n",
       "    <tr style=\"text-align: right;\">\n",
       "      <th></th>\n",
       "      <th>waterfront</th>\n",
       "      <th>view</th>\n",
       "      <th>condition</th>\n",
       "      <th>grade</th>\n",
       "      <th>waterfront_missing</th>\n",
       "      <th>AVERAGE</th>\n",
       "      <th>View_Excellent</th>\n",
       "      <th>View_Fair</th>\n",
       "      <th>View_Good</th>\n",
       "      <th>No View</th>\n",
       "    </tr>\n",
       "  </thead>\n",
       "  <tbody>\n",
       "    <tr>\n",
       "      <th>0</th>\n",
       "      <td>0.0</td>\n",
       "      <td>NONE</td>\n",
       "      <td>Average</td>\n",
       "      <td>7 Average</td>\n",
       "      <td>True</td>\n",
       "      <td>0.0</td>\n",
       "      <td>0.0</td>\n",
       "      <td>0.0</td>\n",
       "      <td>0.0</td>\n",
       "      <td>1.0</td>\n",
       "    </tr>\n",
       "    <tr>\n",
       "      <th>1</th>\n",
       "      <td>0.0</td>\n",
       "      <td>NONE</td>\n",
       "      <td>Average</td>\n",
       "      <td>7 Average</td>\n",
       "      <td>False</td>\n",
       "      <td>0.0</td>\n",
       "      <td>0.0</td>\n",
       "      <td>0.0</td>\n",
       "      <td>0.0</td>\n",
       "      <td>1.0</td>\n",
       "    </tr>\n",
       "    <tr>\n",
       "      <th>2</th>\n",
       "      <td>0.0</td>\n",
       "      <td>NONE</td>\n",
       "      <td>Average</td>\n",
       "      <td>6 Low Average</td>\n",
       "      <td>False</td>\n",
       "      <td>0.0</td>\n",
       "      <td>0.0</td>\n",
       "      <td>0.0</td>\n",
       "      <td>0.0</td>\n",
       "      <td>1.0</td>\n",
       "    </tr>\n",
       "    <tr>\n",
       "      <th>3</th>\n",
       "      <td>0.0</td>\n",
       "      <td>NONE</td>\n",
       "      <td>Very Good</td>\n",
       "      <td>7 Average</td>\n",
       "      <td>False</td>\n",
       "      <td>0.0</td>\n",
       "      <td>0.0</td>\n",
       "      <td>0.0</td>\n",
       "      <td>0.0</td>\n",
       "      <td>1.0</td>\n",
       "    </tr>\n",
       "    <tr>\n",
       "      <th>4</th>\n",
       "      <td>0.0</td>\n",
       "      <td>NONE</td>\n",
       "      <td>Average</td>\n",
       "      <td>8 Good</td>\n",
       "      <td>False</td>\n",
       "      <td>0.0</td>\n",
       "      <td>0.0</td>\n",
       "      <td>0.0</td>\n",
       "      <td>0.0</td>\n",
       "      <td>1.0</td>\n",
       "    </tr>\n",
       "    <tr>\n",
       "      <th>...</th>\n",
       "      <td>...</td>\n",
       "      <td>...</td>\n",
       "      <td>...</td>\n",
       "      <td>...</td>\n",
       "      <td>...</td>\n",
       "      <td>...</td>\n",
       "      <td>...</td>\n",
       "      <td>...</td>\n",
       "      <td>...</td>\n",
       "      <td>...</td>\n",
       "    </tr>\n",
       "    <tr>\n",
       "      <th>21592</th>\n",
       "      <td>0.0</td>\n",
       "      <td>NONE</td>\n",
       "      <td>Average</td>\n",
       "      <td>8 Good</td>\n",
       "      <td>False</td>\n",
       "      <td>0.0</td>\n",
       "      <td>0.0</td>\n",
       "      <td>0.0</td>\n",
       "      <td>0.0</td>\n",
       "      <td>1.0</td>\n",
       "    </tr>\n",
       "    <tr>\n",
       "      <th>21593</th>\n",
       "      <td>0.0</td>\n",
       "      <td>NONE</td>\n",
       "      <td>Average</td>\n",
       "      <td>8 Good</td>\n",
       "      <td>False</td>\n",
       "      <td>0.0</td>\n",
       "      <td>0.0</td>\n",
       "      <td>0.0</td>\n",
       "      <td>0.0</td>\n",
       "      <td>1.0</td>\n",
       "    </tr>\n",
       "    <tr>\n",
       "      <th>21594</th>\n",
       "      <td>0.0</td>\n",
       "      <td>NONE</td>\n",
       "      <td>Average</td>\n",
       "      <td>7 Average</td>\n",
       "      <td>False</td>\n",
       "      <td>0.0</td>\n",
       "      <td>0.0</td>\n",
       "      <td>0.0</td>\n",
       "      <td>0.0</td>\n",
       "      <td>1.0</td>\n",
       "    </tr>\n",
       "    <tr>\n",
       "      <th>21595</th>\n",
       "      <td>0.0</td>\n",
       "      <td>NONE</td>\n",
       "      <td>Average</td>\n",
       "      <td>8 Good</td>\n",
       "      <td>True</td>\n",
       "      <td>0.0</td>\n",
       "      <td>0.0</td>\n",
       "      <td>0.0</td>\n",
       "      <td>0.0</td>\n",
       "      <td>1.0</td>\n",
       "    </tr>\n",
       "    <tr>\n",
       "      <th>21596</th>\n",
       "      <td>0.0</td>\n",
       "      <td>NONE</td>\n",
       "      <td>Average</td>\n",
       "      <td>7 Average</td>\n",
       "      <td>False</td>\n",
       "      <td>0.0</td>\n",
       "      <td>0.0</td>\n",
       "      <td>0.0</td>\n",
       "      <td>0.0</td>\n",
       "      <td>1.0</td>\n",
       "    </tr>\n",
       "  </tbody>\n",
       "</table>\n",
       "<p>21597 rows × 10 columns</p>\n",
       "</div>"
      ],
      "text/plain": [
       "       waterfront  view  condition          grade  waterfront_missing  \\\n",
       "0             0.0  NONE    Average      7 Average                True   \n",
       "1             0.0  NONE    Average      7 Average               False   \n",
       "2             0.0  NONE    Average  6 Low Average               False   \n",
       "3             0.0  NONE  Very Good      7 Average               False   \n",
       "4             0.0  NONE    Average         8 Good               False   \n",
       "...           ...   ...        ...            ...                 ...   \n",
       "21592         0.0  NONE    Average         8 Good               False   \n",
       "21593         0.0  NONE    Average         8 Good               False   \n",
       "21594         0.0  NONE    Average      7 Average               False   \n",
       "21595         0.0  NONE    Average         8 Good                True   \n",
       "21596         0.0  NONE    Average      7 Average               False   \n",
       "\n",
       "       AVERAGE  View_Excellent  View_Fair  View_Good  No View  \n",
       "0          0.0             0.0        0.0        0.0      1.0  \n",
       "1          0.0             0.0        0.0        0.0      1.0  \n",
       "2          0.0             0.0        0.0        0.0      1.0  \n",
       "3          0.0             0.0        0.0        0.0      1.0  \n",
       "4          0.0             0.0        0.0        0.0      1.0  \n",
       "...        ...             ...        ...        ...      ...  \n",
       "21592      0.0             0.0        0.0        0.0      1.0  \n",
       "21593      0.0             0.0        0.0        0.0      1.0  \n",
       "21594      0.0             0.0        0.0        0.0      1.0  \n",
       "21595      0.0             0.0        0.0        0.0      1.0  \n",
       "21596      0.0             0.0        0.0        0.0      1.0  \n",
       "\n",
       "[21597 rows x 10 columns]"
      ]
     },
     "execution_count": 45,
     "metadata": {},
     "output_type": "execute_result"
    }
   ],
   "source": [
    "# (5b) Concatenate the new dataframe with current categoricals\n",
    "categoricals = pd.concat([categoricals, view_encoded_train], axis=1)\n",
    "\n",
    "# Visually inspect categoricals\n",
    "categoricals"
   ]
  },
  {
   "cell_type": "code",
   "execution_count": 46,
   "metadata": {
    "ExecuteTime": {
     "end_time": "2022-02-25T15:19:58.991964Z",
     "start_time": "2022-02-25T15:19:58.947592Z"
    }
   },
   "outputs": [
    {
     "data": {
      "text/html": [
       "<div>\n",
       "<style scoped>\n",
       "    .dataframe tbody tr th:only-of-type {\n",
       "        vertical-align: middle;\n",
       "    }\n",
       "\n",
       "    .dataframe tbody tr th {\n",
       "        vertical-align: top;\n",
       "    }\n",
       "\n",
       "    .dataframe thead th {\n",
       "        text-align: right;\n",
       "    }\n",
       "</style>\n",
       "<table border=\"1\" class=\"dataframe\">\n",
       "  <thead>\n",
       "    <tr style=\"text-align: right;\">\n",
       "      <th></th>\n",
       "      <th>waterfront</th>\n",
       "      <th>condition</th>\n",
       "      <th>grade</th>\n",
       "      <th>waterfront_missing</th>\n",
       "      <th>AVERAGE</th>\n",
       "      <th>View_Excellent</th>\n",
       "      <th>View_Fair</th>\n",
       "      <th>View_Good</th>\n",
       "      <th>No View</th>\n",
       "    </tr>\n",
       "  </thead>\n",
       "  <tbody>\n",
       "    <tr>\n",
       "      <th>0</th>\n",
       "      <td>0.0</td>\n",
       "      <td>Average</td>\n",
       "      <td>7 Average</td>\n",
       "      <td>True</td>\n",
       "      <td>0.0</td>\n",
       "      <td>0.0</td>\n",
       "      <td>0.0</td>\n",
       "      <td>0.0</td>\n",
       "      <td>1.0</td>\n",
       "    </tr>\n",
       "    <tr>\n",
       "      <th>1</th>\n",
       "      <td>0.0</td>\n",
       "      <td>Average</td>\n",
       "      <td>7 Average</td>\n",
       "      <td>False</td>\n",
       "      <td>0.0</td>\n",
       "      <td>0.0</td>\n",
       "      <td>0.0</td>\n",
       "      <td>0.0</td>\n",
       "      <td>1.0</td>\n",
       "    </tr>\n",
       "    <tr>\n",
       "      <th>2</th>\n",
       "      <td>0.0</td>\n",
       "      <td>Average</td>\n",
       "      <td>6 Low Average</td>\n",
       "      <td>False</td>\n",
       "      <td>0.0</td>\n",
       "      <td>0.0</td>\n",
       "      <td>0.0</td>\n",
       "      <td>0.0</td>\n",
       "      <td>1.0</td>\n",
       "    </tr>\n",
       "    <tr>\n",
       "      <th>3</th>\n",
       "      <td>0.0</td>\n",
       "      <td>Very Good</td>\n",
       "      <td>7 Average</td>\n",
       "      <td>False</td>\n",
       "      <td>0.0</td>\n",
       "      <td>0.0</td>\n",
       "      <td>0.0</td>\n",
       "      <td>0.0</td>\n",
       "      <td>1.0</td>\n",
       "    </tr>\n",
       "    <tr>\n",
       "      <th>4</th>\n",
       "      <td>0.0</td>\n",
       "      <td>Average</td>\n",
       "      <td>8 Good</td>\n",
       "      <td>False</td>\n",
       "      <td>0.0</td>\n",
       "      <td>0.0</td>\n",
       "      <td>0.0</td>\n",
       "      <td>0.0</td>\n",
       "      <td>1.0</td>\n",
       "    </tr>\n",
       "    <tr>\n",
       "      <th>...</th>\n",
       "      <td>...</td>\n",
       "      <td>...</td>\n",
       "      <td>...</td>\n",
       "      <td>...</td>\n",
       "      <td>...</td>\n",
       "      <td>...</td>\n",
       "      <td>...</td>\n",
       "      <td>...</td>\n",
       "      <td>...</td>\n",
       "    </tr>\n",
       "    <tr>\n",
       "      <th>21592</th>\n",
       "      <td>0.0</td>\n",
       "      <td>Average</td>\n",
       "      <td>8 Good</td>\n",
       "      <td>False</td>\n",
       "      <td>0.0</td>\n",
       "      <td>0.0</td>\n",
       "      <td>0.0</td>\n",
       "      <td>0.0</td>\n",
       "      <td>1.0</td>\n",
       "    </tr>\n",
       "    <tr>\n",
       "      <th>21593</th>\n",
       "      <td>0.0</td>\n",
       "      <td>Average</td>\n",
       "      <td>8 Good</td>\n",
       "      <td>False</td>\n",
       "      <td>0.0</td>\n",
       "      <td>0.0</td>\n",
       "      <td>0.0</td>\n",
       "      <td>0.0</td>\n",
       "      <td>1.0</td>\n",
       "    </tr>\n",
       "    <tr>\n",
       "      <th>21594</th>\n",
       "      <td>0.0</td>\n",
       "      <td>Average</td>\n",
       "      <td>7 Average</td>\n",
       "      <td>False</td>\n",
       "      <td>0.0</td>\n",
       "      <td>0.0</td>\n",
       "      <td>0.0</td>\n",
       "      <td>0.0</td>\n",
       "      <td>1.0</td>\n",
       "    </tr>\n",
       "    <tr>\n",
       "      <th>21595</th>\n",
       "      <td>0.0</td>\n",
       "      <td>Average</td>\n",
       "      <td>8 Good</td>\n",
       "      <td>True</td>\n",
       "      <td>0.0</td>\n",
       "      <td>0.0</td>\n",
       "      <td>0.0</td>\n",
       "      <td>0.0</td>\n",
       "      <td>1.0</td>\n",
       "    </tr>\n",
       "    <tr>\n",
       "      <th>21596</th>\n",
       "      <td>0.0</td>\n",
       "      <td>Average</td>\n",
       "      <td>7 Average</td>\n",
       "      <td>False</td>\n",
       "      <td>0.0</td>\n",
       "      <td>0.0</td>\n",
       "      <td>0.0</td>\n",
       "      <td>0.0</td>\n",
       "      <td>1.0</td>\n",
       "    </tr>\n",
       "  </tbody>\n",
       "</table>\n",
       "<p>21597 rows × 9 columns</p>\n",
       "</div>"
      ],
      "text/plain": [
       "       waterfront  condition          grade  waterfront_missing  AVERAGE  \\\n",
       "0             0.0    Average      7 Average                True      0.0   \n",
       "1             0.0    Average      7 Average               False      0.0   \n",
       "2             0.0    Average  6 Low Average               False      0.0   \n",
       "3             0.0  Very Good      7 Average               False      0.0   \n",
       "4             0.0    Average         8 Good               False      0.0   \n",
       "...           ...        ...            ...                 ...      ...   \n",
       "21592         0.0    Average         8 Good               False      0.0   \n",
       "21593         0.0    Average         8 Good               False      0.0   \n",
       "21594         0.0    Average      7 Average               False      0.0   \n",
       "21595         0.0    Average         8 Good                True      0.0   \n",
       "21596         0.0    Average      7 Average               False      0.0   \n",
       "\n",
       "       View_Excellent  View_Fair  View_Good  No View  \n",
       "0                 0.0        0.0        0.0      1.0  \n",
       "1                 0.0        0.0        0.0      1.0  \n",
       "2                 0.0        0.0        0.0      1.0  \n",
       "3                 0.0        0.0        0.0      1.0  \n",
       "4                 0.0        0.0        0.0      1.0  \n",
       "...               ...        ...        ...      ...  \n",
       "21592             0.0        0.0        0.0      1.0  \n",
       "21593             0.0        0.0        0.0      1.0  \n",
       "21594             0.0        0.0        0.0      1.0  \n",
       "21595             0.0        0.0        0.0      1.0  \n",
       "21596             0.0        0.0        0.0      1.0  \n",
       "\n",
       "[21597 rows x 9 columns]"
      ]
     },
     "execution_count": 46,
     "metadata": {},
     "output_type": "execute_result"
    }
   ],
   "source": [
    "# (5c) Drop original view column\n",
    "categoricals.drop(\"view\", axis=1, inplace=True)\n",
    "\n",
    "# Visually inspect X_train\n",
    "categoricals"
   ]
  },
  {
   "cell_type": "markdown",
   "metadata": {},
   "source": [
    "### ohe condition"
   ]
  },
  {
   "cell_type": "code",
   "execution_count": 47,
   "metadata": {
    "ExecuteTime": {
     "end_time": "2022-02-25T15:19:59.956684Z",
     "start_time": "2022-02-25T15:19:59.942062Z"
    }
   },
   "outputs": [
    {
     "data": {
      "text/plain": [
       "Average      14020\n",
       "Good          5677\n",
       "Very Good     1701\n",
       "Fair           170\n",
       "Poor            29\n",
       "Name: condition, dtype: int64"
      ]
     },
     "execution_count": 47,
     "metadata": {},
     "output_type": "execute_result"
    }
   ],
   "source": [
    "categoricals['condition'].value_counts()"
   ]
  },
  {
   "cell_type": "code",
   "execution_count": 48,
   "metadata": {
    "ExecuteTime": {
     "end_time": "2022-02-25T15:20:01.358381Z",
     "start_time": "2022-02-25T15:20:01.346730Z"
    }
   },
   "outputs": [
    {
     "data": {
      "text/plain": [
       "[array(['Average', 'Fair', 'Good', 'Poor', 'Very Good'], dtype=object)]"
      ]
     },
     "execution_count": 48,
     "metadata": {},
     "output_type": "execute_result"
    }
   ],
   "source": [
    "# (1) Create a variable condition_train\n",
    "# extracted from categoricals\n",
    "# (double brackets due to shape expected by OHE)\n",
    "condition_train = categoricals[[\"condition\"]]\n",
    "\n",
    "# (2) Fit the encoder on fireplace_qu_train\n",
    "ohe.fit(condition_train)\n",
    "\n",
    "# Inspect the categories of the fitted encoder\n",
    "ohe.categories_"
   ]
  },
  {
   "cell_type": "code",
   "execution_count": 49,
   "metadata": {
    "ExecuteTime": {
     "end_time": "2022-02-25T15:20:02.428423Z",
     "start_time": "2022-02-25T15:20:02.410793Z"
    }
   },
   "outputs": [
    {
     "data": {
      "text/plain": [
       "array([[1., 0., 0., 0., 0.],\n",
       "       [1., 0., 0., 0., 0.],\n",
       "       [1., 0., 0., 0., 0.],\n",
       "       ...,\n",
       "       [1., 0., 0., 0., 0.],\n",
       "       [1., 0., 0., 0., 0.],\n",
       "       [1., 0., 0., 0., 0.]])"
      ]
     },
     "execution_count": 49,
     "metadata": {},
     "output_type": "execute_result"
    }
   ],
   "source": [
    "# (3) Transform condition_train using the encoder and\n",
    "# assign the result to condition_encoded_train\n",
    "condition_encoded_train = ohe.transform(condition_train)\n",
    "\n",
    "# Visually inspect condition_encoded_train\n",
    "condition_encoded_train"
   ]
  },
  {
   "cell_type": "code",
   "execution_count": 50,
   "metadata": {
    "ExecuteTime": {
     "end_time": "2022-02-25T15:20:03.136566Z",
     "start_time": "2022-02-25T15:20:03.111109Z"
    }
   },
   "outputs": [
    {
     "data": {
      "text/html": [
       "<div>\n",
       "<style scoped>\n",
       "    .dataframe tbody tr th:only-of-type {\n",
       "        vertical-align: middle;\n",
       "    }\n",
       "\n",
       "    .dataframe tbody tr th {\n",
       "        vertical-align: top;\n",
       "    }\n",
       "\n",
       "    .dataframe thead th {\n",
       "        text-align: right;\n",
       "    }\n",
       "</style>\n",
       "<table border=\"1\" class=\"dataframe\">\n",
       "  <thead>\n",
       "    <tr style=\"text-align: right;\">\n",
       "      <th></th>\n",
       "      <th>Average</th>\n",
       "      <th>Fair</th>\n",
       "      <th>Good</th>\n",
       "      <th>Poor</th>\n",
       "      <th>Very Good</th>\n",
       "    </tr>\n",
       "  </thead>\n",
       "  <tbody>\n",
       "    <tr>\n",
       "      <th>0</th>\n",
       "      <td>1.0</td>\n",
       "      <td>0.0</td>\n",
       "      <td>0.0</td>\n",
       "      <td>0.0</td>\n",
       "      <td>0.0</td>\n",
       "    </tr>\n",
       "    <tr>\n",
       "      <th>1</th>\n",
       "      <td>1.0</td>\n",
       "      <td>0.0</td>\n",
       "      <td>0.0</td>\n",
       "      <td>0.0</td>\n",
       "      <td>0.0</td>\n",
       "    </tr>\n",
       "    <tr>\n",
       "      <th>2</th>\n",
       "      <td>1.0</td>\n",
       "      <td>0.0</td>\n",
       "      <td>0.0</td>\n",
       "      <td>0.0</td>\n",
       "      <td>0.0</td>\n",
       "    </tr>\n",
       "    <tr>\n",
       "      <th>3</th>\n",
       "      <td>0.0</td>\n",
       "      <td>0.0</td>\n",
       "      <td>0.0</td>\n",
       "      <td>0.0</td>\n",
       "      <td>1.0</td>\n",
       "    </tr>\n",
       "    <tr>\n",
       "      <th>4</th>\n",
       "      <td>1.0</td>\n",
       "      <td>0.0</td>\n",
       "      <td>0.0</td>\n",
       "      <td>0.0</td>\n",
       "      <td>0.0</td>\n",
       "    </tr>\n",
       "    <tr>\n",
       "      <th>...</th>\n",
       "      <td>...</td>\n",
       "      <td>...</td>\n",
       "      <td>...</td>\n",
       "      <td>...</td>\n",
       "      <td>...</td>\n",
       "    </tr>\n",
       "    <tr>\n",
       "      <th>21592</th>\n",
       "      <td>1.0</td>\n",
       "      <td>0.0</td>\n",
       "      <td>0.0</td>\n",
       "      <td>0.0</td>\n",
       "      <td>0.0</td>\n",
       "    </tr>\n",
       "    <tr>\n",
       "      <th>21593</th>\n",
       "      <td>1.0</td>\n",
       "      <td>0.0</td>\n",
       "      <td>0.0</td>\n",
       "      <td>0.0</td>\n",
       "      <td>0.0</td>\n",
       "    </tr>\n",
       "    <tr>\n",
       "      <th>21594</th>\n",
       "      <td>1.0</td>\n",
       "      <td>0.0</td>\n",
       "      <td>0.0</td>\n",
       "      <td>0.0</td>\n",
       "      <td>0.0</td>\n",
       "    </tr>\n",
       "    <tr>\n",
       "      <th>21595</th>\n",
       "      <td>1.0</td>\n",
       "      <td>0.0</td>\n",
       "      <td>0.0</td>\n",
       "      <td>0.0</td>\n",
       "      <td>0.0</td>\n",
       "    </tr>\n",
       "    <tr>\n",
       "      <th>21596</th>\n",
       "      <td>1.0</td>\n",
       "      <td>0.0</td>\n",
       "      <td>0.0</td>\n",
       "      <td>0.0</td>\n",
       "      <td>0.0</td>\n",
       "    </tr>\n",
       "  </tbody>\n",
       "</table>\n",
       "<p>21597 rows × 5 columns</p>\n",
       "</div>"
      ],
      "text/plain": [
       "       Average  Fair  Good  Poor  Very Good\n",
       "0          1.0   0.0   0.0   0.0        0.0\n",
       "1          1.0   0.0   0.0   0.0        0.0\n",
       "2          1.0   0.0   0.0   0.0        0.0\n",
       "3          0.0   0.0   0.0   0.0        1.0\n",
       "4          1.0   0.0   0.0   0.0        0.0\n",
       "...        ...   ...   ...   ...        ...\n",
       "21592      1.0   0.0   0.0   0.0        0.0\n",
       "21593      1.0   0.0   0.0   0.0        0.0\n",
       "21594      1.0   0.0   0.0   0.0        0.0\n",
       "21595      1.0   0.0   0.0   0.0        0.0\n",
       "21596      1.0   0.0   0.0   0.0        0.0\n",
       "\n",
       "[21597 rows x 5 columns]"
      ]
     },
     "execution_count": 50,
     "metadata": {},
     "output_type": "execute_result"
    }
   ],
   "source": [
    "# (4a) Make the transformed data into a dataframe\n",
    "condition_encoded_train = pd.DataFrame(\n",
    "    # Pass in NumPy array\n",
    "    condition_encoded_train,\n",
    "    # Set the column names to the categories found by OHE\n",
    "    columns=ohe.categories_[0],\n",
    "    # Set the index to match X_train's index\n",
    "    index=categoricals.index\n",
    ")\n",
    "\n",
    "# Visually inspect new dataframe\n",
    "condition_encoded_train"
   ]
  },
  {
   "cell_type": "code",
   "execution_count": 51,
   "metadata": {
    "ExecuteTime": {
     "end_time": "2022-02-25T15:20:04.014028Z",
     "start_time": "2022-02-25T15:20:03.992827Z"
    }
   },
   "outputs": [
    {
     "data": {
      "text/html": [
       "<div>\n",
       "<style scoped>\n",
       "    .dataframe tbody tr th:only-of-type {\n",
       "        vertical-align: middle;\n",
       "    }\n",
       "\n",
       "    .dataframe tbody tr th {\n",
       "        vertical-align: top;\n",
       "    }\n",
       "\n",
       "    .dataframe thead th {\n",
       "        text-align: right;\n",
       "    }\n",
       "</style>\n",
       "<table border=\"1\" class=\"dataframe\">\n",
       "  <thead>\n",
       "    <tr style=\"text-align: right;\">\n",
       "      <th></th>\n",
       "      <th>Condition_Average</th>\n",
       "      <th>Condition_Fair</th>\n",
       "      <th>Condition_Good</th>\n",
       "      <th>Condition_Poor</th>\n",
       "      <th>Condition_Very Good</th>\n",
       "    </tr>\n",
       "  </thead>\n",
       "  <tbody>\n",
       "    <tr>\n",
       "      <th>0</th>\n",
       "      <td>1.0</td>\n",
       "      <td>0.0</td>\n",
       "      <td>0.0</td>\n",
       "      <td>0.0</td>\n",
       "      <td>0.0</td>\n",
       "    </tr>\n",
       "    <tr>\n",
       "      <th>1</th>\n",
       "      <td>1.0</td>\n",
       "      <td>0.0</td>\n",
       "      <td>0.0</td>\n",
       "      <td>0.0</td>\n",
       "      <td>0.0</td>\n",
       "    </tr>\n",
       "    <tr>\n",
       "      <th>2</th>\n",
       "      <td>1.0</td>\n",
       "      <td>0.0</td>\n",
       "      <td>0.0</td>\n",
       "      <td>0.0</td>\n",
       "      <td>0.0</td>\n",
       "    </tr>\n",
       "    <tr>\n",
       "      <th>3</th>\n",
       "      <td>0.0</td>\n",
       "      <td>0.0</td>\n",
       "      <td>0.0</td>\n",
       "      <td>0.0</td>\n",
       "      <td>1.0</td>\n",
       "    </tr>\n",
       "    <tr>\n",
       "      <th>4</th>\n",
       "      <td>1.0</td>\n",
       "      <td>0.0</td>\n",
       "      <td>0.0</td>\n",
       "      <td>0.0</td>\n",
       "      <td>0.0</td>\n",
       "    </tr>\n",
       "    <tr>\n",
       "      <th>...</th>\n",
       "      <td>...</td>\n",
       "      <td>...</td>\n",
       "      <td>...</td>\n",
       "      <td>...</td>\n",
       "      <td>...</td>\n",
       "    </tr>\n",
       "    <tr>\n",
       "      <th>21592</th>\n",
       "      <td>1.0</td>\n",
       "      <td>0.0</td>\n",
       "      <td>0.0</td>\n",
       "      <td>0.0</td>\n",
       "      <td>0.0</td>\n",
       "    </tr>\n",
       "    <tr>\n",
       "      <th>21593</th>\n",
       "      <td>1.0</td>\n",
       "      <td>0.0</td>\n",
       "      <td>0.0</td>\n",
       "      <td>0.0</td>\n",
       "      <td>0.0</td>\n",
       "    </tr>\n",
       "    <tr>\n",
       "      <th>21594</th>\n",
       "      <td>1.0</td>\n",
       "      <td>0.0</td>\n",
       "      <td>0.0</td>\n",
       "      <td>0.0</td>\n",
       "      <td>0.0</td>\n",
       "    </tr>\n",
       "    <tr>\n",
       "      <th>21595</th>\n",
       "      <td>1.0</td>\n",
       "      <td>0.0</td>\n",
       "      <td>0.0</td>\n",
       "      <td>0.0</td>\n",
       "      <td>0.0</td>\n",
       "    </tr>\n",
       "    <tr>\n",
       "      <th>21596</th>\n",
       "      <td>1.0</td>\n",
       "      <td>0.0</td>\n",
       "      <td>0.0</td>\n",
       "      <td>0.0</td>\n",
       "      <td>0.0</td>\n",
       "    </tr>\n",
       "  </tbody>\n",
       "</table>\n",
       "<p>21597 rows × 5 columns</p>\n",
       "</div>"
      ],
      "text/plain": [
       "       Condition_Average  Condition_Fair  Condition_Good  Condition_Poor  \\\n",
       "0                    1.0             0.0             0.0             0.0   \n",
       "1                    1.0             0.0             0.0             0.0   \n",
       "2                    1.0             0.0             0.0             0.0   \n",
       "3                    0.0             0.0             0.0             0.0   \n",
       "4                    1.0             0.0             0.0             0.0   \n",
       "...                  ...             ...             ...             ...   \n",
       "21592                1.0             0.0             0.0             0.0   \n",
       "21593                1.0             0.0             0.0             0.0   \n",
       "21594                1.0             0.0             0.0             0.0   \n",
       "21595                1.0             0.0             0.0             0.0   \n",
       "21596                1.0             0.0             0.0             0.0   \n",
       "\n",
       "       Condition_Very Good  \n",
       "0                      0.0  \n",
       "1                      0.0  \n",
       "2                      0.0  \n",
       "3                      1.0  \n",
       "4                      0.0  \n",
       "...                    ...  \n",
       "21592                  0.0  \n",
       "21593                  0.0  \n",
       "21594                  0.0  \n",
       "21595                  0.0  \n",
       "21596                  0.0  \n",
       "\n",
       "[21597 rows x 5 columns]"
      ]
     },
     "execution_count": 51,
     "metadata": {},
     "output_type": "execute_result"
    }
   ],
   "source": [
    "condition_encoded_train = condition_encoded_train.rename(columns={'Average':'Condition_Average',\n",
    "                                        'Fair':'Condition_Fair',\n",
    "                                        'Good':'Condition_Good',\n",
    "                                        'Poor':'Condition_Poor',\n",
    "                                        'Very Good':'Condition_Very Good'})\n",
    "condition_encoded_train"
   ]
  },
  {
   "cell_type": "code",
   "execution_count": 52,
   "metadata": {
    "ExecuteTime": {
     "end_time": "2022-02-25T15:20:04.517700Z",
     "start_time": "2022-02-25T15:20:04.471754Z"
    }
   },
   "outputs": [
    {
     "data": {
      "text/html": [
       "<div>\n",
       "<style scoped>\n",
       "    .dataframe tbody tr th:only-of-type {\n",
       "        vertical-align: middle;\n",
       "    }\n",
       "\n",
       "    .dataframe tbody tr th {\n",
       "        vertical-align: top;\n",
       "    }\n",
       "\n",
       "    .dataframe thead th {\n",
       "        text-align: right;\n",
       "    }\n",
       "</style>\n",
       "<table border=\"1\" class=\"dataframe\">\n",
       "  <thead>\n",
       "    <tr style=\"text-align: right;\">\n",
       "      <th></th>\n",
       "      <th>waterfront</th>\n",
       "      <th>condition</th>\n",
       "      <th>grade</th>\n",
       "      <th>waterfront_missing</th>\n",
       "      <th>AVERAGE</th>\n",
       "      <th>View_Excellent</th>\n",
       "      <th>View_Fair</th>\n",
       "      <th>View_Good</th>\n",
       "      <th>No View</th>\n",
       "      <th>Condition_Average</th>\n",
       "      <th>Condition_Fair</th>\n",
       "      <th>Condition_Good</th>\n",
       "      <th>Condition_Poor</th>\n",
       "      <th>Condition_Very Good</th>\n",
       "    </tr>\n",
       "  </thead>\n",
       "  <tbody>\n",
       "    <tr>\n",
       "      <th>0</th>\n",
       "      <td>0.0</td>\n",
       "      <td>Average</td>\n",
       "      <td>7 Average</td>\n",
       "      <td>True</td>\n",
       "      <td>0.0</td>\n",
       "      <td>0.0</td>\n",
       "      <td>0.0</td>\n",
       "      <td>0.0</td>\n",
       "      <td>1.0</td>\n",
       "      <td>1.0</td>\n",
       "      <td>0.0</td>\n",
       "      <td>0.0</td>\n",
       "      <td>0.0</td>\n",
       "      <td>0.0</td>\n",
       "    </tr>\n",
       "    <tr>\n",
       "      <th>1</th>\n",
       "      <td>0.0</td>\n",
       "      <td>Average</td>\n",
       "      <td>7 Average</td>\n",
       "      <td>False</td>\n",
       "      <td>0.0</td>\n",
       "      <td>0.0</td>\n",
       "      <td>0.0</td>\n",
       "      <td>0.0</td>\n",
       "      <td>1.0</td>\n",
       "      <td>1.0</td>\n",
       "      <td>0.0</td>\n",
       "      <td>0.0</td>\n",
       "      <td>0.0</td>\n",
       "      <td>0.0</td>\n",
       "    </tr>\n",
       "    <tr>\n",
       "      <th>2</th>\n",
       "      <td>0.0</td>\n",
       "      <td>Average</td>\n",
       "      <td>6 Low Average</td>\n",
       "      <td>False</td>\n",
       "      <td>0.0</td>\n",
       "      <td>0.0</td>\n",
       "      <td>0.0</td>\n",
       "      <td>0.0</td>\n",
       "      <td>1.0</td>\n",
       "      <td>1.0</td>\n",
       "      <td>0.0</td>\n",
       "      <td>0.0</td>\n",
       "      <td>0.0</td>\n",
       "      <td>0.0</td>\n",
       "    </tr>\n",
       "    <tr>\n",
       "      <th>3</th>\n",
       "      <td>0.0</td>\n",
       "      <td>Very Good</td>\n",
       "      <td>7 Average</td>\n",
       "      <td>False</td>\n",
       "      <td>0.0</td>\n",
       "      <td>0.0</td>\n",
       "      <td>0.0</td>\n",
       "      <td>0.0</td>\n",
       "      <td>1.0</td>\n",
       "      <td>0.0</td>\n",
       "      <td>0.0</td>\n",
       "      <td>0.0</td>\n",
       "      <td>0.0</td>\n",
       "      <td>1.0</td>\n",
       "    </tr>\n",
       "    <tr>\n",
       "      <th>4</th>\n",
       "      <td>0.0</td>\n",
       "      <td>Average</td>\n",
       "      <td>8 Good</td>\n",
       "      <td>False</td>\n",
       "      <td>0.0</td>\n",
       "      <td>0.0</td>\n",
       "      <td>0.0</td>\n",
       "      <td>0.0</td>\n",
       "      <td>1.0</td>\n",
       "      <td>1.0</td>\n",
       "      <td>0.0</td>\n",
       "      <td>0.0</td>\n",
       "      <td>0.0</td>\n",
       "      <td>0.0</td>\n",
       "    </tr>\n",
       "    <tr>\n",
       "      <th>...</th>\n",
       "      <td>...</td>\n",
       "      <td>...</td>\n",
       "      <td>...</td>\n",
       "      <td>...</td>\n",
       "      <td>...</td>\n",
       "      <td>...</td>\n",
       "      <td>...</td>\n",
       "      <td>...</td>\n",
       "      <td>...</td>\n",
       "      <td>...</td>\n",
       "      <td>...</td>\n",
       "      <td>...</td>\n",
       "      <td>...</td>\n",
       "      <td>...</td>\n",
       "    </tr>\n",
       "    <tr>\n",
       "      <th>21592</th>\n",
       "      <td>0.0</td>\n",
       "      <td>Average</td>\n",
       "      <td>8 Good</td>\n",
       "      <td>False</td>\n",
       "      <td>0.0</td>\n",
       "      <td>0.0</td>\n",
       "      <td>0.0</td>\n",
       "      <td>0.0</td>\n",
       "      <td>1.0</td>\n",
       "      <td>1.0</td>\n",
       "      <td>0.0</td>\n",
       "      <td>0.0</td>\n",
       "      <td>0.0</td>\n",
       "      <td>0.0</td>\n",
       "    </tr>\n",
       "    <tr>\n",
       "      <th>21593</th>\n",
       "      <td>0.0</td>\n",
       "      <td>Average</td>\n",
       "      <td>8 Good</td>\n",
       "      <td>False</td>\n",
       "      <td>0.0</td>\n",
       "      <td>0.0</td>\n",
       "      <td>0.0</td>\n",
       "      <td>0.0</td>\n",
       "      <td>1.0</td>\n",
       "      <td>1.0</td>\n",
       "      <td>0.0</td>\n",
       "      <td>0.0</td>\n",
       "      <td>0.0</td>\n",
       "      <td>0.0</td>\n",
       "    </tr>\n",
       "    <tr>\n",
       "      <th>21594</th>\n",
       "      <td>0.0</td>\n",
       "      <td>Average</td>\n",
       "      <td>7 Average</td>\n",
       "      <td>False</td>\n",
       "      <td>0.0</td>\n",
       "      <td>0.0</td>\n",
       "      <td>0.0</td>\n",
       "      <td>0.0</td>\n",
       "      <td>1.0</td>\n",
       "      <td>1.0</td>\n",
       "      <td>0.0</td>\n",
       "      <td>0.0</td>\n",
       "      <td>0.0</td>\n",
       "      <td>0.0</td>\n",
       "    </tr>\n",
       "    <tr>\n",
       "      <th>21595</th>\n",
       "      <td>0.0</td>\n",
       "      <td>Average</td>\n",
       "      <td>8 Good</td>\n",
       "      <td>True</td>\n",
       "      <td>0.0</td>\n",
       "      <td>0.0</td>\n",
       "      <td>0.0</td>\n",
       "      <td>0.0</td>\n",
       "      <td>1.0</td>\n",
       "      <td>1.0</td>\n",
       "      <td>0.0</td>\n",
       "      <td>0.0</td>\n",
       "      <td>0.0</td>\n",
       "      <td>0.0</td>\n",
       "    </tr>\n",
       "    <tr>\n",
       "      <th>21596</th>\n",
       "      <td>0.0</td>\n",
       "      <td>Average</td>\n",
       "      <td>7 Average</td>\n",
       "      <td>False</td>\n",
       "      <td>0.0</td>\n",
       "      <td>0.0</td>\n",
       "      <td>0.0</td>\n",
       "      <td>0.0</td>\n",
       "      <td>1.0</td>\n",
       "      <td>1.0</td>\n",
       "      <td>0.0</td>\n",
       "      <td>0.0</td>\n",
       "      <td>0.0</td>\n",
       "      <td>0.0</td>\n",
       "    </tr>\n",
       "  </tbody>\n",
       "</table>\n",
       "<p>21597 rows × 14 columns</p>\n",
       "</div>"
      ],
      "text/plain": [
       "       waterfront  condition          grade  waterfront_missing  AVERAGE  \\\n",
       "0             0.0    Average      7 Average                True      0.0   \n",
       "1             0.0    Average      7 Average               False      0.0   \n",
       "2             0.0    Average  6 Low Average               False      0.0   \n",
       "3             0.0  Very Good      7 Average               False      0.0   \n",
       "4             0.0    Average         8 Good               False      0.0   \n",
       "...           ...        ...            ...                 ...      ...   \n",
       "21592         0.0    Average         8 Good               False      0.0   \n",
       "21593         0.0    Average         8 Good               False      0.0   \n",
       "21594         0.0    Average      7 Average               False      0.0   \n",
       "21595         0.0    Average         8 Good                True      0.0   \n",
       "21596         0.0    Average      7 Average               False      0.0   \n",
       "\n",
       "       View_Excellent  View_Fair  View_Good  No View  Condition_Average  \\\n",
       "0                 0.0        0.0        0.0      1.0                1.0   \n",
       "1                 0.0        0.0        0.0      1.0                1.0   \n",
       "2                 0.0        0.0        0.0      1.0                1.0   \n",
       "3                 0.0        0.0        0.0      1.0                0.0   \n",
       "4                 0.0        0.0        0.0      1.0                1.0   \n",
       "...               ...        ...        ...      ...                ...   \n",
       "21592             0.0        0.0        0.0      1.0                1.0   \n",
       "21593             0.0        0.0        0.0      1.0                1.0   \n",
       "21594             0.0        0.0        0.0      1.0                1.0   \n",
       "21595             0.0        0.0        0.0      1.0                1.0   \n",
       "21596             0.0        0.0        0.0      1.0                1.0   \n",
       "\n",
       "       Condition_Fair  Condition_Good  Condition_Poor  Condition_Very Good  \n",
       "0                 0.0             0.0             0.0                  0.0  \n",
       "1                 0.0             0.0             0.0                  0.0  \n",
       "2                 0.0             0.0             0.0                  0.0  \n",
       "3                 0.0             0.0             0.0                  1.0  \n",
       "4                 0.0             0.0             0.0                  0.0  \n",
       "...               ...             ...             ...                  ...  \n",
       "21592             0.0             0.0             0.0                  0.0  \n",
       "21593             0.0             0.0             0.0                  0.0  \n",
       "21594             0.0             0.0             0.0                  0.0  \n",
       "21595             0.0             0.0             0.0                  0.0  \n",
       "21596             0.0             0.0             0.0                  0.0  \n",
       "\n",
       "[21597 rows x 14 columns]"
      ]
     },
     "execution_count": 52,
     "metadata": {},
     "output_type": "execute_result"
    }
   ],
   "source": [
    "# (4b) Concatenate the new dataframe with current categoricals\n",
    "categoricals = pd.concat([categoricals, condition_encoded_train], axis=1)\n",
    "\n",
    "# Visually inspect categoricals\n",
    "categoricals"
   ]
  },
  {
   "cell_type": "code",
   "execution_count": 53,
   "metadata": {
    "ExecuteTime": {
     "end_time": "2022-02-25T15:20:05.478408Z",
     "start_time": "2022-02-25T15:20:05.424238Z"
    }
   },
   "outputs": [
    {
     "data": {
      "text/html": [
       "<div>\n",
       "<style scoped>\n",
       "    .dataframe tbody tr th:only-of-type {\n",
       "        vertical-align: middle;\n",
       "    }\n",
       "\n",
       "    .dataframe tbody tr th {\n",
       "        vertical-align: top;\n",
       "    }\n",
       "\n",
       "    .dataframe thead th {\n",
       "        text-align: right;\n",
       "    }\n",
       "</style>\n",
       "<table border=\"1\" class=\"dataframe\">\n",
       "  <thead>\n",
       "    <tr style=\"text-align: right;\">\n",
       "      <th></th>\n",
       "      <th>waterfront</th>\n",
       "      <th>grade</th>\n",
       "      <th>waterfront_missing</th>\n",
       "      <th>AVERAGE</th>\n",
       "      <th>View_Excellent</th>\n",
       "      <th>View_Fair</th>\n",
       "      <th>View_Good</th>\n",
       "      <th>No View</th>\n",
       "      <th>Condition_Average</th>\n",
       "      <th>Condition_Fair</th>\n",
       "      <th>Condition_Good</th>\n",
       "      <th>Condition_Poor</th>\n",
       "      <th>Condition_Very Good</th>\n",
       "    </tr>\n",
       "  </thead>\n",
       "  <tbody>\n",
       "    <tr>\n",
       "      <th>0</th>\n",
       "      <td>0.0</td>\n",
       "      <td>7 Average</td>\n",
       "      <td>True</td>\n",
       "      <td>0.0</td>\n",
       "      <td>0.0</td>\n",
       "      <td>0.0</td>\n",
       "      <td>0.0</td>\n",
       "      <td>1.0</td>\n",
       "      <td>1.0</td>\n",
       "      <td>0.0</td>\n",
       "      <td>0.0</td>\n",
       "      <td>0.0</td>\n",
       "      <td>0.0</td>\n",
       "    </tr>\n",
       "    <tr>\n",
       "      <th>1</th>\n",
       "      <td>0.0</td>\n",
       "      <td>7 Average</td>\n",
       "      <td>False</td>\n",
       "      <td>0.0</td>\n",
       "      <td>0.0</td>\n",
       "      <td>0.0</td>\n",
       "      <td>0.0</td>\n",
       "      <td>1.0</td>\n",
       "      <td>1.0</td>\n",
       "      <td>0.0</td>\n",
       "      <td>0.0</td>\n",
       "      <td>0.0</td>\n",
       "      <td>0.0</td>\n",
       "    </tr>\n",
       "    <tr>\n",
       "      <th>2</th>\n",
       "      <td>0.0</td>\n",
       "      <td>6 Low Average</td>\n",
       "      <td>False</td>\n",
       "      <td>0.0</td>\n",
       "      <td>0.0</td>\n",
       "      <td>0.0</td>\n",
       "      <td>0.0</td>\n",
       "      <td>1.0</td>\n",
       "      <td>1.0</td>\n",
       "      <td>0.0</td>\n",
       "      <td>0.0</td>\n",
       "      <td>0.0</td>\n",
       "      <td>0.0</td>\n",
       "    </tr>\n",
       "    <tr>\n",
       "      <th>3</th>\n",
       "      <td>0.0</td>\n",
       "      <td>7 Average</td>\n",
       "      <td>False</td>\n",
       "      <td>0.0</td>\n",
       "      <td>0.0</td>\n",
       "      <td>0.0</td>\n",
       "      <td>0.0</td>\n",
       "      <td>1.0</td>\n",
       "      <td>0.0</td>\n",
       "      <td>0.0</td>\n",
       "      <td>0.0</td>\n",
       "      <td>0.0</td>\n",
       "      <td>1.0</td>\n",
       "    </tr>\n",
       "    <tr>\n",
       "      <th>4</th>\n",
       "      <td>0.0</td>\n",
       "      <td>8 Good</td>\n",
       "      <td>False</td>\n",
       "      <td>0.0</td>\n",
       "      <td>0.0</td>\n",
       "      <td>0.0</td>\n",
       "      <td>0.0</td>\n",
       "      <td>1.0</td>\n",
       "      <td>1.0</td>\n",
       "      <td>0.0</td>\n",
       "      <td>0.0</td>\n",
       "      <td>0.0</td>\n",
       "      <td>0.0</td>\n",
       "    </tr>\n",
       "    <tr>\n",
       "      <th>...</th>\n",
       "      <td>...</td>\n",
       "      <td>...</td>\n",
       "      <td>...</td>\n",
       "      <td>...</td>\n",
       "      <td>...</td>\n",
       "      <td>...</td>\n",
       "      <td>...</td>\n",
       "      <td>...</td>\n",
       "      <td>...</td>\n",
       "      <td>...</td>\n",
       "      <td>...</td>\n",
       "      <td>...</td>\n",
       "      <td>...</td>\n",
       "    </tr>\n",
       "    <tr>\n",
       "      <th>21592</th>\n",
       "      <td>0.0</td>\n",
       "      <td>8 Good</td>\n",
       "      <td>False</td>\n",
       "      <td>0.0</td>\n",
       "      <td>0.0</td>\n",
       "      <td>0.0</td>\n",
       "      <td>0.0</td>\n",
       "      <td>1.0</td>\n",
       "      <td>1.0</td>\n",
       "      <td>0.0</td>\n",
       "      <td>0.0</td>\n",
       "      <td>0.0</td>\n",
       "      <td>0.0</td>\n",
       "    </tr>\n",
       "    <tr>\n",
       "      <th>21593</th>\n",
       "      <td>0.0</td>\n",
       "      <td>8 Good</td>\n",
       "      <td>False</td>\n",
       "      <td>0.0</td>\n",
       "      <td>0.0</td>\n",
       "      <td>0.0</td>\n",
       "      <td>0.0</td>\n",
       "      <td>1.0</td>\n",
       "      <td>1.0</td>\n",
       "      <td>0.0</td>\n",
       "      <td>0.0</td>\n",
       "      <td>0.0</td>\n",
       "      <td>0.0</td>\n",
       "    </tr>\n",
       "    <tr>\n",
       "      <th>21594</th>\n",
       "      <td>0.0</td>\n",
       "      <td>7 Average</td>\n",
       "      <td>False</td>\n",
       "      <td>0.0</td>\n",
       "      <td>0.0</td>\n",
       "      <td>0.0</td>\n",
       "      <td>0.0</td>\n",
       "      <td>1.0</td>\n",
       "      <td>1.0</td>\n",
       "      <td>0.0</td>\n",
       "      <td>0.0</td>\n",
       "      <td>0.0</td>\n",
       "      <td>0.0</td>\n",
       "    </tr>\n",
       "    <tr>\n",
       "      <th>21595</th>\n",
       "      <td>0.0</td>\n",
       "      <td>8 Good</td>\n",
       "      <td>True</td>\n",
       "      <td>0.0</td>\n",
       "      <td>0.0</td>\n",
       "      <td>0.0</td>\n",
       "      <td>0.0</td>\n",
       "      <td>1.0</td>\n",
       "      <td>1.0</td>\n",
       "      <td>0.0</td>\n",
       "      <td>0.0</td>\n",
       "      <td>0.0</td>\n",
       "      <td>0.0</td>\n",
       "    </tr>\n",
       "    <tr>\n",
       "      <th>21596</th>\n",
       "      <td>0.0</td>\n",
       "      <td>7 Average</td>\n",
       "      <td>False</td>\n",
       "      <td>0.0</td>\n",
       "      <td>0.0</td>\n",
       "      <td>0.0</td>\n",
       "      <td>0.0</td>\n",
       "      <td>1.0</td>\n",
       "      <td>1.0</td>\n",
       "      <td>0.0</td>\n",
       "      <td>0.0</td>\n",
       "      <td>0.0</td>\n",
       "      <td>0.0</td>\n",
       "    </tr>\n",
       "  </tbody>\n",
       "</table>\n",
       "<p>21597 rows × 13 columns</p>\n",
       "</div>"
      ],
      "text/plain": [
       "       waterfront          grade  waterfront_missing  AVERAGE  View_Excellent  \\\n",
       "0             0.0      7 Average                True      0.0             0.0   \n",
       "1             0.0      7 Average               False      0.0             0.0   \n",
       "2             0.0  6 Low Average               False      0.0             0.0   \n",
       "3             0.0      7 Average               False      0.0             0.0   \n",
       "4             0.0         8 Good               False      0.0             0.0   \n",
       "...           ...            ...                 ...      ...             ...   \n",
       "21592         0.0         8 Good               False      0.0             0.0   \n",
       "21593         0.0         8 Good               False      0.0             0.0   \n",
       "21594         0.0      7 Average               False      0.0             0.0   \n",
       "21595         0.0         8 Good                True      0.0             0.0   \n",
       "21596         0.0      7 Average               False      0.0             0.0   \n",
       "\n",
       "       View_Fair  View_Good  No View  Condition_Average  Condition_Fair  \\\n",
       "0            0.0        0.0      1.0                1.0             0.0   \n",
       "1            0.0        0.0      1.0                1.0             0.0   \n",
       "2            0.0        0.0      1.0                1.0             0.0   \n",
       "3            0.0        0.0      1.0                0.0             0.0   \n",
       "4            0.0        0.0      1.0                1.0             0.0   \n",
       "...          ...        ...      ...                ...             ...   \n",
       "21592        0.0        0.0      1.0                1.0             0.0   \n",
       "21593        0.0        0.0      1.0                1.0             0.0   \n",
       "21594        0.0        0.0      1.0                1.0             0.0   \n",
       "21595        0.0        0.0      1.0                1.0             0.0   \n",
       "21596        0.0        0.0      1.0                1.0             0.0   \n",
       "\n",
       "       Condition_Good  Condition_Poor  Condition_Very Good  \n",
       "0                 0.0             0.0                  0.0  \n",
       "1                 0.0             0.0                  0.0  \n",
       "2                 0.0             0.0                  0.0  \n",
       "3                 0.0             0.0                  1.0  \n",
       "4                 0.0             0.0                  0.0  \n",
       "...               ...             ...                  ...  \n",
       "21592             0.0             0.0                  0.0  \n",
       "21593             0.0             0.0                  0.0  \n",
       "21594             0.0             0.0                  0.0  \n",
       "21595             0.0             0.0                  0.0  \n",
       "21596             0.0             0.0                  0.0  \n",
       "\n",
       "[21597 rows x 13 columns]"
      ]
     },
     "execution_count": 53,
     "metadata": {},
     "output_type": "execute_result"
    }
   ],
   "source": [
    "# (4c) Drop original condition column\n",
    "categoricals.drop(\"condition\", axis=1, inplace=True)\n",
    "\n",
    "# Visually inspect X_train\n",
    "categoricals"
   ]
  },
  {
   "cell_type": "markdown",
   "metadata": {},
   "source": [
    "### ohe grade"
   ]
  },
  {
   "cell_type": "code",
   "execution_count": 54,
   "metadata": {
    "ExecuteTime": {
     "end_time": "2022-02-25T15:20:06.647829Z",
     "start_time": "2022-02-25T15:20:06.633121Z"
    }
   },
   "outputs": [
    {
     "data": {
      "text/plain": [
       "7 Average        8974\n",
       "8 Good           6065\n",
       "9 Better         2615\n",
       "6 Low Average    2038\n",
       "10 Very Good     1134\n",
       "11 Excellent      399\n",
       "5 Fair            242\n",
       "12 Luxury          89\n",
       "4 Low              27\n",
       "13 Mansion         13\n",
       "3 Poor              1\n",
       "Name: grade, dtype: int64"
      ]
     },
     "execution_count": 54,
     "metadata": {},
     "output_type": "execute_result"
    }
   ],
   "source": [
    "categoricals['grade'].value_counts(dropna=False)"
   ]
  },
  {
   "cell_type": "markdown",
   "metadata": {},
   "source": [
    "### Try ohe an easier way."
   ]
  },
  {
   "cell_type": "markdown",
   "metadata": {},
   "source": [
    "## One-Hot-Encode Simplified\n",
    "* For waterfront, view, condition, and grade."
   ]
  },
  {
   "cell_type": "code",
   "execution_count": 227,
   "metadata": {
    "ExecuteTime": {
     "end_time": "2022-02-25T15:54:47.351397Z",
     "start_time": "2022-02-25T15:54:47.339150Z"
    }
   },
   "outputs": [
    {
     "data": {
      "text/plain": [
       "waterfront            0\n",
       "view                  0\n",
       "condition             0\n",
       "grade                 0\n",
       "waterfront_missing    0\n",
       "dtype: int64"
      ]
     },
     "execution_count": 227,
     "metadata": {},
     "output_type": "execute_result"
    }
   ],
   "source": [
    "# use preprocessed categoricals data frame\n",
    "cats = preprocessed\n",
    "\n",
    "cats.isnull().sum()"
   ]
  },
  {
   "cell_type": "code",
   "execution_count": 228,
   "metadata": {
    "ExecuteTime": {
     "end_time": "2022-02-25T15:54:54.826364Z",
     "start_time": "2022-02-25T15:54:54.806193Z"
    }
   },
   "outputs": [],
   "source": [
    "water_dummies = pd.get_dummies(cats['waterfront'], prefix='water', drop_first=True)\n",
    "view_dummies = pd.get_dummies(cats['view'], prefix='view', drop_first=True)\n",
    "condition_dummies = pd.get_dummies(cats['condition'], prefix='condition', drop_first=True)\n",
    "grade_dummies = pd.get_dummies(cats['grade'], prefix='grade', drop_first=True)"
   ]
  },
  {
   "cell_type": "code",
   "execution_count": 229,
   "metadata": {
    "ExecuteTime": {
     "end_time": "2022-02-25T15:54:55.825945Z",
     "start_time": "2022-02-25T15:54:55.818696Z"
    }
   },
   "outputs": [],
   "source": [
    "cats = cats.drop(['waterfront','view','condition','grade'], axis=1)"
   ]
  },
  {
   "cell_type": "code",
   "execution_count": 235,
   "metadata": {
    "ExecuteTime": {
     "end_time": "2022-02-25T15:56:06.510477Z",
     "start_time": "2022-02-25T15:56:06.481193Z"
    }
   },
   "outputs": [
    {
     "data": {
      "text/html": [
       "<div>\n",
       "<style scoped>\n",
       "    .dataframe tbody tr th:only-of-type {\n",
       "        vertical-align: middle;\n",
       "    }\n",
       "\n",
       "    .dataframe tbody tr th {\n",
       "        vertical-align: top;\n",
       "    }\n",
       "\n",
       "    .dataframe thead th {\n",
       "        text-align: right;\n",
       "    }\n",
       "</style>\n",
       "<table border=\"1\" class=\"dataframe\">\n",
       "  <thead>\n",
       "    <tr style=\"text-align: right;\">\n",
       "      <th></th>\n",
       "      <th>sqft_living_log</th>\n",
       "      <th>bathrooms_log</th>\n",
       "      <th>bedrooms_log</th>\n",
       "      <th>price_log</th>\n",
       "      <th>water_1.0</th>\n",
       "      <th>view_EXCELLENT</th>\n",
       "      <th>view_FAIR</th>\n",
       "      <th>view_GOOD</th>\n",
       "      <th>view_NONE</th>\n",
       "      <th>condition_Fair</th>\n",
       "      <th>...</th>\n",
       "      <th>grade_11 Excellent</th>\n",
       "      <th>grade_12 Luxury</th>\n",
       "      <th>grade_13 Mansion</th>\n",
       "      <th>grade_3 Poor</th>\n",
       "      <th>grade_4 Low</th>\n",
       "      <th>grade_5 Fair</th>\n",
       "      <th>grade_6 Low Average</th>\n",
       "      <th>grade_7 Average</th>\n",
       "      <th>grade_8 Good</th>\n",
       "      <th>grade_9 Better</th>\n",
       "    </tr>\n",
       "  </thead>\n",
       "  <tbody>\n",
       "    <tr>\n",
       "      <th>0</th>\n",
       "      <td>-1.125556</td>\n",
       "      <td>-1.726509</td>\n",
       "      <td>-0.279718</td>\n",
       "      <td>-1.401998</td>\n",
       "      <td>0</td>\n",
       "      <td>0</td>\n",
       "      <td>0</td>\n",
       "      <td>0</td>\n",
       "      <td>1</td>\n",
       "      <td>0</td>\n",
       "      <td>...</td>\n",
       "      <td>0</td>\n",
       "      <td>0</td>\n",
       "      <td>0</td>\n",
       "      <td>0</td>\n",
       "      <td>0</td>\n",
       "      <td>0</td>\n",
       "      <td>0</td>\n",
       "      <td>1</td>\n",
       "      <td>0</td>\n",
       "      <td>0</td>\n",
       "    </tr>\n",
       "    <tr>\n",
       "      <th>1</th>\n",
       "      <td>0.709446</td>\n",
       "      <td>0.339653</td>\n",
       "      <td>-0.279718</td>\n",
       "      <td>0.279938</td>\n",
       "      <td>0</td>\n",
       "      <td>0</td>\n",
       "      <td>0</td>\n",
       "      <td>0</td>\n",
       "      <td>1</td>\n",
       "      <td>0</td>\n",
       "      <td>...</td>\n",
       "      <td>0</td>\n",
       "      <td>0</td>\n",
       "      <td>0</td>\n",
       "      <td>0</td>\n",
       "      <td>0</td>\n",
       "      <td>0</td>\n",
       "      <td>0</td>\n",
       "      <td>1</td>\n",
       "      <td>0</td>\n",
       "      <td>0</td>\n",
       "    </tr>\n",
       "    <tr>\n",
       "      <th>2</th>\n",
       "      <td>-2.131893</td>\n",
       "      <td>-1.726509</td>\n",
       "      <td>-1.711611</td>\n",
       "      <td>-1.799430</td>\n",
       "      <td>0</td>\n",
       "      <td>0</td>\n",
       "      <td>0</td>\n",
       "      <td>0</td>\n",
       "      <td>1</td>\n",
       "      <td>0</td>\n",
       "      <td>...</td>\n",
       "      <td>0</td>\n",
       "      <td>0</td>\n",
       "      <td>0</td>\n",
       "      <td>0</td>\n",
       "      <td>0</td>\n",
       "      <td>0</td>\n",
       "      <td>1</td>\n",
       "      <td>0</td>\n",
       "      <td>0</td>\n",
       "      <td>0</td>\n",
       "    </tr>\n",
       "    <tr>\n",
       "      <th>3</th>\n",
       "      <td>0.070674</td>\n",
       "      <td>1.072635</td>\n",
       "      <td>0.736226</td>\n",
       "      <td>0.499698</td>\n",
       "      <td>0</td>\n",
       "      <td>0</td>\n",
       "      <td>0</td>\n",
       "      <td>0</td>\n",
       "      <td>1</td>\n",
       "      <td>0</td>\n",
       "      <td>...</td>\n",
       "      <td>0</td>\n",
       "      <td>0</td>\n",
       "      <td>0</td>\n",
       "      <td>0</td>\n",
       "      <td>0</td>\n",
       "      <td>0</td>\n",
       "      <td>0</td>\n",
       "      <td>1</td>\n",
       "      <td>0</td>\n",
       "      <td>0</td>\n",
       "    </tr>\n",
       "    <tr>\n",
       "      <th>4</th>\n",
       "      <td>-0.292725</td>\n",
       "      <td>0.039555</td>\n",
       "      <td>-0.279718</td>\n",
       "      <td>0.178434</td>\n",
       "      <td>0</td>\n",
       "      <td>0</td>\n",
       "      <td>0</td>\n",
       "      <td>0</td>\n",
       "      <td>1</td>\n",
       "      <td>0</td>\n",
       "      <td>...</td>\n",
       "      <td>0</td>\n",
       "      <td>0</td>\n",
       "      <td>0</td>\n",
       "      <td>0</td>\n",
       "      <td>0</td>\n",
       "      <td>0</td>\n",
       "      <td>0</td>\n",
       "      <td>0</td>\n",
       "      <td>1</td>\n",
       "      <td>0</td>\n",
       "    </tr>\n",
       "  </tbody>\n",
       "</table>\n",
       "<p>5 rows × 23 columns</p>\n",
       "</div>"
      ],
      "text/plain": [
       "   sqft_living_log  bathrooms_log  bedrooms_log  price_log  water_1.0  \\\n",
       "0        -1.125556      -1.726509     -0.279718  -1.401998          0   \n",
       "1         0.709446       0.339653     -0.279718   0.279938          0   \n",
       "2        -2.131893      -1.726509     -1.711611  -1.799430          0   \n",
       "3         0.070674       1.072635      0.736226   0.499698          0   \n",
       "4        -0.292725       0.039555     -0.279718   0.178434          0   \n",
       "\n",
       "   view_EXCELLENT  view_FAIR  view_GOOD  view_NONE  condition_Fair  ...  \\\n",
       "0               0          0          0          1               0  ...   \n",
       "1               0          0          0          1               0  ...   \n",
       "2               0          0          0          1               0  ...   \n",
       "3               0          0          0          1               0  ...   \n",
       "4               0          0          0          1               0  ...   \n",
       "\n",
       "   grade_11 Excellent  grade_12 Luxury  grade_13 Mansion  grade_3 Poor  \\\n",
       "0                   0                0                 0             0   \n",
       "1                   0                0                 0             0   \n",
       "2                   0                0                 0             0   \n",
       "3                   0                0                 0             0   \n",
       "4                   0                0                 0             0   \n",
       "\n",
       "   grade_4 Low  grade_5 Fair  grade_6 Low Average  grade_7 Average  \\\n",
       "0            0             0                    0                1   \n",
       "1            0             0                    0                1   \n",
       "2            0             0                    1                0   \n",
       "3            0             0                    0                1   \n",
       "4            0             0                    0                0   \n",
       "\n",
       "   grade_8 Good  grade_9 Better  \n",
       "0             0               0  \n",
       "1             0               0  \n",
       "2             0               0  \n",
       "3             0               0  \n",
       "4             1               0  \n",
       "\n",
       "[5 rows x 23 columns]"
      ]
     },
     "execution_count": 235,
     "metadata": {},
     "output_type": "execute_result"
    }
   ],
   "source": [
    "# create data frame with ohe features only\n",
    "ohe_only = pd.concat([water_dummies,\n",
    "                      view_dummies,\n",
    "                      condition_dummies,\n",
    "                      grade_dummies], axis=1)\n",
    "\n",
    "# create data frame with numerical and categorical features\n",
    "cats_added = pd.concat([features_final,\n",
    "                        water_dummies,\n",
    "                        view_dummies, \n",
    "                        condition_dummies,\n",
    "                        grade_dummies], axis=1)\n",
    "cats_added.head()"
   ]
  },
  {
   "cell_type": "code",
   "execution_count": 236,
   "metadata": {
    "ExecuteTime": {
     "end_time": "2022-02-25T15:56:09.140624Z",
     "start_time": "2022-02-25T15:56:09.109070Z"
    }
   },
   "outputs": [
    {
     "data": {
      "text/html": [
       "<div>\n",
       "<style scoped>\n",
       "    .dataframe tbody tr th:only-of-type {\n",
       "        vertical-align: middle;\n",
       "    }\n",
       "\n",
       "    .dataframe tbody tr th {\n",
       "        vertical-align: top;\n",
       "    }\n",
       "\n",
       "    .dataframe thead th {\n",
       "        text-align: right;\n",
       "    }\n",
       "</style>\n",
       "<table border=\"1\" class=\"dataframe\">\n",
       "  <thead>\n",
       "    <tr style=\"text-align: right;\">\n",
       "      <th></th>\n",
       "      <th>water_1.0</th>\n",
       "      <th>view_EXCELLENT</th>\n",
       "      <th>view_FAIR</th>\n",
       "      <th>view_GOOD</th>\n",
       "      <th>view_NONE</th>\n",
       "      <th>condition_Fair</th>\n",
       "      <th>condition_Good</th>\n",
       "      <th>condition_Poor</th>\n",
       "      <th>condition_Very Good</th>\n",
       "      <th>grade_11 Excellent</th>\n",
       "      <th>grade_12 Luxury</th>\n",
       "      <th>grade_13 Mansion</th>\n",
       "      <th>grade_3 Poor</th>\n",
       "      <th>grade_4 Low</th>\n",
       "      <th>grade_5 Fair</th>\n",
       "      <th>grade_6 Low Average</th>\n",
       "      <th>grade_7 Average</th>\n",
       "      <th>grade_8 Good</th>\n",
       "      <th>grade_9 Better</th>\n",
       "    </tr>\n",
       "  </thead>\n",
       "  <tbody>\n",
       "    <tr>\n",
       "      <th>0</th>\n",
       "      <td>0</td>\n",
       "      <td>0</td>\n",
       "      <td>0</td>\n",
       "      <td>0</td>\n",
       "      <td>1</td>\n",
       "      <td>0</td>\n",
       "      <td>0</td>\n",
       "      <td>0</td>\n",
       "      <td>0</td>\n",
       "      <td>0</td>\n",
       "      <td>0</td>\n",
       "      <td>0</td>\n",
       "      <td>0</td>\n",
       "      <td>0</td>\n",
       "      <td>0</td>\n",
       "      <td>0</td>\n",
       "      <td>1</td>\n",
       "      <td>0</td>\n",
       "      <td>0</td>\n",
       "    </tr>\n",
       "    <tr>\n",
       "      <th>1</th>\n",
       "      <td>0</td>\n",
       "      <td>0</td>\n",
       "      <td>0</td>\n",
       "      <td>0</td>\n",
       "      <td>1</td>\n",
       "      <td>0</td>\n",
       "      <td>0</td>\n",
       "      <td>0</td>\n",
       "      <td>0</td>\n",
       "      <td>0</td>\n",
       "      <td>0</td>\n",
       "      <td>0</td>\n",
       "      <td>0</td>\n",
       "      <td>0</td>\n",
       "      <td>0</td>\n",
       "      <td>0</td>\n",
       "      <td>1</td>\n",
       "      <td>0</td>\n",
       "      <td>0</td>\n",
       "    </tr>\n",
       "    <tr>\n",
       "      <th>2</th>\n",
       "      <td>0</td>\n",
       "      <td>0</td>\n",
       "      <td>0</td>\n",
       "      <td>0</td>\n",
       "      <td>1</td>\n",
       "      <td>0</td>\n",
       "      <td>0</td>\n",
       "      <td>0</td>\n",
       "      <td>0</td>\n",
       "      <td>0</td>\n",
       "      <td>0</td>\n",
       "      <td>0</td>\n",
       "      <td>0</td>\n",
       "      <td>0</td>\n",
       "      <td>0</td>\n",
       "      <td>1</td>\n",
       "      <td>0</td>\n",
       "      <td>0</td>\n",
       "      <td>0</td>\n",
       "    </tr>\n",
       "    <tr>\n",
       "      <th>3</th>\n",
       "      <td>0</td>\n",
       "      <td>0</td>\n",
       "      <td>0</td>\n",
       "      <td>0</td>\n",
       "      <td>1</td>\n",
       "      <td>0</td>\n",
       "      <td>0</td>\n",
       "      <td>0</td>\n",
       "      <td>1</td>\n",
       "      <td>0</td>\n",
       "      <td>0</td>\n",
       "      <td>0</td>\n",
       "      <td>0</td>\n",
       "      <td>0</td>\n",
       "      <td>0</td>\n",
       "      <td>0</td>\n",
       "      <td>1</td>\n",
       "      <td>0</td>\n",
       "      <td>0</td>\n",
       "    </tr>\n",
       "    <tr>\n",
       "      <th>4</th>\n",
       "      <td>0</td>\n",
       "      <td>0</td>\n",
       "      <td>0</td>\n",
       "      <td>0</td>\n",
       "      <td>1</td>\n",
       "      <td>0</td>\n",
       "      <td>0</td>\n",
       "      <td>0</td>\n",
       "      <td>0</td>\n",
       "      <td>0</td>\n",
       "      <td>0</td>\n",
       "      <td>0</td>\n",
       "      <td>0</td>\n",
       "      <td>0</td>\n",
       "      <td>0</td>\n",
       "      <td>0</td>\n",
       "      <td>0</td>\n",
       "      <td>1</td>\n",
       "      <td>0</td>\n",
       "    </tr>\n",
       "  </tbody>\n",
       "</table>\n",
       "</div>"
      ],
      "text/plain": [
       "   water_1.0  view_EXCELLENT  view_FAIR  view_GOOD  view_NONE  condition_Fair  \\\n",
       "0          0               0          0          0          1               0   \n",
       "1          0               0          0          0          1               0   \n",
       "2          0               0          0          0          1               0   \n",
       "3          0               0          0          0          1               0   \n",
       "4          0               0          0          0          1               0   \n",
       "\n",
       "   condition_Good  condition_Poor  condition_Very Good  grade_11 Excellent  \\\n",
       "0               0               0                    0                   0   \n",
       "1               0               0                    0                   0   \n",
       "2               0               0                    0                   0   \n",
       "3               0               0                    1                   0   \n",
       "4               0               0                    0                   0   \n",
       "\n",
       "   grade_12 Luxury  grade_13 Mansion  grade_3 Poor  grade_4 Low  grade_5 Fair  \\\n",
       "0                0                 0             0            0             0   \n",
       "1                0                 0             0            0             0   \n",
       "2                0                 0             0            0             0   \n",
       "3                0                 0             0            0             0   \n",
       "4                0                 0             0            0             0   \n",
       "\n",
       "   grade_6 Low Average  grade_7 Average  grade_8 Good  grade_9 Better  \n",
       "0                    0                1             0               0  \n",
       "1                    0                1             0               0  \n",
       "2                    1                0             0               0  \n",
       "3                    0                1             0               0  \n",
       "4                    0                0             1               0  "
      ]
     },
     "execution_count": 236,
     "metadata": {},
     "output_type": "execute_result"
    }
   ],
   "source": [
    "ohe_only.head()"
   ]
  },
  {
   "cell_type": "code",
   "execution_count": 231,
   "metadata": {
    "ExecuteTime": {
     "end_time": "2022-02-25T15:54:59.540720Z",
     "start_time": "2022-02-25T15:54:59.522773Z"
    }
   },
   "outputs": [
    {
     "name": "stdout",
     "output_type": "stream",
     "text": [
      "<class 'pandas.core.frame.DataFrame'>\n",
      "RangeIndex: 21597 entries, 0 to 21596\n",
      "Data columns (total 23 columns):\n",
      " #   Column               Non-Null Count  Dtype  \n",
      "---  ------               --------------  -----  \n",
      " 0   sqft_living_log      21597 non-null  float64\n",
      " 1   bathrooms_log        21597 non-null  float64\n",
      " 2   bedrooms_log         21597 non-null  float64\n",
      " 3   price_log            21597 non-null  float64\n",
      " 4   water_1.0            21597 non-null  uint8  \n",
      " 5   view_EXCELLENT       21597 non-null  uint8  \n",
      " 6   view_FAIR            21597 non-null  uint8  \n",
      " 7   view_GOOD            21597 non-null  uint8  \n",
      " 8   view_NONE            21597 non-null  uint8  \n",
      " 9   condition_Fair       21597 non-null  uint8  \n",
      " 10  condition_Good       21597 non-null  uint8  \n",
      " 11  condition_Poor       21597 non-null  uint8  \n",
      " 12  condition_Very Good  21597 non-null  uint8  \n",
      " 13  grade_11 Excellent   21597 non-null  uint8  \n",
      " 14  grade_12 Luxury      21597 non-null  uint8  \n",
      " 15  grade_13 Mansion     21597 non-null  uint8  \n",
      " 16  grade_3 Poor         21597 non-null  uint8  \n",
      " 17  grade_4 Low          21597 non-null  uint8  \n",
      " 18  grade_5 Fair         21597 non-null  uint8  \n",
      " 19  grade_6 Low Average  21597 non-null  uint8  \n",
      " 20  grade_7 Average      21597 non-null  uint8  \n",
      " 21  grade_8 Good         21597 non-null  uint8  \n",
      " 22  grade_9 Better       21597 non-null  uint8  \n",
      "dtypes: float64(4), uint8(19)\n",
      "memory usage: 1.1 MB\n"
     ]
    }
   ],
   "source": [
    "cats_added.info()"
   ]
  },
  {
   "cell_type": "markdown",
   "metadata": {},
   "source": [
    "# Second Model - Add Preprocessed Categoricals"
   ]
  },
  {
   "cell_type": "code",
   "execution_count": 60,
   "metadata": {
    "ExecuteTime": {
     "end_time": "2022-02-25T15:20:12.460505Z",
     "start_time": "2022-02-25T15:20:12.221894Z"
    }
   },
   "outputs": [
    {
     "data": {
      "text/html": [
       "<table class=\"simpletable\">\n",
       "<caption>OLS Regression Results</caption>\n",
       "<tr>\n",
       "  <th>Dep. Variable:</th>        <td>price_log</td>    <th>  R-squared:         </th> <td>   0.593</td> \n",
       "</tr>\n",
       "<tr>\n",
       "  <th>Model:</th>                   <td>OLS</td>       <th>  Adj. R-squared:    </th> <td>   0.592</td> \n",
       "</tr>\n",
       "<tr>\n",
       "  <th>Method:</th>             <td>Least Squares</td>  <th>  F-statistic:       </th> <td>   1428.</td> \n",
       "</tr>\n",
       "<tr>\n",
       "  <th>Date:</th>             <td>Fri, 25 Feb 2022</td> <th>  Prob (F-statistic):</th>  <td>  0.00</td>  \n",
       "</tr>\n",
       "<tr>\n",
       "  <th>Time:</th>                 <td>08:20:12</td>     <th>  Log-Likelihood:    </th> <td> -20940.</td> \n",
       "</tr>\n",
       "<tr>\n",
       "  <th>No. Observations:</th>      <td> 21597</td>      <th>  AIC:               </th> <td>4.193e+04</td>\n",
       "</tr>\n",
       "<tr>\n",
       "  <th>Df Residuals:</th>          <td> 21574</td>      <th>  BIC:               </th> <td>4.211e+04</td>\n",
       "</tr>\n",
       "<tr>\n",
       "  <th>Df Model:</th>              <td>    22</td>      <th>                     </th>     <td> </td>    \n",
       "</tr>\n",
       "<tr>\n",
       "  <th>Covariance Type:</th>      <td>nonrobust</td>    <th>                     </th>     <td> </td>    \n",
       "</tr>\n",
       "</table>\n",
       "<table class=\"simpletable\">\n",
       "<tr>\n",
       "           <td></td>              <th>coef</th>     <th>std err</th>      <th>t</th>      <th>P>|t|</th>  <th>[0.025</th>    <th>0.975]</th>  \n",
       "</tr>\n",
       "<tr>\n",
       "  <th>const</th>               <td>    1.1265</td> <td>    0.029</td> <td>   38.395</td> <td> 0.000</td> <td>    1.069</td> <td>    1.184</td>\n",
       "</tr>\n",
       "<tr>\n",
       "  <th>sqft_living_log</th>     <td>    0.3743</td> <td>    0.009</td> <td>   41.457</td> <td> 0.000</td> <td>    0.357</td> <td>    0.392</td>\n",
       "</tr>\n",
       "<tr>\n",
       "  <th>bathrooms_log</th>       <td>   -0.0248</td> <td>    0.007</td> <td>   -3.487</td> <td> 0.000</td> <td>   -0.039</td> <td>   -0.011</td>\n",
       "</tr>\n",
       "<tr>\n",
       "  <th>bedrooms_log</th>        <td>   -0.0633</td> <td>    0.006</td> <td>  -10.621</td> <td> 0.000</td> <td>   -0.075</td> <td>   -0.052</td>\n",
       "</tr>\n",
       "<tr>\n",
       "  <th>water_1.0</th>           <td>    0.6641</td> <td>    0.065</td> <td>   10.268</td> <td> 0.000</td> <td>    0.537</td> <td>    0.791</td>\n",
       "</tr>\n",
       "<tr>\n",
       "  <th>view_EXCELLENT</th>      <td>    0.3396</td> <td>    0.048</td> <td>    7.021</td> <td> 0.000</td> <td>    0.245</td> <td>    0.434</td>\n",
       "</tr>\n",
       "<tr>\n",
       "  <th>view_FAIR</th>           <td>    0.1434</td> <td>    0.041</td> <td>    3.516</td> <td> 0.000</td> <td>    0.063</td> <td>    0.223</td>\n",
       "</tr>\n",
       "<tr>\n",
       "  <th>view_GOOD</th>           <td>    0.0916</td> <td>    0.035</td> <td>    2.607</td> <td> 0.009</td> <td>    0.023</td> <td>    0.160</td>\n",
       "</tr>\n",
       "<tr>\n",
       "  <th>view_NONE</th>           <td>   -0.3136</td> <td>    0.021</td> <td>  -14.618</td> <td> 0.000</td> <td>   -0.356</td> <td>   -0.272</td>\n",
       "</tr>\n",
       "<tr>\n",
       "  <th>condition_Fair</th>      <td>   -0.2067</td> <td>    0.050</td> <td>   -4.156</td> <td> 0.000</td> <td>   -0.304</td> <td>   -0.109</td>\n",
       "</tr>\n",
       "<tr>\n",
       "  <th>condition_Good</th>      <td>    0.1387</td> <td>    0.010</td> <td>   13.405</td> <td> 0.000</td> <td>    0.118</td> <td>    0.159</td>\n",
       "</tr>\n",
       "<tr>\n",
       "  <th>condition_Poor</th>      <td>   -0.0726</td> <td>    0.120</td> <td>   -0.607</td> <td> 0.544</td> <td>   -0.307</td> <td>    0.162</td>\n",
       "</tr>\n",
       "<tr>\n",
       "  <th>condition_Very Good</th> <td>    0.4080</td> <td>    0.017</td> <td>   24.539</td> <td> 0.000</td> <td>    0.375</td> <td>    0.441</td>\n",
       "</tr>\n",
       "<tr>\n",
       "  <th>grade_11 Excellent</th>  <td>    0.3832</td> <td>    0.037</td> <td>   10.248</td> <td> 0.000</td> <td>    0.310</td> <td>    0.456</td>\n",
       "</tr>\n",
       "<tr>\n",
       "  <th>grade_12 Luxury</th>     <td>    0.8017</td> <td>    0.071</td> <td>   11.299</td> <td> 0.000</td> <td>    0.663</td> <td>    0.941</td>\n",
       "</tr>\n",
       "<tr>\n",
       "  <th>grade_13 Mansion</th>    <td>    1.6063</td> <td>    0.179</td> <td>    8.987</td> <td> 0.000</td> <td>    1.256</td> <td>    1.957</td>\n",
       "</tr>\n",
       "<tr>\n",
       "  <th>grade_3 Poor</th>        <td>   -1.4873</td> <td>    0.640</td> <td>   -2.325</td> <td> 0.020</td> <td>   -2.741</td> <td>   -0.234</td>\n",
       "</tr>\n",
       "<tr>\n",
       "  <th>grade_4 Low</th>         <td>   -1.8405</td> <td>    0.127</td> <td>  -14.451</td> <td> 0.000</td> <td>   -2.090</td> <td>   -1.591</td>\n",
       "</tr>\n",
       "<tr>\n",
       "  <th>grade_5 Fair</th>        <td>   -1.8029</td> <td>    0.050</td> <td>  -35.809</td> <td> 0.000</td> <td>   -1.902</td> <td>   -1.704</td>\n",
       "</tr>\n",
       "<tr>\n",
       "  <th>grade_6 Low Average</th> <td>   -1.5096</td> <td>    0.030</td> <td>  -49.974</td> <td> 0.000</td> <td>   -1.569</td> <td>   -1.450</td>\n",
       "</tr>\n",
       "<tr>\n",
       "  <th>grade_7 Average</th>     <td>   -1.1863</td> <td>    0.024</td> <td>  -49.453</td> <td> 0.000</td> <td>   -1.233</td> <td>   -1.139</td>\n",
       "</tr>\n",
       "<tr>\n",
       "  <th>grade_8 Good</th>        <td>   -0.8201</td> <td>    0.022</td> <td>  -36.777</td> <td> 0.000</td> <td>   -0.864</td> <td>   -0.776</td>\n",
       "</tr>\n",
       "<tr>\n",
       "  <th>grade_9 Better</th>      <td>   -0.3903</td> <td>    0.023</td> <td>  -16.964</td> <td> 0.000</td> <td>   -0.435</td> <td>   -0.345</td>\n",
       "</tr>\n",
       "</table>\n",
       "<table class=\"simpletable\">\n",
       "<tr>\n",
       "  <th>Omnibus:</th>       <td>21.045</td> <th>  Durbin-Watson:     </th> <td>   1.973</td>\n",
       "</tr>\n",
       "<tr>\n",
       "  <th>Prob(Omnibus):</th> <td> 0.000</td> <th>  Jarque-Bera (JB):  </th> <td>  20.154</td>\n",
       "</tr>\n",
       "<tr>\n",
       "  <th>Skew:</th>          <td> 0.055</td> <th>  Prob(JB):          </th> <td>4.20e-05</td>\n",
       "</tr>\n",
       "<tr>\n",
       "  <th>Kurtosis:</th>      <td> 2.898</td> <th>  Cond. No.          </th> <td>    229.</td>\n",
       "</tr>\n",
       "</table><br/><br/>Notes:<br/>[1] Standard Errors assume that the covariance matrix of the errors is correctly specified."
      ],
      "text/plain": [
       "<class 'statsmodels.iolib.summary.Summary'>\n",
       "\"\"\"\n",
       "                            OLS Regression Results                            \n",
       "==============================================================================\n",
       "Dep. Variable:              price_log   R-squared:                       0.593\n",
       "Model:                            OLS   Adj. R-squared:                  0.592\n",
       "Method:                 Least Squares   F-statistic:                     1428.\n",
       "Date:                Fri, 25 Feb 2022   Prob (F-statistic):               0.00\n",
       "Time:                        08:20:12   Log-Likelihood:                -20940.\n",
       "No. Observations:               21597   AIC:                         4.193e+04\n",
       "Df Residuals:                   21574   BIC:                         4.211e+04\n",
       "Df Model:                          22                                         \n",
       "Covariance Type:            nonrobust                                         \n",
       "=======================================================================================\n",
       "                          coef    std err          t      P>|t|      [0.025      0.975]\n",
       "---------------------------------------------------------------------------------------\n",
       "const                   1.1265      0.029     38.395      0.000       1.069       1.184\n",
       "sqft_living_log         0.3743      0.009     41.457      0.000       0.357       0.392\n",
       "bathrooms_log          -0.0248      0.007     -3.487      0.000      -0.039      -0.011\n",
       "bedrooms_log           -0.0633      0.006    -10.621      0.000      -0.075      -0.052\n",
       "water_1.0               0.6641      0.065     10.268      0.000       0.537       0.791\n",
       "view_EXCELLENT          0.3396      0.048      7.021      0.000       0.245       0.434\n",
       "view_FAIR               0.1434      0.041      3.516      0.000       0.063       0.223\n",
       "view_GOOD               0.0916      0.035      2.607      0.009       0.023       0.160\n",
       "view_NONE              -0.3136      0.021    -14.618      0.000      -0.356      -0.272\n",
       "condition_Fair         -0.2067      0.050     -4.156      0.000      -0.304      -0.109\n",
       "condition_Good          0.1387      0.010     13.405      0.000       0.118       0.159\n",
       "condition_Poor         -0.0726      0.120     -0.607      0.544      -0.307       0.162\n",
       "condition_Very Good     0.4080      0.017     24.539      0.000       0.375       0.441\n",
       "grade_11 Excellent      0.3832      0.037     10.248      0.000       0.310       0.456\n",
       "grade_12 Luxury         0.8017      0.071     11.299      0.000       0.663       0.941\n",
       "grade_13 Mansion        1.6063      0.179      8.987      0.000       1.256       1.957\n",
       "grade_3 Poor           -1.4873      0.640     -2.325      0.020      -2.741      -0.234\n",
       "grade_4 Low            -1.8405      0.127    -14.451      0.000      -2.090      -1.591\n",
       "grade_5 Fair           -1.8029      0.050    -35.809      0.000      -1.902      -1.704\n",
       "grade_6 Low Average    -1.5096      0.030    -49.974      0.000      -1.569      -1.450\n",
       "grade_7 Average        -1.1863      0.024    -49.453      0.000      -1.233      -1.139\n",
       "grade_8 Good           -0.8201      0.022    -36.777      0.000      -0.864      -0.776\n",
       "grade_9 Better         -0.3903      0.023    -16.964      0.000      -0.435      -0.345\n",
       "==============================================================================\n",
       "Omnibus:                       21.045   Durbin-Watson:                   1.973\n",
       "Prob(Omnibus):                  0.000   Jarque-Bera (JB):               20.154\n",
       "Skew:                           0.055   Prob(JB):                     4.20e-05\n",
       "Kurtosis:                       2.898   Cond. No.                         229.\n",
       "==============================================================================\n",
       "\n",
       "Notes:\n",
       "[1] Standard Errors assume that the covariance matrix of the errors is correctly specified.\n",
       "\"\"\""
      ]
     },
     "execution_count": 60,
     "metadata": {},
     "output_type": "execute_result"
    }
   ],
   "source": [
    "# Model Summary\n",
    "X = cats_added.drop(['price_log'], axis=1)\n",
    "y = cats_added['price_log']\n",
    "\n",
    "X_int = sm.add_constant(X)\n",
    "model = sm.OLS(y,X_int).fit()\n",
    "model.summary()"
   ]
  },
  {
   "cell_type": "markdown",
   "metadata": {},
   "source": [
    "## Results of adding Categoricals\n",
    "* Improved R-squared with only slightly lower Adjusted R-squared.\n",
    "* Need to drop condition_poor due to high p-value.  This is probably a result of only having one data point for condition_poor.\n",
    "* Can drop grade_3 Poor due to p-value over 1% to check if it improves the model's accuracy."
   ]
  },
  {
   "cell_type": "code",
   "execution_count": 61,
   "metadata": {
    "ExecuteTime": {
     "end_time": "2022-02-25T15:20:13.742614Z",
     "start_time": "2022-02-25T15:20:13.601233Z"
    }
   },
   "outputs": [
    {
     "data": {
      "text/html": [
       "<table class=\"simpletable\">\n",
       "<caption>OLS Regression Results</caption>\n",
       "<tr>\n",
       "  <th>Dep. Variable:</th>        <td>price_log</td>    <th>  R-squared:         </th> <td>   0.593</td> \n",
       "</tr>\n",
       "<tr>\n",
       "  <th>Model:</th>                   <td>OLS</td>       <th>  Adj. R-squared:    </th> <td>   0.592</td> \n",
       "</tr>\n",
       "<tr>\n",
       "  <th>Method:</th>             <td>Least Squares</td>  <th>  F-statistic:       </th> <td>   1428.</td> \n",
       "</tr>\n",
       "<tr>\n",
       "  <th>Date:</th>             <td>Fri, 25 Feb 2022</td> <th>  Prob (F-statistic):</th>  <td>  0.00</td>  \n",
       "</tr>\n",
       "<tr>\n",
       "  <th>Time:</th>                 <td>08:20:13</td>     <th>  Log-Likelihood:    </th> <td> -20940.</td> \n",
       "</tr>\n",
       "<tr>\n",
       "  <th>No. Observations:</th>      <td> 21597</td>      <th>  AIC:               </th> <td>4.193e+04</td>\n",
       "</tr>\n",
       "<tr>\n",
       "  <th>Df Residuals:</th>          <td> 21574</td>      <th>  BIC:               </th> <td>4.211e+04</td>\n",
       "</tr>\n",
       "<tr>\n",
       "  <th>Df Model:</th>              <td>    22</td>      <th>                     </th>     <td> </td>    \n",
       "</tr>\n",
       "<tr>\n",
       "  <th>Covariance Type:</th>      <td>nonrobust</td>    <th>                     </th>     <td> </td>    \n",
       "</tr>\n",
       "</table>\n",
       "<table class=\"simpletable\">\n",
       "<tr>\n",
       "           <td></td>              <th>coef</th>     <th>std err</th>      <th>t</th>      <th>P>|t|</th>  <th>[0.025</th>    <th>0.975]</th>  \n",
       "</tr>\n",
       "<tr>\n",
       "  <th>const</th>               <td>    1.1265</td> <td>    0.029</td> <td>   38.395</td> <td> 0.000</td> <td>    1.069</td> <td>    1.184</td>\n",
       "</tr>\n",
       "<tr>\n",
       "  <th>sqft_living_log</th>     <td>    0.3743</td> <td>    0.009</td> <td>   41.457</td> <td> 0.000</td> <td>    0.357</td> <td>    0.392</td>\n",
       "</tr>\n",
       "<tr>\n",
       "  <th>bathrooms_log</th>       <td>   -0.0248</td> <td>    0.007</td> <td>   -3.487</td> <td> 0.000</td> <td>   -0.039</td> <td>   -0.011</td>\n",
       "</tr>\n",
       "<tr>\n",
       "  <th>bedrooms_log</th>        <td>   -0.0633</td> <td>    0.006</td> <td>  -10.621</td> <td> 0.000</td> <td>   -0.075</td> <td>   -0.052</td>\n",
       "</tr>\n",
       "<tr>\n",
       "  <th>water_1.0</th>           <td>    0.6641</td> <td>    0.065</td> <td>   10.268</td> <td> 0.000</td> <td>    0.537</td> <td>    0.791</td>\n",
       "</tr>\n",
       "<tr>\n",
       "  <th>view_EXCELLENT</th>      <td>    0.3396</td> <td>    0.048</td> <td>    7.021</td> <td> 0.000</td> <td>    0.245</td> <td>    0.434</td>\n",
       "</tr>\n",
       "<tr>\n",
       "  <th>view_FAIR</th>           <td>    0.1434</td> <td>    0.041</td> <td>    3.516</td> <td> 0.000</td> <td>    0.063</td> <td>    0.223</td>\n",
       "</tr>\n",
       "<tr>\n",
       "  <th>view_GOOD</th>           <td>    0.0916</td> <td>    0.035</td> <td>    2.607</td> <td> 0.009</td> <td>    0.023</td> <td>    0.160</td>\n",
       "</tr>\n",
       "<tr>\n",
       "  <th>view_NONE</th>           <td>   -0.3136</td> <td>    0.021</td> <td>  -14.618</td> <td> 0.000</td> <td>   -0.356</td> <td>   -0.272</td>\n",
       "</tr>\n",
       "<tr>\n",
       "  <th>condition_Fair</th>      <td>   -0.2067</td> <td>    0.050</td> <td>   -4.156</td> <td> 0.000</td> <td>   -0.304</td> <td>   -0.109</td>\n",
       "</tr>\n",
       "<tr>\n",
       "  <th>condition_Good</th>      <td>    0.1387</td> <td>    0.010</td> <td>   13.405</td> <td> 0.000</td> <td>    0.118</td> <td>    0.159</td>\n",
       "</tr>\n",
       "<tr>\n",
       "  <th>condition_Poor</th>      <td>   -0.0726</td> <td>    0.120</td> <td>   -0.607</td> <td> 0.544</td> <td>   -0.307</td> <td>    0.162</td>\n",
       "</tr>\n",
       "<tr>\n",
       "  <th>condition_Very Good</th> <td>    0.4080</td> <td>    0.017</td> <td>   24.539</td> <td> 0.000</td> <td>    0.375</td> <td>    0.441</td>\n",
       "</tr>\n",
       "<tr>\n",
       "  <th>grade_11 Excellent</th>  <td>    0.3832</td> <td>    0.037</td> <td>   10.248</td> <td> 0.000</td> <td>    0.310</td> <td>    0.456</td>\n",
       "</tr>\n",
       "<tr>\n",
       "  <th>grade_12 Luxury</th>     <td>    0.8017</td> <td>    0.071</td> <td>   11.299</td> <td> 0.000</td> <td>    0.663</td> <td>    0.941</td>\n",
       "</tr>\n",
       "<tr>\n",
       "  <th>grade_13 Mansion</th>    <td>    1.6063</td> <td>    0.179</td> <td>    8.987</td> <td> 0.000</td> <td>    1.256</td> <td>    1.957</td>\n",
       "</tr>\n",
       "<tr>\n",
       "  <th>grade_3 Poor</th>        <td>   -1.4873</td> <td>    0.640</td> <td>   -2.325</td> <td> 0.020</td> <td>   -2.741</td> <td>   -0.234</td>\n",
       "</tr>\n",
       "<tr>\n",
       "  <th>grade_4 Low</th>         <td>   -1.8405</td> <td>    0.127</td> <td>  -14.451</td> <td> 0.000</td> <td>   -2.090</td> <td>   -1.591</td>\n",
       "</tr>\n",
       "<tr>\n",
       "  <th>grade_5 Fair</th>        <td>   -1.8029</td> <td>    0.050</td> <td>  -35.809</td> <td> 0.000</td> <td>   -1.902</td> <td>   -1.704</td>\n",
       "</tr>\n",
       "<tr>\n",
       "  <th>grade_6 Low Average</th> <td>   -1.5096</td> <td>    0.030</td> <td>  -49.974</td> <td> 0.000</td> <td>   -1.569</td> <td>   -1.450</td>\n",
       "</tr>\n",
       "<tr>\n",
       "  <th>grade_7 Average</th>     <td>   -1.1863</td> <td>    0.024</td> <td>  -49.453</td> <td> 0.000</td> <td>   -1.233</td> <td>   -1.139</td>\n",
       "</tr>\n",
       "<tr>\n",
       "  <th>grade_8 Good</th>        <td>   -0.8201</td> <td>    0.022</td> <td>  -36.777</td> <td> 0.000</td> <td>   -0.864</td> <td>   -0.776</td>\n",
       "</tr>\n",
       "<tr>\n",
       "  <th>grade_9 Better</th>      <td>   -0.3903</td> <td>    0.023</td> <td>  -16.964</td> <td> 0.000</td> <td>   -0.435</td> <td>   -0.345</td>\n",
       "</tr>\n",
       "</table>\n",
       "<table class=\"simpletable\">\n",
       "<tr>\n",
       "  <th>Omnibus:</th>       <td>21.045</td> <th>  Durbin-Watson:     </th> <td>   1.973</td>\n",
       "</tr>\n",
       "<tr>\n",
       "  <th>Prob(Omnibus):</th> <td> 0.000</td> <th>  Jarque-Bera (JB):  </th> <td>  20.154</td>\n",
       "</tr>\n",
       "<tr>\n",
       "  <th>Skew:</th>          <td> 0.055</td> <th>  Prob(JB):          </th> <td>4.20e-05</td>\n",
       "</tr>\n",
       "<tr>\n",
       "  <th>Kurtosis:</th>      <td> 2.898</td> <th>  Cond. No.          </th> <td>    229.</td>\n",
       "</tr>\n",
       "</table><br/><br/>Notes:<br/>[1] Standard Errors assume that the covariance matrix of the errors is correctly specified."
      ],
      "text/plain": [
       "<class 'statsmodels.iolib.summary.Summary'>\n",
       "\"\"\"\n",
       "                            OLS Regression Results                            \n",
       "==============================================================================\n",
       "Dep. Variable:              price_log   R-squared:                       0.593\n",
       "Model:                            OLS   Adj. R-squared:                  0.592\n",
       "Method:                 Least Squares   F-statistic:                     1428.\n",
       "Date:                Fri, 25 Feb 2022   Prob (F-statistic):               0.00\n",
       "Time:                        08:20:13   Log-Likelihood:                -20940.\n",
       "No. Observations:               21597   AIC:                         4.193e+04\n",
       "Df Residuals:                   21574   BIC:                         4.211e+04\n",
       "Df Model:                          22                                         \n",
       "Covariance Type:            nonrobust                                         \n",
       "=======================================================================================\n",
       "                          coef    std err          t      P>|t|      [0.025      0.975]\n",
       "---------------------------------------------------------------------------------------\n",
       "const                   1.1265      0.029     38.395      0.000       1.069       1.184\n",
       "sqft_living_log         0.3743      0.009     41.457      0.000       0.357       0.392\n",
       "bathrooms_log          -0.0248      0.007     -3.487      0.000      -0.039      -0.011\n",
       "bedrooms_log           -0.0633      0.006    -10.621      0.000      -0.075      -0.052\n",
       "water_1.0               0.6641      0.065     10.268      0.000       0.537       0.791\n",
       "view_EXCELLENT          0.3396      0.048      7.021      0.000       0.245       0.434\n",
       "view_FAIR               0.1434      0.041      3.516      0.000       0.063       0.223\n",
       "view_GOOD               0.0916      0.035      2.607      0.009       0.023       0.160\n",
       "view_NONE              -0.3136      0.021    -14.618      0.000      -0.356      -0.272\n",
       "condition_Fair         -0.2067      0.050     -4.156      0.000      -0.304      -0.109\n",
       "condition_Good          0.1387      0.010     13.405      0.000       0.118       0.159\n",
       "condition_Poor         -0.0726      0.120     -0.607      0.544      -0.307       0.162\n",
       "condition_Very Good     0.4080      0.017     24.539      0.000       0.375       0.441\n",
       "grade_11 Excellent      0.3832      0.037     10.248      0.000       0.310       0.456\n",
       "grade_12 Luxury         0.8017      0.071     11.299      0.000       0.663       0.941\n",
       "grade_13 Mansion        1.6063      0.179      8.987      0.000       1.256       1.957\n",
       "grade_3 Poor           -1.4873      0.640     -2.325      0.020      -2.741      -0.234\n",
       "grade_4 Low            -1.8405      0.127    -14.451      0.000      -2.090      -1.591\n",
       "grade_5 Fair           -1.8029      0.050    -35.809      0.000      -1.902      -1.704\n",
       "grade_6 Low Average    -1.5096      0.030    -49.974      0.000      -1.569      -1.450\n",
       "grade_7 Average        -1.1863      0.024    -49.453      0.000      -1.233      -1.139\n",
       "grade_8 Good           -0.8201      0.022    -36.777      0.000      -0.864      -0.776\n",
       "grade_9 Better         -0.3903      0.023    -16.964      0.000      -0.435      -0.345\n",
       "==============================================================================\n",
       "Omnibus:                       21.045   Durbin-Watson:                   1.973\n",
       "Prob(Omnibus):                  0.000   Jarque-Bera (JB):               20.154\n",
       "Skew:                           0.055   Prob(JB):                     4.20e-05\n",
       "Kurtosis:                       2.898   Cond. No.                         229.\n",
       "==============================================================================\n",
       "\n",
       "Notes:\n",
       "[1] Standard Errors assume that the covariance matrix of the errors is correctly specified.\n",
       "\"\"\""
      ]
     },
     "execution_count": 61,
     "metadata": {},
     "output_type": "execute_result"
    }
   ],
   "source": [
    "# Run model summary again without condition_Poor\n",
    "second_model = cats_added.drop(['condition_Poor', 'grade_3 Poor'], axis=1)\n",
    "\n",
    "# Model Summary\n",
    "X = cats_added.drop(['price_log'], axis=1)\n",
    "y = cats_added['price_log']\n",
    "\n",
    "X_int = sm.add_constant(X)\n",
    "model = sm.OLS(y,X_int).fit()\n",
    "model.summary()"
   ]
  },
  {
   "cell_type": "markdown",
   "metadata": {},
   "source": [
    "### Dropping condition_Poor and grade_3 Poor did not change the R-squared value.  \n",
    "* This is likely because both categories represented a very small portion of the data."
   ]
  },
  {
   "cell_type": "markdown",
   "metadata": {},
   "source": [
    "### How does this compare with using sqft_living_log as the only predictor?"
   ]
  },
  {
   "cell_type": "code",
   "execution_count": 62,
   "metadata": {
    "ExecuteTime": {
     "end_time": "2022-02-25T15:20:15.990359Z",
     "start_time": "2022-02-25T15:20:15.941834Z"
    }
   },
   "outputs": [
    {
     "data": {
      "text/html": [
       "<table class=\"simpletable\">\n",
       "<caption>OLS Regression Results</caption>\n",
       "<tr>\n",
       "  <th>Dep. Variable:</th>        <td>price_log</td>    <th>  R-squared:         </th> <td>   0.455</td> \n",
       "</tr>\n",
       "<tr>\n",
       "  <th>Model:</th>                   <td>OLS</td>       <th>  Adj. R-squared:    </th> <td>   0.455</td> \n",
       "</tr>\n",
       "<tr>\n",
       "  <th>Method:</th>             <td>Least Squares</td>  <th>  F-statistic:       </th> <td>1.805e+04</td>\n",
       "</tr>\n",
       "<tr>\n",
       "  <th>Date:</th>             <td>Fri, 25 Feb 2022</td> <th>  Prob (F-statistic):</th>  <td>  0.00</td>  \n",
       "</tr>\n",
       "<tr>\n",
       "  <th>Time:</th>                 <td>08:20:15</td>     <th>  Log-Likelihood:    </th> <td> -24083.</td> \n",
       "</tr>\n",
       "<tr>\n",
       "  <th>No. Observations:</th>      <td> 21597</td>      <th>  AIC:               </th> <td>4.817e+04</td>\n",
       "</tr>\n",
       "<tr>\n",
       "  <th>Df Residuals:</th>          <td> 21595</td>      <th>  BIC:               </th> <td>4.819e+04</td>\n",
       "</tr>\n",
       "<tr>\n",
       "  <th>Df Model:</th>              <td>     1</td>      <th>                     </th>     <td> </td>    \n",
       "</tr>\n",
       "<tr>\n",
       "  <th>Covariance Type:</th>      <td>nonrobust</td>    <th>                     </th>     <td> </td>    \n",
       "</tr>\n",
       "</table>\n",
       "<table class=\"simpletable\">\n",
       "<tr>\n",
       "         <td></td>            <th>coef</th>     <th>std err</th>      <th>t</th>      <th>P>|t|</th>  <th>[0.025</th>    <th>0.975]</th>  \n",
       "</tr>\n",
       "<tr>\n",
       "  <th>const</th>           <td> 1.327e-15</td> <td>    0.005</td> <td> 2.64e-13</td> <td> 1.000</td> <td>   -0.010</td> <td>    0.010</td>\n",
       "</tr>\n",
       "<tr>\n",
       "  <th>sqft_living_log</th> <td>    0.6748</td> <td>    0.005</td> <td>  134.368</td> <td> 0.000</td> <td>    0.665</td> <td>    0.685</td>\n",
       "</tr>\n",
       "</table>\n",
       "<table class=\"simpletable\">\n",
       "<tr>\n",
       "  <th>Omnibus:</th>       <td>123.577</td> <th>  Durbin-Watson:     </th> <td>   1.977</td>\n",
       "</tr>\n",
       "<tr>\n",
       "  <th>Prob(Omnibus):</th> <td> 0.000</td>  <th>  Jarque-Bera (JB):  </th> <td> 114.096</td>\n",
       "</tr>\n",
       "<tr>\n",
       "  <th>Skew:</th>          <td> 0.143</td>  <th>  Prob(JB):          </th> <td>1.68e-25</td>\n",
       "</tr>\n",
       "<tr>\n",
       "  <th>Kurtosis:</th>      <td> 2.787</td>  <th>  Cond. No.          </th> <td>    1.00</td>\n",
       "</tr>\n",
       "</table><br/><br/>Notes:<br/>[1] Standard Errors assume that the covariance matrix of the errors is correctly specified."
      ],
      "text/plain": [
       "<class 'statsmodels.iolib.summary.Summary'>\n",
       "\"\"\"\n",
       "                            OLS Regression Results                            \n",
       "==============================================================================\n",
       "Dep. Variable:              price_log   R-squared:                       0.455\n",
       "Model:                            OLS   Adj. R-squared:                  0.455\n",
       "Method:                 Least Squares   F-statistic:                 1.805e+04\n",
       "Date:                Fri, 25 Feb 2022   Prob (F-statistic):               0.00\n",
       "Time:                        08:20:15   Log-Likelihood:                -24083.\n",
       "No. Observations:               21597   AIC:                         4.817e+04\n",
       "Df Residuals:                   21595   BIC:                         4.819e+04\n",
       "Df Model:                           1                                         \n",
       "Covariance Type:            nonrobust                                         \n",
       "===================================================================================\n",
       "                      coef    std err          t      P>|t|      [0.025      0.975]\n",
       "-----------------------------------------------------------------------------------\n",
       "const            1.327e-15      0.005   2.64e-13      1.000      -0.010       0.010\n",
       "sqft_living_log     0.6748      0.005    134.368      0.000       0.665       0.685\n",
       "==============================================================================\n",
       "Omnibus:                      123.577   Durbin-Watson:                   1.977\n",
       "Prob(Omnibus):                  0.000   Jarque-Bera (JB):              114.096\n",
       "Skew:                           0.143   Prob(JB):                     1.68e-25\n",
       "Kurtosis:                       2.787   Cond. No.                         1.00\n",
       "==============================================================================\n",
       "\n",
       "Notes:\n",
       "[1] Standard Errors assume that the covariance matrix of the errors is correctly specified.\n",
       "\"\"\""
      ]
     },
     "execution_count": 62,
     "metadata": {},
     "output_type": "execute_result"
    }
   ],
   "source": [
    "# Run model summary with only sqft_living_log\n",
    "\n",
    "# Model Summary\n",
    "X = cats_added['sqft_living_log']\n",
    "y = cats_added['price_log']\n",
    "\n",
    "X_int = sm.add_constant(X)\n",
    "model = sm.OLS(y,X_int).fit()\n",
    "model.summary()"
   ]
  },
  {
   "cell_type": "markdown",
   "metadata": {},
   "source": [
    "#### The model with bedrooms and bathrooms as numerical predictors and waterfront, view, condition, and grade as categorical predictors produces more accurate predictions than sqft_living alone."
   ]
  },
  {
   "cell_type": "markdown",
   "metadata": {},
   "source": [
    "## Second Model - Train, Test, Split"
   ]
  },
  {
   "cell_type": "code",
   "execution_count": 63,
   "metadata": {
    "ExecuteTime": {
     "end_time": "2022-02-25T15:20:17.589146Z",
     "start_time": "2022-02-25T15:20:17.581750Z"
    }
   },
   "outputs": [],
   "source": [
    "X2 = second_model.drop('price_log', axis=1)\n",
    "y2 = second_model['price_log']"
   ]
  },
  {
   "cell_type": "code",
   "execution_count": 64,
   "metadata": {
    "ExecuteTime": {
     "end_time": "2022-02-25T15:20:18.217573Z",
     "start_time": "2022-02-25T15:20:18.202092Z"
    }
   },
   "outputs": [
    {
     "name": "stdout",
     "output_type": "stream",
     "text": [
      "12958 8639 12958 8639\n"
     ]
    }
   ],
   "source": [
    "# Split the data into training and test sets. Use the default split size\n",
    "\n",
    "X_train, X_test, y_train, y_test = train_test_split(X2,y2, test_size=.4)\n",
    "\n",
    "# A brief preview of tts\n",
    "print(len(X_train), len(X_test), len(y_train), len(y_test))"
   ]
  },
  {
   "cell_type": "code",
   "execution_count": 65,
   "metadata": {
    "ExecuteTime": {
     "end_time": "2022-02-25T15:20:18.787210Z",
     "start_time": "2022-02-25T15:20:18.747299Z"
    }
   },
   "outputs": [
    {
     "data": {
      "text/plain": [
       "LinearRegression()"
      ]
     },
     "execution_count": 65,
     "metadata": {},
     "output_type": "execute_result"
    }
   ],
   "source": [
    "# Fit the model to train data\n",
    "linreg.fit(X_train, y_train)\n",
    "\n",
    "LinearRegression(copy_X=True, fit_intercept=True, n_jobs=None, normalize=False)"
   ]
  },
  {
   "cell_type": "code",
   "execution_count": 66,
   "metadata": {
    "ExecuteTime": {
     "end_time": "2022-02-25T15:20:19.349092Z",
     "start_time": "2022-02-25T15:20:19.332178Z"
    }
   },
   "outputs": [],
   "source": [
    "# Calculate predictions on training and test sets\n",
    "y_hat_train = linreg.predict(X_train)\n",
    "y_hat_test = linreg.predict(X_test)"
   ]
  },
  {
   "cell_type": "code",
   "execution_count": 67,
   "metadata": {
    "ExecuteTime": {
     "end_time": "2022-02-25T15:20:20.048689Z",
     "start_time": "2022-02-25T15:20:20.036689Z"
    }
   },
   "outputs": [],
   "source": [
    "# Calculate residuals\n",
    "train_residuals = y_hat_train - y_train\n",
    "test_residuals = y_hat_test - y_test"
   ]
  },
  {
   "cell_type": "code",
   "execution_count": 68,
   "metadata": {
    "ExecuteTime": {
     "end_time": "2022-02-25T15:20:20.549667Z",
     "start_time": "2022-02-25T15:20:20.541382Z"
    }
   },
   "outputs": [
    {
     "name": "stdout",
     "output_type": "stream",
     "text": [
      "Train Mean Squared Error: 0.4084013952779311\n",
      "Test Mean Squared Error: 0.40580418285322445\n"
     ]
    }
   ],
   "source": [
    "# Calculate training and test MSE\n",
    "train_mse = mean_squared_error(y_train, y_hat_train)\n",
    "test_mse = mean_squared_error(y_test, y_hat_test)\n",
    "print('Train Mean Squared Error:', train_mse)\n",
    "print('Test Mean Squared Error:', test_mse)"
   ]
  },
  {
   "cell_type": "markdown",
   "metadata": {},
   "source": [
    "### Instantiate a Linear Regression model called final_model, then fit it to training data and score it on test data."
   ]
  },
  {
   "cell_type": "code",
   "execution_count": 69,
   "metadata": {
    "ExecuteTime": {
     "end_time": "2022-02-25T15:20:21.674291Z",
     "start_time": "2022-02-25T15:20:21.636625Z"
    }
   },
   "outputs": [
    {
     "data": {
      "text/plain": [
       "0.5940038010754612"
      ]
     },
     "execution_count": 69,
     "metadata": {},
     "output_type": "execute_result"
    }
   ],
   "source": [
    "final_model = LinearRegression()\n",
    "\n",
    "# Fit the model on X_train_final and y_train\n",
    "final_model.fit(X_train, y_train)\n",
    "\n",
    "# Score the model on X_test_final and y_test\n",
    "# (use the built-in .score method)\n",
    "final_model.score(X_test, y_test)"
   ]
  },
  {
   "cell_type": "markdown",
   "metadata": {},
   "source": [
    "### Model improvements from first to second models.\n",
    "* Lower variance and lower bias present in second_model compared to first_model\n",
    "    * Adjusted R-squared improved from 0.471 to 0.595\n",
    "    * Mean Squared Error improved from 0.507/0.516 (train/test) to 0.404/0.413 (train/test).\n",
    "***\n",
    "* Mean squared error similar in train and test splits for both first and second models.\n",
    "    * first_model: train = 0.507, test = 0.516\n",
    "    * second_model: train = 0.404, test = 0.413"
   ]
  },
  {
   "cell_type": "markdown",
   "metadata": {},
   "source": [
    "# Third Model - add more numerical values\n",
    "* Which numerical values to add?\n",
    "* Adds complexity and might hurt bias while improving variance."
   ]
  },
  {
   "cell_type": "code",
   "execution_count": 70,
   "metadata": {
    "ExecuteTime": {
     "end_time": "2022-02-25T15:20:23.133628Z",
     "start_time": "2022-02-25T15:20:23.121969Z"
    },
    "scrolled": true
   },
   "outputs": [
    {
     "data": {
      "text/plain": [
       "1.0    10673\n",
       "2.0     8235\n",
       "1.5     1910\n",
       "3.0      611\n",
       "2.5      161\n",
       "3.5        7\n",
       "Name: floors, dtype: int64"
      ]
     },
     "execution_count": 70,
     "metadata": {},
     "output_type": "execute_result"
    }
   ],
   "source": [
    "# look at values for floors -- looks easy to implement\n",
    "house_df['floors'].value_counts(dropna=False)"
   ]
  },
  {
   "cell_type": "code",
   "execution_count": 71,
   "metadata": {
    "ExecuteTime": {
     "end_time": "2022-02-25T15:20:23.715276Z",
     "start_time": "2022-02-25T15:20:23.701505Z"
    },
    "scrolled": true
   },
   "outputs": [
    {
     "data": {
      "text/plain": [
       "0.0       17011\n",
       "NaN        3842\n",
       "2014.0       73\n",
       "2003.0       31\n",
       "2013.0       31\n",
       "          ...  \n",
       "1944.0        1\n",
       "1948.0        1\n",
       "1976.0        1\n",
       "1934.0        1\n",
       "1953.0        1\n",
       "Name: yr_renovated, Length: 71, dtype: int64"
      ]
     },
     "execution_count": 71,
     "metadata": {},
     "output_type": "execute_result"
    }
   ],
   "source": [
    "# too many issues with this column - could probably one hot encode\n",
    "# all of the years, but that would create too many predictors.\n",
    "house_df['yr_renovated'].value_counts(dropna=False)"
   ]
  },
  {
   "cell_type": "code",
   "execution_count": 72,
   "metadata": {
    "ExecuteTime": {
     "end_time": "2022-02-25T15:20:24.263099Z",
     "start_time": "2022-02-25T15:20:24.245383Z"
    },
    "scrolled": true
   },
   "outputs": [
    {
     "data": {
      "text/plain": [
       "2014    559\n",
       "2006    453\n",
       "2005    450\n",
       "2004    433\n",
       "2003    420\n",
       "       ... \n",
       "1933     30\n",
       "1901     29\n",
       "1902     27\n",
       "1935     24\n",
       "1934     21\n",
       "Name: yr_built, Length: 116, dtype: int64"
      ]
     },
     "execution_count": 72,
     "metadata": {},
     "output_type": "execute_result"
    }
   ],
   "source": [
    "# look at yr_built value_counts - easy to include this predictor\n",
    "house_df['yr_built'].value_counts(dropna=False)"
   ]
  },
  {
   "cell_type": "code",
   "execution_count": 73,
   "metadata": {
    "ExecuteTime": {
     "end_time": "2022-02-25T15:20:24.794843Z",
     "start_time": "2022-02-25T15:20:24.787416Z"
    }
   },
   "outputs": [],
   "source": [
    "add_numericals = house_df[['yr_built', 'floors']]"
   ]
  },
  {
   "cell_type": "code",
   "execution_count": 74,
   "metadata": {
    "ExecuteTime": {
     "end_time": "2022-02-25T15:20:25.967899Z",
     "start_time": "2022-02-25T15:20:25.392213Z"
    },
    "scrolled": true
   },
   "outputs": [
    {
     "data": {
      "image/png": "[encoded data removed]",
      "text/plain": [
       "<Figure size 576x576 with 2 Axes>"
      ]
     },
     "metadata": {
      "needs_background": "light"
     },
     "output_type": "display_data"
    }
   ],
   "source": [
    "add_numericals.hist(figsize = [8,8], bins='auto');"
   ]
  },
  {
   "cell_type": "code",
   "execution_count": 75,
   "metadata": {
    "ExecuteTime": {
     "end_time": "2022-02-25T15:20:28.450399Z",
     "start_time": "2022-02-25T15:20:26.094865Z"
    },
    "scrolled": true
   },
   "outputs": [
    {
     "data": {
      "image/png": "[encoded data removed]",
      "text/plain": [
       "<Figure size 720x720 with 4 Axes>"
      ]
     },
     "metadata": {
      "needs_background": "light"
     },
     "output_type": "display_data"
    }
   ],
   "source": [
    "# Perform log transformations for add_numericals \n",
    "\n",
    "log_names = [f'{column}_log' for column in add_numericals.columns]\n",
    "\n",
    "house_log2 = np.log(add_numericals)\n",
    "house_log2.columns = log_names\n",
    "house_log.hist(figsize=(10, 10), bins='auto')\n",
    "fig.tight_layout();"
   ]
  },
  {
   "cell_type": "code",
   "execution_count": 76,
   "metadata": {
    "ExecuteTime": {
     "end_time": "2022-02-25T15:20:29.069201Z",
     "start_time": "2022-02-25T15:20:28.453413Z"
    },
    "scrolled": true
   },
   "outputs": [
    {
     "data": {
      "image/png": "[encoded data removed]",
      "text/plain": [
       "<Figure size 576x576 with 2 Axes>"
      ]
     },
     "metadata": {
      "needs_background": "light"
     },
     "output_type": "display_data"
    }
   ],
   "source": [
    "# Standardize the log features\n",
    "\n",
    "def normalize(feature):\n",
    "    return (feature - feature.mean()) / feature.std()\n",
    "\n",
    "features_add = house_log2.apply(normalize)\n",
    "\n",
    "features_add.hist(figsize  = [8, 8]);"
   ]
  },
  {
   "cell_type": "markdown",
   "metadata": {},
   "source": [
    "### Additional features not normally distributed.\n",
    "* Likely to cause skewness."
   ]
  },
  {
   "cell_type": "code",
   "execution_count": 77,
   "metadata": {
    "ExecuteTime": {
     "end_time": "2022-02-25T15:20:29.109410Z",
     "start_time": "2022-02-25T15:20:29.073555Z"
    }
   },
   "outputs": [
    {
     "data": {
      "text/html": [
       "<div>\n",
       "<style scoped>\n",
       "    .dataframe tbody tr th:only-of-type {\n",
       "        vertical-align: middle;\n",
       "    }\n",
       "\n",
       "    .dataframe tbody tr th {\n",
       "        vertical-align: top;\n",
       "    }\n",
       "\n",
       "    .dataframe thead th {\n",
       "        text-align: right;\n",
       "    }\n",
       "</style>\n",
       "<table border=\"1\" class=\"dataframe\">\n",
       "  <thead>\n",
       "    <tr style=\"text-align: right;\">\n",
       "      <th></th>\n",
       "      <th>yr_built_log</th>\n",
       "      <th>floors_log</th>\n",
       "    </tr>\n",
       "  </thead>\n",
       "  <tbody>\n",
       "    <tr>\n",
       "      <th>count</th>\n",
       "      <td>2.159700e+04</td>\n",
       "      <td>2.159700e+04</td>\n",
       "    </tr>\n",
       "    <tr>\n",
       "      <th>mean</th>\n",
       "      <td>-2.568837e-15</td>\n",
       "      <td>2.105604e-17</td>\n",
       "    </tr>\n",
       "    <tr>\n",
       "      <th>std</th>\n",
       "      <td>1.000000e+00</td>\n",
       "      <td>1.000000e+00</td>\n",
       "    </tr>\n",
       "    <tr>\n",
       "      <th>min</th>\n",
       "      <td>-2.445050e+00</td>\n",
       "      <td>-9.608519e-01</td>\n",
       "    </tr>\n",
       "    <tr>\n",
       "      <th>25%</th>\n",
       "      <td>-6.743255e-01</td>\n",
       "      <td>-9.608519e-01</td>\n",
       "    </tr>\n",
       "    <tr>\n",
       "      <th>50%</th>\n",
       "      <td>1.430005e-01</td>\n",
       "      <td>1.901686e-01</td>\n",
       "    </tr>\n",
       "    <tr>\n",
       "      <th>75%</th>\n",
       "      <td>8.835377e-01</td>\n",
       "      <td>1.006831e+00</td>\n",
       "    </tr>\n",
       "    <tr>\n",
       "      <th>max</th>\n",
       "      <td>1.483389e+00</td>\n",
       "      <td>2.595449e+00</td>\n",
       "    </tr>\n",
       "  </tbody>\n",
       "</table>\n",
       "</div>"
      ],
      "text/plain": [
       "       yr_built_log    floors_log\n",
       "count  2.159700e+04  2.159700e+04\n",
       "mean  -2.568837e-15  2.105604e-17\n",
       "std    1.000000e+00  1.000000e+00\n",
       "min   -2.445050e+00 -9.608519e-01\n",
       "25%   -6.743255e-01 -9.608519e-01\n",
       "50%    1.430005e-01  1.901686e-01\n",
       "75%    8.835377e-01  1.006831e+00\n",
       "max    1.483389e+00  2.595449e+00"
      ]
     },
     "execution_count": 77,
     "metadata": {},
     "output_type": "execute_result"
    }
   ],
   "source": [
    "features_add.describe()"
   ]
  },
  {
   "cell_type": "code",
   "execution_count": 78,
   "metadata": {
    "ExecuteTime": {
     "end_time": "2022-02-25T15:20:29.215987Z",
     "start_time": "2022-02-25T15:20:29.182291Z"
    },
    "scrolled": true
   },
   "outputs": [
    {
     "data": {
      "text/html": [
       "<div>\n",
       "<style scoped>\n",
       "    .dataframe tbody tr th:only-of-type {\n",
       "        vertical-align: middle;\n",
       "    }\n",
       "\n",
       "    .dataframe tbody tr th {\n",
       "        vertical-align: top;\n",
       "    }\n",
       "\n",
       "    .dataframe thead th {\n",
       "        text-align: right;\n",
       "    }\n",
       "</style>\n",
       "<table border=\"1\" class=\"dataframe\">\n",
       "  <thead>\n",
       "    <tr style=\"text-align: right;\">\n",
       "      <th></th>\n",
       "      <th>sqft_living_log</th>\n",
       "      <th>bathrooms_log</th>\n",
       "      <th>bedrooms_log</th>\n",
       "      <th>price_log</th>\n",
       "      <th>water_1.0</th>\n",
       "      <th>view_EXCELLENT</th>\n",
       "      <th>view_FAIR</th>\n",
       "      <th>view_GOOD</th>\n",
       "      <th>view_NONE</th>\n",
       "      <th>condition_Fair</th>\n",
       "      <th>...</th>\n",
       "      <th>grade_12 Luxury</th>\n",
       "      <th>grade_13 Mansion</th>\n",
       "      <th>grade_4 Low</th>\n",
       "      <th>grade_5 Fair</th>\n",
       "      <th>grade_6 Low Average</th>\n",
       "      <th>grade_7 Average</th>\n",
       "      <th>grade_8 Good</th>\n",
       "      <th>grade_9 Better</th>\n",
       "      <th>yr_built_log</th>\n",
       "      <th>floors_log</th>\n",
       "    </tr>\n",
       "  </thead>\n",
       "  <tbody>\n",
       "    <tr>\n",
       "      <th>0</th>\n",
       "      <td>-1.125556</td>\n",
       "      <td>-1.726509</td>\n",
       "      <td>-0.279718</td>\n",
       "      <td>-1.401998</td>\n",
       "      <td>0</td>\n",
       "      <td>0</td>\n",
       "      <td>0</td>\n",
       "      <td>0</td>\n",
       "      <td>1</td>\n",
       "      <td>0</td>\n",
       "      <td>...</td>\n",
       "      <td>0</td>\n",
       "      <td>0</td>\n",
       "      <td>0</td>\n",
       "      <td>0</td>\n",
       "      <td>0</td>\n",
       "      <td>1</td>\n",
       "      <td>0</td>\n",
       "      <td>0</td>\n",
       "      <td>-0.537409</td>\n",
       "      <td>-0.960852</td>\n",
       "    </tr>\n",
       "    <tr>\n",
       "      <th>1</th>\n",
       "      <td>0.709446</td>\n",
       "      <td>0.339653</td>\n",
       "      <td>-0.279718</td>\n",
       "      <td>0.279938</td>\n",
       "      <td>0</td>\n",
       "      <td>0</td>\n",
       "      <td>0</td>\n",
       "      <td>0</td>\n",
       "      <td>1</td>\n",
       "      <td>0</td>\n",
       "      <td>...</td>\n",
       "      <td>0</td>\n",
       "      <td>0</td>\n",
       "      <td>0</td>\n",
       "      <td>0</td>\n",
       "      <td>0</td>\n",
       "      <td>1</td>\n",
       "      <td>0</td>\n",
       "      <td>0</td>\n",
       "      <td>-0.674325</td>\n",
       "      <td>1.006831</td>\n",
       "    </tr>\n",
       "    <tr>\n",
       "      <th>2</th>\n",
       "      <td>-2.131893</td>\n",
       "      <td>-1.726509</td>\n",
       "      <td>-1.711611</td>\n",
       "      <td>-1.799430</td>\n",
       "      <td>0</td>\n",
       "      <td>0</td>\n",
       "      <td>0</td>\n",
       "      <td>0</td>\n",
       "      <td>1</td>\n",
       "      <td>0</td>\n",
       "      <td>...</td>\n",
       "      <td>0</td>\n",
       "      <td>0</td>\n",
       "      <td>0</td>\n",
       "      <td>0</td>\n",
       "      <td>1</td>\n",
       "      <td>0</td>\n",
       "      <td>0</td>\n",
       "      <td>0</td>\n",
       "      <td>-1.293945</td>\n",
       "      <td>-0.960852</td>\n",
       "    </tr>\n",
       "    <tr>\n",
       "      <th>3</th>\n",
       "      <td>0.070674</td>\n",
       "      <td>1.072635</td>\n",
       "      <td>0.736226</td>\n",
       "      <td>0.499698</td>\n",
       "      <td>0</td>\n",
       "      <td>0</td>\n",
       "      <td>0</td>\n",
       "      <td>0</td>\n",
       "      <td>1</td>\n",
       "      <td>0</td>\n",
       "      <td>...</td>\n",
       "      <td>0</td>\n",
       "      <td>0</td>\n",
       "      <td>0</td>\n",
       "      <td>0</td>\n",
       "      <td>0</td>\n",
       "      <td>1</td>\n",
       "      <td>0</td>\n",
       "      <td>0</td>\n",
       "      <td>-0.196338</td>\n",
       "      <td>-0.960852</td>\n",
       "    </tr>\n",
       "    <tr>\n",
       "      <th>4</th>\n",
       "      <td>-0.292725</td>\n",
       "      <td>0.039555</td>\n",
       "      <td>-0.279718</td>\n",
       "      <td>0.178434</td>\n",
       "      <td>0</td>\n",
       "      <td>0</td>\n",
       "      <td>0</td>\n",
       "      <td>0</td>\n",
       "      <td>1</td>\n",
       "      <td>0</td>\n",
       "      <td>...</td>\n",
       "      <td>0</td>\n",
       "      <td>0</td>\n",
       "      <td>0</td>\n",
       "      <td>0</td>\n",
       "      <td>0</td>\n",
       "      <td>0</td>\n",
       "      <td>1</td>\n",
       "      <td>0</td>\n",
       "      <td>0.547946</td>\n",
       "      <td>-0.960852</td>\n",
       "    </tr>\n",
       "  </tbody>\n",
       "</table>\n",
       "<p>5 rows × 23 columns</p>\n",
       "</div>"
      ],
      "text/plain": [
       "   sqft_living_log  bathrooms_log  bedrooms_log  price_log  water_1.0  \\\n",
       "0        -1.125556      -1.726509     -0.279718  -1.401998          0   \n",
       "1         0.709446       0.339653     -0.279718   0.279938          0   \n",
       "2        -2.131893      -1.726509     -1.711611  -1.799430          0   \n",
       "3         0.070674       1.072635      0.736226   0.499698          0   \n",
       "4        -0.292725       0.039555     -0.279718   0.178434          0   \n",
       "\n",
       "   view_EXCELLENT  view_FAIR  view_GOOD  view_NONE  condition_Fair  ...  \\\n",
       "0               0          0          0          1               0  ...   \n",
       "1               0          0          0          1               0  ...   \n",
       "2               0          0          0          1               0  ...   \n",
       "3               0          0          0          1               0  ...   \n",
       "4               0          0          0          1               0  ...   \n",
       "\n",
       "   grade_12 Luxury  grade_13 Mansion  grade_4 Low  grade_5 Fair  \\\n",
       "0                0                 0            0             0   \n",
       "1                0                 0            0             0   \n",
       "2                0                 0            0             0   \n",
       "3                0                 0            0             0   \n",
       "4                0                 0            0             0   \n",
       "\n",
       "   grade_6 Low Average  grade_7 Average  grade_8 Good  grade_9 Better  \\\n",
       "0                    0                1             0               0   \n",
       "1                    0                1             0               0   \n",
       "2                    1                0             0               0   \n",
       "3                    0                1             0               0   \n",
       "4                    0                0             1               0   \n",
       "\n",
       "   yr_built_log  floors_log  \n",
       "0     -0.537409   -0.960852  \n",
       "1     -0.674325    1.006831  \n",
       "2     -1.293945   -0.960852  \n",
       "3     -0.196338   -0.960852  \n",
       "4      0.547946   -0.960852  \n",
       "\n",
       "[5 rows x 23 columns]"
      ]
     },
     "execution_count": 78,
     "metadata": {},
     "output_type": "execute_result"
    }
   ],
   "source": [
    "third_model = pd.concat([second_model, features_add], axis=1)\n",
    "third_model.head()"
   ]
  },
  {
   "cell_type": "code",
   "execution_count": 79,
   "metadata": {
    "ExecuteTime": {
     "end_time": "2022-02-25T15:20:29.752161Z",
     "start_time": "2022-02-25T15:20:29.594837Z"
    },
    "scrolled": true
   },
   "outputs": [
    {
     "data": {
      "text/html": [
       "<table class=\"simpletable\">\n",
       "<caption>OLS Regression Results</caption>\n",
       "<tr>\n",
       "  <th>Dep. Variable:</th>        <td>price_log</td>    <th>  R-squared:         </th> <td>   0.649</td> \n",
       "</tr>\n",
       "<tr>\n",
       "  <th>Model:</th>                   <td>OLS</td>       <th>  Adj. R-squared:    </th> <td>   0.648</td> \n",
       "</tr>\n",
       "<tr>\n",
       "  <th>Method:</th>             <td>Least Squares</td>  <th>  F-statistic:       </th> <td>   1811.</td> \n",
       "</tr>\n",
       "<tr>\n",
       "  <th>Date:</th>             <td>Fri, 25 Feb 2022</td> <th>  Prob (F-statistic):</th>  <td>  0.00</td>  \n",
       "</tr>\n",
       "<tr>\n",
       "  <th>Time:</th>                 <td>08:20:29</td>     <th>  Log-Likelihood:    </th> <td> -19347.</td> \n",
       "</tr>\n",
       "<tr>\n",
       "  <th>No. Observations:</th>      <td> 21597</td>      <th>  AIC:               </th> <td>3.874e+04</td>\n",
       "</tr>\n",
       "<tr>\n",
       "  <th>Df Residuals:</th>          <td> 21574</td>      <th>  BIC:               </th> <td>3.892e+04</td>\n",
       "</tr>\n",
       "<tr>\n",
       "  <th>Df Model:</th>              <td>    22</td>      <th>                     </th>     <td> </td>    \n",
       "</tr>\n",
       "<tr>\n",
       "  <th>Covariance Type:</th>      <td>nonrobust</td>    <th>                     </th>     <td> </td>    \n",
       "</tr>\n",
       "</table>\n",
       "<table class=\"simpletable\">\n",
       "<tr>\n",
       "           <td></td>              <th>coef</th>     <th>std err</th>      <th>t</th>      <th>P>|t|</th>  <th>[0.025</th>    <th>0.975]</th>  \n",
       "</tr>\n",
       "<tr>\n",
       "  <th>const</th>               <td>    1.1622</td> <td>    0.027</td> <td>   42.506</td> <td> 0.000</td> <td>    1.109</td> <td>    1.216</td>\n",
       "</tr>\n",
       "<tr>\n",
       "  <th>sqft_living_log</th>     <td>    0.3183</td> <td>    0.008</td> <td>   37.644</td> <td> 0.000</td> <td>    0.302</td> <td>    0.335</td>\n",
       "</tr>\n",
       "<tr>\n",
       "  <th>bathrooms_log</th>       <td>    0.1051</td> <td>    0.007</td> <td>   14.385</td> <td> 0.000</td> <td>    0.091</td> <td>    0.119</td>\n",
       "</tr>\n",
       "<tr>\n",
       "  <th>bedrooms_log</th>        <td>   -0.0753</td> <td>    0.006</td> <td>  -13.587</td> <td> 0.000</td> <td>   -0.086</td> <td>   -0.064</td>\n",
       "</tr>\n",
       "<tr>\n",
       "  <th>water_1.0</th>           <td>    0.6174</td> <td>    0.060</td> <td>   10.275</td> <td> 0.000</td> <td>    0.500</td> <td>    0.735</td>\n",
       "</tr>\n",
       "<tr>\n",
       "  <th>view_EXCELLENT</th>      <td>    0.3314</td> <td>    0.045</td> <td>    7.374</td> <td> 0.000</td> <td>    0.243</td> <td>    0.419</td>\n",
       "</tr>\n",
       "<tr>\n",
       "  <th>view_FAIR</th>           <td>    0.1558</td> <td>    0.038</td> <td>    4.114</td> <td> 0.000</td> <td>    0.082</td> <td>    0.230</td>\n",
       "</tr>\n",
       "<tr>\n",
       "  <th>view_GOOD</th>           <td>    0.0785</td> <td>    0.033</td> <td>    2.407</td> <td> 0.016</td> <td>    0.015</td> <td>    0.143</td>\n",
       "</tr>\n",
       "<tr>\n",
       "  <th>view_NONE</th>           <td>   -0.1946</td> <td>    0.020</td> <td>   -9.696</td> <td> 0.000</td> <td>   -0.234</td> <td>   -0.155</td>\n",
       "</tr>\n",
       "<tr>\n",
       "  <th>condition_Fair</th>      <td>   -0.3082</td> <td>    0.046</td> <td>   -6.666</td> <td> 0.000</td> <td>   -0.399</td> <td>   -0.218</td>\n",
       "</tr>\n",
       "<tr>\n",
       "  <th>condition_Good</th>      <td>    0.0279</td> <td>    0.010</td> <td>    2.780</td> <td> 0.005</td> <td>    0.008</td> <td>    0.048</td>\n",
       "</tr>\n",
       "<tr>\n",
       "  <th>condition_Very Good</th> <td>    0.1563</td> <td>    0.016</td> <td>    9.643</td> <td> 0.000</td> <td>    0.125</td> <td>    0.188</td>\n",
       "</tr>\n",
       "<tr>\n",
       "  <th>grade_11 Excellent</th>  <td>    0.4015</td> <td>    0.035</td> <td>   11.559</td> <td> 0.000</td> <td>    0.333</td> <td>    0.470</td>\n",
       "</tr>\n",
       "<tr>\n",
       "  <th>grade_12 Luxury</th>     <td>    0.8326</td> <td>    0.066</td> <td>   12.633</td> <td> 0.000</td> <td>    0.703</td> <td>    0.962</td>\n",
       "</tr>\n",
       "<tr>\n",
       "  <th>grade_13 Mansion</th>    <td>    1.4383</td> <td>    0.166</td> <td>    8.662</td> <td> 0.000</td> <td>    1.113</td> <td>    1.764</td>\n",
       "</tr>\n",
       "<tr>\n",
       "  <th>grade_4 Low</th>         <td>   -2.1558</td> <td>    0.118</td> <td>  -18.204</td> <td> 0.000</td> <td>   -2.388</td> <td>   -1.924</td>\n",
       "</tr>\n",
       "<tr>\n",
       "  <th>grade_5 Fair</th>        <td>   -2.1173</td> <td>    0.047</td> <td>  -44.977</td> <td> 0.000</td> <td>   -2.210</td> <td>   -2.025</td>\n",
       "</tr>\n",
       "<tr>\n",
       "  <th>grade_6 Low Average</th> <td>   -1.7577</td> <td>    0.029</td> <td>  -61.252</td> <td> 0.000</td> <td>   -1.814</td> <td>   -1.701</td>\n",
       "</tr>\n",
       "<tr>\n",
       "  <th>grade_7 Average</th>     <td>   -1.3080</td> <td>    0.023</td> <td>  -57.594</td> <td> 0.000</td> <td>   -1.353</td> <td>   -1.264</td>\n",
       "</tr>\n",
       "<tr>\n",
       "  <th>grade_8 Good</th>        <td>   -0.8744</td> <td>    0.021</td> <td>  -42.062</td> <td> 0.000</td> <td>   -0.915</td> <td>   -0.834</td>\n",
       "</tr>\n",
       "<tr>\n",
       "  <th>grade_9 Better</th>      <td>   -0.3916</td> <td>    0.021</td> <td>  -18.331</td> <td> 0.000</td> <td>   -0.433</td> <td>   -0.350</td>\n",
       "</tr>\n",
       "<tr>\n",
       "  <th>yr_built_log</th>        <td>   -0.3198</td> <td>    0.005</td> <td>  -58.362</td> <td> 0.000</td> <td>   -0.331</td> <td>   -0.309</td>\n",
       "</tr>\n",
       "<tr>\n",
       "  <th>floors_log</th>          <td>    0.0726</td> <td>    0.005</td> <td>   14.182</td> <td> 0.000</td> <td>    0.063</td> <td>    0.083</td>\n",
       "</tr>\n",
       "</table>\n",
       "<table class=\"simpletable\">\n",
       "<tr>\n",
       "  <th>Omnibus:</th>       <td>54.593</td> <th>  Durbin-Watson:     </th> <td>   1.955</td>\n",
       "</tr>\n",
       "<tr>\n",
       "  <th>Prob(Omnibus):</th> <td> 0.000</td> <th>  Jarque-Bera (JB):  </th> <td>  63.004</td>\n",
       "</tr>\n",
       "<tr>\n",
       "  <th>Skew:</th>          <td>-0.069</td> <th>  Prob(JB):          </th> <td>2.08e-14</td>\n",
       "</tr>\n",
       "<tr>\n",
       "  <th>Kurtosis:</th>      <td> 3.226</td> <th>  Cond. No.          </th> <td>    71.1</td>\n",
       "</tr>\n",
       "</table><br/><br/>Notes:<br/>[1] Standard Errors assume that the covariance matrix of the errors is correctly specified."
      ],
      "text/plain": [
       "<class 'statsmodels.iolib.summary.Summary'>\n",
       "\"\"\"\n",
       "                            OLS Regression Results                            \n",
       "==============================================================================\n",
       "Dep. Variable:              price_log   R-squared:                       0.649\n",
       "Model:                            OLS   Adj. R-squared:                  0.648\n",
       "Method:                 Least Squares   F-statistic:                     1811.\n",
       "Date:                Fri, 25 Feb 2022   Prob (F-statistic):               0.00\n",
       "Time:                        08:20:29   Log-Likelihood:                -19347.\n",
       "No. Observations:               21597   AIC:                         3.874e+04\n",
       "Df Residuals:                   21574   BIC:                         3.892e+04\n",
       "Df Model:                          22                                         \n",
       "Covariance Type:            nonrobust                                         \n",
       "=======================================================================================\n",
       "                          coef    std err          t      P>|t|      [0.025      0.975]\n",
       "---------------------------------------------------------------------------------------\n",
       "const                   1.1622      0.027     42.506      0.000       1.109       1.216\n",
       "sqft_living_log         0.3183      0.008     37.644      0.000       0.302       0.335\n",
       "bathrooms_log           0.1051      0.007     14.385      0.000       0.091       0.119\n",
       "bedrooms_log           -0.0753      0.006    -13.587      0.000      -0.086      -0.064\n",
       "water_1.0               0.6174      0.060     10.275      0.000       0.500       0.735\n",
       "view_EXCELLENT          0.3314      0.045      7.374      0.000       0.243       0.419\n",
       "view_FAIR               0.1558      0.038      4.114      0.000       0.082       0.230\n",
       "view_GOOD               0.0785      0.033      2.407      0.016       0.015       0.143\n",
       "view_NONE              -0.1946      0.020     -9.696      0.000      -0.234      -0.155\n",
       "condition_Fair         -0.3082      0.046     -6.666      0.000      -0.399      -0.218\n",
       "condition_Good          0.0279      0.010      2.780      0.005       0.008       0.048\n",
       "condition_Very Good     0.1563      0.016      9.643      0.000       0.125       0.188\n",
       "grade_11 Excellent      0.4015      0.035     11.559      0.000       0.333       0.470\n",
       "grade_12 Luxury         0.8326      0.066     12.633      0.000       0.703       0.962\n",
       "grade_13 Mansion        1.4383      0.166      8.662      0.000       1.113       1.764\n",
       "grade_4 Low            -2.1558      0.118    -18.204      0.000      -2.388      -1.924\n",
       "grade_5 Fair           -2.1173      0.047    -44.977      0.000      -2.210      -2.025\n",
       "grade_6 Low Average    -1.7577      0.029    -61.252      0.000      -1.814      -1.701\n",
       "grade_7 Average        -1.3080      0.023    -57.594      0.000      -1.353      -1.264\n",
       "grade_8 Good           -0.8744      0.021    -42.062      0.000      -0.915      -0.834\n",
       "grade_9 Better         -0.3916      0.021    -18.331      0.000      -0.433      -0.350\n",
       "yr_built_log           -0.3198      0.005    -58.362      0.000      -0.331      -0.309\n",
       "floors_log              0.0726      0.005     14.182      0.000       0.063       0.083\n",
       "==============================================================================\n",
       "Omnibus:                       54.593   Durbin-Watson:                   1.955\n",
       "Prob(Omnibus):                  0.000   Jarque-Bera (JB):               63.004\n",
       "Skew:                          -0.069   Prob(JB):                     2.08e-14\n",
       "Kurtosis:                       3.226   Cond. No.                         71.1\n",
       "==============================================================================\n",
       "\n",
       "Notes:\n",
       "[1] Standard Errors assume that the covariance matrix of the errors is correctly specified.\n",
       "\"\"\""
      ]
     },
     "execution_count": 79,
     "metadata": {},
     "output_type": "execute_result"
    }
   ],
   "source": [
    "# Model Summary\n",
    "X = third_model.drop(['price_log'], axis=1)\n",
    "y = third_model['price_log']\n",
    "\n",
    "X_int = sm.add_constant(X)\n",
    "model = sm.OLS(y,X_int).fit()\n",
    "model.summary()"
   ]
  },
  {
   "cell_type": "code",
   "execution_count": 80,
   "metadata": {
    "ExecuteTime": {
     "end_time": "2022-02-25T15:20:30.380869Z",
     "start_time": "2022-02-25T15:20:30.371968Z"
    }
   },
   "outputs": [],
   "source": [
    "X3 = third_model.drop('price_log', axis=1)\n",
    "y3 = third_model['price_log']"
   ]
  },
  {
   "cell_type": "code",
   "execution_count": 81,
   "metadata": {
    "ExecuteTime": {
     "end_time": "2022-02-25T15:20:30.942916Z",
     "start_time": "2022-02-25T15:20:30.929720Z"
    }
   },
   "outputs": [
    {
     "name": "stdout",
     "output_type": "stream",
     "text": [
      "12958 8639 12958 8639\n"
     ]
    }
   ],
   "source": [
    "# Split the data into training and test sets. Use the default split size\n",
    "\n",
    "X_train, X_test, y_train, y_test = train_test_split(X3,y3, test_size=.4)\n",
    "\n",
    "# A brief preview of tts\n",
    "print(len(X_train), len(X_test), len(y_train), len(y_test))"
   ]
  },
  {
   "cell_type": "code",
   "execution_count": 82,
   "metadata": {
    "ExecuteTime": {
     "end_time": "2022-02-25T15:20:31.509395Z",
     "start_time": "2022-02-25T15:20:31.471491Z"
    }
   },
   "outputs": [
    {
     "data": {
      "text/plain": [
       "LinearRegression()"
      ]
     },
     "execution_count": 82,
     "metadata": {},
     "output_type": "execute_result"
    }
   ],
   "source": [
    "linreg = LinearRegression()\n",
    "\n",
    "# Fit the model to train data\n",
    "linreg.fit(X_train, y_train)\n",
    "\n",
    "LinearRegression(copy_X=True, fit_intercept=True, n_jobs=None, normalize=False)"
   ]
  },
  {
   "cell_type": "code",
   "execution_count": 83,
   "metadata": {
    "ExecuteTime": {
     "end_time": "2022-02-25T15:20:32.074473Z",
     "start_time": "2022-02-25T15:20:32.058828Z"
    }
   },
   "outputs": [],
   "source": [
    "# Calculate predictions on training and test sets\n",
    "y_hat_train = linreg.predict(X_train)\n",
    "y_hat_test = linreg.predict(X_test)"
   ]
  },
  {
   "cell_type": "code",
   "execution_count": 84,
   "metadata": {
    "ExecuteTime": {
     "end_time": "2022-02-25T15:20:32.631523Z",
     "start_time": "2022-02-25T15:20:32.622494Z"
    }
   },
   "outputs": [],
   "source": [
    "# Calculate residuals\n",
    "train_residuals = y_hat_train - y_train\n",
    "test_residuals = y_hat_test - y_test"
   ]
  },
  {
   "cell_type": "code",
   "execution_count": 85,
   "metadata": {
    "ExecuteTime": {
     "end_time": "2022-02-25T15:20:33.085479Z",
     "start_time": "2022-02-25T15:20:33.075479Z"
    }
   },
   "outputs": [
    {
     "name": "stdout",
     "output_type": "stream",
     "text": [
      "Train Mean Squared Error: 0.3502475488379475\n",
      "Test Mean Squared Error: 0.3532511994769255\n"
     ]
    }
   ],
   "source": [
    "# Calculate training and test MSE\n",
    "train_mse = mean_squared_error(y_train, y_hat_train)\n",
    "test_mse = mean_squared_error(y_test, y_hat_test)\n",
    "print('Train Mean Squared Error:', train_mse)\n",
    "print('Test Mean Squared Error:', test_mse)"
   ]
  },
  {
   "cell_type": "markdown",
   "metadata": {},
   "source": [
    "### Instantiate a Linear Regression model called final_model, then fit it to training data and score it on test data."
   ]
  },
  {
   "cell_type": "code",
   "execution_count": 86,
   "metadata": {
    "ExecuteTime": {
     "end_time": "2022-02-25T15:20:34.158152Z",
     "start_time": "2022-02-25T15:20:34.107534Z"
    }
   },
   "outputs": [
    {
     "data": {
      "text/plain": [
       "0.6416405410904022"
      ]
     },
     "execution_count": 86,
     "metadata": {},
     "output_type": "execute_result"
    }
   ],
   "source": [
    "final_model = LinearRegression()\n",
    "\n",
    "# Fit the model on X_train_final and y_train\n",
    "final_model.fit(X_train, y_train)\n",
    "\n",
    "# Score the model on X_test_final and y_test\n",
    "# (use the built-in .score method)\n",
    "final_model.score(X_test, y_test)"
   ]
  },
  {
   "cell_type": "markdown",
   "metadata": {},
   "source": [
    "### Third model lowers Variance and Bias\n",
    "* Adjusted R-squared value increased from 0.587 to .642\n",
    "* Root Mean Squared Error (RMSE) decreased from 0.404/0.413 (train/test) to 0.351/0.353 (train/test)"
   ]
  },
  {
   "cell_type": "markdown",
   "metadata": {},
   "source": [
    "# Fourth Model\n",
    "* Drop predictors with high VIF scores\n",
    "    * view_NONE\n",
    "    * grade_7 Average"
   ]
  },
  {
   "cell_type": "code",
   "execution_count": 87,
   "metadata": {
    "ExecuteTime": {
     "end_time": "2022-02-25T15:20:36.328184Z",
     "start_time": "2022-02-25T15:20:36.293952Z"
    }
   },
   "outputs": [
    {
     "data": {
      "text/html": [
       "<div>\n",
       "<style scoped>\n",
       "    .dataframe tbody tr th:only-of-type {\n",
       "        vertical-align: middle;\n",
       "    }\n",
       "\n",
       "    .dataframe tbody tr th {\n",
       "        vertical-align: top;\n",
       "    }\n",
       "\n",
       "    .dataframe thead th {\n",
       "        text-align: right;\n",
       "    }\n",
       "</style>\n",
       "<table border=\"1\" class=\"dataframe\">\n",
       "  <thead>\n",
       "    <tr style=\"text-align: right;\">\n",
       "      <th></th>\n",
       "      <th>sqft_living_log</th>\n",
       "      <th>bathrooms_log</th>\n",
       "      <th>bedrooms_log</th>\n",
       "      <th>price_log</th>\n",
       "      <th>water_1.0</th>\n",
       "      <th>view_EXCELLENT</th>\n",
       "      <th>view_FAIR</th>\n",
       "      <th>view_GOOD</th>\n",
       "      <th>condition_Fair</th>\n",
       "      <th>condition_Good</th>\n",
       "      <th>...</th>\n",
       "      <th>grade_11 Excellent</th>\n",
       "      <th>grade_12 Luxury</th>\n",
       "      <th>grade_13 Mansion</th>\n",
       "      <th>grade_4 Low</th>\n",
       "      <th>grade_5 Fair</th>\n",
       "      <th>grade_6 Low Average</th>\n",
       "      <th>grade_8 Good</th>\n",
       "      <th>grade_9 Better</th>\n",
       "      <th>yr_built_log</th>\n",
       "      <th>floors_log</th>\n",
       "    </tr>\n",
       "  </thead>\n",
       "  <tbody>\n",
       "    <tr>\n",
       "      <th>0</th>\n",
       "      <td>-1.125556</td>\n",
       "      <td>-1.726509</td>\n",
       "      <td>-0.279718</td>\n",
       "      <td>-1.401998</td>\n",
       "      <td>0</td>\n",
       "      <td>0</td>\n",
       "      <td>0</td>\n",
       "      <td>0</td>\n",
       "      <td>0</td>\n",
       "      <td>0</td>\n",
       "      <td>...</td>\n",
       "      <td>0</td>\n",
       "      <td>0</td>\n",
       "      <td>0</td>\n",
       "      <td>0</td>\n",
       "      <td>0</td>\n",
       "      <td>0</td>\n",
       "      <td>0</td>\n",
       "      <td>0</td>\n",
       "      <td>-0.537409</td>\n",
       "      <td>-0.960852</td>\n",
       "    </tr>\n",
       "    <tr>\n",
       "      <th>1</th>\n",
       "      <td>0.709446</td>\n",
       "      <td>0.339653</td>\n",
       "      <td>-0.279718</td>\n",
       "      <td>0.279938</td>\n",
       "      <td>0</td>\n",
       "      <td>0</td>\n",
       "      <td>0</td>\n",
       "      <td>0</td>\n",
       "      <td>0</td>\n",
       "      <td>0</td>\n",
       "      <td>...</td>\n",
       "      <td>0</td>\n",
       "      <td>0</td>\n",
       "      <td>0</td>\n",
       "      <td>0</td>\n",
       "      <td>0</td>\n",
       "      <td>0</td>\n",
       "      <td>0</td>\n",
       "      <td>0</td>\n",
       "      <td>-0.674325</td>\n",
       "      <td>1.006831</td>\n",
       "    </tr>\n",
       "    <tr>\n",
       "      <th>2</th>\n",
       "      <td>-2.131893</td>\n",
       "      <td>-1.726509</td>\n",
       "      <td>-1.711611</td>\n",
       "      <td>-1.799430</td>\n",
       "      <td>0</td>\n",
       "      <td>0</td>\n",
       "      <td>0</td>\n",
       "      <td>0</td>\n",
       "      <td>0</td>\n",
       "      <td>0</td>\n",
       "      <td>...</td>\n",
       "      <td>0</td>\n",
       "      <td>0</td>\n",
       "      <td>0</td>\n",
       "      <td>0</td>\n",
       "      <td>0</td>\n",
       "      <td>1</td>\n",
       "      <td>0</td>\n",
       "      <td>0</td>\n",
       "      <td>-1.293945</td>\n",
       "      <td>-0.960852</td>\n",
       "    </tr>\n",
       "    <tr>\n",
       "      <th>3</th>\n",
       "      <td>0.070674</td>\n",
       "      <td>1.072635</td>\n",
       "      <td>0.736226</td>\n",
       "      <td>0.499698</td>\n",
       "      <td>0</td>\n",
       "      <td>0</td>\n",
       "      <td>0</td>\n",
       "      <td>0</td>\n",
       "      <td>0</td>\n",
       "      <td>0</td>\n",
       "      <td>...</td>\n",
       "      <td>0</td>\n",
       "      <td>0</td>\n",
       "      <td>0</td>\n",
       "      <td>0</td>\n",
       "      <td>0</td>\n",
       "      <td>0</td>\n",
       "      <td>0</td>\n",
       "      <td>0</td>\n",
       "      <td>-0.196338</td>\n",
       "      <td>-0.960852</td>\n",
       "    </tr>\n",
       "    <tr>\n",
       "      <th>4</th>\n",
       "      <td>-0.292725</td>\n",
       "      <td>0.039555</td>\n",
       "      <td>-0.279718</td>\n",
       "      <td>0.178434</td>\n",
       "      <td>0</td>\n",
       "      <td>0</td>\n",
       "      <td>0</td>\n",
       "      <td>0</td>\n",
       "      <td>0</td>\n",
       "      <td>0</td>\n",
       "      <td>...</td>\n",
       "      <td>0</td>\n",
       "      <td>0</td>\n",
       "      <td>0</td>\n",
       "      <td>0</td>\n",
       "      <td>0</td>\n",
       "      <td>0</td>\n",
       "      <td>1</td>\n",
       "      <td>0</td>\n",
       "      <td>0.547946</td>\n",
       "      <td>-0.960852</td>\n",
       "    </tr>\n",
       "  </tbody>\n",
       "</table>\n",
       "<p>5 rows × 21 columns</p>\n",
       "</div>"
      ],
      "text/plain": [
       "   sqft_living_log  bathrooms_log  bedrooms_log  price_log  water_1.0  \\\n",
       "0        -1.125556      -1.726509     -0.279718  -1.401998          0   \n",
       "1         0.709446       0.339653     -0.279718   0.279938          0   \n",
       "2        -2.131893      -1.726509     -1.711611  -1.799430          0   \n",
       "3         0.070674       1.072635      0.736226   0.499698          0   \n",
       "4        -0.292725       0.039555     -0.279718   0.178434          0   \n",
       "\n",
       "   view_EXCELLENT  view_FAIR  view_GOOD  condition_Fair  condition_Good  ...  \\\n",
       "0               0          0          0               0               0  ...   \n",
       "1               0          0          0               0               0  ...   \n",
       "2               0          0          0               0               0  ...   \n",
       "3               0          0          0               0               0  ...   \n",
       "4               0          0          0               0               0  ...   \n",
       "\n",
       "   grade_11 Excellent  grade_12 Luxury  grade_13 Mansion  grade_4 Low  \\\n",
       "0                   0                0                 0            0   \n",
       "1                   0                0                 0            0   \n",
       "2                   0                0                 0            0   \n",
       "3                   0                0                 0            0   \n",
       "4                   0                0                 0            0   \n",
       "\n",
       "   grade_5 Fair  grade_6 Low Average  grade_8 Good  grade_9 Better  \\\n",
       "0             0                    0             0               0   \n",
       "1             0                    0             0               0   \n",
       "2             0                    1             0               0   \n",
       "3             0                    0             0               0   \n",
       "4             0                    0             1               0   \n",
       "\n",
       "   yr_built_log  floors_log  \n",
       "0     -0.537409   -0.960852  \n",
       "1     -0.674325    1.006831  \n",
       "2     -1.293945   -0.960852  \n",
       "3     -0.196338   -0.960852  \n",
       "4      0.547946   -0.960852  \n",
       "\n",
       "[5 rows x 21 columns]"
      ]
     },
     "execution_count": 87,
     "metadata": {},
     "output_type": "execute_result"
    }
   ],
   "source": [
    "fourth_model = third_model.drop(['view_NONE', 'grade_7 Average'], axis=1)\n",
    "\n",
    "fourth_model.head()"
   ]
  },
  {
   "cell_type": "code",
   "execution_count": 88,
   "metadata": {
    "ExecuteTime": {
     "end_time": "2022-02-25T15:20:37.034933Z",
     "start_time": "2022-02-25T15:20:36.898744Z"
    }
   },
   "outputs": [
    {
     "data": {
      "text/html": [
       "<table class=\"simpletable\">\n",
       "<caption>OLS Regression Results</caption>\n",
       "<tr>\n",
       "  <th>Dep. Variable:</th>        <td>price_log</td>    <th>  R-squared:         </th> <td>   0.592</td> \n",
       "</tr>\n",
       "<tr>\n",
       "  <th>Model:</th>                   <td>OLS</td>       <th>  Adj. R-squared:    </th> <td>   0.592</td> \n",
       "</tr>\n",
       "<tr>\n",
       "  <th>Method:</th>             <td>Least Squares</td>  <th>  F-statistic:       </th> <td>   1565.</td> \n",
       "</tr>\n",
       "<tr>\n",
       "  <th>Date:</th>             <td>Fri, 25 Feb 2022</td> <th>  Prob (F-statistic):</th>  <td>  0.00</td>  \n",
       "</tr>\n",
       "<tr>\n",
       "  <th>Time:</th>                 <td>08:20:36</td>     <th>  Log-Likelihood:    </th> <td> -20965.</td> \n",
       "</tr>\n",
       "<tr>\n",
       "  <th>No. Observations:</th>      <td> 21597</td>      <th>  AIC:               </th> <td>4.197e+04</td>\n",
       "</tr>\n",
       "<tr>\n",
       "  <th>Df Residuals:</th>          <td> 21576</td>      <th>  BIC:               </th> <td>4.214e+04</td>\n",
       "</tr>\n",
       "<tr>\n",
       "  <th>Df Model:</th>              <td>    20</td>      <th>                     </th>     <td> </td>    \n",
       "</tr>\n",
       "<tr>\n",
       "  <th>Covariance Type:</th>      <td>nonrobust</td>    <th>                     </th>     <td> </td>    \n",
       "</tr>\n",
       "</table>\n",
       "<table class=\"simpletable\">\n",
       "<tr>\n",
       "           <td></td>              <th>coef</th>     <th>std err</th>      <th>t</th>      <th>P>|t|</th>  <th>[0.025</th>    <th>0.975]</th>  \n",
       "</tr>\n",
       "<tr>\n",
       "  <th>const</th>               <td>   -0.1312</td> <td>    0.007</td> <td>  -17.515</td> <td> 0.000</td> <td>   -0.146</td> <td>   -0.117</td>\n",
       "</tr>\n",
       "<tr>\n",
       "  <th>sqft_living_log</th>     <td>    0.5284</td> <td>    0.008</td> <td>   63.933</td> <td> 0.000</td> <td>    0.512</td> <td>    0.545</td>\n",
       "</tr>\n",
       "<tr>\n",
       "  <th>bathrooms_log</th>       <td>    0.1066</td> <td>    0.008</td> <td>   13.544</td> <td> 0.000</td> <td>    0.091</td> <td>    0.122</td>\n",
       "</tr>\n",
       "<tr>\n",
       "  <th>bedrooms_log</th>        <td>   -0.1321</td> <td>    0.006</td> <td>  -22.470</td> <td> 0.000</td> <td>   -0.144</td> <td>   -0.121</td>\n",
       "</tr>\n",
       "<tr>\n",
       "  <th>water_1.0</th>           <td>    0.5922</td> <td>    0.065</td> <td>    9.147</td> <td> 0.000</td> <td>    0.465</td> <td>    0.719</td>\n",
       "</tr>\n",
       "<tr>\n",
       "  <th>view_EXCELLENT</th>      <td>    0.6518</td> <td>    0.045</td> <td>   14.596</td> <td> 0.000</td> <td>    0.564</td> <td>    0.739</td>\n",
       "</tr>\n",
       "<tr>\n",
       "  <th>view_FAIR</th>           <td>    0.3642</td> <td>    0.036</td> <td>   10.199</td> <td> 0.000</td> <td>    0.294</td> <td>    0.434</td>\n",
       "</tr>\n",
       "<tr>\n",
       "  <th>view_GOOD</th>           <td>    0.3579</td> <td>    0.029</td> <td>   12.216</td> <td> 0.000</td> <td>    0.300</td> <td>    0.415</td>\n",
       "</tr>\n",
       "<tr>\n",
       "  <th>condition_Fair</th>      <td>   -0.3180</td> <td>    0.050</td> <td>   -6.382</td> <td> 0.000</td> <td>   -0.416</td> <td>   -0.220</td>\n",
       "</tr>\n",
       "<tr>\n",
       "  <th>condition_Good</th>      <td>    0.0086</td> <td>    0.011</td> <td>    0.794</td> <td> 0.427</td> <td>   -0.013</td> <td>    0.030</td>\n",
       "</tr>\n",
       "<tr>\n",
       "  <th>condition_Very Good</th> <td>    0.1345</td> <td>    0.017</td> <td>    7.700</td> <td> 0.000</td> <td>    0.100</td> <td>    0.169</td>\n",
       "</tr>\n",
       "<tr>\n",
       "  <th>grade_11 Excellent</th>  <td>    1.0965</td> <td>    0.035</td> <td>   31.144</td> <td> 0.000</td> <td>    1.027</td> <td>    1.165</td>\n",
       "</tr>\n",
       "<tr>\n",
       "  <th>grade_12 Luxury</th>     <td>    1.4112</td> <td>    0.070</td> <td>   20.090</td> <td> 0.000</td> <td>    1.273</td> <td>    1.549</td>\n",
       "</tr>\n",
       "<tr>\n",
       "  <th>grade_13 Mansion</th>    <td>    1.9149</td> <td>    0.179</td> <td>   10.714</td> <td> 0.000</td> <td>    1.565</td> <td>    2.265</td>\n",
       "</tr>\n",
       "<tr>\n",
       "  <th>grade_4 Low</th>         <td>   -0.5952</td> <td>    0.124</td> <td>   -4.789</td> <td> 0.000</td> <td>   -0.839</td> <td>   -0.352</td>\n",
       "</tr>\n",
       "<tr>\n",
       "  <th>grade_5 Fair</th>        <td>   -0.6593</td> <td>    0.043</td> <td>  -15.409</td> <td> 0.000</td> <td>   -0.743</td> <td>   -0.575</td>\n",
       "</tr>\n",
       "<tr>\n",
       "  <th>grade_6 Low Average</th> <td>   -0.3801</td> <td>    0.017</td> <td>  -22.289</td> <td> 0.000</td> <td>   -0.414</td> <td>   -0.347</td>\n",
       "</tr>\n",
       "<tr>\n",
       "  <th>grade_8 Good</th>        <td>    0.1730</td> <td>    0.011</td> <td>   15.667</td> <td> 0.000</td> <td>    0.151</td> <td>    0.195</td>\n",
       "</tr>\n",
       "<tr>\n",
       "  <th>grade_9 Better</th>      <td>    0.5080</td> <td>    0.016</td> <td>   32.013</td> <td> 0.000</td> <td>    0.477</td> <td>    0.539</td>\n",
       "</tr>\n",
       "<tr>\n",
       "  <th>yr_built_log</th>        <td>   -0.2925</td> <td>    0.006</td> <td>  -50.083</td> <td> 0.000</td> <td>   -0.304</td> <td>   -0.281</td>\n",
       "</tr>\n",
       "<tr>\n",
       "  <th>floors_log</th>          <td>    0.1142</td> <td>    0.005</td> <td>   20.935</td> <td> 0.000</td> <td>    0.103</td> <td>    0.125</td>\n",
       "</tr>\n",
       "</table>\n",
       "<table class=\"simpletable\">\n",
       "<tr>\n",
       "  <th>Omnibus:</th>       <td>44.142</td> <th>  Durbin-Watson:     </th> <td>   1.959</td>\n",
       "</tr>\n",
       "<tr>\n",
       "  <th>Prob(Omnibus):</th> <td> 0.000</td> <th>  Jarque-Bera (JB):  </th> <td>  50.298</td>\n",
       "</tr>\n",
       "<tr>\n",
       "  <th>Skew:</th>          <td> 0.060</td> <th>  Prob(JB):          </th> <td>1.20e-11</td>\n",
       "</tr>\n",
       "<tr>\n",
       "  <th>Kurtosis:</th>      <td> 3.203</td> <th>  Cond. No.          </th> <td>    70.5</td>\n",
       "</tr>\n",
       "</table><br/><br/>Notes:<br/>[1] Standard Errors assume that the covariance matrix of the errors is correctly specified."
      ],
      "text/plain": [
       "<class 'statsmodels.iolib.summary.Summary'>\n",
       "\"\"\"\n",
       "                            OLS Regression Results                            \n",
       "==============================================================================\n",
       "Dep. Variable:              price_log   R-squared:                       0.592\n",
       "Model:                            OLS   Adj. R-squared:                  0.592\n",
       "Method:                 Least Squares   F-statistic:                     1565.\n",
       "Date:                Fri, 25 Feb 2022   Prob (F-statistic):               0.00\n",
       "Time:                        08:20:36   Log-Likelihood:                -20965.\n",
       "No. Observations:               21597   AIC:                         4.197e+04\n",
       "Df Residuals:                   21576   BIC:                         4.214e+04\n",
       "Df Model:                          20                                         \n",
       "Covariance Type:            nonrobust                                         \n",
       "=======================================================================================\n",
       "                          coef    std err          t      P>|t|      [0.025      0.975]\n",
       "---------------------------------------------------------------------------------------\n",
       "const                  -0.1312      0.007    -17.515      0.000      -0.146      -0.117\n",
       "sqft_living_log         0.5284      0.008     63.933      0.000       0.512       0.545\n",
       "bathrooms_log           0.1066      0.008     13.544      0.000       0.091       0.122\n",
       "bedrooms_log           -0.1321      0.006    -22.470      0.000      -0.144      -0.121\n",
       "water_1.0               0.5922      0.065      9.147      0.000       0.465       0.719\n",
       "view_EXCELLENT          0.6518      0.045     14.596      0.000       0.564       0.739\n",
       "view_FAIR               0.3642      0.036     10.199      0.000       0.294       0.434\n",
       "view_GOOD               0.3579      0.029     12.216      0.000       0.300       0.415\n",
       "condition_Fair         -0.3180      0.050     -6.382      0.000      -0.416      -0.220\n",
       "condition_Good          0.0086      0.011      0.794      0.427      -0.013       0.030\n",
       "condition_Very Good     0.1345      0.017      7.700      0.000       0.100       0.169\n",
       "grade_11 Excellent      1.0965      0.035     31.144      0.000       1.027       1.165\n",
       "grade_12 Luxury         1.4112      0.070     20.090      0.000       1.273       1.549\n",
       "grade_13 Mansion        1.9149      0.179     10.714      0.000       1.565       2.265\n",
       "grade_4 Low            -0.5952      0.124     -4.789      0.000      -0.839      -0.352\n",
       "grade_5 Fair           -0.6593      0.043    -15.409      0.000      -0.743      -0.575\n",
       "grade_6 Low Average    -0.3801      0.017    -22.289      0.000      -0.414      -0.347\n",
       "grade_8 Good            0.1730      0.011     15.667      0.000       0.151       0.195\n",
       "grade_9 Better          0.5080      0.016     32.013      0.000       0.477       0.539\n",
       "yr_built_log           -0.2925      0.006    -50.083      0.000      -0.304      -0.281\n",
       "floors_log              0.1142      0.005     20.935      0.000       0.103       0.125\n",
       "==============================================================================\n",
       "Omnibus:                       44.142   Durbin-Watson:                   1.959\n",
       "Prob(Omnibus):                  0.000   Jarque-Bera (JB):               50.298\n",
       "Skew:                           0.060   Prob(JB):                     1.20e-11\n",
       "Kurtosis:                       3.203   Cond. No.                         70.5\n",
       "==============================================================================\n",
       "\n",
       "Notes:\n",
       "[1] Standard Errors assume that the covariance matrix of the errors is correctly specified.\n",
       "\"\"\""
      ]
     },
     "execution_count": 88,
     "metadata": {},
     "output_type": "execute_result"
    }
   ],
   "source": [
    "# Fourth Model Summary\n",
    "X4 = fourth_model.drop(['price_log'], axis=1)\n",
    "y4 = fourth_model['price_log']\n",
    "\n",
    "X_int = sm.add_constant(X4)\n",
    "model = sm.OLS(y4,X_int).fit()\n",
    "model.summary()"
   ]
  },
  {
   "cell_type": "markdown",
   "metadata": {},
   "source": [
    "## Train, Test, Split 4th Model"
   ]
  },
  {
   "cell_type": "code",
   "execution_count": 89,
   "metadata": {
    "ExecuteTime": {
     "end_time": "2022-02-25T15:20:38.149566Z",
     "start_time": "2022-02-25T15:20:38.142770Z"
    }
   },
   "outputs": [],
   "source": [
    "X4 = fourth_model.drop('price_log', axis=1)\n",
    "y4 = fourth_model['price_log']"
   ]
  },
  {
   "cell_type": "code",
   "execution_count": 90,
   "metadata": {
    "ExecuteTime": {
     "end_time": "2022-02-25T15:20:38.682789Z",
     "start_time": "2022-02-25T15:20:38.668766Z"
    }
   },
   "outputs": [
    {
     "name": "stdout",
     "output_type": "stream",
     "text": [
      "12958 8639 12958 8639\n"
     ]
    }
   ],
   "source": [
    "# Split the data into training and test sets. Use the default split size\n",
    "\n",
    "X_train, X_test, y_train, y_test = train_test_split(X4,y4, test_size=.4)\n",
    "\n",
    "# A brief preview of tts\n",
    "print(len(X_train), len(X_test), len(y_train), len(y_test))"
   ]
  },
  {
   "cell_type": "code",
   "execution_count": 91,
   "metadata": {
    "ExecuteTime": {
     "end_time": "2022-02-25T15:20:39.258555Z",
     "start_time": "2022-02-25T15:20:39.231631Z"
    }
   },
   "outputs": [
    {
     "data": {
      "text/plain": [
       "LinearRegression()"
      ]
     },
     "execution_count": 91,
     "metadata": {},
     "output_type": "execute_result"
    }
   ],
   "source": [
    "linreg = LinearRegression()\n",
    "\n",
    "# Fit the model to train data\n",
    "linreg.fit(X_train, y_train)\n",
    "\n",
    "LinearRegression(copy_X=True, fit_intercept=True, n_jobs=None, normalize=False)"
   ]
  },
  {
   "cell_type": "code",
   "execution_count": 92,
   "metadata": {
    "ExecuteTime": {
     "end_time": "2022-02-25T15:20:39.827595Z",
     "start_time": "2022-02-25T15:20:39.811463Z"
    }
   },
   "outputs": [],
   "source": [
    "# Calculate predictions on training and test sets\n",
    "y_hat_train = linreg.predict(X_train)\n",
    "y_hat_test = linreg.predict(X_test)"
   ]
  },
  {
   "cell_type": "code",
   "execution_count": 93,
   "metadata": {
    "ExecuteTime": {
     "end_time": "2022-02-25T15:20:40.340074Z",
     "start_time": "2022-02-25T15:20:40.332198Z"
    }
   },
   "outputs": [],
   "source": [
    "# Calculate residuals\n",
    "train_residuals = y_hat_train - y_train\n",
    "test_residuals = y_hat_test - y_test"
   ]
  },
  {
   "cell_type": "code",
   "execution_count": 94,
   "metadata": {
    "ExecuteTime": {
     "end_time": "2022-02-25T15:20:40.879442Z",
     "start_time": "2022-02-25T15:20:40.869864Z"
    },
    "scrolled": true
   },
   "outputs": [
    {
     "name": "stdout",
     "output_type": "stream",
     "text": [
      "Train Mean Squared Error: 0.4077139598917483\n",
      "Test Mean Squared Error: 0.4088976879395746\n"
     ]
    }
   ],
   "source": [
    "# Calculate training and test MSE\n",
    "train_mse = mean_squared_error(y_train, y_hat_train)\n",
    "test_mse = mean_squared_error(y_test, y_hat_test)\n",
    "print('Train Mean Squared Error:', train_mse)\n",
    "print('Test Mean Squared Error:', test_mse)"
   ]
  },
  {
   "cell_type": "markdown",
   "metadata": {},
   "source": [
    "### Instantiate a Linear Regression model called final_model, then fit it to training data and score it on test data."
   ]
  },
  {
   "cell_type": "code",
   "execution_count": 95,
   "metadata": {
    "ExecuteTime": {
     "end_time": "2022-02-25T15:20:42.185844Z",
     "start_time": "2022-02-25T15:20:42.150089Z"
    }
   },
   "outputs": [
    {
     "data": {
      "text/plain": [
       "0.5882866760560118"
      ]
     },
     "execution_count": 95,
     "metadata": {},
     "output_type": "execute_result"
    }
   ],
   "source": [
    "final_model = LinearRegression()\n",
    "\n",
    "# Fit the model on X_train_final and y_train\n",
    "final_model.fit(X_train, y_train)\n",
    "\n",
    "# Score the model on X_test_final and y_test\n",
    "# (use the built-in .score method)\n",
    "final_model.score(X_test, y_test)"
   ]
  },
  {
   "cell_type": "markdown",
   "metadata": {},
   "source": [
    "### Fourth Model reduces fit and increases RMSE.\n",
    "* The fourth model is not as accurate of a predictor as it decreased the R-squared value and increased the RMSE, or total error, but it reduces multicollinearity and therefore produces  predictions that fit the assumptions of linearity."
   ]
  },
  {
   "cell_type": "markdown",
   "metadata": {},
   "source": [
    "# Fifth Model\n",
    "* Purpose: to provide accurate rather than inferential price change values for predictors.\n",
    "* Use original numericals with one hot encoded predictors that fit assumptions of linearity.\n",
    "* Test whether this model fits the assumptions of linearity."
   ]
  },
  {
   "cell_type": "code",
   "execution_count": 96,
   "metadata": {
    "ExecuteTime": {
     "end_time": "2022-02-25T15:20:43.960089Z",
     "start_time": "2022-02-25T15:20:43.929039Z"
    },
    "scrolled": true
   },
   "outputs": [
    {
     "name": "stdout",
     "output_type": "stream",
     "text": [
      "<class 'pandas.core.frame.DataFrame'>\n",
      "RangeIndex: 21597 entries, 0 to 21596\n",
      "Data columns (total 21 columns):\n",
      " #   Column               Non-Null Count  Dtype  \n",
      "---  ------               --------------  -----  \n",
      " 0   price                21597 non-null  float64\n",
      " 1   sqft_living          21597 non-null  int64  \n",
      " 2   bathrooms            21597 non-null  float64\n",
      " 3   bedrooms             21597 non-null  int64  \n",
      " 4   yr_built             21597 non-null  int64  \n",
      " 5   floors               21597 non-null  float64\n",
      " 6   water_1.0            21597 non-null  uint8  \n",
      " 7   view_EXCELLENT       21597 non-null  uint8  \n",
      " 8   view_FAIR            21597 non-null  uint8  \n",
      " 9   view_GOOD            21597 non-null  uint8  \n",
      " 10  condition_Fair       21597 non-null  uint8  \n",
      " 11  condition_Good       21597 non-null  uint8  \n",
      " 12  condition_Very Good  21597 non-null  uint8  \n",
      " 13  grade_11 Excellent   21597 non-null  uint8  \n",
      " 14  grade_12 Luxury      21597 non-null  uint8  \n",
      " 15  grade_13 Mansion     21597 non-null  uint8  \n",
      " 16  grade_4 Low          21597 non-null  uint8  \n",
      " 17  grade_5 Fair         21597 non-null  uint8  \n",
      " 18  grade_6 Low Average  21597 non-null  uint8  \n",
      " 19  grade_8 Good         21597 non-null  uint8  \n",
      " 20  grade_9 Better       21597 non-null  uint8  \n",
      "dtypes: float64(3), int64(3), uint8(15)\n",
      "memory usage: 1.3 MB\n"
     ]
    }
   ],
   "source": [
    "interpret_1 = house_df[['price', \n",
    "                     'sqft_living', \n",
    "                     'bathrooms',\n",
    "                     'bedrooms',\n",
    "                     'yr_built',\n",
    "                     'floors']]\n",
    "\n",
    "interpret_2 = pd.concat([interpret_1, \n",
    "                         water_dummies, \n",
    "                         view_dummies, \n",
    "                         condition_dummies,\n",
    "                         grade_dummies], axis=1)\n",
    "\n",
    "fifth_model = interpret_2.drop(['view_NONE',\n",
    "                                'grade_3 Poor',\n",
    "                                'grade_7 Average',\n",
    "                                'condition_Poor'], axis=1)\n",
    "\n",
    "fifth_model.info()"
   ]
  },
  {
   "cell_type": "markdown",
   "metadata": {},
   "source": [
    "## Model Summary"
   ]
  },
  {
   "cell_type": "code",
   "execution_count": 97,
   "metadata": {
    "ExecuteTime": {
     "end_time": "2022-02-25T15:20:44.810114Z",
     "start_time": "2022-02-25T15:20:44.684344Z"
    }
   },
   "outputs": [
    {
     "data": {
      "text/html": [
       "<table class=\"simpletable\">\n",
       "<caption>OLS Regression Results</caption>\n",
       "<tr>\n",
       "  <th>Dep. Variable:</th>          <td>price</td>      <th>  R-squared:         </th>  <td>   0.642</td>  \n",
       "</tr>\n",
       "<tr>\n",
       "  <th>Model:</th>                   <td>OLS</td>       <th>  Adj. R-squared:    </th>  <td>   0.642</td>  \n",
       "</tr>\n",
       "<tr>\n",
       "  <th>Method:</th>             <td>Least Squares</td>  <th>  F-statistic:       </th>  <td>   1935.</td>  \n",
       "</tr>\n",
       "<tr>\n",
       "  <th>Date:</th>             <td>Fri, 25 Feb 2022</td> <th>  Prob (F-statistic):</th>   <td>  0.00</td>   \n",
       "</tr>\n",
       "<tr>\n",
       "  <th>Time:</th>                 <td>08:20:44</td>     <th>  Log-Likelihood:    </th> <td>-2.9630e+05</td>\n",
       "</tr>\n",
       "<tr>\n",
       "  <th>No. Observations:</th>      <td> 21597</td>      <th>  AIC:               </th>  <td>5.926e+05</td> \n",
       "</tr>\n",
       "<tr>\n",
       "  <th>Df Residuals:</th>          <td> 21576</td>      <th>  BIC:               </th>  <td>5.928e+05</td> \n",
       "</tr>\n",
       "<tr>\n",
       "  <th>Df Model:</th>              <td>    20</td>      <th>                     </th>      <td> </td>     \n",
       "</tr>\n",
       "<tr>\n",
       "  <th>Covariance Type:</th>      <td>nonrobust</td>    <th>                     </th>      <td> </td>     \n",
       "</tr>\n",
       "</table>\n",
       "<table class=\"simpletable\">\n",
       "<tr>\n",
       "           <td></td>              <th>coef</th>     <th>std err</th>      <th>t</th>      <th>P>|t|</th>  <th>[0.025</th>    <th>0.975]</th>  \n",
       "</tr>\n",
       "<tr>\n",
       "  <th>const</th>               <td>  6.09e+06</td> <td> 1.33e+05</td> <td>   45.817</td> <td> 0.000</td> <td> 5.83e+06</td> <td> 6.35e+06</td>\n",
       "</tr>\n",
       "<tr>\n",
       "  <th>sqft_living</th>         <td>  211.4594</td> <td>    3.018</td> <td>   70.066</td> <td> 0.000</td> <td>  205.544</td> <td>  217.375</td>\n",
       "</tr>\n",
       "<tr>\n",
       "  <th>bathrooms</th>           <td> 5.557e+04</td> <td> 3512.546</td> <td>   15.821</td> <td> 0.000</td> <td> 4.87e+04</td> <td> 6.25e+04</td>\n",
       "</tr>\n",
       "<tr>\n",
       "  <th>bedrooms</th>            <td> -4.22e+04</td> <td> 2071.209</td> <td>  -20.374</td> <td> 0.000</td> <td>-4.63e+04</td> <td>-3.81e+04</td>\n",
       "</tr>\n",
       "<tr>\n",
       "  <th>yr_built</th>            <td>-3088.8167</td> <td>   68.299</td> <td>  -45.225</td> <td> 0.000</td> <td>-3222.687</td> <td>-2954.946</td>\n",
       "</tr>\n",
       "<tr>\n",
       "  <th>floors</th>              <td> 5.644e+04</td> <td> 3495.164</td> <td>   16.148</td> <td> 0.000</td> <td> 4.96e+04</td> <td> 6.33e+04</td>\n",
       "</tr>\n",
       "<tr>\n",
       "  <th>water_1.0</th>           <td>  5.14e+05</td> <td> 2.23e+04</td> <td>   23.072</td> <td> 0.000</td> <td>  4.7e+05</td> <td> 5.58e+05</td>\n",
       "</tr>\n",
       "<tr>\n",
       "  <th>view_EXCELLENT</th>      <td> 2.892e+05</td> <td> 1.54e+04</td> <td>   18.801</td> <td> 0.000</td> <td> 2.59e+05</td> <td> 3.19e+05</td>\n",
       "</tr>\n",
       "<tr>\n",
       "  <th>view_FAIR</th>           <td> 1.261e+05</td> <td> 1.23e+04</td> <td>   10.265</td> <td> 0.000</td> <td> 1.02e+05</td> <td>  1.5e+05</td>\n",
       "</tr>\n",
       "<tr>\n",
       "  <th>view_GOOD</th>           <td> 1.308e+05</td> <td> 1.01e+04</td> <td>   12.947</td> <td> 0.000</td> <td> 1.11e+05</td> <td> 1.51e+05</td>\n",
       "</tr>\n",
       "<tr>\n",
       "  <th>condition_Fair</th>      <td>-3.817e+04</td> <td> 1.71e+04</td> <td>   -2.226</td> <td> 0.026</td> <td>-7.18e+04</td> <td>-4561.612</td>\n",
       "</tr>\n",
       "<tr>\n",
       "  <th>condition_Good</th>      <td> 1.042e+04</td> <td> 3714.662</td> <td>    2.804</td> <td> 0.005</td> <td> 3135.982</td> <td> 1.77e+04</td>\n",
       "</tr>\n",
       "<tr>\n",
       "  <th>condition_Very Good</th> <td> 4.836e+04</td> <td> 5991.101</td> <td>    8.073</td> <td> 0.000</td> <td> 3.66e+04</td> <td> 6.01e+04</td>\n",
       "</tr>\n",
       "<tr>\n",
       "  <th>grade_11 Excellent</th>  <td> 4.297e+05</td> <td> 1.26e+04</td> <td>   34.137</td> <td> 0.000</td> <td> 4.05e+05</td> <td> 4.54e+05</td>\n",
       "</tr>\n",
       "<tr>\n",
       "  <th>grade_12 Luxury</th>     <td> 8.079e+05</td> <td> 2.49e+04</td> <td>   32.485</td> <td> 0.000</td> <td> 7.59e+05</td> <td> 8.57e+05</td>\n",
       "</tr>\n",
       "<tr>\n",
       "  <th>grade_13 Mansion</th>    <td> 1.866e+06</td> <td> 6.24e+04</td> <td>   29.895</td> <td> 0.000</td> <td> 1.74e+06</td> <td> 1.99e+06</td>\n",
       "</tr>\n",
       "<tr>\n",
       "  <th>grade_4 Low</th>         <td>-9.048e+04</td> <td> 4.26e+04</td> <td>   -2.124</td> <td> 0.034</td> <td>-1.74e+05</td> <td>-6982.078</td>\n",
       "</tr>\n",
       "<tr>\n",
       "  <th>grade_5 Fair</th>        <td>-1.165e+05</td> <td> 1.46e+04</td> <td>   -7.992</td> <td> 0.000</td> <td>-1.45e+05</td> <td>-8.79e+04</td>\n",
       "</tr>\n",
       "<tr>\n",
       "  <th>grade_6 Low Average</th> <td>-7.276e+04</td> <td> 5728.203</td> <td>  -12.702</td> <td> 0.000</td> <td> -8.4e+04</td> <td>-6.15e+04</td>\n",
       "</tr>\n",
       "<tr>\n",
       "  <th>grade_8 Good</th>        <td> 1.326e+04</td> <td> 3765.672</td> <td>    3.521</td> <td> 0.000</td> <td> 5879.082</td> <td> 2.06e+04</td>\n",
       "</tr>\n",
       "<tr>\n",
       "  <th>grade_9 Better</th>      <td>     1e+05</td> <td> 5428.994</td> <td>   18.422</td> <td> 0.000</td> <td> 8.94e+04</td> <td> 1.11e+05</td>\n",
       "</tr>\n",
       "</table>\n",
       "<table class=\"simpletable\">\n",
       "<tr>\n",
       "  <th>Omnibus:</th>       <td>10877.567</td> <th>  Durbin-Watson:     </th>  <td>   1.976</td> \n",
       "</tr>\n",
       "<tr>\n",
       "  <th>Prob(Omnibus):</th>  <td> 0.000</td>   <th>  Jarque-Bera (JB):  </th> <td>254020.268</td>\n",
       "</tr>\n",
       "<tr>\n",
       "  <th>Skew:</th>           <td> 1.914</td>   <th>  Prob(JB):          </th>  <td>    0.00</td> \n",
       "</tr>\n",
       "<tr>\n",
       "  <th>Kurtosis:</th>       <td>19.359</td>   <th>  Cond. No.          </th>  <td>2.62e+05</td> \n",
       "</tr>\n",
       "</table><br/><br/>Notes:<br/>[1] Standard Errors assume that the covariance matrix of the errors is correctly specified.<br/>[2] The condition number is large, 2.62e+05. This might indicate that there are<br/>strong multicollinearity or other numerical problems."
      ],
      "text/plain": [
       "<class 'statsmodels.iolib.summary.Summary'>\n",
       "\"\"\"\n",
       "                            OLS Regression Results                            \n",
       "==============================================================================\n",
       "Dep. Variable:                  price   R-squared:                       0.642\n",
       "Model:                            OLS   Adj. R-squared:                  0.642\n",
       "Method:                 Least Squares   F-statistic:                     1935.\n",
       "Date:                Fri, 25 Feb 2022   Prob (F-statistic):               0.00\n",
       "Time:                        08:20:44   Log-Likelihood:            -2.9630e+05\n",
       "No. Observations:               21597   AIC:                         5.926e+05\n",
       "Df Residuals:                   21576   BIC:                         5.928e+05\n",
       "Df Model:                          20                                         \n",
       "Covariance Type:            nonrobust                                         \n",
       "=======================================================================================\n",
       "                          coef    std err          t      P>|t|      [0.025      0.975]\n",
       "---------------------------------------------------------------------------------------\n",
       "const                 6.09e+06   1.33e+05     45.817      0.000    5.83e+06    6.35e+06\n",
       "sqft_living           211.4594      3.018     70.066      0.000     205.544     217.375\n",
       "bathrooms            5.557e+04   3512.546     15.821      0.000    4.87e+04    6.25e+04\n",
       "bedrooms             -4.22e+04   2071.209    -20.374      0.000   -4.63e+04   -3.81e+04\n",
       "yr_built            -3088.8167     68.299    -45.225      0.000   -3222.687   -2954.946\n",
       "floors               5.644e+04   3495.164     16.148      0.000    4.96e+04    6.33e+04\n",
       "water_1.0             5.14e+05   2.23e+04     23.072      0.000     4.7e+05    5.58e+05\n",
       "view_EXCELLENT       2.892e+05   1.54e+04     18.801      0.000    2.59e+05    3.19e+05\n",
       "view_FAIR            1.261e+05   1.23e+04     10.265      0.000    1.02e+05     1.5e+05\n",
       "view_GOOD            1.308e+05   1.01e+04     12.947      0.000    1.11e+05    1.51e+05\n",
       "condition_Fair      -3.817e+04   1.71e+04     -2.226      0.026   -7.18e+04   -4561.612\n",
       "condition_Good       1.042e+04   3714.662      2.804      0.005    3135.982    1.77e+04\n",
       "condition_Very Good  4.836e+04   5991.101      8.073      0.000    3.66e+04    6.01e+04\n",
       "grade_11 Excellent   4.297e+05   1.26e+04     34.137      0.000    4.05e+05    4.54e+05\n",
       "grade_12 Luxury      8.079e+05   2.49e+04     32.485      0.000    7.59e+05    8.57e+05\n",
       "grade_13 Mansion     1.866e+06   6.24e+04     29.895      0.000    1.74e+06    1.99e+06\n",
       "grade_4 Low         -9.048e+04   4.26e+04     -2.124      0.034   -1.74e+05   -6982.078\n",
       "grade_5 Fair        -1.165e+05   1.46e+04     -7.992      0.000   -1.45e+05   -8.79e+04\n",
       "grade_6 Low Average -7.276e+04   5728.203    -12.702      0.000    -8.4e+04   -6.15e+04\n",
       "grade_8 Good         1.326e+04   3765.672      3.521      0.000    5879.082    2.06e+04\n",
       "grade_9 Better           1e+05   5428.994     18.422      0.000    8.94e+04    1.11e+05\n",
       "==============================================================================\n",
       "Omnibus:                    10877.567   Durbin-Watson:                   1.976\n",
       "Prob(Omnibus):                  0.000   Jarque-Bera (JB):           254020.268\n",
       "Skew:                           1.914   Prob(JB):                         0.00\n",
       "Kurtosis:                      19.359   Cond. No.                     2.62e+05\n",
       "==============================================================================\n",
       "\n",
       "Notes:\n",
       "[1] Standard Errors assume that the covariance matrix of the errors is correctly specified.\n",
       "[2] The condition number is large, 2.62e+05. This might indicate that there are\n",
       "strong multicollinearity or other numerical problems.\n",
       "\"\"\""
      ]
     },
     "execution_count": 97,
     "metadata": {},
     "output_type": "execute_result"
    }
   ],
   "source": [
    "# Model without log or normalization\n",
    "X5 = fifth_model.drop(['price'], axis=1)\n",
    "y5 = fifth_model['price']\n",
    "\n",
    "X_int = sm.add_constant(X5)\n",
    "model = sm.OLS(y5,X_int).fit()\n",
    "model.summary()"
   ]
  },
  {
   "cell_type": "markdown",
   "metadata": {},
   "source": [
    "## Train, Test, Split 5th Model"
   ]
  },
  {
   "cell_type": "code",
   "execution_count": 98,
   "metadata": {
    "ExecuteTime": {
     "end_time": "2022-02-25T15:20:45.944255Z",
     "start_time": "2022-02-25T15:20:45.929379Z"
    }
   },
   "outputs": [
    {
     "name": "stdout",
     "output_type": "stream",
     "text": [
      "12958 8639 12958 8639\n"
     ]
    }
   ],
   "source": [
    "# Split the data into training and test sets. Use the default split size\n",
    "\n",
    "X_train, X_test, y_train, y_test = train_test_split(X5,y5, test_size=.4)\n",
    "\n",
    "# A brief preview of tts\n",
    "print(len(X_train), len(X_test), len(y_train), len(y_test))"
   ]
  },
  {
   "cell_type": "code",
   "execution_count": 99,
   "metadata": {
    "ExecuteTime": {
     "end_time": "2022-02-25T15:20:46.596440Z",
     "start_time": "2022-02-25T15:20:46.567236Z"
    }
   },
   "outputs": [
    {
     "data": {
      "text/plain": [
       "LinearRegression()"
      ]
     },
     "execution_count": 99,
     "metadata": {},
     "output_type": "execute_result"
    }
   ],
   "source": [
    "linreg = LinearRegression()\n",
    "\n",
    "# Fit the model to train data\n",
    "linreg.fit(X_train, y_train)\n",
    "\n",
    "LinearRegression(copy_X=True, fit_intercept=True, n_jobs=None, normalize=False)"
   ]
  },
  {
   "cell_type": "code",
   "execution_count": 100,
   "metadata": {
    "ExecuteTime": {
     "end_time": "2022-02-25T15:20:47.256306Z",
     "start_time": "2022-02-25T15:20:47.242563Z"
    }
   },
   "outputs": [],
   "source": [
    "# Calculate predictions on training and test sets\n",
    "y_hat_train = linreg.predict(X_train)\n",
    "y_hat_test = linreg.predict(X_test)"
   ]
  },
  {
   "cell_type": "code",
   "execution_count": 101,
   "metadata": {
    "ExecuteTime": {
     "end_time": "2022-02-25T15:20:47.905029Z",
     "start_time": "2022-02-25T15:20:47.898344Z"
    }
   },
   "outputs": [],
   "source": [
    "# Calculate residuals\n",
    "train_residuals = y_hat_train - y_train\n",
    "test_residuals = y_hat_test - y_test"
   ]
  },
  {
   "cell_type": "code",
   "execution_count": 102,
   "metadata": {
    "ExecuteTime": {
     "end_time": "2022-02-25T15:20:48.439428Z",
     "start_time": "2022-02-25T15:20:48.430370Z"
    },
    "scrolled": true
   },
   "outputs": [
    {
     "name": "stdout",
     "output_type": "stream",
     "text": [
      "Train Mean Squared Error: 47442955396.432434\n",
      "Test Mean Squared Error: 50119580781.62095\n"
     ]
    }
   ],
   "source": [
    "# Calculate training and test MSE\n",
    "train_mse = mean_squared_error(y_train, y_hat_train)\n",
    "test_mse = mean_squared_error(y_test, y_hat_test)\n",
    "print('Train Mean Squared Error:', train_mse)\n",
    "print('Test Mean Squared Error:', test_mse)"
   ]
  },
  {
   "cell_type": "markdown",
   "metadata": {},
   "source": [
    "### Instantiate a Linear Regression model called final_model, then fit it to training data and score it on test data."
   ]
  },
  {
   "cell_type": "code",
   "execution_count": 103,
   "metadata": {
    "ExecuteTime": {
     "end_time": "2022-02-25T15:20:49.601101Z",
     "start_time": "2022-02-25T15:20:49.526956Z"
    }
   },
   "outputs": [
    {
     "data": {
      "text/plain": [
       "0.6251350952596133"
      ]
     },
     "execution_count": 103,
     "metadata": {},
     "output_type": "execute_result"
    }
   ],
   "source": [
    "final_model = LinearRegression()\n",
    "\n",
    "# Fit the model on X_train_final and y_train\n",
    "final_model.fit(X_train, y_train)\n",
    "\n",
    "# Score the model on X_test_final and y_test\n",
    "# (use the built-in .score method)\n",
    "final_model.score(X_test, y_test)"
   ]
  },
  {
   "cell_type": "markdown",
   "metadata": {},
   "source": [
    "### Fifth Model ...\n",
    "* When continued below "
   ]
  },
  {
   "cell_type": "markdown",
   "metadata": {},
   "source": [
    "## Investigating Normality"
   ]
  },
  {
   "cell_type": "code",
   "execution_count": 104,
   "metadata": {
    "ExecuteTime": {
     "end_time": "2022-02-25T15:20:52.018291Z",
     "start_time": "2022-02-25T15:20:51.777969Z"
    },
    "scrolled": true
   },
   "outputs": [
    {
     "data": {
      "image/png": "[encoded data removed]",
      "text/plain": [
       "<Figure size 432x288 with 1 Axes>"
      ]
     },
     "metadata": {
      "needs_background": "light"
     },
     "output_type": "display_data"
    }
   ],
   "source": [
    "import scipy.stats as stats\n",
    "\n",
    "preds = final_model.predict(X_test)\n",
    "\n",
    "residuals = (y_test - preds)\n",
    "sm.graphics.qqplot(residuals, dist=stats.norm, line='45', fit=True);"
   ]
  },
  {
   "cell_type": "markdown",
   "metadata": {},
   "source": [
    "### Normality Assumption Met\n",
    "* Removing the outlier values did not improve the predictive capacity of this model."
   ]
  },
  {
   "cell_type": "markdown",
   "metadata": {},
   "source": [
    "## Investigating Multicollinearity (independence assumption)"
   ]
  },
  {
   "cell_type": "code",
   "execution_count": 105,
   "metadata": {
    "ExecuteTime": {
     "end_time": "2022-02-25T15:20:54.016897Z",
     "start_time": "2022-02-25T15:20:53.418626Z"
    },
    "scrolled": true
   },
   "outputs": [
    {
     "data": {
      "text/plain": [
       "sqft_living            20.821862\n",
       "bathrooms              25.516465\n",
       "bedrooms               21.948782\n",
       "yr_built               26.616166\n",
       "floors                 13.392691\n",
       "water_1.0               1.499212\n",
       "view_EXCELLENT          1.547578\n",
       "view_FAIR               1.025305\n",
       "view_GOOD               1.065451\n",
       "condition_Fair          1.033616\n",
       "condition_Good          1.553291\n",
       "condition_Very Good     1.164685\n",
       "grade_11 Excellent      1.311853\n",
       "grade_12 Luxury         1.157068\n",
       "grade_13 Mansion        1.047497\n",
       "grade_4 Low             1.013182\n",
       "grade_5 Fair            1.055636\n",
       "grade_6 Low Average     1.339740\n",
       "grade_8 Good            1.758108\n",
       "grade_9 Better          1.580097\n",
       "Name: Variance Inflation Factor, dtype: float64"
      ]
     },
     "execution_count": 105,
     "metadata": {},
     "output_type": "execute_result"
    }
   ],
   "source": [
    "# estimate multicollinarity with Variance Inflation Factor (VIF)\n",
    "vif = [variance_inflation_factor(X_train.values, i) for i in range(X_train.shape[1])]\n",
    "pd.Series(vif, index=X_train.columns, name=\"Variance Inflation Factor\")"
   ]
  },
  {
   "cell_type": "markdown",
   "metadata": {},
   "source": [
    "### Assumption for Multicollinearity NOT met\n",
    "* Many values over 5\n",
    "    * sqft_living, bathrooms, bedrooms, yr_built, floors"
   ]
  },
  {
   "cell_type": "markdown",
   "metadata": {},
   "source": [
    "## Investigating Homoscedasticity"
   ]
  },
  {
   "cell_type": "code",
   "execution_count": 106,
   "metadata": {
    "ExecuteTime": {
     "end_time": "2022-02-25T15:22:10.595643Z",
     "start_time": "2022-02-25T15:22:10.316305Z"
    },
    "scrolled": true
   },
   "outputs": [
    {
     "data": {
      "image/png": "[encoded data removed]",
      "text/plain": [
       "<Figure size 432x288 with 1 Axes>"
      ]
     },
     "metadata": {
      "needs_background": "light"
     },
     "output_type": "display_data"
    }
   ],
   "source": [
    "fig, ax = plt.subplots()\n",
    "\n",
    "ax.scatter(preds, residuals, alpha=0.5)\n",
    "ax.plot(preds, [0 for i in range(len(X_test))])\n",
    "ax.set_xlabel(\"Predicted Value\")\n",
    "ax.set_ylabel(\"Actual - Predicted Value\");"
   ]
  },
  {
   "cell_type": "markdown",
   "metadata": {},
   "source": [
    "### Homoscedasticity assumption is NOT met\n",
    "* This is a funnel shape and classic definition of poorly distributed data."
   ]
  },
  {
   "cell_type": "markdown",
   "metadata": {},
   "source": [
    "## Linear Regression Assumptions Fifth Model\n",
    "* Linear Regression Assumptions not met on any category"
   ]
  },
  {
   "cell_type": "markdown",
   "metadata": {},
   "source": [
    "# Feature Engineering \n",
    "* Improve predictive capacity of the model by removing outliers from numerical data.\n",
    "* Test correlation of Products of Features"
   ]
  },
  {
   "cell_type": "markdown",
   "metadata": {},
   "source": [
    "## Remove Outliers"
   ]
  },
  {
   "cell_type": "code",
   "execution_count": 107,
   "metadata": {
    "ExecuteTime": {
     "end_time": "2022-02-25T15:23:03.187906Z",
     "start_time": "2022-02-25T15:23:03.027451Z"
    }
   },
   "outputs": [
    {
     "data": {
      "text/html": [
       "<div>\n",
       "<style scoped>\n",
       "    .dataframe tbody tr th:only-of-type {\n",
       "        vertical-align: middle;\n",
       "    }\n",
       "\n",
       "    .dataframe tbody tr th {\n",
       "        vertical-align: top;\n",
       "    }\n",
       "\n",
       "    .dataframe thead th {\n",
       "        text-align: right;\n",
       "    }\n",
       "</style>\n",
       "<table border=\"1\" class=\"dataframe\">\n",
       "  <thead>\n",
       "    <tr style=\"text-align: right;\">\n",
       "      <th></th>\n",
       "      <th>sqft_living_log</th>\n",
       "      <th>bathrooms_log</th>\n",
       "      <th>bedrooms_log</th>\n",
       "      <th>price_log</th>\n",
       "      <th>water_1.0</th>\n",
       "      <th>view_EXCELLENT</th>\n",
       "      <th>view_FAIR</th>\n",
       "      <th>view_GOOD</th>\n",
       "      <th>condition_Fair</th>\n",
       "      <th>condition_Good</th>\n",
       "      <th>...</th>\n",
       "      <th>grade_11 Excellent</th>\n",
       "      <th>grade_12 Luxury</th>\n",
       "      <th>grade_13 Mansion</th>\n",
       "      <th>grade_4 Low</th>\n",
       "      <th>grade_5 Fair</th>\n",
       "      <th>grade_6 Low Average</th>\n",
       "      <th>grade_8 Good</th>\n",
       "      <th>grade_9 Better</th>\n",
       "      <th>yr_built_log</th>\n",
       "      <th>floors_log</th>\n",
       "    </tr>\n",
       "  </thead>\n",
       "  <tbody>\n",
       "    <tr>\n",
       "      <th>count</th>\n",
       "      <td>2.159700e+04</td>\n",
       "      <td>2.159700e+04</td>\n",
       "      <td>2.159700e+04</td>\n",
       "      <td>2.159700e+04</td>\n",
       "      <td>21597.000000</td>\n",
       "      <td>21597.000000</td>\n",
       "      <td>21597.000000</td>\n",
       "      <td>21597.000000</td>\n",
       "      <td>21597.000000</td>\n",
       "      <td>21597.000000</td>\n",
       "      <td>...</td>\n",
       "      <td>21597.000000</td>\n",
       "      <td>21597.000000</td>\n",
       "      <td>21597.000000</td>\n",
       "      <td>21597.000000</td>\n",
       "      <td>21597.000000</td>\n",
       "      <td>21597.000000</td>\n",
       "      <td>21597.000000</td>\n",
       "      <td>21597.000000</td>\n",
       "      <td>2.159700e+04</td>\n",
       "      <td>2.159700e+04</td>\n",
       "    </tr>\n",
       "    <tr>\n",
       "      <th>mean</th>\n",
       "      <td>-1.518667e-15</td>\n",
       "      <td>-9.475219e-17</td>\n",
       "      <td>-1.026482e-16</td>\n",
       "      <td>1.342323e-15</td>\n",
       "      <td>0.006760</td>\n",
       "      <td>0.014678</td>\n",
       "      <td>0.015280</td>\n",
       "      <td>0.023522</td>\n",
       "      <td>0.007871</td>\n",
       "      <td>0.262861</td>\n",
       "      <td>...</td>\n",
       "      <td>0.018475</td>\n",
       "      <td>0.004121</td>\n",
       "      <td>0.000602</td>\n",
       "      <td>0.001250</td>\n",
       "      <td>0.011205</td>\n",
       "      <td>0.094365</td>\n",
       "      <td>0.280826</td>\n",
       "      <td>0.121082</td>\n",
       "      <td>-2.568837e-15</td>\n",
       "      <td>2.105604e-17</td>\n",
       "    </tr>\n",
       "    <tr>\n",
       "      <th>std</th>\n",
       "      <td>1.000000e+00</td>\n",
       "      <td>1.000000e+00</td>\n",
       "      <td>1.000000e+00</td>\n",
       "      <td>1.000000e+00</td>\n",
       "      <td>0.081944</td>\n",
       "      <td>0.120263</td>\n",
       "      <td>0.122667</td>\n",
       "      <td>0.151557</td>\n",
       "      <td>0.088373</td>\n",
       "      <td>0.440198</td>\n",
       "      <td>...</td>\n",
       "      <td>0.134664</td>\n",
       "      <td>0.064064</td>\n",
       "      <td>0.024528</td>\n",
       "      <td>0.035337</td>\n",
       "      <td>0.105263</td>\n",
       "      <td>0.292343</td>\n",
       "      <td>0.449413</td>\n",
       "      <td>0.326230</td>\n",
       "      <td>1.000000e+00</td>\n",
       "      <td>1.000000e+00</td>\n",
       "    </tr>\n",
       "    <tr>\n",
       "      <th>min</th>\n",
       "      <td>-3.859623e+00</td>\n",
       "      <td>-3.492572e+00</td>\n",
       "      <td>-4.159448e+00</td>\n",
       "      <td>-3.387580e+00</td>\n",
       "      <td>0.000000</td>\n",
       "      <td>0.000000</td>\n",
       "      <td>0.000000</td>\n",
       "      <td>0.000000</td>\n",
       "      <td>0.000000</td>\n",
       "      <td>0.000000</td>\n",
       "      <td>...</td>\n",
       "      <td>0.000000</td>\n",
       "      <td>0.000000</td>\n",
       "      <td>0.000000</td>\n",
       "      <td>0.000000</td>\n",
       "      <td>0.000000</td>\n",
       "      <td>0.000000</td>\n",
       "      <td>0.000000</td>\n",
       "      <td>0.000000</td>\n",
       "      <td>-2.445050e+00</td>\n",
       "      <td>-9.608519e-01</td>\n",
       "    </tr>\n",
       "    <tr>\n",
       "      <th>25%</th>\n",
       "      <td>-6.725525e-01</td>\n",
       "      <td>-3.006689e-01</td>\n",
       "      <td>-2.797180e-01</td>\n",
       "      <td>-6.949022e-01</td>\n",
       "      <td>0.000000</td>\n",
       "      <td>0.000000</td>\n",
       "      <td>0.000000</td>\n",
       "      <td>0.000000</td>\n",
       "      <td>0.000000</td>\n",
       "      <td>0.000000</td>\n",
       "      <td>...</td>\n",
       "      <td>0.000000</td>\n",
       "      <td>0.000000</td>\n",
       "      <td>0.000000</td>\n",
       "      <td>0.000000</td>\n",
       "      <td>0.000000</td>\n",
       "      <td>0.000000</td>\n",
       "      <td>0.000000</td>\n",
       "      <td>0.000000</td>\n",
       "      <td>-6.743255e-01</td>\n",
       "      <td>-9.608519e-01</td>\n",
       "    </tr>\n",
       "    <tr>\n",
       "      <th>50%</th>\n",
       "      <td>9.755245e-03</td>\n",
       "      <td>3.396529e-01</td>\n",
       "      <td>-2.797180e-01</td>\n",
       "      <td>-5.926843e-02</td>\n",
       "      <td>0.000000</td>\n",
       "      <td>0.000000</td>\n",
       "      <td>0.000000</td>\n",
       "      <td>0.000000</td>\n",
       "      <td>0.000000</td>\n",
       "      <td>0.000000</td>\n",
       "      <td>...</td>\n",
       "      <td>0.000000</td>\n",
       "      <td>0.000000</td>\n",
       "      <td>0.000000</td>\n",
       "      <td>0.000000</td>\n",
       "      <td>0.000000</td>\n",
       "      <td>0.000000</td>\n",
       "      <td>0.000000</td>\n",
       "      <td>0.000000</td>\n",
       "      <td>1.430005e-01</td>\n",
       "      <td>1.901686e-01</td>\n",
       "    </tr>\n",
       "    <tr>\n",
       "      <th>75%</th>\n",
       "      <td>6.910288e-01</td>\n",
       "      <td>6.081000e-01</td>\n",
       "      <td>7.362261e-01</td>\n",
       "      <td>6.244262e-01</td>\n",
       "      <td>0.000000</td>\n",
       "      <td>0.000000</td>\n",
       "      <td>0.000000</td>\n",
       "      <td>0.000000</td>\n",
       "      <td>0.000000</td>\n",
       "      <td>1.000000</td>\n",
       "      <td>...</td>\n",
       "      <td>0.000000</td>\n",
       "      <td>0.000000</td>\n",
       "      <td>0.000000</td>\n",
       "      <td>0.000000</td>\n",
       "      <td>0.000000</td>\n",
       "      <td>0.000000</td>\n",
       "      <td>1.000000</td>\n",
       "      <td>0.000000</td>\n",
       "      <td>8.835377e-01</td>\n",
       "      <td>1.006831e+00</td>\n",
       "    </tr>\n",
       "    <tr>\n",
       "      <th>max</th>\n",
       "      <td>4.626885e+00</td>\n",
       "      <td>3.571681e+00</td>\n",
       "      <td>8.188407e+00</td>\n",
       "      <td>5.333765e+00</td>\n",
       "      <td>1.000000</td>\n",
       "      <td>1.000000</td>\n",
       "      <td>1.000000</td>\n",
       "      <td>1.000000</td>\n",
       "      <td>1.000000</td>\n",
       "      <td>1.000000</td>\n",
       "      <td>...</td>\n",
       "      <td>1.000000</td>\n",
       "      <td>1.000000</td>\n",
       "      <td>1.000000</td>\n",
       "      <td>1.000000</td>\n",
       "      <td>1.000000</td>\n",
       "      <td>1.000000</td>\n",
       "      <td>1.000000</td>\n",
       "      <td>1.000000</td>\n",
       "      <td>1.483389e+00</td>\n",
       "      <td>2.595449e+00</td>\n",
       "    </tr>\n",
       "  </tbody>\n",
       "</table>\n",
       "<p>8 rows × 21 columns</p>\n",
       "</div>"
      ],
      "text/plain": [
       "       sqft_living_log  bathrooms_log  bedrooms_log     price_log  \\\n",
       "count     2.159700e+04   2.159700e+04  2.159700e+04  2.159700e+04   \n",
       "mean     -1.518667e-15  -9.475219e-17 -1.026482e-16  1.342323e-15   \n",
       "std       1.000000e+00   1.000000e+00  1.000000e+00  1.000000e+00   \n",
       "min      -3.859623e+00  -3.492572e+00 -4.159448e+00 -3.387580e+00   \n",
       "25%      -6.725525e-01  -3.006689e-01 -2.797180e-01 -6.949022e-01   \n",
       "50%       9.755245e-03   3.396529e-01 -2.797180e-01 -5.926843e-02   \n",
       "75%       6.910288e-01   6.081000e-01  7.362261e-01  6.244262e-01   \n",
       "max       4.626885e+00   3.571681e+00  8.188407e+00  5.333765e+00   \n",
       "\n",
       "          water_1.0  view_EXCELLENT     view_FAIR     view_GOOD  \\\n",
       "count  21597.000000    21597.000000  21597.000000  21597.000000   \n",
       "mean       0.006760        0.014678      0.015280      0.023522   \n",
       "std        0.081944        0.120263      0.122667      0.151557   \n",
       "min        0.000000        0.000000      0.000000      0.000000   \n",
       "25%        0.000000        0.000000      0.000000      0.000000   \n",
       "50%        0.000000        0.000000      0.000000      0.000000   \n",
       "75%        0.000000        0.000000      0.000000      0.000000   \n",
       "max        1.000000        1.000000      1.000000      1.000000   \n",
       "\n",
       "       condition_Fair  condition_Good  ...  grade_11 Excellent  \\\n",
       "count    21597.000000    21597.000000  ...        21597.000000   \n",
       "mean         0.007871        0.262861  ...            0.018475   \n",
       "std          0.088373        0.440198  ...            0.134664   \n",
       "min          0.000000        0.000000  ...            0.000000   \n",
       "25%          0.000000        0.000000  ...            0.000000   \n",
       "50%          0.000000        0.000000  ...            0.000000   \n",
       "75%          0.000000        1.000000  ...            0.000000   \n",
       "max          1.000000        1.000000  ...            1.000000   \n",
       "\n",
       "       grade_12 Luxury  grade_13 Mansion   grade_4 Low  grade_5 Fair  \\\n",
       "count     21597.000000      21597.000000  21597.000000  21597.000000   \n",
       "mean          0.004121          0.000602      0.001250      0.011205   \n",
       "std           0.064064          0.024528      0.035337      0.105263   \n",
       "min           0.000000          0.000000      0.000000      0.000000   \n",
       "25%           0.000000          0.000000      0.000000      0.000000   \n",
       "50%           0.000000          0.000000      0.000000      0.000000   \n",
       "75%           0.000000          0.000000      0.000000      0.000000   \n",
       "max           1.000000          1.000000      1.000000      1.000000   \n",
       "\n",
       "       grade_6 Low Average  grade_8 Good  grade_9 Better  yr_built_log  \\\n",
       "count         21597.000000  21597.000000    21597.000000  2.159700e+04   \n",
       "mean              0.094365      0.280826        0.121082 -2.568837e-15   \n",
       "std               0.292343      0.449413        0.326230  1.000000e+00   \n",
       "min               0.000000      0.000000        0.000000 -2.445050e+00   \n",
       "25%               0.000000      0.000000        0.000000 -6.743255e-01   \n",
       "50%               0.000000      0.000000        0.000000  1.430005e-01   \n",
       "75%               0.000000      1.000000        0.000000  8.835377e-01   \n",
       "max               1.000000      1.000000        1.000000  1.483389e+00   \n",
       "\n",
       "         floors_log  \n",
       "count  2.159700e+04  \n",
       "mean   2.105604e-17  \n",
       "std    1.000000e+00  \n",
       "min   -9.608519e-01  \n",
       "25%   -9.608519e-01  \n",
       "50%    1.901686e-01  \n",
       "75%    1.006831e+00  \n",
       "max    2.595449e+00  \n",
       "\n",
       "[8 rows x 21 columns]"
      ]
     },
     "execution_count": 107,
     "metadata": {},
     "output_type": "execute_result"
    }
   ],
   "source": [
    "remove_outliers = fourth_model\n",
    "\n",
    "remove_outliers.describe()"
   ]
  },
  {
   "cell_type": "code",
   "execution_count": 108,
   "metadata": {
    "ExecuteTime": {
     "end_time": "2022-02-25T15:23:04.625908Z",
     "start_time": "2022-02-25T15:23:04.605840Z"
    },
    "scrolled": true
   },
   "outputs": [
    {
     "name": "stdout",
     "output_type": "stream",
     "text": [
      "<class 'pandas.core.frame.DataFrame'>\n",
      "RangeIndex: 21597 entries, 0 to 21596\n",
      "Data columns (total 21 columns):\n",
      " #   Column               Non-Null Count  Dtype  \n",
      "---  ------               --------------  -----  \n",
      " 0   sqft_living_log      21597 non-null  float64\n",
      " 1   bathrooms_log        21597 non-null  float64\n",
      " 2   bedrooms_log         21597 non-null  float64\n",
      " 3   price_log            21597 non-null  float64\n",
      " 4   water_1.0            21597 non-null  uint8  \n",
      " 5   view_EXCELLENT       21597 non-null  uint8  \n",
      " 6   view_FAIR            21597 non-null  uint8  \n",
      " 7   view_GOOD            21597 non-null  uint8  \n",
      " 8   condition_Fair       21597 non-null  uint8  \n",
      " 9   condition_Good       21597 non-null  uint8  \n",
      " 10  condition_Very Good  21597 non-null  uint8  \n",
      " 11  grade_11 Excellent   21597 non-null  uint8  \n",
      " 12  grade_12 Luxury      21597 non-null  uint8  \n",
      " 13  grade_13 Mansion     21597 non-null  uint8  \n",
      " 14  grade_4 Low          21597 non-null  uint8  \n",
      " 15  grade_5 Fair         21597 non-null  uint8  \n",
      " 16  grade_6 Low Average  21597 non-null  uint8  \n",
      " 17  grade_8 Good         21597 non-null  uint8  \n",
      " 18  grade_9 Better       21597 non-null  uint8  \n",
      " 19  yr_built_log         21597 non-null  float64\n",
      " 20  floors_log           21597 non-null  float64\n",
      "dtypes: float64(6), uint8(15)\n",
      "memory usage: 1.3 MB\n"
     ]
    }
   ],
   "source": [
    "remove_outliers.info()"
   ]
  },
  {
   "cell_type": "code",
   "execution_count": 109,
   "metadata": {
    "ExecuteTime": {
     "end_time": "2022-02-25T15:23:05.946654Z",
     "start_time": "2022-02-25T15:23:05.631175Z"
    },
    "scrolled": true
   },
   "outputs": [
    {
     "data": {
      "text/plain": [
       "<AxesSubplot:>"
      ]
     },
     "execution_count": 109,
     "metadata": {},
     "output_type": "execute_result"
    },
    {
     "data": {
      "image/png": "[encoded data removed]",
      "text/plain": [
       "<Figure size 432x288 with 1 Axes>"
      ]
     },
     "metadata": {
      "needs_background": "light"
     },
     "output_type": "display_data"
    }
   ],
   "source": [
    "remove_outliers['sqft_living_log'].hist(bins=25)"
   ]
  },
  {
   "cell_type": "code",
   "execution_count": 110,
   "metadata": {
    "ExecuteTime": {
     "end_time": "2022-02-25T15:23:06.256189Z",
     "start_time": "2022-02-25T15:23:06.237975Z"
    },
    "scrolled": true
   },
   "outputs": [
    {
     "data": {
      "text/plain": [
       "sqft_living_log        3.025420\n",
       "bathrooms_log          2.498475\n",
       "bedrooms_log           2.712499\n",
       "price_log              3.666191\n",
       "water_1.0              1.000000\n",
       "view_EXCELLENT         1.000000\n",
       "view_FAIR              1.000000\n",
       "view_GOOD              1.000000\n",
       "condition_Fair         1.000000\n",
       "condition_Good         1.000000\n",
       "condition_Very Good    1.000000\n",
       "grade_11 Excellent     1.000000\n",
       "grade_12 Luxury        1.000000\n",
       "grade_13 Mansion       0.000000\n",
       "grade_4 Low            0.000000\n",
       "grade_5 Fair           1.000000\n",
       "grade_6 Low Average    1.000000\n",
       "grade_8 Good           1.000000\n",
       "grade_9 Better         1.000000\n",
       "yr_built_log           1.483389\n",
       "floors_log             2.157851\n",
       "Name: 0.9985, dtype: float64"
      ]
     },
     "execution_count": 110,
     "metadata": {},
     "output_type": "execute_result"
    }
   ],
   "source": [
    "# find cut-off for data outside 3 standard deviations (99.7% of data)\n",
    "remove_outliers.quantile(q=.9985)"
   ]
  },
  {
   "cell_type": "code",
   "execution_count": 111,
   "metadata": {
    "ExecuteTime": {
     "end_time": "2022-02-25T15:23:06.827130Z",
     "start_time": "2022-02-25T15:23:06.812099Z"
    },
    "scrolled": true
   },
   "outputs": [
    {
     "data": {
      "text/plain": [
       "sqft_living_log       -2.882625\n",
       "bathrooms_log         -2.459491\n",
       "bedrooms_log          -4.159448\n",
       "price_log             -2.823059\n",
       "water_1.0              0.000000\n",
       "view_EXCELLENT         0.000000\n",
       "view_FAIR              0.000000\n",
       "view_GOOD              0.000000\n",
       "condition_Fair         0.000000\n",
       "condition_Good         0.000000\n",
       "condition_Very Good    0.000000\n",
       "grade_11 Excellent     0.000000\n",
       "grade_12 Luxury        0.000000\n",
       "grade_13 Mansion       0.000000\n",
       "grade_4 Low            0.000000\n",
       "grade_5 Fair           0.000000\n",
       "grade_6 Low Average    0.000000\n",
       "grade_8 Good           0.000000\n",
       "grade_9 Better         0.000000\n",
       "yr_built_log          -2.445050\n",
       "floors_log            -0.960852\n",
       "Name: 0.0015, dtype: float64"
      ]
     },
     "execution_count": 111,
     "metadata": {},
     "output_type": "execute_result"
    }
   ],
   "source": [
    "# find cut-off for data outside 3 standard deviations (99.7% of data)\n",
    "remove_outliers.quantile(q=.0015)"
   ]
  },
  {
   "cell_type": "code",
   "execution_count": 112,
   "metadata": {
    "ExecuteTime": {
     "end_time": "2022-02-25T15:23:07.858155Z",
     "start_time": "2022-02-25T15:23:07.504444Z"
    },
    "scrolled": true
   },
   "outputs": [
    {
     "data": {
      "text/plain": [
       "<AxesSubplot:>"
      ]
     },
     "execution_count": 112,
     "metadata": {},
     "output_type": "execute_result"
    },
    {
     "data": {
      "image/png": "[encoded data removed]",
      "text/plain": [
       "<Figure size 432x288 with 1 Axes>"
      ]
     },
     "metadata": {
      "needs_background": "light"
     },
     "output_type": "display_data"
    }
   ],
   "source": [
    "remove_outliers['price_log'].hist(bins=25)"
   ]
  },
  {
   "cell_type": "code",
   "execution_count": 113,
   "metadata": {
    "ExecuteTime": {
     "end_time": "2022-02-25T15:23:08.233065Z",
     "start_time": "2022-02-25T15:23:08.177026Z"
    }
   },
   "outputs": [
    {
     "data": {
      "text/plain": [
       "0.674801656673277"
      ]
     },
     "execution_count": 113,
     "metadata": {},
     "output_type": "execute_result"
    }
   ],
   "source": [
    "# correlation before removing outliers\n",
    "remove_outliers.corr()['price_log']['sqft_living_log']"
   ]
  },
  {
   "cell_type": "code",
   "execution_count": 203,
   "metadata": {
    "ExecuteTime": {
     "end_time": "2022-02-25T15:35:47.238281Z",
     "start_time": "2022-02-25T15:35:47.230125Z"
    }
   },
   "outputs": [],
   "source": [
    "remove_outliers = remove_outliers[(remove_outliers['price_log'] > -2.823) & (\n",
    "    remove_outliers['price_log'] < 2.8)]"
   ]
  },
  {
   "cell_type": "code",
   "execution_count": 204,
   "metadata": {
    "ExecuteTime": {
     "end_time": "2022-02-25T15:35:48.023461Z",
     "start_time": "2022-02-25T15:35:47.976386Z"
    }
   },
   "outputs": [
    {
     "data": {
      "text/plain": [
       "0.6527700673276549"
      ]
     },
     "execution_count": 204,
     "metadata": {},
     "output_type": "execute_result"
    }
   ],
   "source": [
    "# correlation after removing outliers\n",
    "remove_outliers.corr()['price_log']['sqft_living_log']"
   ]
  },
  {
   "cell_type": "code",
   "execution_count": 205,
   "metadata": {
    "ExecuteTime": {
     "end_time": "2022-02-25T15:35:48.557670Z",
     "start_time": "2022-02-25T15:35:48.539779Z"
    },
    "scrolled": true
   },
   "outputs": [
    {
     "name": "stdout",
     "output_type": "stream",
     "text": [
      "<class 'pandas.core.frame.DataFrame'>\n",
      "Int64Index: 21366 entries, 0 to 21596\n",
      "Data columns (total 22 columns):\n",
      " #   Column               Non-Null Count  Dtype  \n",
      "---  ------               --------------  -----  \n",
      " 0   sqft_living_log      21366 non-null  float64\n",
      " 1   bathrooms_log        21366 non-null  float64\n",
      " 2   bedrooms_log         21366 non-null  float64\n",
      " 3   price_log            21366 non-null  float64\n",
      " 4   water_1.0            21366 non-null  uint8  \n",
      " 5   view_EXCELLENT       21366 non-null  uint8  \n",
      " 6   view_FAIR            21366 non-null  uint8  \n",
      " 7   view_GOOD            21366 non-null  uint8  \n",
      " 8   condition_Fair       21366 non-null  uint8  \n",
      " 9   condition_Good       21366 non-null  uint8  \n",
      " 10  condition_Very Good  21366 non-null  uint8  \n",
      " 11  grade_11 Excellent   21366 non-null  uint8  \n",
      " 12  grade_12 Luxury      21366 non-null  uint8  \n",
      " 13  grade_13 Mansion     21366 non-null  uint8  \n",
      " 14  grade_4 Low          21366 non-null  uint8  \n",
      " 15  grade_5 Fair         21366 non-null  uint8  \n",
      " 16  grade_6 Low Average  21366 non-null  uint8  \n",
      " 17  grade_8 Good         21366 non-null  uint8  \n",
      " 18  grade_9 Better       21366 non-null  uint8  \n",
      " 19  yr_built_log         21366 non-null  float64\n",
      " 20  floors_log           21366 non-null  float64\n",
      " 21  bd*ba                21366 non-null  float64\n",
      "dtypes: float64(7), uint8(15)\n",
      "memory usage: 1.6 MB\n"
     ]
    }
   ],
   "source": [
    "remove_outliers.info()"
   ]
  },
  {
   "cell_type": "code",
   "execution_count": 206,
   "metadata": {
    "ExecuteTime": {
     "end_time": "2022-02-25T15:35:49.640451Z",
     "start_time": "2022-02-25T15:35:49.297297Z"
    }
   },
   "outputs": [
    {
     "data": {
      "text/html": [
       "<table class=\"simpletable\">\n",
       "<caption>OLS Regression Results</caption>\n",
       "<tr>\n",
       "  <th>Dep. Variable:</th>        <td>price_log</td>    <th>  R-squared:         </th> <td>   0.562</td> \n",
       "</tr>\n",
       "<tr>\n",
       "  <th>Model:</th>                   <td>OLS</td>       <th>  Adj. R-squared:    </th> <td>   0.562</td> \n",
       "</tr>\n",
       "<tr>\n",
       "  <th>Method:</th>             <td>Least Squares</td>  <th>  F-statistic:       </th> <td>   1305.</td> \n",
       "</tr>\n",
       "<tr>\n",
       "  <th>Date:</th>             <td>Fri, 25 Feb 2022</td> <th>  Prob (F-statistic):</th>  <td>  0.00</td>  \n",
       "</tr>\n",
       "<tr>\n",
       "  <th>Time:</th>                 <td>08:35:49</td>     <th>  Log-Likelihood:    </th> <td> -20256.</td> \n",
       "</tr>\n",
       "<tr>\n",
       "  <th>No. Observations:</th>      <td> 21366</td>      <th>  AIC:               </th> <td>4.056e+04</td>\n",
       "</tr>\n",
       "<tr>\n",
       "  <th>Df Residuals:</th>          <td> 21344</td>      <th>  BIC:               </th> <td>4.073e+04</td>\n",
       "</tr>\n",
       "<tr>\n",
       "  <th>Df Model:</th>              <td>    21</td>      <th>                     </th>     <td> </td>    \n",
       "</tr>\n",
       "<tr>\n",
       "  <th>Covariance Type:</th>      <td>nonrobust</td>    <th>                     </th>     <td> </td>    \n",
       "</tr>\n",
       "</table>\n",
       "<table class=\"simpletable\">\n",
       "<tr>\n",
       "           <td></td>              <th>coef</th>     <th>std err</th>      <th>t</th>      <th>P>|t|</th>  <th>[0.025</th>    <th>0.975]</th>  \n",
       "</tr>\n",
       "<tr>\n",
       "  <th>const</th>               <td>   -0.1682</td> <td>    0.008</td> <td>  -22.109</td> <td> 0.000</td> <td>   -0.183</td> <td>   -0.153</td>\n",
       "</tr>\n",
       "<tr>\n",
       "  <th>sqft_living_log</th>     <td>    0.5017</td> <td>    0.008</td> <td>   61.433</td> <td> 0.000</td> <td>    0.486</td> <td>    0.518</td>\n",
       "</tr>\n",
       "<tr>\n",
       "  <th>bathrooms_log</th>       <td>    0.1009</td> <td>    0.008</td> <td>   13.052</td> <td> 0.000</td> <td>    0.086</td> <td>    0.116</td>\n",
       "</tr>\n",
       "<tr>\n",
       "  <th>bedrooms_log</th>        <td>   -0.1104</td> <td>    0.006</td> <td>  -18.603</td> <td> 0.000</td> <td>   -0.122</td> <td>   -0.099</td>\n",
       "</tr>\n",
       "<tr>\n",
       "  <th>water_1.0</th>           <td>    0.4387</td> <td>    0.073</td> <td>    6.045</td> <td> 0.000</td> <td>    0.296</td> <td>    0.581</td>\n",
       "</tr>\n",
       "<tr>\n",
       "  <th>view_EXCELLENT</th>      <td>    0.5987</td> <td>    0.047</td> <td>   12.840</td> <td> 0.000</td> <td>    0.507</td> <td>    0.690</td>\n",
       "</tr>\n",
       "<tr>\n",
       "  <th>view_FAIR</th>           <td>    0.3305</td> <td>    0.036</td> <td>    9.287</td> <td> 0.000</td> <td>    0.261</td> <td>    0.400</td>\n",
       "</tr>\n",
       "<tr>\n",
       "  <th>view_GOOD</th>           <td>    0.3389</td> <td>    0.029</td> <td>   11.555</td> <td> 0.000</td> <td>    0.281</td> <td>    0.396</td>\n",
       "</tr>\n",
       "<tr>\n",
       "  <th>condition_Fair</th>      <td>   -0.2970</td> <td>    0.050</td> <td>   -5.976</td> <td> 0.000</td> <td>   -0.394</td> <td>   -0.200</td>\n",
       "</tr>\n",
       "<tr>\n",
       "  <th>condition_Good</th>      <td>    0.0140</td> <td>    0.011</td> <td>    1.314</td> <td> 0.189</td> <td>   -0.007</td> <td>    0.035</td>\n",
       "</tr>\n",
       "<tr>\n",
       "  <th>condition_Very Good</th> <td>    0.1363</td> <td>    0.017</td> <td>    7.920</td> <td> 0.000</td> <td>    0.103</td> <td>    0.170</td>\n",
       "</tr>\n",
       "<tr>\n",
       "  <th>grade_11 Excellent</th>  <td>    0.9439</td> <td>    0.037</td> <td>   25.199</td> <td> 0.000</td> <td>    0.870</td> <td>    1.017</td>\n",
       "</tr>\n",
       "<tr>\n",
       "  <th>grade_12 Luxury</th>     <td>    1.1361</td> <td>    0.085</td> <td>   13.324</td> <td> 0.000</td> <td>    0.969</td> <td>    1.303</td>\n",
       "</tr>\n",
       "<tr>\n",
       "  <th>grade_13 Mansion</th>    <td>    1.7021</td> <td>    0.625</td> <td>    2.723</td> <td> 0.006</td> <td>    0.477</td> <td>    2.927</td>\n",
       "</tr>\n",
       "<tr>\n",
       "  <th>grade_4 Low</th>         <td>   -0.6147</td> <td>    0.133</td> <td>   -4.639</td> <td> 0.000</td> <td>   -0.874</td> <td>   -0.355</td>\n",
       "</tr>\n",
       "<tr>\n",
       "  <th>grade_5 Fair</th>        <td>   -0.6926</td> <td>    0.043</td> <td>  -15.974</td> <td> 0.000</td> <td>   -0.778</td> <td>   -0.608</td>\n",
       "</tr>\n",
       "<tr>\n",
       "  <th>grade_6 Low Average</th> <td>   -0.4222</td> <td>    0.017</td> <td>  -24.858</td> <td> 0.000</td> <td>   -0.455</td> <td>   -0.389</td>\n",
       "</tr>\n",
       "<tr>\n",
       "  <th>grade_8 Good</th>        <td>    0.1981</td> <td>    0.011</td> <td>   18.267</td> <td> 0.000</td> <td>    0.177</td> <td>    0.219</td>\n",
       "</tr>\n",
       "<tr>\n",
       "  <th>grade_9 Better</th>      <td>    0.5255</td> <td>    0.016</td> <td>   33.628</td> <td> 0.000</td> <td>    0.495</td> <td>    0.556</td>\n",
       "</tr>\n",
       "<tr>\n",
       "  <th>yr_built_log</th>        <td>   -0.2822</td> <td>    0.006</td> <td>  -48.740</td> <td> 0.000</td> <td>   -0.294</td> <td>   -0.271</td>\n",
       "</tr>\n",
       "<tr>\n",
       "  <th>floors_log</th>          <td>    0.1160</td> <td>    0.005</td> <td>   21.595</td> <td> 0.000</td> <td>    0.105</td> <td>    0.126</td>\n",
       "</tr>\n",
       "<tr>\n",
       "  <th>bd*ba</th>               <td>    0.0558</td> <td>    0.004</td> <td>   13.824</td> <td> 0.000</td> <td>    0.048</td> <td>    0.064</td>\n",
       "</tr>\n",
       "</table>\n",
       "<table class=\"simpletable\">\n",
       "<tr>\n",
       "  <th>Omnibus:</th>       <td>10.294</td> <th>  Durbin-Watson:     </th> <td>   1.960</td>\n",
       "</tr>\n",
       "<tr>\n",
       "  <th>Prob(Omnibus):</th> <td> 0.006</td> <th>  Jarque-Bera (JB):  </th> <td>  11.173</td>\n",
       "</tr>\n",
       "<tr>\n",
       "  <th>Skew:</th>          <td> 0.014</td> <th>  Prob(JB):          </th> <td> 0.00375</td>\n",
       "</tr>\n",
       "<tr>\n",
       "  <th>Kurtosis:</th>      <td> 3.109</td> <th>  Cond. No.          </th> <td>    258.</td>\n",
       "</tr>\n",
       "</table><br/><br/>Notes:<br/>[1] Standard Errors assume that the covariance matrix of the errors is correctly specified."
      ],
      "text/plain": [
       "<class 'statsmodels.iolib.summary.Summary'>\n",
       "\"\"\"\n",
       "                            OLS Regression Results                            \n",
       "==============================================================================\n",
       "Dep. Variable:              price_log   R-squared:                       0.562\n",
       "Model:                            OLS   Adj. R-squared:                  0.562\n",
       "Method:                 Least Squares   F-statistic:                     1305.\n",
       "Date:                Fri, 25 Feb 2022   Prob (F-statistic):               0.00\n",
       "Time:                        08:35:49   Log-Likelihood:                -20256.\n",
       "No. Observations:               21366   AIC:                         4.056e+04\n",
       "Df Residuals:                   21344   BIC:                         4.073e+04\n",
       "Df Model:                          21                                         \n",
       "Covariance Type:            nonrobust                                         \n",
       "=======================================================================================\n",
       "                          coef    std err          t      P>|t|      [0.025      0.975]\n",
       "---------------------------------------------------------------------------------------\n",
       "const                  -0.1682      0.008    -22.109      0.000      -0.183      -0.153\n",
       "sqft_living_log         0.5017      0.008     61.433      0.000       0.486       0.518\n",
       "bathrooms_log           0.1009      0.008     13.052      0.000       0.086       0.116\n",
       "bedrooms_log           -0.1104      0.006    -18.603      0.000      -0.122      -0.099\n",
       "water_1.0               0.4387      0.073      6.045      0.000       0.296       0.581\n",
       "view_EXCELLENT          0.5987      0.047     12.840      0.000       0.507       0.690\n",
       "view_FAIR               0.3305      0.036      9.287      0.000       0.261       0.400\n",
       "view_GOOD               0.3389      0.029     11.555      0.000       0.281       0.396\n",
       "condition_Fair         -0.2970      0.050     -5.976      0.000      -0.394      -0.200\n",
       "condition_Good          0.0140      0.011      1.314      0.189      -0.007       0.035\n",
       "condition_Very Good     0.1363      0.017      7.920      0.000       0.103       0.170\n",
       "grade_11 Excellent      0.9439      0.037     25.199      0.000       0.870       1.017\n",
       "grade_12 Luxury         1.1361      0.085     13.324      0.000       0.969       1.303\n",
       "grade_13 Mansion        1.7021      0.625      2.723      0.006       0.477       2.927\n",
       "grade_4 Low            -0.6147      0.133     -4.639      0.000      -0.874      -0.355\n",
       "grade_5 Fair           -0.6926      0.043    -15.974      0.000      -0.778      -0.608\n",
       "grade_6 Low Average    -0.4222      0.017    -24.858      0.000      -0.455      -0.389\n",
       "grade_8 Good            0.1981      0.011     18.267      0.000       0.177       0.219\n",
       "grade_9 Better          0.5255      0.016     33.628      0.000       0.495       0.556\n",
       "yr_built_log           -0.2822      0.006    -48.740      0.000      -0.294      -0.271\n",
       "floors_log              0.1160      0.005     21.595      0.000       0.105       0.126\n",
       "bd*ba                   0.0558      0.004     13.824      0.000       0.048       0.064\n",
       "==============================================================================\n",
       "Omnibus:                       10.294   Durbin-Watson:                   1.960\n",
       "Prob(Omnibus):                  0.006   Jarque-Bera (JB):               11.173\n",
       "Skew:                           0.014   Prob(JB):                      0.00375\n",
       "Kurtosis:                       3.109   Cond. No.                         258.\n",
       "==============================================================================\n",
       "\n",
       "Notes:\n",
       "[1] Standard Errors assume that the covariance matrix of the errors is correctly specified.\n",
       "\"\"\""
      ]
     },
     "execution_count": 206,
     "metadata": {},
     "output_type": "execute_result"
    }
   ],
   "source": [
    "# Run model summary with only sqft_living_log\n",
    "\n",
    "# Model Summary\n",
    "X_ro = remove_outliers.drop(['price_log'], axis=1)\n",
    "y_ro = remove_outliers['price_log']\n",
    "\n",
    "X_int = sm.add_constant(X_ro)\n",
    "model = sm.OLS(y_ro,X_int).fit()\n",
    "model.summary()"
   ]
  },
  {
   "cell_type": "markdown",
   "metadata": {},
   "source": [
    "## (skip) Remove all rows containing value outside 3 standard deviations\n",
    "* Chose not to use this method because it dropped ~5% of data\n",
    "    * This dropped values outside 3 std. dev. in every column."
   ]
  },
  {
   "cell_type": "code",
   "execution_count": 193,
   "metadata": {
    "ExecuteTime": {
     "end_time": "2022-02-25T15:34:57.822375Z",
     "start_time": "2022-02-25T15:34:57.800794Z"
    }
   },
   "outputs": [
    {
     "data": {
      "text/plain": [
       "(16331, 21)"
      ]
     },
     "execution_count": 193,
     "metadata": {},
     "output_type": "execute_result"
    }
   ],
   "source": [
    "# remove rows with values in any column outside\n",
    "# 3 standard deviations.\n",
    "remove_all_out = fourth_model\n",
    "\n",
    "z_scores = stats.zscore(remove_all_out)\n",
    "\n",
    "abs_z_scores = np.abs(z_scores)\n",
    "filtered_entries = (abs_z_scores < 3).all(axis=1, keepdims=True)\n",
    "new_df = remove_all_out[filtered_entries]\n",
    "\n",
    "new_df.shape"
   ]
  },
  {
   "cell_type": "markdown",
   "metadata": {},
   "source": [
    "### Considering this removes data, I will use it on the final model to check if it is worth performing to reduce heteroscedasticity and increase normality.\n",
    "* I may not remove outliers, because it is reducing the predictive capacity of the model."
   ]
  },
  {
   "cell_type": "code",
   "execution_count": 177,
   "metadata": {
    "ExecuteTime": {
     "end_time": "2022-02-25T15:33:22.941629Z",
     "start_time": "2022-02-25T15:33:22.915527Z"
    }
   },
   "outputs": [
    {
     "name": "stdout",
     "output_type": "stream",
     "text": [
      "Old df: sqft_living_log        2.460443\n",
      "bathrooms_log          2.105716\n",
      "bedrooms_log           2.168119\n",
      "price_log              2.954596\n",
      "water_1.0              1.000000\n",
      "view_EXCELLENT         1.000000\n",
      "view_FAIR              1.000000\n",
      "view_GOOD              1.000000\n",
      "condition_Fair         1.000000\n",
      "condition_Good         1.000000\n",
      "condition_Very Good    1.000000\n",
      "grade_11 Excellent     1.000000\n",
      "grade_12 Luxury        0.000000\n",
      "grade_13 Mansion       0.000000\n",
      "grade_4 Low            0.000000\n",
      "grade_5 Fair           1.000000\n",
      "grade_6 Low Average    1.000000\n",
      "grade_8 Good           1.000000\n",
      "grade_9 Better         1.000000\n",
      "yr_built_log           1.450205\n",
      "floors_log             2.157851\n",
      "bd*ba                  7.181324\n",
      "Name: 0.995, dtype: float64\n",
      "\n",
      "New df: sqft_living_log        2.051121\n",
      "bathrooms_log          1.960083\n",
      "bedrooms_log           2.168119\n",
      "price_log              2.373401\n",
      "water_1.0              0.000000\n",
      "view_EXCELLENT         0.000000\n",
      "view_FAIR              0.000000\n",
      "view_GOOD              0.000000\n",
      "condition_Fair         0.000000\n",
      "condition_Good         1.000000\n",
      "condition_Very Good    0.000000\n",
      "grade_11 Excellent     0.000000\n",
      "grade_12 Luxury        0.000000\n",
      "grade_13 Mansion       0.000000\n",
      "grade_4 Low            0.000000\n",
      "grade_5 Fair           0.000000\n",
      "grade_6 Low Average    0.000000\n",
      "grade_8 Good           1.000000\n",
      "grade_9 Better         1.000000\n",
      "yr_built_log           1.450205\n",
      "floors_log             2.157851\n",
      "Name: 0.995, dtype: float64\n"
     ]
    }
   ],
   "source": [
    "# did the quantiles change? -Yes\n",
    "print('Old df:', remove_outliers.quantile(q=.995))\n",
    "print()\n",
    "print('New df:', new_df.quantile(q=.995))"
   ]
  },
  {
   "cell_type": "code",
   "execution_count": 178,
   "metadata": {
    "ExecuteTime": {
     "end_time": "2022-02-25T15:33:23.406315Z",
     "start_time": "2022-02-25T15:33:23.197051Z"
    }
   },
   "outputs": [
    {
     "name": "stdout",
     "output_type": "stream",
     "text": [
      "Sqft to Price - R^2 before removing outliers: 0.664478405035275\n",
      "Sqft to Price - R^2 after removing outliers: 0.5747410264960593\n",
      "\n",
      "Sqft to Bathrooms - R^2 before removing outliers: 0.5094982355832764\n",
      "Sqft to Bathrooms - R^2 after removing outliers: 0.3796802793416962\n",
      "\n",
      "Sqft to Bedrooms - R^2 before removing outliers: 0.3343898935100576\n",
      "Sqft to Bedrooms - R^2 after removing outliers: 0.2546465981749395\n"
     ]
    }
   ],
   "source": [
    "# correlation after removing outliers.  Correlation decreased.\n",
    "print('Sqft to Price - R^2 before removing outliers:',remove_outliers.corr()['price_log']['sqft_living_log'])\n",
    "print('Sqft to Price - R^2 after removing outliers:',new_df.corr()['price_log']['sqft_living_log'])\n",
    "print()\n",
    "print('Sqft to Bathrooms - R^2 before removing outliers:',remove_outliers.corr()['price_log']['bathrooms_log'])\n",
    "print('Sqft to Bathrooms - R^2 after removing outliers:',new_df.corr()['price_log']['bathrooms_log'])\n",
    "print()\n",
    "print('Sqft to Bedrooms - R^2 before removing outliers:',remove_outliers.corr()['price_log']['bedrooms_log'])\n",
    "print('Sqft to Bedrooms - R^2 after removing outliers:',new_df.corr()['price_log']['bedrooms_log'])"
   ]
  },
  {
   "cell_type": "markdown",
   "metadata": {},
   "source": [
    "### Dropping Outliers reduces correlation values.\n",
    "* How does it impact normality and heteroscedasticity?"
   ]
  },
  {
   "cell_type": "markdown",
   "metadata": {},
   "source": [
    "## (skip) Replace Outliers\n",
    "* Chose to remove rather than replace outliers to retain actual data rather than create altered data."
   ]
  },
  {
   "cell_type": "code",
   "execution_count": 128,
   "metadata": {
    "ExecuteTime": {
     "end_time": "2022-02-25T15:24:15.758454Z",
     "start_time": "2022-02-25T15:24:15.737951Z"
    }
   },
   "outputs": [
    {
     "data": {
      "text/html": [
       "<div>\n",
       "<style scoped>\n",
       "    .dataframe tbody tr th:only-of-type {\n",
       "        vertical-align: middle;\n",
       "    }\n",
       "\n",
       "    .dataframe tbody tr th {\n",
       "        vertical-align: top;\n",
       "    }\n",
       "\n",
       "    .dataframe thead th {\n",
       "        text-align: right;\n",
       "    }\n",
       "</style>\n",
       "<table border=\"1\" class=\"dataframe\">\n",
       "  <thead>\n",
       "    <tr style=\"text-align: right;\">\n",
       "      <th></th>\n",
       "      <th>sqft_living_log</th>\n",
       "      <th>bathrooms_log</th>\n",
       "      <th>bedrooms_log</th>\n",
       "      <th>price_log</th>\n",
       "      <th>yr_built_log</th>\n",
       "      <th>floors_log</th>\n",
       "    </tr>\n",
       "  </thead>\n",
       "  <tbody>\n",
       "    <tr>\n",
       "      <th>0</th>\n",
       "      <td>-1.125556</td>\n",
       "      <td>-1.726509</td>\n",
       "      <td>-0.279718</td>\n",
       "      <td>-1.401998</td>\n",
       "      <td>-0.537409</td>\n",
       "      <td>-0.960852</td>\n",
       "    </tr>\n",
       "    <tr>\n",
       "      <th>1</th>\n",
       "      <td>0.709446</td>\n",
       "      <td>0.339653</td>\n",
       "      <td>-0.279718</td>\n",
       "      <td>0.279938</td>\n",
       "      <td>-0.674325</td>\n",
       "      <td>1.006831</td>\n",
       "    </tr>\n",
       "    <tr>\n",
       "      <th>2</th>\n",
       "      <td>-2.131893</td>\n",
       "      <td>-1.726509</td>\n",
       "      <td>-1.711611</td>\n",
       "      <td>-1.799430</td>\n",
       "      <td>-1.293945</td>\n",
       "      <td>-0.960852</td>\n",
       "    </tr>\n",
       "    <tr>\n",
       "      <th>3</th>\n",
       "      <td>0.070674</td>\n",
       "      <td>1.072635</td>\n",
       "      <td>0.736226</td>\n",
       "      <td>0.499698</td>\n",
       "      <td>-0.196338</td>\n",
       "      <td>-0.960852</td>\n",
       "    </tr>\n",
       "    <tr>\n",
       "      <th>4</th>\n",
       "      <td>-0.292725</td>\n",
       "      <td>0.039555</td>\n",
       "      <td>-0.279718</td>\n",
       "      <td>0.178434</td>\n",
       "      <td>0.547946</td>\n",
       "      <td>-0.960852</td>\n",
       "    </tr>\n",
       "  </tbody>\n",
       "</table>\n",
       "</div>"
      ],
      "text/plain": [
       "   sqft_living_log  bathrooms_log  bedrooms_log  price_log  yr_built_log  \\\n",
       "0        -1.125556      -1.726509     -0.279718  -1.401998     -0.537409   \n",
       "1         0.709446       0.339653     -0.279718   0.279938     -0.674325   \n",
       "2        -2.131893      -1.726509     -1.711611  -1.799430     -1.293945   \n",
       "3         0.070674       1.072635      0.736226   0.499698     -0.196338   \n",
       "4        -0.292725       0.039555     -0.279718   0.178434      0.547946   \n",
       "\n",
       "   floors_log  \n",
       "0   -0.960852  \n",
       "1    1.006831  \n",
       "2   -0.960852  \n",
       "3   -0.960852  \n",
       "4   -0.960852  "
      ]
     },
     "execution_count": 128,
     "metadata": {},
     "output_type": "execute_result"
    }
   ],
   "source": [
    "replace_out = pd.concat([first_model, features_add], axis=1)\n",
    "\n",
    "replace_out.head()"
   ]
  },
  {
   "cell_type": "code",
   "execution_count": 129,
   "metadata": {
    "ExecuteTime": {
     "end_time": "2022-02-25T15:24:16.195503Z",
     "start_time": "2022-02-25T15:24:16.176473Z"
    }
   },
   "outputs": [
    {
     "name": "stdout",
     "output_type": "stream",
     "text": [
      "lower quantile: sqft_living_log   -2.882625\n",
      "bathrooms_log     -2.459491\n",
      "bedrooms_log      -4.159448\n",
      "price_log         -2.823059\n",
      "yr_built_log      -2.445050\n",
      "floors_log        -0.960852\n",
      "Name: 0.0015, dtype: float64\n",
      "\n",
      "upper quantile: sqft_living_log    3.025420\n",
      "bathrooms_log      2.498475\n",
      "bedrooms_log       2.712499\n",
      "price_log          3.666191\n",
      "yr_built_log       1.483389\n",
      "floors_log         2.157851\n",
      "Name: 0.9985, dtype: float64\n"
     ]
    }
   ],
   "source": [
    "# find cut-off for data outside 3 standard deviations (99.7% of data)\n",
    "print('lower quantile:',replace_out.quantile(q=.0015))\n",
    "print()\n",
    "print('upper quantile:',replace_out.quantile(q=.9985))\n"
   ]
  },
  {
   "cell_type": "code",
   "execution_count": 130,
   "metadata": {
    "ExecuteTime": {
     "end_time": "2022-02-25T15:24:16.608735Z",
     "start_time": "2022-02-25T15:24:16.599360Z"
    }
   },
   "outputs": [],
   "source": [
    "# https://stackoverflow.com/questions/45386955/python-replacing-outliers-values-with-median-values\n",
    "# http://localhost:8888/notebooks/t20/ds-feature_selection_and_feature_engineering-nbz32/feature_selection_and_feature_engineering.ipynb\n",
    "\n",
    "median = replace_out['sqft_living_log'].median()\n",
    "\n",
    "# replace lower threshold of sqft_living_log\n",
    "replace_out[\"sqft_living_log\"] = np.where(\n",
    "    replace_out[\"sqft_living_log\"] > -2.883, median,replace_out['sqft_living_log'])\n",
    "\n",
    "# replace upper threshold of sqft_living_log\n",
    "replace_out[\"sqft_living_log\"] = np.where(\n",
    "    replace_out[\"sqft_living_log\"] < 3.025, median,replace_out['sqft_living_log'])\n"
   ]
  },
  {
   "cell_type": "code",
   "execution_count": 131,
   "metadata": {
    "ExecuteTime": {
     "end_time": "2022-02-25T15:24:17.056051Z",
     "start_time": "2022-02-25T15:24:17.037291Z"
    }
   },
   "outputs": [
    {
     "name": "stdout",
     "output_type": "stream",
     "text": [
      "lower quantile: sqft_living_log    0.009755\n",
      "bathrooms_log     -2.459491\n",
      "bedrooms_log      -4.159448\n",
      "price_log         -2.823059\n",
      "yr_built_log      -2.445050\n",
      "floors_log        -0.960852\n",
      "Name: 0.0015, dtype: float64\n",
      "\n",
      "upper quantile: sqft_living_log    0.009755\n",
      "bathrooms_log      2.498475\n",
      "bedrooms_log       2.712499\n",
      "price_log          3.666191\n",
      "yr_built_log       1.483389\n",
      "floors_log         2.157851\n",
      "Name: 0.9985, dtype: float64\n"
     ]
    }
   ],
   "source": [
    "# find cut-off for data outside 3 standard deviations (99.7% of data)\n",
    "\n",
    "print('lower quantile:',replace_out.quantile(q=.0015))\n",
    "print()\n",
    "print('upper quantile:',replace_out.quantile(q=.9985))\n"
   ]
  },
  {
   "cell_type": "code",
   "execution_count": 132,
   "metadata": {
    "ExecuteTime": {
     "end_time": "2022-02-25T15:24:17.526172Z",
     "start_time": "2022-02-25T15:24:17.513598Z"
    }
   },
   "outputs": [
    {
     "data": {
      "text/plain": [
       "-8.096569752015661e-17"
      ]
     },
     "execution_count": 132,
     "metadata": {},
     "output_type": "execute_result"
    }
   ],
   "source": [
    "# correlation after replacing outliers with mean\n",
    "replace_out.corr()['price_log']['sqft_living_log']"
   ]
  },
  {
   "cell_type": "markdown",
   "metadata": {},
   "source": [
    "## Product features\n",
    "* Experimenting with \n",
    "* What would correlation be for product of bedrooms and bathrooms with price?"
   ]
  },
  {
   "cell_type": "code",
   "execution_count": 141,
   "metadata": {
    "ExecuteTime": {
     "end_time": "2022-02-25T15:27:25.778906Z",
     "start_time": "2022-02-25T15:27:25.738479Z"
    }
   },
   "outputs": [
    {
     "name": "stderr",
     "output_type": "stream",
     "text": [
      "<ipython-input-141-70ceb8b2e190>:4: SettingWithCopyWarning: \n",
      "A value is trying to be set on a copy of a slice from a DataFrame.\n",
      "Try using .loc[row_indexer,col_indexer] = value instead\n",
      "\n",
      "See the caveats in the documentation: https://pandas.pydata.org/pandas-docs/stable/user_guide/indexing.html#returning-a-view-versus-a-copy\n",
      "  product_features['bd*ba'] = product_features\n"
     ]
    },
    {
     "data": {
      "text/html": [
       "<div>\n",
       "<style scoped>\n",
       "    .dataframe tbody tr th:only-of-type {\n",
       "        vertical-align: middle;\n",
       "    }\n",
       "\n",
       "    .dataframe tbody tr th {\n",
       "        vertical-align: top;\n",
       "    }\n",
       "\n",
       "    .dataframe thead th {\n",
       "        text-align: right;\n",
       "    }\n",
       "</style>\n",
       "<table border=\"1\" class=\"dataframe\">\n",
       "  <thead>\n",
       "    <tr style=\"text-align: right;\">\n",
       "      <th></th>\n",
       "      <th>sqft_living_log</th>\n",
       "      <th>bathrooms_log</th>\n",
       "      <th>bedrooms_log</th>\n",
       "      <th>price_log</th>\n",
       "      <th>water_1.0</th>\n",
       "      <th>view_EXCELLENT</th>\n",
       "      <th>view_FAIR</th>\n",
       "      <th>view_GOOD</th>\n",
       "      <th>condition_Fair</th>\n",
       "      <th>condition_Good</th>\n",
       "      <th>...</th>\n",
       "      <th>grade_12 Luxury</th>\n",
       "      <th>grade_13 Mansion</th>\n",
       "      <th>grade_4 Low</th>\n",
       "      <th>grade_5 Fair</th>\n",
       "      <th>grade_6 Low Average</th>\n",
       "      <th>grade_8 Good</th>\n",
       "      <th>grade_9 Better</th>\n",
       "      <th>yr_built_log</th>\n",
       "      <th>floors_log</th>\n",
       "      <th>bd*ba</th>\n",
       "    </tr>\n",
       "  </thead>\n",
       "  <tbody>\n",
       "    <tr>\n",
       "      <th>0</th>\n",
       "      <td>-1.125556</td>\n",
       "      <td>-1.726509</td>\n",
       "      <td>-0.279718</td>\n",
       "      <td>-1.401998</td>\n",
       "      <td>0</td>\n",
       "      <td>0</td>\n",
       "      <td>0</td>\n",
       "      <td>0</td>\n",
       "      <td>0</td>\n",
       "      <td>0</td>\n",
       "      <td>...</td>\n",
       "      <td>0</td>\n",
       "      <td>0</td>\n",
       "      <td>0</td>\n",
       "      <td>0</td>\n",
       "      <td>0</td>\n",
       "      <td>0</td>\n",
       "      <td>0</td>\n",
       "      <td>-0.537409</td>\n",
       "      <td>-0.960852</td>\n",
       "      <td>-1.125556</td>\n",
       "    </tr>\n",
       "    <tr>\n",
       "      <th>1</th>\n",
       "      <td>0.709446</td>\n",
       "      <td>0.339653</td>\n",
       "      <td>-0.279718</td>\n",
       "      <td>0.279938</td>\n",
       "      <td>0</td>\n",
       "      <td>0</td>\n",
       "      <td>0</td>\n",
       "      <td>0</td>\n",
       "      <td>0</td>\n",
       "      <td>0</td>\n",
       "      <td>...</td>\n",
       "      <td>0</td>\n",
       "      <td>0</td>\n",
       "      <td>0</td>\n",
       "      <td>0</td>\n",
       "      <td>0</td>\n",
       "      <td>0</td>\n",
       "      <td>0</td>\n",
       "      <td>-0.674325</td>\n",
       "      <td>1.006831</td>\n",
       "      <td>0.709446</td>\n",
       "    </tr>\n",
       "    <tr>\n",
       "      <th>2</th>\n",
       "      <td>-2.131893</td>\n",
       "      <td>-1.726509</td>\n",
       "      <td>-1.711611</td>\n",
       "      <td>-1.799430</td>\n",
       "      <td>0</td>\n",
       "      <td>0</td>\n",
       "      <td>0</td>\n",
       "      <td>0</td>\n",
       "      <td>0</td>\n",
       "      <td>0</td>\n",
       "      <td>...</td>\n",
       "      <td>0</td>\n",
       "      <td>0</td>\n",
       "      <td>0</td>\n",
       "      <td>0</td>\n",
       "      <td>1</td>\n",
       "      <td>0</td>\n",
       "      <td>0</td>\n",
       "      <td>-1.293945</td>\n",
       "      <td>-0.960852</td>\n",
       "      <td>-2.131893</td>\n",
       "    </tr>\n",
       "    <tr>\n",
       "      <th>3</th>\n",
       "      <td>0.070674</td>\n",
       "      <td>1.072635</td>\n",
       "      <td>0.736226</td>\n",
       "      <td>0.499698</td>\n",
       "      <td>0</td>\n",
       "      <td>0</td>\n",
       "      <td>0</td>\n",
       "      <td>0</td>\n",
       "      <td>0</td>\n",
       "      <td>0</td>\n",
       "      <td>...</td>\n",
       "      <td>0</td>\n",
       "      <td>0</td>\n",
       "      <td>0</td>\n",
       "      <td>0</td>\n",
       "      <td>0</td>\n",
       "      <td>0</td>\n",
       "      <td>0</td>\n",
       "      <td>-0.196338</td>\n",
       "      <td>-0.960852</td>\n",
       "      <td>0.070674</td>\n",
       "    </tr>\n",
       "    <tr>\n",
       "      <th>4</th>\n",
       "      <td>-0.292725</td>\n",
       "      <td>0.039555</td>\n",
       "      <td>-0.279718</td>\n",
       "      <td>0.178434</td>\n",
       "      <td>0</td>\n",
       "      <td>0</td>\n",
       "      <td>0</td>\n",
       "      <td>0</td>\n",
       "      <td>0</td>\n",
       "      <td>0</td>\n",
       "      <td>...</td>\n",
       "      <td>0</td>\n",
       "      <td>0</td>\n",
       "      <td>0</td>\n",
       "      <td>0</td>\n",
       "      <td>0</td>\n",
       "      <td>1</td>\n",
       "      <td>0</td>\n",
       "      <td>0.547946</td>\n",
       "      <td>-0.960852</td>\n",
       "      <td>-0.292725</td>\n",
       "    </tr>\n",
       "  </tbody>\n",
       "</table>\n",
       "<p>5 rows × 22 columns</p>\n",
       "</div>"
      ],
      "text/plain": [
       "   sqft_living_log  bathrooms_log  bedrooms_log  price_log  water_1.0  \\\n",
       "0        -1.125556      -1.726509     -0.279718  -1.401998          0   \n",
       "1         0.709446       0.339653     -0.279718   0.279938          0   \n",
       "2        -2.131893      -1.726509     -1.711611  -1.799430          0   \n",
       "3         0.070674       1.072635      0.736226   0.499698          0   \n",
       "4        -0.292725       0.039555     -0.279718   0.178434          0   \n",
       "\n",
       "   view_EXCELLENT  view_FAIR  view_GOOD  condition_Fair  condition_Good  ...  \\\n",
       "0               0          0          0               0               0  ...   \n",
       "1               0          0          0               0               0  ...   \n",
       "2               0          0          0               0               0  ...   \n",
       "3               0          0          0               0               0  ...   \n",
       "4               0          0          0               0               0  ...   \n",
       "\n",
       "   grade_12 Luxury  grade_13 Mansion  grade_4 Low  grade_5 Fair  \\\n",
       "0                0                 0            0             0   \n",
       "1                0                 0            0             0   \n",
       "2                0                 0            0             0   \n",
       "3                0                 0            0             0   \n",
       "4                0                 0            0             0   \n",
       "\n",
       "   grade_6 Low Average  grade_8 Good  grade_9 Better  yr_built_log  \\\n",
       "0                    0             0               0     -0.537409   \n",
       "1                    0             0               0     -0.674325   \n",
       "2                    1             0               0     -1.293945   \n",
       "3                    0             0               0     -0.196338   \n",
       "4                    0             1               0      0.547946   \n",
       "\n",
       "   floors_log     bd*ba  \n",
       "0   -0.960852 -1.125556  \n",
       "1    1.006831  0.709446  \n",
       "2   -0.960852 -2.131893  \n",
       "3   -0.960852  0.070674  \n",
       "4   -0.960852 -0.292725  \n",
       "\n",
       "[5 rows x 22 columns]"
      ]
     },
     "execution_count": 141,
     "metadata": {},
     "output_type": "execute_result"
    }
   ],
   "source": [
    "# product of bedrooms and bathrooms\n",
    "product_features = remove_outliers\n",
    "\n",
    "product_features['bd*ba'] = product_features\n",
    "\n",
    "product_features.head()"
   ]
  },
  {
   "cell_type": "code",
   "execution_count": 142,
   "metadata": {
    "ExecuteTime": {
     "end_time": "2022-02-25T15:27:27.458457Z",
     "start_time": "2022-02-25T15:27:27.418675Z"
    }
   },
   "outputs": [
    {
     "name": "stderr",
     "output_type": "stream",
     "text": [
      "<ipython-input-142-824ad01e062c>:1: SettingWithCopyWarning: \n",
      "A value is trying to be set on a copy of a slice from a DataFrame.\n",
      "Try using .loc[row_indexer,col_indexer] = value instead\n",
      "\n",
      "See the caveats in the documentation: https://pandas.pydata.org/pandas-docs/stable/user_guide/indexing.html#returning-a-view-versus-a-copy\n",
      "  product_features['bd*ba'\n"
     ]
    },
    {
     "data": {
      "text/html": [
       "<div>\n",
       "<style scoped>\n",
       "    .dataframe tbody tr th:only-of-type {\n",
       "        vertical-align: middle;\n",
       "    }\n",
       "\n",
       "    .dataframe tbody tr th {\n",
       "        vertical-align: top;\n",
       "    }\n",
       "\n",
       "    .dataframe thead th {\n",
       "        text-align: right;\n",
       "    }\n",
       "</style>\n",
       "<table border=\"1\" class=\"dataframe\">\n",
       "  <thead>\n",
       "    <tr style=\"text-align: right;\">\n",
       "      <th></th>\n",
       "      <th>sqft_living_log</th>\n",
       "      <th>bathrooms_log</th>\n",
       "      <th>bedrooms_log</th>\n",
       "      <th>price_log</th>\n",
       "      <th>water_1.0</th>\n",
       "      <th>view_EXCELLENT</th>\n",
       "      <th>view_FAIR</th>\n",
       "      <th>view_GOOD</th>\n",
       "      <th>condition_Fair</th>\n",
       "      <th>condition_Good</th>\n",
       "      <th>...</th>\n",
       "      <th>grade_12 Luxury</th>\n",
       "      <th>grade_13 Mansion</th>\n",
       "      <th>grade_4 Low</th>\n",
       "      <th>grade_5 Fair</th>\n",
       "      <th>grade_6 Low Average</th>\n",
       "      <th>grade_8 Good</th>\n",
       "      <th>grade_9 Better</th>\n",
       "      <th>yr_built_log</th>\n",
       "      <th>floors_log</th>\n",
       "      <th>bd*ba</th>\n",
       "    </tr>\n",
       "  </thead>\n",
       "  <tbody>\n",
       "    <tr>\n",
       "      <th>0</th>\n",
       "      <td>-1.125556</td>\n",
       "      <td>-1.726509</td>\n",
       "      <td>-0.279718</td>\n",
       "      <td>-1.401998</td>\n",
       "      <td>0</td>\n",
       "      <td>0</td>\n",
       "      <td>0</td>\n",
       "      <td>0</td>\n",
       "      <td>0</td>\n",
       "      <td>0</td>\n",
       "      <td>...</td>\n",
       "      <td>0</td>\n",
       "      <td>0</td>\n",
       "      <td>0</td>\n",
       "      <td>0</td>\n",
       "      <td>0</td>\n",
       "      <td>0</td>\n",
       "      <td>0</td>\n",
       "      <td>-0.537409</td>\n",
       "      <td>-0.960852</td>\n",
       "      <td>0.482936</td>\n",
       "    </tr>\n",
       "    <tr>\n",
       "      <th>1</th>\n",
       "      <td>0.709446</td>\n",
       "      <td>0.339653</td>\n",
       "      <td>-0.279718</td>\n",
       "      <td>0.279938</td>\n",
       "      <td>0</td>\n",
       "      <td>0</td>\n",
       "      <td>0</td>\n",
       "      <td>0</td>\n",
       "      <td>0</td>\n",
       "      <td>0</td>\n",
       "      <td>...</td>\n",
       "      <td>0</td>\n",
       "      <td>0</td>\n",
       "      <td>0</td>\n",
       "      <td>0</td>\n",
       "      <td>0</td>\n",
       "      <td>0</td>\n",
       "      <td>0</td>\n",
       "      <td>-0.674325</td>\n",
       "      <td>1.006831</td>\n",
       "      <td>-0.095007</td>\n",
       "    </tr>\n",
       "    <tr>\n",
       "      <th>2</th>\n",
       "      <td>-2.131893</td>\n",
       "      <td>-1.726509</td>\n",
       "      <td>-1.711611</td>\n",
       "      <td>-1.799430</td>\n",
       "      <td>0</td>\n",
       "      <td>0</td>\n",
       "      <td>0</td>\n",
       "      <td>0</td>\n",
       "      <td>0</td>\n",
       "      <td>0</td>\n",
       "      <td>...</td>\n",
       "      <td>0</td>\n",
       "      <td>0</td>\n",
       "      <td>0</td>\n",
       "      <td>0</td>\n",
       "      <td>1</td>\n",
       "      <td>0</td>\n",
       "      <td>0</td>\n",
       "      <td>-1.293945</td>\n",
       "      <td>-0.960852</td>\n",
       "      <td>2.955111</td>\n",
       "    </tr>\n",
       "    <tr>\n",
       "      <th>3</th>\n",
       "      <td>0.070674</td>\n",
       "      <td>1.072635</td>\n",
       "      <td>0.736226</td>\n",
       "      <td>0.499698</td>\n",
       "      <td>0</td>\n",
       "      <td>0</td>\n",
       "      <td>0</td>\n",
       "      <td>0</td>\n",
       "      <td>0</td>\n",
       "      <td>0</td>\n",
       "      <td>...</td>\n",
       "      <td>0</td>\n",
       "      <td>0</td>\n",
       "      <td>0</td>\n",
       "      <td>0</td>\n",
       "      <td>0</td>\n",
       "      <td>0</td>\n",
       "      <td>0</td>\n",
       "      <td>-0.196338</td>\n",
       "      <td>-0.960852</td>\n",
       "      <td>0.789702</td>\n",
       "    </tr>\n",
       "    <tr>\n",
       "      <th>4</th>\n",
       "      <td>-0.292725</td>\n",
       "      <td>0.039555</td>\n",
       "      <td>-0.279718</td>\n",
       "      <td>0.178434</td>\n",
       "      <td>0</td>\n",
       "      <td>0</td>\n",
       "      <td>0</td>\n",
       "      <td>0</td>\n",
       "      <td>0</td>\n",
       "      <td>0</td>\n",
       "      <td>...</td>\n",
       "      <td>0</td>\n",
       "      <td>0</td>\n",
       "      <td>0</td>\n",
       "      <td>0</td>\n",
       "      <td>0</td>\n",
       "      <td>1</td>\n",
       "      <td>0</td>\n",
       "      <td>0.547946</td>\n",
       "      <td>-0.960852</td>\n",
       "      <td>-0.011064</td>\n",
       "    </tr>\n",
       "  </tbody>\n",
       "</table>\n",
       "<p>5 rows × 22 columns</p>\n",
       "</div>"
      ],
      "text/plain": [
       "   sqft_living_log  bathrooms_log  bedrooms_log  price_log  water_1.0  \\\n",
       "0        -1.125556      -1.726509     -0.279718  -1.401998          0   \n",
       "1         0.709446       0.339653     -0.279718   0.279938          0   \n",
       "2        -2.131893      -1.726509     -1.711611  -1.799430          0   \n",
       "3         0.070674       1.072635      0.736226   0.499698          0   \n",
       "4        -0.292725       0.039555     -0.279718   0.178434          0   \n",
       "\n",
       "   view_EXCELLENT  view_FAIR  view_GOOD  condition_Fair  condition_Good  ...  \\\n",
       "0               0          0          0               0               0  ...   \n",
       "1               0          0          0               0               0  ...   \n",
       "2               0          0          0               0               0  ...   \n",
       "3               0          0          0               0               0  ...   \n",
       "4               0          0          0               0               0  ...   \n",
       "\n",
       "   grade_12 Luxury  grade_13 Mansion  grade_4 Low  grade_5 Fair  \\\n",
       "0                0                 0            0             0   \n",
       "1                0                 0            0             0   \n",
       "2                0                 0            0             0   \n",
       "3                0                 0            0             0   \n",
       "4                0                 0            0             0   \n",
       "\n",
       "   grade_6 Low Average  grade_8 Good  grade_9 Better  yr_built_log  \\\n",
       "0                    0             0               0     -0.537409   \n",
       "1                    0             0               0     -0.674325   \n",
       "2                    1             0               0     -1.293945   \n",
       "3                    0             0               0     -0.196338   \n",
       "4                    0             1               0      0.547946   \n",
       "\n",
       "   floors_log     bd*ba  \n",
       "0   -0.960852  0.482936  \n",
       "1    1.006831 -0.095007  \n",
       "2   -0.960852  2.955111  \n",
       "3   -0.960852  0.789702  \n",
       "4   -0.960852 -0.011064  \n",
       "\n",
       "[5 rows x 22 columns]"
      ]
     },
     "execution_count": 142,
     "metadata": {},
     "output_type": "execute_result"
    }
   ],
   "source": [
    "product_features['bd*ba'\n",
    "                ] = remove_outliers['bedrooms_log'\n",
    "                ] * remove_outliers['bathrooms_log']\n",
    "\n",
    "product_features.head()"
   ]
  },
  {
   "cell_type": "code",
   "execution_count": 145,
   "metadata": {
    "ExecuteTime": {
     "end_time": "2022-02-25T15:27:48.800716Z",
     "start_time": "2022-02-25T15:27:48.758016Z"
    }
   },
   "outputs": [
    {
     "data": {
      "text/plain": [
       "-0.009202932148371685"
      ]
     },
     "execution_count": 145,
     "metadata": {},
     "output_type": "execute_result"
    }
   ],
   "source": [
    "# R-squared for product of bedrooms and bathrooms with price\n",
    "product_features.corr()['price_log']['bd*ba']"
   ]
  },
  {
   "cell_type": "code",
   "execution_count": 146,
   "metadata": {
    "ExecuteTime": {
     "end_time": "2022-02-25T15:27:49.769018Z",
     "start_time": "2022-02-25T15:27:49.724058Z"
    }
   },
   "outputs": [
    {
     "data": {
      "text/plain": [
       "0.3353511256201753"
      ]
     },
     "execution_count": 146,
     "metadata": {},
     "output_type": "execute_result"
    }
   ],
   "source": [
    "# R-squared for bedrooms and price\n",
    "product_features.corr()['price_log']['bedrooms_log']"
   ]
  },
  {
   "cell_type": "code",
   "execution_count": 148,
   "metadata": {
    "ExecuteTime": {
     "end_time": "2022-02-25T15:27:55.425045Z",
     "start_time": "2022-02-25T15:27:55.379383Z"
    }
   },
   "outputs": [
    {
     "data": {
      "text/plain": [
       "0.5113794696381216"
      ]
     },
     "execution_count": 148,
     "metadata": {},
     "output_type": "execute_result"
    }
   ],
   "source": [
    "# R-squared for bathrooms and price\n",
    "product_features.corr()['price_log']['bathrooms_log']"
   ]
  },
  {
   "cell_type": "markdown",
   "metadata": {},
   "source": [
    "### Product of bedrooms and bathrooms reduces correlation.\n",
    "* Correlation between bedrooms and bathrooms reduced when using product of bed*bath."
   ]
  },
  {
   "cell_type": "markdown",
   "metadata": {},
   "source": [
    "# Interpret the Final Model\n",
    "* The Fourth Model after price outliers were dropped is the final model as it met the assumptions for linearity and it provides relevant inferential information, if not an actual change in price."
   ]
  },
  {
   "cell_type": "code",
   "execution_count": 326,
   "metadata": {
    "ExecuteTime": {
     "end_time": "2022-02-25T17:29:06.074512Z",
     "start_time": "2022-02-25T17:29:06.064032Z"
    }
   },
   "outputs": [],
   "source": [
    "final_model = remove_outliers.drop(['bd*ba'], axis=1)\n",
    "\n",
    "X_final = final_model.drop(['price_log'], axis=1)\n",
    "y_final = final_model['price_log']"
   ]
  },
  {
   "cell_type": "code",
   "execution_count": 327,
   "metadata": {
    "ExecuteTime": {
     "end_time": "2022-02-25T17:29:06.965116Z",
     "start_time": "2022-02-25T17:29:06.888451Z"
    }
   },
   "outputs": [
    {
     "name": "stdout",
     "output_type": "stream",
     "text": [
      "Final Check of X data frame:\n",
      "\n",
      "<class 'pandas.core.frame.DataFrame'>\n",
      "Int64Index: 21366 entries, 0 to 21596\n",
      "Data columns (total 20 columns):\n",
      " #   Column               Non-Null Count  Dtype  \n",
      "---  ------               --------------  -----  \n",
      " 0   sqft_living_log      21366 non-null  float64\n",
      " 1   bathrooms_log        21366 non-null  float64\n",
      " 2   bedrooms_log         21366 non-null  float64\n",
      " 3   water_1.0            21366 non-null  uint8  \n",
      " 4   view_EXCELLENT       21366 non-null  uint8  \n",
      " 5   view_FAIR            21366 non-null  uint8  \n",
      " 6   view_GOOD            21366 non-null  uint8  \n",
      " 7   condition_Fair       21366 non-null  uint8  \n",
      " 8   condition_Good       21366 non-null  uint8  \n",
      " 9   condition_Very Good  21366 non-null  uint8  \n",
      " 10  grade_11 Excellent   21366 non-null  uint8  \n",
      " 11  grade_12 Luxury      21366 non-null  uint8  \n",
      " 12  grade_13 Mansion     21366 non-null  uint8  \n",
      " 13  grade_4 Low          21366 non-null  uint8  \n",
      " 14  grade_5 Fair         21366 non-null  uint8  \n",
      " 15  grade_6 Low Average  21366 non-null  uint8  \n",
      " 16  grade_8 Good         21366 non-null  uint8  \n",
      " 17  grade_9 Better       21366 non-null  uint8  \n",
      " 18  yr_built_log         21366 non-null  float64\n",
      " 19  floors_log           21366 non-null  float64\n",
      "dtypes: float64(5), uint8(15)\n",
      "memory usage: 1.3 MB\n",
      "None\n",
      "\n",
      "Final Check of y array:\n",
      "\n",
      "count    21366.000000\n",
      "mean        -0.025880\n",
      "std          0.943668\n",
      "min         -2.814037\n",
      "25%         -0.706735\n",
      "50%         -0.059268\n",
      "75%          0.597516\n",
      "max          2.783061\n",
      "Name: price_log, dtype: float64\n"
     ]
    }
   ],
   "source": [
    "print('Final Check of X data frame:')\n",
    "print()\n",
    "print(X_final.info())\n",
    "print()\n",
    "print('Final Check of y array:')\n",
    "print()\n",
    "print(y_final.describe())"
   ]
  },
  {
   "cell_type": "code",
   "execution_count": 328,
   "metadata": {
    "ExecuteTime": {
     "end_time": "2022-02-25T17:29:25.543561Z",
     "start_time": "2022-02-25T17:29:25.536483Z"
    }
   },
   "outputs": [],
   "source": [
    "X_final = final_model.drop('price_log', axis=1)\n",
    "y_final = final_model['price_log']"
   ]
  },
  {
   "cell_type": "code",
   "execution_count": 329,
   "metadata": {
    "ExecuteTime": {
     "end_time": "2022-02-25T17:29:29.633756Z",
     "start_time": "2022-02-25T17:29:29.594747Z"
    }
   },
   "outputs": [
    {
     "name": "stdout",
     "output_type": "stream",
     "text": [
      "12819 8547 12819 8547\n"
     ]
    }
   ],
   "source": [
    "# Split the data into training and test sets. Use the default split size\n",
    "\n",
    "X_train, X_test, y_train, y_test = train_test_split(X_final,y_final, test_size=.4)\n",
    "\n",
    "# A brief preview of tts\n",
    "print(len(X_train), len(X_test), len(y_train), len(y_test))"
   ]
  },
  {
   "cell_type": "code",
   "execution_count": 330,
   "metadata": {
    "ExecuteTime": {
     "end_time": "2022-02-25T17:29:30.501228Z",
     "start_time": "2022-02-25T17:29:30.425376Z"
    }
   },
   "outputs": [
    {
     "data": {
      "text/plain": [
       "LinearRegression()"
      ]
     },
     "execution_count": 330,
     "metadata": {},
     "output_type": "execute_result"
    }
   ],
   "source": [
    "linreg = LinearRegression()\n",
    "\n",
    "# Fit the model to train data\n",
    "linreg.fit(X_train, y_train)\n",
    "\n",
    "LinearRegression(copy_X=True, fit_intercept=True, n_jobs=None, normalize=False)"
   ]
  },
  {
   "cell_type": "code",
   "execution_count": 331,
   "metadata": {
    "ExecuteTime": {
     "end_time": "2022-02-25T17:29:30.914940Z",
     "start_time": "2022-02-25T17:29:30.876815Z"
    }
   },
   "outputs": [],
   "source": [
    "# Calculate predictions on training and test sets\n",
    "y_hat_train = linreg.predict(X_train)\n",
    "y_hat_test = linreg.predict(X_test)"
   ]
  },
  {
   "cell_type": "code",
   "execution_count": 332,
   "metadata": {
    "ExecuteTime": {
     "end_time": "2022-02-25T17:29:31.260244Z",
     "start_time": "2022-02-25T17:29:31.251931Z"
    }
   },
   "outputs": [],
   "source": [
    "# Calculate residuals\n",
    "train_residuals = y_hat_train - y_train\n",
    "test_residuals = y_hat_test - y_test"
   ]
  },
  {
   "cell_type": "code",
   "execution_count": 333,
   "metadata": {
    "ExecuteTime": {
     "end_time": "2022-02-25T17:29:31.592236Z",
     "start_time": "2022-02-25T17:29:31.583334Z"
    },
    "scrolled": true
   },
   "outputs": [
    {
     "name": "stdout",
     "output_type": "stream",
     "text": [
      "Train Mean Squared Error: 0.3923426130062553\n",
      "Test Mean Squared Error: 0.3959460504795681\n"
     ]
    }
   ],
   "source": [
    "# Calculate training and test MSE\n",
    "train_mse = mean_squared_error(y_train, y_hat_train)\n",
    "test_mse = mean_squared_error(y_test, y_hat_test)\n",
    "print('Train Mean Squared Error:', train_mse)\n",
    "print('Test Mean Squared Error:', test_mse)"
   ]
  },
  {
   "cell_type": "markdown",
   "metadata": {},
   "source": [
    "### Instantiate a Linear Regression model called final_model, then fit it to training data and score it on test data."
   ]
  },
  {
   "cell_type": "code",
   "execution_count": 334,
   "metadata": {
    "ExecuteTime": {
     "end_time": "2022-02-25T17:29:33.138391Z",
     "start_time": "2022-02-25T17:29:33.051061Z"
    }
   },
   "outputs": [
    {
     "data": {
      "text/plain": [
       "0.5535247240039163"
      ]
     },
     "execution_count": 334,
     "metadata": {},
     "output_type": "execute_result"
    }
   ],
   "source": [
    "final_model = LinearRegression()\n",
    "\n",
    "# Fit the model on X_train_final and y_train\n",
    "final_model.fit(X_train, y_train)\n",
    "\n",
    "# Score the model on X_test_final and y_test\n",
    "# (use the built-in .score method)\n",
    "final_model.score(X_test, y_test)"
   ]
  },
  {
   "cell_type": "markdown",
   "metadata": {},
   "source": [
    "## Investigating Normality"
   ]
  },
  {
   "cell_type": "code",
   "execution_count": 335,
   "metadata": {
    "ExecuteTime": {
     "end_time": "2022-02-25T17:29:34.823897Z",
     "start_time": "2022-02-25T17:29:34.545928Z"
    },
    "scrolled": true
   },
   "outputs": [
    {
     "data": {
      "image/png": "[encoded data removed]",
      "text/plain": [
       "<Figure size 432x288 with 1 Axes>"
      ]
     },
     "metadata": {
      "needs_background": "light"
     },
     "output_type": "display_data"
    }
   ],
   "source": [
    "import scipy.stats as stats\n",
    "\n",
    "preds = final_model.predict(X_test)\n",
    "\n",
    "residuals = (y_test - preds)\n",
    "sm.graphics.qqplot(residuals, dist=stats.norm, line='45', fit=True);"
   ]
  },
  {
   "cell_type": "markdown",
   "metadata": {},
   "source": [
    "### Normality Assumption Met\n",
    "* Removing the outlier values improved the normality of this model.\n",
    "* 0.838% or less than 1% of data was removed to improve the normality assumption."
   ]
  },
  {
   "cell_type": "markdown",
   "metadata": {},
   "source": [
    "## Investigating Multicollinearity (independence assumption)"
   ]
  },
  {
   "cell_type": "code",
   "execution_count": 336,
   "metadata": {
    "ExecuteTime": {
     "end_time": "2022-02-25T17:29:37.786627Z",
     "start_time": "2022-02-25T17:29:37.099560Z"
    },
    "scrolled": true
   },
   "outputs": [
    {
     "data": {
      "text/plain": [
       "sqft_living_log        3.473276\n",
       "bathrooms_log          3.253285\n",
       "bedrooms_log           1.830718\n",
       "water_1.0              1.423575\n",
       "view_EXCELLENT         1.448409\n",
       "view_FAIR              1.024205\n",
       "view_GOOD              1.060426\n",
       "condition_Fair         1.029331\n",
       "condition_Good         1.312382\n",
       "condition_Very Good    1.161836\n",
       "grade_11 Excellent     1.117456\n",
       "grade_12 Luxury        1.031392\n",
       "grade_13 Mansion       1.000871\n",
       "grade_4 Low            1.020427\n",
       "grade_5 Fair           1.087044\n",
       "grade_6 Low Average    1.355909\n",
       "grade_8 Good           1.255256\n",
       "grade_9 Better         1.322912\n",
       "yr_built_log           1.808723\n",
       "floors_log             1.570789\n",
       "Name: Variance Inflation Factor, dtype: float64"
      ]
     },
     "execution_count": 336,
     "metadata": {},
     "output_type": "execute_result"
    }
   ],
   "source": [
    "# estimate multicollinarity with Variance Inflation Factor (VIF)\n",
    "vif = [variance_inflation_factor(X_train.values, i) for i in range(X_train.shape[1])]\n",
    "pd.Series(vif, index=X_train.columns, name=\"Variance Inflation Factor\")"
   ]
  },
  {
   "cell_type": "markdown",
   "metadata": {},
   "source": [
    "### Removed predictors with score greater than 5\n",
    "* view_NONE (12.4)\n",
    "* grade_7 Average (7.42)"
   ]
  },
  {
   "cell_type": "markdown",
   "metadata": {},
   "source": [
    "## Investigating Homoscedasticity"
   ]
  },
  {
   "cell_type": "code",
   "execution_count": 337,
   "metadata": {
    "ExecuteTime": {
     "end_time": "2022-02-25T17:29:38.910044Z",
     "start_time": "2022-02-25T17:29:38.645099Z"
    },
    "scrolled": true
   },
   "outputs": [
    {
     "data": {
      "image/png": "[encoded data removed]",
      "text/plain": [
       "<Figure size 432x288 with 1 Axes>"
      ]
     },
     "metadata": {
      "needs_background": "light"
     },
     "output_type": "display_data"
    }
   ],
   "source": [
    "fig, ax = plt.subplots()\n",
    "\n",
    "ax.scatter(preds, residuals, alpha=0.5)\n",
    "ax.plot(preds, [0 for i in range(len(X_test))])\n",
    "ax.set_xlabel(\"Predicted Value\")\n",
    "ax.set_ylabel(\"Actual - Predicted Value\");"
   ]
  },
  {
   "cell_type": "markdown",
   "metadata": {},
   "source": [
    "### Homoscedasticity assumption is met\n",
    "* Removing a few outliers did slightly improve the distribution.   "
   ]
  },
  {
   "cell_type": "markdown",
   "metadata": {},
   "source": [
    "# Alternative Models"
   ]
  },
  {
   "cell_type": "markdown",
   "metadata": {
    "ExecuteTime": {
     "end_time": "2022-02-24T20:49:01.922604Z",
     "start_time": "2022-02-24T20:49:01.918955Z"
    }
   },
   "source": [
    "## Fifth and non-normal NOT final Model\n",
    "* Provides values that can be used to predict price, but not compared well to one another."
   ]
  },
  {
   "cell_type": "code",
   "execution_count": 338,
   "metadata": {
    "ExecuteTime": {
     "end_time": "2022-02-25T17:29:41.677837Z",
     "start_time": "2022-02-25T17:29:41.498406Z"
    }
   },
   "outputs": [
    {
     "data": {
      "text/html": [
       "<table class=\"simpletable\">\n",
       "<caption>OLS Regression Results</caption>\n",
       "<tr>\n",
       "  <th>Dep. Variable:</th>          <td>price</td>      <th>  R-squared:         </th>  <td>   0.642</td>  \n",
       "</tr>\n",
       "<tr>\n",
       "  <th>Model:</th>                   <td>OLS</td>       <th>  Adj. R-squared:    </th>  <td>   0.642</td>  \n",
       "</tr>\n",
       "<tr>\n",
       "  <th>Method:</th>             <td>Least Squares</td>  <th>  F-statistic:       </th>  <td>   1935.</td>  \n",
       "</tr>\n",
       "<tr>\n",
       "  <th>Date:</th>             <td>Fri, 25 Feb 2022</td> <th>  Prob (F-statistic):</th>   <td>  0.00</td>   \n",
       "</tr>\n",
       "<tr>\n",
       "  <th>Time:</th>                 <td>10:29:41</td>     <th>  Log-Likelihood:    </th> <td>-2.9630e+05</td>\n",
       "</tr>\n",
       "<tr>\n",
       "  <th>No. Observations:</th>      <td> 21597</td>      <th>  AIC:               </th>  <td>5.926e+05</td> \n",
       "</tr>\n",
       "<tr>\n",
       "  <th>Df Residuals:</th>          <td> 21576</td>      <th>  BIC:               </th>  <td>5.928e+05</td> \n",
       "</tr>\n",
       "<tr>\n",
       "  <th>Df Model:</th>              <td>    20</td>      <th>                     </th>      <td> </td>     \n",
       "</tr>\n",
       "<tr>\n",
       "  <th>Covariance Type:</th>      <td>nonrobust</td>    <th>                     </th>      <td> </td>     \n",
       "</tr>\n",
       "</table>\n",
       "<table class=\"simpletable\">\n",
       "<tr>\n",
       "           <td></td>              <th>coef</th>     <th>std err</th>      <th>t</th>      <th>P>|t|</th>  <th>[0.025</th>    <th>0.975]</th>  \n",
       "</tr>\n",
       "<tr>\n",
       "  <th>const</th>               <td>  6.09e+06</td> <td> 1.33e+05</td> <td>   45.817</td> <td> 0.000</td> <td> 5.83e+06</td> <td> 6.35e+06</td>\n",
       "</tr>\n",
       "<tr>\n",
       "  <th>sqft_living</th>         <td>  211.4594</td> <td>    3.018</td> <td>   70.066</td> <td> 0.000</td> <td>  205.544</td> <td>  217.375</td>\n",
       "</tr>\n",
       "<tr>\n",
       "  <th>bathrooms</th>           <td> 5.557e+04</td> <td> 3512.546</td> <td>   15.821</td> <td> 0.000</td> <td> 4.87e+04</td> <td> 6.25e+04</td>\n",
       "</tr>\n",
       "<tr>\n",
       "  <th>bedrooms</th>            <td> -4.22e+04</td> <td> 2071.209</td> <td>  -20.374</td> <td> 0.000</td> <td>-4.63e+04</td> <td>-3.81e+04</td>\n",
       "</tr>\n",
       "<tr>\n",
       "  <th>yr_built</th>            <td>-3088.8167</td> <td>   68.299</td> <td>  -45.225</td> <td> 0.000</td> <td>-3222.687</td> <td>-2954.946</td>\n",
       "</tr>\n",
       "<tr>\n",
       "  <th>floors</th>              <td> 5.644e+04</td> <td> 3495.164</td> <td>   16.148</td> <td> 0.000</td> <td> 4.96e+04</td> <td> 6.33e+04</td>\n",
       "</tr>\n",
       "<tr>\n",
       "  <th>water_1.0</th>           <td>  5.14e+05</td> <td> 2.23e+04</td> <td>   23.072</td> <td> 0.000</td> <td>  4.7e+05</td> <td> 5.58e+05</td>\n",
       "</tr>\n",
       "<tr>\n",
       "  <th>view_EXCELLENT</th>      <td> 2.892e+05</td> <td> 1.54e+04</td> <td>   18.801</td> <td> 0.000</td> <td> 2.59e+05</td> <td> 3.19e+05</td>\n",
       "</tr>\n",
       "<tr>\n",
       "  <th>view_FAIR</th>           <td> 1.261e+05</td> <td> 1.23e+04</td> <td>   10.265</td> <td> 0.000</td> <td> 1.02e+05</td> <td>  1.5e+05</td>\n",
       "</tr>\n",
       "<tr>\n",
       "  <th>view_GOOD</th>           <td> 1.308e+05</td> <td> 1.01e+04</td> <td>   12.947</td> <td> 0.000</td> <td> 1.11e+05</td> <td> 1.51e+05</td>\n",
       "</tr>\n",
       "<tr>\n",
       "  <th>condition_Fair</th>      <td>-3.817e+04</td> <td> 1.71e+04</td> <td>   -2.226</td> <td> 0.026</td> <td>-7.18e+04</td> <td>-4561.612</td>\n",
       "</tr>\n",
       "<tr>\n",
       "  <th>condition_Good</th>      <td> 1.042e+04</td> <td> 3714.662</td> <td>    2.804</td> <td> 0.005</td> <td> 3135.982</td> <td> 1.77e+04</td>\n",
       "</tr>\n",
       "<tr>\n",
       "  <th>condition_Very Good</th> <td> 4.836e+04</td> <td> 5991.101</td> <td>    8.073</td> <td> 0.000</td> <td> 3.66e+04</td> <td> 6.01e+04</td>\n",
       "</tr>\n",
       "<tr>\n",
       "  <th>grade_11 Excellent</th>  <td> 4.297e+05</td> <td> 1.26e+04</td> <td>   34.137</td> <td> 0.000</td> <td> 4.05e+05</td> <td> 4.54e+05</td>\n",
       "</tr>\n",
       "<tr>\n",
       "  <th>grade_12 Luxury</th>     <td> 8.079e+05</td> <td> 2.49e+04</td> <td>   32.485</td> <td> 0.000</td> <td> 7.59e+05</td> <td> 8.57e+05</td>\n",
       "</tr>\n",
       "<tr>\n",
       "  <th>grade_13 Mansion</th>    <td> 1.866e+06</td> <td> 6.24e+04</td> <td>   29.895</td> <td> 0.000</td> <td> 1.74e+06</td> <td> 1.99e+06</td>\n",
       "</tr>\n",
       "<tr>\n",
       "  <th>grade_4 Low</th>         <td>-9.048e+04</td> <td> 4.26e+04</td> <td>   -2.124</td> <td> 0.034</td> <td>-1.74e+05</td> <td>-6982.078</td>\n",
       "</tr>\n",
       "<tr>\n",
       "  <th>grade_5 Fair</th>        <td>-1.165e+05</td> <td> 1.46e+04</td> <td>   -7.992</td> <td> 0.000</td> <td>-1.45e+05</td> <td>-8.79e+04</td>\n",
       "</tr>\n",
       "<tr>\n",
       "  <th>grade_6 Low Average</th> <td>-7.276e+04</td> <td> 5728.203</td> <td>  -12.702</td> <td> 0.000</td> <td> -8.4e+04</td> <td>-6.15e+04</td>\n",
       "</tr>\n",
       "<tr>\n",
       "  <th>grade_8 Good</th>        <td> 1.326e+04</td> <td> 3765.672</td> <td>    3.521</td> <td> 0.000</td> <td> 5879.082</td> <td> 2.06e+04</td>\n",
       "</tr>\n",
       "<tr>\n",
       "  <th>grade_9 Better</th>      <td>     1e+05</td> <td> 5428.994</td> <td>   18.422</td> <td> 0.000</td> <td> 8.94e+04</td> <td> 1.11e+05</td>\n",
       "</tr>\n",
       "</table>\n",
       "<table class=\"simpletable\">\n",
       "<tr>\n",
       "  <th>Omnibus:</th>       <td>10877.567</td> <th>  Durbin-Watson:     </th>  <td>   1.976</td> \n",
       "</tr>\n",
       "<tr>\n",
       "  <th>Prob(Omnibus):</th>  <td> 0.000</td>   <th>  Jarque-Bera (JB):  </th> <td>254020.268</td>\n",
       "</tr>\n",
       "<tr>\n",
       "  <th>Skew:</th>           <td> 1.914</td>   <th>  Prob(JB):          </th>  <td>    0.00</td> \n",
       "</tr>\n",
       "<tr>\n",
       "  <th>Kurtosis:</th>       <td>19.359</td>   <th>  Cond. No.          </th>  <td>2.62e+05</td> \n",
       "</tr>\n",
       "</table><br/><br/>Notes:<br/>[1] Standard Errors assume that the covariance matrix of the errors is correctly specified.<br/>[2] The condition number is large, 2.62e+05. This might indicate that there are<br/>strong multicollinearity or other numerical problems."
      ],
      "text/plain": [
       "<class 'statsmodels.iolib.summary.Summary'>\n",
       "\"\"\"\n",
       "                            OLS Regression Results                            \n",
       "==============================================================================\n",
       "Dep. Variable:                  price   R-squared:                       0.642\n",
       "Model:                            OLS   Adj. R-squared:                  0.642\n",
       "Method:                 Least Squares   F-statistic:                     1935.\n",
       "Date:                Fri, 25 Feb 2022   Prob (F-statistic):               0.00\n",
       "Time:                        10:29:41   Log-Likelihood:            -2.9630e+05\n",
       "No. Observations:               21597   AIC:                         5.926e+05\n",
       "Df Residuals:                   21576   BIC:                         5.928e+05\n",
       "Df Model:                          20                                         \n",
       "Covariance Type:            nonrobust                                         \n",
       "=======================================================================================\n",
       "                          coef    std err          t      P>|t|      [0.025      0.975]\n",
       "---------------------------------------------------------------------------------------\n",
       "const                 6.09e+06   1.33e+05     45.817      0.000    5.83e+06    6.35e+06\n",
       "sqft_living           211.4594      3.018     70.066      0.000     205.544     217.375\n",
       "bathrooms            5.557e+04   3512.546     15.821      0.000    4.87e+04    6.25e+04\n",
       "bedrooms             -4.22e+04   2071.209    -20.374      0.000   -4.63e+04   -3.81e+04\n",
       "yr_built            -3088.8167     68.299    -45.225      0.000   -3222.687   -2954.946\n",
       "floors               5.644e+04   3495.164     16.148      0.000    4.96e+04    6.33e+04\n",
       "water_1.0             5.14e+05   2.23e+04     23.072      0.000     4.7e+05    5.58e+05\n",
       "view_EXCELLENT       2.892e+05   1.54e+04     18.801      0.000    2.59e+05    3.19e+05\n",
       "view_FAIR            1.261e+05   1.23e+04     10.265      0.000    1.02e+05     1.5e+05\n",
       "view_GOOD            1.308e+05   1.01e+04     12.947      0.000    1.11e+05    1.51e+05\n",
       "condition_Fair      -3.817e+04   1.71e+04     -2.226      0.026   -7.18e+04   -4561.612\n",
       "condition_Good       1.042e+04   3714.662      2.804      0.005    3135.982    1.77e+04\n",
       "condition_Very Good  4.836e+04   5991.101      8.073      0.000    3.66e+04    6.01e+04\n",
       "grade_11 Excellent   4.297e+05   1.26e+04     34.137      0.000    4.05e+05    4.54e+05\n",
       "grade_12 Luxury      8.079e+05   2.49e+04     32.485      0.000    7.59e+05    8.57e+05\n",
       "grade_13 Mansion     1.866e+06   6.24e+04     29.895      0.000    1.74e+06    1.99e+06\n",
       "grade_4 Low         -9.048e+04   4.26e+04     -2.124      0.034   -1.74e+05   -6982.078\n",
       "grade_5 Fair        -1.165e+05   1.46e+04     -7.992      0.000   -1.45e+05   -8.79e+04\n",
       "grade_6 Low Average -7.276e+04   5728.203    -12.702      0.000    -8.4e+04   -6.15e+04\n",
       "grade_8 Good         1.326e+04   3765.672      3.521      0.000    5879.082    2.06e+04\n",
       "grade_9 Better           1e+05   5428.994     18.422      0.000    8.94e+04    1.11e+05\n",
       "==============================================================================\n",
       "Omnibus:                    10877.567   Durbin-Watson:                   1.976\n",
       "Prob(Omnibus):                  0.000   Jarque-Bera (JB):           254020.268\n",
       "Skew:                           1.914   Prob(JB):                         0.00\n",
       "Kurtosis:                      19.359   Cond. No.                     2.62e+05\n",
       "==============================================================================\n",
       "\n",
       "Notes:\n",
       "[1] Standard Errors assume that the covariance matrix of the errors is correctly specified.\n",
       "[2] The condition number is large, 2.62e+05. This might indicate that there are\n",
       "strong multicollinearity or other numerical problems.\n",
       "\"\"\""
      ]
     },
     "execution_count": 338,
     "metadata": {},
     "output_type": "execute_result"
    }
   ],
   "source": [
    "# Comparing to Fourth Model Summary\n",
    "X5 = fifth_model.drop(['price'], axis=1)\n",
    "y5 = fifth_model['price']\n",
    "\n",
    "X_int = sm.add_constant(X5)\n",
    "model = sm.OLS(y5,X_int).fit()\n",
    "model.summary()"
   ]
  },
  {
   "cell_type": "markdown",
   "metadata": {},
   "source": [
    "## Logged Values Model"
   ]
  },
  {
   "cell_type": "markdown",
   "metadata": {},
   "source": [
    "### Create logged_df from prior logged data frames and ohe predictors"
   ]
  },
  {
   "cell_type": "code",
   "execution_count": 339,
   "metadata": {
    "ExecuteTime": {
     "end_time": "2022-02-25T17:29:42.755911Z",
     "start_time": "2022-02-25T17:29:42.742137Z"
    },
    "scrolled": true
   },
   "outputs": [
    {
     "data": {
      "text/html": [
       "<div>\n",
       "<style scoped>\n",
       "    .dataframe tbody tr th:only-of-type {\n",
       "        vertical-align: middle;\n",
       "    }\n",
       "\n",
       "    .dataframe tbody tr th {\n",
       "        vertical-align: top;\n",
       "    }\n",
       "\n",
       "    .dataframe thead th {\n",
       "        text-align: right;\n",
       "    }\n",
       "</style>\n",
       "<table border=\"1\" class=\"dataframe\">\n",
       "  <thead>\n",
       "    <tr style=\"text-align: right;\">\n",
       "      <th></th>\n",
       "      <th>sqft_living_log</th>\n",
       "      <th>bathrooms_log</th>\n",
       "      <th>bedrooms_log</th>\n",
       "      <th>price_log</th>\n",
       "    </tr>\n",
       "  </thead>\n",
       "  <tbody>\n",
       "    <tr>\n",
       "      <th>0</th>\n",
       "      <td>7.073270</td>\n",
       "      <td>0.000000</td>\n",
       "      <td>1.098612</td>\n",
       "      <td>12.309982</td>\n",
       "    </tr>\n",
       "    <tr>\n",
       "      <th>1</th>\n",
       "      <td>7.851661</td>\n",
       "      <td>0.810930</td>\n",
       "      <td>1.098612</td>\n",
       "      <td>13.195614</td>\n",
       "    </tr>\n",
       "    <tr>\n",
       "      <th>2</th>\n",
       "      <td>6.646391</td>\n",
       "      <td>0.000000</td>\n",
       "      <td>0.693147</td>\n",
       "      <td>12.100712</td>\n",
       "    </tr>\n",
       "    <tr>\n",
       "      <th>3</th>\n",
       "      <td>7.580700</td>\n",
       "      <td>1.098612</td>\n",
       "      <td>1.386294</td>\n",
       "      <td>13.311329</td>\n",
       "    </tr>\n",
       "    <tr>\n",
       "      <th>4</th>\n",
       "      <td>7.426549</td>\n",
       "      <td>0.693147</td>\n",
       "      <td>1.098612</td>\n",
       "      <td>13.142166</td>\n",
       "    </tr>\n",
       "  </tbody>\n",
       "</table>\n",
       "</div>"
      ],
      "text/plain": [
       "   sqft_living_log  bathrooms_log  bedrooms_log  price_log\n",
       "0         7.073270       0.000000      1.098612  12.309982\n",
       "1         7.851661       0.810930      1.098612  13.195614\n",
       "2         6.646391       0.000000      0.693147  12.100712\n",
       "3         7.580700       1.098612      1.386294  13.311329\n",
       "4         7.426549       0.693147      1.098612  13.142166"
      ]
     },
     "execution_count": 339,
     "metadata": {},
     "output_type": "execute_result"
    }
   ],
   "source": [
    "# check house_log df\n",
    "house_log.head()"
   ]
  },
  {
   "cell_type": "code",
   "execution_count": 340,
   "metadata": {
    "ExecuteTime": {
     "end_time": "2022-02-25T17:29:43.122657Z",
     "start_time": "2022-02-25T17:29:43.091986Z"
    },
    "scrolled": true
   },
   "outputs": [
    {
     "data": {
      "text/html": [
       "<div>\n",
       "<style scoped>\n",
       "    .dataframe tbody tr th:only-of-type {\n",
       "        vertical-align: middle;\n",
       "    }\n",
       "\n",
       "    .dataframe tbody tr th {\n",
       "        vertical-align: top;\n",
       "    }\n",
       "\n",
       "    .dataframe thead th {\n",
       "        text-align: right;\n",
       "    }\n",
       "</style>\n",
       "<table border=\"1\" class=\"dataframe\">\n",
       "  <thead>\n",
       "    <tr style=\"text-align: right;\">\n",
       "      <th></th>\n",
       "      <th>yr_built_log</th>\n",
       "      <th>floors_log</th>\n",
       "    </tr>\n",
       "  </thead>\n",
       "  <tbody>\n",
       "    <tr>\n",
       "      <th>0</th>\n",
       "      <td>7.578145</td>\n",
       "      <td>0.000000</td>\n",
       "    </tr>\n",
       "    <tr>\n",
       "      <th>1</th>\n",
       "      <td>7.576097</td>\n",
       "      <td>0.693147</td>\n",
       "    </tr>\n",
       "    <tr>\n",
       "      <th>2</th>\n",
       "      <td>7.566828</td>\n",
       "      <td>0.000000</td>\n",
       "    </tr>\n",
       "    <tr>\n",
       "      <th>3</th>\n",
       "      <td>7.583248</td>\n",
       "      <td>0.000000</td>\n",
       "    </tr>\n",
       "    <tr>\n",
       "      <th>4</th>\n",
       "      <td>7.594381</td>\n",
       "      <td>0.000000</td>\n",
       "    </tr>\n",
       "  </tbody>\n",
       "</table>\n",
       "</div>"
      ],
      "text/plain": [
       "   yr_built_log  floors_log\n",
       "0      7.578145    0.000000\n",
       "1      7.576097    0.693147\n",
       "2      7.566828    0.000000\n",
       "3      7.583248    0.000000\n",
       "4      7.594381    0.000000"
      ]
     },
     "execution_count": 340,
     "metadata": {},
     "output_type": "execute_result"
    }
   ],
   "source": [
    "# check house_log2 df\n",
    "house_log2.head()"
   ]
  },
  {
   "cell_type": "code",
   "execution_count": 341,
   "metadata": {
    "ExecuteTime": {
     "end_time": "2022-02-25T17:29:43.693218Z",
     "start_time": "2022-02-25T17:29:43.675769Z"
    },
    "scrolled": true
   },
   "outputs": [
    {
     "data": {
      "text/html": [
       "<div>\n",
       "<style scoped>\n",
       "    .dataframe tbody tr th:only-of-type {\n",
       "        vertical-align: middle;\n",
       "    }\n",
       "\n",
       "    .dataframe tbody tr th {\n",
       "        vertical-align: top;\n",
       "    }\n",
       "\n",
       "    .dataframe thead th {\n",
       "        text-align: right;\n",
       "    }\n",
       "</style>\n",
       "<table border=\"1\" class=\"dataframe\">\n",
       "  <thead>\n",
       "    <tr style=\"text-align: right;\">\n",
       "      <th></th>\n",
       "      <th>water_1.0</th>\n",
       "      <th>view_EXCELLENT</th>\n",
       "      <th>view_FAIR</th>\n",
       "      <th>view_GOOD</th>\n",
       "      <th>view_NONE</th>\n",
       "      <th>condition_Fair</th>\n",
       "      <th>condition_Good</th>\n",
       "      <th>condition_Poor</th>\n",
       "      <th>condition_Very Good</th>\n",
       "      <th>grade_11 Excellent</th>\n",
       "      <th>grade_12 Luxury</th>\n",
       "      <th>grade_13 Mansion</th>\n",
       "      <th>grade_3 Poor</th>\n",
       "      <th>grade_4 Low</th>\n",
       "      <th>grade_5 Fair</th>\n",
       "      <th>grade_6 Low Average</th>\n",
       "      <th>grade_7 Average</th>\n",
       "      <th>grade_8 Good</th>\n",
       "      <th>grade_9 Better</th>\n",
       "    </tr>\n",
       "  </thead>\n",
       "  <tbody>\n",
       "    <tr>\n",
       "      <th>0</th>\n",
       "      <td>0</td>\n",
       "      <td>0</td>\n",
       "      <td>0</td>\n",
       "      <td>0</td>\n",
       "      <td>1</td>\n",
       "      <td>0</td>\n",
       "      <td>0</td>\n",
       "      <td>0</td>\n",
       "      <td>0</td>\n",
       "      <td>0</td>\n",
       "      <td>0</td>\n",
       "      <td>0</td>\n",
       "      <td>0</td>\n",
       "      <td>0</td>\n",
       "      <td>0</td>\n",
       "      <td>0</td>\n",
       "      <td>1</td>\n",
       "      <td>0</td>\n",
       "      <td>0</td>\n",
       "    </tr>\n",
       "    <tr>\n",
       "      <th>1</th>\n",
       "      <td>0</td>\n",
       "      <td>0</td>\n",
       "      <td>0</td>\n",
       "      <td>0</td>\n",
       "      <td>1</td>\n",
       "      <td>0</td>\n",
       "      <td>0</td>\n",
       "      <td>0</td>\n",
       "      <td>0</td>\n",
       "      <td>0</td>\n",
       "      <td>0</td>\n",
       "      <td>0</td>\n",
       "      <td>0</td>\n",
       "      <td>0</td>\n",
       "      <td>0</td>\n",
       "      <td>0</td>\n",
       "      <td>1</td>\n",
       "      <td>0</td>\n",
       "      <td>0</td>\n",
       "    </tr>\n",
       "    <tr>\n",
       "      <th>2</th>\n",
       "      <td>0</td>\n",
       "      <td>0</td>\n",
       "      <td>0</td>\n",
       "      <td>0</td>\n",
       "      <td>1</td>\n",
       "      <td>0</td>\n",
       "      <td>0</td>\n",
       "      <td>0</td>\n",
       "      <td>0</td>\n",
       "      <td>0</td>\n",
       "      <td>0</td>\n",
       "      <td>0</td>\n",
       "      <td>0</td>\n",
       "      <td>0</td>\n",
       "      <td>0</td>\n",
       "      <td>1</td>\n",
       "      <td>0</td>\n",
       "      <td>0</td>\n",
       "      <td>0</td>\n",
       "    </tr>\n",
       "    <tr>\n",
       "      <th>3</th>\n",
       "      <td>0</td>\n",
       "      <td>0</td>\n",
       "      <td>0</td>\n",
       "      <td>0</td>\n",
       "      <td>1</td>\n",
       "      <td>0</td>\n",
       "      <td>0</td>\n",
       "      <td>0</td>\n",
       "      <td>1</td>\n",
       "      <td>0</td>\n",
       "      <td>0</td>\n",
       "      <td>0</td>\n",
       "      <td>0</td>\n",
       "      <td>0</td>\n",
       "      <td>0</td>\n",
       "      <td>0</td>\n",
       "      <td>1</td>\n",
       "      <td>0</td>\n",
       "      <td>0</td>\n",
       "    </tr>\n",
       "    <tr>\n",
       "      <th>4</th>\n",
       "      <td>0</td>\n",
       "      <td>0</td>\n",
       "      <td>0</td>\n",
       "      <td>0</td>\n",
       "      <td>1</td>\n",
       "      <td>0</td>\n",
       "      <td>0</td>\n",
       "      <td>0</td>\n",
       "      <td>0</td>\n",
       "      <td>0</td>\n",
       "      <td>0</td>\n",
       "      <td>0</td>\n",
       "      <td>0</td>\n",
       "      <td>0</td>\n",
       "      <td>0</td>\n",
       "      <td>0</td>\n",
       "      <td>0</td>\n",
       "      <td>1</td>\n",
       "      <td>0</td>\n",
       "    </tr>\n",
       "  </tbody>\n",
       "</table>\n",
       "</div>"
      ],
      "text/plain": [
       "   water_1.0  view_EXCELLENT  view_FAIR  view_GOOD  view_NONE  condition_Fair  \\\n",
       "0          0               0          0          0          1               0   \n",
       "1          0               0          0          0          1               0   \n",
       "2          0               0          0          0          1               0   \n",
       "3          0               0          0          0          1               0   \n",
       "4          0               0          0          0          1               0   \n",
       "\n",
       "   condition_Good  condition_Poor  condition_Very Good  grade_11 Excellent  \\\n",
       "0               0               0                    0                   0   \n",
       "1               0               0                    0                   0   \n",
       "2               0               0                    0                   0   \n",
       "3               0               0                    1                   0   \n",
       "4               0               0                    0                   0   \n",
       "\n",
       "   grade_12 Luxury  grade_13 Mansion  grade_3 Poor  grade_4 Low  grade_5 Fair  \\\n",
       "0                0                 0             0            0             0   \n",
       "1                0                 0             0            0             0   \n",
       "2                0                 0             0            0             0   \n",
       "3                0                 0             0            0             0   \n",
       "4                0                 0             0            0             0   \n",
       "\n",
       "   grade_6 Low Average  grade_7 Average  grade_8 Good  grade_9 Better  \n",
       "0                    0                1             0               0  \n",
       "1                    0                1             0               0  \n",
       "2                    1                0             0               0  \n",
       "3                    0                1             0               0  \n",
       "4                    0                0             1               0  "
      ]
     },
     "execution_count": 341,
     "metadata": {},
     "output_type": "execute_result"
    }
   ],
   "source": [
    "# check ohe_only df\n",
    "ohe_only.head()"
   ]
  },
  {
   "cell_type": "code",
   "execution_count": 342,
   "metadata": {
    "ExecuteTime": {
     "end_time": "2022-02-25T17:29:43.948796Z",
     "start_time": "2022-02-25T17:29:43.922856Z"
    },
    "scrolled": false
   },
   "outputs": [
    {
     "name": "stdout",
     "output_type": "stream",
     "text": [
      "<class 'pandas.core.frame.DataFrame'>\n",
      "RangeIndex: 21597 entries, 0 to 21596\n",
      "Data columns (total 25 columns):\n",
      " #   Column               Non-Null Count  Dtype  \n",
      "---  ------               --------------  -----  \n",
      " 0   sqft_living_log      21597 non-null  float64\n",
      " 1   bathrooms_log        21597 non-null  float64\n",
      " 2   bedrooms_log         21597 non-null  float64\n",
      " 3   price_log            21597 non-null  float64\n",
      " 4   yr_built_log         21597 non-null  float64\n",
      " 5   floors_log           21597 non-null  float64\n",
      " 6   water_1.0            21597 non-null  uint8  \n",
      " 7   view_EXCELLENT       21597 non-null  uint8  \n",
      " 8   view_FAIR            21597 non-null  uint8  \n",
      " 9   view_GOOD            21597 non-null  uint8  \n",
      " 10  view_NONE            21597 non-null  uint8  \n",
      " 11  condition_Fair       21597 non-null  uint8  \n",
      " 12  condition_Good       21597 non-null  uint8  \n",
      " 13  condition_Poor       21597 non-null  uint8  \n",
      " 14  condition_Very Good  21597 non-null  uint8  \n",
      " 15  grade_11 Excellent   21597 non-null  uint8  \n",
      " 16  grade_12 Luxury      21597 non-null  uint8  \n",
      " 17  grade_13 Mansion     21597 non-null  uint8  \n",
      " 18  grade_3 Poor         21597 non-null  uint8  \n",
      " 19  grade_4 Low          21597 non-null  uint8  \n",
      " 20  grade_5 Fair         21597 non-null  uint8  \n",
      " 21  grade_6 Low Average  21597 non-null  uint8  \n",
      " 22  grade_7 Average      21597 non-null  uint8  \n",
      " 23  grade_8 Good         21597 non-null  uint8  \n",
      " 24  grade_9 Better       21597 non-null  uint8  \n",
      "dtypes: float64(6), uint8(19)\n",
      "memory usage: 1.4 MB\n"
     ]
    }
   ],
   "source": [
    "# create logged df with categorical features\n",
    "logged_df = pd.concat([house_log,\n",
    "                      house_log2,\n",
    "                      ohe_only], axis=1)\n",
    "\n",
    "logged_df.info()"
   ]
  },
  {
   "cell_type": "markdown",
   "metadata": {},
   "source": [
    "### Drop columns"
   ]
  },
  {
   "cell_type": "code",
   "execution_count": 343,
   "metadata": {
    "ExecuteTime": {
     "end_time": "2022-02-25T17:29:45.202623Z",
     "start_time": "2022-02-25T17:29:45.153329Z"
    },
    "scrolled": false
   },
   "outputs": [
    {
     "name": "stdout",
     "output_type": "stream",
     "text": [
      "<class 'pandas.core.frame.DataFrame'>\n",
      "RangeIndex: 21597 entries, 0 to 21596\n",
      "Data columns (total 20 columns):\n",
      " #   Column               Non-Null Count  Dtype  \n",
      "---  ------               --------------  -----  \n",
      " 0   sqft_living_log      21597 non-null  float64\n",
      " 1   bathrooms_log        21597 non-null  float64\n",
      " 2   bedrooms_log         21597 non-null  float64\n",
      " 3   price_log            21597 non-null  float64\n",
      " 4   yr_built_log         21597 non-null  float64\n",
      " 5   floors_log           21597 non-null  float64\n",
      " 6   water_1.0            21597 non-null  uint8  \n",
      " 7   view_EXCELLENT       21597 non-null  uint8  \n",
      " 8   view_FAIR            21597 non-null  uint8  \n",
      " 9   view_GOOD            21597 non-null  uint8  \n",
      " 10  condition_Fair       21597 non-null  uint8  \n",
      " 11  condition_Very Good  21597 non-null  uint8  \n",
      " 12  grade_11 Excellent   21597 non-null  uint8  \n",
      " 13  grade_12 Luxury      21597 non-null  uint8  \n",
      " 14  grade_13 Mansion     21597 non-null  uint8  \n",
      " 15  grade_4 Low          21597 non-null  uint8  \n",
      " 16  grade_5 Fair         21597 non-null  uint8  \n",
      " 17  grade_6 Low Average  21597 non-null  uint8  \n",
      " 18  grade_8 Good         21597 non-null  uint8  \n",
      " 19  grade_9 Better       21597 non-null  uint8  \n",
      "dtypes: float64(6), uint8(14)\n",
      "memory usage: 1.3 MB\n"
     ]
    }
   ],
   "source": [
    "# Remove columns with prior issues (p-values & multicollinearity)\n",
    "# condition_Good also dropped due to high p-value afer running summary\n",
    "\n",
    "logged_df = logged_df.drop(['condition_Good',\n",
    "                            'view_NONE',\n",
    "                            'grade_7 Average',\n",
    "                            'condition_Poor',\n",
    "                            'grade_3 Poor',], axis=1)\n",
    "\n",
    "logged_df.info()"
   ]
  },
  {
   "cell_type": "markdown",
   "metadata": {},
   "source": [
    "### Model Summary"
   ]
  },
  {
   "cell_type": "code",
   "execution_count": 344,
   "metadata": {
    "ExecuteTime": {
     "end_time": "2022-02-25T17:29:46.401744Z",
     "start_time": "2022-02-25T17:29:46.248035Z"
    },
    "scrolled": false
   },
   "outputs": [
    {
     "data": {
      "text/html": [
       "<table class=\"simpletable\">\n",
       "<caption>OLS Regression Results</caption>\n",
       "<tr>\n",
       "  <th>Dep. Variable:</th>        <td>price_log</td>    <th>  R-squared:         </th> <td>   0.592</td> \n",
       "</tr>\n",
       "<tr>\n",
       "  <th>Model:</th>                   <td>OLS</td>       <th>  Adj. R-squared:    </th> <td>   0.592</td> \n",
       "</tr>\n",
       "<tr>\n",
       "  <th>Method:</th>             <td>Least Squares</td>  <th>  F-statistic:       </th> <td>   1647.</td> \n",
       "</tr>\n",
       "<tr>\n",
       "  <th>Date:</th>             <td>Fri, 25 Feb 2022</td> <th>  Prob (F-statistic):</th>  <td>  0.00</td>  \n",
       "</tr>\n",
       "<tr>\n",
       "  <th>Time:</th>                 <td>10:29:46</td>     <th>  Log-Likelihood:    </th> <td> -7112.6</td> \n",
       "</tr>\n",
       "<tr>\n",
       "  <th>No. Observations:</th>      <td> 21597</td>      <th>  AIC:               </th> <td>1.427e+04</td>\n",
       "</tr>\n",
       "<tr>\n",
       "  <th>Df Residuals:</th>          <td> 21577</td>      <th>  BIC:               </th> <td>1.442e+04</td>\n",
       "</tr>\n",
       "<tr>\n",
       "  <th>Df Model:</th>              <td>    19</td>      <th>                     </th>     <td> </td>    \n",
       "</tr>\n",
       "<tr>\n",
       "  <th>Covariance Type:</th>      <td>nonrobust</td>    <th>                     </th>     <td> </td>    \n",
       "</tr>\n",
       "</table>\n",
       "<table class=\"simpletable\">\n",
       "<tr>\n",
       "           <td></td>              <th>coef</th>     <th>std err</th>      <th>t</th>      <th>P>|t|</th>  <th>[0.025</th>    <th>0.975]</th>  \n",
       "</tr>\n",
       "<tr>\n",
       "  <th>const</th>               <td>   86.5273</td> <td>    1.530</td> <td>   56.539</td> <td> 0.000</td> <td>   83.528</td> <td>   89.527</td>\n",
       "</tr>\n",
       "<tr>\n",
       "  <th>sqft_living_log</th>     <td>    0.6561</td> <td>    0.010</td> <td>   63.966</td> <td> 0.000</td> <td>    0.636</td> <td>    0.676</td>\n",
       "</tr>\n",
       "<tr>\n",
       "  <th>bathrooms_log</th>       <td>    0.1430</td> <td>    0.011</td> <td>   13.547</td> <td> 0.000</td> <td>    0.122</td> <td>    0.164</td>\n",
       "</tr>\n",
       "<tr>\n",
       "  <th>bedrooms_log</th>        <td>   -0.2453</td> <td>    0.011</td> <td>  -22.457</td> <td> 0.000</td> <td>   -0.267</td> <td>   -0.224</td>\n",
       "</tr>\n",
       "<tr>\n",
       "  <th>yr_built_log</th>        <td>  -10.3301</td> <td>    0.201</td> <td>  -51.446</td> <td> 0.000</td> <td>  -10.724</td> <td>   -9.937</td>\n",
       "</tr>\n",
       "<tr>\n",
       "  <th>floors_log</th>          <td>    0.1695</td> <td>    0.008</td> <td>   21.128</td> <td> 0.000</td> <td>    0.154</td> <td>    0.185</td>\n",
       "</tr>\n",
       "<tr>\n",
       "  <th>water_1.0</th>           <td>    0.3119</td> <td>    0.034</td> <td>    9.149</td> <td> 0.000</td> <td>    0.245</td> <td>    0.379</td>\n",
       "</tr>\n",
       "<tr>\n",
       "  <th>view_EXCELLENT</th>      <td>    0.3434</td> <td>    0.024</td> <td>   14.606</td> <td> 0.000</td> <td>    0.297</td> <td>    0.390</td>\n",
       "</tr>\n",
       "<tr>\n",
       "  <th>view_FAIR</th>           <td>    0.1918</td> <td>    0.019</td> <td>   10.200</td> <td> 0.000</td> <td>    0.155</td> <td>    0.229</td>\n",
       "</tr>\n",
       "<tr>\n",
       "  <th>view_GOOD</th>           <td>    0.1885</td> <td>    0.015</td> <td>   12.221</td> <td> 0.000</td> <td>    0.158</td> <td>    0.219</td>\n",
       "</tr>\n",
       "<tr>\n",
       "  <th>condition_Fair</th>      <td>   -0.1693</td> <td>    0.026</td> <td>   -6.475</td> <td> 0.000</td> <td>   -0.221</td> <td>   -0.118</td>\n",
       "</tr>\n",
       "<tr>\n",
       "  <th>condition_Very Good</th> <td>    0.0688</td> <td>    0.009</td> <td>    7.772</td> <td> 0.000</td> <td>    0.051</td> <td>    0.086</td>\n",
       "</tr>\n",
       "<tr>\n",
       "  <th>grade_11 Excellent</th>  <td>    0.5771</td> <td>    0.019</td> <td>   31.136</td> <td> 0.000</td> <td>    0.541</td> <td>    0.613</td>\n",
       "</tr>\n",
       "<tr>\n",
       "  <th>grade_12 Luxury</th>     <td>    0.7428</td> <td>    0.037</td> <td>   20.084</td> <td> 0.000</td> <td>    0.670</td> <td>    0.815</td>\n",
       "</tr>\n",
       "<tr>\n",
       "  <th>grade_13 Mansion</th>    <td>    1.0076</td> <td>    0.094</td> <td>   10.707</td> <td> 0.000</td> <td>    0.823</td> <td>    1.192</td>\n",
       "</tr>\n",
       "<tr>\n",
       "  <th>grade_4 Low</th>         <td>   -0.3133</td> <td>    0.065</td> <td>   -4.787</td> <td> 0.000</td> <td>   -0.442</td> <td>   -0.185</td>\n",
       "</tr>\n",
       "<tr>\n",
       "  <th>grade_5 Fair</th>        <td>   -0.3472</td> <td>    0.023</td> <td>  -15.411</td> <td> 0.000</td> <td>   -0.391</td> <td>   -0.303</td>\n",
       "</tr>\n",
       "<tr>\n",
       "  <th>grade_6 Low Average</th> <td>   -0.2003</td> <td>    0.009</td> <td>  -22.311</td> <td> 0.000</td> <td>   -0.218</td> <td>   -0.183</td>\n",
       "</tr>\n",
       "<tr>\n",
       "  <th>grade_8 Good</th>        <td>    0.0911</td> <td>    0.006</td> <td>   15.678</td> <td> 0.000</td> <td>    0.080</td> <td>    0.103</td>\n",
       "</tr>\n",
       "<tr>\n",
       "  <th>grade_9 Better</th>      <td>    0.2674</td> <td>    0.008</td> <td>   32.008</td> <td> 0.000</td> <td>    0.251</td> <td>    0.284</td>\n",
       "</tr>\n",
       "</table>\n",
       "<table class=\"simpletable\">\n",
       "<tr>\n",
       "  <th>Omnibus:</th>       <td>44.228</td> <th>  Durbin-Watson:     </th> <td>   1.959</td>\n",
       "</tr>\n",
       "<tr>\n",
       "  <th>Prob(Omnibus):</th> <td> 0.000</td> <th>  Jarque-Bera (JB):  </th> <td>  50.436</td>\n",
       "</tr>\n",
       "<tr>\n",
       "  <th>Skew:</th>          <td> 0.060</td> <th>  Prob(JB):          </th> <td>1.12e-11</td>\n",
       "</tr>\n",
       "<tr>\n",
       "  <th>Kurtosis:</th>      <td> 3.204</td> <th>  Cond. No.          </th> <td>7.31e+03</td>\n",
       "</tr>\n",
       "</table><br/><br/>Notes:<br/>[1] Standard Errors assume that the covariance matrix of the errors is correctly specified.<br/>[2] The condition number is large, 7.31e+03. This might indicate that there are<br/>strong multicollinearity or other numerical problems."
      ],
      "text/plain": [
       "<class 'statsmodels.iolib.summary.Summary'>\n",
       "\"\"\"\n",
       "                            OLS Regression Results                            \n",
       "==============================================================================\n",
       "Dep. Variable:              price_log   R-squared:                       0.592\n",
       "Model:                            OLS   Adj. R-squared:                  0.592\n",
       "Method:                 Least Squares   F-statistic:                     1647.\n",
       "Date:                Fri, 25 Feb 2022   Prob (F-statistic):               0.00\n",
       "Time:                        10:29:46   Log-Likelihood:                -7112.6\n",
       "No. Observations:               21597   AIC:                         1.427e+04\n",
       "Df Residuals:                   21577   BIC:                         1.442e+04\n",
       "Df Model:                          19                                         \n",
       "Covariance Type:            nonrobust                                         \n",
       "=======================================================================================\n",
       "                          coef    std err          t      P>|t|      [0.025      0.975]\n",
       "---------------------------------------------------------------------------------------\n",
       "const                  86.5273      1.530     56.539      0.000      83.528      89.527\n",
       "sqft_living_log         0.6561      0.010     63.966      0.000       0.636       0.676\n",
       "bathrooms_log           0.1430      0.011     13.547      0.000       0.122       0.164\n",
       "bedrooms_log           -0.2453      0.011    -22.457      0.000      -0.267      -0.224\n",
       "yr_built_log          -10.3301      0.201    -51.446      0.000     -10.724      -9.937\n",
       "floors_log              0.1695      0.008     21.128      0.000       0.154       0.185\n",
       "water_1.0               0.3119      0.034      9.149      0.000       0.245       0.379\n",
       "view_EXCELLENT          0.3434      0.024     14.606      0.000       0.297       0.390\n",
       "view_FAIR               0.1918      0.019     10.200      0.000       0.155       0.229\n",
       "view_GOOD               0.1885      0.015     12.221      0.000       0.158       0.219\n",
       "condition_Fair         -0.1693      0.026     -6.475      0.000      -0.221      -0.118\n",
       "condition_Very Good     0.0688      0.009      7.772      0.000       0.051       0.086\n",
       "grade_11 Excellent      0.5771      0.019     31.136      0.000       0.541       0.613\n",
       "grade_12 Luxury         0.7428      0.037     20.084      0.000       0.670       0.815\n",
       "grade_13 Mansion        1.0076      0.094     10.707      0.000       0.823       1.192\n",
       "grade_4 Low            -0.3133      0.065     -4.787      0.000      -0.442      -0.185\n",
       "grade_5 Fair           -0.3472      0.023    -15.411      0.000      -0.391      -0.303\n",
       "grade_6 Low Average    -0.2003      0.009    -22.311      0.000      -0.218      -0.183\n",
       "grade_8 Good            0.0911      0.006     15.678      0.000       0.080       0.103\n",
       "grade_9 Better          0.2674      0.008     32.008      0.000       0.251       0.284\n",
       "==============================================================================\n",
       "Omnibus:                       44.228   Durbin-Watson:                   1.959\n",
       "Prob(Omnibus):                  0.000   Jarque-Bera (JB):               50.436\n",
       "Skew:                           0.060   Prob(JB):                     1.12e-11\n",
       "Kurtosis:                       3.204   Cond. No.                     7.31e+03\n",
       "==============================================================================\n",
       "\n",
       "Notes:\n",
       "[1] Standard Errors assume that the covariance matrix of the errors is correctly specified.\n",
       "[2] The condition number is large, 7.31e+03. This might indicate that there are\n",
       "strong multicollinearity or other numerical problems.\n",
       "\"\"\""
      ]
     },
     "execution_count": 344,
     "metadata": {},
     "output_type": "execute_result"
    }
   ],
   "source": [
    "# Logged Values Model Summary\n",
    "X_log = logged_df.drop(['price_log'], axis=1)\n",
    "y_log = logged_df['price_log']\n",
    "\n",
    "X_int = sm.add_constant(X_log)\n",
    "model = sm.OLS(y_log,X_int).fit()\n",
    "model.summary()"
   ]
  },
  {
   "cell_type": "markdown",
   "metadata": {},
   "source": [
    "### Train, Test, Split"
   ]
  },
  {
   "cell_type": "code",
   "execution_count": 345,
   "metadata": {
    "ExecuteTime": {
     "end_time": "2022-02-25T17:29:46.976175Z",
     "start_time": "2022-02-25T17:29:46.967893Z"
    },
    "scrolled": false
   },
   "outputs": [
    {
     "data": {
      "text/plain": [
       "0        12.309982\n",
       "1        13.195614\n",
       "2        12.100712\n",
       "3        13.311329\n",
       "4        13.142166\n",
       "           ...    \n",
       "21592    12.793859\n",
       "21593    12.899220\n",
       "21594    12.904459\n",
       "21595    12.899220\n",
       "21596    12.691580\n",
       "Name: price_log, Length: 21597, dtype: float64"
      ]
     },
     "execution_count": 345,
     "metadata": {},
     "output_type": "execute_result"
    }
   ],
   "source": [
    "# re-iterate X and y variables\n",
    "X_log\n",
    "y_log"
   ]
  },
  {
   "cell_type": "code",
   "execution_count": 346,
   "metadata": {
    "ExecuteTime": {
     "end_time": "2022-02-25T17:29:47.551079Z",
     "start_time": "2022-02-25T17:29:47.536858Z"
    }
   },
   "outputs": [
    {
     "name": "stdout",
     "output_type": "stream",
     "text": [
      "12958 8639 12958 8639\n"
     ]
    }
   ],
   "source": [
    "# Split the data into training and test sets. Use the default split size\n",
    "\n",
    "X_train, X_test, y_train, y_test = train_test_split(X_log,y_log, test_size=.4)\n",
    "\n",
    "# A brief preview of tts\n",
    "print(len(X_train), len(X_test), len(y_train), len(y_test))"
   ]
  },
  {
   "cell_type": "code",
   "execution_count": 347,
   "metadata": {
    "ExecuteTime": {
     "end_time": "2022-02-25T17:29:47.833460Z",
     "start_time": "2022-02-25T17:29:47.768699Z"
    }
   },
   "outputs": [
    {
     "data": {
      "text/plain": [
       "LinearRegression()"
      ]
     },
     "execution_count": 347,
     "metadata": {},
     "output_type": "execute_result"
    }
   ],
   "source": [
    "linreg = LinearRegression()\n",
    "\n",
    "# Fit the model to train data\n",
    "linreg.fit(X_train, y_train)\n",
    "\n",
    "LinearRegression(copy_X=True, fit_intercept=True, n_jobs=None, normalize=False)"
   ]
  },
  {
   "cell_type": "code",
   "execution_count": 348,
   "metadata": {
    "ExecuteTime": {
     "end_time": "2022-02-25T17:29:48.089519Z",
     "start_time": "2022-02-25T17:29:48.065804Z"
    }
   },
   "outputs": [],
   "source": [
    "# Calculate predictions on training and test sets\n",
    "y_hat_train = linreg.predict(X_train)\n",
    "y_hat_test = linreg.predict(X_test)"
   ]
  },
  {
   "cell_type": "code",
   "execution_count": 349,
   "metadata": {
    "ExecuteTime": {
     "end_time": "2022-02-25T17:29:48.383456Z",
     "start_time": "2022-02-25T17:29:48.375216Z"
    }
   },
   "outputs": [],
   "source": [
    "# Calculate residuals\n",
    "train_residuals = y_hat_train - y_train\n",
    "test_residuals = y_hat_test - y_test"
   ]
  },
  {
   "cell_type": "code",
   "execution_count": 350,
   "metadata": {
    "ExecuteTime": {
     "end_time": "2022-02-25T17:29:48.719533Z",
     "start_time": "2022-02-25T17:29:48.707320Z"
    },
    "scrolled": false
   },
   "outputs": [
    {
     "name": "stdout",
     "output_type": "stream",
     "text": [
      "Train Mean Squared Error: 0.11233321536800119\n",
      "Test Mean Squared Error: 0.11458209719255097\n"
     ]
    }
   ],
   "source": [
    "# Calculate training and test MSE\n",
    "train_mse = mean_squared_error(y_train, y_hat_train)\n",
    "test_mse = mean_squared_error(y_test, y_hat_test)\n",
    "print('Train Mean Squared Error:', train_mse)\n",
    "print('Test Mean Squared Error:', test_mse)"
   ]
  },
  {
   "cell_type": "markdown",
   "metadata": {},
   "source": [
    "### Instantiate a Linear Regression model called final_model, then fit it to training data and score it on test data."
   ]
  },
  {
   "cell_type": "code",
   "execution_count": 351,
   "metadata": {
    "ExecuteTime": {
     "end_time": "2022-02-25T17:29:49.946005Z",
     "start_time": "2022-02-25T17:29:49.858803Z"
    }
   },
   "outputs": [
    {
     "data": {
      "text/plain": [
       "0.5834281965939196"
      ]
     },
     "execution_count": 351,
     "metadata": {},
     "output_type": "execute_result"
    }
   ],
   "source": [
    "final_model = LinearRegression()\n",
    "\n",
    "# Fit the model on X_train_final and y_train\n",
    "final_model.fit(X_train, y_train)\n",
    "\n",
    "# Score the model on X_test_final and y_test\n",
    "# (use the built-in .score method)\n",
    "final_model.score(X_test, y_test)"
   ]
  },
  {
   "cell_type": "markdown",
   "metadata": {},
   "source": [
    "### Investigating Normality"
   ]
  },
  {
   "cell_type": "code",
   "execution_count": 352,
   "metadata": {
    "ExecuteTime": {
     "end_time": "2022-02-25T17:29:51.582988Z",
     "start_time": "2022-02-25T17:29:51.254907Z"
    },
    "scrolled": false
   },
   "outputs": [
    {
     "data": {
      "image/png": "[encoded data removed]",
      "text/plain": [
       "<Figure size 432x288 with 1 Axes>"
      ]
     },
     "metadata": {
      "needs_background": "light"
     },
     "output_type": "display_data"
    }
   ],
   "source": [
    "import scipy.stats as stats\n",
    "\n",
    "preds = final_model.predict(X_test)\n",
    "\n",
    "residuals = (y_test - preds)\n",
    "sm.graphics.qqplot(residuals, dist=stats.norm, line='45', fit=True);"
   ]
  },
  {
   "cell_type": "markdown",
   "metadata": {},
   "source": [
    "#### Normality Assumption Met\n",
    "* Removing the outlier values improved the normality of this model.\n",
    "* 0.838% or less than 1% of data was removed to improve the normality assumption."
   ]
  },
  {
   "cell_type": "markdown",
   "metadata": {},
   "source": [
    "### Investigating Multicollinearity (independence assumption)"
   ]
  },
  {
   "cell_type": "code",
   "execution_count": 353,
   "metadata": {
    "ExecuteTime": {
     "end_time": "2022-02-25T17:29:55.438694Z",
     "start_time": "2022-02-25T17:29:54.847216Z"
    },
    "scrolled": true
   },
   "outputs": [
    {
     "data": {
      "text/plain": [
       "sqft_living_log        1129.490803\n",
       "bathrooms_log            11.553640\n",
       "bedrooms_log             33.804455\n",
       "yr_built_log            887.605364\n",
       "floors_log                2.807840\n",
       "water_1.0                 1.391767\n",
       "view_EXCELLENT            1.452221\n",
       "view_FAIR                 1.028296\n",
       "view_GOOD                 1.061456\n",
       "condition_Fair            1.022722\n",
       "condition_Very Good       1.116140\n",
       "grade_11 Excellent        1.216784\n",
       "grade_12 Luxury           1.081589\n",
       "grade_13 Mansion          1.013322\n",
       "grade_4 Low               1.020443\n",
       "grade_5 Fair              1.075407\n",
       "grade_6 Low Average       1.423512\n",
       "grade_8 Good              1.813713\n",
       "grade_9 Better            1.596823\n",
       "Name: Variance Inflation Factor, dtype: float64"
      ]
     },
     "execution_count": 353,
     "metadata": {},
     "output_type": "execute_result"
    }
   ],
   "source": [
    "# estimate multicollinarity with Variance Inflation Factor (VIF)\n",
    "vif = [variance_inflation_factor(X_train.values, i) for i in range(X_train.shape[1])]\n",
    "pd.Series(vif, index=X_train.columns, name=\"Variance Inflation Factor\")"
   ]
  },
  {
   "cell_type": "markdown",
   "metadata": {},
   "source": [
    "#### VIF scores very high for important predictors \n",
    "* sqft_living_log (1118.9)\n",
    "* bathrooms_log (11.29)\n",
    "* bedrooms_log (32.9)\n",
    "* yr_built_log (881.4)"
   ]
  },
  {
   "cell_type": "markdown",
   "metadata": {},
   "source": [
    "#### Multicollinearity Assumption NOT met for logged_df"
   ]
  },
  {
   "cell_type": "markdown",
   "metadata": {},
   "source": [
    "### Investigating Homoscedasticity"
   ]
  },
  {
   "cell_type": "code",
   "execution_count": 354,
   "metadata": {
    "ExecuteTime": {
     "end_time": "2022-02-25T17:29:57.888213Z",
     "start_time": "2022-02-25T17:29:57.547138Z"
    },
    "scrolled": false
   },
   "outputs": [
    {
     "data": {
      "image/png": "[encoded data removed]",
      "text/plain": [
       "<Figure size 432x288 with 1 Axes>"
      ]
     },
     "metadata": {
      "needs_background": "light"
     },
     "output_type": "display_data"
    }
   ],
   "source": [
    "fig, ax = plt.subplots()\n",
    "\n",
    "ax.scatter(preds, residuals, alpha=0.5)\n",
    "ax.plot(preds, [0 for i in range(len(X_test))])\n",
    "ax.set_xlabel(\"Predicted Value\")\n",
    "ax.set_ylabel(\"Actual - Predicted Value\");"
   ]
  },
  {
   "cell_type": "markdown",
   "metadata": {},
   "source": [
    "#### Homoscedasticity assumption is met\n",
    "* Distribution is fairly even.  "
   ]
  },
  {
   "cell_type": "markdown",
   "metadata": {},
   "source": [
    "# Interpretting Coefficients\n",
    "* Final Model\n",
    "* Logged Model\n",
    "* Fifth Model\n",
    "    * Un-normalized or logged feature values\n",
    "* Converting Coefficients\n"
   ]
  },
  {
   "cell_type": "markdown",
   "metadata": {
    "ExecuteTime": {
     "end_time": "2022-02-24T20:48:32.158604Z",
     "start_time": "2022-02-24T20:48:32.150950Z"
    }
   },
   "source": [
    "## Final Model\n",
    "* This is the same as the Fourth Model with the outliers removed."
   ]
  },
  {
   "cell_type": "code",
   "execution_count": 371,
   "metadata": {
    "ExecuteTime": {
     "end_time": "2022-02-25T17:49:32.704230Z",
     "start_time": "2022-02-25T17:49:32.535985Z"
    }
   },
   "outputs": [
    {
     "data": {
      "text/html": [
       "<table class=\"simpletable\">\n",
       "<caption>OLS Regression Results</caption>\n",
       "<tr>\n",
       "  <th>Dep. Variable:</th>        <td>price_log</td>    <th>  R-squared:         </th> <td>   0.558</td> \n",
       "</tr>\n",
       "<tr>\n",
       "  <th>Model:</th>                   <td>OLS</td>       <th>  Adj. R-squared:    </th> <td>   0.558</td> \n",
       "</tr>\n",
       "<tr>\n",
       "  <th>Method:</th>             <td>Least Squares</td>  <th>  F-statistic:       </th> <td>   1348.</td> \n",
       "</tr>\n",
       "<tr>\n",
       "  <th>Date:</th>             <td>Fri, 25 Feb 2022</td> <th>  Prob (F-statistic):</th>  <td>  0.00</td>  \n",
       "</tr>\n",
       "<tr>\n",
       "  <th>Time:</th>                 <td>10:49:32</td>     <th>  Log-Likelihood:    </th> <td> -20352.</td> \n",
       "</tr>\n",
       "<tr>\n",
       "  <th>No. Observations:</th>      <td> 21366</td>      <th>  AIC:               </th> <td>4.075e+04</td>\n",
       "</tr>\n",
       "<tr>\n",
       "  <th>Df Residuals:</th>          <td> 21345</td>      <th>  BIC:               </th> <td>4.091e+04</td>\n",
       "</tr>\n",
       "<tr>\n",
       "  <th>Df Model:</th>              <td>    20</td>      <th>                     </th>     <td> </td>    \n",
       "</tr>\n",
       "<tr>\n",
       "  <th>Covariance Type:</th>      <td>nonrobust</td>    <th>                     </th>     <td> </td>    \n",
       "</tr>\n",
       "</table>\n",
       "<table class=\"simpletable\">\n",
       "<tr>\n",
       "           <td></td>              <th>coef</th>     <th>std err</th>      <th>t</th>      <th>P>|t|</th>  <th>[0.025</th>    <th>0.975]</th>  \n",
       "</tr>\n",
       "<tr>\n",
       "  <th>const</th>               <td>   -0.1415</td> <td>    0.007</td> <td>  -19.149</td> <td> 0.000</td> <td>   -0.156</td> <td>   -0.127</td>\n",
       "</tr>\n",
       "<tr>\n",
       "  <th>sqft_living_log</th>     <td>    0.5107</td> <td>    0.008</td> <td>   62.453</td> <td> 0.000</td> <td>    0.495</td> <td>    0.527</td>\n",
       "</tr>\n",
       "<tr>\n",
       "  <th>bathrooms_log</th>       <td>    0.0986</td> <td>    0.008</td> <td>   12.693</td> <td> 0.000</td> <td>    0.083</td> <td>    0.114</td>\n",
       "</tr>\n",
       "<tr>\n",
       "  <th>bedrooms_log</th>        <td>   -0.1290</td> <td>    0.006</td> <td>  -22.228</td> <td> 0.000</td> <td>   -0.140</td> <td>   -0.118</td>\n",
       "</tr>\n",
       "<tr>\n",
       "  <th>water_1.0</th>           <td>    0.4210</td> <td>    0.073</td> <td>    5.777</td> <td> 0.000</td> <td>    0.278</td> <td>    0.564</td>\n",
       "</tr>\n",
       "<tr>\n",
       "  <th>view_EXCELLENT</th>      <td>    0.6074</td> <td>    0.047</td> <td>   12.968</td> <td> 0.000</td> <td>    0.516</td> <td>    0.699</td>\n",
       "</tr>\n",
       "<tr>\n",
       "  <th>view_FAIR</th>           <td>    0.3369</td> <td>    0.036</td> <td>    9.425</td> <td> 0.000</td> <td>    0.267</td> <td>    0.407</td>\n",
       "</tr>\n",
       "<tr>\n",
       "  <th>view_GOOD</th>           <td>    0.3429</td> <td>    0.029</td> <td>   11.640</td> <td> 0.000</td> <td>    0.285</td> <td>    0.401</td>\n",
       "</tr>\n",
       "<tr>\n",
       "  <th>condition_Fair</th>      <td>   -0.2952</td> <td>    0.050</td> <td>   -5.914</td> <td> 0.000</td> <td>   -0.393</td> <td>   -0.197</td>\n",
       "</tr>\n",
       "<tr>\n",
       "  <th>condition_Good</th>      <td>    0.0060</td> <td>    0.011</td> <td>    0.558</td> <td> 0.577</td> <td>   -0.015</td> <td>    0.027</td>\n",
       "</tr>\n",
       "<tr>\n",
       "  <th>condition_Very Good</th> <td>    0.1270</td> <td>    0.017</td> <td>    7.354</td> <td> 0.000</td> <td>    0.093</td> <td>    0.161</td>\n",
       "</tr>\n",
       "<tr>\n",
       "  <th>grade_11 Excellent</th>  <td>    0.9938</td> <td>    0.037</td> <td>   26.537</td> <td> 0.000</td> <td>    0.920</td> <td>    1.067</td>\n",
       "</tr>\n",
       "<tr>\n",
       "  <th>grade_12 Luxury</th>     <td>    1.1885</td> <td>    0.086</td> <td>   13.891</td> <td> 0.000</td> <td>    1.021</td> <td>    1.356</td>\n",
       "</tr>\n",
       "<tr>\n",
       "  <th>grade_13 Mansion</th>    <td>    1.7332</td> <td>    0.628</td> <td>    2.761</td> <td> 0.006</td> <td>    0.503</td> <td>    2.964</td>\n",
       "</tr>\n",
       "<tr>\n",
       "  <th>grade_4 Low</th>         <td>   -0.3798</td> <td>    0.132</td> <td>   -2.878</td> <td> 0.004</td> <td>   -0.639</td> <td>   -0.121</td>\n",
       "</tr>\n",
       "<tr>\n",
       "  <th>grade_5 Fair</th>        <td>   -0.5978</td> <td>    0.043</td> <td>  -13.902</td> <td> 0.000</td> <td>   -0.682</td> <td>   -0.513</td>\n",
       "</tr>\n",
       "<tr>\n",
       "  <th>grade_6 Low Average</th> <td>   -0.3810</td> <td>    0.017</td> <td>  -22.683</td> <td> 0.000</td> <td>   -0.414</td> <td>   -0.348</td>\n",
       "</tr>\n",
       "<tr>\n",
       "  <th>grade_8 Good</th>        <td>    0.1910</td> <td>    0.011</td> <td>   17.552</td> <td> 0.000</td> <td>    0.170</td> <td>    0.212</td>\n",
       "</tr>\n",
       "<tr>\n",
       "  <th>grade_9 Better</th>      <td>    0.5325</td> <td>    0.016</td> <td>   33.945</td> <td> 0.000</td> <td>    0.502</td> <td>    0.563</td>\n",
       "</tr>\n",
       "<tr>\n",
       "  <th>yr_built_log</th>        <td>   -0.2879</td> <td>    0.006</td> <td>  -49.639</td> <td> 0.000</td> <td>   -0.299</td> <td>   -0.277</td>\n",
       "</tr>\n",
       "<tr>\n",
       "  <th>floors_log</th>          <td>    0.1139</td> <td>    0.005</td> <td>   21.121</td> <td> 0.000</td> <td>    0.103</td> <td>    0.124</td>\n",
       "</tr>\n",
       "</table>\n",
       "<table class=\"simpletable\">\n",
       "<tr>\n",
       "  <th>Omnibus:</th>       <td>15.060</td> <th>  Durbin-Watson:     </th> <td>   1.959</td>\n",
       "</tr>\n",
       "<tr>\n",
       "  <th>Prob(Omnibus):</th> <td> 0.001</td> <th>  Jarque-Bera (JB):  </th> <td>  16.167</td>\n",
       "</tr>\n",
       "<tr>\n",
       "  <th>Skew:</th>          <td> 0.034</td> <th>  Prob(JB):          </th> <td>0.000309</td>\n",
       "</tr>\n",
       "<tr>\n",
       "  <th>Kurtosis:</th>      <td> 3.117</td> <th>  Cond. No.          </th> <td>    248.</td>\n",
       "</tr>\n",
       "</table><br/><br/>Notes:<br/>[1] Standard Errors assume that the covariance matrix of the errors is correctly specified."
      ],
      "text/plain": [
       "<class 'statsmodels.iolib.summary.Summary'>\n",
       "\"\"\"\n",
       "                            OLS Regression Results                            \n",
       "==============================================================================\n",
       "Dep. Variable:              price_log   R-squared:                       0.558\n",
       "Model:                            OLS   Adj. R-squared:                  0.558\n",
       "Method:                 Least Squares   F-statistic:                     1348.\n",
       "Date:                Fri, 25 Feb 2022   Prob (F-statistic):               0.00\n",
       "Time:                        10:49:32   Log-Likelihood:                -20352.\n",
       "No. Observations:               21366   AIC:                         4.075e+04\n",
       "Df Residuals:                   21345   BIC:                         4.091e+04\n",
       "Df Model:                          20                                         \n",
       "Covariance Type:            nonrobust                                         \n",
       "=======================================================================================\n",
       "                          coef    std err          t      P>|t|      [0.025      0.975]\n",
       "---------------------------------------------------------------------------------------\n",
       "const                  -0.1415      0.007    -19.149      0.000      -0.156      -0.127\n",
       "sqft_living_log         0.5107      0.008     62.453      0.000       0.495       0.527\n",
       "bathrooms_log           0.0986      0.008     12.693      0.000       0.083       0.114\n",
       "bedrooms_log           -0.1290      0.006    -22.228      0.000      -0.140      -0.118\n",
       "water_1.0               0.4210      0.073      5.777      0.000       0.278       0.564\n",
       "view_EXCELLENT          0.6074      0.047     12.968      0.000       0.516       0.699\n",
       "view_FAIR               0.3369      0.036      9.425      0.000       0.267       0.407\n",
       "view_GOOD               0.3429      0.029     11.640      0.000       0.285       0.401\n",
       "condition_Fair         -0.2952      0.050     -5.914      0.000      -0.393      -0.197\n",
       "condition_Good          0.0060      0.011      0.558      0.577      -0.015       0.027\n",
       "condition_Very Good     0.1270      0.017      7.354      0.000       0.093       0.161\n",
       "grade_11 Excellent      0.9938      0.037     26.537      0.000       0.920       1.067\n",
       "grade_12 Luxury         1.1885      0.086     13.891      0.000       1.021       1.356\n",
       "grade_13 Mansion        1.7332      0.628      2.761      0.006       0.503       2.964\n",
       "grade_4 Low            -0.3798      0.132     -2.878      0.004      -0.639      -0.121\n",
       "grade_5 Fair           -0.5978      0.043    -13.902      0.000      -0.682      -0.513\n",
       "grade_6 Low Average    -0.3810      0.017    -22.683      0.000      -0.414      -0.348\n",
       "grade_8 Good            0.1910      0.011     17.552      0.000       0.170       0.212\n",
       "grade_9 Better          0.5325      0.016     33.945      0.000       0.502       0.563\n",
       "yr_built_log           -0.2879      0.006    -49.639      0.000      -0.299      -0.277\n",
       "floors_log              0.1139      0.005     21.121      0.000       0.103       0.124\n",
       "==============================================================================\n",
       "Omnibus:                       15.060   Durbin-Watson:                   1.959\n",
       "Prob(Omnibus):                  0.001   Jarque-Bera (JB):               16.167\n",
       "Skew:                           0.034   Prob(JB):                     0.000309\n",
       "Kurtosis:                       3.117   Cond. No.                         248.\n",
       "==============================================================================\n",
       "\n",
       "Notes:\n",
       "[1] Standard Errors assume that the covariance matrix of the errors is correctly specified.\n",
       "\"\"\""
      ]
     },
     "execution_count": 371,
     "metadata": {},
     "output_type": "execute_result"
    }
   ],
   "source": [
    "# Final Model Summary\n",
    "X_final \n",
    "y_final\n",
    "\n",
    "X_int = sm.add_constant(X_final)\n",
    "model = sm.OLS(y_final,X_int).fit()\n",
    "model.summary()"
   ]
  },
  {
   "cell_type": "markdown",
   "metadata": {},
   "source": [
    "### Coefficients can be reliably compared to each other.\n",
    "* Final Model meets linearity assumptions, and therefore the coefficients can be compared more reliably to each other.\n",
    "* The weakness in this model is determining percent or actual change in price for a given change in a feature."
   ]
  },
  {
   "cell_type": "markdown",
   "metadata": {},
   "source": [
    "## Fifth Model"
   ]
  },
  {
   "cell_type": "code",
   "execution_count": 372,
   "metadata": {
    "ExecuteTime": {
     "end_time": "2022-02-25T17:49:35.439523Z",
     "start_time": "2022-02-25T17:49:35.293443Z"
    }
   },
   "outputs": [
    {
     "data": {
      "text/html": [
       "<table class=\"simpletable\">\n",
       "<caption>OLS Regression Results</caption>\n",
       "<tr>\n",
       "  <th>Dep. Variable:</th>          <td>price</td>      <th>  R-squared:         </th>  <td>   0.642</td>  \n",
       "</tr>\n",
       "<tr>\n",
       "  <th>Model:</th>                   <td>OLS</td>       <th>  Adj. R-squared:    </th>  <td>   0.642</td>  \n",
       "</tr>\n",
       "<tr>\n",
       "  <th>Method:</th>             <td>Least Squares</td>  <th>  F-statistic:       </th>  <td>   1935.</td>  \n",
       "</tr>\n",
       "<tr>\n",
       "  <th>Date:</th>             <td>Fri, 25 Feb 2022</td> <th>  Prob (F-statistic):</th>   <td>  0.00</td>   \n",
       "</tr>\n",
       "<tr>\n",
       "  <th>Time:</th>                 <td>10:49:35</td>     <th>  Log-Likelihood:    </th> <td>-2.9630e+05</td>\n",
       "</tr>\n",
       "<tr>\n",
       "  <th>No. Observations:</th>      <td> 21597</td>      <th>  AIC:               </th>  <td>5.926e+05</td> \n",
       "</tr>\n",
       "<tr>\n",
       "  <th>Df Residuals:</th>          <td> 21576</td>      <th>  BIC:               </th>  <td>5.928e+05</td> \n",
       "</tr>\n",
       "<tr>\n",
       "  <th>Df Model:</th>              <td>    20</td>      <th>                     </th>      <td> </td>     \n",
       "</tr>\n",
       "<tr>\n",
       "  <th>Covariance Type:</th>      <td>nonrobust</td>    <th>                     </th>      <td> </td>     \n",
       "</tr>\n",
       "</table>\n",
       "<table class=\"simpletable\">\n",
       "<tr>\n",
       "           <td></td>              <th>coef</th>     <th>std err</th>      <th>t</th>      <th>P>|t|</th>  <th>[0.025</th>    <th>0.975]</th>  \n",
       "</tr>\n",
       "<tr>\n",
       "  <th>const</th>               <td>  6.09e+06</td> <td> 1.33e+05</td> <td>   45.817</td> <td> 0.000</td> <td> 5.83e+06</td> <td> 6.35e+06</td>\n",
       "</tr>\n",
       "<tr>\n",
       "  <th>sqft_living</th>         <td>  211.4594</td> <td>    3.018</td> <td>   70.066</td> <td> 0.000</td> <td>  205.544</td> <td>  217.375</td>\n",
       "</tr>\n",
       "<tr>\n",
       "  <th>bathrooms</th>           <td> 5.557e+04</td> <td> 3512.546</td> <td>   15.821</td> <td> 0.000</td> <td> 4.87e+04</td> <td> 6.25e+04</td>\n",
       "</tr>\n",
       "<tr>\n",
       "  <th>bedrooms</th>            <td> -4.22e+04</td> <td> 2071.209</td> <td>  -20.374</td> <td> 0.000</td> <td>-4.63e+04</td> <td>-3.81e+04</td>\n",
       "</tr>\n",
       "<tr>\n",
       "  <th>yr_built</th>            <td>-3088.8167</td> <td>   68.299</td> <td>  -45.225</td> <td> 0.000</td> <td>-3222.687</td> <td>-2954.946</td>\n",
       "</tr>\n",
       "<tr>\n",
       "  <th>floors</th>              <td> 5.644e+04</td> <td> 3495.164</td> <td>   16.148</td> <td> 0.000</td> <td> 4.96e+04</td> <td> 6.33e+04</td>\n",
       "</tr>\n",
       "<tr>\n",
       "  <th>water_1.0</th>           <td>  5.14e+05</td> <td> 2.23e+04</td> <td>   23.072</td> <td> 0.000</td> <td>  4.7e+05</td> <td> 5.58e+05</td>\n",
       "</tr>\n",
       "<tr>\n",
       "  <th>view_EXCELLENT</th>      <td> 2.892e+05</td> <td> 1.54e+04</td> <td>   18.801</td> <td> 0.000</td> <td> 2.59e+05</td> <td> 3.19e+05</td>\n",
       "</tr>\n",
       "<tr>\n",
       "  <th>view_FAIR</th>           <td> 1.261e+05</td> <td> 1.23e+04</td> <td>   10.265</td> <td> 0.000</td> <td> 1.02e+05</td> <td>  1.5e+05</td>\n",
       "</tr>\n",
       "<tr>\n",
       "  <th>view_GOOD</th>           <td> 1.308e+05</td> <td> 1.01e+04</td> <td>   12.947</td> <td> 0.000</td> <td> 1.11e+05</td> <td> 1.51e+05</td>\n",
       "</tr>\n",
       "<tr>\n",
       "  <th>condition_Fair</th>      <td>-3.817e+04</td> <td> 1.71e+04</td> <td>   -2.226</td> <td> 0.026</td> <td>-7.18e+04</td> <td>-4561.612</td>\n",
       "</tr>\n",
       "<tr>\n",
       "  <th>condition_Good</th>      <td> 1.042e+04</td> <td> 3714.662</td> <td>    2.804</td> <td> 0.005</td> <td> 3135.982</td> <td> 1.77e+04</td>\n",
       "</tr>\n",
       "<tr>\n",
       "  <th>condition_Very Good</th> <td> 4.836e+04</td> <td> 5991.101</td> <td>    8.073</td> <td> 0.000</td> <td> 3.66e+04</td> <td> 6.01e+04</td>\n",
       "</tr>\n",
       "<tr>\n",
       "  <th>grade_11 Excellent</th>  <td> 4.297e+05</td> <td> 1.26e+04</td> <td>   34.137</td> <td> 0.000</td> <td> 4.05e+05</td> <td> 4.54e+05</td>\n",
       "</tr>\n",
       "<tr>\n",
       "  <th>grade_12 Luxury</th>     <td> 8.079e+05</td> <td> 2.49e+04</td> <td>   32.485</td> <td> 0.000</td> <td> 7.59e+05</td> <td> 8.57e+05</td>\n",
       "</tr>\n",
       "<tr>\n",
       "  <th>grade_13 Mansion</th>    <td> 1.866e+06</td> <td> 6.24e+04</td> <td>   29.895</td> <td> 0.000</td> <td> 1.74e+06</td> <td> 1.99e+06</td>\n",
       "</tr>\n",
       "<tr>\n",
       "  <th>grade_4 Low</th>         <td>-9.048e+04</td> <td> 4.26e+04</td> <td>   -2.124</td> <td> 0.034</td> <td>-1.74e+05</td> <td>-6982.078</td>\n",
       "</tr>\n",
       "<tr>\n",
       "  <th>grade_5 Fair</th>        <td>-1.165e+05</td> <td> 1.46e+04</td> <td>   -7.992</td> <td> 0.000</td> <td>-1.45e+05</td> <td>-8.79e+04</td>\n",
       "</tr>\n",
       "<tr>\n",
       "  <th>grade_6 Low Average</th> <td>-7.276e+04</td> <td> 5728.203</td> <td>  -12.702</td> <td> 0.000</td> <td> -8.4e+04</td> <td>-6.15e+04</td>\n",
       "</tr>\n",
       "<tr>\n",
       "  <th>grade_8 Good</th>        <td> 1.326e+04</td> <td> 3765.672</td> <td>    3.521</td> <td> 0.000</td> <td> 5879.082</td> <td> 2.06e+04</td>\n",
       "</tr>\n",
       "<tr>\n",
       "  <th>grade_9 Better</th>      <td>     1e+05</td> <td> 5428.994</td> <td>   18.422</td> <td> 0.000</td> <td> 8.94e+04</td> <td> 1.11e+05</td>\n",
       "</tr>\n",
       "</table>\n",
       "<table class=\"simpletable\">\n",
       "<tr>\n",
       "  <th>Omnibus:</th>       <td>10877.567</td> <th>  Durbin-Watson:     </th>  <td>   1.976</td> \n",
       "</tr>\n",
       "<tr>\n",
       "  <th>Prob(Omnibus):</th>  <td> 0.000</td>   <th>  Jarque-Bera (JB):  </th> <td>254020.268</td>\n",
       "</tr>\n",
       "<tr>\n",
       "  <th>Skew:</th>           <td> 1.914</td>   <th>  Prob(JB):          </th>  <td>    0.00</td> \n",
       "</tr>\n",
       "<tr>\n",
       "  <th>Kurtosis:</th>       <td>19.359</td>   <th>  Cond. No.          </th>  <td>2.62e+05</td> \n",
       "</tr>\n",
       "</table><br/><br/>Notes:<br/>[1] Standard Errors assume that the covariance matrix of the errors is correctly specified.<br/>[2] The condition number is large, 2.62e+05. This might indicate that there are<br/>strong multicollinearity or other numerical problems."
      ],
      "text/plain": [
       "<class 'statsmodels.iolib.summary.Summary'>\n",
       "\"\"\"\n",
       "                            OLS Regression Results                            \n",
       "==============================================================================\n",
       "Dep. Variable:                  price   R-squared:                       0.642\n",
       "Model:                            OLS   Adj. R-squared:                  0.642\n",
       "Method:                 Least Squares   F-statistic:                     1935.\n",
       "Date:                Fri, 25 Feb 2022   Prob (F-statistic):               0.00\n",
       "Time:                        10:49:35   Log-Likelihood:            -2.9630e+05\n",
       "No. Observations:               21597   AIC:                         5.926e+05\n",
       "Df Residuals:                   21576   BIC:                         5.928e+05\n",
       "Df Model:                          20                                         \n",
       "Covariance Type:            nonrobust                                         \n",
       "=======================================================================================\n",
       "                          coef    std err          t      P>|t|      [0.025      0.975]\n",
       "---------------------------------------------------------------------------------------\n",
       "const                 6.09e+06   1.33e+05     45.817      0.000    5.83e+06    6.35e+06\n",
       "sqft_living           211.4594      3.018     70.066      0.000     205.544     217.375\n",
       "bathrooms            5.557e+04   3512.546     15.821      0.000    4.87e+04    6.25e+04\n",
       "bedrooms             -4.22e+04   2071.209    -20.374      0.000   -4.63e+04   -3.81e+04\n",
       "yr_built            -3088.8167     68.299    -45.225      0.000   -3222.687   -2954.946\n",
       "floors               5.644e+04   3495.164     16.148      0.000    4.96e+04    6.33e+04\n",
       "water_1.0             5.14e+05   2.23e+04     23.072      0.000     4.7e+05    5.58e+05\n",
       "view_EXCELLENT       2.892e+05   1.54e+04     18.801      0.000    2.59e+05    3.19e+05\n",
       "view_FAIR            1.261e+05   1.23e+04     10.265      0.000    1.02e+05     1.5e+05\n",
       "view_GOOD            1.308e+05   1.01e+04     12.947      0.000    1.11e+05    1.51e+05\n",
       "condition_Fair      -3.817e+04   1.71e+04     -2.226      0.026   -7.18e+04   -4561.612\n",
       "condition_Good       1.042e+04   3714.662      2.804      0.005    3135.982    1.77e+04\n",
       "condition_Very Good  4.836e+04   5991.101      8.073      0.000    3.66e+04    6.01e+04\n",
       "grade_11 Excellent   4.297e+05   1.26e+04     34.137      0.000    4.05e+05    4.54e+05\n",
       "grade_12 Luxury      8.079e+05   2.49e+04     32.485      0.000    7.59e+05    8.57e+05\n",
       "grade_13 Mansion     1.866e+06   6.24e+04     29.895      0.000    1.74e+06    1.99e+06\n",
       "grade_4 Low         -9.048e+04   4.26e+04     -2.124      0.034   -1.74e+05   -6982.078\n",
       "grade_5 Fair        -1.165e+05   1.46e+04     -7.992      0.000   -1.45e+05   -8.79e+04\n",
       "grade_6 Low Average -7.276e+04   5728.203    -12.702      0.000    -8.4e+04   -6.15e+04\n",
       "grade_8 Good         1.326e+04   3765.672      3.521      0.000    5879.082    2.06e+04\n",
       "grade_9 Better           1e+05   5428.994     18.422      0.000    8.94e+04    1.11e+05\n",
       "==============================================================================\n",
       "Omnibus:                    10877.567   Durbin-Watson:                   1.976\n",
       "Prob(Omnibus):                  0.000   Jarque-Bera (JB):           254020.268\n",
       "Skew:                           1.914   Prob(JB):                         0.00\n",
       "Kurtosis:                      19.359   Cond. No.                     2.62e+05\n",
       "==============================================================================\n",
       "\n",
       "Notes:\n",
       "[1] Standard Errors assume that the covariance matrix of the errors is correctly specified.\n",
       "[2] The condition number is large, 2.62e+05. This might indicate that there are\n",
       "strong multicollinearity or other numerical problems.\n",
       "\"\"\""
      ]
     },
     "execution_count": 372,
     "metadata": {},
     "output_type": "execute_result"
    }
   ],
   "source": [
    "# Fifth Model Summary\n",
    "X5 = fifth_model.drop(['price'], axis=1)\n",
    "y5 = fifth_model['price']\n",
    "\n",
    "X_int = sm.add_constant(X5)\n",
    "model = sm.OLS(y5,X_int).fit()\n",
    "model.summary()"
   ]
  },
  {
   "cell_type": "markdown",
   "metadata": {},
   "source": [
    "### Dollar value changes for predictors in Fifth model.\n",
    "* For every increase in 1 square foot, the price increases by 211.46 dollars\n",
    "    * This is an increase of 105,730.00 dollars for every 500 square feet.\n",
    "* For every additional bedroom, the price decreases by 42,200 dollars.\n",
    "    * This is an issue in our model because homes with fewer bedrooms are likely to cost more than homes with more bedrooms - likely conflated by other variables such as location.\n",
    "* For each additional bathroom, the price of a home increses by 55,570 dollars.\n",
    "* For every year a house becomes older, it decreases in value by 3,088.82 dollars.\n",
    "* Each additional floor increases the value of a home by 56,440.00\n",
    "* Improving the view from Fair to Excellent will increase the value of a home by 163,100 dollars.\n",
    "    * Improving view from Fair to Good will increase the value of a home by only 4700 dollars.\n",
    "* Improving the grade of a house from Fair to Excellent, which would require significant renovations and additions, improves the value of a house by 546,200 dollars.\n",
    "    * Improving the grade of a house from Low to Fair will only increase the value by 26,020 dollars."
   ]
  },
  {
   "cell_type": "markdown",
   "metadata": {},
   "source": [
    "## Un-Normalize Coefficients"
   ]
  },
  {
   "cell_type": "code",
   "execution_count": 375,
   "metadata": {
    "ExecuteTime": {
     "end_time": "2022-02-25T17:50:50.811992Z",
     "start_time": "2022-02-25T17:50:50.696938Z"
    }
   },
   "outputs": [
    {
     "ename": "ValueError",
     "evalue": "arrays must all be same length",
     "output_type": "error",
     "traceback": [
      "\u001b[0;31m---------------------------------------------------------------------------\u001b[0m",
      "\u001b[0;31mValueError\u001b[0m                                Traceback (most recent call last)",
      "\u001b[0;32m<ipython-input-375-5d2e1a5bed38>\u001b[0m in \u001b[0;36m<module>\u001b[0;34m\u001b[0m\n\u001b[1;32m      6\u001b[0m \u001b[0morig_coefs\u001b[0m \u001b[0;34m=\u001b[0m \u001b[0mlr\u001b[0m\u001b[0;34m.\u001b[0m\u001b[0mcoef_\u001b[0m\u001b[0;34m\u001b[0m\u001b[0;34m\u001b[0m\u001b[0m\n\u001b[1;32m      7\u001b[0m \u001b[0;34m\u001b[0m\u001b[0m\n\u001b[0;32m----> 8\u001b[0;31m coefs1 = pd.DataFrame(\n\u001b[0m\u001b[1;32m      9\u001b[0m     data={\n\u001b[1;32m     10\u001b[0m         \u001b[0;34m'feature'\u001b[0m\u001b[0;34m:\u001b[0m \u001b[0mremove_outliers\u001b[0m\u001b[0;34m.\u001b[0m\u001b[0mdrop\u001b[0m\u001b[0;34m(\u001b[0m\u001b[0;34m[\u001b[0m\u001b[0;34m'price_log'\u001b[0m\u001b[0;34m]\u001b[0m\u001b[0;34m,\u001b[0m \u001b[0maxis\u001b[0m\u001b[0;34m=\u001b[0m\u001b[0;36m1\u001b[0m\u001b[0;34m)\u001b[0m\u001b[0;34m.\u001b[0m\u001b[0mcolumns\u001b[0m\u001b[0;34m,\u001b[0m\u001b[0;34m\u001b[0m\u001b[0;34m\u001b[0m\u001b[0m\n",
      "\u001b[0;32m~/opt/anaconda3/envs/learn-env/lib/python3.8/site-packages/pandas/core/frame.py\u001b[0m in \u001b[0;36m__init__\u001b[0;34m(self, data, index, columns, dtype, copy)\u001b[0m\n\u001b[1;32m    466\u001b[0m \u001b[0;34m\u001b[0m\u001b[0m\n\u001b[1;32m    467\u001b[0m         \u001b[0;32melif\u001b[0m \u001b[0misinstance\u001b[0m\u001b[0;34m(\u001b[0m\u001b[0mdata\u001b[0m\u001b[0;34m,\u001b[0m \u001b[0mdict\u001b[0m\u001b[0;34m)\u001b[0m\u001b[0;34m:\u001b[0m\u001b[0;34m\u001b[0m\u001b[0;34m\u001b[0m\u001b[0m\n\u001b[0;32m--> 468\u001b[0;31m             \u001b[0mmgr\u001b[0m \u001b[0;34m=\u001b[0m \u001b[0minit_dict\u001b[0m\u001b[0;34m(\u001b[0m\u001b[0mdata\u001b[0m\u001b[0;34m,\u001b[0m \u001b[0mindex\u001b[0m\u001b[0;34m,\u001b[0m \u001b[0mcolumns\u001b[0m\u001b[0;34m,\u001b[0m \u001b[0mdtype\u001b[0m\u001b[0;34m=\u001b[0m\u001b[0mdtype\u001b[0m\u001b[0;34m)\u001b[0m\u001b[0;34m\u001b[0m\u001b[0;34m\u001b[0m\u001b[0m\n\u001b[0m\u001b[1;32m    469\u001b[0m         \u001b[0;32melif\u001b[0m \u001b[0misinstance\u001b[0m\u001b[0;34m(\u001b[0m\u001b[0mdata\u001b[0m\u001b[0;34m,\u001b[0m \u001b[0mma\u001b[0m\u001b[0;34m.\u001b[0m\u001b[0mMaskedArray\u001b[0m\u001b[0;34m)\u001b[0m\u001b[0;34m:\u001b[0m\u001b[0;34m\u001b[0m\u001b[0;34m\u001b[0m\u001b[0m\n\u001b[1;32m    470\u001b[0m             \u001b[0;32mimport\u001b[0m \u001b[0mnumpy\u001b[0m\u001b[0;34m.\u001b[0m\u001b[0mma\u001b[0m\u001b[0;34m.\u001b[0m\u001b[0mmrecords\u001b[0m \u001b[0;32mas\u001b[0m \u001b[0mmrecords\u001b[0m\u001b[0;34m\u001b[0m\u001b[0;34m\u001b[0m\u001b[0m\n",
      "\u001b[0;32m~/opt/anaconda3/envs/learn-env/lib/python3.8/site-packages/pandas/core/internals/construction.py\u001b[0m in \u001b[0;36minit_dict\u001b[0;34m(data, index, columns, dtype)\u001b[0m\n\u001b[1;32m    281\u001b[0m             \u001b[0marr\u001b[0m \u001b[0;32mif\u001b[0m \u001b[0;32mnot\u001b[0m \u001b[0mis_datetime64tz_dtype\u001b[0m\u001b[0;34m(\u001b[0m\u001b[0marr\u001b[0m\u001b[0;34m)\u001b[0m \u001b[0;32melse\u001b[0m \u001b[0marr\u001b[0m\u001b[0;34m.\u001b[0m\u001b[0mcopy\u001b[0m\u001b[0;34m(\u001b[0m\u001b[0;34m)\u001b[0m \u001b[0;32mfor\u001b[0m \u001b[0marr\u001b[0m \u001b[0;32min\u001b[0m \u001b[0marrays\u001b[0m\u001b[0;34m\u001b[0m\u001b[0;34m\u001b[0m\u001b[0m\n\u001b[1;32m    282\u001b[0m         ]\n\u001b[0;32m--> 283\u001b[0;31m     \u001b[0;32mreturn\u001b[0m \u001b[0marrays_to_mgr\u001b[0m\u001b[0;34m(\u001b[0m\u001b[0marrays\u001b[0m\u001b[0;34m,\u001b[0m \u001b[0mdata_names\u001b[0m\u001b[0;34m,\u001b[0m \u001b[0mindex\u001b[0m\u001b[0;34m,\u001b[0m \u001b[0mcolumns\u001b[0m\u001b[0;34m,\u001b[0m \u001b[0mdtype\u001b[0m\u001b[0;34m=\u001b[0m\u001b[0mdtype\u001b[0m\u001b[0;34m)\u001b[0m\u001b[0;34m\u001b[0m\u001b[0;34m\u001b[0m\u001b[0m\n\u001b[0m\u001b[1;32m    284\u001b[0m \u001b[0;34m\u001b[0m\u001b[0m\n\u001b[1;32m    285\u001b[0m \u001b[0;34m\u001b[0m\u001b[0m\n",
      "\u001b[0;32m~/opt/anaconda3/envs/learn-env/lib/python3.8/site-packages/pandas/core/internals/construction.py\u001b[0m in \u001b[0;36marrays_to_mgr\u001b[0;34m(arrays, arr_names, index, columns, dtype, verify_integrity)\u001b[0m\n\u001b[1;32m     76\u001b[0m         \u001b[0;31m# figure out the index, if necessary\u001b[0m\u001b[0;34m\u001b[0m\u001b[0;34m\u001b[0m\u001b[0;34m\u001b[0m\u001b[0m\n\u001b[1;32m     77\u001b[0m         \u001b[0;32mif\u001b[0m \u001b[0mindex\u001b[0m \u001b[0;32mis\u001b[0m \u001b[0;32mNone\u001b[0m\u001b[0;34m:\u001b[0m\u001b[0;34m\u001b[0m\u001b[0;34m\u001b[0m\u001b[0m\n\u001b[0;32m---> 78\u001b[0;31m             \u001b[0mindex\u001b[0m \u001b[0;34m=\u001b[0m \u001b[0mextract_index\u001b[0m\u001b[0;34m(\u001b[0m\u001b[0marrays\u001b[0m\u001b[0;34m)\u001b[0m\u001b[0;34m\u001b[0m\u001b[0;34m\u001b[0m\u001b[0m\n\u001b[0m\u001b[1;32m     79\u001b[0m         \u001b[0;32melse\u001b[0m\u001b[0;34m:\u001b[0m\u001b[0;34m\u001b[0m\u001b[0;34m\u001b[0m\u001b[0m\n\u001b[1;32m     80\u001b[0m             \u001b[0mindex\u001b[0m \u001b[0;34m=\u001b[0m \u001b[0mensure_index\u001b[0m\u001b[0;34m(\u001b[0m\u001b[0mindex\u001b[0m\u001b[0;34m)\u001b[0m\u001b[0;34m\u001b[0m\u001b[0;34m\u001b[0m\u001b[0m\n",
      "\u001b[0;32m~/opt/anaconda3/envs/learn-env/lib/python3.8/site-packages/pandas/core/internals/construction.py\u001b[0m in \u001b[0;36mextract_index\u001b[0;34m(data)\u001b[0m\n\u001b[1;32m    395\u001b[0m             \u001b[0mlengths\u001b[0m \u001b[0;34m=\u001b[0m \u001b[0mlist\u001b[0m\u001b[0;34m(\u001b[0m\u001b[0mset\u001b[0m\u001b[0;34m(\u001b[0m\u001b[0mraw_lengths\u001b[0m\u001b[0;34m)\u001b[0m\u001b[0;34m)\u001b[0m\u001b[0;34m\u001b[0m\u001b[0;34m\u001b[0m\u001b[0m\n\u001b[1;32m    396\u001b[0m             \u001b[0;32mif\u001b[0m \u001b[0mlen\u001b[0m\u001b[0;34m(\u001b[0m\u001b[0mlengths\u001b[0m\u001b[0;34m)\u001b[0m \u001b[0;34m>\u001b[0m \u001b[0;36m1\u001b[0m\u001b[0;34m:\u001b[0m\u001b[0;34m\u001b[0m\u001b[0;34m\u001b[0m\u001b[0m\n\u001b[0;32m--> 397\u001b[0;31m                 \u001b[0;32mraise\u001b[0m \u001b[0mValueError\u001b[0m\u001b[0;34m(\u001b[0m\u001b[0;34m\"arrays must all be same length\"\u001b[0m\u001b[0;34m)\u001b[0m\u001b[0;34m\u001b[0m\u001b[0;34m\u001b[0m\u001b[0m\n\u001b[0m\u001b[1;32m    398\u001b[0m \u001b[0;34m\u001b[0m\u001b[0m\n\u001b[1;32m    399\u001b[0m             \u001b[0;32mif\u001b[0m \u001b[0mhave_dicts\u001b[0m\u001b[0;34m:\u001b[0m\u001b[0;34m\u001b[0m\u001b[0;34m\u001b[0m\u001b[0m\n",
      "\u001b[0;31mValueError\u001b[0m: arrays must all be same length"
     ]
    }
   ],
   "source": [
    "# form data frame with coefficients\n",
    "\n",
    "lr = LinearRegression()\n",
    "lr.fit(X_final,y_final)\n",
    "\n",
    "orig_coefs = lr.coef_\n",
    "\n",
    "coefs1 = pd.DataFrame(\n",
    "    data={\n",
    "        'feature': final_model.drop(['price_log'], axis=1).columns, \n",
    "        'orig_coef' : orig_coefs, \n",
    "    }\n",
    ")\n",
    "coefs1"
   ]
  },
  {
   "cell_type": "code",
   "execution_count": 370,
   "metadata": {
    "ExecuteTime": {
     "end_time": "2022-02-25T17:49:15.088406Z",
     "start_time": "2022-02-25T17:49:15.081736Z"
    }
   },
   "outputs": [
    {
     "data": {
      "text/plain": [
       "0.5017386918294893"
      ]
     },
     "execution_count": 370,
     "metadata": {},
     "output_type": "execute_result"
    }
   ],
   "source": [
    "# finding coefficient in this data frame\n",
    "coefs1.iloc[0]['orig_coef']"
   ]
  },
  {
   "cell_type": "code",
   "execution_count": 358,
   "metadata": {
    "ExecuteTime": {
     "end_time": "2022-02-25T17:30:00.268709Z",
     "start_time": "2022-02-25T17:30:00.218748Z"
    }
   },
   "outputs": [
    {
     "name": "stdout",
     "output_type": "stream",
     "text": [
      "<class 'pandas.core.frame.DataFrame'>\n",
      "RangeIndex: 21597 entries, 0 to 21596\n",
      "Data columns (total 4 columns):\n",
      " #   Column           Non-Null Count  Dtype  \n",
      "---  ------           --------------  -----  \n",
      " 0   sqft_living_log  21597 non-null  float64\n",
      " 1   bathrooms_log    21597 non-null  float64\n",
      " 2   bedrooms_log     21597 non-null  float64\n",
      " 3   price_log        21597 non-null  float64\n",
      "dtypes: float64(4)\n",
      "memory usage: 675.0 KB\n",
      "None\n",
      "<class 'pandas.core.frame.DataFrame'>\n",
      "RangeIndex: 21597 entries, 0 to 21596\n",
      "Data columns (total 2 columns):\n",
      " #   Column        Non-Null Count  Dtype  \n",
      "---  ------        --------------  -----  \n",
      " 0   yr_built_log  21597 non-null  float64\n",
      " 1   floors_log    21597 non-null  float64\n",
      "dtypes: float64(2)\n",
      "memory usage: 337.6 KB\n",
      "None\n",
      "<class 'pandas.core.frame.DataFrame'>\n",
      "RangeIndex: 21597 entries, 0 to 21596\n",
      "Data columns (total 6 columns):\n",
      " #   Column           Non-Null Count  Dtype  \n",
      "---  ------           --------------  -----  \n",
      " 0   sqft_living_log  21597 non-null  float64\n",
      " 1   bathrooms_log    21597 non-null  float64\n",
      " 2   bedrooms_log     21597 non-null  float64\n",
      " 3   price_log        21597 non-null  float64\n",
      " 4   yr_built_log     21597 non-null  float64\n",
      " 5   floors_log       21597 non-null  float64\n",
      "dtypes: float64(6)\n",
      "memory usage: 1012.5 KB\n",
      "None\n"
     ]
    }
   ],
   "source": [
    "# find and re-name logged data frames\n",
    "# need to pull diff data frames so outliers are dropped\n",
    "\n",
    "print(house_log.info())\n",
    "print(house_log2.info())\n",
    "\n",
    "house_log3 = pd.concat([house_log, house_log2], axis=1)\n",
    "print(house_log3.info())"
   ]
  },
  {
   "cell_type": "markdown",
   "metadata": {
    "ExecuteTime": {
     "end_time": "2022-02-25T17:16:04.514406Z",
     "start_time": "2022-02-25T17:16:04.506623Z"
    }
   },
   "source": [
    "### remove outliers from house_log3['price_log']"
   ]
  },
  {
   "cell_type": "code",
   "execution_count": 359,
   "metadata": {
    "ExecuteTime": {
     "end_time": "2022-02-25T17:30:01.513248Z",
     "start_time": "2022-02-25T17:30:01.499460Z"
    }
   },
   "outputs": [
    {
     "name": "stdout",
     "output_type": "stream",
     "text": [
      "lower quantile: 11.56171562913966\n",
      "upper quantile: 14.978661367769956\n"
     ]
    }
   ],
   "source": [
    "print('lower quantile:',house_log3['price_log'].quantile(q=.0015))\n",
    "print('upper quantile:',house_log3['price_log'].quantile(q=.9985))"
   ]
  },
  {
   "cell_type": "code",
   "execution_count": 360,
   "metadata": {
    "ExecuteTime": {
     "end_time": "2022-02-25T17:30:02.171388Z",
     "start_time": "2022-02-25T17:30:02.138342Z"
    }
   },
   "outputs": [
    {
     "name": "stdout",
     "output_type": "stream",
     "text": [
      "<class 'pandas.core.frame.DataFrame'>\n",
      "Int64Index: 21419 entries, 0 to 21596\n",
      "Data columns (total 6 columns):\n",
      " #   Column           Non-Null Count  Dtype  \n",
      "---  ------           --------------  -----  \n",
      " 0   sqft_living_log  21419 non-null  float64\n",
      " 1   bathrooms_log    21419 non-null  float64\n",
      " 2   bedrooms_log     21419 non-null  float64\n",
      " 3   price_log        21419 non-null  float64\n",
      " 4   yr_built_log     21419 non-null  float64\n",
      " 5   floors_log       21419 non-null  float64\n",
      "dtypes: float64(6)\n",
      "memory usage: 1.1 MB\n"
     ]
    }
   ],
   "source": [
    "# match removed outliers to final_model\n",
    "trim_log3 = house_log3[(house_log3['price_log'] > 11.56) & (\n",
    "    house_log3['price_log'] < 14.6265)]\n",
    "trim_log3.info()"
   ]
  },
  {
   "cell_type": "markdown",
   "metadata": {},
   "source": [
    "### Comparing coefficients in house_log3 to calculated values\n",
    "* They do not compare well - I am not sure why the values are so different"
   ]
  },
  {
   "cell_type": "code",
   "execution_count": 361,
   "metadata": {
    "ExecuteTime": {
     "end_time": "2022-02-25T17:30:04.224450Z",
     "start_time": "2022-02-25T17:30:04.132628Z"
    }
   },
   "outputs": [
    {
     "data": {
      "text/html": [
       "<table class=\"simpletable\">\n",
       "<caption>OLS Regression Results</caption>\n",
       "<tr>\n",
       "  <th>Dep. Variable:</th>        <td>price_log</td>    <th>  R-squared:         </th> <td>   0.525</td> \n",
       "</tr>\n",
       "<tr>\n",
       "  <th>Model:</th>                   <td>OLS</td>       <th>  Adj. R-squared:    </th> <td>   0.525</td> \n",
       "</tr>\n",
       "<tr>\n",
       "  <th>Method:</th>             <td>Least Squares</td>  <th>  F-statistic:       </th> <td>   4766.</td> \n",
       "</tr>\n",
       "<tr>\n",
       "  <th>Date:</th>             <td>Fri, 25 Feb 2022</td> <th>  Prob (F-statistic):</th>  <td>  0.00</td>  \n",
       "</tr>\n",
       "<tr>\n",
       "  <th>Time:</th>                 <td>10:30:04</td>     <th>  Log-Likelihood:    </th> <td> -8761.6</td> \n",
       "</tr>\n",
       "<tr>\n",
       "  <th>No. Observations:</th>      <td> 21597</td>      <th>  AIC:               </th> <td>1.754e+04</td>\n",
       "</tr>\n",
       "<tr>\n",
       "  <th>Df Residuals:</th>          <td> 21591</td>      <th>  BIC:               </th> <td>1.758e+04</td>\n",
       "</tr>\n",
       "<tr>\n",
       "  <th>Df Model:</th>              <td>     5</td>      <th>                     </th>     <td> </td>    \n",
       "</tr>\n",
       "<tr>\n",
       "  <th>Covariance Type:</th>      <td>nonrobust</td>    <th>                     </th>     <td> </td>    \n",
       "</tr>\n",
       "</table>\n",
       "<table class=\"simpletable\">\n",
       "<tr>\n",
       "         <td></td>            <th>coef</th>     <th>std err</th>      <th>t</th>      <th>P>|t|</th>  <th>[0.025</th>    <th>0.975]</th>  \n",
       "</tr>\n",
       "<tr>\n",
       "  <th>const</th>           <td>   81.0346</td> <td>    1.557</td> <td>   52.059</td> <td> 0.000</td> <td>   77.984</td> <td>   84.086</td>\n",
       "</tr>\n",
       "<tr>\n",
       "  <th>sqft_living_log</th> <td>    0.9011</td> <td>    0.010</td> <td>   89.795</td> <td> 0.000</td> <td>    0.881</td> <td>    0.921</td>\n",
       "</tr>\n",
       "<tr>\n",
       "  <th>bathrooms_log</th>   <td>    0.1935</td> <td>    0.011</td> <td>   17.325</td> <td> 0.000</td> <td>    0.172</td> <td>    0.215</td>\n",
       "</tr>\n",
       "<tr>\n",
       "  <th>bedrooms_log</th>    <td>   -0.3324</td> <td>    0.012</td> <td>  -28.712</td> <td> 0.000</td> <td>   -0.355</td> <td>   -0.310</td>\n",
       "</tr>\n",
       "<tr>\n",
       "  <th>yr_built_log</th>    <td>   -9.8333</td> <td>    0.205</td> <td>  -48.050</td> <td> 0.000</td> <td>  -10.234</td> <td>   -9.432</td>\n",
       "</tr>\n",
       "<tr>\n",
       "  <th>floors_log</th>      <td>    0.1996</td> <td>    0.009</td> <td>   23.444</td> <td> 0.000</td> <td>    0.183</td> <td>    0.216</td>\n",
       "</tr>\n",
       "</table>\n",
       "<table class=\"simpletable\">\n",
       "<tr>\n",
       "  <th>Omnibus:</th>       <td> 8.847</td> <th>  Durbin-Watson:     </th> <td>   1.971</td>\n",
       "</tr>\n",
       "<tr>\n",
       "  <th>Prob(Omnibus):</th> <td> 0.012</td> <th>  Jarque-Bera (JB):  </th> <td>   9.325</td>\n",
       "</tr>\n",
       "<tr>\n",
       "  <th>Skew:</th>          <td> 0.023</td> <th>  Prob(JB):          </th> <td> 0.00944</td>\n",
       "</tr>\n",
       "<tr>\n",
       "  <th>Kurtosis:</th>      <td> 3.090</td> <th>  Cond. No.          </th> <td>6.89e+03</td>\n",
       "</tr>\n",
       "</table><br/><br/>Notes:<br/>[1] Standard Errors assume that the covariance matrix of the errors is correctly specified.<br/>[2] The condition number is large, 6.89e+03. This might indicate that there are<br/>strong multicollinearity or other numerical problems."
      ],
      "text/plain": [
       "<class 'statsmodels.iolib.summary.Summary'>\n",
       "\"\"\"\n",
       "                            OLS Regression Results                            \n",
       "==============================================================================\n",
       "Dep. Variable:              price_log   R-squared:                       0.525\n",
       "Model:                            OLS   Adj. R-squared:                  0.525\n",
       "Method:                 Least Squares   F-statistic:                     4766.\n",
       "Date:                Fri, 25 Feb 2022   Prob (F-statistic):               0.00\n",
       "Time:                        10:30:04   Log-Likelihood:                -8761.6\n",
       "No. Observations:               21597   AIC:                         1.754e+04\n",
       "Df Residuals:                   21591   BIC:                         1.758e+04\n",
       "Df Model:                           5                                         \n",
       "Covariance Type:            nonrobust                                         \n",
       "===================================================================================\n",
       "                      coef    std err          t      P>|t|      [0.025      0.975]\n",
       "-----------------------------------------------------------------------------------\n",
       "const              81.0346      1.557     52.059      0.000      77.984      84.086\n",
       "sqft_living_log     0.9011      0.010     89.795      0.000       0.881       0.921\n",
       "bathrooms_log       0.1935      0.011     17.325      0.000       0.172       0.215\n",
       "bedrooms_log       -0.3324      0.012    -28.712      0.000      -0.355      -0.310\n",
       "yr_built_log       -9.8333      0.205    -48.050      0.000     -10.234      -9.432\n",
       "floors_log          0.1996      0.009     23.444      0.000       0.183       0.216\n",
       "==============================================================================\n",
       "Omnibus:                        8.847   Durbin-Watson:                   1.971\n",
       "Prob(Omnibus):                  0.012   Jarque-Bera (JB):                9.325\n",
       "Skew:                           0.023   Prob(JB):                      0.00944\n",
       "Kurtosis:                       3.090   Cond. No.                     6.89e+03\n",
       "==============================================================================\n",
       "\n",
       "Notes:\n",
       "[1] Standard Errors assume that the covariance matrix of the errors is correctly specified.\n",
       "[2] The condition number is large, 6.89e+03. This might indicate that there are\n",
       "strong multicollinearity or other numerical problems.\n",
       "\"\"\""
      ]
     },
     "execution_count": 361,
     "metadata": {},
     "output_type": "execute_result"
    }
   ],
   "source": [
    "# Model summary of house_log3\n",
    "X_log = house_log3.drop(['price_log'], axis=1)\n",
    "y_log = house_log3['price_log']\n",
    "\n",
    "X_int = sm.add_constant(X_log)\n",
    "model = sm.OLS(y_log,X_int).fit()\n",
    "model.summary()"
   ]
  },
  {
   "cell_type": "markdown",
   "metadata": {},
   "source": [
    "### Set up equation "
   ]
  },
  {
   "cell_type": "code",
   "execution_count": 363,
   "metadata": {
    "ExecuteTime": {
     "end_time": "2022-02-25T17:30:37.895271Z",
     "start_time": "2022-02-25T17:30:37.878306Z"
    }
   },
   "outputs": [
    {
     "name": "stdout",
     "output_type": "stream",
     "text": [
      "Un-normalized coefficient of sqft_living: 7.763553476071037\n",
      "\n",
      "Calculated, un-normalized, log inverted, coeff of sqft_living: 2353.251990011895\n"
     ]
    }
   ],
   "source": [
    "# convert normalized value to logged value for logged and normalized \n",
    "# coefficient of sqft_living\n",
    "\n",
    "un_normalized_sqft_living_coeff = (((coefs1.iloc[0]['orig_coef']) \n",
    "                        * house_log3['sqft_living_log'].std())\n",
    "                        + house_log3['sqft_living_log'].mean())\n",
    "\n",
    "# print result\n",
    "print(\"Un-normalized coefficient of sqft_living:\", \n",
    "      un_normalized_sqft_living_coeff)\n",
    "print()\n",
    "\n",
    "# invert natural log\n",
    "orig_coeff_sqft_living = np.exp(un_normalized_sqft_living_coeff)\n",
    "\n",
    "# print result\n",
    "print(\"Calculated, un-normalized, log inverted, coeff of sqft_living:\", \n",
    "      orig_coeff_sqft_living)"
   ]
  },
  {
   "cell_type": "markdown",
   "metadata": {},
   "source": [
    "### Calculated Value of Un-normalized, Log-inverted, Coefficient of sqft_living\n",
    "* The calculated value of 2370.37 does not seem realistic to me.\n",
    "    * An increase of that magnitude would mean houses rise in value by 1,185,000.00 dollars for every additional 500 square feet."
   ]
  },
  {
   "cell_type": "markdown",
   "metadata": {},
   "source": [
    "### Revert normalized coefficients of numerical values to log values\n",
    "* This does not provide the actual coefficients of the logged values of the original data set, so I do not think they are valuable.\n",
    "* They represent a value close to the logged mean, which is not the same as the coefficient of the logged data set.\n",
    "* The logged data set can provide a percent change based on the coefficient, but these values cannot provide an accurate percent change."
   ]
  },
  {
   "cell_type": "code",
   "execution_count": 367,
   "metadata": {
    "ExecuteTime": {
     "end_time": "2022-02-25T17:37:47.962531Z",
     "start_time": "2022-02-25T17:37:47.916270Z"
    }
   },
   "outputs": [
    {
     "name": "stdout",
     "output_type": "stream",
     "text": [
      "Un-normalized coefficient of sqft_living: 7.763553476071037\n",
      "\n",
      "Un-normalized coefficient of bathrooms: 0.7172361077358341\n",
      "\n",
      "Un-normalized coefficient of bedrooms: 1.146554883243613\n",
      "\n",
      "Un-normalized coefficient of yr_built: 7.587919031041344\n",
      "\n",
      "Un-normalized coefficient of floors: 0.3581487042643121\n",
      "\n",
      "Un-normalized coefficient of price: 13.077618171068272\n"
     ]
    }
   ],
   "source": [
    "log_sqft_living_coeff = (((coefs1.iloc[0]['orig_coef']) \n",
    "                        * house_log3['sqft_living_log'].std())\n",
    "                        + house_log3['sqft_living_log'].mean())\n",
    "\n",
    "log_bathrooms_coeff = (((coefs1.iloc[1]['orig_coef']) \n",
    "                        * house_log3['bathrooms_log'].std())\n",
    "                        + house_log3['bathrooms_log'].mean())\n",
    "\n",
    "log_bedrooms_coeff = (((coefs1.iloc[2]['orig_coef']) \n",
    "                        * house_log3['bedrooms_log'].std())\n",
    "                        + house_log3['bedrooms_log'].mean())\n",
    "\n",
    "log_yr_built_coeff = (((coefs1.iloc[19]['orig_coef']) \n",
    "                        * house_log3['yr_built_log'].std())\n",
    "                        + house_log3['yr_built_log'].mean())\n",
    "\n",
    "log_floors_coeff = (((coefs1.iloc[20]['orig_coef']) \n",
    "                        * house_log3['floors_log'].std())\n",
    "                        + house_log3['floors_log'].mean())\n",
    "\n",
    "log_price_coeff = (((coefs1.iloc[20]['orig_coef']) \n",
    "                        * house_log3['price_log'].std())\n",
    "                        + house_log3['price_log'].mean())\n",
    "\n",
    "# print results\n",
    "print(\"Un-normalized coefficient of sqft_living:\", \n",
    "      log_sqft_living_coeff)\n",
    "print()\n",
    "print(\"Un-normalized coefficient of bathrooms:\", \n",
    "      log_bathrooms_coeff)\n",
    "print()\n",
    "print(\"Un-normalized coefficient of bedrooms:\", \n",
    "      log_bedrooms_coeff)\n",
    "print()\n",
    "print(\"Un-normalized coefficient of yr_built:\", \n",
    "      log_yr_built_coeff)\n",
    "print()\n",
    "print(\"Un-normalized coefficient of floors:\", \n",
    "      log_floors_coeff)\n",
    "print()\n",
    "print(\"Un-normalized coefficient of price:\", \n",
    "      log_price_coeff)"
   ]
  },
  {
   "cell_type": "code",
   "execution_count": 399,
   "metadata": {
    "ExecuteTime": {
     "end_time": "2022-02-24T19:49:23.194835Z",
     "start_time": "2022-02-24T19:49:23.186664Z"
    }
   },
   "outputs": [
    {
     "name": "stdout",
     "output_type": "stream",
     "text": [
      "0.42419100991702274\n",
      "7.55072043366944\n"
     ]
    }
   ],
   "source": [
    "# double-check values of sqft_living_log in house_log3\n",
    "print(house_log3['sqft_living_log'].std())\n",
    "print(house_log3['sqft_living_log'].mean())"
   ]
  },
  {
   "cell_type": "code",
   "execution_count": 400,
   "metadata": {
    "ExecuteTime": {
     "end_time": "2022-02-24T19:51:04.496466Z",
     "start_time": "2022-02-24T19:51:04.120413Z"
    }
   },
   "outputs": [
    {
     "data": {
      "text/plain": [
       "<AxesSubplot:>"
      ]
     },
     "execution_count": 400,
     "metadata": {},
     "output_type": "execute_result"
    },
    {
     "data": {
      "image/png": "[encoded data removed]",
      "text/plain": [
       "<Figure size 432x288 with 1 Axes>"
      ]
     },
     "metadata": {
      "needs_background": "light"
     },
     "output_type": "display_data"
    }
   ],
   "source": [
    "house_df['sqft_living'].hist(bins=20)"
   ]
  },
  {
   "cell_type": "markdown",
   "metadata": {},
   "source": [
    "### Converting logged and normalized coefficients to original value, does not provide a coefficient for the original data set.\n",
    "* They provide a value that is near the mean of the data, not a coefficient.\n",
    "    * The value is near the mean because the conversion from the normalized value to the logged value results in a value near the mean, as the normalized values center upon the mean.\n",
    "* We would need to convert all of the values in the normalized data frame to logged, then find the inverse of the log, then run a summary.\n",
    "    * At this point, we would be running a summary of the original data."
   ]
  },
  {
   "cell_type": "markdown",
   "metadata": {},
   "source": [
    "# Recommendations"
   ]
  },
  {
   "cell_type": "markdown",
   "metadata": {},
   "source": [
    "## Renovate Interior\n",
    "* Grade and Condition score increases were correlated to large price increases.\n",
    "* Spending on an interior renovation, especially in regards to the whole house being considered very good to luxury is likely to increase sale price."
   ]
  },
  {
   "cell_type": "markdown",
   "metadata": {},
   "source": [
    "## Create a View\n",
    "* Add larger windows that face pleasant scenery.\n",
    "* Add a deck or rooftop deck to enhance access to outdoor views.\n",
    "* Landscape and design views from windows to include desirable plants and scenery."
   ]
  },
  {
   "cell_type": "markdown",
   "metadata": {},
   "source": [
    "## Add Square Footage\n",
    "* Add liveable space in your home.\n",
    "* Not necessarily bedrooms or bathrooms, though it is better to add bathrooms, in terms of sale price.\n",
    "* Renovate Garage to be fully insulated livable space.\n",
    "* Add a guest cottage with full pluming, electrical, and HVAC.\n"
   ]
  },
  {
   "cell_type": "markdown",
   "metadata": {},
   "source": [
    "# Future Work"
   ]
  },
  {
   "cell_type": "markdown",
   "metadata": {},
   "source": [
    "## Examine other housing data sets to determine if they contain similar trends to predictors in the King County Data Set."
   ]
  },
  {
   "cell_type": "markdown",
   "metadata": {},
   "source": [
    "## Find additional predictors to better estimate how much certain home changes alter sale price. \n",
    "* Type of remodel or home additions.\n",
    "    * Ex. Kitchen, Garage, Patio, additional Bedrooms/Bathrooms."
   ]
  },
  {
   "cell_type": "markdown",
   "metadata": {},
   "source": [
    "## Estimate return on investment for renovations.\n",
    "* How do certain projects increase sale price?\n",
    "    * Example: Is it better to convert a garage to livable space or update a bathroom?\n",
    "* Is it better to spend more to make more, or is there a certain level of spending that reaps a higher gain?"
   ]
  },
  {
   "cell_type": "code",
   "execution_count": null,
   "metadata": {},
   "outputs": [],
   "source": []
  },
  {
   "cell_type": "code",
   "execution_count": null,
   "metadata": {},
   "outputs": [],
   "source": []
  },
  {
   "cell_type": "code",
   "execution_count": 337,
   "metadata": {
    "ExecuteTime": {
     "end_time": "2022-02-22T20:47:12.479247Z",
     "start_time": "2022-02-22T20:47:12.432650Z"
    }
   },
   "outputs": [
    {
     "data": {
      "text/plain": [
       "'\\nI am very curious about making the label encoder \\nwork with numbers that I determine.\\n\\nI wonder if the label encoder will produce different results\\nthan the one hot encoder in terms of the R-squared\\nand variance.\\n'"
      ]
     },
     "execution_count": 337,
     "metadata": {},
     "output_type": "execute_result"
    }
   ],
   "source": [
    "\"\"\"\n",
    "I am very curious about making the label encoder \n",
    "work with numbers that I determine.\n",
    "\n",
    "I wonder if the label encoder will produce different results\n",
    "than the one hot encoder in terms of the R-squared\n",
    "and variance?\n",
    "\"\"\""
   ]
  },
  {
   "cell_type": "code",
   "execution_count": null,
   "metadata": {},
   "outputs": [],
   "source": [
    "# This is where I left off 2/21 - need to do ohe for grade\n",
    "# need to remove 1 column for each ohe variable due to \n",
    "# multicollinearity\n",
    "# next add these to baseline model\n",
    "# move into train, test, split for model to check how well\n",
    "# it performs.\n",
    "\n",
    "# not too many other categories to add, but could do some\n",
    "# engineering/modification of numerical columns to adjust\n",
    "# for outliers\n",
    "\n",
    "# then establish recommendations for renovations."
   ]
  },
  {
   "cell_type": "code",
   "execution_count": 106,
   "metadata": {
    "ExecuteTime": {
     "end_time": "2022-02-22T16:19:12.191983Z",
     "start_time": "2022-02-22T16:19:11.547681Z"
    },
    "scrolled": false
   },
   "outputs": [
    {
     "ename": "NameError",
     "evalue": "name 'view_df' is not defined",
     "output_type": "error",
     "traceback": [
      "\u001b[0;31m---------------------------------------------------------------------------\u001b[0m",
      "\u001b[0;31mNameError\u001b[0m                                 Traceback (most recent call last)",
      "\u001b[0;32m<ipython-input-106-fab0e745304b>\u001b[0m in \u001b[0;36m<module>\u001b[0;34m\u001b[0m\n\u001b[0;32m----> 1\u001b[0;31m \u001b[0mview_df\u001b[0m\u001b[0;34m.\u001b[0m\u001b[0mvalue_counts\u001b[0m\u001b[0;34m(\u001b[0m\u001b[0mdropna\u001b[0m\u001b[0;34m=\u001b[0m\u001b[0;32mFalse\u001b[0m\u001b[0;34m)\u001b[0m\u001b[0;34m\u001b[0m\u001b[0;34m\u001b[0m\u001b[0m\n\u001b[0m",
      "\u001b[0;31mNameError\u001b[0m: name 'view_df' is not defined"
     ]
    }
   ],
   "source": [
    "view_df.value_counts(dropna=False)"
   ]
  },
  {
   "cell_type": "code",
   "execution_count": null,
   "metadata": {
    "ExecuteTime": {
     "end_time": "2022-02-22T16:19:12.197483Z",
     "start_time": "2022-02-22T16:19:01.305Z"
    }
   },
   "outputs": [],
   "source": [
    "# failing to drop nan values from categoricals['view']\n",
    "# categoricals.dropna(subset=['view'], inplace=True)"
   ]
  },
  {
   "cell_type": "code",
   "execution_count": null,
   "metadata": {
    "ExecuteTime": {
     "end_time": "2022-02-22T16:19:12.200874Z",
     "start_time": "2022-02-22T16:19:01.309Z"
    }
   },
   "outputs": [],
   "source": [
    "# Trying to use default dict to replace values \n",
    "\n",
    "# import collections\n",
    "# d = collections.defaultdict(lambda:0)\n",
    "# d[\"NONE\"] = 0\n",
    "# d[\"AVERAGE\"] = 1\n",
    "# d[\"GOOD\"] = 2\n",
    "# d[\"FAIR\"] = 3\n",
    "# d[\"EXCELLENT\"] = 4\n",
    "\n",
    "# print(d[\"NONE\"])"
   ]
  },
  {
   "cell_type": "code",
   "execution_count": null,
   "metadata": {
    "ExecuteTime": {
     "end_time": "2022-02-22T16:19:12.202731Z",
     "start_time": "2022-02-22T16:19:01.315Z"
    }
   },
   "outputs": [],
   "source": [
    "view_df.replace(to_replace =\"NONE\", \n",
    "\n",
    "view_df.replace(to_replace =[\"NONE\"], value =\"0\")"
   ]
  },
  {
   "cell_type": "code",
   "execution_count": null,
   "metadata": {
    "ExecuteTime": {
     "end_time": "2022-02-22T16:19:12.205941Z",
     "start_time": "2022-02-22T16:19:01.321Z"
    }
   },
   "outputs": [],
   "source": [
    "view_df = categoricals['view'].astype('str')\n",
    "\n",
    "view_df.replace({\"NONE\": \"0\", \n",
    "                            \"AVERAGE\": 1,\n",
    "                            \"GOOD\": 2, \n",
    "                            \"FAIR\": 3, \n",
    "                            \"EXCELLENT\": 4})\n",
    "\n",
    "view_df.value_counts(dropna=False)"
   ]
  },
  {
   "cell_type": "code",
   "execution_count": null,
   "metadata": {
    "ExecuteTime": {
     "end_time": "2022-02-22T16:19:12.209762Z",
     "start_time": "2022-02-22T16:19:01.328Z"
    }
   },
   "outputs": [],
   "source": [
    "cat_new.head()"
   ]
  },
  {
   "cell_type": "code",
   "execution_count": null,
   "metadata": {
    "ExecuteTime": {
     "end_time": "2022-02-22T16:19:12.211862Z",
     "start_time": "2022-02-22T16:19:01.334Z"
    }
   },
   "outputs": [],
   "source": [
    "cat_new.to_frame()"
   ]
  },
  {
   "cell_type": "code",
   "execution_count": null,
   "metadata": {
    "ExecuteTime": {
     "end_time": "2022-02-22T16:19:12.214823Z",
     "start_time": "2022-02-22T16:19:01.339Z"
    }
   },
   "outputs": [],
   "source": [
    "categoricals.info()"
   ]
  },
  {
   "cell_type": "code",
   "execution_count": null,
   "metadata": {
    "ExecuteTime": {
     "end_time": "2022-02-22T16:19:12.217310Z",
     "start_time": "2022-02-22T16:19:01.344Z"
    }
   },
   "outputs": [],
   "source": [
    "d_frames = [cat_new, categoricals]\n",
    "\n",
    "# all_cats = pd.concat(d_frames, axis=0, join='outer')\n",
    "categoricals.join(cat_new, lsuffix='grade', rsuffix='view')\n",
    "\n",
    "all_cats.head()"
   ]
  },
  {
   "cell_type": "code",
   "execution_count": null,
   "metadata": {
    "ExecuteTime": {
     "end_time": "2022-02-22T16:19:12.219400Z",
     "start_time": "2022-02-22T16:19:01.348Z"
    }
   },
   "outputs": [],
   "source": [
    "all_cats.shape"
   ]
  },
  {
   "cell_type": "code",
   "execution_count": null,
   "metadata": {
    "ExecuteTime": {
     "end_time": "2022-02-22T16:19:12.221292Z",
     "start_time": "2022-02-22T16:19:01.354Z"
    }
   },
   "outputs": [],
   "source": [
    "categoricals.head()"
   ]
  },
  {
   "cell_type": "code",
   "execution_count": null,
   "metadata": {
    "ExecuteTime": {
     "end_time": "2022-02-22T16:19:12.223686Z",
     "start_time": "2022-02-22T16:19:01.359Z"
    }
   },
   "outputs": [],
   "source": [
    "le = LabelEncoder()\n",
    "\n",
    "cat_view = categoricals['view'].astype('str')\n",
    "\n",
    "le.fit(cat_view)\n",
    "le.transform(cat_view)\n"
   ]
  },
  {
   "cell_type": "code",
   "execution_count": null,
   "metadata": {
    "ExecuteTime": {
     "end_time": "2022-02-22T16:19:12.225582Z",
     "start_time": "2022-02-22T16:19:01.367Z"
    }
   },
   "outputs": [],
   "source": [
    "# Remove nan values from cat_view\n",
    "cat_view.dropna()\n",
    "cat_view.value_counts()"
   ]
  },
  {
   "cell_type": "code",
   "execution_count": null,
   "metadata": {
    "ExecuteTime": {
     "end_time": "2022-02-22T16:19:12.227627Z",
     "start_time": "2022-02-22T16:19:01.373Z"
    }
   },
   "outputs": [],
   "source": [
    "# Encode view categories to numericals\n",
    "view_encoded = lb_make.fit_transform(cat_view)\n",
    "\n",
    "view_encoded"
   ]
  },
  {
   "cell_type": "code",
   "execution_count": null,
   "metadata": {
    "ExecuteTime": {
     "end_time": "2022-02-22T16:19:12.229957Z",
     "start_time": "2022-02-22T16:19:01.378Z"
    }
   },
   "outputs": [],
   "source": [
    "cat_view.value_counts()"
   ]
  },
  {
   "cell_type": "code",
   "execution_count": null,
   "metadata": {
    "ExecuteTime": {
     "end_time": "2022-02-22T16:19:12.232092Z",
     "start_time": "2022-02-22T16:19:01.384Z"
    }
   },
   "outputs": [],
   "source": [
    "view_df = pd.DataFrame(view_encoded)\n",
    "view_df.value_counts()"
   ]
  },
  {
   "cell_type": "code",
   "execution_count": null,
   "metadata": {},
   "outputs": [],
   "source": []
  }
 ],
 "metadata": {
  "kernelspec": {
   "display_name": "Python 3",
   "language": "python",
   "name": "python3"
  },
  "language_info": {
   "codemirror_mode": {
    "name": "ipython",
    "version": 3
   },
   "file_extension": ".py",
   "mimetype": "text/x-python",
   "name": "python",
   "nbconvert_exporter": "python",
   "pygments_lexer": "ipython3",
   "version": "3.8.5"
  },
  "toc": {
   "base_numbering": 1,
   "nav_menu": {},
   "number_sections": true,
   "sideBar": true,
   "skip_h1_title": false,
   "title_cell": "Table of Contents",
   "title_sidebar": "Contents",
   "toc_cell": false,
   "toc_position": {
    "height": "447.273px",
    "left": "771.077px",
    "top": "471.051px",
    "width": "183.011px"
   },
   "toc_section_display": true,
   "toc_window_display": true
  }
 },
 "nbformat": 4,
 "nbformat_minor": 2
}
